{
 "cells": [
  {
   "cell_type": "markdown",
   "id": "544715bc-29bf-4a98-979a-fdf04e4ffd7a",
   "metadata": {},
   "source": [
    "# Business Understanding"
   ]
  },
  {
   "cell_type": "markdown",
   "id": "4d6ae9b7-2f5a-4e4e-9300-1bc438a94f98",
   "metadata": {},
   "source": [
    "The company is interested in expanding its portfolio by becoming involved in the aviation industry, specifically as an owner/operator of aircraft. At this initial fact-finding stage, the company knows nothing about the potential risks involved in owning and operating aircraft as a commercial endeavor.\r\n",
    "\r\n",
    "I have been tasked with helping to determine some of the risks and suggesting which aircraft would be best suited for the company at the beginning stages of their new aviation divisio\n",
    "\n",
    "The stakeholders involved here would include not only the owners of the company, but also the department heads and employees of the aviation division that oversee and operate the aircraft for the company.\n",
    "\n",
    "The goals for this project include recommending what kind of aircraft would provide the least risk for a commercial enterprise and suggesting certain operating protocols to help mitigate those risksn."
   ]
  },
  {
   "cell_type": "markdown",
   "id": "552a1089-504e-45a3-924e-53a4795fbc6d",
   "metadata": {},
   "source": [
    "# Data Understanding"
   ]
  },
  {
   "cell_type": "markdown",
   "id": "322e262d-8ebf-43f5-9f19-9d620595506e",
   "metadata": {},
   "source": [
    "The dataset being made available for this project is the National Transportation Safety Board aviation accident database as hosted on Kaggle.com at <a href=\"https://www.kaggle.com/datasets/khsamaha/aviation-accident-database-synopses\" target=\"_blank\">this link</a>. This dataset contains information about civil aviation accidents mainly in the US and includes many types of aircraft, from hot air balloons and powered parachutes to helicopters and airplanes. The current dataset contains 87,951 unique \"Event ID\" numbers, each representing an aircraft incident. It currently covers the years mainly from 1982 through 2022, with just a handful of accidents recorded before 1982. The dataset has 31 columns for each accident investigation that includes information like date and location, type of aircraft, make and model, injury severity information and number of injured, aircraft damage level, phase of flight for the accident, weather conditions, and reasons for the accident after the investigation is complete.\n",
    "\n",
    "As the project is centered around risks of aviation, this dataset should prove to be a valuable resource for determining what kinds of risks exist in operating aircraft and making recommendations as far as what type of aircraft would be less of an investment risk. The columns detailing injury levels (Fatal, Serious, Minor, and Uninjured) to passengers and crew illuminate the human risks in aviation. Information related to aircraft damage levels will be valuable in terms of the financial risks.\n",
    "\n",
    "Of concern in working with the dataset will be the lack of values in certain columns, especially the aircraft category and the accident reason columns. The \"Aircraft Category\" column is currently 64% empty, and the \"Report Status\" column (which provides a reason for the accident) is over 70% lacking in useful information. These two columns especially will need some in-depth cleaning and preparation before the analysis."
   ]
  },
  {
   "cell_type": "markdown",
   "id": "5d21adb1-10c9-4e72-921b-f8328205eb6b",
   "metadata": {},
   "source": [
    "# Data Preparation"
   ]
  },
  {
   "cell_type": "markdown",
   "id": "819fca67-cd0c-4042-9008-c9bcaa0a1969",
   "metadata": {},
   "source": []
  },
  {
   "cell_type": "code",
   "execution_count": null,
   "id": "8f634d4a-a35b-4264-bd25-9d46e7dd7a0b",
   "metadata": {},
   "outputs": [],
   "source": []
  },
  {
   "cell_type": "markdown",
   "id": "bdb05f92-462f-4266-a43e-c54a4607dbb9",
   "metadata": {},
   "source": [
    "# Exploratory Data Analysis"
   ]
  },
  {
   "cell_type": "markdown",
   "id": "1a5470ee-8947-4850-9eaa-a998e616d37c",
   "metadata": {},
   "source": []
  },
  {
   "cell_type": "markdown",
   "id": "6f398c81-b0fa-49b8-ba1b-8a5aacfb9d8c",
   "metadata": {},
   "source": [
    "# Conclusions"
   ]
  },
  {
   "cell_type": "markdown",
   "id": "5bd4a73d-9c08-443c-8162-e98029d1ebe6",
   "metadata": {},
   "source": []
  },
  {
   "cell_type": "markdown",
   "id": "b2e7e33f-c9ab-4b3d-a53f-91633d800480",
   "metadata": {},
   "source": [
    "## Limitations"
   ]
  },
  {
   "cell_type": "markdown",
   "id": "c403951d-f4f1-4fac-989e-4175bfe4d8cf",
   "metadata": {},
   "source": []
  },
  {
   "cell_type": "markdown",
   "id": "0299e5c9-92e6-4d10-8a4b-644e6e999b83",
   "metadata": {},
   "source": [
    "## Recommendations"
   ]
  },
  {
   "cell_type": "markdown",
   "id": "0e7e0756-37be-4435-aa79-e928859520c3",
   "metadata": {},
   "source": []
  },
  {
   "cell_type": "markdown",
   "id": "47d7193a-00d4-48a5-abbf-11b260205ec7",
   "metadata": {},
   "source": [
    "## Next Steps"
   ]
  },
  {
   "cell_type": "code",
   "execution_count": null,
   "id": "baa17dbc-6135-403d-95cd-1532714ac0be",
   "metadata": {},
   "outputs": [],
   "source": []
  }
 ],
 "metadata": {
  "kernelspec": {
   "display_name": "Python 3 (ipykernel)",
   "language": "python",
   "name": "python3"
  },
  "language_info": {
   "codemirror_mode": {
    "name": "ipython",
    "version": 3
   },
   "file_extension": ".py",
   "mimetype": "text/x-python",
   "name": "python",
   "nbconvert_exporter": "python",
   "pygments_lexer": "ipython3",
   "version": "3.12.4"
  }
 },
 "nbformat": 4,
 "nbformat_minor": 5
}
