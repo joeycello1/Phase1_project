{
 "cells": [
  {
   "cell_type": "markdown",
   "id": "544715bc-29bf-4a98-979a-fdf04e4ffd7a",
   "metadata": {
    "panel-layout": {
     "height": 60.59375,
     "visible": true,
     "width": 100
    }
   },
   "source": [
    "# Business Understanding"
   ]
  },
  {
   "cell_type": "markdown",
   "id": "62ef2c2a-6090-4d63-be6e-087680d5ea88",
   "metadata": {},
   "source": [
    "The business is interested in expanding its portfolio by becoming involved in the aviation industry, specifically as an owner/operator of aircraft. At this initial fact-finding stage, the company knows nothing about the potential risks involved in owning and operating aircraft as a commercial endeavor.\r\n",
    "\r\n",
    "I have been tasked with helping to determine some of the risks and suggesting which aircraft would be best suited for the company at the beginning stages of their new aviation division.\r\n",
    "\r\n",
    "The stakeholders involved here would include not only the owners of the company, but also the department heads and employees of the aviation division that oversee and operate the aircraft for the company.\r\n",
    "\r\n",
    "The goals for this project include recommending what kind of aircraft would provide the least risk for a commercial enterprise and suggesting certain operating protocols to help mitigate those risks."
   ]
  },
  {
   "cell_type": "markdown",
   "id": "552a1089-504e-45a3-924e-53a4795fbc6d",
   "metadata": {
    "panel-layout": {
     "height": 60.59375,
     "visible": true,
     "width": 100
    }
   },
   "source": [
    "# Data Understanding"
   ]
  },
  {
   "cell_type": "markdown",
   "id": "322e262d-8ebf-43f5-9f19-9d620595506e",
   "metadata": {
    "panel-layout": {
     "height": 366.53125,
     "visible": true,
     "width": 100
    }
   },
   "source": [
    "The dataset being made available for this project is the National Transportation Safety Board aviation accident database as hosted on Kaggle.com at <a href=\"https://www.kaggle.com/datasets/khsamaha/aviation-accident-database-synopses\" target=\"_blank\">this link</a>. This dataset contains information about civil aviation accidents mainly in the US and includes many types of aircraft, from hot air balloons and powered parachutes to helicopters and airplanes. The current dataset contains 87,951 unique \"Event ID\" numbers, each representing an aircraft incident. It currently covers the years mainly from 1982 through 2022, with just a handful of accidents recorded before 1982. The dataset has 31 columns for each accident investigation that includes information like date and location, type of aircraft, make and model, injury severity information and number of injured, aircraft damage level, phase of flight for the accident, weather conditions, and reasons for the accident after the investigation is complete.\n",
    "\n",
    "As the project is centered around risks of aviation, this dataset should prove to be a valuable resource for determining what kinds of risks exist in operating aircraft and making recommendations as far as what type of aircraft would be less of an investment risk. The columns detailing injury levels (Fatal, Serious, Minor, and Uninjured) to passengers and crew illuminate the human risks in aviation. Information related to aircraft damage levels will be valuable in terms of the financial risks.\n",
    "\n",
    "Of concern in working with the dataset will be the lack of values in certain columns, especially the aircraft category and the accident reason columns. The \"Aircraft Category\" column is currently 64% empty, and the \"Report Status\" column (which provides a reason for the accident) is over 70% lacking in useful information. These two columns especially will need some in-depth cleaning and preparation."
   ]
  },
  {
   "cell_type": "markdown",
   "id": "5d21adb1-10c9-4e72-921b-f8328205eb6b",
   "metadata": {
    "panel-layout": {
     "height": 60.59375,
     "visible": true,
     "width": 100
    }
   },
   "source": [
    "# Data Preparation"
   ]
  },
  {
   "cell_type": "markdown",
   "id": "819fca67-cd0c-4042-9008-c9bcaa0a1969",
   "metadata": {
    "panel-layout": {
     "height": 10,
     "visible": true,
     "width": 100
    }
   },
   "source": [
    "## Data Cleaning"
   ]
  },
  {
   "cell_type": "markdown",
   "id": "b67a103b-ebd5-4b46-87f3-b8d7dbbb219d",
   "metadata": {},
   "source": [
    "The dataset is named AviationData.csv and is in the data folder"
   ]
  },
  {
   "cell_type": "code",
   "execution_count": 706,
   "id": "8f634d4a-a35b-4264-bd25-9d46e7dd7a0b",
   "metadata": {},
   "outputs": [
    {
     "name": "stderr",
     "output_type": "stream",
     "text": [
      "C:\\Users\\joeyc\\AppData\\Local\\Temp\\ipykernel_9156\\97458938.py:6: DtypeWarning: Columns (6,7,28) have mixed types. Specify dtype option on import or set low_memory=False.\n",
      "  df = pd.read_csv('data/AviationData.csv', encoding='latin-1')\n"
     ]
    },
    {
     "data": {
      "text/html": [
       "<div>\n",
       "<style scoped>\n",
       "    .dataframe tbody tr th:only-of-type {\n",
       "        vertical-align: middle;\n",
       "    }\n",
       "\n",
       "    .dataframe tbody tr th {\n",
       "        vertical-align: top;\n",
       "    }\n",
       "\n",
       "    .dataframe thead th {\n",
       "        text-align: right;\n",
       "    }\n",
       "</style>\n",
       "<table border=\"1\" class=\"dataframe\">\n",
       "  <thead>\n",
       "    <tr style=\"text-align: right;\">\n",
       "      <th></th>\n",
       "      <th>Event.Id</th>\n",
       "      <th>Investigation.Type</th>\n",
       "      <th>Accident.Number</th>\n",
       "      <th>Event.Date</th>\n",
       "      <th>Location</th>\n",
       "      <th>Country</th>\n",
       "      <th>Latitude</th>\n",
       "      <th>Longitude</th>\n",
       "      <th>Airport.Code</th>\n",
       "      <th>Airport.Name</th>\n",
       "      <th>...</th>\n",
       "      <th>Purpose.of.flight</th>\n",
       "      <th>Air.carrier</th>\n",
       "      <th>Total.Fatal.Injuries</th>\n",
       "      <th>Total.Serious.Injuries</th>\n",
       "      <th>Total.Minor.Injuries</th>\n",
       "      <th>Total.Uninjured</th>\n",
       "      <th>Weather.Condition</th>\n",
       "      <th>Broad.phase.of.flight</th>\n",
       "      <th>Report.Status</th>\n",
       "      <th>Publication.Date</th>\n",
       "    </tr>\n",
       "  </thead>\n",
       "  <tbody>\n",
       "    <tr>\n",
       "      <th>0</th>\n",
       "      <td>20001218X45444</td>\n",
       "      <td>Accident</td>\n",
       "      <td>SEA87LA080</td>\n",
       "      <td>1948-10-24</td>\n",
       "      <td>MOOSE CREEK, ID</td>\n",
       "      <td>United States</td>\n",
       "      <td>NaN</td>\n",
       "      <td>NaN</td>\n",
       "      <td>NaN</td>\n",
       "      <td>NaN</td>\n",
       "      <td>...</td>\n",
       "      <td>Personal</td>\n",
       "      <td>NaN</td>\n",
       "      <td>2.0</td>\n",
       "      <td>0.0</td>\n",
       "      <td>0.0</td>\n",
       "      <td>0.0</td>\n",
       "      <td>UNK</td>\n",
       "      <td>Cruise</td>\n",
       "      <td>Probable Cause</td>\n",
       "      <td>NaN</td>\n",
       "    </tr>\n",
       "    <tr>\n",
       "      <th>1</th>\n",
       "      <td>20001218X45447</td>\n",
       "      <td>Accident</td>\n",
       "      <td>LAX94LA336</td>\n",
       "      <td>1962-07-19</td>\n",
       "      <td>BRIDGEPORT, CA</td>\n",
       "      <td>United States</td>\n",
       "      <td>NaN</td>\n",
       "      <td>NaN</td>\n",
       "      <td>NaN</td>\n",
       "      <td>NaN</td>\n",
       "      <td>...</td>\n",
       "      <td>Personal</td>\n",
       "      <td>NaN</td>\n",
       "      <td>4.0</td>\n",
       "      <td>0.0</td>\n",
       "      <td>0.0</td>\n",
       "      <td>0.0</td>\n",
       "      <td>UNK</td>\n",
       "      <td>Unknown</td>\n",
       "      <td>Probable Cause</td>\n",
       "      <td>19-09-1996</td>\n",
       "    </tr>\n",
       "    <tr>\n",
       "      <th>2</th>\n",
       "      <td>20061025X01555</td>\n",
       "      <td>Accident</td>\n",
       "      <td>NYC07LA005</td>\n",
       "      <td>1974-08-30</td>\n",
       "      <td>Saltville, VA</td>\n",
       "      <td>United States</td>\n",
       "      <td>36.922223</td>\n",
       "      <td>-81.878056</td>\n",
       "      <td>NaN</td>\n",
       "      <td>NaN</td>\n",
       "      <td>...</td>\n",
       "      <td>Personal</td>\n",
       "      <td>NaN</td>\n",
       "      <td>3.0</td>\n",
       "      <td>NaN</td>\n",
       "      <td>NaN</td>\n",
       "      <td>NaN</td>\n",
       "      <td>IMC</td>\n",
       "      <td>Cruise</td>\n",
       "      <td>Probable Cause</td>\n",
       "      <td>26-02-2007</td>\n",
       "    </tr>\n",
       "    <tr>\n",
       "      <th>3</th>\n",
       "      <td>20001218X45448</td>\n",
       "      <td>Accident</td>\n",
       "      <td>LAX96LA321</td>\n",
       "      <td>1977-06-19</td>\n",
       "      <td>EUREKA, CA</td>\n",
       "      <td>United States</td>\n",
       "      <td>NaN</td>\n",
       "      <td>NaN</td>\n",
       "      <td>NaN</td>\n",
       "      <td>NaN</td>\n",
       "      <td>...</td>\n",
       "      <td>Personal</td>\n",
       "      <td>NaN</td>\n",
       "      <td>2.0</td>\n",
       "      <td>0.0</td>\n",
       "      <td>0.0</td>\n",
       "      <td>0.0</td>\n",
       "      <td>IMC</td>\n",
       "      <td>Cruise</td>\n",
       "      <td>Probable Cause</td>\n",
       "      <td>12-09-2000</td>\n",
       "    </tr>\n",
       "    <tr>\n",
       "      <th>4</th>\n",
       "      <td>20041105X01764</td>\n",
       "      <td>Accident</td>\n",
       "      <td>CHI79FA064</td>\n",
       "      <td>1979-08-02</td>\n",
       "      <td>Canton, OH</td>\n",
       "      <td>United States</td>\n",
       "      <td>NaN</td>\n",
       "      <td>NaN</td>\n",
       "      <td>NaN</td>\n",
       "      <td>NaN</td>\n",
       "      <td>...</td>\n",
       "      <td>Personal</td>\n",
       "      <td>NaN</td>\n",
       "      <td>1.0</td>\n",
       "      <td>2.0</td>\n",
       "      <td>NaN</td>\n",
       "      <td>0.0</td>\n",
       "      <td>VMC</td>\n",
       "      <td>Approach</td>\n",
       "      <td>Probable Cause</td>\n",
       "      <td>16-04-1980</td>\n",
       "    </tr>\n",
       "  </tbody>\n",
       "</table>\n",
       "<p>5 rows × 31 columns</p>\n",
       "</div>"
      ],
      "text/plain": [
       "         Event.Id Investigation.Type Accident.Number  Event.Date  \\\n",
       "0  20001218X45444           Accident      SEA87LA080  1948-10-24   \n",
       "1  20001218X45447           Accident      LAX94LA336  1962-07-19   \n",
       "2  20061025X01555           Accident      NYC07LA005  1974-08-30   \n",
       "3  20001218X45448           Accident      LAX96LA321  1977-06-19   \n",
       "4  20041105X01764           Accident      CHI79FA064  1979-08-02   \n",
       "\n",
       "          Location        Country   Latitude  Longitude Airport.Code  \\\n",
       "0  MOOSE CREEK, ID  United States        NaN        NaN          NaN   \n",
       "1   BRIDGEPORT, CA  United States        NaN        NaN          NaN   \n",
       "2    Saltville, VA  United States  36.922223 -81.878056          NaN   \n",
       "3       EUREKA, CA  United States        NaN        NaN          NaN   \n",
       "4       Canton, OH  United States        NaN        NaN          NaN   \n",
       "\n",
       "  Airport.Name  ... Purpose.of.flight Air.carrier Total.Fatal.Injuries  \\\n",
       "0          NaN  ...          Personal         NaN                  2.0   \n",
       "1          NaN  ...          Personal         NaN                  4.0   \n",
       "2          NaN  ...          Personal         NaN                  3.0   \n",
       "3          NaN  ...          Personal         NaN                  2.0   \n",
       "4          NaN  ...          Personal         NaN                  1.0   \n",
       "\n",
       "  Total.Serious.Injuries Total.Minor.Injuries Total.Uninjured  \\\n",
       "0                    0.0                  0.0             0.0   \n",
       "1                    0.0                  0.0             0.0   \n",
       "2                    NaN                  NaN             NaN   \n",
       "3                    0.0                  0.0             0.0   \n",
       "4                    2.0                  NaN             0.0   \n",
       "\n",
       "  Weather.Condition  Broad.phase.of.flight   Report.Status Publication.Date  \n",
       "0               UNK                 Cruise  Probable Cause              NaN  \n",
       "1               UNK                Unknown  Probable Cause       19-09-1996  \n",
       "2               IMC                 Cruise  Probable Cause       26-02-2007  \n",
       "3               IMC                 Cruise  Probable Cause       12-09-2000  \n",
       "4               VMC               Approach  Probable Cause       16-04-1980  \n",
       "\n",
       "[5 rows x 31 columns]"
      ]
     },
     "execution_count": 706,
     "metadata": {},
     "output_type": "execute_result"
    }
   ],
   "source": [
    "import pandas as pd\n",
    "import numpy as np\n",
    "import matplotlib.pyplot as plt\n",
    "import seaborn as sns\n",
    "\n",
    "df = pd.read_csv('data/AviationData.csv', encoding='latin-1')\n",
    "\n",
    "df.head()"
   ]
  },
  {
   "cell_type": "markdown",
   "id": "b7a13ec5-24e2-4783-8fe8-47c9a711e404",
   "metadata": {},
   "source": [
    "rename columns to remove dots as they may cause errors in Python (replace dots with underscores)"
   ]
  },
  {
   "cell_type": "code",
   "execution_count": 707,
   "id": "ca8ad7fb-8d22-43a5-8b9c-e041c1ad2cb2",
   "metadata": {},
   "outputs": [
    {
     "data": {
      "text/html": [
       "<div>\n",
       "<style scoped>\n",
       "    .dataframe tbody tr th:only-of-type {\n",
       "        vertical-align: middle;\n",
       "    }\n",
       "\n",
       "    .dataframe tbody tr th {\n",
       "        vertical-align: top;\n",
       "    }\n",
       "\n",
       "    .dataframe thead th {\n",
       "        text-align: right;\n",
       "    }\n",
       "</style>\n",
       "<table border=\"1\" class=\"dataframe\">\n",
       "  <thead>\n",
       "    <tr style=\"text-align: right;\">\n",
       "      <th></th>\n",
       "      <th>Event_Id</th>\n",
       "      <th>Investigation_Type</th>\n",
       "      <th>Accident_Number</th>\n",
       "      <th>Event_Date</th>\n",
       "      <th>Location</th>\n",
       "      <th>Country</th>\n",
       "      <th>Latitude</th>\n",
       "      <th>Longitude</th>\n",
       "      <th>Airport_Code</th>\n",
       "      <th>Airport_Name</th>\n",
       "      <th>...</th>\n",
       "      <th>Purpose_of_flight</th>\n",
       "      <th>Air_carrier</th>\n",
       "      <th>Total_Fatal_Injuries</th>\n",
       "      <th>Total_Serious_Injuries</th>\n",
       "      <th>Total_Minor_Injuries</th>\n",
       "      <th>Total_Uninjured</th>\n",
       "      <th>Weather_Condition</th>\n",
       "      <th>Broad_phase_of_flight</th>\n",
       "      <th>Report_Status</th>\n",
       "      <th>Publication_Date</th>\n",
       "    </tr>\n",
       "  </thead>\n",
       "  <tbody>\n",
       "    <tr>\n",
       "      <th>0</th>\n",
       "      <td>20001218X45444</td>\n",
       "      <td>Accident</td>\n",
       "      <td>SEA87LA080</td>\n",
       "      <td>1948-10-24</td>\n",
       "      <td>MOOSE CREEK, ID</td>\n",
       "      <td>United States</td>\n",
       "      <td>NaN</td>\n",
       "      <td>NaN</td>\n",
       "      <td>NaN</td>\n",
       "      <td>NaN</td>\n",
       "      <td>...</td>\n",
       "      <td>Personal</td>\n",
       "      <td>NaN</td>\n",
       "      <td>2.0</td>\n",
       "      <td>0.0</td>\n",
       "      <td>0.0</td>\n",
       "      <td>0.0</td>\n",
       "      <td>UNK</td>\n",
       "      <td>Cruise</td>\n",
       "      <td>Probable Cause</td>\n",
       "      <td>NaN</td>\n",
       "    </tr>\n",
       "    <tr>\n",
       "      <th>1</th>\n",
       "      <td>20001218X45447</td>\n",
       "      <td>Accident</td>\n",
       "      <td>LAX94LA336</td>\n",
       "      <td>1962-07-19</td>\n",
       "      <td>BRIDGEPORT, CA</td>\n",
       "      <td>United States</td>\n",
       "      <td>NaN</td>\n",
       "      <td>NaN</td>\n",
       "      <td>NaN</td>\n",
       "      <td>NaN</td>\n",
       "      <td>...</td>\n",
       "      <td>Personal</td>\n",
       "      <td>NaN</td>\n",
       "      <td>4.0</td>\n",
       "      <td>0.0</td>\n",
       "      <td>0.0</td>\n",
       "      <td>0.0</td>\n",
       "      <td>UNK</td>\n",
       "      <td>Unknown</td>\n",
       "      <td>Probable Cause</td>\n",
       "      <td>19-09-1996</td>\n",
       "    </tr>\n",
       "    <tr>\n",
       "      <th>2</th>\n",
       "      <td>20061025X01555</td>\n",
       "      <td>Accident</td>\n",
       "      <td>NYC07LA005</td>\n",
       "      <td>1974-08-30</td>\n",
       "      <td>Saltville, VA</td>\n",
       "      <td>United States</td>\n",
       "      <td>36.922223</td>\n",
       "      <td>-81.878056</td>\n",
       "      <td>NaN</td>\n",
       "      <td>NaN</td>\n",
       "      <td>...</td>\n",
       "      <td>Personal</td>\n",
       "      <td>NaN</td>\n",
       "      <td>3.0</td>\n",
       "      <td>NaN</td>\n",
       "      <td>NaN</td>\n",
       "      <td>NaN</td>\n",
       "      <td>IMC</td>\n",
       "      <td>Cruise</td>\n",
       "      <td>Probable Cause</td>\n",
       "      <td>26-02-2007</td>\n",
       "    </tr>\n",
       "    <tr>\n",
       "      <th>3</th>\n",
       "      <td>20001218X45448</td>\n",
       "      <td>Accident</td>\n",
       "      <td>LAX96LA321</td>\n",
       "      <td>1977-06-19</td>\n",
       "      <td>EUREKA, CA</td>\n",
       "      <td>United States</td>\n",
       "      <td>NaN</td>\n",
       "      <td>NaN</td>\n",
       "      <td>NaN</td>\n",
       "      <td>NaN</td>\n",
       "      <td>...</td>\n",
       "      <td>Personal</td>\n",
       "      <td>NaN</td>\n",
       "      <td>2.0</td>\n",
       "      <td>0.0</td>\n",
       "      <td>0.0</td>\n",
       "      <td>0.0</td>\n",
       "      <td>IMC</td>\n",
       "      <td>Cruise</td>\n",
       "      <td>Probable Cause</td>\n",
       "      <td>12-09-2000</td>\n",
       "    </tr>\n",
       "    <tr>\n",
       "      <th>4</th>\n",
       "      <td>20041105X01764</td>\n",
       "      <td>Accident</td>\n",
       "      <td>CHI79FA064</td>\n",
       "      <td>1979-08-02</td>\n",
       "      <td>Canton, OH</td>\n",
       "      <td>United States</td>\n",
       "      <td>NaN</td>\n",
       "      <td>NaN</td>\n",
       "      <td>NaN</td>\n",
       "      <td>NaN</td>\n",
       "      <td>...</td>\n",
       "      <td>Personal</td>\n",
       "      <td>NaN</td>\n",
       "      <td>1.0</td>\n",
       "      <td>2.0</td>\n",
       "      <td>NaN</td>\n",
       "      <td>0.0</td>\n",
       "      <td>VMC</td>\n",
       "      <td>Approach</td>\n",
       "      <td>Probable Cause</td>\n",
       "      <td>16-04-1980</td>\n",
       "    </tr>\n",
       "  </tbody>\n",
       "</table>\n",
       "<p>5 rows × 31 columns</p>\n",
       "</div>"
      ],
      "text/plain": [
       "         Event_Id Investigation_Type Accident_Number  Event_Date  \\\n",
       "0  20001218X45444           Accident      SEA87LA080  1948-10-24   \n",
       "1  20001218X45447           Accident      LAX94LA336  1962-07-19   \n",
       "2  20061025X01555           Accident      NYC07LA005  1974-08-30   \n",
       "3  20001218X45448           Accident      LAX96LA321  1977-06-19   \n",
       "4  20041105X01764           Accident      CHI79FA064  1979-08-02   \n",
       "\n",
       "          Location        Country   Latitude  Longitude Airport_Code  \\\n",
       "0  MOOSE CREEK, ID  United States        NaN        NaN          NaN   \n",
       "1   BRIDGEPORT, CA  United States        NaN        NaN          NaN   \n",
       "2    Saltville, VA  United States  36.922223 -81.878056          NaN   \n",
       "3       EUREKA, CA  United States        NaN        NaN          NaN   \n",
       "4       Canton, OH  United States        NaN        NaN          NaN   \n",
       "\n",
       "  Airport_Name  ... Purpose_of_flight Air_carrier Total_Fatal_Injuries  \\\n",
       "0          NaN  ...          Personal         NaN                  2.0   \n",
       "1          NaN  ...          Personal         NaN                  4.0   \n",
       "2          NaN  ...          Personal         NaN                  3.0   \n",
       "3          NaN  ...          Personal         NaN                  2.0   \n",
       "4          NaN  ...          Personal         NaN                  1.0   \n",
       "\n",
       "  Total_Serious_Injuries Total_Minor_Injuries Total_Uninjured  \\\n",
       "0                    0.0                  0.0             0.0   \n",
       "1                    0.0                  0.0             0.0   \n",
       "2                    NaN                  NaN             NaN   \n",
       "3                    0.0                  0.0             0.0   \n",
       "4                    2.0                  NaN             0.0   \n",
       "\n",
       "  Weather_Condition  Broad_phase_of_flight   Report_Status Publication_Date  \n",
       "0               UNK                 Cruise  Probable Cause              NaN  \n",
       "1               UNK                Unknown  Probable Cause       19-09-1996  \n",
       "2               IMC                 Cruise  Probable Cause       26-02-2007  \n",
       "3               IMC                 Cruise  Probable Cause       12-09-2000  \n",
       "4               VMC               Approach  Probable Cause       16-04-1980  \n",
       "\n",
       "[5 rows x 31 columns]"
      ]
     },
     "execution_count": 707,
     "metadata": {},
     "output_type": "execute_result"
    }
   ],
   "source": [
    "df.columns = df.columns.str.replace('.', '_')\n",
    "\n",
    "df.head()"
   ]
  },
  {
   "cell_type": "code",
   "execution_count": 708,
   "id": "d873d098-03f7-4690-8e0a-df561b0f8b58",
   "metadata": {},
   "outputs": [
    {
     "name": "stdout",
     "output_type": "stream",
     "text": [
      "<class 'pandas.core.frame.DataFrame'>\n",
      "RangeIndex: 88889 entries, 0 to 88888\n",
      "Data columns (total 31 columns):\n",
      " #   Column                  Non-Null Count  Dtype  \n",
      "---  ------                  --------------  -----  \n",
      " 0   Event_Id                88889 non-null  object \n",
      " 1   Investigation_Type      88889 non-null  object \n",
      " 2   Accident_Number         88889 non-null  object \n",
      " 3   Event_Date              88889 non-null  object \n",
      " 4   Location                88837 non-null  object \n",
      " 5   Country                 88663 non-null  object \n",
      " 6   Latitude                34382 non-null  object \n",
      " 7   Longitude               34373 non-null  object \n",
      " 8   Airport_Code            50132 non-null  object \n",
      " 9   Airport_Name            52704 non-null  object \n",
      " 10  Injury_Severity         87889 non-null  object \n",
      " 11  Aircraft_damage         85695 non-null  object \n",
      " 12  Aircraft_Category       32287 non-null  object \n",
      " 13  Registration_Number     87507 non-null  object \n",
      " 14  Make                    88826 non-null  object \n",
      " 15  Model                   88797 non-null  object \n",
      " 16  Amateur_Built           88787 non-null  object \n",
      " 17  Number_of_Engines       82805 non-null  float64\n",
      " 18  Engine_Type             81793 non-null  object \n",
      " 19  FAR_Description         32023 non-null  object \n",
      " 20  Schedule                12582 non-null  object \n",
      " 21  Purpose_of_flight       82697 non-null  object \n",
      " 22  Air_carrier             16648 non-null  object \n",
      " 23  Total_Fatal_Injuries    77488 non-null  float64\n",
      " 24  Total_Serious_Injuries  76379 non-null  float64\n",
      " 25  Total_Minor_Injuries    76956 non-null  float64\n",
      " 26  Total_Uninjured         82977 non-null  float64\n",
      " 27  Weather_Condition       84397 non-null  object \n",
      " 28  Broad_phase_of_flight   61724 non-null  object \n",
      " 29  Report_Status           82505 non-null  object \n",
      " 30  Publication_Date        75118 non-null  object \n",
      "dtypes: float64(5), object(26)\n",
      "memory usage: 21.0+ MB\n"
     ]
    }
   ],
   "source": [
    "df.info()"
   ]
  },
  {
   "cell_type": "markdown",
   "id": "75a55e75-d494-4fb6-8a20-8acbef6190e2",
   "metadata": {},
   "source": [
    "### As Event ID provides a unique identifier for each incident, let's check for duplicate rows"
   ]
  },
  {
   "cell_type": "code",
   "execution_count": 709,
   "id": "01ddc38f-dae0-4108-be60-022dfb64add6",
   "metadata": {},
   "outputs": [
    {
     "data": {
      "text/html": [
       "<div>\n",
       "<style scoped>\n",
       "    .dataframe tbody tr th:only-of-type {\n",
       "        vertical-align: middle;\n",
       "    }\n",
       "\n",
       "    .dataframe tbody tr th {\n",
       "        vertical-align: top;\n",
       "    }\n",
       "\n",
       "    .dataframe thead th {\n",
       "        text-align: right;\n",
       "    }\n",
       "</style>\n",
       "<table border=\"1\" class=\"dataframe\">\n",
       "  <thead>\n",
       "    <tr style=\"text-align: right;\">\n",
       "      <th></th>\n",
       "      <th>Event_Id</th>\n",
       "      <th>Investigation_Type</th>\n",
       "      <th>Accident_Number</th>\n",
       "      <th>Event_Date</th>\n",
       "      <th>Location</th>\n",
       "      <th>Country</th>\n",
       "      <th>Latitude</th>\n",
       "      <th>Longitude</th>\n",
       "      <th>Airport_Code</th>\n",
       "      <th>Airport_Name</th>\n",
       "      <th>...</th>\n",
       "      <th>Purpose_of_flight</th>\n",
       "      <th>Air_carrier</th>\n",
       "      <th>Total_Fatal_Injuries</th>\n",
       "      <th>Total_Serious_Injuries</th>\n",
       "      <th>Total_Minor_Injuries</th>\n",
       "      <th>Total_Uninjured</th>\n",
       "      <th>Weather_Condition</th>\n",
       "      <th>Broad_phase_of_flight</th>\n",
       "      <th>Report_Status</th>\n",
       "      <th>Publication_Date</th>\n",
       "    </tr>\n",
       "  </thead>\n",
       "  <tbody>\n",
       "    <tr>\n",
       "      <th>117</th>\n",
       "      <td>20020917X01908</td>\n",
       "      <td>Accident</td>\n",
       "      <td>DCA82AA012B</td>\n",
       "      <td>1982-01-19</td>\n",
       "      <td>ROCKPORT, TX</td>\n",
       "      <td>United States</td>\n",
       "      <td>NaN</td>\n",
       "      <td>NaN</td>\n",
       "      <td>RKP</td>\n",
       "      <td>ARANSAS COUNTY AIRPORT</td>\n",
       "      <td>...</td>\n",
       "      <td>Personal</td>\n",
       "      <td>NaN</td>\n",
       "      <td>3.0</td>\n",
       "      <td>0.0</td>\n",
       "      <td>0.0</td>\n",
       "      <td>0.0</td>\n",
       "      <td>IMC</td>\n",
       "      <td>Approach</td>\n",
       "      <td>Probable Cause</td>\n",
       "      <td>19-01-1983</td>\n",
       "    </tr>\n",
       "    <tr>\n",
       "      <th>118</th>\n",
       "      <td>20020917X01908</td>\n",
       "      <td>Accident</td>\n",
       "      <td>DCA82AA012A</td>\n",
       "      <td>1982-01-19</td>\n",
       "      <td>ROCKPORT, TX</td>\n",
       "      <td>United States</td>\n",
       "      <td>NaN</td>\n",
       "      <td>NaN</td>\n",
       "      <td>RKP</td>\n",
       "      <td>ARANSAS COUNTY AIRPORT</td>\n",
       "      <td>...</td>\n",
       "      <td>Executive/corporate</td>\n",
       "      <td>NaN</td>\n",
       "      <td>3.0</td>\n",
       "      <td>0.0</td>\n",
       "      <td>0.0</td>\n",
       "      <td>0.0</td>\n",
       "      <td>IMC</td>\n",
       "      <td>Approach</td>\n",
       "      <td>Probable Cause</td>\n",
       "      <td>19-01-1983</td>\n",
       "    </tr>\n",
       "    <tr>\n",
       "      <th>153</th>\n",
       "      <td>20020917X02259</td>\n",
       "      <td>Accident</td>\n",
       "      <td>LAX82FA049A</td>\n",
       "      <td>1982-01-23</td>\n",
       "      <td>VICTORVILLE, CA</td>\n",
       "      <td>United States</td>\n",
       "      <td>NaN</td>\n",
       "      <td>NaN</td>\n",
       "      <td>NaN</td>\n",
       "      <td>NaN</td>\n",
       "      <td>...</td>\n",
       "      <td>Personal</td>\n",
       "      <td>NaN</td>\n",
       "      <td>2.0</td>\n",
       "      <td>0.0</td>\n",
       "      <td>4.0</td>\n",
       "      <td>0.0</td>\n",
       "      <td>VMC</td>\n",
       "      <td>Unknown</td>\n",
       "      <td>Probable Cause</td>\n",
       "      <td>23-01-1983</td>\n",
       "    </tr>\n",
       "    <tr>\n",
       "      <th>158</th>\n",
       "      <td>20020917X02400</td>\n",
       "      <td>Accident</td>\n",
       "      <td>MIA82FA038B</td>\n",
       "      <td>1982-01-23</td>\n",
       "      <td>NEWPORT RICHEY, FL</td>\n",
       "      <td>United States</td>\n",
       "      <td>NaN</td>\n",
       "      <td>NaN</td>\n",
       "      <td>NaN</td>\n",
       "      <td>NaN</td>\n",
       "      <td>...</td>\n",
       "      <td>Personal</td>\n",
       "      <td>NaN</td>\n",
       "      <td>0.0</td>\n",
       "      <td>0.0</td>\n",
       "      <td>0.0</td>\n",
       "      <td>3.0</td>\n",
       "      <td>VMC</td>\n",
       "      <td>Cruise</td>\n",
       "      <td>Probable Cause</td>\n",
       "      <td>23-01-1983</td>\n",
       "    </tr>\n",
       "    <tr>\n",
       "      <th>159</th>\n",
       "      <td>20020917X02400</td>\n",
       "      <td>Accident</td>\n",
       "      <td>MIA82FA038A</td>\n",
       "      <td>1982-01-23</td>\n",
       "      <td>NEWPORT RICHEY, FL</td>\n",
       "      <td>United States</td>\n",
       "      <td>NaN</td>\n",
       "      <td>NaN</td>\n",
       "      <td>NaN</td>\n",
       "      <td>NaN</td>\n",
       "      <td>...</td>\n",
       "      <td>Personal</td>\n",
       "      <td>NaN</td>\n",
       "      <td>0.0</td>\n",
       "      <td>0.0</td>\n",
       "      <td>0.0</td>\n",
       "      <td>3.0</td>\n",
       "      <td>VMC</td>\n",
       "      <td>Approach</td>\n",
       "      <td>Probable Cause</td>\n",
       "      <td>23-01-1983</td>\n",
       "    </tr>\n",
       "    <tr>\n",
       "      <th>...</th>\n",
       "      <td>...</td>\n",
       "      <td>...</td>\n",
       "      <td>...</td>\n",
       "      <td>...</td>\n",
       "      <td>...</td>\n",
       "      <td>...</td>\n",
       "      <td>...</td>\n",
       "      <td>...</td>\n",
       "      <td>...</td>\n",
       "      <td>...</td>\n",
       "      <td>...</td>\n",
       "      <td>...</td>\n",
       "      <td>...</td>\n",
       "      <td>...</td>\n",
       "      <td>...</td>\n",
       "      <td>...</td>\n",
       "      <td>...</td>\n",
       "      <td>...</td>\n",
       "      <td>...</td>\n",
       "      <td>...</td>\n",
       "      <td>...</td>\n",
       "    </tr>\n",
       "    <tr>\n",
       "      <th>88796</th>\n",
       "      <td>20221121106336</td>\n",
       "      <td>Accident</td>\n",
       "      <td>WPR23LA041</td>\n",
       "      <td>2022-11-18</td>\n",
       "      <td>Las Vegas, NV</td>\n",
       "      <td>United States</td>\n",
       "      <td>361239N</td>\n",
       "      <td>1151140W</td>\n",
       "      <td>VGT</td>\n",
       "      <td>NORTH LAS VEGAS</td>\n",
       "      <td>...</td>\n",
       "      <td>Instructional</td>\n",
       "      <td>702 HELICOPTER INC</td>\n",
       "      <td>0.0</td>\n",
       "      <td>0.0</td>\n",
       "      <td>0.0</td>\n",
       "      <td>3.0</td>\n",
       "      <td>VMC</td>\n",
       "      <td>NaN</td>\n",
       "      <td>NaN</td>\n",
       "      <td>07-12-2022</td>\n",
       "    </tr>\n",
       "    <tr>\n",
       "      <th>88797</th>\n",
       "      <td>20221122106340</td>\n",
       "      <td>Incident</td>\n",
       "      <td>DCA23WA071</td>\n",
       "      <td>2022-11-18</td>\n",
       "      <td>Marrakech,</td>\n",
       "      <td>Morocco</td>\n",
       "      <td>NaN</td>\n",
       "      <td>NaN</td>\n",
       "      <td>NaN</td>\n",
       "      <td>NaN</td>\n",
       "      <td>...</td>\n",
       "      <td>NaN</td>\n",
       "      <td>British Airways</td>\n",
       "      <td>0.0</td>\n",
       "      <td>0.0</td>\n",
       "      <td>0.0</td>\n",
       "      <td>0.0</td>\n",
       "      <td>NaN</td>\n",
       "      <td>NaN</td>\n",
       "      <td>NaN</td>\n",
       "      <td>NaN</td>\n",
       "    </tr>\n",
       "    <tr>\n",
       "      <th>88798</th>\n",
       "      <td>20221122106340</td>\n",
       "      <td>Incident</td>\n",
       "      <td>DCA23WA071</td>\n",
       "      <td>2022-11-18</td>\n",
       "      <td>Marrakech,</td>\n",
       "      <td>Morocco</td>\n",
       "      <td>NaN</td>\n",
       "      <td>NaN</td>\n",
       "      <td>NaN</td>\n",
       "      <td>NaN</td>\n",
       "      <td>...</td>\n",
       "      <td>NaN</td>\n",
       "      <td>Valair Private Jets</td>\n",
       "      <td>0.0</td>\n",
       "      <td>0.0</td>\n",
       "      <td>0.0</td>\n",
       "      <td>0.0</td>\n",
       "      <td>NaN</td>\n",
       "      <td>NaN</td>\n",
       "      <td>NaN</td>\n",
       "      <td>NaN</td>\n",
       "    </tr>\n",
       "    <tr>\n",
       "      <th>88813</th>\n",
       "      <td>20221123106354</td>\n",
       "      <td>Accident</td>\n",
       "      <td>WPR23LA045</td>\n",
       "      <td>2022-11-22</td>\n",
       "      <td>San Diego, CA</td>\n",
       "      <td>United States</td>\n",
       "      <td>323414N</td>\n",
       "      <td>1165825W</td>\n",
       "      <td>SDM</td>\n",
       "      <td>Brown Field Municipal Airport</td>\n",
       "      <td>...</td>\n",
       "      <td>Instructional</td>\n",
       "      <td>HeliStream Inc.</td>\n",
       "      <td>0.0</td>\n",
       "      <td>0.0</td>\n",
       "      <td>0.0</td>\n",
       "      <td>4.0</td>\n",
       "      <td>VMC</td>\n",
       "      <td>NaN</td>\n",
       "      <td>NaN</td>\n",
       "      <td>22-12-2022</td>\n",
       "    </tr>\n",
       "    <tr>\n",
       "      <th>88814</th>\n",
       "      <td>20221123106354</td>\n",
       "      <td>Accident</td>\n",
       "      <td>WPR23LA045</td>\n",
       "      <td>2022-11-22</td>\n",
       "      <td>San Diego, CA</td>\n",
       "      <td>United States</td>\n",
       "      <td>323414N</td>\n",
       "      <td>1165825W</td>\n",
       "      <td>SDM</td>\n",
       "      <td>Brown Field Municipal Airport</td>\n",
       "      <td>...</td>\n",
       "      <td>Public Aircraft - Federal</td>\n",
       "      <td>U.S. Navy</td>\n",
       "      <td>0.0</td>\n",
       "      <td>0.0</td>\n",
       "      <td>0.0</td>\n",
       "      <td>4.0</td>\n",
       "      <td>VMC</td>\n",
       "      <td>NaN</td>\n",
       "      <td>NaN</td>\n",
       "      <td>22-12-2022</td>\n",
       "    </tr>\n",
       "  </tbody>\n",
       "</table>\n",
       "<p>1874 rows × 31 columns</p>\n",
       "</div>"
      ],
      "text/plain": [
       "             Event_Id Investigation_Type Accident_Number  Event_Date  \\\n",
       "117    20020917X01908           Accident     DCA82AA012B  1982-01-19   \n",
       "118    20020917X01908           Accident     DCA82AA012A  1982-01-19   \n",
       "153    20020917X02259           Accident     LAX82FA049A  1982-01-23   \n",
       "158    20020917X02400           Accident     MIA82FA038B  1982-01-23   \n",
       "159    20020917X02400           Accident     MIA82FA038A  1982-01-23   \n",
       "...               ...                ...             ...         ...   \n",
       "88796  20221121106336           Accident      WPR23LA041  2022-11-18   \n",
       "88797  20221122106340           Incident      DCA23WA071  2022-11-18   \n",
       "88798  20221122106340           Incident      DCA23WA071  2022-11-18   \n",
       "88813  20221123106354           Accident      WPR23LA045  2022-11-22   \n",
       "88814  20221123106354           Accident      WPR23LA045  2022-11-22   \n",
       "\n",
       "                 Location        Country Latitude Longitude Airport_Code  \\\n",
       "117          ROCKPORT, TX  United States      NaN       NaN          RKP   \n",
       "118          ROCKPORT, TX  United States      NaN       NaN          RKP   \n",
       "153       VICTORVILLE, CA  United States      NaN       NaN          NaN   \n",
       "158    NEWPORT RICHEY, FL  United States      NaN       NaN          NaN   \n",
       "159    NEWPORT RICHEY, FL  United States      NaN       NaN          NaN   \n",
       "...                   ...            ...      ...       ...          ...   \n",
       "88796       Las Vegas, NV  United States  361239N  1151140W          VGT   \n",
       "88797         Marrakech,         Morocco      NaN       NaN          NaN   \n",
       "88798         Marrakech,         Morocco      NaN       NaN          NaN   \n",
       "88813       San Diego, CA  United States  323414N  1165825W          SDM   \n",
       "88814       San Diego, CA  United States  323414N  1165825W          SDM   \n",
       "\n",
       "                        Airport_Name  ...          Purpose_of_flight  \\\n",
       "117           ARANSAS COUNTY AIRPORT  ...                   Personal   \n",
       "118           ARANSAS COUNTY AIRPORT  ...        Executive/corporate   \n",
       "153                              NaN  ...                   Personal   \n",
       "158                              NaN  ...                   Personal   \n",
       "159                              NaN  ...                   Personal   \n",
       "...                              ...  ...                        ...   \n",
       "88796                NORTH LAS VEGAS  ...              Instructional   \n",
       "88797                            NaN  ...                        NaN   \n",
       "88798                            NaN  ...                        NaN   \n",
       "88813  Brown Field Municipal Airport  ...              Instructional   \n",
       "88814  Brown Field Municipal Airport  ...  Public Aircraft - Federal   \n",
       "\n",
       "               Air_carrier Total_Fatal_Injuries Total_Serious_Injuries  \\\n",
       "117                    NaN                  3.0                    0.0   \n",
       "118                    NaN                  3.0                    0.0   \n",
       "153                    NaN                  2.0                    0.0   \n",
       "158                    NaN                  0.0                    0.0   \n",
       "159                    NaN                  0.0                    0.0   \n",
       "...                    ...                  ...                    ...   \n",
       "88796   702 HELICOPTER INC                  0.0                    0.0   \n",
       "88797      British Airways                  0.0                    0.0   \n",
       "88798  Valair Private Jets                  0.0                    0.0   \n",
       "88813      HeliStream Inc.                  0.0                    0.0   \n",
       "88814            U.S. Navy                  0.0                    0.0   \n",
       "\n",
       "      Total_Minor_Injuries Total_Uninjured Weather_Condition  \\\n",
       "117                    0.0             0.0               IMC   \n",
       "118                    0.0             0.0               IMC   \n",
       "153                    4.0             0.0               VMC   \n",
       "158                    0.0             3.0               VMC   \n",
       "159                    0.0             3.0               VMC   \n",
       "...                    ...             ...               ...   \n",
       "88796                  0.0             3.0               VMC   \n",
       "88797                  0.0             0.0               NaN   \n",
       "88798                  0.0             0.0               NaN   \n",
       "88813                  0.0             4.0               VMC   \n",
       "88814                  0.0             4.0               VMC   \n",
       "\n",
       "       Broad_phase_of_flight   Report_Status Publication_Date  \n",
       "117                 Approach  Probable Cause       19-01-1983  \n",
       "118                 Approach  Probable Cause       19-01-1983  \n",
       "153                  Unknown  Probable Cause       23-01-1983  \n",
       "158                   Cruise  Probable Cause       23-01-1983  \n",
       "159                 Approach  Probable Cause       23-01-1983  \n",
       "...                      ...             ...              ...  \n",
       "88796                    NaN             NaN       07-12-2022  \n",
       "88797                    NaN             NaN              NaN  \n",
       "88798                    NaN             NaN              NaN  \n",
       "88813                    NaN             NaN       22-12-2022  \n",
       "88814                    NaN             NaN       22-12-2022  \n",
       "\n",
       "[1874 rows x 31 columns]"
      ]
     },
     "execution_count": 709,
     "metadata": {},
     "output_type": "execute_result"
    }
   ],
   "source": [
    "df[df.duplicated(subset=['Event_Id'], keep=False)]"
   ]
  },
  {
   "cell_type": "markdown",
   "id": "8565146b-9b5b-4b9a-96f5-834fc68ae6e2",
   "metadata": {},
   "source": [
    "I see here that though these duplicate rows do represent separate aircraft in multi-aircraft incidents, the injury and/or fatality numbers are combined. This would constitute duplicate numbers in certain columns that would render errors in the analysis when making use of the injury values.\n",
    "\n",
    "So let's remove the duplicates from this subset."
   ]
  },
  {
   "cell_type": "code",
   "execution_count": 710,
   "id": "d95b0a83-9990-4931-8be0-bf063173adc7",
   "metadata": {},
   "outputs": [
    {
     "data": {
      "text/html": [
       "<div>\n",
       "<style scoped>\n",
       "    .dataframe tbody tr th:only-of-type {\n",
       "        vertical-align: middle;\n",
       "    }\n",
       "\n",
       "    .dataframe tbody tr th {\n",
       "        vertical-align: top;\n",
       "    }\n",
       "\n",
       "    .dataframe thead th {\n",
       "        text-align: right;\n",
       "    }\n",
       "</style>\n",
       "<table border=\"1\" class=\"dataframe\">\n",
       "  <thead>\n",
       "    <tr style=\"text-align: right;\">\n",
       "      <th></th>\n",
       "      <th>Event_Id</th>\n",
       "      <th>Investigation_Type</th>\n",
       "      <th>Accident_Number</th>\n",
       "      <th>Event_Date</th>\n",
       "      <th>Location</th>\n",
       "      <th>Country</th>\n",
       "      <th>Latitude</th>\n",
       "      <th>Longitude</th>\n",
       "      <th>Airport_Code</th>\n",
       "      <th>Airport_Name</th>\n",
       "      <th>...</th>\n",
       "      <th>Purpose_of_flight</th>\n",
       "      <th>Air_carrier</th>\n",
       "      <th>Total_Fatal_Injuries</th>\n",
       "      <th>Total_Serious_Injuries</th>\n",
       "      <th>Total_Minor_Injuries</th>\n",
       "      <th>Total_Uninjured</th>\n",
       "      <th>Weather_Condition</th>\n",
       "      <th>Broad_phase_of_flight</th>\n",
       "      <th>Report_Status</th>\n",
       "      <th>Publication_Date</th>\n",
       "    </tr>\n",
       "  </thead>\n",
       "  <tbody>\n",
       "  </tbody>\n",
       "</table>\n",
       "<p>0 rows × 31 columns</p>\n",
       "</div>"
      ],
      "text/plain": [
       "Empty DataFrame\n",
       "Columns: [Event_Id, Investigation_Type, Accident_Number, Event_Date, Location, Country, Latitude, Longitude, Airport_Code, Airport_Name, Injury_Severity, Aircraft_damage, Aircraft_Category, Registration_Number, Make, Model, Amateur_Built, Number_of_Engines, Engine_Type, FAR_Description, Schedule, Purpose_of_flight, Air_carrier, Total_Fatal_Injuries, Total_Serious_Injuries, Total_Minor_Injuries, Total_Uninjured, Weather_Condition, Broad_phase_of_flight, Report_Status, Publication_Date]\n",
       "Index: []\n",
       "\n",
       "[0 rows x 31 columns]"
      ]
     },
     "execution_count": 710,
     "metadata": {},
     "output_type": "execute_result"
    }
   ],
   "source": [
    "df = df.drop_duplicates(subset=['Event_Id'], keep='first')\n",
    "\n",
    "# Double check to make sure duplicates have been removed\n",
    "df[df.duplicated(subset=['Event_Id'], keep=False)]"
   ]
  },
  {
   "cell_type": "code",
   "execution_count": 711,
   "id": "6df79c06-ba4a-4f10-abb6-91e4b09157a2",
   "metadata": {},
   "outputs": [
    {
     "name": "stdout",
     "output_type": "stream",
     "text": [
      "<class 'pandas.core.frame.DataFrame'>\n",
      "Index: 87951 entries, 0 to 88888\n",
      "Data columns (total 31 columns):\n",
      " #   Column                  Non-Null Count  Dtype  \n",
      "---  ------                  --------------  -----  \n",
      " 0   Event_Id                87951 non-null  object \n",
      " 1   Investigation_Type      87951 non-null  object \n",
      " 2   Accident_Number         87951 non-null  object \n",
      " 3   Event_Date              87951 non-null  object \n",
      " 4   Location                87899 non-null  object \n",
      " 5   Country                 87729 non-null  object \n",
      " 6   Latitude                34212 non-null  object \n",
      " 7   Longitude               34203 non-null  object \n",
      " 8   Airport_Code            49484 non-null  object \n",
      " 9   Airport_Name            52031 non-null  object \n",
      " 10  Injury_Severity         86961 non-null  object \n",
      " 11  Aircraft_damage         84848 non-null  object \n",
      " 12  Aircraft_Category       32181 non-null  object \n",
      " 13  Registration_Number     86601 non-null  object \n",
      " 14  Make                    87888 non-null  object \n",
      " 15  Model                   87859 non-null  object \n",
      " 16  Amateur_Built           87851 non-null  object \n",
      " 17  Number_of_Engines       81924 non-null  float64\n",
      " 18  Engine_Type             80908 non-null  object \n",
      " 19  FAR_Description         31915 non-null  object \n",
      " 20  Schedule                12360 non-null  object \n",
      " 21  Purpose_of_flight       81829 non-null  object \n",
      " 22  Air_carrier             16533 non-null  object \n",
      " 23  Total_Fatal_Injuries    76684 non-null  float64\n",
      " 24  Total_Serious_Injuries  75629 non-null  float64\n",
      " 25  Total_Minor_Injuries    76191 non-null  float64\n",
      " 26  Total_Uninjured         82088 non-null  float64\n",
      " 27  Weather_Condition       83478 non-null  object \n",
      " 28  Broad_phase_of_flight   60837 non-null  object \n",
      " 29  Report_Status           81587 non-null  object \n",
      " 30  Publication_Date        74352 non-null  object \n",
      "dtypes: float64(5), object(26)\n",
      "memory usage: 21.5+ MB\n"
     ]
    }
   ],
   "source": [
    "df.info()"
   ]
  },
  {
   "cell_type": "markdown",
   "id": "3dcdb3d6-417e-487a-afe8-4118a56201f9",
   "metadata": {},
   "source": [
    "## Columns that are not needed\n",
    "Remove certain columns that are mostly empty (and can't be filled in) and/or would not contain data useful to the intended analysis.\n",
    "\n",
    "I want to make heavy use of: date, injury, damage, category, phase of flight, and report status\n",
    "Let's remove Latitude, Longitude, Airport_Code, Airport_Name, Registration_Number, FAR_Description, Schedule, Air_carrier, and Publication_Date as those columns are either mostly empty or would not contribute to the analysis."
   ]
  },
  {
   "cell_type": "code",
   "execution_count": 712,
   "id": "b68f8931-6129-461b-b63e-d02b4d6fcebf",
   "metadata": {},
   "outputs": [
    {
     "name": "stdout",
     "output_type": "stream",
     "text": [
      "<class 'pandas.core.frame.DataFrame'>\n",
      "Index: 87951 entries, 0 to 88888\n",
      "Data columns (total 22 columns):\n",
      " #   Column                  Non-Null Count  Dtype  \n",
      "---  ------                  --------------  -----  \n",
      " 0   Event_Id                87951 non-null  object \n",
      " 1   Investigation_Type      87951 non-null  object \n",
      " 2   Accident_Number         87951 non-null  object \n",
      " 3   Event_Date              87951 non-null  object \n",
      " 4   Location                87899 non-null  object \n",
      " 5   Country                 87729 non-null  object \n",
      " 6   Injury_Severity         86961 non-null  object \n",
      " 7   Aircraft_damage         84848 non-null  object \n",
      " 8   Aircraft_Category       32181 non-null  object \n",
      " 9   Make                    87888 non-null  object \n",
      " 10  Model                   87859 non-null  object \n",
      " 11  Amateur_Built           87851 non-null  object \n",
      " 12  Number_of_Engines       81924 non-null  float64\n",
      " 13  Engine_Type             80908 non-null  object \n",
      " 14  Purpose_of_flight       81829 non-null  object \n",
      " 15  Total_Fatal_Injuries    76684 non-null  float64\n",
      " 16  Total_Serious_Injuries  75629 non-null  float64\n",
      " 17  Total_Minor_Injuries    76191 non-null  float64\n",
      " 18  Total_Uninjured         82088 non-null  float64\n",
      " 19  Weather_Condition       83478 non-null  object \n",
      " 20  Broad_phase_of_flight   60837 non-null  object \n",
      " 21  Report_Status           81587 non-null  object \n",
      "dtypes: float64(5), object(17)\n",
      "memory usage: 15.4+ MB\n"
     ]
    }
   ],
   "source": [
    "df = df.drop(['Latitude', 'Longitude', 'Airport_Code', 'Airport_Name', 'Registration_Number', 'FAR_Description', 'Schedule', 'Air_carrier', 'Publication_Date'], axis=1)\n",
    "\n",
    "df.info()"
   ]
  },
  {
   "cell_type": "code",
   "execution_count": 713,
   "id": "e8c83a3a-dd0d-4b5f-a512-08b5f2474142",
   "metadata": {},
   "outputs": [
    {
     "data": {
      "text/html": [
       "<div>\n",
       "<style scoped>\n",
       "    .dataframe tbody tr th:only-of-type {\n",
       "        vertical-align: middle;\n",
       "    }\n",
       "\n",
       "    .dataframe tbody tr th {\n",
       "        vertical-align: top;\n",
       "    }\n",
       "\n",
       "    .dataframe thead th {\n",
       "        text-align: right;\n",
       "    }\n",
       "</style>\n",
       "<table border=\"1\" class=\"dataframe\">\n",
       "  <thead>\n",
       "    <tr style=\"text-align: right;\">\n",
       "      <th></th>\n",
       "      <th>Event_Id</th>\n",
       "      <th>Investigation_Type</th>\n",
       "      <th>Accident_Number</th>\n",
       "      <th>Event_Date</th>\n",
       "      <th>Location</th>\n",
       "      <th>Country</th>\n",
       "      <th>Injury_Severity</th>\n",
       "      <th>Aircraft_damage</th>\n",
       "      <th>Aircraft_Category</th>\n",
       "      <th>Make</th>\n",
       "      <th>...</th>\n",
       "      <th>Number_of_Engines</th>\n",
       "      <th>Engine_Type</th>\n",
       "      <th>Purpose_of_flight</th>\n",
       "      <th>Total_Fatal_Injuries</th>\n",
       "      <th>Total_Serious_Injuries</th>\n",
       "      <th>Total_Minor_Injuries</th>\n",
       "      <th>Total_Uninjured</th>\n",
       "      <th>Weather_Condition</th>\n",
       "      <th>Broad_phase_of_flight</th>\n",
       "      <th>Report_Status</th>\n",
       "    </tr>\n",
       "  </thead>\n",
       "  <tbody>\n",
       "    <tr>\n",
       "      <th>0</th>\n",
       "      <td>20001218X45444</td>\n",
       "      <td>Accident</td>\n",
       "      <td>SEA87LA080</td>\n",
       "      <td>1948-10-24</td>\n",
       "      <td>MOOSE CREEK, ID</td>\n",
       "      <td>United States</td>\n",
       "      <td>Fatal(2)</td>\n",
       "      <td>Destroyed</td>\n",
       "      <td>NaN</td>\n",
       "      <td>Stinson</td>\n",
       "      <td>...</td>\n",
       "      <td>1.0</td>\n",
       "      <td>Reciprocating</td>\n",
       "      <td>Personal</td>\n",
       "      <td>2.0</td>\n",
       "      <td>0.0</td>\n",
       "      <td>0.0</td>\n",
       "      <td>0.0</td>\n",
       "      <td>UNK</td>\n",
       "      <td>Cruise</td>\n",
       "      <td>Probable Cause</td>\n",
       "    </tr>\n",
       "    <tr>\n",
       "      <th>1</th>\n",
       "      <td>20001218X45447</td>\n",
       "      <td>Accident</td>\n",
       "      <td>LAX94LA336</td>\n",
       "      <td>1962-07-19</td>\n",
       "      <td>BRIDGEPORT, CA</td>\n",
       "      <td>United States</td>\n",
       "      <td>Fatal(4)</td>\n",
       "      <td>Destroyed</td>\n",
       "      <td>NaN</td>\n",
       "      <td>Piper</td>\n",
       "      <td>...</td>\n",
       "      <td>1.0</td>\n",
       "      <td>Reciprocating</td>\n",
       "      <td>Personal</td>\n",
       "      <td>4.0</td>\n",
       "      <td>0.0</td>\n",
       "      <td>0.0</td>\n",
       "      <td>0.0</td>\n",
       "      <td>UNK</td>\n",
       "      <td>Unknown</td>\n",
       "      <td>Probable Cause</td>\n",
       "    </tr>\n",
       "    <tr>\n",
       "      <th>2</th>\n",
       "      <td>20061025X01555</td>\n",
       "      <td>Accident</td>\n",
       "      <td>NYC07LA005</td>\n",
       "      <td>1974-08-30</td>\n",
       "      <td>Saltville, VA</td>\n",
       "      <td>United States</td>\n",
       "      <td>Fatal(3)</td>\n",
       "      <td>Destroyed</td>\n",
       "      <td>NaN</td>\n",
       "      <td>Cessna</td>\n",
       "      <td>...</td>\n",
       "      <td>1.0</td>\n",
       "      <td>Reciprocating</td>\n",
       "      <td>Personal</td>\n",
       "      <td>3.0</td>\n",
       "      <td>NaN</td>\n",
       "      <td>NaN</td>\n",
       "      <td>NaN</td>\n",
       "      <td>IMC</td>\n",
       "      <td>Cruise</td>\n",
       "      <td>Probable Cause</td>\n",
       "    </tr>\n",
       "    <tr>\n",
       "      <th>3</th>\n",
       "      <td>20001218X45448</td>\n",
       "      <td>Accident</td>\n",
       "      <td>LAX96LA321</td>\n",
       "      <td>1977-06-19</td>\n",
       "      <td>EUREKA, CA</td>\n",
       "      <td>United States</td>\n",
       "      <td>Fatal(2)</td>\n",
       "      <td>Destroyed</td>\n",
       "      <td>NaN</td>\n",
       "      <td>Rockwell</td>\n",
       "      <td>...</td>\n",
       "      <td>1.0</td>\n",
       "      <td>Reciprocating</td>\n",
       "      <td>Personal</td>\n",
       "      <td>2.0</td>\n",
       "      <td>0.0</td>\n",
       "      <td>0.0</td>\n",
       "      <td>0.0</td>\n",
       "      <td>IMC</td>\n",
       "      <td>Cruise</td>\n",
       "      <td>Probable Cause</td>\n",
       "    </tr>\n",
       "    <tr>\n",
       "      <th>4</th>\n",
       "      <td>20041105X01764</td>\n",
       "      <td>Accident</td>\n",
       "      <td>CHI79FA064</td>\n",
       "      <td>1979-08-02</td>\n",
       "      <td>Canton, OH</td>\n",
       "      <td>United States</td>\n",
       "      <td>Fatal(1)</td>\n",
       "      <td>Destroyed</td>\n",
       "      <td>NaN</td>\n",
       "      <td>Cessna</td>\n",
       "      <td>...</td>\n",
       "      <td>NaN</td>\n",
       "      <td>NaN</td>\n",
       "      <td>Personal</td>\n",
       "      <td>1.0</td>\n",
       "      <td>2.0</td>\n",
       "      <td>NaN</td>\n",
       "      <td>0.0</td>\n",
       "      <td>VMC</td>\n",
       "      <td>Approach</td>\n",
       "      <td>Probable Cause</td>\n",
       "    </tr>\n",
       "  </tbody>\n",
       "</table>\n",
       "<p>5 rows × 22 columns</p>\n",
       "</div>"
      ],
      "text/plain": [
       "         Event_Id Investigation_Type Accident_Number  Event_Date  \\\n",
       "0  20001218X45444           Accident      SEA87LA080  1948-10-24   \n",
       "1  20001218X45447           Accident      LAX94LA336  1962-07-19   \n",
       "2  20061025X01555           Accident      NYC07LA005  1974-08-30   \n",
       "3  20001218X45448           Accident      LAX96LA321  1977-06-19   \n",
       "4  20041105X01764           Accident      CHI79FA064  1979-08-02   \n",
       "\n",
       "          Location        Country Injury_Severity Aircraft_damage  \\\n",
       "0  MOOSE CREEK, ID  United States        Fatal(2)       Destroyed   \n",
       "1   BRIDGEPORT, CA  United States        Fatal(4)       Destroyed   \n",
       "2    Saltville, VA  United States        Fatal(3)       Destroyed   \n",
       "3       EUREKA, CA  United States        Fatal(2)       Destroyed   \n",
       "4       Canton, OH  United States        Fatal(1)       Destroyed   \n",
       "\n",
       "  Aircraft_Category      Make  ... Number_of_Engines    Engine_Type  \\\n",
       "0               NaN   Stinson  ...               1.0  Reciprocating   \n",
       "1               NaN     Piper  ...               1.0  Reciprocating   \n",
       "2               NaN    Cessna  ...               1.0  Reciprocating   \n",
       "3               NaN  Rockwell  ...               1.0  Reciprocating   \n",
       "4               NaN    Cessna  ...               NaN            NaN   \n",
       "\n",
       "   Purpose_of_flight Total_Fatal_Injuries Total_Serious_Injuries  \\\n",
       "0           Personal                  2.0                    0.0   \n",
       "1           Personal                  4.0                    0.0   \n",
       "2           Personal                  3.0                    NaN   \n",
       "3           Personal                  2.0                    0.0   \n",
       "4           Personal                  1.0                    2.0   \n",
       "\n",
       "   Total_Minor_Injuries  Total_Uninjured  Weather_Condition  \\\n",
       "0                   0.0              0.0                UNK   \n",
       "1                   0.0              0.0                UNK   \n",
       "2                   NaN              NaN                IMC   \n",
       "3                   0.0              0.0                IMC   \n",
       "4                   NaN              0.0                VMC   \n",
       "\n",
       "   Broad_phase_of_flight   Report_Status  \n",
       "0                 Cruise  Probable Cause  \n",
       "1                Unknown  Probable Cause  \n",
       "2                 Cruise  Probable Cause  \n",
       "3                 Cruise  Probable Cause  \n",
       "4               Approach  Probable Cause  \n",
       "\n",
       "[5 rows x 22 columns]"
      ]
     },
     "execution_count": 713,
     "metadata": {},
     "output_type": "execute_result"
    }
   ],
   "source": [
    "df.head()"
   ]
  },
  {
   "cell_type": "markdown",
   "id": "7a0053be-ad28-457d-8e24-ffce89c696e3",
   "metadata": {},
   "source": [
    "### Incomplete Columns\n",
    "Now, we have 87,951 entries in the dataset. Most of the columns are incomplete though. For the columns that cannot be completed with reasonable values, we can fill some of them in with 'Unknown' instead of leaving them blank (NaN).\n",
    "\n",
    "Empty Location, Country, Aircraft_damage, Make, Model, Amateur_Built, Number_of_Engines, Engine_Type, Purpose_of_flight, Weather_Condition, Broad_phase_of_flight, and Report_Status values can be filled in as 'Unknown'."
   ]
  },
  {
   "cell_type": "code",
   "execution_count": 714,
   "id": "c85d99db-d13f-4ea0-bb03-db8c4fdff81a",
   "metadata": {},
   "outputs": [
    {
     "name": "stdout",
     "output_type": "stream",
     "text": [
      "<class 'pandas.core.frame.DataFrame'>\n",
      "Index: 87951 entries, 0 to 88888\n",
      "Data columns (total 22 columns):\n",
      " #   Column                  Non-Null Count  Dtype  \n",
      "---  ------                  --------------  -----  \n",
      " 0   Event_Id                87951 non-null  object \n",
      " 1   Investigation_Type      87951 non-null  object \n",
      " 2   Accident_Number         87951 non-null  object \n",
      " 3   Event_Date              87951 non-null  object \n",
      " 4   Location                87951 non-null  object \n",
      " 5   Country                 87951 non-null  object \n",
      " 6   Injury_Severity         86961 non-null  object \n",
      " 7   Aircraft_damage         87951 non-null  object \n",
      " 8   Aircraft_Category       32181 non-null  object \n",
      " 9   Make                    87951 non-null  object \n",
      " 10  Model                   87951 non-null  object \n",
      " 11  Amateur_Built           87951 non-null  object \n",
      " 12  Number_of_Engines       87951 non-null  object \n",
      " 13  Engine_Type             87951 non-null  object \n",
      " 14  Purpose_of_flight       87951 non-null  object \n",
      " 15  Total_Fatal_Injuries    76684 non-null  float64\n",
      " 16  Total_Serious_Injuries  75629 non-null  float64\n",
      " 17  Total_Minor_Injuries    76191 non-null  float64\n",
      " 18  Total_Uninjured         82088 non-null  float64\n",
      " 19  Weather_Condition       87951 non-null  object \n",
      " 20  Broad_phase_of_flight   87951 non-null  object \n",
      " 21  Report_Status           87951 non-null  object \n",
      "dtypes: float64(4), object(18)\n",
      "memory usage: 15.4+ MB\n"
     ]
    }
   ],
   "source": [
    "# Fill in NaN values in multiple columns with \"Unknown\"\n",
    "columns_to_fill = ['Location', 'Country', 'Aircraft_damage', 'Make', 'Model', 'Amateur_Built', 'Number_of_Engines', 'Engine_Type', 'Purpose_of_flight', \n",
    "                   'Weather_Condition', 'Broad_phase_of_flight', 'Report_Status']\n",
    "for column in columns_to_fill:\n",
    "    df[column] = df[column].fillna('Unknown')\n",
    "\n",
    "df.info()"
   ]
  },
  {
   "cell_type": "markdown",
   "id": "432fb43e-5e5b-4b7f-8f7b-be83a21ad885",
   "metadata": {},
   "source": [
    "The 4 injury columns (15 - 18) are incomplete, but they are float64, or integer, values, so we can't fill those empty values with \"Unknown\". The empty values should be changed to 0 to complete those columns."
   ]
  },
  {
   "cell_type": "code",
   "execution_count": 715,
   "id": "a9e72eeb-54e2-43d8-afd5-35154977fcbf",
   "metadata": {},
   "outputs": [
    {
     "name": "stdout",
     "output_type": "stream",
     "text": [
      "<class 'pandas.core.frame.DataFrame'>\n",
      "Index: 87951 entries, 0 to 88888\n",
      "Data columns (total 22 columns):\n",
      " #   Column                  Non-Null Count  Dtype  \n",
      "---  ------                  --------------  -----  \n",
      " 0   Event_Id                87951 non-null  object \n",
      " 1   Investigation_Type      87951 non-null  object \n",
      " 2   Accident_Number         87951 non-null  object \n",
      " 3   Event_Date              87951 non-null  object \n",
      " 4   Location                87951 non-null  object \n",
      " 5   Country                 87951 non-null  object \n",
      " 6   Injury_Severity         86961 non-null  object \n",
      " 7   Aircraft_damage         87951 non-null  object \n",
      " 8   Aircraft_Category       32181 non-null  object \n",
      " 9   Make                    87951 non-null  object \n",
      " 10  Model                   87951 non-null  object \n",
      " 11  Amateur_Built           87951 non-null  object \n",
      " 12  Number_of_Engines       87951 non-null  object \n",
      " 13  Engine_Type             87951 non-null  object \n",
      " 14  Purpose_of_flight       87951 non-null  object \n",
      " 15  Total_Fatal_Injuries    87951 non-null  float64\n",
      " 16  Total_Serious_Injuries  87951 non-null  float64\n",
      " 17  Total_Minor_Injuries    87951 non-null  float64\n",
      " 18  Total_Uninjured         87951 non-null  float64\n",
      " 19  Weather_Condition       87951 non-null  object \n",
      " 20  Broad_phase_of_flight   87951 non-null  object \n",
      " 21  Report_Status           87951 non-null  object \n",
      "dtypes: float64(4), object(18)\n",
      "memory usage: 15.4+ MB\n"
     ]
    }
   ],
   "source": [
    "# Fill in NaN values in multiple columns with 0\n",
    "injury_columns_to_fill = ['Total_Fatal_Injuries', 'Total_Serious_Injuries', 'Total_Minor_Injuries', 'Total_Uninjured']\n",
    "for column in injury_columns_to_fill:\n",
    "    df[column] = df[column].fillna(0)\n",
    "\n",
    "df.info()"
   ]
  },
  {
   "cell_type": "code",
   "execution_count": 716,
   "id": "337b658a-43bf-4a67-80a8-a2f223fa1851",
   "metadata": {},
   "outputs": [
    {
     "data": {
      "text/html": [
       "<div>\n",
       "<style scoped>\n",
       "    .dataframe tbody tr th:only-of-type {\n",
       "        vertical-align: middle;\n",
       "    }\n",
       "\n",
       "    .dataframe tbody tr th {\n",
       "        vertical-align: top;\n",
       "    }\n",
       "\n",
       "    .dataframe thead th {\n",
       "        text-align: right;\n",
       "    }\n",
       "</style>\n",
       "<table border=\"1\" class=\"dataframe\">\n",
       "  <thead>\n",
       "    <tr style=\"text-align: right;\">\n",
       "      <th></th>\n",
       "      <th>Event_Id</th>\n",
       "      <th>Investigation_Type</th>\n",
       "      <th>Accident_Number</th>\n",
       "      <th>Event_Date</th>\n",
       "      <th>Location</th>\n",
       "      <th>Country</th>\n",
       "      <th>Injury_Severity</th>\n",
       "      <th>Aircraft_damage</th>\n",
       "      <th>Aircraft_Category</th>\n",
       "      <th>Make</th>\n",
       "      <th>...</th>\n",
       "      <th>Number_of_Engines</th>\n",
       "      <th>Engine_Type</th>\n",
       "      <th>Purpose_of_flight</th>\n",
       "      <th>Total_Fatal_Injuries</th>\n",
       "      <th>Total_Serious_Injuries</th>\n",
       "      <th>Total_Minor_Injuries</th>\n",
       "      <th>Total_Uninjured</th>\n",
       "      <th>Weather_Condition</th>\n",
       "      <th>Broad_phase_of_flight</th>\n",
       "      <th>Report_Status</th>\n",
       "    </tr>\n",
       "  </thead>\n",
       "  <tbody>\n",
       "    <tr>\n",
       "      <th>0</th>\n",
       "      <td>20001218X45444</td>\n",
       "      <td>Accident</td>\n",
       "      <td>SEA87LA080</td>\n",
       "      <td>1948-10-24</td>\n",
       "      <td>MOOSE CREEK, ID</td>\n",
       "      <td>United States</td>\n",
       "      <td>Fatal(2)</td>\n",
       "      <td>Destroyed</td>\n",
       "      <td>NaN</td>\n",
       "      <td>Stinson</td>\n",
       "      <td>...</td>\n",
       "      <td>1.0</td>\n",
       "      <td>Reciprocating</td>\n",
       "      <td>Personal</td>\n",
       "      <td>2.0</td>\n",
       "      <td>0.0</td>\n",
       "      <td>0.0</td>\n",
       "      <td>0.0</td>\n",
       "      <td>UNK</td>\n",
       "      <td>Cruise</td>\n",
       "      <td>Probable Cause</td>\n",
       "    </tr>\n",
       "    <tr>\n",
       "      <th>1</th>\n",
       "      <td>20001218X45447</td>\n",
       "      <td>Accident</td>\n",
       "      <td>LAX94LA336</td>\n",
       "      <td>1962-07-19</td>\n",
       "      <td>BRIDGEPORT, CA</td>\n",
       "      <td>United States</td>\n",
       "      <td>Fatal(4)</td>\n",
       "      <td>Destroyed</td>\n",
       "      <td>NaN</td>\n",
       "      <td>Piper</td>\n",
       "      <td>...</td>\n",
       "      <td>1.0</td>\n",
       "      <td>Reciprocating</td>\n",
       "      <td>Personal</td>\n",
       "      <td>4.0</td>\n",
       "      <td>0.0</td>\n",
       "      <td>0.0</td>\n",
       "      <td>0.0</td>\n",
       "      <td>UNK</td>\n",
       "      <td>Unknown</td>\n",
       "      <td>Probable Cause</td>\n",
       "    </tr>\n",
       "    <tr>\n",
       "      <th>2</th>\n",
       "      <td>20061025X01555</td>\n",
       "      <td>Accident</td>\n",
       "      <td>NYC07LA005</td>\n",
       "      <td>1974-08-30</td>\n",
       "      <td>Saltville, VA</td>\n",
       "      <td>United States</td>\n",
       "      <td>Fatal(3)</td>\n",
       "      <td>Destroyed</td>\n",
       "      <td>NaN</td>\n",
       "      <td>Cessna</td>\n",
       "      <td>...</td>\n",
       "      <td>1.0</td>\n",
       "      <td>Reciprocating</td>\n",
       "      <td>Personal</td>\n",
       "      <td>3.0</td>\n",
       "      <td>0.0</td>\n",
       "      <td>0.0</td>\n",
       "      <td>0.0</td>\n",
       "      <td>IMC</td>\n",
       "      <td>Cruise</td>\n",
       "      <td>Probable Cause</td>\n",
       "    </tr>\n",
       "    <tr>\n",
       "      <th>3</th>\n",
       "      <td>20001218X45448</td>\n",
       "      <td>Accident</td>\n",
       "      <td>LAX96LA321</td>\n",
       "      <td>1977-06-19</td>\n",
       "      <td>EUREKA, CA</td>\n",
       "      <td>United States</td>\n",
       "      <td>Fatal(2)</td>\n",
       "      <td>Destroyed</td>\n",
       "      <td>NaN</td>\n",
       "      <td>Rockwell</td>\n",
       "      <td>...</td>\n",
       "      <td>1.0</td>\n",
       "      <td>Reciprocating</td>\n",
       "      <td>Personal</td>\n",
       "      <td>2.0</td>\n",
       "      <td>0.0</td>\n",
       "      <td>0.0</td>\n",
       "      <td>0.0</td>\n",
       "      <td>IMC</td>\n",
       "      <td>Cruise</td>\n",
       "      <td>Probable Cause</td>\n",
       "    </tr>\n",
       "    <tr>\n",
       "      <th>4</th>\n",
       "      <td>20041105X01764</td>\n",
       "      <td>Accident</td>\n",
       "      <td>CHI79FA064</td>\n",
       "      <td>1979-08-02</td>\n",
       "      <td>Canton, OH</td>\n",
       "      <td>United States</td>\n",
       "      <td>Fatal(1)</td>\n",
       "      <td>Destroyed</td>\n",
       "      <td>NaN</td>\n",
       "      <td>Cessna</td>\n",
       "      <td>...</td>\n",
       "      <td>Unknown</td>\n",
       "      <td>Unknown</td>\n",
       "      <td>Personal</td>\n",
       "      <td>1.0</td>\n",
       "      <td>2.0</td>\n",
       "      <td>0.0</td>\n",
       "      <td>0.0</td>\n",
       "      <td>VMC</td>\n",
       "      <td>Approach</td>\n",
       "      <td>Probable Cause</td>\n",
       "    </tr>\n",
       "  </tbody>\n",
       "</table>\n",
       "<p>5 rows × 22 columns</p>\n",
       "</div>"
      ],
      "text/plain": [
       "         Event_Id Investigation_Type Accident_Number  Event_Date  \\\n",
       "0  20001218X45444           Accident      SEA87LA080  1948-10-24   \n",
       "1  20001218X45447           Accident      LAX94LA336  1962-07-19   \n",
       "2  20061025X01555           Accident      NYC07LA005  1974-08-30   \n",
       "3  20001218X45448           Accident      LAX96LA321  1977-06-19   \n",
       "4  20041105X01764           Accident      CHI79FA064  1979-08-02   \n",
       "\n",
       "          Location        Country Injury_Severity Aircraft_damage  \\\n",
       "0  MOOSE CREEK, ID  United States        Fatal(2)       Destroyed   \n",
       "1   BRIDGEPORT, CA  United States        Fatal(4)       Destroyed   \n",
       "2    Saltville, VA  United States        Fatal(3)       Destroyed   \n",
       "3       EUREKA, CA  United States        Fatal(2)       Destroyed   \n",
       "4       Canton, OH  United States        Fatal(1)       Destroyed   \n",
       "\n",
       "  Aircraft_Category      Make  ... Number_of_Engines    Engine_Type  \\\n",
       "0               NaN   Stinson  ...               1.0  Reciprocating   \n",
       "1               NaN     Piper  ...               1.0  Reciprocating   \n",
       "2               NaN    Cessna  ...               1.0  Reciprocating   \n",
       "3               NaN  Rockwell  ...               1.0  Reciprocating   \n",
       "4               NaN    Cessna  ...           Unknown        Unknown   \n",
       "\n",
       "  Purpose_of_flight Total_Fatal_Injuries Total_Serious_Injuries  \\\n",
       "0          Personal                  2.0                    0.0   \n",
       "1          Personal                  4.0                    0.0   \n",
       "2          Personal                  3.0                    0.0   \n",
       "3          Personal                  2.0                    0.0   \n",
       "4          Personal                  1.0                    2.0   \n",
       "\n",
       "   Total_Minor_Injuries  Total_Uninjured  Weather_Condition  \\\n",
       "0                   0.0              0.0                UNK   \n",
       "1                   0.0              0.0                UNK   \n",
       "2                   0.0              0.0                IMC   \n",
       "3                   0.0              0.0                IMC   \n",
       "4                   0.0              0.0                VMC   \n",
       "\n",
       "   Broad_phase_of_flight   Report_Status  \n",
       "0                 Cruise  Probable Cause  \n",
       "1                Unknown  Probable Cause  \n",
       "2                 Cruise  Probable Cause  \n",
       "3                 Cruise  Probable Cause  \n",
       "4               Approach  Probable Cause  \n",
       "\n",
       "[5 rows x 22 columns]"
      ]
     },
     "execution_count": 716,
     "metadata": {},
     "output_type": "execute_result"
    }
   ],
   "source": [
    "df.head()"
   ]
  },
  {
   "cell_type": "markdown",
   "id": "8c15bd4d-7a15-4552-b315-4c6d11b749bc",
   "metadata": {},
   "source": [
    "Take a look at the Injury_Severity column"
   ]
  },
  {
   "cell_type": "code",
   "execution_count": 717,
   "id": "e29235f1-2d69-44f5-8d61-bfb74abd0054",
   "metadata": {},
   "outputs": [
    {
     "data": {
      "text/plain": [
       "Injury_Severity\n",
       "Non-Fatal     66822\n",
       "Fatal(1)       6086\n",
       "Fatal          5257\n",
       "Fatal(2)       3632\n",
       "Incident       2113\n",
       "              ...  \n",
       "Fatal(33)         1\n",
       "Fatal(123)        1\n",
       "Fatal(72)         1\n",
       "Fatal(54)         1\n",
       "Fatal(189)        1\n",
       "Name: count, Length: 110, dtype: int64"
      ]
     },
     "execution_count": 717,
     "metadata": {},
     "output_type": "execute_result"
    }
   ],
   "source": [
    "df['Injury_Severity'].value_counts(dropna=False)"
   ]
  },
  {
   "cell_type": "markdown",
   "id": "2f651106-16b7-4f8d-9475-5ecf1852853e",
   "metadata": {},
   "source": [
    "We see here the various values in that column give a number of fatal injuries for each accident. Since this number is already represented in the column for Total_Fatal_Injuries, we don't need this column, so can delete it."
   ]
  },
  {
   "cell_type": "code",
   "execution_count": 718,
   "id": "6367a42b-454f-42fe-9239-5af4b8a770ba",
   "metadata": {},
   "outputs": [
    {
     "name": "stdout",
     "output_type": "stream",
     "text": [
      "<class 'pandas.core.frame.DataFrame'>\n",
      "Index: 87951 entries, 0 to 88888\n",
      "Data columns (total 21 columns):\n",
      " #   Column                  Non-Null Count  Dtype  \n",
      "---  ------                  --------------  -----  \n",
      " 0   Event_Id                87951 non-null  object \n",
      " 1   Investigation_Type      87951 non-null  object \n",
      " 2   Accident_Number         87951 non-null  object \n",
      " 3   Event_Date              87951 non-null  object \n",
      " 4   Location                87951 non-null  object \n",
      " 5   Country                 87951 non-null  object \n",
      " 6   Aircraft_damage         87951 non-null  object \n",
      " 7   Aircraft_Category       32181 non-null  object \n",
      " 8   Make                    87951 non-null  object \n",
      " 9   Model                   87951 non-null  object \n",
      " 10  Amateur_Built           87951 non-null  object \n",
      " 11  Number_of_Engines       87951 non-null  object \n",
      " 12  Engine_Type             87951 non-null  object \n",
      " 13  Purpose_of_flight       87951 non-null  object \n",
      " 14  Total_Fatal_Injuries    87951 non-null  float64\n",
      " 15  Total_Serious_Injuries  87951 non-null  float64\n",
      " 16  Total_Minor_Injuries    87951 non-null  float64\n",
      " 17  Total_Uninjured         87951 non-null  float64\n",
      " 18  Weather_Condition       87951 non-null  object \n",
      " 19  Broad_phase_of_flight   87951 non-null  object \n",
      " 20  Report_Status           87951 non-null  object \n",
      "dtypes: float64(4), object(17)\n",
      "memory usage: 14.8+ MB\n"
     ]
    }
   ],
   "source": [
    "# Drop the Injury_Severity column\n",
    "df = df.drop('Injury_Severity', axis=1)\n",
    "\n",
    "df.info()"
   ]
  },
  {
   "cell_type": "markdown",
   "id": "21a078db-256a-4c1c-8a32-68aa631eb9e9",
   "metadata": {},
   "source": [
    "### Aircraft_Category\n",
    "The category of aircraft is important to the analysis, but the column is mostly empty.\n",
    "\n",
    "Many of the empty values can be filled in using the Make column, though."
   ]
  },
  {
   "cell_type": "code",
   "execution_count": 719,
   "id": "38e37227-e668-42f4-91d1-3037ebad3345",
   "metadata": {},
   "outputs": [
    {
     "data": {
      "text/plain": [
       "Make\n",
       "Cessna           21925\n",
       "Piper            11903\n",
       "CESSNA            4914\n",
       "Beech             4290\n",
       "PIPER             2841\n",
       "                 ...  \n",
       "Geertz               1\n",
       "Conrad Menzel        1\n",
       "Blucher              1\n",
       "Gideon               1\n",
       "ROYSE RALPH L        1\n",
       "Name: count, Length: 8202, dtype: int64"
      ]
     },
     "execution_count": 719,
     "metadata": {},
     "output_type": "execute_result"
    }
   ],
   "source": [
    "df['Make'].value_counts(dropna=False)"
   ]
  },
  {
   "cell_type": "markdown",
   "id": "2e58b96f-b269-4c07-883e-d0ea9a27fed4",
   "metadata": {},
   "source": [
    "I see here that there may exist multiple versions of the same makes, like \"Cessna\" and \"CESSNA\". It would be nice to clean this column for multiple versions of make names.\n",
    "\n",
    "We can start with Cessna since it has the most in value_counts and see what other versions of that name are in the dataset."
   ]
  },
  {
   "cell_type": "code",
   "execution_count": 720,
   "id": "41e22a04-a85d-4f6e-9972-73b1f550b57b",
   "metadata": {},
   "outputs": [
    {
     "data": {
      "text/plain": [
       "Make\n",
       "Cessna                     21925\n",
       "CESSNA                      4914\n",
       "CESSNA AIRCRAFT CO            24\n",
       "CESSNA AIRCRAFT                9\n",
       "CESSNA AIRCRAFT COMPANY        9\n",
       "Cessna Ector                   3\n",
       "CESSNA ECTOR                   3\n",
       "Cessna Aircraft Company        3\n",
       "Cessna Wren                    2\n",
       "CESSNA/AIR REPAIR INC          2\n",
       "CESSNA/WEAVER                  1\n",
       "Cessna Aircraft Co.            1\n",
       "CESSNA REIMS                   1\n",
       "CESSNA Aircraft                1\n",
       "Cessna Reems                   1\n",
       "Cessna Robertson               1\n",
       "Cessna Skyhawk II              1\n",
       "Cessna Soloy                   1\n",
       "Cesna                          1\n",
       "Name: count, dtype: int64"
      ]
     },
     "execution_count": 720,
     "metadata": {},
     "output_type": "execute_result"
    }
   ],
   "source": [
    "# Show Make value beginning with ces, ignoring case\n",
    "df[df['Make'].str.lower().str.startswith('ces')].value_counts('Make')"
   ]
  },
  {
   "cell_type": "markdown",
   "id": "e8b43605-bdff-4a15-9010-b95d8448397d",
   "metadata": {},
   "source": [
    "So all these makes can be cleaned by changing the values to \"Cessna\""
   ]
  },
  {
   "cell_type": "code",
   "execution_count": 721,
   "id": "33e8a7b6-90f4-48e6-a6dd-10d349c0db77",
   "metadata": {},
   "outputs": [
    {
     "data": {
      "text/plain": [
       "Make\n",
       "Cessna    26903\n",
       "Name: count, dtype: int64"
      ]
     },
     "execution_count": 721,
     "metadata": {},
     "output_type": "execute_result"
    }
   ],
   "source": [
    "# Convert all these cessna values to 'Cessna'\n",
    "df.loc[df['Make'].str.lower().str.startswith('ces'), 'Make'] = 'Cessna'\n",
    "\n",
    "df[df['Make'].str.lower().str.startswith('ces')].value_counts('Make')"
   ]
  },
  {
   "cell_type": "markdown",
   "id": "db6a3db9-4223-48bf-925b-409573bae0fd",
   "metadata": {},
   "source": [
    "We now have almost 27000 Cessna makes instead. So we can now look at the category values for these makes."
   ]
  },
  {
   "cell_type": "code",
   "execution_count": 722,
   "id": "c02dbf5b-cadb-4dd2-82aa-6913255305c9",
   "metadata": {},
   "outputs": [
    {
     "data": {
      "text/plain": [
       "Aircraft_Category\n",
       "NaN         18406\n",
       "Airplane     8496\n",
       "Unknown         1\n",
       "Name: count, dtype: int64"
      ]
     },
     "execution_count": 722,
     "metadata": {},
     "output_type": "execute_result"
    }
   ],
   "source": [
    "# Aircraft_Category values for Cessna in the Make column, include NaN\n",
    "df[df['Make'] == 'Cessna'].value_counts('Aircraft_Category', dropna=False)"
   ]
  },
  {
   "cell_type": "markdown",
   "id": "aa08341b-ae65-4114-930e-cd071ab61905",
   "metadata": {},
   "source": [
    "It looks like it would be safe to replace the empty category values (and 1 unknown) for the Cessna make with \"Airplane\""
   ]
  },
  {
   "cell_type": "code",
   "execution_count": 723,
   "id": "64b9f72e-9d19-4e5e-b83a-a7944e7033cd",
   "metadata": {},
   "outputs": [],
   "source": [
    "# Fill in Aircraft_Category as 'Airplane' for Cessna\n",
    "df.loc[df['Make'] == 'Cessna', 'Aircraft_Category'] = 'Airplane'"
   ]
  },
  {
   "cell_type": "code",
   "execution_count": 724,
   "id": "cd4555ac-34ce-4bfc-a39a-5ae9de21f7cd",
   "metadata": {},
   "outputs": [
    {
     "data": {
      "text/plain": [
       "Make\n",
       "Cessna           26903\n",
       "Piper            11903\n",
       "Beech             4290\n",
       "PIPER             2841\n",
       "Bell              2118\n",
       "                 ...  \n",
       "Gideon               1\n",
       "Brault               1\n",
       "Baldwin              1\n",
       "Kirchner             1\n",
       "ROYSE RALPH L        1\n",
       "Name: count, Length: 8184, dtype: int64"
      ]
     },
     "execution_count": 724,
     "metadata": {},
     "output_type": "execute_result"
    }
   ],
   "source": [
    "# Let's look at Make value_counts again\n",
    "df['Make'].value_counts(dropna=False)"
   ]
  },
  {
   "cell_type": "raw",
   "id": "e8a29b65-1b2e-4695-943f-a948f487349a",
   "metadata": {},
   "source": [
    "Let's run the same analysis and function for other top make values."
   ]
  },
  {
   "cell_type": "code",
   "execution_count": 725,
   "id": "fe5303d7-30b2-4692-8cae-eb8883ce342b",
   "metadata": {},
   "outputs": [
    {
     "data": {
      "text/plain": [
       "Make\n",
       "Piper                         11903\n",
       "PIPER                          2841\n",
       "PIPER AIRCRAFT INC               27\n",
       "PIPER AIRCRAFT CORPORATION        8\n",
       "PIPER AIRCRAFT                    4\n",
       "Piper Aircraft                    3\n",
       "Piper/cub Crafters                3\n",
       "PIPER/CUB CRAFTERS                3\n",
       "Piper Aircraft Corporation        3\n",
       "Piper Aircraft, Inc.              2\n",
       "Piper Aerostar                    2\n",
       "PIPER / LAUDEMAN                  1\n",
       "PIPER/WALLY'S FLYERS INC          1\n",
       "PIPER-HARRIS                      1\n",
       "Piper Cub Crafters                1\n",
       "Piper Pawnee                      1\n",
       "Piper-aerostar                    1\n",
       "Piper/Cub Crafters                1\n",
       "PIPER AIRCRAFT, INC.              1\n",
       "Piper/stevens                     1\n",
       "Name: count, dtype: int64"
      ]
     },
     "execution_count": 725,
     "metadata": {},
     "output_type": "execute_result"
    }
   ],
   "source": [
    "# Show Make value beginning with piper, ignoring case\n",
    "df[df['Make'].str.lower().str.startswith('piper')].value_counts('Make')"
   ]
  },
  {
   "cell_type": "code",
   "execution_count": 726,
   "id": "ed69f877-f0f5-4d6a-a831-d86857830e44",
   "metadata": {},
   "outputs": [
    {
     "data": {
      "text/plain": [
       "Aircraft_Category\n",
       "NaN         10045\n",
       "Airplane     4763\n",
       "Name: count, dtype: int64"
      ]
     },
     "execution_count": 726,
     "metadata": {},
     "output_type": "execute_result"
    }
   ],
   "source": [
    "# Convert all these piper values to 'Piper' and then take a look at its category values\n",
    "df.loc[df['Make'].str.lower().str.startswith('piper'), 'Make'] = 'Piper'\n",
    "\n",
    "df[df['Make'] == 'Piper'].value_counts('Aircraft_Category', dropna=False)"
   ]
  },
  {
   "cell_type": "code",
   "execution_count": 727,
   "id": "7a20cec1-fb64-4efa-91fe-e99e5bf9a0f3",
   "metadata": {},
   "outputs": [],
   "source": [
    "# Fill in the NaN values for the category column for Piper as \"Airplane\"\n",
    "df.loc[df['Make'] == 'Piper', 'Aircraft_Category'] = 'Airplane'"
   ]
  },
  {
   "cell_type": "code",
   "execution_count": 728,
   "id": "12f7e621-61b5-41b8-a510-db5226be6cba",
   "metadata": {},
   "outputs": [
    {
     "data": {
      "text/plain": [
       "Make\n",
       "Beech                         4290\n",
       "BEECH                         1042\n",
       "Beechcraft                      24\n",
       "BEECHCRAFT                       5\n",
       "BEECH AIRCRAFT                   3\n",
       "BEECH AIRCRAFT CORPORATION       2\n",
       "Beech Aircraft Corporation       2\n",
       "BEECH AIRCRAFT CO.               1\n",
       "Beech Aircraft Corp              1\n",
       "Beechcraft Corporation           1\n",
       "Beecher                          1\n",
       "Name: count, dtype: int64"
      ]
     },
     "execution_count": 728,
     "metadata": {},
     "output_type": "execute_result"
    }
   ],
   "source": [
    "# Show Make value beginning with beech, ignoring case\n",
    "df[df['Make'].str.lower().str.startswith('beech')].value_counts('Make')"
   ]
  },
  {
   "cell_type": "markdown",
   "id": "0d06a4a3-fc7f-4dd1-9267-81b5fea4ab13",
   "metadata": {},
   "source": [
    "A quick Google search tells me that Beech and Beechcraft are the same make."
   ]
  },
  {
   "cell_type": "code",
   "execution_count": 729,
   "id": "bab05672-9a61-4585-9d82-e71381d92ad8",
   "metadata": {},
   "outputs": [
    {
     "data": {
      "text/plain": [
       "Aircraft_Category\n",
       "NaN         3654\n",
       "Airplane    1718\n",
       "Name: count, dtype: int64"
      ]
     },
     "execution_count": 729,
     "metadata": {},
     "output_type": "execute_result"
    }
   ],
   "source": [
    "df.loc[df['Make'].str.lower().str.startswith('beech'), 'Make'] = 'Beech'\n",
    "\n",
    "df[df['Make'] == 'Beech'].value_counts('Aircraft_Category', dropna=False)"
   ]
  },
  {
   "cell_type": "code",
   "execution_count": 730,
   "id": "3d413034-6e23-4e10-9161-71839e91e24c",
   "metadata": {},
   "outputs": [],
   "source": [
    "df.loc[df['Make'] == 'Beech', 'Aircraft_Category'] = 'Airplane'"
   ]
  },
  {
   "cell_type": "code",
   "execution_count": 731,
   "id": "85dfff0f-7307-4c7d-b4f1-1aaf0a76072c",
   "metadata": {},
   "outputs": [
    {
     "data": {
      "text/plain": [
       "Make\n",
       "Bell                              2118\n",
       "Bellanca                           874\n",
       "BELL                               588\n",
       "BELLANCA                           159\n",
       "BELL HELICOPTER TEXTRON CANADA      23\n",
       "BELL HELICOPTER TEXTRON             21\n",
       "BELL HELICOPTER                      4\n",
       "Bell-transworld                      3\n",
       "Bell Helicopter                      3\n",
       "Bell-k Copter                        2\n",
       "Bell Helicopter Textron              2\n",
       "Bell-carson                          2\n",
       "BELL TEXTRON CANADA LTD              2\n",
       "BELL HELICOPTER CO                   2\n",
       "Bell-olympic Helicopters, Inc.       1\n",
       "Bell-moore                           1\n",
       "Bell-world                           1\n",
       "Bell/soloy                           1\n",
       "Bell/garlick                         1\n",
       "Bell/mason                           1\n",
       "Bell/textron                         1\n",
       "Bell/tsirah                          1\n",
       "Bellah                               1\n",
       "Bellanca Aircraft Corporation        1\n",
       "Bellanca Citabria                    1\n",
       "Bell-kitz Kopters                    1\n",
       "Bell Shelby Aero                     1\n",
       "Bell-continental Copters             1\n",
       "Bell-cont 42g                        1\n",
       "Bell-campbell                        1\n",
       "BELL BILL                            1\n",
       "Bell 47g-3b                          1\n",
       "BELLET JAMES J                       1\n",
       "BELLER                               1\n",
       "BELL/GARLICK                         1\n",
       "BELL-WATSON                          1\n",
       "BELL-TRANSWORLD HELICOPTERS          1\n",
       "BELL-TRANSWORLD HELICOPTER COR       1\n",
       "BELL-TELLIJOHN                       1\n",
       "BELL-CARSON                          1\n",
       "BELL HELICOPTER TEXTRON INC          1\n",
       "Bellance                             1\n",
       "Name: count, dtype: int64"
      ]
     },
     "execution_count": 731,
     "metadata": {},
     "output_type": "execute_result"
    }
   ],
   "source": [
    "df[df['Make'].str.lower().str.startswith('bell')].value_counts('Make')"
   ]
  },
  {
   "cell_type": "code",
   "execution_count": 732,
   "id": "44361d37-1691-4da2-b941-0767915e57e0",
   "metadata": {},
   "outputs": [
    {
     "data": {
      "text/plain": [
       "Make\n",
       "Bell              2792\n",
       "Bellanca          1036\n",
       "BELLER               1\n",
       "BELLET JAMES J       1\n",
       "Bellah               1\n",
       "Name: count, dtype: int64"
      ]
     },
     "execution_count": 732,
     "metadata": {},
     "output_type": "execute_result"
    }
   ],
   "source": [
    "# Bellanca and Bell are not the same make, so will take a little more work to clean all the various bell combinations.\n",
    "# change the various interations of bell to Bell\n",
    "df.loc[df['Make'].str.lower().str.startswith(('bell-', 'bell/', 'bell h', 'bell t', 'bell s', 'bell b', 'bell 4'), na=False), 'Make'] = 'Bell'\n",
    "\n",
    "# make Bell and BELL the same\n",
    "df.loc[(df['Make'] == 'BELL'), 'Make'] = 'Bell'\n",
    "\n",
    "# address the various versions of Bellanca\n",
    "df.loc[df['Make'].str.lower().str.startswith(('bellan'), na=False), 'Make'] = 'Bellanca'\n",
    "\n",
    "# check the list again\n",
    "df[df['Make'].str.lower().str.startswith('bell')].value_counts('Make')"
   ]
  },
  {
   "cell_type": "code",
   "execution_count": 733,
   "id": "c9763a52-2998-41e4-be1a-1b5523c5f44d",
   "metadata": {},
   "outputs": [
    {
     "data": {
      "text/plain": [
       "Aircraft_Category\n",
       "NaN           1816\n",
       "Helicopter     971\n",
       "Airplane         3\n",
       "Unknown          2\n",
       "Name: count, dtype: int64"
      ]
     },
     "execution_count": 733,
     "metadata": {},
     "output_type": "execute_result"
    }
   ],
   "source": [
    "# Now we can look at the categories for Bell and Bellanca\n",
    "df[df['Make'] == 'Bell'].value_counts('Aircraft_Category', dropna=False)"
   ]
  },
  {
   "cell_type": "code",
   "execution_count": 734,
   "id": "4ce177c6-96e8-4586-9e67-94f4153b237f",
   "metadata": {},
   "outputs": [
    {
     "data": {
      "text/plain": [
       "Aircraft_Category\n",
       "Helicopter    2792\n",
       "Name: count, dtype: int64"
      ]
     },
     "execution_count": 734,
     "metadata": {},
     "output_type": "execute_result"
    }
   ],
   "source": [
    "# Bell can safely be changed to Helicopter for its category\n",
    "df.loc[df['Make'] == 'Bell', 'Aircraft_Category'] = 'Helicopter'\n",
    "\n",
    "df[df['Make'] == 'Bell'].value_counts('Aircraft_Category', dropna=False)"
   ]
  },
  {
   "cell_type": "code",
   "execution_count": 735,
   "id": "b69bfb5c-3b93-4a15-a54f-da7c2d9b521b",
   "metadata": {},
   "outputs": [
    {
     "data": {
      "text/plain": [
       "Aircraft_Category\n",
       "NaN         753\n",
       "Airplane    283\n",
       "Name: count, dtype: int64"
      ]
     },
     "execution_count": 735,
     "metadata": {},
     "output_type": "execute_result"
    }
   ],
   "source": [
    "df[df['Make'] == 'Bellanca'].value_counts('Aircraft_Category', dropna=False)"
   ]
  },
  {
   "cell_type": "code",
   "execution_count": 736,
   "id": "42e7a45a-20b2-48a5-b7c0-a6e52b4725e3",
   "metadata": {},
   "outputs": [],
   "source": [
    "df.loc[df['Make'] == 'Bellanca', 'Aircraft_Category'] = 'Airplane'"
   ]
  },
  {
   "cell_type": "code",
   "execution_count": 737,
   "id": "cf1da8f6-3556-4516-a108-5255009db21b",
   "metadata": {},
   "outputs": [
    {
     "data": {
      "text/plain": [
       "Make\n",
       "Cessna           26903\n",
       "Piper            14808\n",
       "Beech             5372\n",
       "Bell              2792\n",
       "Boeing            1512\n",
       "                 ...  \n",
       "Gideon               1\n",
       "Brault               1\n",
       "Baldwin              1\n",
       "Kirchner             1\n",
       "ROYSE RALPH L        1\n",
       "Name: count, Length: 8118, dtype: int64"
      ]
     },
     "execution_count": 737,
     "metadata": {},
     "output_type": "execute_result"
    }
   ],
   "source": [
    "# Let's look at Make value_counts again\n",
    "df['Make'].value_counts(dropna=False)"
   ]
  },
  {
   "cell_type": "code",
   "execution_count": 738,
   "id": "7972b437-84ab-4d7d-af3f-75fee1fc3ac6",
   "metadata": {},
   "outputs": [
    {
     "data": {
      "text/plain": [
       "Make\n",
       "Boeing                            1512\n",
       "BOEING                            1140\n",
       "Boeing Stearman                     48\n",
       "BOEING COMPANY                       8\n",
       "Boeing Vertol                        6\n",
       "Boeing Helicopters Div.              3\n",
       "Boeing - Canada (de Havilland)       2\n",
       "BOEING 777-306ER                     1\n",
       "BOEING COMPANY, LONG BEACH DIV       1\n",
       "BOEING OF CANADA/DEHAV DIV           1\n",
       "BOEING-STEARMAN                      1\n",
       "BOEING-VERTOL                        1\n",
       "Boeing (Stearman)                    1\n",
       "Boeing Commercial Airplane Gro       1\n",
       "Boeing Company                       1\n",
       "Boeing-brown                         1\n",
       "Name: count, dtype: int64"
      ]
     },
     "execution_count": 738,
     "metadata": {},
     "output_type": "execute_result"
    }
   ],
   "source": [
    "# clean the boeing make\n",
    "df[df['Make'].str.lower().str.startswith('boei')].value_counts('Make')"
   ]
  },
  {
   "cell_type": "code",
   "execution_count": 739,
   "id": "304630ba-e20c-4a3f-95a9-403e35e174ce",
   "metadata": {},
   "outputs": [
    {
     "data": {
      "text/plain": [
       "Aircraft_Category\n",
       "NaN             1397\n",
       "Airplane        1325\n",
       "Helicopter         5\n",
       "Powered-Lift       1\n",
       "Name: count, dtype: int64"
      ]
     },
     "execution_count": 739,
     "metadata": {},
     "output_type": "execute_result"
    }
   ],
   "source": [
    "# change the various iterations of boeing to Boeing\n",
    "df.loc[df['Make'].str.lower().str.startswith('boeing'), 'Make'] = 'Boeing'\n",
    "\n",
    "df[df['Make'] == 'Boeing'].value_counts('Aircraft_Category', dropna=False)"
   ]
  },
  {
   "cell_type": "code",
   "execution_count": 740,
   "id": "1c3e137a-769d-4386-824f-f6f5db70a8c9",
   "metadata": {},
   "outputs": [],
   "source": [
    "# Boeing can safely be assigned to the Airplane category\n",
    "df.loc[df['Make'] == 'Boeing', 'Aircraft_Category'] = 'Airplane'"
   ]
  },
  {
   "cell_type": "code",
   "execution_count": 741,
   "id": "770451c4-c492-4648-984f-f42ff65d40f6",
   "metadata": {},
   "outputs": [
    {
     "data": {
      "text/plain": [
       "Make\n",
       "Cessna                            26903\n",
       "Piper                             14808\n",
       "Beech                              5372\n",
       "Bell                               2792\n",
       "Boeing                             2728\n",
       "Mooney                             1080\n",
       "Grumman                            1080\n",
       "Bellanca                           1036\n",
       "Robinson                            940\n",
       "Hughes                              794\n",
       "Schweizer                           628\n",
       "Air Tractor                         588\n",
       "Mcdonnell Douglas                   499\n",
       "Aeronca                             479\n",
       "Maule                               443\n",
       "Champion                            426\n",
       "De Havilland                        370\n",
       "Aero Commander                      356\n",
       "Stinson                             342\n",
       "Aerospatiale                        334\n",
       "Rockwell                            328\n",
       "Taylorcraft                         316\n",
       "Luscombe                            316\n",
       "Hiller                              311\n",
       "North American                      294\n",
       "ROBINSON                            283\n",
       "AIRBUS                              251\n",
       "Douglas                             250\n",
       "Enstrom                             247\n",
       "MOONEY                              242\n",
       "Grumman American                    222\n",
       "ROBINSON HELICOPTER                 221\n",
       "CIRRUS DESIGN CORP                  218\n",
       "AIR TRACTOR INC                     217\n",
       "Ayres                               213\n",
       "ROBINSON HELICOPTER COMPANY         179\n",
       "Ercoupe (eng & Research Corp.)      155\n",
       "Sikorsky                            153\n",
       "AERONCA                             149\n",
       "SCHWEIZER                           144\n",
       "MAULE                               144\n",
       "Swearingen                          141\n",
       "HUGHES                              137\n",
       "Lake                                136\n",
       "Balloon Works                       135\n",
       "Airbus Industrie                    135\n",
       "Fairchild                           131\n",
       "EMBRAER                             130\n",
       "EUROCOPTER                          128\n",
       "Pitts                               128\n",
       "Mitsubishi                          126\n",
       "Grumman-schweizer                   121\n",
       "Waco                                114\n",
       "Aviat                               112\n",
       "Let                                 111\n",
       "Lockheed                            111\n",
       "Learjet                             109\n",
       "Burkhart Grob                       109\n",
       "Embraer                             106\n",
       "AIR TRACTOR                          96\n",
       "Name: count, dtype: int64"
      ]
     },
     "execution_count": 741,
     "metadata": {},
     "output_type": "execute_result"
    }
   ],
   "source": [
    "# Let's look at the top 50 Make value counts and see if there are any that can be cleaned up\n",
    "df['Make'].value_counts().head(60)"
   ]
  },
  {
   "cell_type": "code",
   "execution_count": 742,
   "id": "7a5d99ab-6410-4f8e-96e4-4a04abc91df3",
   "metadata": {},
   "outputs": [
    {
     "data": {
      "text/plain": [
       "Aircraft_Category\n",
       "NaN         401\n",
       "Airplane    232\n",
       "Name: count, dtype: int64"
      ]
     },
     "execution_count": 742,
     "metadata": {},
     "output_type": "execute_result"
    }
   ],
   "source": [
    "# change the various iterations of aeronca to Aeronca\n",
    "df.loc[df['Make'].str.lower().str.startswith('aeronca'), 'Make'] = 'Aeronca'\n",
    "\n",
    "df[df['Make'] == 'Aeronca'].value_counts('Aircraft_Category', dropna=False)"
   ]
  },
  {
   "cell_type": "code",
   "execution_count": 743,
   "id": "fee0e42a-221a-4cc5-829c-90fd8f54a957",
   "metadata": {},
   "outputs": [],
   "source": [
    "# Aeronca is airplane\n",
    "df.loc[df['Make'] == 'Aeronca', 'Aircraft_Category'] = 'Airplane'"
   ]
  },
  {
   "cell_type": "code",
   "execution_count": 744,
   "id": "fea032da-8e18-4622-8bf0-f4b5ae743dbd",
   "metadata": {},
   "outputs": [
    {
     "data": {
      "text/plain": [
       "Aircraft_Category\n",
       "NaN         462\n",
       "Airplane    448\n",
       "Name: count, dtype: int64"
      ]
     },
     "execution_count": 744,
     "metadata": {},
     "output_type": "execute_result"
    }
   ],
   "source": [
    "# change the various iterations of Air Tractor and check its category values\n",
    "df.loc[df['Make'].str.lower().str.startswith('air tractor'), 'Make'] = 'Air Tractor'\n",
    "\n",
    "df[df['Make'] == 'Air Tractor'].value_counts('Aircraft_Category', dropna=False)"
   ]
  },
  {
   "cell_type": "code",
   "execution_count": 745,
   "id": "6da0d8d3-68b6-4141-955a-6feb0121084d",
   "metadata": {},
   "outputs": [],
   "source": [
    "# Air Tractor is Airplane\n",
    "df.loc[df['Make'] == 'Air Tractor', 'Aircraft_Category'] = 'Airplane'"
   ]
  },
  {
   "cell_type": "code",
   "execution_count": 746,
   "id": "6d6a778e-b515-4e1e-9aa4-bc09b0bbd53d",
   "metadata": {},
   "outputs": [
    {
     "data": {
      "text/plain": [
       "Make\n",
       "AIRBUS                            251\n",
       "Airbus Industrie                  135\n",
       "Airbus                             37\n",
       "AIRBUS INDUSTRIE                   22\n",
       "AIRBUS HELICOPTERS                 10\n",
       "AIRBUS HELICOPTERS INC              3\n",
       "Airbus Helicopters                  2\n",
       "AIRBUS HELICOPTER                   1\n",
       "AIRBUS Helicopters                  1\n",
       "AIRBUS/EUROCOPTER                   1\n",
       "Airbus Helicopters (Eurocopte       1\n",
       "Airbus Helicopters Deutschland      1\n",
       "Airbus Industries                   1\n",
       "Name: count, dtype: int64"
      ]
     },
     "execution_count": 746,
     "metadata": {},
     "output_type": "execute_result"
    }
   ],
   "source": [
    "# look at airbus\n",
    "df[df['Make'].str.lower().str.startswith('airbus')].value_counts('Make')"
   ]
  },
  {
   "cell_type": "code",
   "execution_count": 747,
   "id": "efebb7e3-eb4b-40fb-9021-69bb85c83124",
   "metadata": {},
   "outputs": [
    {
     "data": {
      "text/plain": [
       "Aircraft_Category\n",
       "Airplane        284\n",
       "NaN             141\n",
       "Helicopter       40\n",
       "Powered-Lift      1\n",
       "Name: count, dtype: int64"
      ]
     },
     "execution_count": 747,
     "metadata": {},
     "output_type": "execute_result"
    }
   ],
   "source": [
    "df[df['Make'].str.lower().str.startswith('airbus')].value_counts('Aircraft_Category', dropna=False)"
   ]
  },
  {
   "cell_type": "markdown",
   "id": "1bbc63a6-2d17-45ce-a1e0-95de79272ced",
   "metadata": {},
   "source": [
    "I see here that the various versions of Airbus have both airplanes and helicopters in the make and category columns, so before replacing make names and then filling in empty category values, I need to check the categories for some of the make iterations that may not be clear."
   ]
  },
  {
   "cell_type": "code",
   "execution_count": 748,
   "id": "ef40e5f2-686b-49ec-8d74-80a46b6ee44e",
   "metadata": {},
   "outputs": [
    {
     "data": {
      "text/plain": [
       "Aircraft_Category\n",
       "NaN         116\n",
       "Airplane     42\n",
       "Name: count, dtype: int64"
      ]
     },
     "execution_count": 748,
     "metadata": {},
     "output_type": "execute_result"
    }
   ],
   "source": [
    "# check out Airbus Industrie iterations\n",
    "df[df['Make'].str.lower().str.startswith('airbus i')].value_counts('Aircraft_Category', dropna=False)"
   ]
  },
  {
   "cell_type": "markdown",
   "id": "0f1ad9ae-e08c-4c2c-9d5d-02e10cfa02ff",
   "metadata": {},
   "source": [
    "So, Airbus Industrie, AIRBUS INDUSTRIE, and Airbus Industries can be combined and categorized as airplane"
   ]
  },
  {
   "cell_type": "code",
   "execution_count": 749,
   "id": "f78c3582-03d9-430e-85e7-a860e2248fbe",
   "metadata": {},
   "outputs": [
    {
     "data": {
      "text/plain": [
       "Make\n",
       "AIRBUS                            251\n",
       "Airbus Industrie                  158\n",
       "Airbus                             37\n",
       "AIRBUS HELICOPTERS                 10\n",
       "AIRBUS HELICOPTERS INC              3\n",
       "Airbus Helicopters                  2\n",
       "AIRBUS HELICOPTER                   1\n",
       "AIRBUS Helicopters                  1\n",
       "AIRBUS/EUROCOPTER                   1\n",
       "Airbus Helicopters (Eurocopte       1\n",
       "Airbus Helicopters Deutschland      1\n",
       "Name: count, dtype: int64"
      ]
     },
     "execution_count": 749,
     "metadata": {},
     "output_type": "execute_result"
    }
   ],
   "source": [
    "df.loc[df['Make'].isin(['AIRBUS INDUSTRIE', 'Airbus Industries']), 'Make'] = 'Airbus Industrie'\n",
    "\n",
    "df.loc[df['Make'] == 'Airbus Industrie', 'Aircraft_Category'] = 'Airplane'\n",
    "\n",
    "df[df['Make'].str.lower().str.startswith('airbus')].value_counts('Make')"
   ]
  },
  {
   "cell_type": "code",
   "execution_count": 750,
   "id": "72606c48-a49b-4b92-83a0-58dfe0733ab6",
   "metadata": {},
   "outputs": [
    {
     "data": {
      "text/plain": [
       "Make\n",
       "AIRBUS                251\n",
       "Airbus Industrie      158\n",
       "Airbus                 37\n",
       "Airbus Helicopters     20\n",
       "Name: count, dtype: int64"
      ]
     },
     "execution_count": 750,
     "metadata": {},
     "output_type": "execute_result"
    }
   ],
   "source": [
    "# clean up Airbus Helicopters\n",
    "df.loc[df['Make'].isin(['AIRBUS HELICOPTERS', 'AIRBUS Helicopters', 'AIRBUS HELICOPTERS INC', 'AIRBUS HELICOPTER', 'AIRBUS/EUROCOPTER', 'Airbus Helicopters (Eurocopte', 'Airbus Helicopters Deutschland']), 'Make'] = 'Airbus Helicopters'\n",
    "\n",
    "df.loc[df['Make'] == 'Airbus Helicopters', 'Aircraft_Category'] = 'Helicopter'\n",
    "\n",
    "df[df['Make'].str.lower().str.startswith('airbus')].value_counts('Make')"
   ]
  },
  {
   "cell_type": "code",
   "execution_count": 751,
   "id": "67476d1d-9e8f-4b8c-9744-a22e1eec2b7b",
   "metadata": {},
   "outputs": [
    {
     "data": {
      "text/plain": [
       "Aircraft_Category\n",
       "Airplane        242\n",
       "NaN              25\n",
       "Helicopter       20\n",
       "Powered-Lift      1\n",
       "Name: count, dtype: int64"
      ]
     },
     "execution_count": 751,
     "metadata": {},
     "output_type": "execute_result"
    }
   ],
   "source": [
    "# combine the Airbus iterations\n",
    "df.loc[(df['Make'] == 'AIRBUS'), 'Make'] = 'Airbus'\n",
    "\n",
    "df[df['Make'] == 'Airbus'].value_counts('Aircraft_Category', dropna=False)"
   ]
  },
  {
   "cell_type": "markdown",
   "id": "bee9c413-0b8e-4594-ac8f-7a70166ea458",
   "metadata": {},
   "source": [
    "Since only 20 of the almost 300 records for Airbus are helicopters, we can safely make the NaN values Airplane"
   ]
  },
  {
   "cell_type": "code",
   "execution_count": 752,
   "id": "0d35a022-0cf2-46ba-9f4e-c48be5bd4114",
   "metadata": {},
   "outputs": [
    {
     "data": {
      "text/plain": [
       "Make\n",
       "Airbus                288\n",
       "Airbus Industrie      158\n",
       "Airbus Helicopters     20\n",
       "Name: count, dtype: int64"
      ]
     },
     "execution_count": 752,
     "metadata": {},
     "output_type": "execute_result"
    }
   ],
   "source": [
    "df.loc[(df['Make'] == 'Airbus') & (df['Aircraft_Category'].isna()), 'Aircraft_Category'] = 'Airplane'\n",
    "\n",
    "df[df['Make'].str.lower().str.startswith('airbus')].value_counts('Make')"
   ]
  },
  {
   "cell_type": "code",
   "execution_count": 753,
   "id": "0d3a0073-3903-4dcc-a1cb-9798e0949c7d",
   "metadata": {},
   "outputs": [
    {
     "data": {
      "text/plain": [
       "Aircraft_Category\n",
       "Airplane             62783\n",
       "NaN                  18695\n",
       "Helicopter            5250\n",
       "Glider                 505\n",
       "Balloon                231\n",
       "Gyrocraft              173\n",
       "Weight-Shift           161\n",
       "Powered Parachute       91\n",
       "Ultralight              30\n",
       "Unknown                 11\n",
       "WSFT                     9\n",
       "Blimp                    4\n",
       "Powered-Lift             4\n",
       "UNK                      2\n",
       "Rocket                   1\n",
       "ULTR                     1\n",
       "Name: count, dtype: int64"
      ]
     },
     "execution_count": 753,
     "metadata": {},
     "output_type": "execute_result"
    }
   ],
   "source": [
    "df['Aircraft_Category'].value_counts(dropna=False)"
   ]
  },
  {
   "cell_type": "markdown",
   "id": "7596d106-2438-4080-9820-0e20c714e013",
   "metadata": {},
   "source": [
    "So from having over 56,000 empty values in the category column, we are down to 18,695 empty values. I'd like to bring this down even further by looking at the empty category values as compared with the Make column to see which makes have the most empty values for category."
   ]
  },
  {
   "cell_type": "code",
   "execution_count": 754,
   "id": "fba39323-9014-4692-9c0d-9dc7460f0f0d",
   "metadata": {},
   "outputs": [
    {
     "data": {
      "text/plain": [
       "Make\n",
       "Grumman                         911\n",
       "Mooney                          900\n",
       "Hughes                          686\n",
       "Robinson                        661\n",
       "Schweizer                       537\n",
       "                               ... \n",
       "York                              1\n",
       "Warren-thomas                     1\n",
       "Tennessee Engineering & Manf      1\n",
       "Slade H. Holmes                   1\n",
       "GRUMMAN AMERICAN AVN. CORP.       1\n",
       "Name: count, Length: 4049, dtype: int64"
      ]
     },
     "execution_count": 754,
     "metadata": {},
     "output_type": "execute_result"
    }
   ],
   "source": [
    "df[df['Aircraft_Category'].isna()]['Make'].value_counts()"
   ]
  },
  {
   "cell_type": "markdown",
   "id": "7a728e92-9010-4267-95e8-a8d8c931bd87",
   "metadata": {},
   "source": [
    "Let's look at the category values for these makes that have the most empty category values"
   ]
  },
  {
   "cell_type": "code",
   "execution_count": 755,
   "id": "71ccb39a-d1b4-4a73-9f11-6f9289262d11",
   "metadata": {},
   "outputs": [
    {
     "data": {
      "text/plain": [
       "Aircraft_Category\n",
       "NaN         911\n",
       "Airplane    169\n",
       "Name: count, dtype: int64"
      ]
     },
     "execution_count": 755,
     "metadata": {},
     "output_type": "execute_result"
    }
   ],
   "source": [
    "# Grumman\n",
    "df[df['Make'] == 'Grumman'].value_counts('Aircraft_Category', dropna=False)"
   ]
  },
  {
   "cell_type": "markdown",
   "id": "68074e9e-7055-4ec0-91a6-98c9110395bd",
   "metadata": {},
   "source": [
    "So Grumman is Airplane"
   ]
  },
  {
   "cell_type": "code",
   "execution_count": 756,
   "id": "231bbb13-e796-43e5-84da-b8e86980ef8f",
   "metadata": {},
   "outputs": [
    {
     "data": {
      "text/plain": [
       "Make\n",
       "Grumman                           1080\n",
       "Grumman American                   222\n",
       "Grumman-schweizer                  121\n",
       "GRUMMAN                             78\n",
       "GRUMMAN ACFT ENG COR-SCHWEIZER      58\n",
       "GRUMMAN AMERICAN AVN. CORP.         49\n",
       "Grumman-Schweizer                    6\n",
       "GRUMMAN AIRCRAFT ENG CORP            2\n",
       "GRUMMAN AMERICAN                     2\n",
       "Grumman Acft Eng                     2\n",
       "Grumman American Aviation            2\n",
       "GRUMMAN AIRCRAFT COR-SCHWEIZER       1\n",
       "GRUMMAN AMERICAN AVIATION CORP       1\n",
       "GRUMMAN AMERICAN AVN. CORP           1\n",
       "GRUMMAN ACFT ENG COR                 1\n",
       "GRUMMAN SCHWEIZER                    1\n",
       "GRUMMAN AIRCRAFT                     1\n",
       "Grumman American Avn. Corp.          1\n",
       "Grumman Schweizer                    1\n",
       "GRUMMAN American Corporation         1\n",
       "Name: count, dtype: int64"
      ]
     },
     "execution_count": 756,
     "metadata": {},
     "output_type": "execute_result"
    }
   ],
   "source": [
    "# check to see if there are any other versions of 'Grumman' in the make column\n",
    "df[df['Make'].str.lower().str.startswith('grumm')].value_counts('Make')"
   ]
  },
  {
   "cell_type": "code",
   "execution_count": 757,
   "id": "d1531dfd-f67e-403f-89b3-253c159a85f8",
   "metadata": {},
   "outputs": [
    {
     "data": {
      "text/plain": [
       "Aircraft_Category\n",
       "NaN         1207\n",
       "Airplane     424\n",
       "Name: count, dtype: int64"
      ]
     },
     "execution_count": 757,
     "metadata": {},
     "output_type": "execute_result"
    }
   ],
   "source": [
    "# What are the category values for all these different versions of Grumman\n",
    "df[df['Make'].str.lower().str.startswith('grumm')].value_counts('Aircraft_Category', dropna=False)"
   ]
  },
  {
   "cell_type": "code",
   "execution_count": 758,
   "id": "65c57bc6-f3e0-4304-a023-a92f13df174d",
   "metadata": {},
   "outputs": [
    {
     "data": {
      "text/plain": [
       "Make\n",
       "Grumman    1631\n",
       "Name: count, dtype: int64"
      ]
     },
     "execution_count": 758,
     "metadata": {},
     "output_type": "execute_result"
    }
   ],
   "source": [
    "# So let's combine all these Grumman makes together and make their category Airplane\n",
    "df.loc[df['Make'].str.lower().str.startswith('grumm'), 'Make'] = 'Grumman'\n",
    "\n",
    "df.loc[df['Make'] == 'Grumman', 'Aircraft_Category'] = 'Airplane'\n",
    "\n",
    "df[df['Make'].str.lower().str.startswith('grumm')].value_counts('Make')"
   ]
  },
  {
   "cell_type": "code",
   "execution_count": 759,
   "id": "890f96a5-0a8a-4f2c-8d9a-a9a19b3bf42e",
   "metadata": {},
   "outputs": [
    {
     "data": {
      "text/plain": [
       "Aircraft_Category\n",
       "NaN         900\n",
       "Airplane    180\n",
       "Name: count, dtype: int64"
      ]
     },
     "execution_count": 759,
     "metadata": {},
     "output_type": "execute_result"
    }
   ],
   "source": [
    "# Mooney\n",
    "df[df['Make'] == 'Mooney'].value_counts('Aircraft_Category', dropna=False)"
   ]
  },
  {
   "cell_type": "code",
   "execution_count": 760,
   "id": "d18c8737-4080-43e9-8502-534aede904a4",
   "metadata": {},
   "outputs": [
    {
     "data": {
      "text/plain": [
       "Make\n",
       "Mooney                           1080\n",
       "MOONEY                            242\n",
       "MOONEY AIRCRAFT CORP.              34\n",
       "MOONEY AIRPLANE CO INC             10\n",
       "MOONEY AIRPLANE COMPANY, INC.       1\n",
       "MOONEY INTERNATIONAL CORP           1\n",
       "Moon                                1\n",
       "Mooney Aircraft                     1\n",
       "Mooney Aircraft Corp                1\n",
       "Mooney Aircraft Corp.               1\n",
       "Mooney Aircraft Corporation         1\n",
       "Mooney, Dan                         1\n",
       "Name: count, dtype: int64"
      ]
     },
     "execution_count": 760,
     "metadata": {},
     "output_type": "execute_result"
    }
   ],
   "source": [
    "# check to see if there are any other versions of 'Mooney' in the make column\n",
    "df[df['Make'].str.lower().str.startswith('moon')].value_counts('Make')"
   ]
  },
  {
   "cell_type": "code",
   "execution_count": 761,
   "id": "45432977-08bd-40ef-ab83-8b8ad78da86b",
   "metadata": {},
   "outputs": [
    {
     "data": {
      "text/plain": [
       "Aircraft_Category\n",
       "NaN         908\n",
       "Airplane    466\n",
       "Name: count, dtype: int64"
      ]
     },
     "execution_count": 761,
     "metadata": {},
     "output_type": "execute_result"
    }
   ],
   "source": [
    "# What are the category values for all these different versions of Mooney\n",
    "df[df['Make'].str.lower().str.startswith('moon')].value_counts('Aircraft_Category', dropna=False)"
   ]
  },
  {
   "cell_type": "code",
   "execution_count": 762,
   "id": "520b9ff3-e747-4d57-b969-9632a89ea38b",
   "metadata": {},
   "outputs": [
    {
     "data": {
      "text/plain": [
       "Make\n",
       "Mooney    1373\n",
       "Moon         1\n",
       "Name: count, dtype: int64"
      ]
     },
     "execution_count": 762,
     "metadata": {},
     "output_type": "execute_result"
    }
   ],
   "source": [
    "# Combine all these Mooney makes together and make their category Airplane\n",
    "df.loc[df['Make'].str.lower().str.startswith('mooney'), 'Make'] = 'Mooney'\n",
    "\n",
    "df.loc[df['Make'] == 'Mooney', 'Aircraft_Category'] = 'Airplane'\n",
    "\n",
    "df[df['Make'].str.lower().str.startswith('moon')].value_counts('Make')"
   ]
  },
  {
   "cell_type": "code",
   "execution_count": 763,
   "id": "85013cf9-016b-4389-9579-7c3519de68b2",
   "metadata": {},
   "outputs": [
    {
     "data": {
      "text/plain": [
       "Aircraft_Category\n",
       "NaN           686\n",
       "Helicopter    108\n",
       "Name: count, dtype: int64"
      ]
     },
     "execution_count": 763,
     "metadata": {},
     "output_type": "execute_result"
    }
   ],
   "source": [
    "# Hughes\n",
    "df[df['Make'] == 'Hughes'].value_counts('Aircraft_Category', dropna=False)"
   ]
  },
  {
   "cell_type": "markdown",
   "id": "faed2eeb-0d8f-4ca5-9598-66e16c820e7e",
   "metadata": {},
   "source": [
    "Hughes would be all helicopters"
   ]
  },
  {
   "cell_type": "code",
   "execution_count": 764,
   "id": "20841616-5a7a-4d44-a600-0ee1411a405e",
   "metadata": {},
   "outputs": [
    {
     "data": {
      "text/plain": [
       "Make\n",
       "Hughes                          794\n",
       "HUGHES                          137\n",
       "HUGHES HELICOPTERS INC            3\n",
       "HUGHES AERO CORP                  2\n",
       "HUGHES CHARLES R                  1\n",
       "HUGHES/HELICOPTER ASSOCS INC      1\n",
       "Hughes Aero                       1\n",
       "Hughes Cassutt                    1\n",
       "Hughes J/Hughes J                 1\n",
       "Name: count, dtype: int64"
      ]
     },
     "execution_count": 764,
     "metadata": {},
     "output_type": "execute_result"
    }
   ],
   "source": [
    "# check to see if there are any other versions of 'Hughes' in the make column\n",
    "df[df['Make'].str.lower().str.startswith('hughes')].value_counts('Make')"
   ]
  },
  {
   "cell_type": "code",
   "execution_count": 765,
   "id": "a7b909eb-173b-4189-892a-c0d1952cf12e",
   "metadata": {},
   "outputs": [
    {
     "data": {
      "text/plain": [
       "Aircraft_Category\n",
       "NaN                  688\n",
       "Helicopter           248\n",
       "Airplane               3\n",
       "Powered Parachute      2\n",
       "Name: count, dtype: int64"
      ]
     },
     "execution_count": 765,
     "metadata": {},
     "output_type": "execute_result"
    }
   ],
   "source": [
    "df[df['Make'].str.lower().str.startswith('hughes')].value_counts('Aircraft_Category', dropna=False)"
   ]
  },
  {
   "cell_type": "markdown",
   "id": "dad59d3f-5a55-4047-9f51-87880d50b108",
   "metadata": {},
   "source": [
    "Now here we have a few airplanes and parachutes in addition to all the helicopters in our list of Hughes interations. This may be due to some people named Hughes in the list that are not associated with the helicopter company. We can narrow the list down to find just the helicopter Hughes."
   ]
  },
  {
   "cell_type": "code",
   "execution_count": 766,
   "id": "8142f18e-2198-43db-9a6e-95600719835d",
   "metadata": {},
   "outputs": [
    {
     "data": {
      "text/plain": [
       "Aircraft_Category\n",
       "NaN           687\n",
       "Helicopter    248\n",
       "Name: count, dtype: int64"
      ]
     },
     "execution_count": 766,
     "metadata": {},
     "output_type": "execute_result"
    }
   ],
   "source": [
    "df[df['Make'].isin(['Hughes', 'HUGHES', 'HUGHES HELICOPTERS INC', 'HUGHES/HELICOPTER ASSOCS INC'])].value_counts('Aircraft_Category', dropna=False)"
   ]
  },
  {
   "cell_type": "code",
   "execution_count": 767,
   "id": "4b8c07d1-a8e6-4f83-b2b8-3ee5e8eea89b",
   "metadata": {},
   "outputs": [
    {
     "data": {
      "text/plain": [
       "Aircraft_Category\n",
       "Helicopter    935\n",
       "Name: count, dtype: int64"
      ]
     },
     "execution_count": 767,
     "metadata": {},
     "output_type": "execute_result"
    }
   ],
   "source": [
    "# So these 4 can be combined and made Helicopter in the category field\n",
    "df.loc[df['Make'].isin(['Hughes', 'HUGHES', 'HUGHES HELICOPTERS INC', 'HUGHES/HELICOPTER ASSOCS INC']), 'Make'] = 'Hughes Helicopters'\n",
    "\n",
    "df.loc[df['Make'] == 'Hughes Helicopters', 'Aircraft_Category'] = 'Helicopter'\n",
    "\n",
    "df[df['Make'] == 'Hughes Helicopters'].value_counts('Aircraft_Category', dropna=False)"
   ]
  },
  {
   "cell_type": "code",
   "execution_count": 768,
   "id": "ec7927cd-a3c1-43bc-80ae-20caec4b3299",
   "metadata": {},
   "outputs": [
    {
     "data": {
      "text/plain": [
       "Make\n",
       "Robinson                       940\n",
       "ROBINSON                       283\n",
       "ROBINSON HELICOPTER            221\n",
       "ROBINSON HELICOPTER COMPANY    179\n",
       "ROBINSON HELICOPTER CO          22\n",
       "Robinson Helicopter Company     15\n",
       "Robinson Helicopter              9\n",
       "ROBINSON MICHAEL E               2\n",
       "ROBINSON HELICOPTER CO INC       1\n",
       "ROBINSON STEWART J               1\n",
       "Robinson Helicopter Co.          1\n",
       "Robinson Helicopters             1\n",
       "Name: count, dtype: int64"
      ]
     },
     "execution_count": 768,
     "metadata": {},
     "output_type": "execute_result"
    }
   ],
   "source": [
    "# Robinson\n",
    "df[df['Make'].str.lower().str.startswith('robins')].value_counts('Make')"
   ]
  },
  {
   "cell_type": "code",
   "execution_count": 769,
   "id": "0f883831-30ed-438e-bb12-36024ff78b89",
   "metadata": {},
   "outputs": [
    {
     "data": {
      "text/plain": [
       "Aircraft_Category\n",
       "Helicopter    981\n",
       "NaN           690\n",
       "Airplane        3\n",
       "Unknown         1\n",
       "Name: count, dtype: int64"
      ]
     },
     "execution_count": 769,
     "metadata": {},
     "output_type": "execute_result"
    }
   ],
   "source": [
    "df[df['Make'].str.lower().str.startswith('robins')].value_counts('Aircraft_Category', dropna=False)"
   ]
  },
  {
   "cell_type": "code",
   "execution_count": 770,
   "id": "2f87d31c-ed66-4d08-b2c7-5f49647ff279",
   "metadata": {},
   "outputs": [
    {
     "data": {
      "text/plain": [
       "Aircraft_Category\n",
       "Helicopter    1672\n",
       "Airplane         3\n",
       "Name: count, dtype: int64"
      ]
     },
     "execution_count": 770,
     "metadata": {},
     "output_type": "execute_result"
    }
   ],
   "source": [
    "# combine all the Robinson Helicopter iterations and make them Helicopter\n",
    "df.loc[df['Make'].isin(['ROBINSON', 'ROBINSON HELICOPTER', 'ROBINSON HELICOPTER COMPANY', 'ROBINSON HELICOPTER CO', 'Robinson Helicopter Company', 'Robinson Helicopter', 'ROBINSON HELICOPTER CO INC', 'Robinson Helicopter Co.', 'Robinson Helicopters']), 'Make'] = 'Robinson'\n",
    "\n",
    "df.loc[df['Make'] == 'Robinson', 'Aircraft_Category'] = 'Helicopter'\n",
    "\n",
    "df[df['Make'].str.lower().str.startswith('robins')].value_counts('Aircraft_Category', dropna=False)"
   ]
  },
  {
   "cell_type": "code",
   "execution_count": 771,
   "id": "2852bdc2-4ad0-4a2b-85ff-7ef2cb5b7a2c",
   "metadata": {},
   "outputs": [
    {
     "data": {
      "text/plain": [
       "Make\n",
       "Schweizer                         628\n",
       "SCHWEIZER                         144\n",
       "SCHWEIZER AIRCRAFT CORP            18\n",
       "SCHWEIZER(HUGHES)AIRCRAFT CORP      2\n",
       "Schweizer Aircraft Corp             2\n",
       "Schweizer Aircraft Corp.            2\n",
       "SCHWEIZER(HUGHES)                   1\n",
       "Schweizer 300CBi                    1\n",
       "Schweizer Sgs                       1\n",
       "Schweizer, N36289                   1\n",
       "Name: count, dtype: int64"
      ]
     },
     "execution_count": 771,
     "metadata": {},
     "output_type": "execute_result"
    }
   ],
   "source": [
    "# Schweizer\n",
    "df[df['Make'].str.lower().str.startswith('schweiz')].value_counts('Make')"
   ]
  },
  {
   "cell_type": "code",
   "execution_count": 772,
   "id": "838a75e8-3944-42e2-a04d-bbfff895f3af",
   "metadata": {},
   "outputs": [
    {
     "data": {
      "text/plain": [
       "Aircraft_Category\n",
       "NaN           541\n",
       "Helicopter    115\n",
       "Glider        111\n",
       "Airplane       32\n",
       "Unknown         1\n",
       "Name: count, dtype: int64"
      ]
     },
     "execution_count": 772,
     "metadata": {},
     "output_type": "execute_result"
    }
   ],
   "source": [
    "df[df['Make'].str.lower().str.startswith('schweiz')].value_counts('Aircraft_Category', dropna=False)"
   ]
  },
  {
   "cell_type": "markdown",
   "id": "d9239804-f326-4340-9583-522f0c746060",
   "metadata": {},
   "source": [
    "A more healthy mixture here requires some investigation"
   ]
  },
  {
   "cell_type": "code",
   "execution_count": 773,
   "id": "f4920d96-1fcb-443c-90d1-9cc5fafd933e",
   "metadata": {},
   "outputs": [
    {
     "data": {
      "text/plain": [
       "Aircraft_Category\n",
       "NaN           539\n",
       "Helicopter    111\n",
       "Glider        110\n",
       "Airplane       11\n",
       "Unknown         1\n",
       "Name: count, dtype: int64"
      ]
     },
     "execution_count": 773,
     "metadata": {},
     "output_type": "execute_result"
    }
   ],
   "source": [
    "df[df['Make'].isin(['SCHWEIZER', 'Schweizer'])].value_counts('Aircraft_Category', dropna=False)"
   ]
  },
  {
   "cell_type": "markdown",
   "id": "f415f57d-548b-42f8-8234-6169a56c76a3",
   "metadata": {},
   "source": [
    "A quick google search informs me that Schweizer Aircraft made helicopters, gliders, and airplanes, so filling in the category column for Schweizer cannot be accomplished just by using the make column. As the empty values only amount to almost 550, I'm going to leave Schweizer alone for now, except for combining the makes together so that I would be able to more easily dig into it using the model column as well."
   ]
  },
  {
   "cell_type": "code",
   "execution_count": 774,
   "id": "d0e6104a-1e4b-45be-9b2e-2349e9b760d1",
   "metadata": {},
   "outputs": [
    {
     "data": {
      "text/plain": [
       "Make\n",
       "Schweizer                         796\n",
       "SCHWEIZER(HUGHES)AIRCRAFT CORP      2\n",
       "SCHWEIZER(HUGHES)                   1\n",
       "Schweizer, N36289                   1\n",
       "Name: count, dtype: int64"
      ]
     },
     "execution_count": 774,
     "metadata": {},
     "output_type": "execute_result"
    }
   ],
   "source": [
    "df.loc[df['Make'].isin(['SCHWEIZER', 'SCHWEIZER AIRCRAFT CORP', 'Schweizer Aircraft Corp', 'Schweizer Aircraft Corp.', 'Schweizer 300CBi', 'Schweizer Sgs']), 'Make'] = 'Schweizer'\n",
    "\n",
    "df[df['Make'].str.lower().str.startswith('schweiz')].value_counts('Make')"
   ]
  },
  {
   "cell_type": "markdown",
   "id": "3a3ab426-0239-469b-a136-13bf6c938f8c",
   "metadata": {},
   "source": [
    "Now how are the empty category counts looking?"
   ]
  },
  {
   "cell_type": "code",
   "execution_count": 775,
   "id": "580da1cc-865e-4e14-8e6d-cdf4b4186804",
   "metadata": {},
   "outputs": [
    {
     "data": {
      "text/plain": [
       "Make\n",
       "Schweizer            541\n",
       "Mcdonnell Douglas    447\n",
       "Maule                355\n",
       "Champion             347\n",
       "Aero Commander       317\n",
       "                    ... \n",
       "Lamb/starduster        1\n",
       "Reif                   1\n",
       "Dale Conover           1\n",
       "Curt Hoffstad          1\n",
       "ROYSE RALPH L          1\n",
       "Name: count, Length: 4029, dtype: int64"
      ]
     },
     "execution_count": 775,
     "metadata": {},
     "output_type": "execute_result"
    }
   ],
   "source": [
    "df[df['Aircraft_Category'].isna()]['Make'].value_counts()"
   ]
  },
  {
   "cell_type": "code",
   "execution_count": 776,
   "id": "70b13366-9a22-48ba-9590-cd31b08bbded",
   "metadata": {},
   "outputs": [
    {
     "data": {
      "text/plain": [
       "Model\n",
       "269C           154\n",
       "G-164B         109\n",
       "SGS 2-33A       69\n",
       "269C-1          41\n",
       "G-164A          25\n",
       "              ... \n",
       "G167B            1\n",
       "G164A \"450\"      1\n",
       "G164-B           1\n",
       "G-164A-450       1\n",
       "TG3A             1\n",
       "Name: count, Length: 150, dtype: int64"
      ]
     },
     "execution_count": 776,
     "metadata": {},
     "output_type": "execute_result"
    }
   ],
   "source": [
    "# Let's look at the Scheizer models\n",
    "df[df['Make'].isin(['Schweizer'])].value_counts('Model', dropna=False)"
   ]
  },
  {
   "cell_type": "markdown",
   "id": "9168cea9-3c95-4311-9682-a51e0b9e3ca9",
   "metadata": {},
   "source": [
    "Wikepedia and Google informs me that the Schweizer 269C is a helicopter, G-164B is an airplane, SGS 2-33A is a glider, 269C-1 is a helicopter, and G-164A is an airplane. Let's see if that data could e used to fill some of the Schweizer category values."
   ]
  },
  {
   "cell_type": "code",
   "execution_count": 777,
   "id": "c0901738-25cb-4b3e-8936-59c8f81dfa16",
   "metadata": {},
   "outputs": [
    {
     "data": {
      "text/plain": [
       "Aircraft_Category\n",
       "Helicopter    253\n",
       "NaN            87\n",
       "Unknown         1\n",
       "Name: count, dtype: int64"
      ]
     },
     "execution_count": 777,
     "metadata": {},
     "output_type": "execute_result"
    }
   ],
   "source": [
    "df[df['Model'].isin(['269C'])].value_counts('Aircraft_Category', dropna=False)"
   ]
  },
  {
   "cell_type": "code",
   "execution_count": 778,
   "id": "84a74536-0369-4bf5-80dd-cfb4e52fedaf",
   "metadata": {},
   "outputs": [],
   "source": [
    "# Since the 269C model is a helicopter, let's fix all the empty category values for it. This fix will also fill in some category \n",
    "# values for other makes as well since we can see that there are more 269C models than just the Schweizer make.\n",
    "df.loc[df['Model'] == '269C', 'Aircraft_Category'] = 'Helicopter'"
   ]
  },
  {
   "cell_type": "code",
   "execution_count": 779,
   "id": "1585bd6e-8ff1-492e-9d3c-6abd073daa02",
   "metadata": {},
   "outputs": [
    {
     "data": {
      "text/plain": [
       "Aircraft_Category\n",
       "Airplane    738\n",
       "NaN         135\n",
       "Name: count, dtype: int64"
      ]
     },
     "execution_count": 779,
     "metadata": {},
     "output_type": "execute_result"
    }
   ],
   "source": [
    "# The same goes for the rest of the models listed\n",
    "df[df['Model'].isin(['G-164B', 'G-164A'])].value_counts('Aircraft_Category', dropna=False)"
   ]
  },
  {
   "cell_type": "code",
   "execution_count": 780,
   "id": "062589a0-e200-4caa-852d-ba65c098c62d",
   "metadata": {},
   "outputs": [],
   "source": [
    "df.loc[df['Model'].isin(['G-164B', 'G-164A']), 'Aircraft_Category'] = 'Airplane'"
   ]
  },
  {
   "cell_type": "code",
   "execution_count": 781,
   "id": "1b4cbdf2-6430-465b-a7aa-f4949d51217a",
   "metadata": {},
   "outputs": [
    {
     "data": {
      "text/plain": [
       "Aircraft_Category\n",
       "NaN       44\n",
       "Glider    25\n",
       "Name: count, dtype: int64"
      ]
     },
     "execution_count": 781,
     "metadata": {},
     "output_type": "execute_result"
    }
   ],
   "source": [
    "df[df['Model'].isin(['SGS 2-33A'])].value_counts('Aircraft_Category', dropna=False)"
   ]
  },
  {
   "cell_type": "code",
   "execution_count": 782,
   "id": "1eef8c20-2fe8-47ae-9728-da32995feaed",
   "metadata": {},
   "outputs": [],
   "source": [
    "df.loc[df['Model'] == 'SGS 2-33A', 'Aircraft_Category'] = 'Glider'"
   ]
  },
  {
   "cell_type": "code",
   "execution_count": 783,
   "id": "1ebf4280-acc4-4731-b81b-7e411588cfe5",
   "metadata": {},
   "outputs": [
    {
     "data": {
      "text/plain": [
       "Aircraft_Category\n",
       "Airplane             65032\n",
       "NaN                  14938\n",
       "Helicopter            6716\n",
       "Glider                 549\n",
       "Balloon                231\n",
       "Gyrocraft              173\n",
       "Weight-Shift           161\n",
       "Powered Parachute       91\n",
       "Ultralight              30\n",
       "Unknown                  9\n",
       "WSFT                     9\n",
       "Blimp                    4\n",
       "Powered-Lift             4\n",
       "UNK                      2\n",
       "Rocket                   1\n",
       "ULTR                     1\n",
       "Name: count, dtype: int64"
      ]
     },
     "execution_count": 783,
     "metadata": {},
     "output_type": "execute_result"
    }
   ],
   "source": [
    "# Let's look at how the category column is shaping up\n",
    "df['Aircraft_Category'].value_counts(dropna=False)"
   ]
  },
  {
   "cell_type": "markdown",
   "id": "d2713470-7b18-4829-98f1-1f60a2200887",
   "metadata": {},
   "source": [
    "We still have about 15,000 empty category records. This can be brought down further using Makes and Models. The category values as we have them now show that airplanes are the overwhelmingly largest percentage of aircraft in the dataset of accidents. But after helicopters, the rest of the categories are tiny by comparison, and they constitute aircraft that would not ordinarily be under consideration for a business interested in getting into the aviation business. I'm not going to just drop those rows right now, but in the analysis phase, I don't anticipate using them."
   ]
  },
  {
   "cell_type": "code",
   "execution_count": 784,
   "id": "5353548a-f30a-4806-8c4a-bc9813979f4d",
   "metadata": {},
   "outputs": [
    {
     "data": {
      "text/plain": [
       "Model\n",
       "UH-12E          134\n",
       "8A              133\n",
       "S2R             126\n",
       "S-2R            114\n",
       "DHC-2           112\n",
       "               ... \n",
       "PROTECH PT-2      1\n",
       "L-1011-1          1\n",
       "GLASAIR GARG      1\n",
       "C3C               1\n",
       "EMB145            1\n",
       "Name: count, Length: 5545, dtype: int64"
      ]
     },
     "execution_count": 784,
     "metadata": {},
     "output_type": "execute_result"
    }
   ],
   "source": [
    "df[df['Aircraft_Category'].isna()]['Model'].value_counts()"
   ]
  },
  {
   "cell_type": "code",
   "execution_count": 785,
   "id": "7c35db8d-98a9-46fe-aaca-5b7f2ae500bc",
   "metadata": {},
   "outputs": [
    {
     "data": {
      "text/plain": [
       "Make\n",
       "Mcdonnell Douglas                 499\n",
       "MCDONNELL DOUGLAS                  78\n",
       "MCDONNELL DOUGLAS HELICOPTER       31\n",
       "MCDONNELL DOUGLAS HELI CO          11\n",
       "MCDONNELL DOUGLAS AIRCRAFT CO       6\n",
       "McDonnell Douglas                   4\n",
       "Mcdonnell-douglas                   2\n",
       "MCDONNELL DOUGLAS CORPORATION       1\n",
       "MCDONNELL-DOUGLAS                   1\n",
       "McDonnell Douglas Helicopter        1\n",
       "McDonnell Douglas Helicopter C      1\n",
       "McDonnell Douglas Helicopters       1\n",
       "Mcdonnell Douglas Helicopter        1\n",
       "Mcdonnell Douglas Helicopters       1\n",
       "Name: count, dtype: int64"
      ]
     },
     "execution_count": 785,
     "metadata": {},
     "output_type": "execute_result"
    }
   ],
   "source": [
    "# Let's do the Mcdonnell Douglas make, and see about using the models in conjunction\n",
    "df[df['Make'].str.lower().str.startswith('mcdonn')].value_counts('Make')"
   ]
  },
  {
   "cell_type": "code",
   "execution_count": 786,
   "id": "7eb119c6-ea33-4aa1-ba3c-6d728a158960",
   "metadata": {},
   "outputs": [
    {
     "data": {
      "text/plain": [
       "Aircraft_Category\n",
       "Helicopter    42\n",
       "Name: count, dtype: int64"
      ]
     },
     "execution_count": 786,
     "metadata": {},
     "output_type": "execute_result"
    }
   ],
   "source": [
    "df[df['Make'].isin(['MCDONNELL DOUGLAS HELICOPTER', 'MCDONNELL DOUGLAS HELI CO'])].value_counts('Aircraft_Category', dropna=False)"
   ]
  },
  {
   "cell_type": "code",
   "execution_count": 787,
   "id": "35b9bf19-68ed-4a16-945b-5e0319710027",
   "metadata": {},
   "outputs": [
    {
     "data": {
      "text/plain": [
       "Aircraft_Category\n",
       "Helicopter    47\n",
       "Name: count, dtype: int64"
      ]
     },
     "execution_count": 787,
     "metadata": {},
     "output_type": "execute_result"
    }
   ],
   "source": [
    "# Combine the helicopter variations of the name\n",
    "df.loc[df['Make'].isin(['MCDONNELL DOUGLAS HELICOPTER', 'MCDONNELL DOUGLAS HELI CO', 'McDonnell Douglas Helicopter', 'McDonnell Douglas Helicopter C', 'McDonnell Douglas Helicopters', 'Mcdonnell Douglas Helicopter', 'Mcdonnell Douglas Helicopters']), 'Make'] = 'Mcdonnell Douglas Helicopters'\n",
    "\n",
    "df[df['Make'].isin(['Mcdonnell Douglas Helicopters'])].value_counts('Aircraft_Category', dropna=False)"
   ]
  },
  {
   "cell_type": "code",
   "execution_count": 788,
   "id": "37df11d6-3c5f-4406-adec-7c1f1230f1f4",
   "metadata": {},
   "outputs": [
    {
     "data": {
      "text/plain": [
       "Make\n",
       "Mcdonnell Douglas                499\n",
       "MCDONNELL DOUGLAS                 78\n",
       "Mcdonnell Douglas Helicopters     47\n",
       "MCDONNELL DOUGLAS AIRCRAFT CO      6\n",
       "McDonnell Douglas                  4\n",
       "Mcdonnell-douglas                  2\n",
       "MCDONNELL DOUGLAS CORPORATION      1\n",
       "MCDONNELL-DOUGLAS                  1\n",
       "Name: count, dtype: int64"
      ]
     },
     "execution_count": 788,
     "metadata": {},
     "output_type": "execute_result"
    }
   ],
   "source": [
    "df[df['Make'].str.lower().str.startswith('mcdonn')].value_counts('Make')"
   ]
  },
  {
   "cell_type": "code",
   "execution_count": 789,
   "id": "bccfed79-fb91-4511-841c-9d1af37db19a",
   "metadata": {},
   "outputs": [
    {
     "data": {
      "text/plain": [
       "Aircraft_Category\n",
       "NaN           450\n",
       "Airplane      123\n",
       "Helicopter     18\n",
       "Name: count, dtype: int64"
      ]
     },
     "execution_count": 789,
     "metadata": {},
     "output_type": "execute_result"
    }
   ],
   "source": [
    "df.loc[df['Make'].isin(['MCDONNELL DOUGLAS', 'MCDONNELL DOUGLAS AIRCRAFT CO', 'McDonnell Douglas', 'Mcdonnell-douglas', 'MCDONNELL DOUGLAS CORPORATION', 'MCDONNELL-DOUGLAS']), 'Make'] = 'Mcdonnell Douglas'\n",
    "\n",
    "df[df['Make'].isin(['Mcdonnell Douglas'])].value_counts('Aircraft_Category', dropna=False)"
   ]
  },
  {
   "cell_type": "code",
   "execution_count": 790,
   "id": "d6c43b78-a82f-4108-ac74-c1818ed38ba6",
   "metadata": {},
   "outputs": [
    {
     "data": {
      "text/plain": [
       "Aircraft_Category\n",
       "NaN         450\n",
       "Airplane    123\n",
       "Name: count, dtype: int64"
      ]
     },
     "execution_count": 790,
     "metadata": {},
     "output_type": "execute_result"
    }
   ],
   "source": [
    "# make the 18 Helicopters the Mcdonnell Douglas Helicopters Make\n",
    "df.loc[(df['Make'] == 'Mcdonnell Douglas') & (df['Aircraft_Category'] == 'Helicopter'), 'Make'] = 'Mcdonnell Douglas Helicopters'\n",
    "\n",
    "df[df['Make'].isin(['Mcdonnell Douglas'])].value_counts('Aircraft_Category', dropna=False)"
   ]
  },
  {
   "cell_type": "code",
   "execution_count": 791,
   "id": "cba976bf-0fdd-4b27-9485-b3d449be47cc",
   "metadata": {},
   "outputs": [
    {
     "data": {
      "text/plain": [
       "Make\n",
       "Mcdonnell Douglas                573\n",
       "Mcdonnell Douglas Helicopters     65\n",
       "Name: count, dtype: int64"
      ]
     },
     "execution_count": 791,
     "metadata": {},
     "output_type": "execute_result"
    }
   ],
   "source": [
    "df.loc[(df['Make'] == 'Mcdonnell Douglas'), 'Aircraft_Category'] = 'Airplane'\n",
    "\n",
    "df[df['Make'].str.lower().str.startswith('mcdonn')].value_counts('Make')"
   ]
  },
  {
   "cell_type": "code",
   "execution_count": 792,
   "id": "0fa28e82-55aa-4bbd-8039-21ea18fd45f2",
   "metadata": {},
   "outputs": [
    {
     "data": {
      "text/plain": [
       "Make\n",
       "Maule                     355\n",
       "Champion                  347\n",
       "Aero Commander            317\n",
       "De Havilland              316\n",
       "Schweizer                 299\n",
       "                         ... \n",
       "Lighthizer, Richard E.      1\n",
       "Steven Ulrich               1\n",
       "Tate                        1\n",
       "Arnold Forest               1\n",
       "ROYSE RALPH L               1\n",
       "Name: count, Length: 4024, dtype: int64"
      ]
     },
     "execution_count": 792,
     "metadata": {},
     "output_type": "execute_result"
    }
   ],
   "source": [
    "df[df['Aircraft_Category'].isna()]['Make'].value_counts()"
   ]
  },
  {
   "cell_type": "code",
   "execution_count": 793,
   "id": "e35d03e8-8b92-4c6c-9d94-21fd7a68d132",
   "metadata": {},
   "outputs": [
    {
     "data": {
      "text/plain": [
       "Make\n",
       "Maule                  443\n",
       "MAULE                  144\n",
       "MAULE AIRCRAFT CORP      1\n",
       "Maule Air Inc.           1\n",
       "Name: count, dtype: int64"
      ]
     },
     "execution_count": 793,
     "metadata": {},
     "output_type": "execute_result"
    }
   ],
   "source": [
    "# The Maule make\n",
    "df[df['Make'].str.lower().str.startswith('maul')].value_counts('Make')"
   ]
  },
  {
   "cell_type": "code",
   "execution_count": 794,
   "id": "c8822a2b-30a4-4ce7-b101-dff2f78b06b7",
   "metadata": {},
   "outputs": [
    {
     "data": {
      "text/plain": [
       "Aircraft_Category\n",
       "NaN         356\n",
       "Airplane    233\n",
       "Name: count, dtype: int64"
      ]
     },
     "execution_count": 794,
     "metadata": {},
     "output_type": "execute_result"
    }
   ],
   "source": [
    "df.loc[df['Make'].isin(['MAULE', 'MAULE AIRCRAFT CORP', 'Maule Air Inc.']), 'Make'] = 'Maule'\n",
    "\n",
    "df[df['Make'].isin(['Maule'])].value_counts('Aircraft_Category', dropna=False)"
   ]
  },
  {
   "cell_type": "code",
   "execution_count": 795,
   "id": "5bff7729-9f6c-4221-8e17-28c3feb71de1",
   "metadata": {},
   "outputs": [
    {
     "data": {
      "text/plain": [
       "Make\n",
       "Champion                  347\n",
       "Aero Commander            317\n",
       "De Havilland              316\n",
       "Schweizer                 299\n",
       "Rockwell                  293\n",
       "                         ... \n",
       "Angel Elbert S Jr           1\n",
       "Lighthizer, Richard E.      1\n",
       "Steven Ulrich               1\n",
       "Tate                        1\n",
       "ROYSE RALPH L               1\n",
       "Name: count, Length: 4022, dtype: int64"
      ]
     },
     "execution_count": 795,
     "metadata": {},
     "output_type": "execute_result"
    }
   ],
   "source": [
    "df.loc[(df['Make'] == 'Maule'), 'Aircraft_Category'] = 'Airplane'\n",
    "\n",
    "df[df['Aircraft_Category'].isna()]['Make'].value_counts()"
   ]
  },
  {
   "cell_type": "code",
   "execution_count": 796,
   "id": "9a92541d-78e9-48c2-ad79-b6a16570869a",
   "metadata": {},
   "outputs": [
    {
     "data": {
      "text/plain": [
       "Make\n",
       "Champion    426\n",
       "CHAMPION     91\n",
       "Name: count, dtype: int64"
      ]
     },
     "execution_count": 796,
     "metadata": {},
     "output_type": "execute_result"
    }
   ],
   "source": [
    "# The Champion make\n",
    "df[df['Make'].str.lower().str.startswith('champ')].value_counts('Make')"
   ]
  },
  {
   "cell_type": "code",
   "execution_count": 797,
   "id": "44664cb7-24c0-407f-8f76-3cfe55699edb",
   "metadata": {},
   "outputs": [
    {
     "data": {
      "text/plain": [
       "Aircraft_Category\n",
       "NaN         347\n",
       "Airplane    170\n",
       "Name: count, dtype: int64"
      ]
     },
     "execution_count": 797,
     "metadata": {},
     "output_type": "execute_result"
    }
   ],
   "source": [
    "df.loc[df['Make'].isin(['CHAMPION']), 'Make'] = 'Champion'\n",
    "\n",
    "df[df['Make'].isin(['Champion'])].value_counts('Aircraft_Category', dropna=False)"
   ]
  },
  {
   "cell_type": "code",
   "execution_count": 798,
   "id": "cbb74316-398e-4a68-9512-d09192da072b",
   "metadata": {},
   "outputs": [
    {
     "data": {
      "text/plain": [
       "Make\n",
       "Aero Commander            317\n",
       "De Havilland              316\n",
       "Schweizer                 299\n",
       "Rockwell                  293\n",
       "Stinson                   287\n",
       "                         ... \n",
       "Angel Elbert S Jr           1\n",
       "Lighthizer, Richard E.      1\n",
       "Steven Ulrich               1\n",
       "Tate                        1\n",
       "ROYSE RALPH L               1\n",
       "Name: count, Length: 4021, dtype: int64"
      ]
     },
     "execution_count": 798,
     "metadata": {},
     "output_type": "execute_result"
    }
   ],
   "source": [
    "df.loc[(df['Make'] == 'Champion'), 'Aircraft_Category'] = 'Airplane'\n",
    "\n",
    "df[df['Aircraft_Category'].isna()]['Make'].value_counts()"
   ]
  },
  {
   "cell_type": "code",
   "execution_count": 799,
   "id": "03897de4-82c9-4564-a461-2e5760176dfb",
   "metadata": {},
   "outputs": [
    {
     "data": {
      "text/plain": [
       "Make\n",
       "Aero Commander    356\n",
       "AERO COMMANDER     69\n",
       "Aero Comp Inc       1\n",
       "Name: count, dtype: int64"
      ]
     },
     "execution_count": 799,
     "metadata": {},
     "output_type": "execute_result"
    }
   ],
   "source": [
    "# The Aero Commander make\n",
    "df[df['Make'].str.lower().str.startswith('aero c')].value_counts('Make')"
   ]
  },
  {
   "cell_type": "code",
   "execution_count": 800,
   "id": "16fb4842-41b3-4e2f-94f0-bad594b92b91",
   "metadata": {},
   "outputs": [
    {
     "data": {
      "text/plain": [
       "Aircraft_Category\n",
       "NaN         318\n",
       "Airplane    107\n",
       "Name: count, dtype: int64"
      ]
     },
     "execution_count": 800,
     "metadata": {},
     "output_type": "execute_result"
    }
   ],
   "source": [
    "df.loc[df['Make'].isin(['AERO COMMANDER']), 'Make'] = 'Aero Commander'\n",
    "\n",
    "df[df['Make'].isin(['Aero Commander'])].value_counts('Aircraft_Category', dropna=False)"
   ]
  },
  {
   "cell_type": "code",
   "execution_count": 801,
   "id": "dd1bbf4d-86a3-4600-b08b-ccec80b11561",
   "metadata": {},
   "outputs": [
    {
     "data": {
      "text/plain": [
       "Make\n",
       "De Havilland              316\n",
       "Schweizer                 299\n",
       "Rockwell                  293\n",
       "Stinson                   287\n",
       "Hiller                    282\n",
       "                         ... \n",
       "Angel Elbert S Jr           1\n",
       "Lighthizer, Richard E.      1\n",
       "Steven Ulrich               1\n",
       "Tate                        1\n",
       "ROYSE RALPH L               1\n",
       "Name: count, Length: 4019, dtype: int64"
      ]
     },
     "execution_count": 801,
     "metadata": {},
     "output_type": "execute_result"
    }
   ],
   "source": [
    "df.loc[(df['Make'] == 'Aero Commander'), 'Aircraft_Category'] = 'Airplane'\n",
    "\n",
    "df[df['Aircraft_Category'].isna()]['Make'].value_counts()"
   ]
  },
  {
   "cell_type": "code",
   "execution_count": 802,
   "id": "567ce0bc-3ca5-4ac2-a84a-6134dbefeae5",
   "metadata": {},
   "outputs": [
    {
     "data": {
      "text/plain": [
       "Make\n",
       "De Havilland          370\n",
       "DEHAVILLAND            91\n",
       "DE HAVILLAND           31\n",
       "de Havilland            9\n",
       "Dehavilland             8\n",
       "DeHavilland             2\n",
       "DEHAVILLAND CANADA      1\n",
       "Name: count, dtype: int64"
      ]
     },
     "execution_count": 802,
     "metadata": {},
     "output_type": "execute_result"
    }
   ],
   "source": [
    "# The De Havilland make\n",
    "de_havilland_variations = df[df['Make'].str.lower().str.contains(r'de\\s?havil?land', regex=True)]\n",
    "de_havilland_variations.value_counts('Make')"
   ]
  },
  {
   "cell_type": "code",
   "execution_count": 803,
   "id": "1d7d199b-d02b-4699-b8a6-acf2444dfdc6",
   "metadata": {},
   "outputs": [
    {
     "data": {
      "text/plain": [
       "Aircraft_Category\n",
       "NaN         328\n",
       "Airplane    184\n",
       "Name: count, dtype: int64"
      ]
     },
     "execution_count": 803,
     "metadata": {},
     "output_type": "execute_result"
    }
   ],
   "source": [
    "# combine all these variations of De Havilland into one make\n",
    "df.loc[df['Make'].str.lower().str.contains(r'de\\s?havil?land', regex=True), 'Make'] = 'De Havilland'\n",
    "\n",
    "df[df['Make'].isin(['De Havilland'])].value_counts('Aircraft_Category', dropna=False)"
   ]
  },
  {
   "cell_type": "code",
   "execution_count": 804,
   "id": "da9faa60-e5ae-433e-9581-59855e2efe70",
   "metadata": {},
   "outputs": [
    {
     "data": {
      "text/plain": [
       "Make\n",
       "Schweizer            299\n",
       "Rockwell             293\n",
       "Stinson              287\n",
       "Aerospatiale         282\n",
       "Hiller               282\n",
       "                    ... \n",
       "Cooprider              1\n",
       "Angel Elbert S Jr      1\n",
       "Arnold Forest          1\n",
       "Steven Ulrich          1\n",
       "ROYSE RALPH L          1\n",
       "Name: count, Length: 4016, dtype: int64"
      ]
     },
     "execution_count": 804,
     "metadata": {},
     "output_type": "execute_result"
    }
   ],
   "source": [
    "df.loc[(df['Make'] == 'De Havilland'), 'Aircraft_Category'] = 'Airplane'\n",
    "\n",
    "df[df['Aircraft_Category'].isna()]['Make'].value_counts()"
   ]
  },
  {
   "cell_type": "code",
   "execution_count": 805,
   "id": "d38bd5d3-6e97-4590-b7bb-c5ee8d0a258c",
   "metadata": {},
   "outputs": [
    {
     "data": {
      "text/plain": [
       "Model\n",
       "UH-12E         134\n",
       "8A             133\n",
       "S-2R           106\n",
       "415-C           89\n",
       "BC12-D          86\n",
       "              ... \n",
       "160              1\n",
       "CAYUSE           1\n",
       "EAA SPECIAL      1\n",
       "TINY TWO         1\n",
       "EMB145           1\n",
       "Name: count, Length: 5239, dtype: int64"
      ]
     },
     "execution_count": 805,
     "metadata": {},
     "output_type": "execute_result"
    }
   ],
   "source": [
    "# Let's look at the Models overall for NaN values in Category\n",
    "df[df['Aircraft_Category'].isna()]['Model'].value_counts()"
   ]
  },
  {
   "cell_type": "markdown",
   "id": "9e3a36cb-cd55-418d-a8ab-a0f3766c6e49",
   "metadata": {},
   "source": [
    "Google tells me that a UH-12E is a helicopter, while 8A, S-2R, 415-C, BC12-D are airplanes. And running the function like \"df[df['Model'].isin(['BC12-D'])].value_counts('Aircraft_Category', dropna=False)\" verifies this. So let's correct those category values"
   ]
  },
  {
   "cell_type": "code",
   "execution_count": 806,
   "id": "03198157-0892-4ebf-86ba-1bdd48cf7925",
   "metadata": {},
   "outputs": [
    {
     "data": {
      "text/plain": [
       "Model\n",
       "108-3              76\n",
       "S2R                74\n",
       "RV-4               72\n",
       "108-2              72\n",
       "KR-2               71\n",
       "                   ..\n",
       "VARIEZE,LONG EZ     1\n",
       "ACRO-SPECIAL        1\n",
       "AVID FLYER \"C\"      1\n",
       "BD-5 B              1\n",
       "EMB145              1\n",
       "Name: count, Length: 5234, dtype: int64"
      ]
     },
     "execution_count": 806,
     "metadata": {},
     "output_type": "execute_result"
    }
   ],
   "source": [
    "#Edit one model's category value\n",
    "df.loc[df['Model'] == 'UH-12E', 'Aircraft_Category'] = 'Helicopter'\n",
    "\n",
    "#Edit multiple models' category value\n",
    "df.loc[df['Model'].isin(['8A', 'S-2R', '415-C', 'BC12-D']), 'Aircraft_Category'] = 'Airplane'\n",
    "\n",
    "df[df['Aircraft_Category'].isna()]['Model'].value_counts()"
   ]
  },
  {
   "cell_type": "code",
   "execution_count": 807,
   "id": "a69563a4-b9ae-4683-802b-7a3f376246cc",
   "metadata": {},
   "outputs": [
    {
     "data": {
      "text/plain": [
       "Aircraft_Category\n",
       "NaN         365\n",
       "Airplane    200\n",
       "Name: count, dtype: int64"
      ]
     },
     "execution_count": 807,
     "metadata": {},
     "output_type": "execute_result"
    }
   ],
   "source": [
    "# Running this function tells me the top 5 are airplanes\n",
    "df[df['Model'].isin(['108-3', 'S2R', 'RV-4', '108-2', 'KR-2'])].value_counts('Aircraft_Category', dropna=False)"
   ]
  },
  {
   "cell_type": "code",
   "execution_count": 808,
   "id": "1664e560-7135-44a2-9176-ee690325dd98",
   "metadata": {},
   "outputs": [
    {
     "data": {
      "text/plain": [
       "Model\n",
       "108-1              69\n",
       "LA-4-200           64\n",
       "GC-1B              64\n",
       "8E                 55\n",
       "L-13               54\n",
       "                   ..\n",
       "VARIEZE,LONG EZ     1\n",
       "ACRO-SPECIAL        1\n",
       "AVID FLYER \"C\"      1\n",
       "BD-5 B              1\n",
       "EMB145              1\n",
       "Name: count, Length: 5229, dtype: int64"
      ]
     },
     "execution_count": 808,
     "metadata": {},
     "output_type": "execute_result"
    }
   ],
   "source": [
    "#Edit multiple models' category value\n",
    "df.loc[df['Model'].isin(['108-3', 'S2R', 'RV-4', '108-2', 'KR-2']), 'Aircraft_Category'] = 'Airplane'\n",
    "\n",
    "df[df['Aircraft_Category'].isna()]['Model'].value_counts()"
   ]
  },
  {
   "cell_type": "code",
   "execution_count": 809,
   "id": "6da09e44-76a0-49e3-81bd-1be252dbf3fc",
   "metadata": {},
   "outputs": [
    {
     "data": {
      "text/plain": [
       "Aircraft_Category\n",
       "NaN         252\n",
       "Airplane     84\n",
       "Name: count, dtype: int64"
      ]
     },
     "execution_count": 809,
     "metadata": {},
     "output_type": "execute_result"
    }
   ],
   "source": [
    "# the top 4 are all airplanes\n",
    "df[df['Model'].isin(['108-1', 'LA-4-200', 'GC-1B', '8E'])].value_counts('Aircraft_Category', dropna=False)"
   ]
  },
  {
   "cell_type": "code",
   "execution_count": 810,
   "id": "6005c857-e481-4a5f-a8e4-7887acf97373",
   "metadata": {},
   "outputs": [
    {
     "data": {
      "text/plain": [
       "Model\n",
       "Unknown              54\n",
       "L-13                 54\n",
       "VARIEZE              45\n",
       "A-1                  44\n",
       "F-28C                43\n",
       "                     ..\n",
       "CAYUSE                1\n",
       "415-C AIRCOUPE        1\n",
       "TINY TWO              1\n",
       "FOX III SPEEDSTER     1\n",
       "EMB145                1\n",
       "Name: count, Length: 5225, dtype: int64"
      ]
     },
     "execution_count": 810,
     "metadata": {},
     "output_type": "execute_result"
    }
   ],
   "source": [
    "#Edit multiple models' category value\n",
    "df.loc[df['Model'].isin(['108-1', 'LA-4-200', 'GC-1B', '8E']), 'Aircraft_Category'] = 'Airplane'\n",
    "\n",
    "df[df['Aircraft_Category'].isna()]['Model'].value_counts()"
   ]
  },
  {
   "cell_type": "code",
   "execution_count": 811,
   "id": "d73f1f30-82e7-433f-bfb8-75429fb763f7",
   "metadata": {},
   "outputs": [
    {
     "data": {
      "text/plain": [
       "Aircraft_Category\n",
       "NaN           43\n",
       "Helicopter     8\n",
       "Name: count, dtype: int64"
      ]
     },
     "execution_count": 811,
     "metadata": {},
     "output_type": "execute_result"
    }
   ],
   "source": [
    "df[df['Model'].isin(['F-28C'])].value_counts('Aircraft_Category', dropna=False)"
   ]
  },
  {
   "cell_type": "markdown",
   "id": "7a46c043-a440-4b93-92f1-b68cfd1bca95",
   "metadata": {},
   "source": [
    "glider - L-13; airplane - VARIEZE, A-1; helicopter - F-28C;"
   ]
  },
  {
   "cell_type": "code",
   "execution_count": 812,
   "id": "bbffdebf-4b10-4093-b196-4ea3affaf8dd",
   "metadata": {},
   "outputs": [
    {
     "data": {
      "text/plain": [
       "Model\n",
       "Unknown            54\n",
       "FH-1100            43\n",
       "108                42\n",
       "AVID FLYER         40\n",
       "RV-6               39\n",
       "                   ..\n",
       "VARIEZE,LONG EZ     1\n",
       "ACRO-SPECIAL        1\n",
       "AVID FLYER \"C\"      1\n",
       "BD-5 B              1\n",
       "EMB145              1\n",
       "Name: count, Length: 5221, dtype: int64"
      ]
     },
     "execution_count": 812,
     "metadata": {},
     "output_type": "execute_result"
    }
   ],
   "source": [
    "#Edit one model's category value\n",
    "df.loc[df['Model'] == 'L-13', 'Aircraft_Category'] = 'Glider'\n",
    "df.loc[df['Model'] == 'F-28C', 'Aircraft_Category'] = 'Helicopter'\n",
    "\n",
    "#Edit multiple models' category value\n",
    "df.loc[df['Model'].isin(['VARIEZE', 'A-1']), 'Aircraft_Category'] = 'Airplane'\n",
    "\n",
    "df[df['Aircraft_Category'].isna()]['Model'].value_counts()"
   ]
  },
  {
   "cell_type": "code",
   "execution_count": 813,
   "id": "024d849c-fce2-41d7-8a38-153ecc9a74d5",
   "metadata": {},
   "outputs": [
    {
     "data": {
      "text/plain": [
       "Aircraft_Category\n",
       "NaN           39\n",
       "Airplane      34\n",
       "Helicopter     1\n",
       "Name: count, dtype: int64"
      ]
     },
     "execution_count": 813,
     "metadata": {},
     "output_type": "execute_result"
    }
   ],
   "source": [
    "df[df['Model'].isin(['RV-6'])].value_counts('Aircraft_Category', dropna=False)"
   ]
  },
  {
   "cell_type": "markdown",
   "id": "816d43d3-a293-4278-a7f5-f4f80fe8fe25",
   "metadata": {},
   "source": [
    "helicopter - FH-1100; airplane - 108, AVID FLYER, RV-6;"
   ]
  },
  {
   "cell_type": "code",
   "execution_count": 814,
   "id": "f838ddb2-f745-40ef-be2a-d6dc9a03ad12",
   "metadata": {},
   "outputs": [
    {
     "data": {
      "text/plain": [
       "Model\n",
       "Unknown            54\n",
       "BC-12D             39\n",
       "280C               38\n",
       "35A                38\n",
       "S2R-T34            36\n",
       "                   ..\n",
       "VARIEZE,LONG EZ     1\n",
       "ACRO-SPECIAL        1\n",
       "AVID FLYER \"C\"      1\n",
       "BD-5 B              1\n",
       "EMB145              1\n",
       "Name: count, Length: 5217, dtype: int64"
      ]
     },
     "execution_count": 814,
     "metadata": {},
     "output_type": "execute_result"
    }
   ],
   "source": [
    "#Edit one model's category value\n",
    "df.loc[df['Model'] == 'FH-1100', 'Aircraft_Category'] = 'Helicopter'\n",
    "\n",
    "#Edit multiple models' category value\n",
    "df.loc[df['Model'].isin(['108', 'AVID FLYER', 'RV-6']), 'Aircraft_Category'] = 'Airplane'\n",
    "\n",
    "df[df['Aircraft_Category'].isna()]['Model'].value_counts()"
   ]
  },
  {
   "cell_type": "code",
   "execution_count": 815,
   "id": "d9bfff9f-b448-4abf-8b57-6ff025977fa6",
   "metadata": {},
   "outputs": [
    {
     "data": {
      "text/plain": [
       "Aircraft_Category\n",
       "NaN         36\n",
       "Airplane    23\n",
       "Name: count, dtype: int64"
      ]
     },
     "execution_count": 815,
     "metadata": {},
     "output_type": "execute_result"
    }
   ],
   "source": [
    "df[df['Model'].isin(['S2R-T34'])].value_counts('Aircraft_Category', dropna=False)"
   ]
  },
  {
   "cell_type": "markdown",
   "id": "b2c318ac-0bc8-47e6-aaa9-ae1b24949ac2",
   "metadata": {},
   "source": [
    "airplane - BC-12D, 35A, S2R-T34; helicopter - 280C;"
   ]
  },
  {
   "cell_type": "code",
   "execution_count": 816,
   "id": "c57930c1-1fad-4ac7-9272-fb4d377b0697",
   "metadata": {},
   "outputs": [
    {
     "data": {
      "text/plain": [
       "Model\n",
       "Unknown          54\n",
       "FIREFLY 7        36\n",
       "NAVION           36\n",
       "RV-6A            36\n",
       "F-28A            36\n",
       "M-18A            35\n",
       "UPF-7            35\n",
       "CHALLENGER II    35\n",
       "CL-600-2B19      32\n",
       "DW-1             31\n",
       "AA-1             31\n",
       "SA226TC          30\n",
       "2T-1A-2          30\n",
       "415C             30\n",
       "DC-3             28\n",
       "H-295            28\n",
       "VARI-EZE         27\n",
       "AA-1A            27\n",
       "8F               27\n",
       "SA227-AC         26\n",
       "SKYBOLT          26\n",
       "QUICKIE          26\n",
       "MU-2B-60         25\n",
       "LONG-EZ          25\n",
       "LA-4             24\n",
       "SONERAI II       24\n",
       "S-2B             23\n",
       "KITFOX           23\n",
       "THORP T-18       23\n",
       "SR22             23\n",
       "S-76A            22\n",
       "RC-3             22\n",
       "A                22\n",
       "201B             22\n",
       "BLANIK L-13      21\n",
       "F-28F            21\n",
       "MUSTANG II       21\n",
       "B-2B             21\n",
       "AA-5B            21\n",
       "DC-3C            21\n",
       "S-60A            20\n",
       "Q2               20\n",
       "114              20\n",
       "S-1B2            20\n",
       "SNJ-5            20\n",
       "2150A            20\n",
       "P-51D            20\n",
       "AT-6D            20\n",
       "T-6G             20\n",
       "UH-12C           20\n",
       "Name: count, dtype: int64"
      ]
     },
     "execution_count": 816,
     "metadata": {},
     "output_type": "execute_result"
    }
   ],
   "source": [
    "#Edit one model's category value\n",
    "df.loc[df['Model'] == '280C', 'Aircraft_Category'] = 'Helicopter'\n",
    "\n",
    "#Edit multiple models' category value\n",
    "df.loc[df['Model'].isin(['BC-12D', '35A', 'S2R-T34']), 'Aircraft_Category'] = 'Airplane'\n",
    "\n",
    "df[df['Aircraft_Category'].isna()]['Model'].value_counts().head(50)"
   ]
  },
  {
   "cell_type": "markdown",
   "id": "1bd40c10-bbaf-47ce-8ea2-ff80a0d1e432",
   "metadata": {},
   "source": [
    "Instead of just a few at a time, we can display the top 50 models with no category value and go from there."
   ]
  },
  {
   "cell_type": "code",
   "execution_count": 817,
   "id": "f931dbc5-59f2-4f23-ae3e-1373b4c09e04",
   "metadata": {},
   "outputs": [
    {
     "data": {
      "text/plain": [
       "Aircraft_Category\n",
       "NaN           20\n",
       "Helicopter     1\n",
       "Name: count, dtype: int64"
      ]
     },
     "execution_count": 817,
     "metadata": {},
     "output_type": "execute_result"
    }
   ],
   "source": [
    "df[df['Model'].isin(['UH-12C'])].value_counts('Aircraft_Category', dropna=False)"
   ]
  },
  {
   "cell_type": "code",
   "execution_count": 818,
   "id": "18353f0c-3d5c-4340-9911-bc9361bf957e",
   "metadata": {},
   "outputs": [
    {
     "data": {
      "text/plain": [
       "Model\n",
       "Unknown              54\n",
       "II                   20\n",
       "MONI                 19\n",
       "DRAGONFLY            19\n",
       "LONG EZ              19\n",
       "STEEN SKYBOLT        19\n",
       "UH-12B               19\n",
       "PZL-M-18             19\n",
       "ST3KR                18\n",
       "ASW-20               18\n",
       "112A                 18\n",
       "QUICKIE Q2           18\n",
       "UH-12D               18\n",
       "TIERRA II            18\n",
       "AS-350D              17\n",
       "S-1S                 17\n",
       "S-1                  17\n",
       "AS350D               17\n",
       "CHRISTEN EAGLE II    17\n",
       "B-8M                 17\n",
       "BD-4                 17\n",
       "SR-22                16\n",
       "Q-2                  16\n",
       "AEROSTAR 600         16\n",
       "NAVION A             16\n",
       "G103                 16\n",
       "T-18                 16\n",
       "RANS S-12            16\n",
       "DC-9-32              16\n",
       "SGS-2-33A            16\n",
       "S2R-600              16\n",
       "PITTS S-2B           16\n",
       "TB-20                16\n",
       "SA315B               16\n",
       "340B                 16\n",
       "SGS 1-26E            15\n",
       "415-D                15\n",
       "AS350BA              15\n",
       "BD-5B                15\n",
       "PITTS S-1S           15\n",
       "112TC                15\n",
       "620B                 15\n",
       "269C-1               15\n",
       "SA-226T              15\n",
       "SA316B               15\n",
       "DC-9-31              15\n",
       "AS350B               15\n",
       "GLASAIR              14\n",
       "IS-28B2              14\n",
       "F-19                 14\n",
       "Name: count, dtype: int64"
      ]
     },
     "execution_count": 818,
     "metadata": {},
     "output_type": "execute_result"
    }
   ],
   "source": [
    "#Edit one model's category value\n",
    "df.loc[df['Model'] == 'BLANIK L-13', 'Aircraft_Category'] = 'Glider'\n",
    "\n",
    "#Edit multiple models' category value\n",
    "df.loc[df['Model'].isin(['114', '201B', '2150A', '2T-1A-2', '415C', '8F', 'A', 'AA-1', 'AA-1A', 'AA-5B', 'AT-6D', 'CHALLENGER II', 'CL-600-2B19', 'DC-3', 'DC-3C', 'DW-1', 'H-295', 'KITFOX', 'LA-4',\n",
    "                        'LONG-EZ', 'M-18A', 'MU-2B-60', 'MUSTANG II', 'NAVION', 'P-51D', 'Q2', 'QUICKIE', 'RC-3', 'RV-6A', 'S-1B2', 'S-2B', 'SA226TC', 'SA227-AC', 'SKYBOLT', 'SNJ-5', 'SONERAI II',\n",
    "                        'SR22', 'T-6G', 'THORP T-18', 'UPF-7', 'VARI-EZE']), 'Aircraft_Category'] = 'Airplane'\n",
    "\n",
    "df.loc[df['Model'].isin(['B-2B', 'F-28A', 'F-28F', 'S-76A', 'UH-12C']), 'Aircraft_Category'] = 'Helicopter'\n",
    "\n",
    "df.loc[df['Model'].isin(['FIREFLY 7', 'S-60A']), 'Aircraft_Category'] = 'Balloon'\n",
    "\n",
    "df[df['Aircraft_Category'].isna()]['Model'].value_counts().head(50)"
   ]
  },
  {
   "cell_type": "code",
   "execution_count": 819,
   "id": "279bc6c0-c1ee-4389-8d4e-aef70b9920a5",
   "metadata": {},
   "outputs": [
    {
     "data": {
      "text/plain": [
       "Aircraft_Category\n",
       "NaN         16\n",
       "Airplane     1\n",
       "Name: count, dtype: int64"
      ]
     },
     "execution_count": 819,
     "metadata": {},
     "output_type": "execute_result"
    }
   ],
   "source": [
    "df[df['Model'].isin(['Q-2'])].value_counts('Aircraft_Category', dropna=False)"
   ]
  },
  {
   "cell_type": "code",
   "execution_count": 820,
   "id": "85b27cb0-f490-482e-8dbd-c57e9aa6e635",
   "metadata": {},
   "outputs": [
    {
     "data": {
      "text/plain": [
       "Amateur_Built\n",
       "Yes    17\n",
       "Name: count, dtype: int64"
      ]
     },
     "execution_count": 820,
     "metadata": {},
     "output_type": "execute_result"
    }
   ],
   "source": [
    "df[df['Model'].isin(['Q-2'])].value_counts('Amateur_Built', dropna=False)"
   ]
  },
  {
   "cell_type": "code",
   "execution_count": 821,
   "id": "33254f29-fdc9-4b94-9953-0be7e0035167",
   "metadata": {},
   "outputs": [
    {
     "data": {
      "text/plain": [
       "Model\n",
       "Unknown           54\n",
       "II                20\n",
       "AEROSTAR 600      16\n",
       "Q-2               16\n",
       "RANS S-12         16\n",
       "T-18              16\n",
       "S2R-600           16\n",
       "SA315B            16\n",
       "DC-9-32           16\n",
       "NAVION A          16\n",
       "SGS-2-33A         16\n",
       "TB-20             16\n",
       "G103              16\n",
       "340B              16\n",
       "PITTS S-2B        16\n",
       "AS350B            15\n",
       "620B              15\n",
       "PITTS S-1S        15\n",
       "SGS 1-26E         15\n",
       "415-D             15\n",
       "SA316B            15\n",
       "BD-5B             15\n",
       "DC-9-31           15\n",
       "AS350BA           15\n",
       "SA-226T           15\n",
       "112TC             15\n",
       "269C-1            15\n",
       "SGS 2-33          14\n",
       "F28C              14\n",
       "ATR-42-300        14\n",
       "GLASAIR           14\n",
       "B8M               14\n",
       "A2                14\n",
       "IS-28B2           14\n",
       "QUICKSILVER MX    14\n",
       "F-19              14\n",
       "RV4               14\n",
       "201C              14\n",
       "25B               14\n",
       "S-2A              13\n",
       "BC12D             13\n",
       "SA-26AT           13\n",
       "SGS 1-34          13\n",
       "L-1011-385-1      13\n",
       "SR20              13\n",
       "KITFOX II         13\n",
       "35                13\n",
       "A-1B              13\n",
       "UH-1H             13\n",
       "BL-65             13\n",
       "Name: count, dtype: int64"
      ]
     },
     "execution_count": 821,
     "metadata": {},
     "output_type": "execute_result"
    }
   ],
   "source": [
    "#Edit one model's category value\n",
    "df.loc[df['Model'] == 'B-8M', 'Aircraft_Category'] = 'Gyrocraft'\n",
    "df.loc[df['Model'] == 'TIERRA II', 'Aircraft_Category'] = 'Ultralight'\n",
    "\n",
    "#Edit multiple models' category value\n",
    "df.loc[df['Model'].isin(['DRAGONFLY', 'LONG EZ', 'STEEN SKYBOLT', 'PZL-M-18', 'ST3KR', '112A', 'QUICKIE Q2', 'S-1S', 'S-1', 'CHRISTEN EAGLE II', 'BD-4', 'SR-22']), 'Aircraft_Category'] = 'Airplane'\n",
    "\n",
    "df.loc[df['Model'].isin(['UH-12B', 'UH-12D', 'AS-350D', 'AS350D']), 'Aircraft_Category'] = 'Helicopter'\n",
    "\n",
    "df.loc[df['Model'].isin(['MONI', 'ASW-20']), 'Aircraft_Category'] = 'Glider'\n",
    "\n",
    "df[df['Aircraft_Category'].isna()]['Model'].value_counts().head(50)"
   ]
  },
  {
   "cell_type": "markdown",
   "id": "f9619799-0226-4889-acdd-e0759ce7f112",
   "metadata": {},
   "source": []
  },
  {
   "cell_type": "code",
   "execution_count": 822,
   "id": "f499704a-c9af-4e1b-99bd-dcf752f6c601",
   "metadata": {},
   "outputs": [
    {
     "data": {
      "text/plain": [
       "Make\n",
       "Schweizer         298\n",
       "Aerospatiale      253\n",
       "Douglas           173\n",
       "North American    161\n",
       "Taylorcraft       144\n",
       "Rockwell          141\n",
       "Sikorsky          106\n",
       "Burkhart Grob     100\n",
       "Fairchild          97\n",
       "Lockheed           94\n",
       "Name: count, dtype: int64"
      ]
     },
     "execution_count": 822,
     "metadata": {},
     "output_type": "execute_result"
    }
   ],
   "source": [
    "df[df['Aircraft_Category'].isna()]['Make'].value_counts().head(10)"
   ]
  },
  {
   "cell_type": "code",
   "execution_count": 823,
   "id": "3886e9ff-c4e4-4e68-865b-c10dc7203cd2",
   "metadata": {},
   "outputs": [
    {
     "data": {
      "text/plain": [
       "Aircraft_Category\n",
       "NaN           298\n",
       "Helicopter    199\n",
       "Glider        156\n",
       "Airplane      143\n",
       "Name: count, dtype: int64"
      ]
     },
     "execution_count": 823,
     "metadata": {},
     "output_type": "execute_result"
    }
   ],
   "source": [
    "df[df['Make'].isin(['Schweizer'])].value_counts('Aircraft_Category', dropna=False)"
   ]
  },
  {
   "cell_type": "code",
   "execution_count": 824,
   "id": "11d98c72-e598-43b4-8b48-6035d8af1355",
   "metadata": {},
   "outputs": [
    {
     "data": {
      "text/plain": [
       "Model\n",
       "SGS-2-33A      16\n",
       "SGS 1-26E      15\n",
       "269C-1         15\n",
       "SGS 2-33       14\n",
       "SGS 1-34       13\n",
       "300C           11\n",
       "269D           10\n",
       "SGS 1-26B       8\n",
       "SGS 2-32        8\n",
       "2-33A           8\n",
       "G164B           7\n",
       "SGS 1-36        6\n",
       "SGS2-33A        6\n",
       "2-33            6\n",
       "SGS-1-35C       5\n",
       "SGS 1-26A       5\n",
       "G-164           4\n",
       "2-32            4\n",
       "SGS 1-26C       4\n",
       "SGS 1-26D       4\n",
       "1-26E           4\n",
       "SGS-1-26B       4\n",
       "SGS 1-35        4\n",
       "SGS-126E        3\n",
       "SGS-2-33        3\n",
       "SGS-233A        3\n",
       "G164A           3\n",
       "SGS-1-35        3\n",
       "SGS 1-26        3\n",
       "G-164-A         3\n",
       "G164            2\n",
       "SGU 2-22E       2\n",
       "SGU-2-22E       2\n",
       "SGS-1-34        2\n",
       "2-33-A          2\n",
       "1-36            2\n",
       "1-35C           2\n",
       "SGU2-22E        2\n",
       "HUGHES 269C     2\n",
       "269B            2\n",
       "G164D           2\n",
       "SGS1-36         2\n",
       "SGS1-34         2\n",
       "G-164D          2\n",
       "G-164C          2\n",
       "G-164B-600      2\n",
       "SGS-1-26E       2\n",
       "T-26E           1\n",
       "SGS-1-26        1\n",
       "SSG 2-33A       1\n",
       "SGS-1-26A       1\n",
       "SGS 2-8         1\n",
       "SGU-22          1\n",
       "SGS 2-33AK      1\n",
       "SGU-2-22K       1\n",
       "SGS1-26D        1\n",
       "SGS-1-30        1\n",
       "SGU 2-22CK      1\n",
       "SGS1-26C        1\n",
       "SGS-126D        1\n",
       "Name: count, dtype: int64"
      ]
     },
     "execution_count": 824,
     "metadata": {},
     "output_type": "execute_result"
    }
   ],
   "source": [
    "# Look at the Schweizer models again that have empty category values\n",
    "df[df['Make'].isin(['Schweizer']) & df['Aircraft_Category'].isna()].value_counts('Model', dropna=False).head(60)"
   ]
  },
  {
   "cell_type": "code",
   "execution_count": 825,
   "id": "13f4cc5a-7994-4e1a-bec5-e995f7cf38fa",
   "metadata": {},
   "outputs": [
    {
     "data": {
      "text/plain": [
       "Model\n",
       "-269C             1\n",
       "I-26E             1\n",
       "S2-33A            1\n",
       "SA 2-37A          1\n",
       "SC2-33A           1\n",
       "SGS 1-23          1\n",
       "SGS 1-23G         1\n",
       "SGS 1-23H-15      1\n",
       "SGS 1-26F         1\n",
       "SGS 1-34R         1\n",
       "SGS 1-35C         1\n",
       "SGS 126B          1\n",
       "SGS 126E          1\n",
       "SGS 135           1\n",
       "SGS-1-36          1\n",
       "SGS-2-32          1\n",
       "SGS-2-32A         1\n",
       "SGS-233           1\n",
       "SGS1-26-D         1\n",
       "SGS1-26A          1\n",
       "SGS2-32           1\n",
       "SGS2-33           1\n",
       "SGS233A           1\n",
       "S-2-33A           1\n",
       "I-26D             1\n",
       "1-23              1\n",
       "H-300             1\n",
       "1-24              1\n",
       "1-26              1\n",
       "1-26B             1\n",
       "1-26D             1\n",
       "126-D             1\n",
       "134               1\n",
       "2-22EK            1\n",
       "233A              1\n",
       "269               1\n",
       "269-C             1\n",
       "269-C1            1\n",
       "333               1\n",
       "AG CAT            1\n",
       "FGS-233           1\n",
       "G-164-B           1\n",
       "G-164A-450        1\n",
       "G164-B            1\n",
       "G164A \"450\"       1\n",
       "G167B             1\n",
       "GRUMMAN G-164A    1\n",
       "GRUMMAN G-164B    1\n",
       "TG3A              1\n",
       "Name: count, dtype: int64"
      ]
     },
     "execution_count": 825,
     "metadata": {},
     "output_type": "execute_result"
    }
   ],
   "source": [
    "#Edit multiple models' category value\n",
    "df.loc[df['Model'].isin(['1-26E', '1-35C', '1-36', '2-32', '2-33', '2-33-A', '2-33A', 'SGS 1-26', 'SGS 1-26A', 'SGS 1-26B', 'SGS 1-26C', 'SGS 1-26D', 'SGS 1-26E', 'SGS 1-34', 'SGS 1-35', 'SGS 1-36',\n",
    "                        'SGS 2-32', 'SGS 2-33', 'SGS 2-33AK', 'SGS 2-8', 'SGS-1-26', 'SGS-1-26A', 'SGS-1-26B', 'SGS-1-26E', 'SGS-1-30', 'SGS-1-34', 'SGS-1-35', 'SGS-1-35C', 'SGS-126D', 'SGS-126E',\n",
    "                        'SGS-2-33', 'SGS-2-33A', 'SGS-233A', 'SGS1-26C', 'SGS1-26D', 'SGS1-34', 'SGS1-36', 'SGS2-33A', 'SGU 2-22CK', 'SGU 2-22E', 'SGU-2-22E', 'SGU-2-22K', 'SGU-22', 'SGU2-22E',\n",
    "                        'SSG 2-33A', 'T-26E']), 'Aircraft_Category'] = 'Glider'\n",
    "\n",
    "df.loc[df['Model'].isin(['269B', '269C-1', '269D', '300C', 'HUGHES 269C']), 'Aircraft_Category'] = 'Helicopter'\n",
    "\n",
    "df.loc[df['Model'].isin(['G-164', 'G-164-A', 'G-164B-600', 'G-164C', 'G-164D', 'G164', 'G164A', 'G164B', 'G164D']), 'Aircraft_Category'] = 'Airplane'\n",
    "\n",
    "df[df['Make'].isin(['Schweizer']) & df['Aircraft_Category'].isna()].value_counts('Model', dropna=False).head(60)"
   ]
  },
  {
   "cell_type": "code",
   "execution_count": 826,
   "id": "c8b0e157-e07e-4182-a98d-c44f312c354c",
   "metadata": {},
   "outputs": [
    {
     "data": {
      "text/plain": [
       "Aircraft_Category\n",
       "Glider        372\n",
       "Helicopter    245\n",
       "Airplane      179\n",
       "Name: count, dtype: int64"
      ]
     },
     "execution_count": 826,
     "metadata": {},
     "output_type": "execute_result"
    }
   ],
   "source": [
    "#Edit multiple models' category value\n",
    "df.loc[df['Model'].isin(['134', '1-23', '1-24', '1-26', '1-26B', '1-26D', '126-D', '2-22EK', '233A', 'FGS-233', 'I-26D', 'I-26E', 'S-2-33A', 'S2-33A', 'SC2-33A', 'SGS 1-23', 'SGS 1-23G', 'SGS 1-23H-15',\n",
    "                        'SGS 1-26F', 'SGS 1-34R', 'SGS 1-35C', 'SGS 126B', 'SGS 126E', 'SGS 135', 'SGS-1-36', 'SGS-2-32', 'SGS-2-32A', 'SGS-233', 'SGS1-26-D', 'SGS1-26A', 'SGS2-32', 'SGS2-33',\n",
    "                        'SGS233A', 'TG3A']), 'Aircraft_Category'] = 'Glider'\n",
    "\n",
    "df.loc[df['Model'].isin(['269', '333', '-269C', '269-C', '269-C1', 'H-300']), 'Aircraft_Category'] = 'Helicopter'\n",
    "\n",
    "df.loc[df['Model'].isin(['SA 2-37A', 'AG CAT', 'G-164-B', 'G-164A-450', 'G164-B', 'G164A \\\"450\\\"', 'G167B', 'GRUMMAN G-164A', 'GRUMMAN G-164B']), 'Aircraft_Category'] = 'Airplane'\n",
    "\n",
    "df[df['Make'].isin(['Schweizer'])].value_counts('Aircraft_Category', dropna=False)"
   ]
  },
  {
   "cell_type": "code",
   "execution_count": 827,
   "id": "6ee8d8ba-0b85-41f0-a4cd-85b6acf60218",
   "metadata": {},
   "outputs": [
    {
     "data": {
      "text/plain": [
       "Make\n",
       "Aerospatiale      253\n",
       "Douglas           173\n",
       "North American    161\n",
       "Taylorcraft       144\n",
       "Rockwell          141\n",
       "Sikorsky          106\n",
       "Burkhart Grob     100\n",
       "Fairchild          97\n",
       "Lockheed           94\n",
       "Ayres              87\n",
       "Name: count, dtype: int64"
      ]
     },
     "execution_count": 827,
     "metadata": {},
     "output_type": "execute_result"
    }
   ],
   "source": [
    "df[df['Aircraft_Category'].isna()]['Make'].value_counts().head(10)"
   ]
  },
  {
   "cell_type": "code",
   "execution_count": 828,
   "id": "6fbd26b1-23c5-48ee-bd0c-fddbd8c7c836",
   "metadata": {},
   "outputs": [
    {
     "data": {
      "text/plain": [
       "Model\n",
       "SA315B             16\n",
       "AS350B             14\n",
       "SA316B             14\n",
       "ATR-42-300         12\n",
       "AS-350B            10\n",
       "AS350BA             9\n",
       "ATR-72-212          8\n",
       "SA-315B             8\n",
       "TB-20               6\n",
       "AS-355F-1           6\n",
       "AS-355-F1           5\n",
       "SA341G              5\n",
       "SA-341G             5\n",
       "AS-350BA            4\n",
       "316B                3\n",
       "AS-350-B            3\n",
       "AS-355F             3\n",
       "AS-350              3\n",
       "AS-355-F            3\n",
       "ATR-42-320          3\n",
       "SA 315B             3\n",
       "SA-360C             3\n",
       "SA319B              3\n",
       "TB-21               3\n",
       "ATR-42              2\n",
       "ATR 42-300          2\n",
       "AS35OD              2\n",
       "AS355F              2\n",
       "SA-315              2\n",
       "SA-319B             2\n",
       "SA315B LAMA         2\n",
       "AS-355E             2\n",
       "ATR-72              2\n",
       "AS355F1             2\n",
       "AS-350-B2           2\n",
       "AS 355F1            2\n",
       "AS-355              2\n",
       "350D                2\n",
       "AS-350-BA           2\n",
       "AS 355F             2\n",
       "ALOUETTE 3          1\n",
       "SA315-D LAMA        1\n",
       "SA-365-N2           1\n",
       "AS 315B             1\n",
       "AS 350 ASTAR        1\n",
       "AS-355-F2           1\n",
       "SA-330J             1\n",
       "A-300B4             1\n",
       "SA-316B             1\n",
       "SA-316 ALOUETTE     1\n",
       "AS 350B-2           1\n",
       "SA-315-B            1\n",
       "AS 350D             1\n",
       "SA 360C             1\n",
       "AS 350B             1\n",
       "355                 1\n",
       "AS 355 F            1\n",
       "SA318C              1\n",
       "TB20                1\n",
       "350 B1              1\n",
       "Name: count, dtype: int64"
      ]
     },
     "execution_count": 828,
     "metadata": {},
     "output_type": "execute_result"
    }
   ],
   "source": [
    "df[df['Make'].isin(['Aerospatiale']) & df['Aircraft_Category'].isna()].value_counts('Model', dropna=False).head(60)"
   ]
  },
  {
   "cell_type": "code",
   "execution_count": 829,
   "id": "54c3412d-f83a-454f-b077-8b375d790937",
   "metadata": {},
   "outputs": [
    {
     "data": {
      "text/plain": [
       "Aircraft_Category\n",
       "NaN           253\n",
       "Helicopter     79\n",
       "Airplane        2\n",
       "Name: count, dtype: int64"
      ]
     },
     "execution_count": 829,
     "metadata": {},
     "output_type": "execute_result"
    }
   ],
   "source": [
    "df[df['Make'].isin(['Aerospatiale'])].value_counts('Aircraft_Category', dropna=False)"
   ]
  },
  {
   "cell_type": "markdown",
   "id": "eb766310-b6fb-47d6-a720-23f5fe7c4e41",
   "metadata": {},
   "source": [
    "I see only 2 airplanes listed for Aerospatiale. So which models are those?"
   ]
  },
  {
   "cell_type": "code",
   "execution_count": 830,
   "id": "26971849-e752-4e1e-bd91-1889091b0dfc",
   "metadata": {},
   "outputs": [
    {
     "data": {
      "text/plain": [
       "Model\n",
       "ATR 42-320    1\n",
       "ATR-42-300    1\n",
       "Name: count, dtype: int64"
      ]
     },
     "execution_count": 830,
     "metadata": {},
     "output_type": "execute_result"
    }
   ],
   "source": [
    "df[df['Make'].isin(['Aerospatiale']) & df['Aircraft_Category'].isin(['Airplane'])].value_counts('Model', dropna=False)"
   ]
  },
  {
   "cell_type": "markdown",
   "id": "9d19249c-83fb-45d8-962f-246e33b5750c",
   "metadata": {},
   "source": [
    "So this tells me that models beginning with 'ATR' would be airplanes"
   ]
  },
  {
   "cell_type": "code",
   "execution_count": 831,
   "id": "4338a0aa-de57-4a90-bad2-678678411b21",
   "metadata": {},
   "outputs": [
    {
     "data": {
      "text/plain": [
       "Model\n",
       "AS-350D       17\n",
       "AS350D        15\n",
       "AS350          6\n",
       "SA316B         4\n",
       "SA315B         4\n",
       "AS350BA        3\n",
       "AS-355F        2\n",
       "AS350-B2       2\n",
       "SA-316B        2\n",
       "SA-315B        2\n",
       "SA 315B        2\n",
       "AS-350-BA      1\n",
       "SA 315 B       1\n",
       "350B1          1\n",
       "SA-360C        1\n",
       "SA-341G        1\n",
       "SA-319B        1\n",
       "SA-318C        1\n",
       "SA 316B        1\n",
       "AS355F1        1\n",
       "S350D          1\n",
       "AS 365 N-2     1\n",
       "AS355          1\n",
       "350D           1\n",
       "341G           1\n",
       "AS350B2        1\n",
       "AS350B         1\n",
       "AS350-D        1\n",
       "AS 355F2       1\n",
       "AS-355-F2      1\n",
       "315B           1\n",
       "Name: count, dtype: int64"
      ]
     },
     "execution_count": 831,
     "metadata": {},
     "output_type": "execute_result"
    }
   ],
   "source": [
    "df[df['Make'].isin(['Aerospatiale']) & df['Aircraft_Category'].isin(['Helicopter'])].value_counts('Model', dropna=False)"
   ]
  },
  {
   "cell_type": "markdown",
   "id": "2106fa08-741c-41a2-b5f2-55bcbaa69b79",
   "metadata": {},
   "source": [
    "And helicopter models begin with 'AS-' and 'SA-'"
   ]
  },
  {
   "cell_type": "code",
   "execution_count": 832,
   "id": "5d7a0475-eaa6-4a62-9697-d19b63055019",
   "metadata": {},
   "outputs": [
    {
     "data": {
      "text/plain": [
       "Model\n",
       "316B ALOUETTE III       1\n",
       "AS365N                  1\n",
       "ATR 72-212              1\n",
       "ATR-42-500              1\n",
       "ATR-72-12               1\n",
       "ATR42-300               1\n",
       "ATR72-212               1\n",
       "CONCORDE VERSION 101    1\n",
       "Concorde                1\n",
       "ND-26                   1\n",
       "SA 315                  1\n",
       "SA 316B                 1\n",
       "SA319B Alouette III     1\n",
       "SA330J                  1\n",
       "SA360C DAUPHIN          1\n",
       "SA365-N1                1\n",
       "SA365N                  1\n",
       "SE 3180                 1\n",
       "SE 318C                 1\n",
       "SE316B                  1\n",
       "SF3130                  1\n",
       "SN-601                  1\n",
       "TB-10                   1\n",
       "ATR 42-320              1\n",
       "AS355F2                 1\n",
       "350-B                   1\n",
       "AS355F-1                1\n",
       "350B                    1\n",
       "AS 355 F ECUREUIL       1\n",
       "AS 355F-1               1\n",
       "AS-332L                 1\n",
       "AS-341G                 1\n",
       "AS-350-B3               1\n",
       "AS-350B1                1\n",
       "AS-350B2                1\n",
       "AS-350BII               1\n",
       "AS-355F1                1\n",
       "AS-365-N2               1\n",
       "AS315B                  1\n",
       "AS332                   1\n",
       "AS350                   1\n",
       "AS350 BA                1\n",
       "AS350-B                 1\n",
       "AS350-B3                1\n",
       "AS350-BH                1\n",
       "AS350-D                 1\n",
       "AS350B3                 1\n",
       "AS350D ASTAR            1\n",
       "TB21                    1\n",
       "Name: count, dtype: int64"
      ]
     },
     "execution_count": 832,
     "metadata": {},
     "output_type": "execute_result"
    }
   ],
   "source": [
    "#Edit multiple models' category value\n",
    "df.loc[df['Model'].isin(['355', '316B', '350 B1', '350D', 'A-300B4', 'ALOUETTE 3', 'AS 315B', 'AS 350 ASTAR', 'AS 350B', 'AS 350B-2', 'AS 350D', 'AS 355 F', 'AS 355F', 'AS 355F1', 'AS-350', 'AS-350-B',\n",
    "                        'AS-350-B2', 'AS-350-BA', 'AS-350B', 'AS-350BA', 'AS-355', 'AS-355-F', 'AS-355-F1', 'AS-355-F2', 'AS-355E', 'AS-355F', 'AS-355F-1', 'AS350B', 'AS350BA', 'AS355F', 'AS355F1',\n",
    "                        'AS35OD', 'SA 315B', 'SA 360C', 'SA-315', 'SA-315-B', 'SA-315B', 'SA-316 ALOUETTE', 'SA-316B', 'SA-319B', 'SA-330J', 'SA-341G', 'SA-360C', 'SA-365-N2', 'SA315-D LAMA', 'SA315B',\n",
    "                        'SA315B LAMA', 'SA316B', 'SA318C', 'SA319B', 'SA341G']), 'Aircraft_Category'] = 'Helicopter'\n",
    "\n",
    "df.loc[df['Model'].isin(['ATR 42-300', 'ATR-42', 'ATR-42-300', 'ATR-42-320', 'ATR-72', 'ATR-72-212', 'TB-20', 'TB-21', 'TB20']), 'Aircraft_Category'] = 'Airplane'\n",
    "\n",
    "df[df['Make'].isin(['Aerospatiale']) & df['Aircraft_Category'].isna()].value_counts('Model', dropna=False).head(60)"
   ]
  },
  {
   "cell_type": "code",
   "execution_count": 833,
   "id": "b85cf0c8-a560-4515-b930-9d63bf0c9956",
   "metadata": {},
   "outputs": [
    {
     "data": {
      "text/plain": [
       "Series([], Name: count, dtype: int64)"
      ]
     },
     "execution_count": 833,
     "metadata": {},
     "output_type": "execute_result"
    }
   ],
   "source": [
    "#Edit multiple models' category value\n",
    "df.loc[df['Model'].isin(['316B ALOUETTE III', '350-B', '350B', 'AS 355 F ECUREUIL', 'AS 355F-1', 'AS-332L', 'AS-341G', 'AS-350-B3', 'AS-350B1', 'AS-350B2', 'AS-350BII', 'AS-355F1', 'AS-365-N2', 'AS315B',\n",
    "                        'AS332', 'AS350', 'AS350 BA', 'AS350-B', 'AS350-B3', 'AS350-BH', 'AS350-D', 'AS350B3', 'AS350D ASTAR', 'AS355F-1', 'AS355F2', 'AS365N', 'SA 315', 'SA 316B', 'SA319B Alouette III',\n",
    "                        'SA330J', 'SA360C DAUPHIN', 'SA365-N1', 'SA365N', 'SE 3180', 'SE 318C', 'SE316B', 'SF3130']), 'Aircraft_Category'] = 'Helicopter'\n",
    "\n",
    "df.loc[df['Model'].isin(['ATR 42-320', 'ATR 72-212', 'ATR-42-500', 'ATR-72-12', 'ATR42-300', 'ATR72-212', 'SN-601', 'TB-10', 'TB21', 'CONCORDE VERSION 101', 'Concorde', 'ND-26']), 'Aircraft_Category'] = 'Airplane'\n",
    "\n",
    "df[df['Make'].isin(['Aerospatiale']) & df['Aircraft_Category'].isna()].value_counts('Model', dropna=False).head(60)"
   ]
  },
  {
   "cell_type": "code",
   "execution_count": 834,
   "id": "8ee94415-da80-4fc5-b259-d759763450de",
   "metadata": {},
   "outputs": [
    {
     "data": {
      "text/plain": [
       "Make\n",
       "Douglas           173\n",
       "North American    161\n",
       "Taylorcraft       144\n",
       "Rockwell          141\n",
       "Sikorsky          106\n",
       "Burkhart Grob     100\n",
       "Fairchild          97\n",
       "Lockheed           94\n",
       "Balloon Works      87\n",
       "Ayres              87\n",
       "Name: count, dtype: int64"
      ]
     },
     "execution_count": 834,
     "metadata": {},
     "output_type": "execute_result"
    }
   ],
   "source": [
    "df[df['Aircraft_Category'].isna()]['Make'].value_counts().head(10)"
   ]
  },
  {
   "cell_type": "code",
   "execution_count": 835,
   "id": "8bd1ffce-388f-458e-9611-013a68238715",
   "metadata": {},
   "outputs": [
    {
     "data": {
      "text/plain": [
       "Make\n",
       "Douglas                250\n",
       "DOUGLAS                 26\n",
       "DOUGLAS BRIAN G          1\n",
       "DOUGLAS K THOMPSON       1\n",
       "Douglas A. Pohl          1\n",
       "Douglas C. Campbell      1\n",
       "Douglas D. Turner        1\n",
       "Douglas Maselink         1\n",
       "Douglas Swanningson      1\n",
       "Douglas/basler           1\n",
       "Name: count, dtype: int64"
      ]
     },
     "execution_count": 835,
     "metadata": {},
     "output_type": "execute_result"
    }
   ],
   "source": [
    "df[df['Make'].str.lower().str.startswith('dougl')].value_counts('Make')"
   ]
  },
  {
   "cell_type": "code",
   "execution_count": 836,
   "id": "bf403605-23f9-4eea-b4eb-3dba1d372e07",
   "metadata": {},
   "outputs": [],
   "source": [
    "df.loc[df['Make'].isin(['Douglas', 'DOUGLAS']), 'Make'] = 'Douglas'"
   ]
  },
  {
   "cell_type": "code",
   "execution_count": 837,
   "id": "f70f9503-ecda-472b-9876-4f9777a5f7be",
   "metadata": {},
   "outputs": [
    {
     "data": {
      "text/plain": [
       "Aircraft_Category\n",
       "NaN         174\n",
       "Airplane    102\n",
       "Name: count, dtype: int64"
      ]
     },
     "execution_count": 837,
     "metadata": {},
     "output_type": "execute_result"
    }
   ],
   "source": [
    "df[df['Make'] == 'Douglas'].value_counts('Aircraft_Category', dropna=False)"
   ]
  },
  {
   "cell_type": "code",
   "execution_count": 838,
   "id": "b95ae3b4-df5a-4e8d-85ee-65fb88bcd1af",
   "metadata": {},
   "outputs": [],
   "source": [
    "df.loc[df['Make'] == 'Douglas', 'Aircraft_Category'] = 'Airplane'"
   ]
  },
  {
   "cell_type": "code",
   "execution_count": 839,
   "id": "e5d00233-3f17-419c-956e-c04985cb7307",
   "metadata": {},
   "outputs": [
    {
     "data": {
      "text/plain": [
       "Make\n",
       "North American    161\n",
       "Taylorcraft       144\n",
       "Rockwell          141\n",
       "Sikorsky          106\n",
       "Burkhart Grob     100\n",
       "Fairchild          97\n",
       "Lockheed           94\n",
       "Balloon Works      87\n",
       "Ayres              87\n",
       "Swearingen         86\n",
       "Name: count, dtype: int64"
      ]
     },
     "execution_count": 839,
     "metadata": {},
     "output_type": "execute_result"
    }
   ],
   "source": [
    "df[df['Aircraft_Category'].isna()]['Make'].value_counts().head(10)"
   ]
  },
  {
   "cell_type": "code",
   "execution_count": 840,
   "id": "2c153b1e-aa28-447c-bcc8-df5ba7ea189a",
   "metadata": {},
   "outputs": [
    {
     "data": {
      "text/plain": [
       "Make\n",
       "North American                    294\n",
       "NORTH AMERICAN                     79\n",
       "North American Rockwell Corp.       5\n",
       "NORTH AMERICAN/AERO CLASSICS        3\n",
       "North American Aviation Div.        2\n",
       "NORTH AMERICAN-MEDORE               1\n",
       "NORTH AMERICAN/SCHWAMM              1\n",
       "NORTH AMERICAN/VICTORIA MNT LT      1\n",
       "North American Rockwell             1\n",
       "North American-aero Classics        1\n",
       "North American-barene               1\n",
       "North American-kenney               1\n",
       "North American-maslon               1\n",
       "North American/aero Classics        1\n",
       "Name: count, dtype: int64"
      ]
     },
     "execution_count": 840,
     "metadata": {},
     "output_type": "execute_result"
    }
   ],
   "source": [
    "df[df['Make'].str.lower().str.startswith('north a')].value_counts('Make')"
   ]
  },
  {
   "cell_type": "code",
   "execution_count": 841,
   "id": "2a1d978d-38df-4567-a8fb-7b055c308d5f",
   "metadata": {},
   "outputs": [
    {
     "data": {
      "text/plain": [
       "Aircraft_Category\n",
       "Airplane    212\n",
       "NaN         161\n",
       "Name: count, dtype: int64"
      ]
     },
     "execution_count": 841,
     "metadata": {},
     "output_type": "execute_result"
    }
   ],
   "source": [
    "df.loc[df['Make'].isin(['NORTH AMERICAN']), 'Make'] = 'North American'\n",
    "\n",
    "df[df['Make'] == 'North American'].value_counts('Aircraft_Category', dropna=False)"
   ]
  },
  {
   "cell_type": "code",
   "execution_count": 842,
   "id": "3428e9dc-b086-404c-80f2-c08fc3c62b96",
   "metadata": {},
   "outputs": [],
   "source": [
    "df.loc[df['Make'] == 'North American', 'Aircraft_Category'] = 'Airplane'"
   ]
  },
  {
   "cell_type": "code",
   "execution_count": 843,
   "id": "e6b9083a-7cc3-4c2d-8dcf-dfdad277388a",
   "metadata": {},
   "outputs": [
    {
     "data": {
      "text/plain": [
       "Make\n",
       "Taylorcraft                   316\n",
       "TAYLORCRAFT                    62\n",
       "TAYLORCRAFT AVIATION CORP       5\n",
       "TAYLORCRAFT AVIATION CORP.      3\n",
       "TAYLORCRAFT CORP                1\n",
       "Taylorcraft Aviation            1\n",
       "Taylorcraft Corporation         1\n",
       "Name: count, dtype: int64"
      ]
     },
     "execution_count": 843,
     "metadata": {},
     "output_type": "execute_result"
    }
   ],
   "source": [
    "df[df['Make'].str.lower().str.startswith('taylorc')].value_counts('Make')"
   ]
  },
  {
   "cell_type": "code",
   "execution_count": 844,
   "id": "6762e7da-99b9-425c-9ed6-42a749c9155e",
   "metadata": {},
   "outputs": [
    {
     "data": {
      "text/plain": [
       "Aircraft_Category\n",
       "Airplane    244\n",
       "NaN         145\n",
       "Name: count, dtype: int64"
      ]
     },
     "execution_count": 844,
     "metadata": {},
     "output_type": "execute_result"
    }
   ],
   "source": [
    "df.loc[df['Make'].isin(['TAYLORCRAFT', 'TAYLORCRAFT AVIATION CORP', 'TAYLORCRAFT AVIATION CORP.', 'TAYLORCRAFT CORP', 'Taylorcraft Aviation', 'Taylorcraft Corporation']), 'Make'] = 'Taylorcraft'\n",
    "\n",
    "df[df['Make'] == 'Taylorcraft'].value_counts('Aircraft_Category', dropna=False)"
   ]
  },
  {
   "cell_type": "code",
   "execution_count": 845,
   "id": "d60230d0-5ffd-4183-9b47-99c1547719df",
   "metadata": {},
   "outputs": [
    {
     "data": {
      "text/plain": [
       "Make\n",
       "Rockwell         141\n",
       "Sikorsky         106\n",
       "Burkhart Grob    100\n",
       "Fairchild         97\n",
       "Lockheed          94\n",
       "Ayres             87\n",
       "Balloon Works     87\n",
       "Swearingen        86\n",
       "Mitsubishi        84\n",
       "Hiller            82\n",
       "Name: count, dtype: int64"
      ]
     },
     "execution_count": 845,
     "metadata": {},
     "output_type": "execute_result"
    }
   ],
   "source": [
    "df.loc[df['Make'] == 'Taylorcraft', 'Aircraft_Category'] = 'Airplane'\n",
    "\n",
    "df[df['Aircraft_Category'].isna()]['Make'].value_counts().head(10)"
   ]
  },
  {
   "cell_type": "code",
   "execution_count": 846,
   "id": "afcc3f0c-74b2-4cf8-ad06-b2f5b6e17cf8",
   "metadata": {},
   "outputs": [
    {
     "data": {
      "text/plain": [
       "Make\n",
       "Rockwell                  328\n",
       "ROCKWELL INTERNATIONAL     53\n",
       "ROCKWELL                   24\n",
       "Rockwell International     22\n",
       "Rockwell Commander          3\n",
       "Rockwell Intl               2\n",
       "Rockwell Intl.              2\n",
       "ROCKWELL COMMANDER          1\n",
       "Rockwell Comdr              1\n",
       "Rockwell Int't              1\n",
       "Name: count, dtype: int64"
      ]
     },
     "execution_count": 846,
     "metadata": {},
     "output_type": "execute_result"
    }
   ],
   "source": [
    "df[df['Make'].str.lower().str.startswith('rockw')].value_counts('Make')"
   ]
  },
  {
   "cell_type": "code",
   "execution_count": 847,
   "id": "1bb1021c-9195-4b49-8863-443a64304aca",
   "metadata": {},
   "outputs": [
    {
     "data": {
      "text/plain": [
       "Aircraft_Category\n",
       "Airplane    284\n",
       "NaN         148\n",
       "Name: count, dtype: int64"
      ]
     },
     "execution_count": 847,
     "metadata": {},
     "output_type": "execute_result"
    }
   ],
   "source": [
    "df.loc[df['Make'].isin(['ROCKWELL', 'ROCKWELL INTERNATIONAL', 'Rockwell International', 'Rockwell Intl', 'Rockwell Intl.', 'Rockwell Int\\'t']), 'Make'] = 'Rockwell'\n",
    "\n",
    "df[df['Make'] == 'Rockwell'].value_counts('Aircraft_Category', dropna=False)"
   ]
  },
  {
   "cell_type": "code",
   "execution_count": 848,
   "id": "8769fb64-53b5-4d97-8266-1ca27a09944d",
   "metadata": {},
   "outputs": [
    {
     "data": {
      "text/plain": [
       "Make\n",
       "Sikorsky             106\n",
       "Burkhart Grob        100\n",
       "Fairchild             97\n",
       "Lockheed              94\n",
       "Balloon Works         87\n",
       "Ayres                 87\n",
       "Swearingen            86\n",
       "Mitsubishi            84\n",
       "Hiller                82\n",
       "British Aerospace     79\n",
       "Name: count, dtype: int64"
      ]
     },
     "execution_count": 848,
     "metadata": {},
     "output_type": "execute_result"
    }
   ],
   "source": [
    "df.loc[df['Make'] == 'Rockwell', 'Aircraft_Category'] = 'Airplane'\n",
    "\n",
    "df[df['Aircraft_Category'].isna()]['Make'].value_counts().head(10)"
   ]
  },
  {
   "cell_type": "code",
   "execution_count": 849,
   "id": "03a29cdb-f0ff-424c-8833-f174a40de54f",
   "metadata": {},
   "outputs": [
    {
     "data": {
      "text/plain": [
       "Make\n",
       "Sikorsky                         153\n",
       "SIKORSKY                          76\n",
       "SIKORSKY AIRCRAFT CORP             1\n",
       "SIKORSKY AIRCRAFT CORPORATION      1\n",
       "Sikorsky/orlando                   1\n",
       "Name: count, dtype: int64"
      ]
     },
     "execution_count": 849,
     "metadata": {},
     "output_type": "execute_result"
    }
   ],
   "source": [
    "df[df['Make'].str.lower().str.startswith('sikor')].value_counts('Make')"
   ]
  },
  {
   "cell_type": "code",
   "execution_count": 850,
   "id": "7c66a1a0-2e49-4bb4-8644-1340a3eb69a3",
   "metadata": {},
   "outputs": [
    {
     "data": {
      "text/plain": [
       "Aircraft_Category\n",
       "Helicopter    118\n",
       "NaN           113\n",
       "Name: count, dtype: int64"
      ]
     },
     "execution_count": 850,
     "metadata": {},
     "output_type": "execute_result"
    }
   ],
   "source": [
    "df.loc[df['Make'].isin(['SIKORSKY', 'SIKORSKY AIRCRAFT CORP', 'SIKORSKY AIRCRAFT CORPORATION']), 'Make'] = 'Sikorsky'\n",
    "\n",
    "df[df['Make'] == 'Sikorsky'].value_counts('Aircraft_Category', dropna=False)"
   ]
  },
  {
   "cell_type": "code",
   "execution_count": 851,
   "id": "5521ea0f-bc03-4e98-b7b1-ba3a3ae509fb",
   "metadata": {},
   "outputs": [
    {
     "data": {
      "text/plain": [
       "Make\n",
       "Burkhart Grob        100\n",
       "Fairchild             97\n",
       "Lockheed              94\n",
       "Balloon Works         87\n",
       "Ayres                 87\n",
       "Swearingen            86\n",
       "Mitsubishi            84\n",
       "Hiller                82\n",
       "British Aerospace     79\n",
       "Embraer               75\n",
       "Name: count, dtype: int64"
      ]
     },
     "execution_count": 851,
     "metadata": {},
     "output_type": "execute_result"
    }
   ],
   "source": [
    "df.loc[df['Make'] == 'Sikorsky', 'Aircraft_Category'] = 'Helicopter'\n",
    "\n",
    "df[df['Aircraft_Category'].isna()]['Make'].value_counts().head(10)"
   ]
  },
  {
   "cell_type": "code",
   "execution_count": 852,
   "id": "2c79c7a2-fa13-4abc-b4ae-3b903f8db318",
   "metadata": {},
   "outputs": [
    {
     "data": {
      "text/plain": [
       "Aircraft_Category\n",
       "NaN       100\n",
       "Glider      9\n",
       "Name: count, dtype: int64"
      ]
     },
     "execution_count": 852,
     "metadata": {},
     "output_type": "execute_result"
    }
   ],
   "source": [
    "df[df['Make'] == 'Burkhart Grob'].value_counts('Aircraft_Category', dropna=False)"
   ]
  },
  {
   "cell_type": "markdown",
   "id": "95e47c93-b28a-4ab7-9107-b12f0ad0d992",
   "metadata": {},
   "source": [
    "So many NaN and only 9 gliders, so I'm going to check out the models just to make sure that I should fill in Burkhart Grob category as Glider"
   ]
  },
  {
   "cell_type": "code",
   "execution_count": 853,
   "id": "0f75f769-3c3f-4093-9456-2905a46d4797",
   "metadata": {},
   "outputs": [
    {
     "data": {
      "text/plain": [
       "Model\n",
       "G103                    15\n",
       "G-103A                   7\n",
       "103                      6\n",
       "G102                     6\n",
       "G-109B                   5\n",
       "G-103                    5\n",
       "G103 TWIN ASTIR          4\n",
       "G 103 Twin II            4\n",
       "G109B                    3\n",
       "G-102                    3\n",
       "103A                     3\n",
       "G103 TWIN II             2\n",
       "G103 Twin Astir          2\n",
       "G-103-TWIN II            2\n",
       "G102 ASTIR CS            2\n",
       "G103A                    2\n",
       "G-103A Twin II Acro      2\n",
       "G102 Club Astir IIIB     2\n",
       "102                      2\n",
       "G 103 TWIN II            2\n",
       "G-103 TWIN II            1\n",
       "G102-111B                1\n",
       "SPEED ASTIR II           1\n",
       "G10Z ASTIR CS            1\n",
       "103C                     1\n",
       "G103C TWIN III ACRO      1\n",
       "G103B                    1\n",
       "109                      1\n",
       "G103-TWINA               1\n",
       "G103 Twin II             1\n",
       "109A                     1\n",
       "109B                     1\n",
       "6103 TWIN ASTIR          1\n",
       "G103 FLUGZEUGBAU         1\n",
       "A103 TWIN II             1\n",
       "G102 Std Astir III       1\n",
       "G-103-II AERO            1\n",
       "G102 Standard III        1\n",
       "G102 STD ASTIR III       1\n",
       "G102 III B               1\n",
       "BG 103                   1\n",
       "G102 CLUB ASTIR IIIB     1\n",
       "FLUGZEUGBAU G103         1\n",
       "G-115D                   1\n",
       "G 103C                   1\n",
       "G-102 ASTIR CS           1\n",
       "G-103A TWIN II ACRO      1\n",
       "G-102CS                  1\n",
       "G-103 TWIN ASTIR         1\n",
       "TWIN ASTIR               1\n",
       "Name: count, dtype: int64"
      ]
     },
     "execution_count": 853,
     "metadata": {},
     "output_type": "execute_result"
    }
   ],
   "source": [
    "df[df['Make'] == 'Burkhart Grob'].value_counts('Model', dropna=False)"
   ]
  },
  {
   "cell_type": "markdown",
   "id": "54b8c9c2-2a06-4808-9569-04291bff4c0b",
   "metadata": {},
   "source": [
    "Google tells me all these models are gliders."
   ]
  },
  {
   "cell_type": "code",
   "execution_count": 854,
   "id": "44cb6bd5-9a1c-4dec-815d-64d1f9a40fa8",
   "metadata": {},
   "outputs": [
    {
     "data": {
      "text/plain": [
       "Make\n",
       "Burkhart Grob                109\n",
       "BURKHART GROB                 11\n",
       "Burkhart Grob Flugzeugbau      9\n",
       "BURKHART GROB FLUGZEUGBAU      6\n",
       "Burkhart Grob Flugzeugbah      1\n",
       "Burkhart-grob                  1\n",
       "Name: count, dtype: int64"
      ]
     },
     "execution_count": 854,
     "metadata": {},
     "output_type": "execute_result"
    }
   ],
   "source": [
    "df[df['Make'].str.lower().str.startswith('burkha')].value_counts('Make')"
   ]
  },
  {
   "cell_type": "code",
   "execution_count": 855,
   "id": "20a5aeaa-168d-45f2-b0ea-f3d21fba14a7",
   "metadata": {},
   "outputs": [],
   "source": [
    "df.loc[df['Make'].isin(['BURKHART GROB', 'Burkhart Grob Flugzeugbau', 'BURKHART GROB FLUGZEUGBAU', 'Burkhart Grob Flugzeugbah', 'Burkhart-grob']), 'Make'] = 'Burkhart Grob'\n",
    "\n",
    "df.loc[df['Make'] == 'Burkhart Grob', 'Aircraft_Category'] = 'Glider'"
   ]
  },
  {
   "cell_type": "code",
   "execution_count": 856,
   "id": "12caaaf5-8b27-4467-8c13-ab56f91bc5ae",
   "metadata": {
    "panel-layout": {
     "height": 10,
     "visible": true,
     "width": 100
    }
   },
   "outputs": [
    {
     "data": {
      "text/plain": [
       "Make\n",
       "Fairchild            97\n",
       "Lockheed             94\n",
       "Balloon Works        87\n",
       "Ayres                87\n",
       "Swearingen           86\n",
       "Mitsubishi           84\n",
       "Hiller               82\n",
       "British Aerospace    79\n",
       "Embraer              75\n",
       "Enstrom              74\n",
       "Name: count, dtype: int64"
      ]
     },
     "execution_count": 856,
     "metadata": {},
     "output_type": "execute_result"
    }
   ],
   "source": [
    "df[df['Aircraft_Category'].isna()]['Make'].value_counts().head(10)"
   ]
  },
  {
   "cell_type": "code",
   "execution_count": 857,
   "id": "2c1d9e40-59cc-4228-9683-1b04eb67028b",
   "metadata": {},
   "outputs": [
    {
     "data": {
      "text/plain": [
       "Make\n",
       "Fairchild                131\n",
       "Fairchild Hiller          35\n",
       "FAIRCHILD                 27\n",
       "Fairchild Swearingen      11\n",
       "FAIRCHILD HILLER           4\n",
       "Fairchild Dornier          3\n",
       "FAIRCHILD HELI-PORTER      2\n",
       "FAIRCHILD(HOWARD)          2\n",
       "FAIRCHILD FUNK             1\n",
       "Fairchild Heli-porter      1\n",
       "Fairchild Industries       1\n",
       "Fairchild Merlin           1\n",
       "Fairchild-heliporter       1\n",
       "Fairchild/swearingen       1\n",
       "Name: count, dtype: int64"
      ]
     },
     "execution_count": 857,
     "metadata": {},
     "output_type": "execute_result"
    }
   ],
   "source": [
    "df[df['Make'].str.lower().str.startswith('fairchi')].value_counts('Make')"
   ]
  },
  {
   "cell_type": "code",
   "execution_count": 858,
   "id": "c609261f-328f-4307-8f6f-281cbff15cad",
   "metadata": {},
   "outputs": [
    {
     "data": {
      "text/plain": [
       "Aircraft_Category\n",
       "NaN           113\n",
       "Airplane       73\n",
       "Helicopter     35\n",
       "Name: count, dtype: int64"
      ]
     },
     "execution_count": 858,
     "metadata": {},
     "output_type": "execute_result"
    }
   ],
   "source": [
    "df.loc[df['Make'].isin(['Fairchild Hiller', 'FAIRCHILD', 'Fairchild Swearingen', 'FAIRCHILD HILLER', 'Fairchild Dornier', 'FAIRCHILD HELI-PORTER', 'FAIRCHILD(HOWARD)', 'FAIRCHILD FUNK',\n",
    "                       'Fairchild Heli-porter', 'Fairchild Industries', 'Fairchild Merlin', 'Fairchild-heliporter', 'Fairchild/swearingen']), 'Make'] = 'Fairchild'\n",
    "\n",
    "df[df['Make'] == 'Fairchild'].value_counts('Aircraft_Category', dropna=False)"
   ]
  },
  {
   "cell_type": "code",
   "execution_count": 859,
   "id": "fae8e7f3-7197-4470-977d-82ae20a4afd3",
   "metadata": {},
   "outputs": [
    {
     "data": {
      "text/plain": [
       "Model\n",
       "SA-227AC             8\n",
       "SA-227-AC            7\n",
       "M-62A-3              6\n",
       "SA-226-TC            4\n",
       "24G                  4\n",
       "SA227AC              4\n",
       "SA-227               4\n",
       "M-62C                4\n",
       "SA226T               3\n",
       "F-27                 3\n",
       "DO-328-300           3\n",
       "24W-46               3\n",
       "SA227                2\n",
       "C-82A                2\n",
       "M-62A                2\n",
       "SA227-AT             2\n",
       "SA 227               2\n",
       "SA 227-AC            2\n",
       "PT-19                2\n",
       "24R-46A              2\n",
       "24R-40               2\n",
       "SA227BC              2\n",
       "M-62                 2\n",
       "SA 227-TT Merlin     1\n",
       "SA-2226-TC           1\n",
       "SA-226-T             1\n",
       "24 C8C               1\n",
       "SA-226T              1\n",
       "SA-226TC             1\n",
       "SA-227-TT            1\n",
       "PT-26B               1\n",
       "SA-266TC             1\n",
       "SA226-T              1\n",
       "SA227-DC             1\n",
       "SA227-TT             1\n",
       "Pilatus PC6/B2-H2    1\n",
       "M62A (PT-19)         1\n",
       "PT-23                1\n",
       "PT-19A               1\n",
       "24-J                 1\n",
       "24R-46               1\n",
       "24W-40               1\n",
       "42                   1\n",
       "C-119                1\n",
       "C-119L               1\n",
       "F-23A                1\n",
       "F-27E                1\n",
       "F-27F                1\n",
       "FA-24                1\n",
       "FH-100               1\n",
       "FH-227               1\n",
       "FH-227B              1\n",
       "FH1100               1\n",
       "FH227B               1\n",
       "KR-21                1\n",
       "M-62A (PT-19)        1\n",
       "24-G                 1\n",
       "MERLIN IIIA          1\n",
       "Metro III            1\n",
       "PC6/B2-H2            1\n",
       "Name: count, dtype: int64"
      ]
     },
     "execution_count": 859,
     "metadata": {},
     "output_type": "execute_result"
    }
   ],
   "source": [
    "df[df['Make'].isin(['Fairchild']) & df['Aircraft_Category'].isna()].value_counts('Model', dropna=False).head(60)"
   ]
  },
  {
   "cell_type": "markdown",
   "id": "813234e2-e18c-45d0-9552-7a3107cc358e",
   "metadata": {},
   "source": [
    "The only models in this list that are helicopters are the FH1100 and FH-100. All the rest fall into the Airplane category."
   ]
  },
  {
   "cell_type": "code",
   "execution_count": 860,
   "id": "6268ef70-24f1-4352-842e-09b0cdf939ad",
   "metadata": {},
   "outputs": [],
   "source": [
    "df.loc[df['Model'].isin(['FH1100', 'FH-100']), 'Aircraft_Category'] = 'Helicopter'"
   ]
  },
  {
   "cell_type": "code",
   "execution_count": 861,
   "id": "eedc9099-f19a-4276-aacf-244411fdbdb6",
   "metadata": {},
   "outputs": [
    {
     "data": {
      "text/plain": [
       "Aircraft_Category\n",
       "Airplane      184\n",
       "Helicopter     37\n",
       "Name: count, dtype: int64"
      ]
     },
     "execution_count": 861,
     "metadata": {},
     "output_type": "execute_result"
    }
   ],
   "source": [
    "# Make the rest of the NaN category values Airplane for Fairchild\n",
    "df.loc[(df['Make'].isin(['Fairchild'])) & (df['Aircraft_Category'].isna()), 'Aircraft_Category'] = 'Airplane'\n",
    "\n",
    "df[df['Make'] == 'Fairchild'].value_counts('Aircraft_Category', dropna=False)"
   ]
  },
  {
   "cell_type": "code",
   "execution_count": 862,
   "id": "20e79084-435c-4551-bf20-49e13db76cc5",
   "metadata": {},
   "outputs": [
    {
     "data": {
      "text/plain": [
       "Make\n",
       "Lockheed             94\n",
       "Ayres                87\n",
       "Balloon Works        87\n",
       "Swearingen           86\n",
       "Mitsubishi           84\n",
       "Hiller               81\n",
       "British Aerospace    79\n",
       "Embraer              75\n",
       "Enstrom              74\n",
       "Pitts                73\n",
       "Name: count, dtype: int64"
      ]
     },
     "execution_count": 862,
     "metadata": {},
     "output_type": "execute_result"
    }
   ],
   "source": [
    "df[df['Aircraft_Category'].isna()]['Make'].value_counts().head(10)"
   ]
  },
  {
   "cell_type": "code",
   "execution_count": 863,
   "id": "28cc8ecd-241c-4a88-83ae-0f99410cf431",
   "metadata": {},
   "outputs": [
    {
     "data": {
      "text/plain": [
       "Make\n",
       "Lockheed    111\n",
       "LOCKHEED     11\n",
       "Name: count, dtype: int64"
      ]
     },
     "execution_count": 863,
     "metadata": {},
     "output_type": "execute_result"
    }
   ],
   "source": [
    "df[df['Make'].str.lower().str.startswith('lockh')].value_counts('Make')"
   ]
  },
  {
   "cell_type": "code",
   "execution_count": 864,
   "id": "eb440b83-6db2-4881-afd6-6d56fbf2d064",
   "metadata": {},
   "outputs": [
    {
     "data": {
      "text/plain": [
       "Aircraft_Category\n",
       "NaN             94\n",
       "Airplane        27\n",
       "Powered-Lift     1\n",
       "Name: count, dtype: int64"
      ]
     },
     "execution_count": 864,
     "metadata": {},
     "output_type": "execute_result"
    }
   ],
   "source": [
    "df.loc[df['Make'].isin(['LOCKHEED']), 'Make'] = 'Lockheed'\n",
    "\n",
    "df[df['Make'] == 'Lockheed'].value_counts('Aircraft_Category', dropna=False)"
   ]
  },
  {
   "cell_type": "code",
   "execution_count": 865,
   "id": "287b65e6-1436-4eda-9f64-08aa1a87a450",
   "metadata": {},
   "outputs": [
    {
     "data": {
      "text/plain": [
       "Make\n",
       "Balloon Works        87\n",
       "Ayres                87\n",
       "Swearingen           86\n",
       "Mitsubishi           84\n",
       "Hiller               81\n",
       "British Aerospace    79\n",
       "Embraer              75\n",
       "Enstrom              74\n",
       "Pitts                73\n",
       "Aerostar             72\n",
       "Name: count, dtype: int64"
      ]
     },
     "execution_count": 865,
     "metadata": {},
     "output_type": "execute_result"
    }
   ],
   "source": [
    "df.loc[df['Make'] == 'Lockheed', 'Aircraft_Category'] = 'Airplane'\n",
    "\n",
    "df[df['Aircraft_Category'].isna()]['Make'].value_counts().head(10)"
   ]
  },
  {
   "cell_type": "code",
   "execution_count": 866,
   "id": "2fc4e87c-8fb1-4225-80cf-fb426562dac4",
   "metadata": {},
   "outputs": [
    {
     "data": {
      "text/plain": [
       "Make\n",
       "Ayres                213\n",
       "AYRES CORPORATION     38\n",
       "AYRES                 23\n",
       "Ayres Corporation      7\n",
       "AYRES THRUSH           2\n",
       "AYRES CORP             1\n",
       "Name: count, dtype: int64"
      ]
     },
     "execution_count": 866,
     "metadata": {},
     "output_type": "execute_result"
    }
   ],
   "source": [
    "df[df['Make'].str.lower().str.startswith('ayre')].value_counts('Make')"
   ]
  },
  {
   "cell_type": "code",
   "execution_count": 867,
   "id": "b24a25ea-17da-4750-b694-278256f813f8",
   "metadata": {},
   "outputs": [
    {
     "data": {
      "text/plain": [
       "Aircraft_Category\n",
       "Airplane    194\n",
       "NaN          90\n",
       "Name: count, dtype: int64"
      ]
     },
     "execution_count": 867,
     "metadata": {},
     "output_type": "execute_result"
    }
   ],
   "source": [
    "df.loc[df['Make'].isin(['AYRES CORPORATION', 'AYRES', 'Ayres Corporation', 'AYRES THRUSH', 'AYRES CORP']), 'Make'] = 'Ayres'\n",
    "\n",
    "df[df['Make'] == 'Ayres'].value_counts('Aircraft_Category', dropna=False)"
   ]
  },
  {
   "cell_type": "code",
   "execution_count": 868,
   "id": "f758a7e6-d98f-4926-9139-e310772661bf",
   "metadata": {},
   "outputs": [
    {
     "data": {
      "text/plain": [
       "Make\n",
       "Balloon Works        87\n",
       "Swearingen           86\n",
       "Mitsubishi           84\n",
       "Hiller               81\n",
       "British Aerospace    79\n",
       "Embraer              75\n",
       "Enstrom              74\n",
       "Pitts                73\n",
       "Aerostar             72\n",
       "Unknown              65\n",
       "Name: count, dtype: int64"
      ]
     },
     "execution_count": 868,
     "metadata": {},
     "output_type": "execute_result"
    }
   ],
   "source": [
    "df.loc[df['Make'] == 'Ayres', 'Aircraft_Category'] = 'Airplane'\n",
    "\n",
    "df[df['Aircraft_Category'].isna()]['Make'].value_counts().head(10)"
   ]
  },
  {
   "cell_type": "code",
   "execution_count": 869,
   "id": "a85ca691-4e43-44ef-b331-658fb05b9379",
   "metadata": {},
   "outputs": [
    {
     "data": {
      "text/plain": [
       "Make\n",
       "Balloon Works              135\n",
       "BALLOON WORKS                8\n",
       "Balloon Works Inc            1\n",
       "Balloonbau Woerner Gmbh      1\n",
       "Name: count, dtype: int64"
      ]
     },
     "execution_count": 869,
     "metadata": {},
     "output_type": "execute_result"
    }
   ],
   "source": [
    "df[df['Make'].str.lower().str.startswith('balloo')].value_counts('Make')"
   ]
  },
  {
   "cell_type": "code",
   "execution_count": 870,
   "id": "b6ff17f2-7d97-4084-a8e9-7e689397ccbb",
   "metadata": {},
   "outputs": [
    {
     "data": {
      "text/plain": [
       "Aircraft_Category\n",
       "NaN        87\n",
       "Balloon    57\n",
       "Name: count, dtype: int64"
      ]
     },
     "execution_count": 870,
     "metadata": {},
     "output_type": "execute_result"
    }
   ],
   "source": [
    "df.loc[df['Make'].isin(['BALLOON WORKS', 'Balloon Works Inc']), 'Make'] = 'Balloon Works'\n",
    "\n",
    "df[df['Make'] == 'Balloon Works'].value_counts('Aircraft_Category', dropna=False)"
   ]
  },
  {
   "cell_type": "code",
   "execution_count": 871,
   "id": "dfbb0aa5-e804-4d43-92db-e0640c916bcd",
   "metadata": {},
   "outputs": [
    {
     "data": {
      "text/plain": [
       "Make\n",
       "Swearingen           86\n",
       "Mitsubishi           84\n",
       "Hiller               81\n",
       "British Aerospace    79\n",
       "Embraer              75\n",
       "Enstrom              74\n",
       "Pitts                73\n",
       "Aerostar             72\n",
       "Unknown              65\n",
       "Raven                64\n",
       "Name: count, dtype: int64"
      ]
     },
     "execution_count": 871,
     "metadata": {},
     "output_type": "execute_result"
    }
   ],
   "source": [
    "df.loc[df['Make'] == 'Balloon Works', 'Aircraft_Category'] = 'Balloon'\n",
    "\n",
    "df[df['Aircraft_Category'].isna()]['Make'].value_counts().head(10)"
   ]
  },
  {
   "cell_type": "code",
   "execution_count": 872,
   "id": "0947e3b7-cdfe-4713-ba21-ded2cb4bfff0",
   "metadata": {},
   "outputs": [
    {
     "data": {
      "text/plain": [
       "Make\n",
       "Swearingen                  141\n",
       "SWEARINGEN                   29\n",
       "Swearingen T R/masters W      1\n",
       "Name: count, dtype: int64"
      ]
     },
     "execution_count": 872,
     "metadata": {},
     "output_type": "execute_result"
    }
   ],
   "source": [
    "df[df['Make'].str.lower().str.startswith('swearin')].value_counts('Make')"
   ]
  },
  {
   "cell_type": "code",
   "execution_count": 873,
   "id": "091dc2b6-720a-482e-894f-eaef94c48686",
   "metadata": {},
   "outputs": [
    {
     "data": {
      "text/plain": [
       "Aircraft_Category\n",
       "NaN         88\n",
       "Airplane    83\n",
       "Name: count, dtype: int64"
      ]
     },
     "execution_count": 873,
     "metadata": {},
     "output_type": "execute_result"
    }
   ],
   "source": [
    "df.loc[df['Make'].isin(['SWEARINGEN', 'Swearingen T R/masters W']), 'Make'] = 'Swearingen'\n",
    "\n",
    "df[df['Make'] == 'Swearingen'].value_counts('Aircraft_Category', dropna=False)"
   ]
  },
  {
   "cell_type": "code",
   "execution_count": 874,
   "id": "e1c9bdc7-3709-4cd5-81ab-c2a186f0cad7",
   "metadata": {},
   "outputs": [
    {
     "data": {
      "text/plain": [
       "Make\n",
       "Mitsubishi           84\n",
       "Hiller               81\n",
       "British Aerospace    79\n",
       "Embraer              75\n",
       "Enstrom              74\n",
       "Pitts                73\n",
       "Aerostar             72\n",
       "Unknown              65\n",
       "Learjet              64\n",
       "Raven                64\n",
       "Name: count, dtype: int64"
      ]
     },
     "execution_count": 874,
     "metadata": {},
     "output_type": "execute_result"
    }
   ],
   "source": [
    "df.loc[df['Make'] == 'Swearingen', 'Aircraft_Category'] = 'Airplane'\n",
    "\n",
    "df[df['Aircraft_Category'].isna()]['Make'].value_counts().head(10)"
   ]
  },
  {
   "cell_type": "code",
   "execution_count": 875,
   "id": "215bfaca-6a47-43e0-a663-046ec4857089",
   "metadata": {},
   "outputs": [
    {
     "data": {
      "text/plain": [
       "Make\n",
       "Mitsubishi    126\n",
       "MITSUBISHI     16\n",
       "Name: count, dtype: int64"
      ]
     },
     "execution_count": 875,
     "metadata": {},
     "output_type": "execute_result"
    }
   ],
   "source": [
    "df[df['Make'].str.lower().str.startswith('mitsub')].value_counts('Make')"
   ]
  },
  {
   "cell_type": "code",
   "execution_count": 876,
   "id": "398151d3-2d84-4951-8b40-af57d08b5b6d",
   "metadata": {},
   "outputs": [
    {
     "data": {
      "text/plain": [
       "Aircraft_Category\n",
       "NaN         84\n",
       "Airplane    57\n",
       "Unknown      1\n",
       "Name: count, dtype: int64"
      ]
     },
     "execution_count": 876,
     "metadata": {},
     "output_type": "execute_result"
    }
   ],
   "source": [
    "df.loc[df['Make'].isin(['MITSUBISHI']), 'Make'] = 'Mitsubishi'\n",
    "\n",
    "df[df['Make'] == 'Mitsubishi'].value_counts('Aircraft_Category', dropna=False)"
   ]
  },
  {
   "cell_type": "code",
   "execution_count": 877,
   "id": "d814b25b-9b44-49a9-a9e3-fd4bfa018f23",
   "metadata": {},
   "outputs": [
    {
     "data": {
      "text/plain": [
       "Make\n",
       "Hiller               81\n",
       "British Aerospace    79\n",
       "Embraer              75\n",
       "Enstrom              74\n",
       "Pitts                73\n",
       "Aerostar             72\n",
       "Unknown              65\n",
       "Learjet              64\n",
       "Raven                64\n",
       "Mbb                  62\n",
       "Name: count, dtype: int64"
      ]
     },
     "execution_count": 877,
     "metadata": {},
     "output_type": "execute_result"
    }
   ],
   "source": [
    "df.loc[df['Make'] == 'Mitsubishi', 'Aircraft_Category'] = 'Airplane'\n",
    "\n",
    "df[df['Aircraft_Category'].isna()]['Make'].value_counts().head(10)"
   ]
  },
  {
   "cell_type": "code",
   "execution_count": 878,
   "id": "4302297d-6891-4af1-a6c8-8e3bafe3271d",
   "metadata": {},
   "outputs": [
    {
     "data": {
      "text/plain": [
       "Make\n",
       "Hiller                        311\n",
       "HILLER                         37\n",
       "Hiller-soloy                    9\n",
       "HILLER-ROGERSON HELICOPTER      1\n",
       "HILLER-TRI-PLEX IND.INC.        1\n",
       "Hiller-osborn                   1\n",
       "Hillery W. Grice                1\n",
       "Name: count, dtype: int64"
      ]
     },
     "execution_count": 878,
     "metadata": {},
     "output_type": "execute_result"
    }
   ],
   "source": [
    "df[df['Make'].str.lower().str.startswith('hille')].value_counts('Make')"
   ]
  },
  {
   "cell_type": "code",
   "execution_count": 881,
   "id": "1c2d4ce1-cdad-4379-ba3a-d254f22f728d",
   "metadata": {},
   "outputs": [
    {
     "data": {
      "text/plain": [
       "Aircraft_Category\n",
       "Helicopter           274\n",
       "NaN                   85\n",
       "Powered Parachute      1\n",
       "Name: count, dtype: int64"
      ]
     },
     "execution_count": 881,
     "metadata": {},
     "output_type": "execute_result"
    }
   ],
   "source": [
    "df.loc[df['Make'].isin(['HILLER', 'Hiller-soloy', 'HILLER-ROGERSON HELICOPTER', 'HILLER-TRI-PLEX IND.INC.', 'Hiller-osborn']), 'Make'] = 'Hiller'\n",
    "\n",
    "df[df['Make'] == 'Hiller'].value_counts('Aircraft_Category', dropna=False)"
   ]
  },
  {
   "cell_type": "code",
   "execution_count": 882,
   "id": "6c95c7ea-8c50-4b2e-9c4f-92d1aed25983",
   "metadata": {},
   "outputs": [
    {
     "data": {
      "text/plain": [
       "Make\n",
       "British Aerospace    79\n",
       "Embraer              75\n",
       "Enstrom              74\n",
       "Pitts                73\n",
       "Aerostar             72\n",
       "Unknown              65\n",
       "Learjet              64\n",
       "Raven                64\n",
       "Mbb                  62\n",
       "Waco                 60\n",
       "Name: count, dtype: int64"
      ]
     },
     "execution_count": 882,
     "metadata": {},
     "output_type": "execute_result"
    }
   ],
   "source": [
    "df.loc[df['Make'] == 'Hiller', 'Aircraft_Category'] = 'Airplane'\n",
    "\n",
    "df[df['Aircraft_Category'].isna()]['Make'].value_counts().head(10)"
   ]
  },
  {
   "cell_type": "markdown",
   "id": "bdb05f92-462f-4266-a43e-c54a4607dbb9",
   "metadata": {
    "panel-layout": {
     "height": 60.59375,
     "visible": true,
     "width": 100
    }
   },
   "source": [
    "# Exploratory Data Analysis"
   ]
  },
  {
   "cell_type": "markdown",
   "id": "6f398c81-b0fa-49b8-ba1b-8a5aacfb9d8c",
   "metadata": {
    "panel-layout": {
     "height": 60.59375,
     "visible": true,
     "width": 100
    }
   },
   "source": [
    "# Conclusions"
   ]
  },
  {
   "cell_type": "markdown",
   "id": "5bd4a73d-9c08-443c-8162-e98029d1ebe6",
   "metadata": {
    "panel-layout": {
     "height": 10,
     "visible": true,
     "width": 100
    }
   },
   "source": []
  },
  {
   "cell_type": "markdown",
   "id": "b2e7e33f-c9ab-4b3d-a53f-91633d800480",
   "metadata": {
    "panel-layout": {
     "height": 50.796875,
     "visible": true,
     "width": 100
    }
   },
   "source": [
    "## Limitations"
   ]
  },
  {
   "cell_type": "markdown",
   "id": "c403951d-f4f1-4fac-989e-4175bfe4d8cf",
   "metadata": {
    "panel-layout": {
     "height": 10,
     "visible": true,
     "width": 100
    }
   },
   "source": []
  },
  {
   "cell_type": "markdown",
   "id": "0299e5c9-92e6-4d10-8a4b-644e6e999b83",
   "metadata": {
    "panel-layout": {
     "height": 50.796875,
     "visible": true,
     "width": 100
    }
   },
   "source": [
    "## Recommendations"
   ]
  },
  {
   "cell_type": "markdown",
   "id": "0e7e0756-37be-4435-aa79-e928859520c3",
   "metadata": {
    "panel-layout": {
     "height": 10,
     "visible": true,
     "width": 100
    }
   },
   "source": []
  },
  {
   "cell_type": "markdown",
   "id": "47d7193a-00d4-48a5-abbf-11b260205ec7",
   "metadata": {
    "panel-layout": {
     "height": 50.796875,
     "visible": true,
     "width": 100
    }
   },
   "source": [
    "## Next Steps"
   ]
  },
  {
   "cell_type": "code",
   "execution_count": null,
   "id": "baa17dbc-6135-403d-95cd-1532714ac0be",
   "metadata": {},
   "outputs": [],
   "source": []
  }
 ],
 "metadata": {
  "kernelspec": {
   "display_name": "Python 3 (ipykernel)",
   "language": "python",
   "name": "python3"
  },
  "language_info": {
   "codemirror_mode": {
    "name": "ipython",
    "version": 3
   },
   "file_extension": ".py",
   "mimetype": "text/x-python",
   "name": "python",
   "nbconvert_exporter": "python",
   "pygments_lexer": "ipython3",
   "version": "3.12.7"
  },
  "panel-cell-order": [
   "544715bc-29bf-4a98-979a-fdf04e4ffd7a",
   "4d6ae9b7-2f5a-4e4e-9300-1bc438a94f98",
   "552a1089-504e-45a3-924e-53a4795fbc6d",
   "322e262d-8ebf-43f5-9f19-9d620595506e",
   "5d21adb1-10c9-4e72-921b-f8328205eb6b",
   "819fca67-cd0c-4042-9008-c9bcaa0a1969",
   "bdb05f92-462f-4266-a43e-c54a4607dbb9",
   "1a5470ee-8947-4850-9eaa-a998e616d37c",
   "6f398c81-b0fa-49b8-ba1b-8a5aacfb9d8c",
   "5bd4a73d-9c08-443c-8162-e98029d1ebe6",
   "b2e7e33f-c9ab-4b3d-a53f-91633d800480",
   "c403951d-f4f1-4fac-989e-4175bfe4d8cf",
   "0299e5c9-92e6-4d10-8a4b-644e6e999b83",
   "0e7e0756-37be-4435-aa79-e928859520c3",
   "47d7193a-00d4-48a5-abbf-11b260205ec7"
  ]
 },
 "nbformat": 4,
 "nbformat_minor": 5
}
