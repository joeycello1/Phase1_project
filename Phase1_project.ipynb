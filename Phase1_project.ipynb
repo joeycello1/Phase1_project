{
 "cells": [
  {
   "cell_type": "markdown",
   "id": "544715bc-29bf-4a98-979a-fdf04e4ffd7a",
   "metadata": {
    "panel-layout": {
     "height": 60.59375,
     "visible": true,
     "width": 100
    }
   },
   "source": [
    "# Business Understanding"
   ]
  },
  {
   "cell_type": "markdown",
   "id": "62ef2c2a-6090-4d63-be6e-087680d5ea88",
   "metadata": {},
   "source": [
    "The business is interested in expanding its portfolio by becoming involved in the aviation industry, specifically as an owner/operator of aircraft for short-range corporate transportation that could involve light planes and helicopters.\r\n",
    "\r\n",
    "I have been tasked with helping to determine some of the risks and suggesting which aircraft would be best suited for the company at the beginning stages of their new aviation division.\r\n",
    "\r\n",
    "The stakeholders involved here would include not only the owners of the company, but also the department heads and employees of the aviation division that oversee and operate the aircraft for the company.\r\n",
    "\r\n",
    "The goals for this project include recommending what kind of aircraft would provide the least risk for a commercial enterprise and suggesting certain operating protocols to help mitigate those risks."
   ]
  },
  {
   "cell_type": "markdown",
   "id": "552a1089-504e-45a3-924e-53a4795fbc6d",
   "metadata": {
    "panel-layout": {
     "height": 60.59375,
     "visible": true,
     "width": 100
    }
   },
   "source": [
    "# Data Understanding"
   ]
  },
  {
   "cell_type": "markdown",
   "id": "322e262d-8ebf-43f5-9f19-9d620595506e",
   "metadata": {
    "panel-layout": {
     "height": 366.53125,
     "visible": true,
     "width": 100
    }
   },
   "source": [
    "The dataset being made available for this project is the National Transportation Safety Board aviation accident database as hosted on Kaggle.com at <a href=\"https://www.kaggle.com/datasets/khsamaha/aviation-accident-database-synopses\" target=\"_blank\">this link</a>. This dataset contains information about civil aviation accidents mainly in the US and includes many types of aircraft, from hot air balloons and powered parachutes to helicopters and airplanes. The current dataset contains 87,951 unique \"Event ID\" numbers, each representing an aircraft incident. It currently covers the years mainly from 1982 through 2022, with just a handful of accidents recorded before 1982. The dataset has 31 columns for each accident investigation that includes information like date and location, type of aircraft, make and model, injury severity information and number of injured, aircraft damage level, phase of flight for the accident, weather conditions, and reasons for the accident after the investigation is complete.\n",
    "\n",
    "As the project is centered around risks of aviation, this dataset should prove to be a valuable resource for determining what kinds of risks exist in operating aircraft and making recommendations as far as what type of aircraft would be less of an investment risk. The columns detailing injury levels (Fatal, Serious, Minor, and Uninjured) to passengers and crew illuminate the human risks in aviation. Information related to aircraft damage levels will be valuable in terms of the financial risks.\n",
    "\n",
    "Of concern in working with the dataset will be the lack of values in certain columns, especially the aircraft category and the accident reason columns. The \"Aircraft Category\" column is currently 64% empty, and the \"Report Status\" column (which provides a reason for the accident) is over 70% lacking in useful information. These two columns especially will need some in-depth cleaning and preparation."
   ]
  },
  {
   "cell_type": "markdown",
   "id": "5d21adb1-10c9-4e72-921b-f8328205eb6b",
   "metadata": {
    "panel-layout": {
     "height": 60.59375,
     "visible": true,
     "width": 100
    }
   },
   "source": [
    "# Data Preparation"
   ]
  },
  {
   "cell_type": "markdown",
   "id": "819fca67-cd0c-4042-9008-c9bcaa0a1969",
   "metadata": {
    "panel-layout": {
     "height": 10,
     "visible": true,
     "width": 100
    }
   },
   "source": [
    "## Data Cleaning"
   ]
  },
  {
   "cell_type": "markdown",
   "id": "b67a103b-ebd5-4b46-87f3-b8d7dbbb219d",
   "metadata": {},
   "source": [
    "The dataset is named AviationData.csv and is in the data folder"
   ]
  },
  {
   "cell_type": "code",
   "execution_count": null,
   "id": "8f634d4a-a35b-4264-bd25-9d46e7dd7a0b",
   "metadata": {},
   "outputs": [],
   "source": [
    "import pandas as pd\n",
    "import numpy as np\n",
    "import matplotlib.pyplot as plt\n",
    "import seaborn as sns\n",
    "\n",
    "df = pd.read_csv('data/AviationData.csv', encoding='latin-1')\n",
    "\n",
    "df.head()"
   ]
  },
  {
   "cell_type": "markdown",
   "id": "b7a13ec5-24e2-4783-8fe8-47c9a711e404",
   "metadata": {},
   "source": [
    "rename columns to remove dots as they may cause errors in Python (replace dots with underscores)"
   ]
  },
  {
   "cell_type": "code",
   "execution_count": null,
   "id": "ca8ad7fb-8d22-43a5-8b9c-e041c1ad2cb2",
   "metadata": {},
   "outputs": [],
   "source": [
    "df.columns = df.columns.str.replace('.', '_')\n",
    "\n",
    "df.head()"
   ]
  },
  {
   "cell_type": "code",
   "execution_count": null,
   "id": "d873d098-03f7-4690-8e0a-df561b0f8b58",
   "metadata": {},
   "outputs": [],
   "source": [
    "df.info()"
   ]
  },
  {
   "cell_type": "markdown",
   "id": "75a55e75-d494-4fb6-8a20-8acbef6190e2",
   "metadata": {},
   "source": [
    "### As Event ID provides a unique identifier for each incident, let's check for duplicate rows"
   ]
  },
  {
   "cell_type": "code",
   "execution_count": null,
   "id": "01ddc38f-dae0-4108-be60-022dfb64add6",
   "metadata": {},
   "outputs": [],
   "source": [
    "df[df.duplicated(subset=['Event_Id'], keep=False)]"
   ]
  },
  {
   "cell_type": "markdown",
   "id": "8565146b-9b5b-4b9a-96f5-834fc68ae6e2",
   "metadata": {},
   "source": [
    "I see here that though these duplicate rows do represent separate aircraft in multi-aircraft incidents, the injury and/or fatality numbers are combined. This would constitute duplicate numbers in certain columns that would render errors in the analysis when making use of the injury values.\n",
    "\n",
    "So let's remove the duplicates from this subset."
   ]
  },
  {
   "cell_type": "code",
   "execution_count": null,
   "id": "d95b0a83-9990-4931-8be0-bf063173adc7",
   "metadata": {},
   "outputs": [],
   "source": [
    "df = df.drop_duplicates(subset=['Event_Id'], keep='first')\n",
    "\n",
    "# Double check to make sure duplicates have been removed\n",
    "df[df.duplicated(subset=['Event_Id'], keep=False)]"
   ]
  },
  {
   "cell_type": "code",
   "execution_count": null,
   "id": "6df79c06-ba4a-4f10-abb6-91e4b09157a2",
   "metadata": {},
   "outputs": [],
   "source": [
    "df.info()"
   ]
  },
  {
   "cell_type": "markdown",
   "id": "3dcdb3d6-417e-487a-afe8-4118a56201f9",
   "metadata": {},
   "source": [
    "## Columns that are not needed\n",
    "Remove certain columns that are mostly empty (and can't be filled in) and/or would not contain data useful to the intended analysis.\n",
    "\n",
    "I want to make heavy use of: date, injury, damage, category, phase of flight, and report status\n",
    "Let's remove Latitude, Longitude, Airport_Code, Airport_Name, Registration_Number, FAR_Description, Schedule, Air_carrier, and Publication_Date as those columns are either mostly empty or would not contribute to the analysis."
   ]
  },
  {
   "cell_type": "code",
   "execution_count": null,
   "id": "b68f8931-6129-461b-b63e-d02b4d6fcebf",
   "metadata": {},
   "outputs": [],
   "source": [
    "df = df.drop(['Latitude', 'Longitude', 'Airport_Code', 'Airport_Name', 'Registration_Number', 'FAR_Description', 'Schedule', 'Air_carrier', 'Publication_Date'], axis=1)\n",
    "\n",
    "df.info()"
   ]
  },
  {
   "cell_type": "code",
   "execution_count": null,
   "id": "e8c83a3a-dd0d-4b5f-a512-08b5f2474142",
   "metadata": {},
   "outputs": [],
   "source": [
    "df.head()"
   ]
  },
  {
   "cell_type": "markdown",
   "id": "7a0053be-ad28-457d-8e24-ffce89c696e3",
   "metadata": {},
   "source": [
    "### Incomplete Columns\n",
    "Now, we have 87,951 entries in the dataset. Most of the columns are incomplete though. For the columns that cannot be completed with reasonable values, we can fill some of them in with 'Unknown' instead of leaving them blank (NaN).\n",
    "\n",
    "Empty Location, Country, Aircraft_damage, Make, Model, Amateur_Built, Number_of_Engines, Engine_Type, Purpose_of_flight, Weather_Condition, Broad_phase_of_flight, and Report_Status values can be filled in as 'Unknown'."
   ]
  },
  {
   "cell_type": "code",
   "execution_count": null,
   "id": "c85d99db-d13f-4ea0-bb03-db8c4fdff81a",
   "metadata": {},
   "outputs": [],
   "source": [
    "# Fill in NaN values in multiple columns with \"Unknown\"\n",
    "columns_to_fill = ['Location', 'Country', 'Aircraft_damage', 'Make', 'Model', 'Amateur_Built', 'Number_of_Engines', 'Engine_Type', 'Purpose_of_flight', \n",
    "                   'Weather_Condition', 'Broad_phase_of_flight', 'Report_Status']\n",
    "for column in columns_to_fill:\n",
    "    df[column] = df[column].fillna('Unknown')\n",
    "\n",
    "df.info()"
   ]
  },
  {
   "cell_type": "markdown",
   "id": "432fb43e-5e5b-4b7f-8f7b-be83a21ad885",
   "metadata": {},
   "source": [
    "The 4 injury columns (15 - 18) are incomplete, but they are float64, or integer, values, so we can't fill those empty values with \"Unknown\". The empty values should be changed to 0 to complete those columns."
   ]
  },
  {
   "cell_type": "code",
   "execution_count": null,
   "id": "a9e72eeb-54e2-43d8-afd5-35154977fcbf",
   "metadata": {},
   "outputs": [],
   "source": [
    "# Fill in NaN values in multiple columns with 0\n",
    "injury_columns_to_fill = ['Total_Fatal_Injuries', 'Total_Serious_Injuries', 'Total_Minor_Injuries', 'Total_Uninjured']\n",
    "for column in injury_columns_to_fill:\n",
    "    df[column] = df[column].fillna(0)\n",
    "\n",
    "df.info()"
   ]
  },
  {
   "cell_type": "code",
   "execution_count": null,
   "id": "337b658a-43bf-4a67-80a8-a2f223fa1851",
   "metadata": {},
   "outputs": [],
   "source": [
    "df.head()"
   ]
  },
  {
   "cell_type": "markdown",
   "id": "8c15bd4d-7a15-4552-b315-4c6d11b749bc",
   "metadata": {},
   "source": [
    "Take a look at the Injury_Severity column"
   ]
  },
  {
   "cell_type": "code",
   "execution_count": null,
   "id": "e29235f1-2d69-44f5-8d61-bfb74abd0054",
   "metadata": {},
   "outputs": [],
   "source": [
    "df['Injury_Severity'].value_counts(dropna=False)"
   ]
  },
  {
   "cell_type": "markdown",
   "id": "2f651106-16b7-4f8d-9475-5ecf1852853e",
   "metadata": {},
   "source": [
    "We see here the various values in that column give a number of fatal injuries for each accident. Since this number is already represented in the column for Total_Fatal_Injuries, we don't need this column, so can delete it."
   ]
  },
  {
   "cell_type": "code",
   "execution_count": null,
   "id": "6367a42b-454f-42fe-9239-5af4b8a770ba",
   "metadata": {},
   "outputs": [],
   "source": [
    "# Drop the Injury_Severity column\n",
    "df = df.drop('Injury_Severity', axis=1)\n",
    "\n",
    "df.info()"
   ]
  },
  {
   "cell_type": "markdown",
   "id": "21a078db-256a-4c1c-8a32-68aa631eb9e9",
   "metadata": {},
   "source": [
    "### Aircraft_Category\n",
    "The category of aircraft is important to the analysis, but the column is mostly empty.\n",
    "\n",
    "Many of the empty values can be filled in using the Make column, though."
   ]
  },
  {
   "cell_type": "code",
   "execution_count": null,
   "id": "038566c4-bcf3-4794-94a6-6e910ab6d042",
   "metadata": {},
   "outputs": [],
   "source": [
    "df['Aircraft_Category'].value_counts(dropna=False)"
   ]
  },
  {
   "cell_type": "code",
   "execution_count": null,
   "id": "38e37227-e668-42f4-91d1-3037ebad3345",
   "metadata": {},
   "outputs": [],
   "source": [
    "df['Make'].value_counts(dropna=False)"
   ]
  },
  {
   "cell_type": "markdown",
   "id": "2e58b96f-b269-4c07-883e-d0ea9a27fed4",
   "metadata": {},
   "source": [
    "I see here that there may exist multiple versions of the same makes, like \"Cessna\" and \"CESSNA\". It would be nice to clean this column for multiple versions of make names.\n",
    "\n",
    "We can start with Cessna since it has the most in value_counts and see what other versions of that name are in the dataset."
   ]
  },
  {
   "cell_type": "code",
   "execution_count": null,
   "id": "41e22a04-a85d-4f6e-9972-73b1f550b57b",
   "metadata": {},
   "outputs": [],
   "source": [
    "# Show Make value beginning with ces, ignoring case\n",
    "df[df['Make'].str.lower().str.startswith('ces')].value_counts('Make')"
   ]
  },
  {
   "cell_type": "markdown",
   "id": "e8b43605-bdff-4a15-9010-b95d8448397d",
   "metadata": {},
   "source": [
    "So all these makes can be cleaned by changing the values to \"Cessna\""
   ]
  },
  {
   "cell_type": "code",
   "execution_count": null,
   "id": "33e8a7b6-90f4-48e6-a6dd-10d349c0db77",
   "metadata": {},
   "outputs": [],
   "source": [
    "# Convert all these cessna values to 'Cessna'\n",
    "df.loc[df['Make'].str.lower().str.startswith('ces'), 'Make'] = 'Cessna'\n",
    "\n",
    "df[df['Make'].str.lower().str.startswith('ces')].value_counts('Make')"
   ]
  },
  {
   "cell_type": "markdown",
   "id": "db6a3db9-4223-48bf-925b-409573bae0fd",
   "metadata": {},
   "source": [
    "We now have almost 27000 Cessna makes instead. So we can now look at the category values for these makes."
   ]
  },
  {
   "cell_type": "code",
   "execution_count": null,
   "id": "c02dbf5b-cadb-4dd2-82aa-6913255305c9",
   "metadata": {},
   "outputs": [],
   "source": [
    "# Aircraft_Category values for Cessna in the Make column, include NaN\n",
    "df[df['Make'] == 'Cessna'].value_counts('Aircraft_Category', dropna=False)"
   ]
  },
  {
   "cell_type": "markdown",
   "id": "aa08341b-ae65-4114-930e-cd071ab61905",
   "metadata": {},
   "source": [
    "It looks like it would be safe to replace the empty category values (and 1 unknown) for the Cessna make with \"Airplane\""
   ]
  },
  {
   "cell_type": "code",
   "execution_count": null,
   "id": "64b9f72e-9d19-4e5e-b83a-a7944e7033cd",
   "metadata": {},
   "outputs": [],
   "source": [
    "# Fill in Aircraft_Category as 'Airplane' for Cessna\n",
    "df.loc[df['Make'] == 'Cessna', 'Aircraft_Category'] = 'Airplane'"
   ]
  },
  {
   "cell_type": "code",
   "execution_count": null,
   "id": "cd4555ac-34ce-4bfc-a39a-5ae9de21f7cd",
   "metadata": {},
   "outputs": [],
   "source": [
    "# Let's look at Make value_counts again\n",
    "df['Make'].value_counts(dropna=False)"
   ]
  },
  {
   "cell_type": "raw",
   "id": "e8a29b65-1b2e-4695-943f-a948f487349a",
   "metadata": {},
   "source": [
    "Let's run the same analysis and function for other top make values."
   ]
  },
  {
   "cell_type": "code",
   "execution_count": null,
   "id": "fe5303d7-30b2-4692-8cae-eb8883ce342b",
   "metadata": {},
   "outputs": [],
   "source": [
    "# Show Make value beginning with piper, ignoring case\n",
    "df[df['Make'].str.lower().str.startswith('piper')].value_counts('Make')"
   ]
  },
  {
   "cell_type": "code",
   "execution_count": null,
   "id": "ed69f877-f0f5-4d6a-a831-d86857830e44",
   "metadata": {},
   "outputs": [],
   "source": [
    "# Convert all these piper values to 'Piper' and then take a look at its category values\n",
    "df.loc[df['Make'].str.lower().str.startswith('piper'), 'Make'] = 'Piper'\n",
    "\n",
    "df[df['Make'] == 'Piper'].value_counts('Aircraft_Category', dropna=False)"
   ]
  },
  {
   "cell_type": "code",
   "execution_count": null,
   "id": "7a20cec1-fb64-4efa-91fe-e99e5bf9a0f3",
   "metadata": {},
   "outputs": [],
   "source": [
    "# Fill in the NaN values for the category column for Piper as \"Airplane\"\n",
    "df.loc[df['Make'] == 'Piper', 'Aircraft_Category'] = 'Airplane'"
   ]
  },
  {
   "cell_type": "code",
   "execution_count": null,
   "id": "12f7e621-61b5-41b8-a510-db5226be6cba",
   "metadata": {},
   "outputs": [],
   "source": [
    "# Show Make value beginning with beech, ignoring case\n",
    "df[df['Make'].str.lower().str.startswith('beech')].value_counts('Make')"
   ]
  },
  {
   "cell_type": "markdown",
   "id": "0d06a4a3-fc7f-4dd1-9267-81b5fea4ab13",
   "metadata": {},
   "source": [
    "A quick Google search tells me that Beech and Beechcraft are the same make."
   ]
  },
  {
   "cell_type": "code",
   "execution_count": null,
   "id": "bab05672-9a61-4585-9d82-e71381d92ad8",
   "metadata": {},
   "outputs": [],
   "source": [
    "df.loc[df['Make'].str.lower().str.startswith('beech'), 'Make'] = 'Beech'\n",
    "\n",
    "df[df['Make'] == 'Beech'].value_counts('Aircraft_Category', dropna=False)"
   ]
  },
  {
   "cell_type": "code",
   "execution_count": null,
   "id": "3d413034-6e23-4e10-9161-71839e91e24c",
   "metadata": {},
   "outputs": [],
   "source": [
    "df.loc[df['Make'] == 'Beech', 'Aircraft_Category'] = 'Airplane'"
   ]
  },
  {
   "cell_type": "code",
   "execution_count": null,
   "id": "85dfff0f-7307-4c7d-b4f1-1aaf0a76072c",
   "metadata": {},
   "outputs": [],
   "source": [
    "df[df['Make'].str.lower().str.startswith('bell')].value_counts('Make')"
   ]
  },
  {
   "cell_type": "code",
   "execution_count": null,
   "id": "44361d37-1691-4da2-b941-0767915e57e0",
   "metadata": {},
   "outputs": [],
   "source": [
    "# Bellanca and Bell are not the same make, so will take a little more work to clean all the various bell combinations.\n",
    "# change the various interations of bell to Bell\n",
    "df.loc[df['Make'].str.lower().str.startswith(('bell-', 'bell/', 'bell h', 'bell t', 'bell s', 'bell b', 'bell 4'), na=False), 'Make'] = 'Bell'\n",
    "\n",
    "# make Bell and BELL the same\n",
    "df.loc[(df['Make'] == 'BELL'), 'Make'] = 'Bell'\n",
    "\n",
    "# address the various versions of Bellanca\n",
    "df.loc[df['Make'].str.lower().str.startswith(('bellan'), na=False), 'Make'] = 'Bellanca'\n",
    "\n",
    "# check the list again\n",
    "df[df['Make'].str.lower().str.startswith('bell')].value_counts('Make')"
   ]
  },
  {
   "cell_type": "code",
   "execution_count": null,
   "id": "c9763a52-2998-41e4-be1a-1b5523c5f44d",
   "metadata": {},
   "outputs": [],
   "source": [
    "# Now we can look at the categories for Bell and Bellanca\n",
    "df[df['Make'] == 'Bell'].value_counts('Aircraft_Category', dropna=False)"
   ]
  },
  {
   "cell_type": "code",
   "execution_count": null,
   "id": "4ce177c6-96e8-4586-9e67-94f4153b237f",
   "metadata": {},
   "outputs": [],
   "source": [
    "# Bell can safely be changed to Helicopter for its category\n",
    "df.loc[df['Make'] == 'Bell', 'Aircraft_Category'] = 'Helicopter'\n",
    "\n",
    "df[df['Make'] == 'Bell'].value_counts('Aircraft_Category', dropna=False)"
   ]
  },
  {
   "cell_type": "code",
   "execution_count": null,
   "id": "b69bfb5c-3b93-4a15-a54f-da7c2d9b521b",
   "metadata": {},
   "outputs": [],
   "source": [
    "df[df['Make'] == 'Bellanca'].value_counts('Aircraft_Category', dropna=False)"
   ]
  },
  {
   "cell_type": "code",
   "execution_count": null,
   "id": "42e7a45a-20b2-48a5-b7c0-a6e52b4725e3",
   "metadata": {},
   "outputs": [],
   "source": [
    "df.loc[df['Make'] == 'Bellanca', 'Aircraft_Category'] = 'Airplane'"
   ]
  },
  {
   "cell_type": "code",
   "execution_count": null,
   "id": "cf1da8f6-3556-4516-a108-5255009db21b",
   "metadata": {},
   "outputs": [],
   "source": [
    "# Let's look at Make value_counts again\n",
    "df['Make'].value_counts(dropna=False)"
   ]
  },
  {
   "cell_type": "code",
   "execution_count": null,
   "id": "7972b437-84ab-4d7d-af3f-75fee1fc3ac6",
   "metadata": {},
   "outputs": [],
   "source": [
    "# clean the boeing make\n",
    "df[df['Make'].str.lower().str.startswith('boei')].value_counts('Make')"
   ]
  },
  {
   "cell_type": "code",
   "execution_count": null,
   "id": "304630ba-e20c-4a3f-95a9-403e35e174ce",
   "metadata": {},
   "outputs": [],
   "source": [
    "# change the various iterations of boeing to Boeing\n",
    "df.loc[df['Make'].str.lower().str.startswith('boeing'), 'Make'] = 'Boeing'\n",
    "\n",
    "df[df['Make'] == 'Boeing'].value_counts('Aircraft_Category', dropna=False)"
   ]
  },
  {
   "cell_type": "code",
   "execution_count": null,
   "id": "1c3e137a-769d-4386-824f-f6f5db70a8c9",
   "metadata": {},
   "outputs": [],
   "source": [
    "# Boeing can safely be assigned to the Airplane category\n",
    "df.loc[df['Make'] == 'Boeing', 'Aircraft_Category'] = 'Airplane'"
   ]
  },
  {
   "cell_type": "code",
   "execution_count": null,
   "id": "770451c4-c492-4648-984f-f42ff65d40f6",
   "metadata": {},
   "outputs": [],
   "source": [
    "# Let's look at the top 50 Make value counts and see if there are any that can be cleaned up\n",
    "df['Make'].value_counts().head(60)"
   ]
  },
  {
   "cell_type": "code",
   "execution_count": null,
   "id": "7a5d99ab-6410-4f8e-96e4-4a04abc91df3",
   "metadata": {},
   "outputs": [],
   "source": [
    "# change the various iterations of aeronca to Aeronca\n",
    "df.loc[df['Make'].str.lower().str.startswith('aeronca'), 'Make'] = 'Aeronca'\n",
    "\n",
    "df[df['Make'] == 'Aeronca'].value_counts('Aircraft_Category', dropna=False)"
   ]
  },
  {
   "cell_type": "code",
   "execution_count": null,
   "id": "fee0e42a-221a-4cc5-829c-90fd8f54a957",
   "metadata": {},
   "outputs": [],
   "source": [
    "# Aeronca is airplane\n",
    "df.loc[df['Make'] == 'Aeronca', 'Aircraft_Category'] = 'Airplane'"
   ]
  },
  {
   "cell_type": "code",
   "execution_count": null,
   "id": "fea032da-8e18-4622-8bf0-f4b5ae743dbd",
   "metadata": {},
   "outputs": [],
   "source": [
    "# change the various iterations of Air Tractor and check its category values\n",
    "df.loc[df['Make'].str.lower().str.startswith('air tractor'), 'Make'] = 'Air Tractor'\n",
    "\n",
    "df[df['Make'] == 'Air Tractor'].value_counts('Aircraft_Category', dropna=False)"
   ]
  },
  {
   "cell_type": "code",
   "execution_count": null,
   "id": "6da0d8d3-68b6-4141-955a-6feb0121084d",
   "metadata": {},
   "outputs": [],
   "source": [
    "# Air Tractor is Airplane\n",
    "df.loc[df['Make'] == 'Air Tractor', 'Aircraft_Category'] = 'Airplane'"
   ]
  },
  {
   "cell_type": "code",
   "execution_count": null,
   "id": "6d6a778e-b515-4e1e-9aa4-bc09b0bbd53d",
   "metadata": {},
   "outputs": [],
   "source": [
    "# look at airbus\n",
    "df[df['Make'].str.lower().str.startswith('airbus')].value_counts('Make')"
   ]
  },
  {
   "cell_type": "code",
   "execution_count": null,
   "id": "efebb7e3-eb4b-40fb-9021-69bb85c83124",
   "metadata": {},
   "outputs": [],
   "source": [
    "df[df['Make'].str.lower().str.startswith('airbus')].value_counts('Aircraft_Category', dropna=False)"
   ]
  },
  {
   "cell_type": "markdown",
   "id": "1bbc63a6-2d17-45ce-a1e0-95de79272ced",
   "metadata": {},
   "source": [
    "I see here that the various versions of Airbus have both airplanes and helicopters in the make and category columns, so before replacing make names and then filling in empty category values, I need to check the categories for some of the make iterations that may not be clear."
   ]
  },
  {
   "cell_type": "code",
   "execution_count": null,
   "id": "ef40e5f2-686b-49ec-8d74-80a46b6ee44e",
   "metadata": {},
   "outputs": [],
   "source": [
    "# check out Airbus Industrie iterations\n",
    "df[df['Make'].str.lower().str.startswith('airbus i')].value_counts('Aircraft_Category', dropna=False)"
   ]
  },
  {
   "cell_type": "markdown",
   "id": "0f1ad9ae-e08c-4c2c-9d5d-02e10cfa02ff",
   "metadata": {},
   "source": [
    "So, Airbus Industrie, AIRBUS INDUSTRIE, and Airbus Industries can be combined and categorized as airplane"
   ]
  },
  {
   "cell_type": "code",
   "execution_count": null,
   "id": "f78c3582-03d9-430e-85e7-a860e2248fbe",
   "metadata": {},
   "outputs": [],
   "source": [
    "df.loc[df['Make'].isin(['AIRBUS INDUSTRIE', 'Airbus Industries']), 'Make'] = 'Airbus Industrie'\n",
    "\n",
    "df.loc[df['Make'] == 'Airbus Industrie', 'Aircraft_Category'] = 'Airplane'\n",
    "\n",
    "df[df['Make'].str.lower().str.startswith('airbus')].value_counts('Make')"
   ]
  },
  {
   "cell_type": "code",
   "execution_count": null,
   "id": "72606c48-a49b-4b92-83a0-58dfe0733ab6",
   "metadata": {},
   "outputs": [],
   "source": [
    "# clean up Airbus Helicopters\n",
    "df.loc[df['Make'].isin(['AIRBUS HELICOPTERS', 'AIRBUS Helicopters', 'AIRBUS HELICOPTERS INC', 'AIRBUS HELICOPTER', 'AIRBUS/EUROCOPTER', 'Airbus Helicopters (Eurocopte', 'Airbus Helicopters Deutschland']), 'Make'] = 'Airbus Helicopters'\n",
    "\n",
    "df.loc[df['Make'] == 'Airbus Helicopters', 'Aircraft_Category'] = 'Helicopter'\n",
    "\n",
    "df[df['Make'].str.lower().str.startswith('airbus')].value_counts('Make')"
   ]
  },
  {
   "cell_type": "code",
   "execution_count": null,
   "id": "67476d1d-9e8f-4b8c-9744-a22e1eec2b7b",
   "metadata": {},
   "outputs": [],
   "source": [
    "# combine the Airbus iterations\n",
    "df.loc[(df['Make'] == 'AIRBUS'), 'Make'] = 'Airbus'\n",
    "\n",
    "df[df['Make'] == 'Airbus'].value_counts('Aircraft_Category', dropna=False)"
   ]
  },
  {
   "cell_type": "markdown",
   "id": "bee9c413-0b8e-4594-ac8f-7a70166ea458",
   "metadata": {},
   "source": [
    "Since only 20 of the almost 300 records for Airbus are helicopters, we can safely make the NaN values Airplane"
   ]
  },
  {
   "cell_type": "code",
   "execution_count": null,
   "id": "0d35a022-0cf2-46ba-9f4e-c48be5bd4114",
   "metadata": {},
   "outputs": [],
   "source": [
    "df.loc[(df['Make'] == 'Airbus') & (df['Aircraft_Category'].isna()), 'Aircraft_Category'] = 'Airplane'\n",
    "\n",
    "df[df['Make'].str.lower().str.startswith('airbus')].value_counts('Make')"
   ]
  },
  {
   "cell_type": "code",
   "execution_count": null,
   "id": "0d3a0073-3903-4dcc-a1cb-9798e0949c7d",
   "metadata": {},
   "outputs": [],
   "source": [
    "df['Aircraft_Category'].value_counts(dropna=False)"
   ]
  },
  {
   "cell_type": "markdown",
   "id": "7596d106-2438-4080-9820-0e20c714e013",
   "metadata": {},
   "source": [
    "So from having over 56,000 empty values in the category column, we are down to 18,695 empty values. I'd like to bring this down even further by looking at the empty category values as compared with the Make column to see which makes have the most empty values for category."
   ]
  },
  {
   "cell_type": "code",
   "execution_count": null,
   "id": "fba39323-9014-4692-9c0d-9dc7460f0f0d",
   "metadata": {},
   "outputs": [],
   "source": [
    "df[df['Aircraft_Category'].isna()]['Make'].value_counts()"
   ]
  },
  {
   "cell_type": "markdown",
   "id": "7a728e92-9010-4267-95e8-a8d8c931bd87",
   "metadata": {},
   "source": [
    "Let's look at the category values for these makes that have the most empty category values"
   ]
  },
  {
   "cell_type": "code",
   "execution_count": null,
   "id": "71ccb39a-d1b4-4a73-9f11-6f9289262d11",
   "metadata": {},
   "outputs": [],
   "source": [
    "# Grumman\n",
    "df[df['Make'] == 'Grumman'].value_counts('Aircraft_Category', dropna=False)"
   ]
  },
  {
   "cell_type": "markdown",
   "id": "68074e9e-7055-4ec0-91a6-98c9110395bd",
   "metadata": {},
   "source": [
    "So Grumman is Airplane"
   ]
  },
  {
   "cell_type": "code",
   "execution_count": null,
   "id": "231bbb13-e796-43e5-84da-b8e86980ef8f",
   "metadata": {},
   "outputs": [],
   "source": [
    "# check to see if there are any other versions of 'Grumman' in the make column\n",
    "df[df['Make'].str.lower().str.startswith('grumm')].value_counts('Make')"
   ]
  },
  {
   "cell_type": "code",
   "execution_count": null,
   "id": "d1531dfd-f67e-403f-89b3-253c159a85f8",
   "metadata": {},
   "outputs": [],
   "source": [
    "# What are the category values for all these different versions of Grumman\n",
    "df[df['Make'].str.lower().str.startswith('grumm')].value_counts('Aircraft_Category', dropna=False)"
   ]
  },
  {
   "cell_type": "code",
   "execution_count": null,
   "id": "65c57bc6-f3e0-4304-a023-a92f13df174d",
   "metadata": {},
   "outputs": [],
   "source": [
    "# So let's combine all these Grumman makes together and make their category Airplane\n",
    "df.loc[df['Make'].str.lower().str.startswith('grumm'), 'Make'] = 'Grumman'\n",
    "\n",
    "df.loc[df['Make'] == 'Grumman', 'Aircraft_Category'] = 'Airplane'\n",
    "\n",
    "df[df['Make'].str.lower().str.startswith('grumm')].value_counts('Make')"
   ]
  },
  {
   "cell_type": "code",
   "execution_count": null,
   "id": "890f96a5-0a8a-4f2c-8d9a-a9a19b3bf42e",
   "metadata": {},
   "outputs": [],
   "source": [
    "# Mooney\n",
    "df[df['Make'] == 'Mooney'].value_counts('Aircraft_Category', dropna=False)"
   ]
  },
  {
   "cell_type": "code",
   "execution_count": null,
   "id": "d18c8737-4080-43e9-8502-534aede904a4",
   "metadata": {},
   "outputs": [],
   "source": [
    "# check to see if there are any other versions of 'Mooney' in the make column\n",
    "df[df['Make'].str.lower().str.startswith('moon')].value_counts('Make')"
   ]
  },
  {
   "cell_type": "code",
   "execution_count": null,
   "id": "45432977-08bd-40ef-ab83-8b8ad78da86b",
   "metadata": {},
   "outputs": [],
   "source": [
    "# What are the category values for all these different versions of Mooney\n",
    "df[df['Make'].str.lower().str.startswith('moon')].value_counts('Aircraft_Category', dropna=False)"
   ]
  },
  {
   "cell_type": "code",
   "execution_count": null,
   "id": "520b9ff3-e747-4d57-b969-9632a89ea38b",
   "metadata": {},
   "outputs": [],
   "source": [
    "# Combine all these Mooney makes together and make their category Airplane\n",
    "df.loc[df['Make'].str.lower().str.startswith('mooney'), 'Make'] = 'Mooney'\n",
    "\n",
    "df.loc[df['Make'] == 'Mooney', 'Aircraft_Category'] = 'Airplane'\n",
    "\n",
    "df[df['Make'].str.lower().str.startswith('moon')].value_counts('Make')"
   ]
  },
  {
   "cell_type": "code",
   "execution_count": null,
   "id": "85013cf9-016b-4389-9579-7c3519de68b2",
   "metadata": {},
   "outputs": [],
   "source": [
    "# Hughes\n",
    "df[df['Make'] == 'Hughes'].value_counts('Aircraft_Category', dropna=False)"
   ]
  },
  {
   "cell_type": "markdown",
   "id": "faed2eeb-0d8f-4ca5-9598-66e16c820e7e",
   "metadata": {},
   "source": [
    "Hughes would be all helicopters"
   ]
  },
  {
   "cell_type": "code",
   "execution_count": null,
   "id": "20841616-5a7a-4d44-a600-0ee1411a405e",
   "metadata": {},
   "outputs": [],
   "source": [
    "# check to see if there are any other versions of 'Hughes' in the make column\n",
    "df[df['Make'].str.lower().str.startswith('hughes')].value_counts('Make')"
   ]
  },
  {
   "cell_type": "code",
   "execution_count": null,
   "id": "a7b909eb-173b-4189-892a-c0d1952cf12e",
   "metadata": {},
   "outputs": [],
   "source": [
    "df[df['Make'].str.lower().str.startswith('hughes')].value_counts('Aircraft_Category', dropna=False)"
   ]
  },
  {
   "cell_type": "markdown",
   "id": "dad59d3f-5a55-4047-9f51-87880d50b108",
   "metadata": {},
   "source": [
    "Now here we have a few airplanes and parachutes in addition to all the helicopters in our list of Hughes interations. This may be due to some people named Hughes in the list that are not associated with the helicopter company. We can narrow the list down to find just the helicopter Hughes."
   ]
  },
  {
   "cell_type": "code",
   "execution_count": null,
   "id": "8142f18e-2198-43db-9a6e-95600719835d",
   "metadata": {},
   "outputs": [],
   "source": [
    "df[df['Make'].isin(['Hughes', 'HUGHES', 'HUGHES HELICOPTERS INC', 'HUGHES/HELICOPTER ASSOCS INC'])].value_counts('Aircraft_Category', dropna=False)"
   ]
  },
  {
   "cell_type": "code",
   "execution_count": null,
   "id": "4b8c07d1-a8e6-4f83-b2b8-3ee5e8eea89b",
   "metadata": {},
   "outputs": [],
   "source": [
    "# So these 4 can be combined and made Helicopter in the category field\n",
    "df.loc[df['Make'].isin(['Hughes', 'HUGHES', 'HUGHES HELICOPTERS INC', 'HUGHES/HELICOPTER ASSOCS INC']), 'Make'] = 'Hughes Helicopters'\n",
    "\n",
    "df.loc[df['Make'] == 'Hughes Helicopters', 'Aircraft_Category'] = 'Helicopter'\n",
    "\n",
    "df[df['Make'] == 'Hughes Helicopters'].value_counts('Aircraft_Category', dropna=False)"
   ]
  },
  {
   "cell_type": "code",
   "execution_count": null,
   "id": "ec7927cd-a3c1-43bc-80ae-20caec4b3299",
   "metadata": {},
   "outputs": [],
   "source": [
    "# Robinson\n",
    "df[df['Make'].str.lower().str.startswith('robins')].value_counts('Make')"
   ]
  },
  {
   "cell_type": "code",
   "execution_count": null,
   "id": "0f883831-30ed-438e-bb12-36024ff78b89",
   "metadata": {},
   "outputs": [],
   "source": [
    "df[df['Make'].str.lower().str.startswith('robins')].value_counts('Aircraft_Category', dropna=False)"
   ]
  },
  {
   "cell_type": "code",
   "execution_count": null,
   "id": "2f87d31c-ed66-4d08-b2c7-5f49647ff279",
   "metadata": {},
   "outputs": [],
   "source": [
    "# combine all the Robinson Helicopter iterations and make them Helicopter\n",
    "df.loc[df['Make'].isin(['ROBINSON', 'ROBINSON HELICOPTER', 'ROBINSON HELICOPTER COMPANY', 'ROBINSON HELICOPTER CO', 'Robinson Helicopter Company', 'Robinson Helicopter', 'ROBINSON HELICOPTER CO INC', 'Robinson Helicopter Co.', 'Robinson Helicopters']), 'Make'] = 'Robinson'\n",
    "\n",
    "df.loc[df['Make'] == 'Robinson', 'Aircraft_Category'] = 'Helicopter'\n",
    "\n",
    "df[df['Make'].str.lower().str.startswith('robins')].value_counts('Aircraft_Category', dropna=False)"
   ]
  },
  {
   "cell_type": "code",
   "execution_count": null,
   "id": "2852bdc2-4ad0-4a2b-85ff-7ef2cb5b7a2c",
   "metadata": {},
   "outputs": [],
   "source": [
    "# Schweizer\n",
    "df[df['Make'].str.lower().str.startswith('schweiz')].value_counts('Make')"
   ]
  },
  {
   "cell_type": "code",
   "execution_count": null,
   "id": "838a75e8-3944-42e2-a04d-bbfff895f3af",
   "metadata": {},
   "outputs": [],
   "source": [
    "df[df['Make'].str.lower().str.startswith('schweiz')].value_counts('Aircraft_Category', dropna=False)"
   ]
  },
  {
   "cell_type": "markdown",
   "id": "d9239804-f326-4340-9583-522f0c746060",
   "metadata": {},
   "source": [
    "A more healthy mixture here requires some investigation"
   ]
  },
  {
   "cell_type": "code",
   "execution_count": null,
   "id": "f4920d96-1fcb-443c-90d1-9cc5fafd933e",
   "metadata": {},
   "outputs": [],
   "source": [
    "df[df['Make'].isin(['SCHWEIZER', 'Schweizer'])].value_counts('Aircraft_Category', dropna=False)"
   ]
  },
  {
   "cell_type": "markdown",
   "id": "f415f57d-548b-42f8-8234-6169a56c76a3",
   "metadata": {},
   "source": [
    "A quick google search informs me that Schweizer Aircraft made helicopters, gliders, and airplanes, so filling in the category column for Schweizer cannot be accomplished just by using the make column. As the empty values only amount to almost 550, I'm going to leave Schweizer alone for now, except for combining the makes together so that I would be able to more easily dig into it using the model column as well."
   ]
  },
  {
   "cell_type": "code",
   "execution_count": null,
   "id": "d0e6104a-1e4b-45be-9b2e-2349e9b760d1",
   "metadata": {},
   "outputs": [],
   "source": [
    "df.loc[df['Make'].isin(['SCHWEIZER', 'SCHWEIZER AIRCRAFT CORP', 'Schweizer Aircraft Corp', 'Schweizer Aircraft Corp.', 'Schweizer 300CBi', 'Schweizer Sgs']), 'Make'] = 'Schweizer'\n",
    "\n",
    "df[df['Make'].str.lower().str.startswith('schweiz')].value_counts('Make')"
   ]
  },
  {
   "cell_type": "markdown",
   "id": "3a3ab426-0239-469b-a136-13bf6c938f8c",
   "metadata": {},
   "source": [
    "Now how are the empty category counts looking?"
   ]
  },
  {
   "cell_type": "code",
   "execution_count": null,
   "id": "580da1cc-865e-4e14-8e6d-cdf4b4186804",
   "metadata": {},
   "outputs": [],
   "source": [
    "df[df['Aircraft_Category'].isna()]['Make'].value_counts()"
   ]
  },
  {
   "cell_type": "code",
   "execution_count": null,
   "id": "70b13366-9a22-48ba-9590-cd31b08bbded",
   "metadata": {},
   "outputs": [],
   "source": [
    "# Let's look at the Scheizer models\n",
    "df[df['Make'].isin(['Schweizer'])].value_counts('Model', dropna=False)"
   ]
  },
  {
   "cell_type": "markdown",
   "id": "9168cea9-3c95-4311-9682-a51e0b9e3ca9",
   "metadata": {},
   "source": [
    "Wikepedia and Google informs me that the Schweizer 269C is a helicopter, G-164B is an airplane, SGS 2-33A is a glider, 269C-1 is a helicopter, and G-164A is an airplane. Let's see if that data could e used to fill some of the Schweizer category values."
   ]
  },
  {
   "cell_type": "code",
   "execution_count": null,
   "id": "c0901738-25cb-4b3e-8936-59c8f81dfa16",
   "metadata": {},
   "outputs": [],
   "source": [
    "df[df['Model'].isin(['269C'])].value_counts('Aircraft_Category', dropna=False)"
   ]
  },
  {
   "cell_type": "code",
   "execution_count": null,
   "id": "84a74536-0369-4bf5-80dd-cfb4e52fedaf",
   "metadata": {},
   "outputs": [],
   "source": [
    "# Since the 269C model is a helicopter, let's fix all the empty category values for it. This fix will also fill in some category \n",
    "# values for other makes as well since we can see that there are more 269C models than just the Schweizer make.\n",
    "df.loc[df['Model'] == '269C', 'Aircraft_Category'] = 'Helicopter'"
   ]
  },
  {
   "cell_type": "code",
   "execution_count": null,
   "id": "1585bd6e-8ff1-492e-9d3c-6abd073daa02",
   "metadata": {},
   "outputs": [],
   "source": [
    "# The same goes for the rest of the models listed\n",
    "df[df['Model'].isin(['G-164B', 'G-164A'])].value_counts('Aircraft_Category', dropna=False)"
   ]
  },
  {
   "cell_type": "code",
   "execution_count": null,
   "id": "062589a0-e200-4caa-852d-ba65c098c62d",
   "metadata": {},
   "outputs": [],
   "source": [
    "df.loc[df['Model'].isin(['G-164B', 'G-164A']), 'Aircraft_Category'] = 'Airplane'"
   ]
  },
  {
   "cell_type": "code",
   "execution_count": null,
   "id": "1b4cbdf2-6430-465b-a7aa-f4949d51217a",
   "metadata": {},
   "outputs": [],
   "source": [
    "df[df['Model'].isin(['SGS 2-33A'])].value_counts('Aircraft_Category', dropna=False)"
   ]
  },
  {
   "cell_type": "code",
   "execution_count": null,
   "id": "1eef8c20-2fe8-47ae-9728-da32995feaed",
   "metadata": {},
   "outputs": [],
   "source": [
    "df.loc[df['Model'] == 'SGS 2-33A', 'Aircraft_Category'] = 'Glider'"
   ]
  },
  {
   "cell_type": "code",
   "execution_count": null,
   "id": "1ebf4280-acc4-4731-b81b-7e411588cfe5",
   "metadata": {},
   "outputs": [],
   "source": [
    "# Let's look at how the category column is shaping up\n",
    "df['Aircraft_Category'].value_counts(dropna=False)"
   ]
  },
  {
   "cell_type": "markdown",
   "id": "d2713470-7b18-4829-98f1-1f60a2200887",
   "metadata": {},
   "source": [
    "We still have about 15,000 empty category records. This can be brought down further using Makes and Models. The category values as we have them now show that airplanes are the overwhelmingly largest percentage of aircraft in the dataset of accidents. But after helicopters, the rest of the categories are tiny by comparison, and they constitute aircraft that would not ordinarily be under consideration for a business interested in getting into the aviation business. I'm not going to just drop those rows right now, but in the analysis phase, I don't anticipate using them."
   ]
  },
  {
   "cell_type": "code",
   "execution_count": null,
   "id": "5353548a-f30a-4806-8c4a-bc9813979f4d",
   "metadata": {},
   "outputs": [],
   "source": [
    "df[df['Aircraft_Category'].isna()]['Model'].value_counts()"
   ]
  },
  {
   "cell_type": "code",
   "execution_count": null,
   "id": "7c35db8d-98a9-46fe-aaca-5b7f2ae500bc",
   "metadata": {},
   "outputs": [],
   "source": [
    "# Let's do the Mcdonnell Douglas make, and see about using the models in conjunction\n",
    "df[df['Make'].str.lower().str.startswith('mcdonn')].value_counts('Make')"
   ]
  },
  {
   "cell_type": "code",
   "execution_count": null,
   "id": "7eb119c6-ea33-4aa1-ba3c-6d728a158960",
   "metadata": {},
   "outputs": [],
   "source": [
    "df[df['Make'].isin(['MCDONNELL DOUGLAS HELICOPTER', 'MCDONNELL DOUGLAS HELI CO'])].value_counts('Aircraft_Category', dropna=False)"
   ]
  },
  {
   "cell_type": "code",
   "execution_count": null,
   "id": "35b9bf19-68ed-4a16-945b-5e0319710027",
   "metadata": {},
   "outputs": [],
   "source": [
    "# Combine the helicopter variations of the name\n",
    "df.loc[df['Make'].isin(['MCDONNELL DOUGLAS HELICOPTER', 'MCDONNELL DOUGLAS HELI CO', 'McDonnell Douglas Helicopter', 'McDonnell Douglas Helicopter C', 'McDonnell Douglas Helicopters', 'Mcdonnell Douglas Helicopter', 'Mcdonnell Douglas Helicopters']), 'Make'] = 'Mcdonnell Douglas Helicopters'\n",
    "\n",
    "df[df['Make'].isin(['Mcdonnell Douglas Helicopters'])].value_counts('Aircraft_Category', dropna=False)"
   ]
  },
  {
   "cell_type": "code",
   "execution_count": null,
   "id": "37df11d6-3c5f-4406-adec-7c1f1230f1f4",
   "metadata": {},
   "outputs": [],
   "source": [
    "df[df['Make'].str.lower().str.startswith('mcdonn')].value_counts('Make')"
   ]
  },
  {
   "cell_type": "code",
   "execution_count": null,
   "id": "bccfed79-fb91-4511-841c-9d1af37db19a",
   "metadata": {},
   "outputs": [],
   "source": [
    "df.loc[df['Make'].isin(['MCDONNELL DOUGLAS', 'MCDONNELL DOUGLAS AIRCRAFT CO', 'McDonnell Douglas', 'Mcdonnell-douglas', 'MCDONNELL DOUGLAS CORPORATION', 'MCDONNELL-DOUGLAS']), 'Make'] = 'Mcdonnell Douglas'\n",
    "\n",
    "df[df['Make'].isin(['Mcdonnell Douglas'])].value_counts('Aircraft_Category', dropna=False)"
   ]
  },
  {
   "cell_type": "code",
   "execution_count": null,
   "id": "d6c43b78-a82f-4108-ac74-c1818ed38ba6",
   "metadata": {},
   "outputs": [],
   "source": [
    "# make the 18 Helicopters the Mcdonnell Douglas Helicopters Make\n",
    "df.loc[(df['Make'] == 'Mcdonnell Douglas') & (df['Aircraft_Category'] == 'Helicopter'), 'Make'] = 'Mcdonnell Douglas Helicopters'\n",
    "\n",
    "df[df['Make'].isin(['Mcdonnell Douglas'])].value_counts('Aircraft_Category', dropna=False)"
   ]
  },
  {
   "cell_type": "code",
   "execution_count": null,
   "id": "cba976bf-0fdd-4b27-9485-b3d449be47cc",
   "metadata": {},
   "outputs": [],
   "source": [
    "df.loc[(df['Make'] == 'Mcdonnell Douglas'), 'Aircraft_Category'] = 'Airplane'\n",
    "\n",
    "df[df['Make'].str.lower().str.startswith('mcdonn')].value_counts('Make')"
   ]
  },
  {
   "cell_type": "code",
   "execution_count": null,
   "id": "0fa28e82-55aa-4bbd-8039-21ea18fd45f2",
   "metadata": {},
   "outputs": [],
   "source": [
    "df[df['Aircraft_Category'].isna()]['Make'].value_counts()"
   ]
  },
  {
   "cell_type": "code",
   "execution_count": null,
   "id": "e35d03e8-8b92-4c6c-9d94-21fd7a68d132",
   "metadata": {},
   "outputs": [],
   "source": [
    "# The Maule make\n",
    "df[df['Make'].str.lower().str.startswith('maul')].value_counts('Make')"
   ]
  },
  {
   "cell_type": "code",
   "execution_count": null,
   "id": "c8822a2b-30a4-4ce7-b101-dff2f78b06b7",
   "metadata": {},
   "outputs": [],
   "source": [
    "df.loc[df['Make'].isin(['MAULE', 'MAULE AIRCRAFT CORP', 'Maule Air Inc.']), 'Make'] = 'Maule'\n",
    "\n",
    "df[df['Make'].isin(['Maule'])].value_counts('Aircraft_Category', dropna=False)"
   ]
  },
  {
   "cell_type": "code",
   "execution_count": null,
   "id": "5bff7729-9f6c-4221-8e17-28c3feb71de1",
   "metadata": {},
   "outputs": [],
   "source": [
    "df.loc[(df['Make'] == 'Maule'), 'Aircraft_Category'] = 'Airplane'\n",
    "\n",
    "df[df['Aircraft_Category'].isna()]['Make'].value_counts()"
   ]
  },
  {
   "cell_type": "code",
   "execution_count": null,
   "id": "9a92541d-78e9-48c2-ad79-b6a16570869a",
   "metadata": {},
   "outputs": [],
   "source": [
    "# The Champion make\n",
    "df[df['Make'].str.lower().str.startswith('champ')].value_counts('Make')"
   ]
  },
  {
   "cell_type": "code",
   "execution_count": null,
   "id": "44664cb7-24c0-407f-8f76-3cfe55699edb",
   "metadata": {},
   "outputs": [],
   "source": [
    "df.loc[df['Make'].isin(['CHAMPION']), 'Make'] = 'Champion'\n",
    "\n",
    "df[df['Make'].isin(['Champion'])].value_counts('Aircraft_Category', dropna=False)"
   ]
  },
  {
   "cell_type": "code",
   "execution_count": null,
   "id": "cbb74316-398e-4a68-9512-d09192da072b",
   "metadata": {},
   "outputs": [],
   "source": [
    "df.loc[(df['Make'] == 'Champion'), 'Aircraft_Category'] = 'Airplane'\n",
    "\n",
    "df[df['Aircraft_Category'].isna()]['Make'].value_counts()"
   ]
  },
  {
   "cell_type": "code",
   "execution_count": null,
   "id": "03897de4-82c9-4564-a461-2e5760176dfb",
   "metadata": {},
   "outputs": [],
   "source": [
    "# The Aero Commander make\n",
    "df[df['Make'].str.lower().str.startswith('aero c')].value_counts('Make')"
   ]
  },
  {
   "cell_type": "code",
   "execution_count": null,
   "id": "16fb4842-41b3-4e2f-94f0-bad594b92b91",
   "metadata": {},
   "outputs": [],
   "source": [
    "df.loc[df['Make'].isin(['AERO COMMANDER']), 'Make'] = 'Aero Commander'\n",
    "\n",
    "df[df['Make'].isin(['Aero Commander'])].value_counts('Aircraft_Category', dropna=False)"
   ]
  },
  {
   "cell_type": "code",
   "execution_count": null,
   "id": "dd1bbf4d-86a3-4600-b08b-ccec80b11561",
   "metadata": {},
   "outputs": [],
   "source": [
    "df.loc[(df['Make'] == 'Aero Commander'), 'Aircraft_Category'] = 'Airplane'\n",
    "\n",
    "df[df['Aircraft_Category'].isna()]['Make'].value_counts()"
   ]
  },
  {
   "cell_type": "code",
   "execution_count": null,
   "id": "567ce0bc-3ca5-4ac2-a84a-6134dbefeae5",
   "metadata": {},
   "outputs": [],
   "source": [
    "# The De Havilland make\n",
    "de_havilland_variations = df[df['Make'].str.lower().str.contains(r'de\\s?havil?land', regex=True)]\n",
    "de_havilland_variations.value_counts('Make')"
   ]
  },
  {
   "cell_type": "code",
   "execution_count": null,
   "id": "1d7d199b-d02b-4699-b8a6-acf2444dfdc6",
   "metadata": {},
   "outputs": [],
   "source": [
    "# combine all these variations of De Havilland into one make\n",
    "df.loc[df['Make'].str.lower().str.contains(r'de\\s?havil?land', regex=True), 'Make'] = 'De Havilland'\n",
    "\n",
    "df[df['Make'].isin(['De Havilland'])].value_counts('Aircraft_Category', dropna=False)"
   ]
  },
  {
   "cell_type": "code",
   "execution_count": null,
   "id": "da9faa60-e5ae-433e-9581-59855e2efe70",
   "metadata": {},
   "outputs": [],
   "source": [
    "df.loc[(df['Make'] == 'De Havilland'), 'Aircraft_Category'] = 'Airplane'\n",
    "\n",
    "df[df['Aircraft_Category'].isna()]['Make'].value_counts()"
   ]
  },
  {
   "cell_type": "code",
   "execution_count": null,
   "id": "d38bd5d3-6e97-4590-b7bb-c5ee8d0a258c",
   "metadata": {},
   "outputs": [],
   "source": [
    "# Let's look at the Models overall for NaN values in Category\n",
    "df[df['Aircraft_Category'].isna()]['Model'].value_counts()"
   ]
  },
  {
   "cell_type": "markdown",
   "id": "9e3a36cb-cd55-418d-a8ab-a0f3766c6e49",
   "metadata": {},
   "source": [
    "Google tells me that a UH-12E is a helicopter, while 8A, S-2R, 415-C, BC12-D are airplanes. And running the function like \"df[df['Model'].isin(['BC12-D'])].value_counts('Aircraft_Category', dropna=False)\" verifies this. So let's correct those category values"
   ]
  },
  {
   "cell_type": "code",
   "execution_count": null,
   "id": "03198157-0892-4ebf-86ba-1bdd48cf7925",
   "metadata": {},
   "outputs": [],
   "source": [
    "#Edit one model's category value\n",
    "df.loc[df['Model'] == 'UH-12E', 'Aircraft_Category'] = 'Helicopter'\n",
    "\n",
    "#Edit multiple models' category value\n",
    "df.loc[df['Model'].isin(['8A', 'S-2R', '415-C', 'BC12-D']), 'Aircraft_Category'] = 'Airplane'\n",
    "\n",
    "df[df['Aircraft_Category'].isna()]['Model'].value_counts()"
   ]
  },
  {
   "cell_type": "code",
   "execution_count": null,
   "id": "a69563a4-b9ae-4683-802b-7a3f376246cc",
   "metadata": {},
   "outputs": [],
   "source": [
    "# Running this function tells me the top 5 are airplanes\n",
    "df[df['Model'].isin(['108-3', 'S2R', 'RV-4', '108-2', 'KR-2'])].value_counts('Aircraft_Category', dropna=False)"
   ]
  },
  {
   "cell_type": "code",
   "execution_count": null,
   "id": "1664e560-7135-44a2-9176-ee690325dd98",
   "metadata": {},
   "outputs": [],
   "source": [
    "#Edit multiple models' category value\n",
    "df.loc[df['Model'].isin(['108-3', 'S2R', 'RV-4', '108-2', 'KR-2']), 'Aircraft_Category'] = 'Airplane'\n",
    "\n",
    "df[df['Aircraft_Category'].isna()]['Model'].value_counts()"
   ]
  },
  {
   "cell_type": "code",
   "execution_count": null,
   "id": "6da09e44-76a0-49e3-81bd-1be252dbf3fc",
   "metadata": {},
   "outputs": [],
   "source": [
    "# the top 4 are all airplanes\n",
    "df[df['Model'].isin(['108-1', 'LA-4-200', 'GC-1B', '8E'])].value_counts('Aircraft_Category', dropna=False)"
   ]
  },
  {
   "cell_type": "code",
   "execution_count": null,
   "id": "6005c857-e481-4a5f-a8e4-7887acf97373",
   "metadata": {},
   "outputs": [],
   "source": [
    "#Edit multiple models' category value\n",
    "df.loc[df['Model'].isin(['108-1', 'LA-4-200', 'GC-1B', '8E']), 'Aircraft_Category'] = 'Airplane'\n",
    "\n",
    "df[df['Aircraft_Category'].isna()]['Model'].value_counts()"
   ]
  },
  {
   "cell_type": "code",
   "execution_count": null,
   "id": "d73f1f30-82e7-433f-bfb8-75429fb763f7",
   "metadata": {},
   "outputs": [],
   "source": [
    "df[df['Model'].isin(['F-28C'])].value_counts('Aircraft_Category', dropna=False)"
   ]
  },
  {
   "cell_type": "markdown",
   "id": "7a46c043-a440-4b93-92f1-b68cfd1bca95",
   "metadata": {},
   "source": [
    "glider - L-13; airplane - VARIEZE, A-1; helicopter - F-28C;"
   ]
  },
  {
   "cell_type": "code",
   "execution_count": null,
   "id": "bbffdebf-4b10-4093-b196-4ea3affaf8dd",
   "metadata": {},
   "outputs": [],
   "source": [
    "#Edit one model's category value\n",
    "df.loc[df['Model'] == 'L-13', 'Aircraft_Category'] = 'Glider'\n",
    "df.loc[df['Model'] == 'F-28C', 'Aircraft_Category'] = 'Helicopter'\n",
    "\n",
    "#Edit multiple models' category value\n",
    "df.loc[df['Model'].isin(['VARIEZE', 'A-1']), 'Aircraft_Category'] = 'Airplane'\n",
    "\n",
    "df[df['Aircraft_Category'].isna()]['Model'].value_counts()"
   ]
  },
  {
   "cell_type": "code",
   "execution_count": null,
   "id": "024d849c-fce2-41d7-8a38-153ecc9a74d5",
   "metadata": {},
   "outputs": [],
   "source": [
    "df[df['Model'].isin(['RV-6'])].value_counts('Aircraft_Category', dropna=False)"
   ]
  },
  {
   "cell_type": "markdown",
   "id": "816d43d3-a293-4278-a7f5-f4f80fe8fe25",
   "metadata": {},
   "source": [
    "helicopter - FH-1100; airplane - 108, AVID FLYER, RV-6;"
   ]
  },
  {
   "cell_type": "code",
   "execution_count": null,
   "id": "f838ddb2-f745-40ef-be2a-d6dc9a03ad12",
   "metadata": {},
   "outputs": [],
   "source": [
    "#Edit one model's category value\n",
    "df.loc[df['Model'] == 'FH-1100', 'Aircraft_Category'] = 'Helicopter'\n",
    "\n",
    "#Edit multiple models' category value\n",
    "df.loc[df['Model'].isin(['108', 'AVID FLYER', 'RV-6']), 'Aircraft_Category'] = 'Airplane'\n",
    "\n",
    "df[df['Aircraft_Category'].isna()]['Model'].value_counts()"
   ]
  },
  {
   "cell_type": "code",
   "execution_count": null,
   "id": "d9bfff9f-b448-4abf-8b57-6ff025977fa6",
   "metadata": {},
   "outputs": [],
   "source": [
    "df[df['Model'].isin(['S2R-T34'])].value_counts('Aircraft_Category', dropna=False)"
   ]
  },
  {
   "cell_type": "markdown",
   "id": "b2c318ac-0bc8-47e6-aaa9-ae1b24949ac2",
   "metadata": {},
   "source": [
    "airplane - BC-12D, 35A, S2R-T34; helicopter - 280C;"
   ]
  },
  {
   "cell_type": "code",
   "execution_count": null,
   "id": "c57930c1-1fad-4ac7-9272-fb4d377b0697",
   "metadata": {},
   "outputs": [],
   "source": [
    "#Edit one model's category value\n",
    "df.loc[df['Model'] == '280C', 'Aircraft_Category'] = 'Helicopter'\n",
    "\n",
    "#Edit multiple models' category value\n",
    "df.loc[df['Model'].isin(['BC-12D', '35A', 'S2R-T34']), 'Aircraft_Category'] = 'Airplane'\n",
    "\n",
    "df[df['Aircraft_Category'].isna()]['Model'].value_counts().head(50)"
   ]
  },
  {
   "cell_type": "markdown",
   "id": "1bd40c10-bbaf-47ce-8ea2-ff80a0d1e432",
   "metadata": {},
   "source": [
    "Instead of just a few at a time, we can display the top 50 models with no category value and go from there."
   ]
  },
  {
   "cell_type": "code",
   "execution_count": null,
   "id": "f931dbc5-59f2-4f23-ae3e-1373b4c09e04",
   "metadata": {},
   "outputs": [],
   "source": [
    "df[df['Model'].isin(['UH-12C'])].value_counts('Aircraft_Category', dropna=False)"
   ]
  },
  {
   "cell_type": "code",
   "execution_count": null,
   "id": "18353f0c-3d5c-4340-9911-bc9361bf957e",
   "metadata": {},
   "outputs": [],
   "source": [
    "#Edit one model's category value\n",
    "df.loc[df['Model'] == 'BLANIK L-13', 'Aircraft_Category'] = 'Glider'\n",
    "\n",
    "#Edit multiple models' category value\n",
    "df.loc[df['Model'].isin(['114', '201B', '2150A', '2T-1A-2', '415C', '8F', 'A', 'AA-1', 'AA-1A', 'AA-5B', 'AT-6D', 'CHALLENGER II', 'CL-600-2B19', 'DC-3', 'DC-3C', 'DW-1', 'H-295', 'KITFOX', 'LA-4',\n",
    "                        'LONG-EZ', 'M-18A', 'MU-2B-60', 'MUSTANG II', 'NAVION', 'P-51D', 'Q2', 'QUICKIE', 'RC-3', 'RV-6A', 'S-1B2', 'S-2B', 'SA226TC', 'SA227-AC', 'SKYBOLT', 'SNJ-5', 'SONERAI II',\n",
    "                        'SR22', 'T-6G', 'THORP T-18', 'UPF-7', 'VARI-EZE']), 'Aircraft_Category'] = 'Airplane'\n",
    "\n",
    "df.loc[df['Model'].isin(['B-2B', 'F-28A', 'F-28F', 'S-76A', 'UH-12C']), 'Aircraft_Category'] = 'Helicopter'\n",
    "\n",
    "df.loc[df['Model'].isin(['FIREFLY 7', 'S-60A']), 'Aircraft_Category'] = 'Balloon'\n",
    "\n",
    "df[df['Aircraft_Category'].isna()]['Model'].value_counts().head(50)"
   ]
  },
  {
   "cell_type": "code",
   "execution_count": null,
   "id": "279bc6c0-c1ee-4389-8d4e-aef70b9920a5",
   "metadata": {},
   "outputs": [],
   "source": [
    "df[df['Model'].isin(['Q-2'])].value_counts('Aircraft_Category', dropna=False)"
   ]
  },
  {
   "cell_type": "code",
   "execution_count": null,
   "id": "85b27cb0-f490-482e-8dbd-c57e9aa6e635",
   "metadata": {},
   "outputs": [],
   "source": [
    "df[df['Model'].isin(['Q-2'])].value_counts('Amateur_Built', dropna=False)"
   ]
  },
  {
   "cell_type": "code",
   "execution_count": null,
   "id": "33254f29-fdc9-4b94-9953-0be7e0035167",
   "metadata": {},
   "outputs": [],
   "source": [
    "#Edit one model's category value\n",
    "df.loc[df['Model'] == 'B-8M', 'Aircraft_Category'] = 'Gyrocraft'\n",
    "df.loc[df['Model'] == 'TIERRA II', 'Aircraft_Category'] = 'Ultralight'\n",
    "\n",
    "#Edit multiple models' category value\n",
    "df.loc[df['Model'].isin(['DRAGONFLY', 'LONG EZ', 'STEEN SKYBOLT', 'PZL-M-18', 'ST3KR', '112A', 'QUICKIE Q2', 'S-1S', 'S-1', 'CHRISTEN EAGLE II', 'BD-4', 'SR-22']), 'Aircraft_Category'] = 'Airplane'\n",
    "\n",
    "df.loc[df['Model'].isin(['UH-12B', 'UH-12D', 'AS-350D', 'AS350D']), 'Aircraft_Category'] = 'Helicopter'\n",
    "\n",
    "df.loc[df['Model'].isin(['MONI', 'ASW-20']), 'Aircraft_Category'] = 'Glider'\n",
    "\n",
    "df[df['Aircraft_Category'].isna()]['Model'].value_counts().head(50)"
   ]
  },
  {
   "cell_type": "markdown",
   "id": "f9619799-0226-4889-acdd-e0759ce7f112",
   "metadata": {},
   "source": []
  },
  {
   "cell_type": "code",
   "execution_count": null,
   "id": "f499704a-c9af-4e1b-99bd-dcf752f6c601",
   "metadata": {},
   "outputs": [],
   "source": [
    "df[df['Aircraft_Category'].isna()]['Make'].value_counts().head(10)"
   ]
  },
  {
   "cell_type": "code",
   "execution_count": null,
   "id": "3886e9ff-c4e4-4e68-865b-c10dc7203cd2",
   "metadata": {},
   "outputs": [],
   "source": [
    "df[df['Make'].isin(['Schweizer'])].value_counts('Aircraft_Category', dropna=False)"
   ]
  },
  {
   "cell_type": "code",
   "execution_count": null,
   "id": "11d98c72-e598-43b4-8b48-6035d8af1355",
   "metadata": {},
   "outputs": [],
   "source": [
    "# Look at the Schweizer models again that have empty category values\n",
    "df[df['Make'].isin(['Schweizer']) & df['Aircraft_Category'].isna()].value_counts('Model', dropna=False).head(60)"
   ]
  },
  {
   "cell_type": "code",
   "execution_count": null,
   "id": "13f4cc5a-7994-4e1a-bec5-e995f7cf38fa",
   "metadata": {},
   "outputs": [],
   "source": [
    "#Edit multiple models' category value\n",
    "df.loc[df['Model'].isin(['1-26E', '1-35C', '1-36', '2-32', '2-33', '2-33-A', '2-33A', 'SGS 1-26', 'SGS 1-26A', 'SGS 1-26B', 'SGS 1-26C', 'SGS 1-26D', 'SGS 1-26E', 'SGS 1-34', 'SGS 1-35', 'SGS 1-36',\n",
    "                        'SGS 2-32', 'SGS 2-33', 'SGS 2-33AK', 'SGS 2-8', 'SGS-1-26', 'SGS-1-26A', 'SGS-1-26B', 'SGS-1-26E', 'SGS-1-30', 'SGS-1-34', 'SGS-1-35', 'SGS-1-35C', 'SGS-126D', 'SGS-126E',\n",
    "                        'SGS-2-33', 'SGS-2-33A', 'SGS-233A', 'SGS1-26C', 'SGS1-26D', 'SGS1-34', 'SGS1-36', 'SGS2-33A', 'SGU 2-22CK', 'SGU 2-22E', 'SGU-2-22E', 'SGU-2-22K', 'SGU-22', 'SGU2-22E',\n",
    "                        'SSG 2-33A', 'T-26E']), 'Aircraft_Category'] = 'Glider'\n",
    "\n",
    "df.loc[df['Model'].isin(['269B', '269C-1', '269D', '300C', 'HUGHES 269C']), 'Aircraft_Category'] = 'Helicopter'\n",
    "\n",
    "df.loc[df['Model'].isin(['G-164', 'G-164-A', 'G-164B-600', 'G-164C', 'G-164D', 'G164', 'G164A', 'G164B', 'G164D']), 'Aircraft_Category'] = 'Airplane'\n",
    "\n",
    "df[df['Make'].isin(['Schweizer']) & df['Aircraft_Category'].isna()].value_counts('Model', dropna=False).head(60)"
   ]
  },
  {
   "cell_type": "code",
   "execution_count": null,
   "id": "c8b0e157-e07e-4182-a98d-c44f312c354c",
   "metadata": {},
   "outputs": [],
   "source": [
    "#Edit multiple models' category value\n",
    "df.loc[df['Model'].isin(['134', '1-23', '1-24', '1-26', '1-26B', '1-26D', '126-D', '2-22EK', '233A', 'FGS-233', 'I-26D', 'I-26E', 'S-2-33A', 'S2-33A', 'SC2-33A', 'SGS 1-23', 'SGS 1-23G', 'SGS 1-23H-15',\n",
    "                        'SGS 1-26F', 'SGS 1-34R', 'SGS 1-35C', 'SGS 126B', 'SGS 126E', 'SGS 135', 'SGS-1-36', 'SGS-2-32', 'SGS-2-32A', 'SGS-233', 'SGS1-26-D', 'SGS1-26A', 'SGS2-32', 'SGS2-33',\n",
    "                        'SGS233A', 'TG3A']), 'Aircraft_Category'] = 'Glider'\n",
    "\n",
    "df.loc[df['Model'].isin(['269', '333', '-269C', '269-C', '269-C1', 'H-300']), 'Aircraft_Category'] = 'Helicopter'\n",
    "\n",
    "df.loc[df['Model'].isin(['SA 2-37A', 'AG CAT', 'G-164-B', 'G-164A-450', 'G164-B', 'G164A \\\"450\\\"', 'G167B', 'GRUMMAN G-164A', 'GRUMMAN G-164B']), 'Aircraft_Category'] = 'Airplane'\n",
    "\n",
    "df[df['Make'].isin(['Schweizer'])].value_counts('Aircraft_Category', dropna=False)"
   ]
  },
  {
   "cell_type": "code",
   "execution_count": null,
   "id": "6ee8d8ba-0b85-41f0-a4cd-85b6acf60218",
   "metadata": {},
   "outputs": [],
   "source": [
    "df[df['Aircraft_Category'].isna()]['Make'].value_counts().head(10)"
   ]
  },
  {
   "cell_type": "code",
   "execution_count": null,
   "id": "6fbd26b1-23c5-48ee-bd0c-fddbd8c7c836",
   "metadata": {},
   "outputs": [],
   "source": [
    "df[df['Make'].isin(['Aerospatiale']) & df['Aircraft_Category'].isna()].value_counts('Model', dropna=False).head(60)"
   ]
  },
  {
   "cell_type": "code",
   "execution_count": null,
   "id": "54c3412d-f83a-454f-b077-8b375d790937",
   "metadata": {},
   "outputs": [],
   "source": [
    "df[df['Make'].isin(['Aerospatiale'])].value_counts('Aircraft_Category', dropna=False)"
   ]
  },
  {
   "cell_type": "markdown",
   "id": "eb766310-b6fb-47d6-a720-23f5fe7c4e41",
   "metadata": {},
   "source": [
    "I see only 2 airplanes listed for Aerospatiale. So which models are those?"
   ]
  },
  {
   "cell_type": "code",
   "execution_count": null,
   "id": "26971849-e752-4e1e-bd91-1889091b0dfc",
   "metadata": {},
   "outputs": [],
   "source": [
    "df[df['Make'].isin(['Aerospatiale']) & df['Aircraft_Category'].isin(['Airplane'])].value_counts('Model', dropna=False)"
   ]
  },
  {
   "cell_type": "markdown",
   "id": "9d19249c-83fb-45d8-962f-246e33b5750c",
   "metadata": {},
   "source": [
    "So this tells me that models beginning with 'ATR' would be airplanes"
   ]
  },
  {
   "cell_type": "code",
   "execution_count": null,
   "id": "4338a0aa-de57-4a90-bad2-678678411b21",
   "metadata": {},
   "outputs": [],
   "source": [
    "df[df['Make'].isin(['Aerospatiale']) & df['Aircraft_Category'].isin(['Helicopter'])].value_counts('Model', dropna=False)"
   ]
  },
  {
   "cell_type": "markdown",
   "id": "2106fa08-741c-41a2-b5f2-55bcbaa69b79",
   "metadata": {},
   "source": [
    "And helicopter models begin with 'AS-' and 'SA-'"
   ]
  },
  {
   "cell_type": "code",
   "execution_count": null,
   "id": "5d7a0475-eaa6-4a62-9697-d19b63055019",
   "metadata": {},
   "outputs": [],
   "source": [
    "#Edit multiple models' category value\n",
    "df.loc[df['Model'].isin(['355', '316B', '350 B1', '350D', 'A-300B4', 'ALOUETTE 3', 'AS 315B', 'AS 350 ASTAR', 'AS 350B', 'AS 350B-2', 'AS 350D', 'AS 355 F', 'AS 355F', 'AS 355F1', 'AS-350', 'AS-350-B',\n",
    "                        'AS-350-B2', 'AS-350-BA', 'AS-350B', 'AS-350BA', 'AS-355', 'AS-355-F', 'AS-355-F1', 'AS-355-F2', 'AS-355E', 'AS-355F', 'AS-355F-1', 'AS350B', 'AS350BA', 'AS355F', 'AS355F1',\n",
    "                        'AS35OD', 'SA 315B', 'SA 360C', 'SA-315', 'SA-315-B', 'SA-315B', 'SA-316 ALOUETTE', 'SA-316B', 'SA-319B', 'SA-330J', 'SA-341G', 'SA-360C', 'SA-365-N2', 'SA315-D LAMA', 'SA315B',\n",
    "                        'SA315B LAMA', 'SA316B', 'SA318C', 'SA319B', 'SA341G']), 'Aircraft_Category'] = 'Helicopter'\n",
    "\n",
    "df.loc[df['Model'].isin(['ATR 42-300', 'ATR-42', 'ATR-42-300', 'ATR-42-320', 'ATR-72', 'ATR-72-212', 'TB-20', 'TB-21', 'TB20']), 'Aircraft_Category'] = 'Airplane'\n",
    "\n",
    "df[df['Make'].isin(['Aerospatiale']) & df['Aircraft_Category'].isna()].value_counts('Model', dropna=False).head(60)"
   ]
  },
  {
   "cell_type": "code",
   "execution_count": null,
   "id": "b85cf0c8-a560-4515-b930-9d63bf0c9956",
   "metadata": {},
   "outputs": [],
   "source": [
    "#Edit multiple models' category value\n",
    "df.loc[df['Model'].isin(['316B ALOUETTE III', '350-B', '350B', 'AS 355 F ECUREUIL', 'AS 355F-1', 'AS-332L', 'AS-341G', 'AS-350-B3', 'AS-350B1', 'AS-350B2', 'AS-350BII', 'AS-355F1', 'AS-365-N2', 'AS315B',\n",
    "                        'AS332', 'AS350', 'AS350 BA', 'AS350-B', 'AS350-B3', 'AS350-BH', 'AS350-D', 'AS350B3', 'AS350D ASTAR', 'AS355F-1', 'AS355F2', 'AS365N', 'SA 315', 'SA 316B', 'SA319B Alouette III',\n",
    "                        'SA330J', 'SA360C DAUPHIN', 'SA365-N1', 'SA365N', 'SE 3180', 'SE 318C', 'SE316B', 'SF3130']), 'Aircraft_Category'] = 'Helicopter'\n",
    "\n",
    "df.loc[df['Model'].isin(['ATR 42-320', 'ATR 72-212', 'ATR-42-500', 'ATR-72-12', 'ATR42-300', 'ATR72-212', 'SN-601', 'TB-10', 'TB21', 'CONCORDE VERSION 101', 'Concorde', 'ND-26']), 'Aircraft_Category'] = 'Airplane'\n",
    "\n",
    "df[df['Make'].isin(['Aerospatiale']) & df['Aircraft_Category'].isna()].value_counts('Model', dropna=False).head(60)"
   ]
  },
  {
   "cell_type": "code",
   "execution_count": null,
   "id": "8ee94415-da80-4fc5-b259-d759763450de",
   "metadata": {},
   "outputs": [],
   "source": [
    "df[df['Aircraft_Category'].isna()]['Make'].value_counts().head(10)"
   ]
  },
  {
   "cell_type": "code",
   "execution_count": null,
   "id": "8bd1ffce-388f-458e-9611-013a68238715",
   "metadata": {},
   "outputs": [],
   "source": [
    "df[df['Make'].str.lower().str.startswith('dougl')].value_counts('Make')"
   ]
  },
  {
   "cell_type": "code",
   "execution_count": null,
   "id": "bf403605-23f9-4eea-b4eb-3dba1d372e07",
   "metadata": {},
   "outputs": [],
   "source": [
    "df.loc[df['Make'].isin(['Douglas', 'DOUGLAS']), 'Make'] = 'Douglas'"
   ]
  },
  {
   "cell_type": "code",
   "execution_count": null,
   "id": "f70f9503-ecda-472b-9876-4f9777a5f7be",
   "metadata": {},
   "outputs": [],
   "source": [
    "df[df['Make'] == 'Douglas'].value_counts('Aircraft_Category', dropna=False)"
   ]
  },
  {
   "cell_type": "code",
   "execution_count": null,
   "id": "b95ae3b4-df5a-4e8d-85ee-65fb88bcd1af",
   "metadata": {},
   "outputs": [],
   "source": [
    "df.loc[df['Make'] == 'Douglas', 'Aircraft_Category'] = 'Airplane'"
   ]
  },
  {
   "cell_type": "code",
   "execution_count": null,
   "id": "e5d00233-3f17-419c-956e-c04985cb7307",
   "metadata": {},
   "outputs": [],
   "source": [
    "df[df['Aircraft_Category'].isna()]['Make'].value_counts().head(10)"
   ]
  },
  {
   "cell_type": "code",
   "execution_count": null,
   "id": "2c153b1e-aa28-447c-bcc8-df5ba7ea189a",
   "metadata": {},
   "outputs": [],
   "source": [
    "df[df['Make'].str.lower().str.startswith('north a')].value_counts('Make')"
   ]
  },
  {
   "cell_type": "code",
   "execution_count": null,
   "id": "2a1d978d-38df-4567-a8fb-7b055c308d5f",
   "metadata": {},
   "outputs": [],
   "source": [
    "df.loc[df['Make'].isin(['NORTH AMERICAN']), 'Make'] = 'North American'\n",
    "\n",
    "df[df['Make'] == 'North American'].value_counts('Aircraft_Category', dropna=False)"
   ]
  },
  {
   "cell_type": "code",
   "execution_count": null,
   "id": "3428e9dc-b086-404c-80f2-c08fc3c62b96",
   "metadata": {},
   "outputs": [],
   "source": [
    "df.loc[df['Make'] == 'North American', 'Aircraft_Category'] = 'Airplane'"
   ]
  },
  {
   "cell_type": "code",
   "execution_count": null,
   "id": "e6b9083a-7cc3-4c2d-8dcf-dfdad277388a",
   "metadata": {},
   "outputs": [],
   "source": [
    "df[df['Make'].str.lower().str.startswith('taylorc')].value_counts('Make')"
   ]
  },
  {
   "cell_type": "code",
   "execution_count": null,
   "id": "6762e7da-99b9-425c-9ed6-42a749c9155e",
   "metadata": {},
   "outputs": [],
   "source": [
    "df.loc[df['Make'].isin(['TAYLORCRAFT', 'TAYLORCRAFT AVIATION CORP', 'TAYLORCRAFT AVIATION CORP.', 'TAYLORCRAFT CORP', 'Taylorcraft Aviation', 'Taylorcraft Corporation']), 'Make'] = 'Taylorcraft'\n",
    "\n",
    "df[df['Make'] == 'Taylorcraft'].value_counts('Aircraft_Category', dropna=False)"
   ]
  },
  {
   "cell_type": "code",
   "execution_count": null,
   "id": "d60230d0-5ffd-4183-9b47-99c1547719df",
   "metadata": {},
   "outputs": [],
   "source": [
    "df.loc[df['Make'] == 'Taylorcraft', 'Aircraft_Category'] = 'Airplane'\n",
    "\n",
    "df[df['Aircraft_Category'].isna()]['Make'].value_counts().head(10)"
   ]
  },
  {
   "cell_type": "code",
   "execution_count": null,
   "id": "afcc3f0c-74b2-4cf8-ad06-b2f5b6e17cf8",
   "metadata": {},
   "outputs": [],
   "source": [
    "df[df['Make'].str.lower().str.startswith('rockw')].value_counts('Make')"
   ]
  },
  {
   "cell_type": "code",
   "execution_count": null,
   "id": "1bb1021c-9195-4b49-8863-443a64304aca",
   "metadata": {},
   "outputs": [],
   "source": [
    "df.loc[df['Make'].isin(['ROCKWELL', 'ROCKWELL INTERNATIONAL', 'Rockwell International', 'Rockwell Intl', 'Rockwell Intl.', 'Rockwell Int\\'t']), 'Make'] = 'Rockwell'\n",
    "\n",
    "df[df['Make'] == 'Rockwell'].value_counts('Aircraft_Category', dropna=False)"
   ]
  },
  {
   "cell_type": "code",
   "execution_count": null,
   "id": "8769fb64-53b5-4d97-8266-1ca27a09944d",
   "metadata": {},
   "outputs": [],
   "source": [
    "df.loc[df['Make'] == 'Rockwell', 'Aircraft_Category'] = 'Airplane'\n",
    "\n",
    "df[df['Aircraft_Category'].isna()]['Make'].value_counts().head(10)"
   ]
  },
  {
   "cell_type": "code",
   "execution_count": null,
   "id": "03a29cdb-f0ff-424c-8833-f174a40de54f",
   "metadata": {},
   "outputs": [],
   "source": [
    "df[df['Make'].str.lower().str.startswith('sikor')].value_counts('Make')"
   ]
  },
  {
   "cell_type": "code",
   "execution_count": null,
   "id": "7c66a1a0-2e49-4bb4-8644-1340a3eb69a3",
   "metadata": {},
   "outputs": [],
   "source": [
    "df.loc[df['Make'].isin(['SIKORSKY', 'SIKORSKY AIRCRAFT CORP', 'SIKORSKY AIRCRAFT CORPORATION']), 'Make'] = 'Sikorsky'\n",
    "\n",
    "df[df['Make'] == 'Sikorsky'].value_counts('Aircraft_Category', dropna=False)"
   ]
  },
  {
   "cell_type": "code",
   "execution_count": null,
   "id": "5521ea0f-bc03-4e98-b7b1-ba3a3ae509fb",
   "metadata": {},
   "outputs": [],
   "source": [
    "df.loc[df['Make'] == 'Sikorsky', 'Aircraft_Category'] = 'Helicopter'\n",
    "\n",
    "df[df['Aircraft_Category'].isna()]['Make'].value_counts().head(10)"
   ]
  },
  {
   "cell_type": "code",
   "execution_count": null,
   "id": "2c79c7a2-fa13-4abc-b4ae-3b903f8db318",
   "metadata": {},
   "outputs": [],
   "source": [
    "df[df['Make'] == 'Burkhart Grob'].value_counts('Aircraft_Category', dropna=False)"
   ]
  },
  {
   "cell_type": "markdown",
   "id": "95e47c93-b28a-4ab7-9107-b12f0ad0d992",
   "metadata": {},
   "source": [
    "So many NaN and only 9 gliders, so I'm going to check out the models just to make sure that I should fill in Burkhart Grob category as Glider"
   ]
  },
  {
   "cell_type": "code",
   "execution_count": null,
   "id": "0f75f769-3c3f-4093-9456-2905a46d4797",
   "metadata": {},
   "outputs": [],
   "source": [
    "df[df['Make'] == 'Burkhart Grob'].value_counts('Model', dropna=False)"
   ]
  },
  {
   "cell_type": "markdown",
   "id": "54b8c9c2-2a06-4808-9569-04291bff4c0b",
   "metadata": {},
   "source": [
    "Google tells me all these models are gliders."
   ]
  },
  {
   "cell_type": "code",
   "execution_count": null,
   "id": "44cb6bd5-9a1c-4dec-815d-64d1f9a40fa8",
   "metadata": {},
   "outputs": [],
   "source": [
    "df[df['Make'].str.lower().str.startswith('burkha')].value_counts('Make')"
   ]
  },
  {
   "cell_type": "code",
   "execution_count": null,
   "id": "20a5aeaa-168d-45f2-b0ea-f3d21fba14a7",
   "metadata": {},
   "outputs": [],
   "source": [
    "df.loc[df['Make'].isin(['BURKHART GROB', 'Burkhart Grob Flugzeugbau', 'BURKHART GROB FLUGZEUGBAU', 'Burkhart Grob Flugzeugbah', 'Burkhart-grob']), 'Make'] = 'Burkhart Grob'\n",
    "\n",
    "df.loc[df['Make'] == 'Burkhart Grob', 'Aircraft_Category'] = 'Glider'"
   ]
  },
  {
   "cell_type": "code",
   "execution_count": null,
   "id": "12caaaf5-8b27-4467-8c13-ab56f91bc5ae",
   "metadata": {
    "panel-layout": {
     "height": 10,
     "visible": true,
     "width": 100
    }
   },
   "outputs": [],
   "source": [
    "df[df['Aircraft_Category'].isna()]['Make'].value_counts().head(10)"
   ]
  },
  {
   "cell_type": "code",
   "execution_count": null,
   "id": "2c1d9e40-59cc-4228-9683-1b04eb67028b",
   "metadata": {},
   "outputs": [],
   "source": [
    "df[df['Make'].str.lower().str.startswith('fairchi')].value_counts('Make')"
   ]
  },
  {
   "cell_type": "code",
   "execution_count": null,
   "id": "c609261f-328f-4307-8f6f-281cbff15cad",
   "metadata": {},
   "outputs": [],
   "source": [
    "df.loc[df['Make'].isin(['Fairchild Hiller', 'FAIRCHILD', 'Fairchild Swearingen', 'FAIRCHILD HILLER', 'Fairchild Dornier', 'FAIRCHILD HELI-PORTER', 'FAIRCHILD(HOWARD)', 'FAIRCHILD FUNK',\n",
    "                       'Fairchild Heli-porter', 'Fairchild Industries', 'Fairchild Merlin', 'Fairchild-heliporter', 'Fairchild/swearingen']), 'Make'] = 'Fairchild'\n",
    "\n",
    "df[df['Make'] == 'Fairchild'].value_counts('Aircraft_Category', dropna=False)"
   ]
  },
  {
   "cell_type": "code",
   "execution_count": null,
   "id": "fae8e7f3-7197-4470-977d-82ae20a4afd3",
   "metadata": {},
   "outputs": [],
   "source": [
    "df[df['Make'].isin(['Fairchild']) & df['Aircraft_Category'].isna()].value_counts('Model', dropna=False).head(60)"
   ]
  },
  {
   "cell_type": "markdown",
   "id": "813234e2-e18c-45d0-9552-7a3107cc358e",
   "metadata": {},
   "source": [
    "The only models in this list that are helicopters are the FH1100 and FH-100. All the rest fall into the Airplane category."
   ]
  },
  {
   "cell_type": "code",
   "execution_count": null,
   "id": "6268ef70-24f1-4352-842e-09b0cdf939ad",
   "metadata": {},
   "outputs": [],
   "source": [
    "df.loc[df['Model'].isin(['FH1100', 'FH-100']), 'Aircraft_Category'] = 'Helicopter'"
   ]
  },
  {
   "cell_type": "code",
   "execution_count": null,
   "id": "eedc9099-f19a-4276-aacf-244411fdbdb6",
   "metadata": {},
   "outputs": [],
   "source": [
    "# Make the rest of the NaN category values Airplane for Fairchild\n",
    "df.loc[(df['Make'].isin(['Fairchild'])) & (df['Aircraft_Category'].isna()), 'Aircraft_Category'] = 'Airplane'\n",
    "\n",
    "df[df['Make'] == 'Fairchild'].value_counts('Aircraft_Category', dropna=False)"
   ]
  },
  {
   "cell_type": "code",
   "execution_count": null,
   "id": "20e79084-435c-4551-bf20-49e13db76cc5",
   "metadata": {},
   "outputs": [],
   "source": [
    "df[df['Aircraft_Category'].isna()]['Make'].value_counts().head(10)"
   ]
  },
  {
   "cell_type": "code",
   "execution_count": null,
   "id": "28cc8ecd-241c-4a88-83ae-0f99410cf431",
   "metadata": {},
   "outputs": [],
   "source": [
    "df[df['Make'].str.lower().str.startswith('lockh')].value_counts('Make')"
   ]
  },
  {
   "cell_type": "code",
   "execution_count": null,
   "id": "eb440b83-6db2-4881-afd6-6d56fbf2d064",
   "metadata": {},
   "outputs": [],
   "source": [
    "df.loc[df['Make'].isin(['LOCKHEED']), 'Make'] = 'Lockheed'\n",
    "\n",
    "df[df['Make'] == 'Lockheed'].value_counts('Aircraft_Category', dropna=False)"
   ]
  },
  {
   "cell_type": "code",
   "execution_count": null,
   "id": "287b65e6-1436-4eda-9f64-08aa1a87a450",
   "metadata": {},
   "outputs": [],
   "source": [
    "df.loc[df['Make'] == 'Lockheed', 'Aircraft_Category'] = 'Airplane'\n",
    "\n",
    "df[df['Aircraft_Category'].isna()]['Make'].value_counts().head(10)"
   ]
  },
  {
   "cell_type": "code",
   "execution_count": null,
   "id": "2fc4e87c-8fb1-4225-80cf-fb426562dac4",
   "metadata": {},
   "outputs": [],
   "source": [
    "df[df['Make'].str.lower().str.startswith('ayre')].value_counts('Make')"
   ]
  },
  {
   "cell_type": "code",
   "execution_count": null,
   "id": "b24a25ea-17da-4750-b694-278256f813f8",
   "metadata": {},
   "outputs": [],
   "source": [
    "df.loc[df['Make'].isin(['AYRES CORPORATION', 'AYRES', 'Ayres Corporation', 'AYRES THRUSH', 'AYRES CORP']), 'Make'] = 'Ayres'\n",
    "\n",
    "df[df['Make'] == 'Ayres'].value_counts('Aircraft_Category', dropna=False)"
   ]
  },
  {
   "cell_type": "code",
   "execution_count": null,
   "id": "f758a7e6-d98f-4926-9139-e310772661bf",
   "metadata": {},
   "outputs": [],
   "source": [
    "df.loc[df['Make'] == 'Ayres', 'Aircraft_Category'] = 'Airplane'\n",
    "\n",
    "df[df['Aircraft_Category'].isna()]['Make'].value_counts().head(10)"
   ]
  },
  {
   "cell_type": "code",
   "execution_count": null,
   "id": "a85ca691-4e43-44ef-b331-658fb05b9379",
   "metadata": {},
   "outputs": [],
   "source": [
    "df[df['Make'].str.lower().str.startswith('balloo')].value_counts('Make')"
   ]
  },
  {
   "cell_type": "code",
   "execution_count": null,
   "id": "b6ff17f2-7d97-4084-a8e9-7e689397ccbb",
   "metadata": {},
   "outputs": [],
   "source": [
    "df.loc[df['Make'].isin(['BALLOON WORKS', 'Balloon Works Inc']), 'Make'] = 'Balloon Works'\n",
    "\n",
    "df[df['Make'] == 'Balloon Works'].value_counts('Aircraft_Category', dropna=False)"
   ]
  },
  {
   "cell_type": "code",
   "execution_count": null,
   "id": "dfbb0aa5-e804-4d43-92db-e0640c916bcd",
   "metadata": {},
   "outputs": [],
   "source": [
    "df.loc[df['Make'] == 'Balloon Works', 'Aircraft_Category'] = 'Balloon'\n",
    "\n",
    "df[df['Aircraft_Category'].isna()]['Make'].value_counts().head(10)"
   ]
  },
  {
   "cell_type": "code",
   "execution_count": null,
   "id": "0947e3b7-cdfe-4713-ba21-ded2cb4bfff0",
   "metadata": {},
   "outputs": [],
   "source": [
    "df[df['Make'].str.lower().str.startswith('swearin')].value_counts('Make')"
   ]
  },
  {
   "cell_type": "code",
   "execution_count": null,
   "id": "091dc2b6-720a-482e-894f-eaef94c48686",
   "metadata": {},
   "outputs": [],
   "source": [
    "df.loc[df['Make'].isin(['SWEARINGEN', 'Swearingen T R/masters W']), 'Make'] = 'Swearingen'\n",
    "\n",
    "df[df['Make'] == 'Swearingen'].value_counts('Aircraft_Category', dropna=False)"
   ]
  },
  {
   "cell_type": "code",
   "execution_count": null,
   "id": "e1c9bdc7-3709-4cd5-81ab-c2a186f0cad7",
   "metadata": {},
   "outputs": [],
   "source": [
    "df.loc[df['Make'] == 'Swearingen', 'Aircraft_Category'] = 'Airplane'\n",
    "\n",
    "df[df['Aircraft_Category'].isna()]['Make'].value_counts().head(10)"
   ]
  },
  {
   "cell_type": "code",
   "execution_count": null,
   "id": "215bfaca-6a47-43e0-a663-046ec4857089",
   "metadata": {},
   "outputs": [],
   "source": [
    "df[df['Make'].str.lower().str.startswith('mitsub')].value_counts('Make')"
   ]
  },
  {
   "cell_type": "code",
   "execution_count": null,
   "id": "398151d3-2d84-4951-8b40-af57d08b5b6d",
   "metadata": {},
   "outputs": [],
   "source": [
    "df.loc[df['Make'].isin(['MITSUBISHI']), 'Make'] = 'Mitsubishi'\n",
    "\n",
    "df[df['Make'] == 'Mitsubishi'].value_counts('Aircraft_Category', dropna=False)"
   ]
  },
  {
   "cell_type": "code",
   "execution_count": null,
   "id": "d814b25b-9b44-49a9-a9e3-fd4bfa018f23",
   "metadata": {},
   "outputs": [],
   "source": [
    "df.loc[df['Make'] == 'Mitsubishi', 'Aircraft_Category'] = 'Airplane'\n",
    "\n",
    "df[df['Aircraft_Category'].isna()]['Make'].value_counts().head(10)"
   ]
  },
  {
   "cell_type": "code",
   "execution_count": null,
   "id": "4302297d-6891-4af1-a6c8-8e3bafe3271d",
   "metadata": {},
   "outputs": [],
   "source": [
    "df[df['Make'].str.lower().str.startswith('hille')].value_counts('Make')"
   ]
  },
  {
   "cell_type": "code",
   "execution_count": null,
   "id": "1c2d4ce1-cdad-4379-ba3a-d254f22f728d",
   "metadata": {},
   "outputs": [],
   "source": [
    "df.loc[df['Make'].isin(['HILLER', 'Hiller-soloy', 'HILLER-ROGERSON HELICOPTER', 'HILLER-TRI-PLEX IND.INC.', 'Hiller-osborn']), 'Make'] = 'Hiller'\n",
    "\n",
    "df[df['Make'] == 'Hiller'].value_counts('Aircraft_Category', dropna=False)"
   ]
  },
  {
   "cell_type": "code",
   "execution_count": null,
   "id": "6c95c7ea-8c50-4b2e-9c4f-92d1aed25983",
   "metadata": {},
   "outputs": [],
   "source": [
    "df.loc[df['Make'] == 'Hiller', 'Aircraft_Category'] = 'Airplane'\n",
    "\n",
    "df[df['Aircraft_Category'].isna()]['Make'].value_counts().head(10)"
   ]
  },
  {
   "cell_type": "code",
   "execution_count": null,
   "id": "64a9fdc9-b938-4a9a-a72f-7b7c39a3c117",
   "metadata": {},
   "outputs": [],
   "source": [
    "df[df['Make'].str.lower().str.startswith('british')].value_counts('Make')"
   ]
  },
  {
   "cell_type": "code",
   "execution_count": null,
   "id": "acaccdaf-ec56-4ead-9892-dabda4980304",
   "metadata": {},
   "outputs": [],
   "source": [
    "df.loc[df['Make'].isin(['British Aircraft Corp. (bac)', 'BRITISH AEROSPACE', 'BRITISH AIRCRAFT CORP', 'BRITISH AIRCRAFT CORP.', 'British Aerospace Civil Aircr', 'British Aircraft Corp. (BAC)']),\n",
    "'Make'] = 'British Aerospace'\n",
    "\n",
    "df[df['Make'] == 'British Aerospace'].value_counts('Aircraft_Category', dropna=False)"
   ]
  },
  {
   "cell_type": "code",
   "execution_count": null,
   "id": "8dfd5f6f-5c60-44e6-a0c8-fa8b1f955661",
   "metadata": {},
   "outputs": [],
   "source": [
    "df.loc[df['Make'] == 'British Aerospace', 'Aircraft_Category'] = 'Airplane'\n",
    "\n",
    "df[df['Aircraft_Category'].isna()]['Make'].value_counts().head(10)"
   ]
  },
  {
   "cell_type": "code",
   "execution_count": null,
   "id": "cf662959-809f-4654-8399-2f8f37cea4f2",
   "metadata": {},
   "outputs": [],
   "source": [
    "df[df['Make'].str.lower().str.startswith('embra')].value_counts('Make')"
   ]
  },
  {
   "cell_type": "code",
   "execution_count": null,
   "id": "4ba54aac-0999-4897-9761-1665156158bf",
   "metadata": {},
   "outputs": [],
   "source": [
    "df.loc[df['Make'].isin(['EMBRAER', 'EMBRAER S A', 'EMBRAER-EMPRESA BRASILEIRA DE', 'EMBRAER S.A.', 'EMBRAER EXECUTIVE AIRCRAFT INC', 'EMBRAER SA', 'Embraer Aircraft']),'Make'] = 'Embraer'\n",
    "\n",
    "df[df['Make'] == 'Embraer'].value_counts('Aircraft_Category', dropna=False)"
   ]
  },
  {
   "cell_type": "code",
   "execution_count": null,
   "id": "5d8a9360-70cb-4764-93a0-944e566ef229",
   "metadata": {},
   "outputs": [],
   "source": [
    "df.loc[df['Make'] == 'Embraer', 'Aircraft_Category'] = 'Airplane'\n",
    "\n",
    "df[df['Aircraft_Category'].isna()]['Make'].value_counts().head(10)"
   ]
  },
  {
   "cell_type": "code",
   "execution_count": null,
   "id": "1ba24e00-d77c-45d6-86cf-74ff93b252d3",
   "metadata": {},
   "outputs": [],
   "source": [
    "df[df['Make'].str.lower().str.startswith('enstr')].value_counts('Make')"
   ]
  },
  {
   "cell_type": "code",
   "execution_count": null,
   "id": "7e4cbe58-ce9c-46ce-b486-0cee8f3c949c",
   "metadata": {},
   "outputs": [],
   "source": [
    "df.loc[df['Make'].isin(['ENSTROM', 'ENSTROM HELICOPTER CORP']),'Make'] = 'Enstrom'\n",
    "\n",
    "df[df['Make'] == 'Enstrom'].value_counts('Aircraft_Category', dropna=False)"
   ]
  },
  {
   "cell_type": "code",
   "execution_count": null,
   "id": "fc640cd3-c2c0-483a-80e1-6b68e4b4b8fd",
   "metadata": {},
   "outputs": [],
   "source": [
    "df.loc[df['Make'] == 'Enstrom', 'Aircraft_Category'] = 'Helicopter'\n",
    "\n",
    "df[df['Aircraft_Category'].isna()]['Make'].value_counts().head(10)"
   ]
  },
  {
   "cell_type": "code",
   "execution_count": null,
   "id": "c4818fb3-f7ab-4b94-98a5-7787bcc9c51f",
   "metadata": {},
   "outputs": [],
   "source": [
    "df[df['Make'].str.lower().str.startswith('pitts')].value_counts('Make')"
   ]
  },
  {
   "cell_type": "code",
   "execution_count": null,
   "id": "29e4f652-fe07-4a2e-a7dc-97c6f23879ee",
   "metadata": {},
   "outputs": [],
   "source": [
    "df.loc[df['Make'].isin(['Pitts', 'PITTS', 'PITTS AEROBATICS', 'PITTS SPECIAL', 'Pitts Spl.']),'Make'] = 'Pitts Special'\n",
    "\n",
    "df[df['Make'] == 'Pitts Special'].value_counts('Aircraft_Category', dropna=False)"
   ]
  },
  {
   "cell_type": "code",
   "execution_count": null,
   "id": "1392f9f3-f604-430c-8825-4a6c5573c951",
   "metadata": {},
   "outputs": [],
   "source": [
    "df.loc[df['Make'] == 'Pitts Special', 'Aircraft_Category'] = 'Airplane'\n",
    "\n",
    "df[df['Aircraft_Category'].isna()]['Make'].value_counts().head(10)"
   ]
  },
  {
   "cell_type": "code",
   "execution_count": null,
   "id": "54bd1027-c1d0-49e2-b3a3-f9d6f0518997",
   "metadata": {},
   "outputs": [],
   "source": [
    "df[df['Make'].str.lower().str.startswith('aerost')].value_counts('Make')"
   ]
  },
  {
   "cell_type": "code",
   "execution_count": null,
   "id": "a19a7d22-9a45-451d-8487-83c5d4267ab8",
   "metadata": {},
   "outputs": [],
   "source": [
    "df.loc[df['Make'].isin(['AEROSTAR ACFT CORP OF TEXAS', 'AEROSTAR AIRCRAFT CORPORATION']),'Make'] = 'Aerostar Aircraft Corporation'\n",
    "df.loc[df['Make'].isin(['AEROSTAR S A', 'Aerostar, S.a']),'Make'] = 'Aerostar, SA'\n",
    "df.loc[df['Make'].isin(['Aerostar', 'AEROSTAR', 'AEROSTAR INTERNATIONAL', 'AEROSTAR INTERNATIONAL INC', 'Aerostar International Inc', 'Aerostar International Inc.', 'Aerostar International, Inc.',\n",
    "                       'Aerostar-raven']),'Make'] = 'Aerostar International'\n",
    "\n",
    "df[df['Make'] == 'Aerostar, SA'].value_counts('Aircraft_Category', dropna=False)"
   ]
  },
  {
   "cell_type": "code",
   "execution_count": null,
   "id": "8d1afa75-5a58-4ba3-a66a-fd2d8d4c0ffd",
   "metadata": {},
   "outputs": [],
   "source": [
    "df[df['Make'] == 'Aerostar Aircraft Corporation'].value_counts('Aircraft_Category', dropna=False)"
   ]
  },
  {
   "cell_type": "code",
   "execution_count": null,
   "id": "010c03b2-9491-4576-8228-e386cc0ca441",
   "metadata": {},
   "outputs": [],
   "source": [
    "df[df['Make'] == 'Aerostar International'].value_counts('Aircraft_Category', dropna=False)"
   ]
  },
  {
   "cell_type": "code",
   "execution_count": null,
   "id": "64426e16-5c26-4c46-a348-cced140cf54f",
   "metadata": {},
   "outputs": [],
   "source": [
    "df.loc[df['Make'] == 'Aerostar, SA', 'Aircraft_Category'] = 'Airplane'\n",
    "df.loc[df['Make'] == 'Aerostar International', 'Aircraft_Category'] = 'Balloon'\n",
    "\n",
    "df[df['Aircraft_Category'].isna()]['Make'].value_counts().head(10)"
   ]
  },
  {
   "cell_type": "code",
   "execution_count": null,
   "id": "4f0c76e7-138f-4bf9-8911-03231cc5189d",
   "metadata": {},
   "outputs": [],
   "source": [
    "df[df['Make'].str.lower().str.startswith('lear')].value_counts('Make')"
   ]
  },
  {
   "cell_type": "code",
   "execution_count": null,
   "id": "b853f1b1-3db2-4978-b3e5-a431964fac76",
   "metadata": {},
   "outputs": [],
   "source": [
    "df.loc[df['Make'].isin(['LEARJET', 'LEARJET INC', 'Learjet Inc']),'Make'] = 'Learjet'\n",
    "\n",
    "df[df['Make'] == 'Learjet'].value_counts('Aircraft_Category', dropna=False)"
   ]
  },
  {
   "cell_type": "code",
   "execution_count": null,
   "id": "55c4433b-266f-40bf-920c-68389a129ef3",
   "metadata": {},
   "outputs": [],
   "source": [
    "df.loc[df['Make'] == 'Learjet', 'Aircraft_Category'] = 'Airplane'\n",
    "\n",
    "df[df['Aircraft_Category'].isna()]['Make'].value_counts().head(10)"
   ]
  },
  {
   "cell_type": "code",
   "execution_count": null,
   "id": "0c06a2d2-1121-408d-821e-5d0dfc0a56e8",
   "metadata": {},
   "outputs": [],
   "source": [
    "df[df['Make'].str.lower().str.startswith('raven')].value_counts('Make')"
   ]
  },
  {
   "cell_type": "code",
   "execution_count": null,
   "id": "862066b2-90cf-4692-9234-a55a06c38d07",
   "metadata": {},
   "outputs": [],
   "source": [
    "df.loc[df['Make'].isin(['Raven', 'RAVEN INDUSTRIES INC']),'Make'] = 'Raven Industries'\n",
    "\n",
    "df[df['Make'] == 'Raven Industries'].value_counts('Aircraft_Category', dropna=False)"
   ]
  },
  {
   "cell_type": "code",
   "execution_count": null,
   "id": "29d1e19c-4b57-4283-883f-6c91c3c3c2ec",
   "metadata": {},
   "outputs": [],
   "source": [
    "df.loc[df['Make'] == 'Raven Industries', 'Aircraft_Category'] = 'Balloon'\n",
    "\n",
    "df[df['Aircraft_Category'].isna()]['Make'].value_counts().head(10)"
   ]
  },
  {
   "cell_type": "code",
   "execution_count": null,
   "id": "bb92ef6c-ff5c-4ca6-880f-b80efb65521a",
   "metadata": {},
   "outputs": [],
   "source": [
    "df[df['Make'].str.lower().str.startswith('mbb')].value_counts('Make')"
   ]
  },
  {
   "cell_type": "code",
   "execution_count": null,
   "id": "53bb0da9-9e3c-4faa-a1c4-ba1531780867",
   "metadata": {},
   "outputs": [],
   "source": [
    "df.loc[df['Make'].isin(['MBB', 'Mbb-bolkow']),'Make'] = 'Mbb'\n",
    "\n",
    "df[df['Make'] == 'Mbb'].value_counts('Aircraft_Category', dropna=False)"
   ]
  },
  {
   "cell_type": "code",
   "execution_count": null,
   "id": "d73195c1-3ccd-45cb-bde5-e8a38f83fe27",
   "metadata": {},
   "outputs": [],
   "source": [
    "df.loc[df['Make'] == 'Mbb', 'Aircraft_Category'] = 'Helicopter'\n",
    "\n",
    "df[df['Aircraft_Category'].isna()]['Make'].value_counts().head(10)"
   ]
  },
  {
   "cell_type": "code",
   "execution_count": null,
   "id": "50c48dbc-8d8f-4474-812a-b03fef94dcf7",
   "metadata": {},
   "outputs": [],
   "source": [
    "df[df['Make'].str.lower().str.startswith('wac')].value_counts('Make')"
   ]
  },
  {
   "cell_type": "code",
   "execution_count": null,
   "id": "cebc949f-fefc-4d36-a538-09ef17436c42",
   "metadata": {},
   "outputs": [],
   "source": [
    "df.loc[df['Make'].isin(['WACO', 'WACO CLASSIC AIRCRAFT', 'WACO CLASSIC AIRCRAFT CORP', 'Waco Classic Aircraft Corp.', 'Waco Classic Aircraft', 'Waco Classic Aircraft Corp']),'Make'] = 'Waco'\n",
    "\n",
    "df[df['Make'] == 'Waco'].value_counts('Aircraft_Category', dropna=False)"
   ]
  },
  {
   "cell_type": "code",
   "execution_count": null,
   "id": "99212258-aa96-4ccd-9480-0ca3aecbb538",
   "metadata": {},
   "outputs": [],
   "source": [
    "df.loc[df['Make'] == 'Waco', 'Aircraft_Category'] = 'Airplane'\n",
    "\n",
    "df[df['Aircraft_Category'].isna()]['Make'].value_counts().head(10)"
   ]
  },
  {
   "cell_type": "code",
   "execution_count": null,
   "id": "adb144da-276f-4e35-bb38-c56bc752b24c",
   "metadata": {},
   "outputs": [],
   "source": [
    "df[df['Make'].str.lower().str.startswith('schem')].value_counts('Make')"
   ]
  },
  {
   "cell_type": "code",
   "execution_count": null,
   "id": "5556265c-3140-4077-bdfa-b34a3b5d6648",
   "metadata": {},
   "outputs": [],
   "source": [
    "df.loc[df['Make'].isin(['Schempp-hirth', 'SCHEMPP-HIRTH', 'Schempp Hirth', 'SCHEMPP HIRTH', 'SCHEMPP-HIRTH FLUGZEUGBAU', 'SCHEMPP HIRTH FLUGZEUGBAU GMBH', 'SCHEMPP-HIRTH FLUGZEUGBAU GMBH',\n",
    "                       'SCHEMPP-HIRTH K G', 'Schempp-hirth K.g.']),'Make'] = 'Schempp-Hirth'\n",
    "\n",
    "df[df['Make'] == 'Schempp-Hirth'].value_counts('Aircraft_Category', dropna=False)"
   ]
  },
  {
   "cell_type": "code",
   "execution_count": null,
   "id": "c264a593-576d-465f-b7ad-922803f36ab9",
   "metadata": {},
   "outputs": [],
   "source": [
    "df.loc[df['Make'] == 'Schempp-Hirth', 'Aircraft_Category'] = 'Glider'\n",
    "\n",
    "df[df['Aircraft_Category'].isna()]['Make'].value_counts().head(10)"
   ]
  },
  {
   "cell_type": "code",
   "execution_count": null,
   "id": "449bac6c-db57-43ab-a4d8-1055dbbcbf97",
   "metadata": {},
   "outputs": [],
   "source": [
    "df[df['Make'].str.lower().str.startswith('helio')].value_counts('Make')"
   ]
  },
  {
   "cell_type": "code",
   "execution_count": null,
   "id": "8fed41db-0cc6-430e-baa2-91cb1e4f449b",
   "metadata": {},
   "outputs": [],
   "source": [
    "df.loc[df['Make'].isin(['HELIO', 'Helio Aircraft Ltd']),'Make'] = 'Helio'\n",
    "\n",
    "df[df['Make'] == 'Helio'].value_counts('Aircraft_Category', dropna=False)"
   ]
  },
  {
   "cell_type": "code",
   "execution_count": null,
   "id": "be27e280-3d23-4870-8f8d-2223d66b88ce",
   "metadata": {},
   "outputs": [],
   "source": [
    "df.loc[df['Make'] == 'Helio', 'Aircraft_Category'] = 'Airplane'\n",
    "\n",
    "df[df['Aircraft_Category'].isna()]['Make'].value_counts().head(10)"
   ]
  },
  {
   "cell_type": "code",
   "execution_count": null,
   "id": "7bb469bb-9d63-4ad6-867a-3b55da9b5f1d",
   "metadata": {},
   "outputs": [],
   "source": [
    "df[df['Make'].str.lower().str.startswith('schlei')].value_counts('Make')"
   ]
  },
  {
   "cell_type": "code",
   "execution_count": null,
   "id": "1f5716d6-8c2a-47d0-a300-40299fa1f186",
   "metadata": {},
   "outputs": [],
   "source": [
    "df.loc[df['Make'].isin(['ALEXANDER SCHLEICHER GMBH & CO', 'Alexander Schleicher', 'SCHLEICHER', 'SCHLEICHER ALEXANDER GMBH & CO', 'SCHLEICHER ALEXANDER', 'Schlei',\n",
    "                        'Schleicher Alexander Gmbh']),'Make'] = 'Schleicher'\n",
    "\n",
    "df[df['Make'] == 'Schleicher'].value_counts('Aircraft_Category', dropna=False)"
   ]
  },
  {
   "cell_type": "code",
   "execution_count": null,
   "id": "dd6f2922-014a-4540-ac77-d20c6e8c7d04",
   "metadata": {},
   "outputs": [],
   "source": [
    "df.loc[df['Make'] == 'Schleicher', 'Aircraft_Category'] = 'Glider'\n",
    "\n",
    "df[df['Aircraft_Category'].isna()]['Make'].value_counts().head(10)"
   ]
  },
  {
   "cell_type": "code",
   "execution_count": null,
   "id": "4c2d5a85-4599-437e-ab43-f168302bd095",
   "metadata": {},
   "outputs": [],
   "source": [
    "df[df['Make'].str.lower().str.startswith('ercou')].value_counts('Make')"
   ]
  },
  {
   "cell_type": "code",
   "execution_count": null,
   "id": "9500a373-3e9e-41bf-a1cf-8c7372266f83",
   "metadata": {},
   "outputs": [],
   "source": [
    "df.loc[df['Make'].isin(['Ercoupe (eng & Research Corp.)', 'ERCOUPE', 'Ercoupe (Eng & Research Corp.)']),'Make'] = 'Ercoupe'\n",
    "\n",
    "df[df['Make'] == 'Ercoupe'].value_counts('Aircraft_Category', dropna=False)"
   ]
  },
  {
   "cell_type": "code",
   "execution_count": null,
   "id": "647b05b1-dd6c-47ba-8f30-d288e27d1523",
   "metadata": {},
   "outputs": [],
   "source": [
    "df.loc[df['Make'] == 'Ercoupe', 'Aircraft_Category'] = 'Airplane'\n",
    "\n",
    "df[df['Aircraft_Category'].isna()]['Make'].value_counts().head(10)"
   ]
  },
  {
   "cell_type": "code",
   "execution_count": null,
   "id": "bc3181ce-f937-4666-b497-a885afe8df96",
   "metadata": {},
   "outputs": [],
   "source": [
    "df[df['Make'].str.lower().str.startswith('weatherl')].value_counts('Make')"
   ]
  },
  {
   "cell_type": "code",
   "execution_count": null,
   "id": "4890f96c-582d-4f10-a765-47578efb37ee",
   "metadata": {},
   "outputs": [],
   "source": [
    "df.loc[df['Make'].isin(['WEATHERLY AVIATION CO INC', 'WEATHERLY', 'Weatherly Aviation Company Inc']),'Make'] = 'Weatherly'\n",
    "\n",
    "df[df['Make'] == 'Weatherly'].value_counts('Aircraft_Category', dropna=False)"
   ]
  },
  {
   "cell_type": "code",
   "execution_count": null,
   "id": "fd906e04-6891-4959-8e56-127e7d2434f4",
   "metadata": {},
   "outputs": [],
   "source": [
    "df.loc[df['Make'] == 'Weatherly', 'Aircraft_Category'] = 'Airplane'\n",
    "\n",
    "df[df['Aircraft_Category'].isna()]['Make'].value_counts().head(10)"
   ]
  },
  {
   "cell_type": "code",
   "execution_count": null,
   "id": "4b3be74c-d785-46b4-a040-7ed2e728e28d",
   "metadata": {},
   "outputs": [],
   "source": [
    "df[df['Make'].str.lower().str.startswith('ryan')].value_counts('Make')"
   ]
  },
  {
   "cell_type": "code",
   "execution_count": null,
   "id": "bd94292a-85b4-4685-ac6b-28e61fe9d3fc",
   "metadata": {},
   "outputs": [],
   "source": [
    "df.loc[df['Make'].isin(['RYAN', 'RYAN AERONAUTICAL', 'Ryan Aeronautical', 'Ryan Aeronautics']),'Make'] = 'Ryan'\n",
    "\n",
    "df[df['Make'] == 'Ryan'].value_counts('Aircraft_Category', dropna=False)"
   ]
  },
  {
   "cell_type": "code",
   "execution_count": null,
   "id": "48aef3a0-65c6-4f7e-9a0d-5f7b978578b3",
   "metadata": {},
   "outputs": [],
   "source": [
    "df.loc[df['Make'] == 'Ryan', 'Aircraft_Category'] = 'Airplane'\n",
    "\n",
    "df[df['Aircraft_Category'].isna()]['Make'].value_counts().head(10)"
   ]
  },
  {
   "cell_type": "code",
   "execution_count": null,
   "id": "2798855a-cae6-4af0-8478-800ac33b3160",
   "metadata": {},
   "outputs": [],
   "source": [
    "df[df['Make'].str.lower().str.startswith('camer')].value_counts('Make')"
   ]
  },
  {
   "cell_type": "code",
   "execution_count": null,
   "id": "89a16a8c-253e-4c57-9803-2f0e6b0a7916",
   "metadata": {},
   "outputs": [],
   "source": [
    "df.loc[df['Make'].isin(['Cameron Balloons', 'CAMERON BALLOONS US', 'CAMERON', 'CAMERON BALLOONS', 'Cameron Balloon', 'CAMERON BALLOONS U S', 'Cameron Ballon', 'Cameron Balloons US',\n",
    "                       'Cameron Balloons Us']),'Make'] = 'Cameron'\n",
    "\n",
    "df[df['Make'] == 'Cameron'].value_counts('Aircraft_Category', dropna=False)"
   ]
  },
  {
   "cell_type": "code",
   "execution_count": null,
   "id": "9b97df17-f12e-4fc9-8c01-115aec5bc8c5",
   "metadata": {},
   "outputs": [],
   "source": [
    "df.loc[df['Make'] == 'Cameron', 'Aircraft_Category'] = 'Balloon'\n",
    "\n",
    "df[df['Aircraft_Category'].isna()]['Make'].value_counts().head(10)"
   ]
  },
  {
   "cell_type": "code",
   "execution_count": null,
   "id": "e195d644-3936-43a0-aaf0-86855fdb7611",
   "metadata": {},
   "outputs": [],
   "source": [
    "df[df['Make'].str.lower().str.startswith('fokk')].value_counts('Make')"
   ]
  },
  {
   "cell_type": "code",
   "execution_count": null,
   "id": "8259d6d4-5306-4a99-9cf0-ad223565b442",
   "metadata": {},
   "outputs": [],
   "source": [
    "df.loc[df['Make'].isin(['FOKKER']),'Make'] = 'Fokker'\n",
    "\n",
    "df[df['Make'] == 'Fokker'].value_counts('Aircraft_Category', dropna=False)"
   ]
  },
  {
   "cell_type": "code",
   "execution_count": null,
   "id": "d7b75505-2448-47ef-a0b0-d6d46e1de735",
   "metadata": {},
   "outputs": [],
   "source": [
    "df.loc[df['Make'] == 'Fokker', 'Aircraft_Category'] = 'Airplane'\n",
    "\n",
    "df[df['Aircraft_Category'].isna()]['Make'].value_counts().head(10)"
   ]
  },
  {
   "cell_type": "code",
   "execution_count": null,
   "id": "28ecc4a0-bec4-4aa5-8d02-db8889c16c1e",
   "metadata": {},
   "outputs": [],
   "source": [
    "df[df['Make'].str.lower().str.startswith('smith, ted a')].value_counts('Make')"
   ]
  },
  {
   "cell_type": "code",
   "execution_count": null,
   "id": "57f88702-70cd-4f23-bd30-aa028b1f7c18",
   "metadata": {},
   "outputs": [],
   "source": [
    "df.loc[df['Make'].isin(['Smith, Ted Aerostar', 'Ted Smith']),'Make'] = 'Ted Smith Aerostar'\n",
    "\n",
    "df[df['Make'] == 'Ted Smith Aerostar'].value_counts('Aircraft_Category', dropna=False)"
   ]
  },
  {
   "cell_type": "code",
   "execution_count": null,
   "id": "76a29e30-15af-41c6-a944-65285735f73e",
   "metadata": {},
   "outputs": [],
   "source": [
    "df.loc[df['Make'] == 'Ted Smith Aerostar', 'Aircraft_Category'] = 'Airplane'\n",
    "\n",
    "df[df['Aircraft_Category'].isna()]['Make'].value_counts().head(10)"
   ]
  },
  {
   "cell_type": "code",
   "execution_count": null,
   "id": "2eb0b2cf-960a-430c-a8db-8771246a5edf",
   "metadata": {},
   "outputs": [],
   "source": [
    "df[df['Make'].str.lower().str.startswith('rotorw')].value_counts('Make')"
   ]
  },
  {
   "cell_type": "code",
   "execution_count": null,
   "id": "714e009d-602a-4cd7-8104-744649e6545c",
   "metadata": {},
   "outputs": [],
   "source": [
    "df.loc[df['Make'].isin(['ROTORWAY', 'Rotorway Aircraft, Inc.', 'Rotorway Executive']),'Make'] = 'Rotorway'\n",
    "\n",
    "df[df['Make'] == 'Rotorway'].value_counts('Aircraft_Category', dropna=False)"
   ]
  },
  {
   "cell_type": "code",
   "execution_count": null,
   "id": "a539361a-a280-4dd4-b5fe-1a5389588faa",
   "metadata": {},
   "outputs": [],
   "source": [
    "df.loc[df['Make'] == 'Rotorway', 'Aircraft_Category'] = 'Helicopter'\n",
    "\n",
    "df[df['Aircraft_Category'].isna()]['Make'].value_counts().head(10)"
   ]
  },
  {
   "cell_type": "code",
   "execution_count": null,
   "id": "e0b67124-1c55-4bd9-a951-6b5b9f821858",
   "metadata": {},
   "outputs": [],
   "source": [
    "df[df['Make'].str.lower().str.startswith('aviat')].value_counts('Make')"
   ]
  },
  {
   "cell_type": "code",
   "execution_count": null,
   "id": "79e6a7d6-3d03-4aaa-9463-7eca952ced0f",
   "metadata": {},
   "outputs": [],
   "source": [
    "df.loc[df['Make'].isin(['AVIAT', 'AVIAT AIRCRAFT', 'AVIAT AIRCRAFT INC', 'Aviat Aircraft Inc', 'Aviat Aircraft Inc.', 'Aviat Aircraft, Inc.',\n",
    "                       'AVIAT INC', 'Aviat Inc', 'AVIATE']),'Make'] = 'Aviat'\n",
    "\n",
    "df[df['Make'] == 'Aviat'].value_counts('Aircraft_Category', dropna=False)"
   ]
  },
  {
   "cell_type": "code",
   "execution_count": null,
   "id": "fcc6ecb6-af4c-4513-a652-83b5d3bc09bb",
   "metadata": {},
   "outputs": [],
   "source": [
    "df.loc[df['Make'] == 'Aviat', 'Aircraft_Category'] = 'Airplane'\n",
    "\n",
    "df[df['Aircraft_Category'].isna()]['Make'].value_counts().head(10)"
   ]
  },
  {
   "cell_type": "code",
   "execution_count": null,
   "id": "ff00005c-17de-40de-a8eb-aa7b003402a4",
   "metadata": {},
   "outputs": [],
   "source": [
    "df[df['Make'].str.lower().str.startswith('gulfs')].value_counts('Make')"
   ]
  },
  {
   "cell_type": "code",
   "execution_count": null,
   "id": "2437d72b-faf3-4673-bc40-20a5b485dfdc",
   "metadata": {},
   "outputs": [],
   "source": [
    "df.loc[df['Make'].isin(['GULFSTREAM', 'Gulfstream Aerospace', 'GULFSTREAM AEROSPACE', 'Gulfstream Aerospace Corp', 'Gulfstream Aerospace Corp.',\n",
    "                       'Gulfstream Aerospace LP', 'GULFSTREAM AM CORP COMM DIV', 'Gulfstream American', 'GULFSTREAM AMERICAN CORP',\n",
    "                       'Gulfstream American Corp', 'GULFSTREAM AMERICAN CORP.', 'Gulfstream American Corp.', 'GULFSTREAM SCHWEIZER A/C CORP',\n",
    "                       'Gulfstream-schweizer', 'Gulfstream-Schweizer', 'GULFSTREAM-SCHWEIZER', 'GULFSTREAM-SCHWEIZER A/C CORP']),'Make'] = 'Gulfstream'\n",
    "\n",
    "df[df['Make'] == 'Gulfstream'].value_counts('Aircraft_Category', dropna=False)"
   ]
  },
  {
   "cell_type": "code",
   "execution_count": null,
   "id": "68006667-5a92-44aa-8b21-ed2ddae70403",
   "metadata": {},
   "outputs": [],
   "source": [
    "df.loc[df['Make'] == 'Gulfstream', 'Aircraft_Category'] = 'Airplane'\n",
    "\n",
    "df[df['Aircraft_Category'].isna()]['Make'].value_counts().head(10)"
   ]
  },
  {
   "cell_type": "code",
   "execution_count": null,
   "id": "314a5c90-ebe2-4eaf-9b33-c3e037b3be26",
   "metadata": {},
   "outputs": [],
   "source": [
    "df[df['Make'].str.lower().str.startswith('gates')].value_counts('Make')"
   ]
  },
  {
   "cell_type": "code",
   "execution_count": null,
   "id": "9f8b9c2e-e790-4043-9f78-e6c7b7d4ccc9",
   "metadata": {},
   "outputs": [],
   "source": [
    "df.loc[df['Make'].isin(['GATES LEARJET CORP.', 'GATES LEAR JET', 'GATES LEAR JET CORP.', 'GATES LEARJET', 'GATES LEARJET CORP',\n",
    "                        'Gates Lear Jet', 'Gates Learjet Corporation']),'Make'] = 'Gates Learjet'\n",
    "\n",
    "df[df['Make'] == 'Gates Learjet'].value_counts('Aircraft_Category', dropna=False)"
   ]
  },
  {
   "cell_type": "code",
   "execution_count": null,
   "id": "81067b5f-7f77-4e63-a9c1-321e029df989",
   "metadata": {},
   "outputs": [],
   "source": [
    "df.loc[df['Make'] == 'Gates Learjet', 'Aircraft_Category'] = 'Airplane'\n",
    "\n",
    "df[df['Aircraft_Category'].isna()]['Make'].value_counts().head(10)"
   ]
  },
  {
   "cell_type": "code",
   "execution_count": null,
   "id": "eddeccd7-9bf8-4be1-b9d9-63ff2bd8befa",
   "metadata": {},
   "outputs": [],
   "source": [
    "df[df['Make'].str.lower().str.startswith('eipp')].value_counts('Make')"
   ]
  },
  {
   "cell_type": "code",
   "execution_count": null,
   "id": "ce5a3207-1a8a-4927-a28a-401911d3370d",
   "metadata": {},
   "outputs": [],
   "source": [
    "df.loc[df['Make'].isin(['EIPPER', 'EIPPER FORMANCE INC', 'Eippen Aircraft', 'Eipper Formance', 'Eipper Mx Ii Quicksilver', 'Eipper Quicksilver',\n",
    "                       'Eipper Quicksiver E', 'Eipper-formance']),'Make'] = 'Eipper'\n",
    "\n",
    "df[df['Make'] == 'Eipper'].value_counts('Aircraft_Category', dropna=False)"
   ]
  },
  {
   "cell_type": "code",
   "execution_count": null,
   "id": "d9d56d40-9827-4453-90dc-796bb4388d9b",
   "metadata": {},
   "outputs": [],
   "source": [
    "df.loc[df['Make'] == 'Eipper', 'Aircraft_Category'] = 'Airplane'\n",
    "\n",
    "df[df['Aircraft_Category'].isna()]['Make'].value_counts().head(10)"
   ]
  },
  {
   "cell_type": "code",
   "execution_count": null,
   "id": "f9bf6eb8-4817-4e23-8929-4a881bc58a10",
   "metadata": {},
   "outputs": [],
   "source": [
    "df[df['Make'].str.lower().str.startswith('saab')].value_counts('Make')"
   ]
  },
  {
   "cell_type": "code",
   "execution_count": null,
   "id": "e5961532-23ac-4a34-84e1-0601e242d05f",
   "metadata": {},
   "outputs": [],
   "source": [
    "df.loc[df['Make'].isin(['Saab-scania Ab (saab)', 'SAAB', 'Saab-fairchild', 'Saab-scania', 'SAAB-SCANIA', 'SAAB-SCANIA AB',\n",
    "                        'Saab-Scania AB (Saab)']),'Make'] = 'Saab'\n",
    "\n",
    "df[df['Make'] == 'Saab'].value_counts('Aircraft_Category', dropna=False)"
   ]
  },
  {
   "cell_type": "code",
   "execution_count": null,
   "id": "a29bd5ba-d7a7-4daf-9c78-19519da51d72",
   "metadata": {},
   "outputs": [],
   "source": [
    "df.loc[df['Make'] == 'Saab', 'Aircraft_Category'] = 'Airplane'\n",
    "\n",
    "df[df['Aircraft_Category'].isna()]['Make'].value_counts().head(10)"
   ]
  },
  {
   "cell_type": "code",
   "execution_count": null,
   "id": "bffcd7fe-f15f-4c1b-91b2-404790663b09",
   "metadata": {},
   "outputs": [],
   "source": [
    "df[df['Make'].str.lower().str.startswith('canada')].value_counts('Make')"
   ]
  },
  {
   "cell_type": "code",
   "execution_count": null,
   "id": "374ba1b8-9cd4-4288-9bdc-03a54e402144",
   "metadata": {},
   "outputs": [],
   "source": [
    "df.loc[df['Make'].isin(['CANADAIR', 'CANADAIR LTD']),'Make'] = 'Canadair'\n",
    "\n",
    "df[df['Make'] == 'Canadair'].value_counts('Aircraft_Category', dropna=False)"
   ]
  },
  {
   "cell_type": "code",
   "execution_count": null,
   "id": "cf8ea7b8-0872-4632-877c-5ccadee8fc03",
   "metadata": {},
   "outputs": [],
   "source": [
    "df.loc[df['Make'] == 'Canadair', 'Aircraft_Category'] = 'Airplane'\n",
    "\n",
    "df[df['Aircraft_Category'].isna()]['Make'].value_counts().head(10)"
   ]
  },
  {
   "cell_type": "code",
   "execution_count": null,
   "id": "655fc346-a0ab-40ef-ad76-1d6525a2edae",
   "metadata": {},
   "outputs": [],
   "source": [
    "df[df['Make'].str.lower().str.startswith('wsk')].value_counts('Make')"
   ]
  },
  {
   "cell_type": "code",
   "execution_count": null,
   "id": "4330aae3-6603-4ffc-a51b-10565e117eee",
   "metadata": {},
   "outputs": [],
   "source": [
    "df.loc[df['Make'].isin(['Wsk', 'Wsk Pzl', 'WSK PZL MIELEC', 'WSK-MIELEC', 'WSK-PZL MEILEC', 'Wsk-pzl Mielec',\n",
    "                        'Wsk-pzl Mielic']),'Make'] = 'Wsk Pzl Mielec'\n",
    "\n",
    "df[df['Make'] == 'Wsk Pzl Mielec'].value_counts('Aircraft_Category', dropna=False)"
   ]
  },
  {
   "cell_type": "code",
   "execution_count": null,
   "id": "d510cadf-f93d-4bb4-a57e-99edddf429c0",
   "metadata": {},
   "outputs": [],
   "source": [
    "df.loc[df['Make'] == 'Wsk Pzl Mielec', 'Aircraft_Category'] = 'Airplane'\n",
    "\n",
    "df[df['Aircraft_Category'].isna()]['Make'].value_counts().head(10)"
   ]
  },
  {
   "cell_type": "code",
   "execution_count": null,
   "id": "0a9dcc3b-576d-4a68-a38b-6afb28ae9d1e",
   "metadata": {},
   "outputs": [],
   "source": [
    "df[df['Make'].str.lower().str.startswith('aerot')].value_counts('Make')"
   ]
  },
  {
   "cell_type": "code",
   "execution_count": null,
   "id": "deeabdd2-9635-453b-9f08-e54336893263",
   "metadata": {},
   "outputs": [],
   "source": [
    "df.loc[df['Make'].isin(['AEROTEK', 'AEROTEK INC', 'Aerotek-pitts', 'Aerotrek']),'Make'] = 'Aerotek'\n",
    "\n",
    "df[df['Make'] == 'Aerotek'].value_counts('Aircraft_Category', dropna=False)"
   ]
  },
  {
   "cell_type": "code",
   "execution_count": null,
   "id": "008f879e-0dfd-4e9f-b98f-16c5a0341ca3",
   "metadata": {},
   "outputs": [],
   "source": [
    "df.loc[df['Make'] == 'Aerotek', 'Aircraft_Category'] = 'Airplane'\n",
    "\n",
    "df[df['Aircraft_Category'].isna()]['Make'].value_counts().head(10)"
   ]
  },
  {
   "cell_type": "code",
   "execution_count": null,
   "id": "b0fa094d-1f76-4ff5-9b1e-d6e3b136343e",
   "metadata": {},
   "outputs": [],
   "source": [
    "df[df['Make'].str.lower().str.startswith('conv')].value_counts('Make')"
   ]
  },
  {
   "cell_type": "code",
   "execution_count": null,
   "id": "70395504-38e0-4910-8e88-1e1ae8475201",
   "metadata": {},
   "outputs": [],
   "source": [
    "df.loc[df['Make'].isin(['Convair Div. Of Gen. Dynamics', 'CONVAIR']),'Make'] = 'Convair'\n",
    "\n",
    "df[df['Make'] == 'Convair'].value_counts('Aircraft_Category', dropna=False)"
   ]
  },
  {
   "cell_type": "code",
   "execution_count": null,
   "id": "45a5215a-b776-4cf9-b77f-ae01970d9868",
   "metadata": {},
   "outputs": [],
   "source": [
    "df.loc[df['Make'] == 'Convair', 'Aircraft_Category'] = 'Airplane'\n",
    "\n",
    "df[df['Aircraft_Category'].isna()]['Make'].value_counts().head(10)"
   ]
  },
  {
   "cell_type": "code",
   "execution_count": null,
   "id": "4ad86bd3-4e90-408b-9ec5-f39dc24e9627",
   "metadata": {},
   "outputs": [],
   "source": [
    "df['Aircraft_Category'].value_counts(dropna=False)"
   ]
  },
  {
   "cell_type": "markdown",
   "id": "e82e86a1-adbd-483b-b29d-aa38c7fb720f",
   "metadata": {},
   "source": [
    "We are down to about 6000 empty category entries at this point. The column for Amateur_Built may enable us to remove a number of unneeded rows."
   ]
  },
  {
   "cell_type": "code",
   "execution_count": null,
   "id": "db5c2857-c7fb-4856-aa19-ce96bfb71fbe",
   "metadata": {},
   "outputs": [],
   "source": [
    "# show the amateur_built value_counts for the empty category entries\n",
    "df[df['Aircraft_Category'].isna()]['Amateur_Built'].value_counts(dropna=False)"
   ]
  },
  {
   "cell_type": "markdown",
   "id": "39a22a88-c69a-4d2b-a5f1-21e7c8d4704c",
   "metadata": {},
   "source": [
    "So we can drop the almost 4000 rows that are listed as Amateur_Built"
   ]
  },
  {
   "cell_type": "code",
   "execution_count": null,
   "id": "699d0413-44cd-4e2d-a949-abde0bdc09a0",
   "metadata": {},
   "outputs": [],
   "source": [
    "df = df.drop(df[(df['Amateur_Built'] == 'Yes') & (df['Aircraft_Category'].isna())].index)\n",
    "\n",
    "df[df['Aircraft_Category'].isna()]['Amateur_Built'].value_counts(dropna=False)"
   ]
  },
  {
   "cell_type": "code",
   "execution_count": null,
   "id": "df14648b-a4b1-4e5a-aedd-715bbc738485",
   "metadata": {},
   "outputs": [],
   "source": [
    "df[df['Aircraft_Category'].isna()]['Make'].value_counts().head(10)"
   ]
  },
  {
   "cell_type": "code",
   "execution_count": null,
   "id": "580f3cfc-e1cf-4602-b384-0bd3388297d1",
   "metadata": {},
   "outputs": [],
   "source": [
    "df[df['Make'].str.lower().str.startswith('navi')].value_counts('Make')"
   ]
  },
  {
   "cell_type": "code",
   "execution_count": null,
   "id": "6d6aba58-aecb-4803-ac6f-252cf9fb6e2c",
   "metadata": {},
   "outputs": [],
   "source": [
    "df.loc[df['Make'].isin(['NAVION']),'Make'] = 'Navion'\n",
    "\n",
    "df[df['Make'] == 'Navion'].value_counts('Aircraft_Category', dropna=False)"
   ]
  },
  {
   "cell_type": "code",
   "execution_count": null,
   "id": "931df015-19ba-4a43-b4a1-160f614f44b9",
   "metadata": {},
   "outputs": [],
   "source": [
    "df.loc[df['Make'] == 'Navion', 'Aircraft_Category'] = 'Airplane'\n",
    "\n",
    "df[df['Aircraft_Category'].isna()]['Make'].value_counts().head(10)"
   ]
  },
  {
   "cell_type": "code",
   "execution_count": null,
   "id": "9ed4c235-6c6b-4e29-92f1-e1b6d9990b47",
   "metadata": {},
   "outputs": [],
   "source": [
    "df[df['Make'].str.lower().str.startswith('euroc')].value_counts('Make')"
   ]
  },
  {
   "cell_type": "code",
   "execution_count": null,
   "id": "e06f48ab-ee82-494e-8ae9-aa93b5a378bc",
   "metadata": {},
   "outputs": [],
   "source": [
    "df.loc[df['Make'].isin(['EUROCOPTER', 'Eurocopter France', 'EUROCOPTER DEUTSCHLAND GMBH', 'Eurocopter Deutschland', 'EUROCOPTER FRANCE',\n",
    "                        'Eurocopter Deutsch', 'Eurocopter Deutschland Gmbh']),'Make'] = 'Eurocopter'\n",
    "\n",
    "df[df['Make'] == 'Eurocopter'].value_counts('Aircraft_Category', dropna=False)"
   ]
  },
  {
   "cell_type": "code",
   "execution_count": null,
   "id": "d5989610-c2df-40ea-8882-092da4d39b40",
   "metadata": {},
   "outputs": [],
   "source": [
    "df[df['Make'].str.lower().str.startswith('lusc')].value_counts('Make')"
   ]
  },
  {
   "cell_type": "code",
   "execution_count": null,
   "id": "4befab23-3233-4257-97a3-bf70d3d442dd",
   "metadata": {},
   "outputs": [],
   "source": [
    "df.loc[df['Make'].isin(['LUSCOMBE', 'Luscombe Silvaire Aircraft Co.']),'Make'] = 'Luscombe'\n",
    "\n",
    "df[df['Make'] == 'Luscombe'].value_counts('Aircraft_Category', dropna=False)"
   ]
  },
  {
   "cell_type": "code",
   "execution_count": null,
   "id": "d9508ecd-26c7-466a-8b3a-2951cf8f2d0e",
   "metadata": {},
   "outputs": [],
   "source": [
    "df[df['Make'].str.lower().str.startswith('stins')].value_counts('Make')"
   ]
  },
  {
   "cell_type": "code",
   "execution_count": null,
   "id": "db034679-e9f3-425a-bfa9-9cbbee21f91b",
   "metadata": {},
   "outputs": [],
   "source": [
    "df.loc[df['Make'].isin(['STINSON']),'Make'] = 'Stinson'\n",
    "\n",
    "df[df['Make'] == 'Stinson'].value_counts('Aircraft_Category', dropna=False)"
   ]
  },
  {
   "cell_type": "code",
   "execution_count": null,
   "id": "f7152261-2740-4b62-9224-e62741a9145c",
   "metadata": {},
   "outputs": [],
   "source": [
    "df[df['Make'].str.lower().str.startswith('soca')].value_counts('Make')"
   ]
  },
  {
   "cell_type": "code",
   "execution_count": null,
   "id": "656bce8e-daf8-4364-ac2b-87a618a137fa",
   "metadata": {},
   "outputs": [],
   "source": [
    "df.loc[df['Make'].isin(['SOCATA', 'Socata-Groupe Aerospatiale']),'Make'] = 'Socata'\n",
    "\n",
    "df[df['Make'] == 'Socata'].value_counts('Aircraft_Category', dropna=False)"
   ]
  },
  {
   "cell_type": "code",
   "execution_count": null,
   "id": "9212c869-1d02-4051-ba74-c8d77b7cce57",
   "metadata": {},
   "outputs": [],
   "source": [
    "df[df['Make'].str.lower().str.startswith('britt')].value_counts('Make')"
   ]
  },
  {
   "cell_type": "code",
   "execution_count": null,
   "id": "c12ba4f3-2117-4b6d-a2f4-551ee94098fc",
   "metadata": {},
   "outputs": [],
   "source": [
    "df.loc[df['Make'].isin(['Britten-norman', 'BRITTEN NORMAN', 'BRITTEN-NORMAN', 'Britten Norman']),'Make'] = 'Britten-Norman'\n",
    "\n",
    "df[df['Make'] == 'Britten-Norman'].value_counts('Aircraft_Category', dropna=False)"
   ]
  },
  {
   "cell_type": "code",
   "execution_count": null,
   "id": "334f8405-c7f0-465a-b028-add7e6f021a0",
   "metadata": {},
   "outputs": [],
   "source": [
    "df[df['Make'].str.lower().str.startswith('kama')].value_counts('Make')"
   ]
  },
  {
   "cell_type": "code",
   "execution_count": null,
   "id": "329de566-0cd8-4b15-8902-4241c0ae6f98",
   "metadata": {},
   "outputs": [],
   "source": [
    "df.loc[df['Make'].isin(['KAMAN', 'KAMAN AEROSPACE CORP']),'Make'] = 'Kaman'\n",
    "\n",
    "df[df['Make'] == 'Kaman'].value_counts('Aircraft_Category', dropna=False)"
   ]
  },
  {
   "cell_type": "markdown",
   "id": "8b4bc2c3-2e8a-4b74-98c5-d1154074b481",
   "metadata": {},
   "source": [
    "There's one plane listed for Kaman. What is it?"
   ]
  },
  {
   "cell_type": "code",
   "execution_count": null,
   "id": "9ccc951d-1738-427a-98ef-cf39e589cce0",
   "metadata": {},
   "outputs": [],
   "source": [
    "# what are the value_counts for Model when Aircraft_Category is Airplane and Make is Kaman\n",
    "df[(df['Aircraft_Category'] == ('Airplane')) & (df['Make'] == 'Kaman')]['Model'].value_counts(dropna=False)"
   ]
  },
  {
   "cell_type": "markdown",
   "id": "5debff20-40b7-4769-bfab-a5cdb00d3753",
   "metadata": {},
   "source": [
    "The K1200 is a helicopter, so that entry is wrong."
   ]
  },
  {
   "cell_type": "code",
   "execution_count": null,
   "id": "e51586cf-d9db-4fa2-a8b2-b8335b8560d6",
   "metadata": {},
   "outputs": [],
   "source": [
    "df[df['Make'].str.lower().str.startswith('short b')].value_counts('Make')"
   ]
  },
  {
   "cell_type": "code",
   "execution_count": null,
   "id": "bfc50998-c0c7-4081-bc34-b623a2217a12",
   "metadata": {},
   "outputs": [],
   "source": [
    "df.loc[df['Make'].isin(['SHORT BROS', 'SHORT BROS. & HARLAND', 'Short Bros.', 'SHORT BROTHERS & HARLAND LTD.',\n",
    "                        'SHORT BROTHERS PLC']),'Make'] = 'Short Brothers'\n",
    "\n",
    "df[df['Make'] == 'Short Brothers'].value_counts('Aircraft_Category', dropna=False)"
   ]
  },
  {
   "cell_type": "code",
   "execution_count": null,
   "id": "57613a9a-d9b7-4d49-8722-3b00252fa253",
   "metadata": {},
   "outputs": [],
   "source": [
    "df[df['Make'].str.lower().str.startswith('rol')].value_counts('Make')"
   ]
  },
  {
   "cell_type": "code",
   "execution_count": null,
   "id": "85fc2356-307a-425f-86db-445ced4e1dc5",
   "metadata": {},
   "outputs": [],
   "source": [
    "df.loc[df['Make'].isin(['Rolladen-schneider', 'ROLLADEN-SCHNEIDER', 'ROLLADEN-SCHNEIDER OHG', 'ROLLADEN SCHNEIDER OHG', 'ROLLADEN-SCHNEIDER GMBH',\n",
    "                       'Rolladen Schneider', 'Rolladen-schneider Gmbh']),'Make'] = 'Rolladen-Schneider'\n",
    "\n",
    "df[df['Make'] == 'Rolladen-Schneider'].value_counts('Aircraft_Category', dropna=False)"
   ]
  },
  {
   "cell_type": "code",
   "execution_count": null,
   "id": "dc18fd05-c551-40b6-a94f-09bb13e43ae6",
   "metadata": {},
   "outputs": [],
   "source": [
    "df[df['Make'].str.lower().str.startswith('lak')].value_counts('Make')"
   ]
  },
  {
   "cell_type": "code",
   "execution_count": null,
   "id": "774c3889-0e2e-45ca-baa9-0b940a0619c6",
   "metadata": {},
   "outputs": [],
   "source": [
    "df.loc[df['Make'].isin(['LAKE']),'Make'] = 'Lake'\n",
    "\n",
    "df[df['Make'] == 'Lake'].value_counts('Aircraft_Category', dropna=False)"
   ]
  },
  {
   "cell_type": "code",
   "execution_count": null,
   "id": "73dd7818-839f-4dcf-aabb-ba39000664f8",
   "metadata": {},
   "outputs": [],
   "source": [
    "# fill in the previous makes for their respective categories\n",
    "df.loc[df['Make'].isin(['Rolladen-Schneider']),'Aircraft_Category'] = 'Glider'\n",
    "df.loc[df['Make'].isin(['Kaman', 'Eurocopter']),'Aircraft_Category'] = 'Helicopter'\n",
    "df.loc[df['Make'].isin(['Britten-Norman', 'Socata', 'Stinson', 'Luscombe', 'Short Brothers', 'Lake']),'Aircraft_Category'] = 'Airplane'\n",
    "\n",
    "df[df['Aircraft_Category'].isna()]['Make'].value_counts().head(10)"
   ]
  },
  {
   "cell_type": "code",
   "execution_count": null,
   "id": "d155848a-ba07-4d50-8caa-2bfd82827085",
   "metadata": {},
   "outputs": [],
   "source": [
    "df[df['Make'].str.lower().str.startswith('pila')].value_counts('Make')"
   ]
  },
  {
   "cell_type": "code",
   "execution_count": null,
   "id": "1c42ed37-fe37-4270-96fe-1f631f619153",
   "metadata": {},
   "outputs": [],
   "source": [
    "df.loc[df['Make'].isin(['PILATUS', 'PILATUS AIRCRAFT LTD', 'PILATUS BRITTEN-NORMAN', 'Pilatus Aircraft', 'Pilatus Britten-norman']),'Make'] = 'Pilatus'\n",
    "\n",
    "df[df['Make'] == 'Pilatus'].value_counts('Aircraft_Category', dropna=False)"
   ]
  },
  {
   "cell_type": "code",
   "execution_count": null,
   "id": "f27c3c75-bbd1-4109-b6e8-dfbe4c00f075",
   "metadata": {},
   "outputs": [],
   "source": [
    "df[df['Make'].str.lower().str.startswith('agu')].value_counts('Make')"
   ]
  },
  {
   "cell_type": "code",
   "execution_count": null,
   "id": "94af061e-1773-4aa4-9276-bd12a78dd68b",
   "metadata": {},
   "outputs": [],
   "source": [
    "df.loc[df['Make'].isin(['AGUSTA', 'AGUSTA SPA', 'AGUSTA BELL', 'AGUSTAWESTLAND', 'AGUSTA AEROSPACE CORP', 'AGUSTAWESTLAND SPA',\n",
    "                       'AGUSTAWESTLAND PHILADELPHIA', 'AGUSTAWESTLAND PHILADELPHIA CO', 'Agusta Spa', 'Agusta-bell', 'Agusta/Westland',\n",
    "                       'AgustaWestland', 'AgustadWestland']),'Make'] = 'Agusta'\n",
    "\n",
    "df[df['Make'] == 'Agusta'].value_counts('Aircraft_Category', dropna=False)"
   ]
  },
  {
   "cell_type": "code",
   "execution_count": null,
   "id": "9bb2fc98-3224-4b7b-aae5-8763db85a19b",
   "metadata": {},
   "outputs": [],
   "source": [
    "df[df['Make'].str.lower().str.startswith('texas h')].value_counts('Make')"
   ]
  },
  {
   "cell_type": "code",
   "execution_count": null,
   "id": "8d0393e5-d5f1-44f2-a9ea-8da095acbb95",
   "metadata": {},
   "outputs": [],
   "source": [
    "df.loc[df['Make'].isin(['TEXAS HELICOPTER CORP', 'Texas Helicopter Corp.', 'Texas Helicopter Corporation']),'Make'] = 'Texas Helicopter'\n",
    "\n",
    "df[df['Make'] == 'Texas Helicopter'].value_counts('Aircraft_Category', dropna=False)"
   ]
  },
  {
   "cell_type": "code",
   "execution_count": null,
   "id": "62134dd5-a15f-412d-9266-158a36603889",
   "metadata": {},
   "outputs": [],
   "source": [
    "df[df['Make'].str.lower().str.startswith('contin')].value_counts('Make')"
   ]
  },
  {
   "cell_type": "code",
   "execution_count": null,
   "id": "3089cde6-a2b5-494f-ae45-d22b1c299144",
   "metadata": {},
   "outputs": [],
   "source": [
    "df.loc[df['Make'].isin(['CONTINENTAL COPTERS INC.', 'Continental', 'CONTINENTAL COPTERS INC', 'CONTINENTAL COPTERS',\n",
    "                        'Continental Mk5a']),'Make'] = 'Continental Copters'\n",
    "\n",
    "df[df['Make'] == 'Continental Copters'].value_counts('Aircraft_Category', dropna=False)"
   ]
  },
  {
   "cell_type": "code",
   "execution_count": null,
   "id": "8129294d-6cd9-43f9-bec1-e3b5641c4ffe",
   "metadata": {},
   "outputs": [],
   "source": [
    "df[df['Make'].str.lower().str.startswith('alon')].value_counts('Make')"
   ]
  },
  {
   "cell_type": "code",
   "execution_count": null,
   "id": "2ad4d438-9038-4815-b444-5c95155c3e86",
   "metadata": {},
   "outputs": [],
   "source": [
    "df.loc[df['Make'].isin(['ALON', 'Alon Aircoupe']),'Make'] = 'Alon'\n",
    "\n",
    "df[df['Make'] == 'Alon'].value_counts('Aircraft_Category', dropna=False)"
   ]
  },
  {
   "cell_type": "code",
   "execution_count": null,
   "id": "01cb1315-8e3c-45c0-bd17-f8b772eb5afe",
   "metadata": {},
   "outputs": [],
   "source": [
    "df[df['Make'].str.lower().str.startswith('hawk')].value_counts('Make')"
   ]
  },
  {
   "cell_type": "code",
   "execution_count": null,
   "id": "df15b451-d5a0-47a9-8eb8-d1c7919ad189",
   "metadata": {},
   "outputs": [],
   "source": [
    "df.loc[df['Make'].isin(['HAWKER', 'HAWKER AIRCRAFT LTD', 'Hawker Aircraft Ltd', 'Hawker Aircraft Ltd.', 'HAWKER BEECH', 'Hawker Beech',\n",
    "                       'Hawker Beechcraft', 'HAWKER BEECHCRAFT', 'HAWKER BEECHCRAFT CORP', 'Hawker Beechcraft Corp.', 'Hawker Beechcraft Corporation',\n",
    "                       'HAWKER BEECHCRAFT CORPORATION', 'Hawker Siddeley', 'HAWKER SIDDELEY', 'Hawker Siddely', 'Hawker-Beechcraft',\n",
    "                        'Hawker-beechcraft', 'Hawker-Beechcraft Corporation']),'Make'] = 'Hawker'\n",
    "\n",
    "df[df['Make'] == 'Hawker'].value_counts('Aircraft_Category', dropna=False)"
   ]
  },
  {
   "cell_type": "code",
   "execution_count": null,
   "id": "ae4be60d-cdfa-411f-96c6-065e0967e292",
   "metadata": {},
   "outputs": [],
   "source": [
    "df[df['Make'].str.lower().str.startswith('let')].value_counts('Make')"
   ]
  },
  {
   "cell_type": "code",
   "execution_count": null,
   "id": "f36c2a93-e37e-4d23-8559-a6dbb374919a",
   "metadata": {},
   "outputs": [],
   "source": [
    "df.loc[df['Make'].isin(['LET', 'Let Np Kinovice']),'Make'] = 'Let'\n",
    "\n",
    "df[df['Make'] == 'Let'].value_counts('Aircraft_Category', dropna=False)"
   ]
  },
  {
   "cell_type": "code",
   "execution_count": null,
   "id": "a270a2f7-f234-412a-a58b-024c1b256c19",
   "metadata": {},
   "outputs": [],
   "source": [
    "df[df['Make'].str.lower().str.startswith('diam')].value_counts('Make')"
   ]
  },
  {
   "cell_type": "code",
   "execution_count": null,
   "id": "6170c6c0-0234-4f77-bdba-3626c90ac816",
   "metadata": {},
   "outputs": [],
   "source": [
    "df.loc[df['Make'].isin(['DIAMOND', 'Diamond', 'Diamond Aicraft Industries Inc', 'Diamond Aircraft', 'DIAMOND AIRCRAFT', 'DIAMOND AIRCRAFT IND GMBH',\n",
    "                       'DIAMOND AIRCRAFT IND INC', 'DIAMOND AIRCRAFT INDUSTRIES', 'DIAMOND AIRCRAFT INDUSTRIES IN',\n",
    "                        'Diamond Aircraft Industry Inc']),'Make'] = 'Diamond Aircraft Industries'\n",
    "\n",
    "df[df['Make'] == 'Diamond Aircraft Industries'].value_counts('Aircraft_Category', dropna=False)"
   ]
  },
  {
   "cell_type": "code",
   "execution_count": null,
   "id": "06692f08-01ef-47aa-8440-46478e321c30",
   "metadata": {},
   "outputs": [],
   "source": [
    "df[df['Make'].str.lower().str.startswith('sia')].value_counts('Make')"
   ]
  },
  {
   "cell_type": "code",
   "execution_count": null,
   "id": "c31cb3d5-086b-415b-aa93-601d18606f70",
   "metadata": {},
   "outputs": [],
   "source": [
    "df.loc[df['Make'].isin(['Siai-marchetti', 'SIAI-MARCHETTI', 'SIAI MARCHETTI', 'Siai Marchetti', 'Siai-Marchetti']),'Make'] = 'SIAI-Marchetti'\n",
    "\n",
    "df[df['Make'] == 'SIAI-Marchetti'].value_counts('Aircraft_Category', dropna=False)"
   ]
  },
  {
   "cell_type": "code",
   "execution_count": null,
   "id": "a21eeabc-a4f2-4990-bf9a-621ebfd0fc1d",
   "metadata": {},
   "outputs": [],
   "source": [
    "# fill in the previous makes for their respective categories\n",
    "df.loc[df['Make'].isin(['Let']),'Aircraft_Category'] = 'Glider'\n",
    "df.loc[df['Make'].isin(['Continental Copters', 'Texas Helicopter', 'Agusta']),'Aircraft_Category'] = 'Helicopter'\n",
    "df.loc[df['Make'].isin(['Pilatus', 'Alon', 'Hawker', 'Diamond Aircraft Industries', 'SIAI-Marchetti']),'Aircraft_Category'] = 'Airplane'\n",
    "\n",
    "df[df['Aircraft_Category'].isna()]['Make'].value_counts().head(10)"
   ]
  },
  {
   "cell_type": "code",
   "execution_count": null,
   "id": "725256f4-904b-4b95-b134-9a3b9b0c4f3e",
   "metadata": {},
   "outputs": [],
   "source": [
    "df[df['Make'].str.lower().str.startswith('i.c')].value_counts('Make')"
   ]
  },
  {
   "cell_type": "code",
   "execution_count": null,
   "id": "cb1da069-2287-4758-aa9c-13c5b98ffd66",
   "metadata": {},
   "outputs": [],
   "source": [
    "df.loc[df['Make'].isin(['I.c.a. Brasov', 'I.C.A.-BRASOV (ROMANIA)', 'I.C.A.-Brasov', 'I.c.a. Brasov – Romania', 'I.c.a.-brasov',\n",
    "                       'ICA BRASOV']),'Make'] = 'ICA Brasov'\n",
    "\n",
    "df[df['Make'] == 'ICA Brasov'].value_counts('Aircraft_Category', dropna=False)"
   ]
  },
  {
   "cell_type": "code",
   "execution_count": null,
   "id": "d03f3e97-8250-444c-8891-0ce4550e5390",
   "metadata": {},
   "outputs": [],
   "source": [
    "df[df['Make'].str.lower().str.startswith('isr')].value_counts('Make')"
   ]
  },
  {
   "cell_type": "code",
   "execution_count": null,
   "id": "b759872e-76a3-46dc-a08a-2e4d066b4906",
   "metadata": {},
   "outputs": [],
   "source": [
    "df.loc[df['Make'].isin(['ISRAEL AIRCRAFT INDUSTRIES', 'ISRAEL AEROSPACE INDUSTRIESLTD']),'Make'] = 'Israel Aircraft Industries'\n",
    "\n",
    "df[df['Make'] == 'Israel Aircraft Industries'].value_counts('Aircraft_Category', dropna=False)"
   ]
  },
  {
   "cell_type": "code",
   "execution_count": null,
   "id": "1e108f98-1eac-4061-a8a1-ea574c19b1a2",
   "metadata": {},
   "outputs": [],
   "source": [
    "df[df['Make'].str.lower().str.startswith('dorni')].value_counts('Make')"
   ]
  },
  {
   "cell_type": "code",
   "execution_count": null,
   "id": "a079efd6-5fda-4302-a47c-68d8c8dcfa84",
   "metadata": {},
   "outputs": [],
   "source": [
    "df.loc[df['Make'].isin(['DORNIER', 'DORNIER GMBH']),'Make'] = 'Dornier'\n",
    "\n",
    "df[df['Make'] == 'Dornier'].value_counts('Aircraft_Category', dropna=False)"
   ]
  },
  {
   "cell_type": "code",
   "execution_count": null,
   "id": "80340a61-b44c-456e-b7d0-8754f6600e8b",
   "metadata": {},
   "outputs": [],
   "source": [
    "df[df['Make'].str.lower().str.startswith('sno')].value_counts('Make')"
   ]
  },
  {
   "cell_type": "code",
   "execution_count": null,
   "id": "b96696e4-d205-4bb6-a625-928a25eb4768",
   "metadata": {},
   "outputs": [],
   "source": [
    "df.loc[df['Make'].isin(['SNOW']),'Make'] = 'Snow'\n",
    "\n",
    "df[df['Make'] == 'Snow'].value_counts('Aircraft_Category', dropna=False)"
   ]
  },
  {
   "cell_type": "code",
   "execution_count": null,
   "id": "810be96e-2ebc-4b98-af61-bae28a5d4a4d",
   "metadata": {},
   "outputs": [],
   "source": [
    "df[df['Make'].str.lower().str.startswith('yako')].value_counts('Make')"
   ]
  },
  {
   "cell_type": "code",
   "execution_count": null,
   "id": "f7810893-3125-472b-b388-210af202da45",
   "metadata": {},
   "outputs": [],
   "source": [
    "df.loc[df['Make'].isin(['YAKOVLEV', 'YAKOVLEV/CHINNERY', 'YAKOVLEV/DAY']),'Make'] = 'Yakovlev'\n",
    "\n",
    "df[df['Make'] == 'Yakovlev'].value_counts('Aircraft_Category', dropna=False)"
   ]
  },
  {
   "cell_type": "code",
   "execution_count": null,
   "id": "3b3f22a0-557f-4ae0-9705-4a533154d800",
   "metadata": {},
   "outputs": [],
   "source": [
    "df[df['Make'].str.lower().str.startswith('thund')].value_counts('Make')"
   ]
  },
  {
   "cell_type": "code",
   "execution_count": null,
   "id": "1e23ab42-8e97-44b3-8e49-dabf27de61aa",
   "metadata": {},
   "outputs": [],
   "source": [
    "df.loc[df['Make'].isin(['Thunder And Colt', 'Thunder Balloons, Ltd.', 'THUNDER & COLT', 'THUNDER & COLT AIRBORNE AMER',\n",
    "                        'Thunder & Colt Ltd', 'COLT BALLOONS', 'LINDSTRAND BALLOONS', 'Lindstrand Balloons', 'Lindstrand',\n",
    "                       'LINDSTRAND', 'LINDSTRAND BALLOONS USA']),'Make'] = 'Thunder & Colt Balloons'\n",
    "\n",
    "df[df['Make'] == 'Thunder & Colt Balloons'].value_counts('Aircraft_Category', dropna=False)"
   ]
  },
  {
   "cell_type": "code",
   "execution_count": null,
   "id": "98598f93-b7e8-49a2-877d-4fdc5ed586ef",
   "metadata": {},
   "outputs": [],
   "source": [
    "df[df['Make'] == 'Callair'].value_counts('Aircraft_Category', dropna=False)"
   ]
  },
  {
   "cell_type": "code",
   "execution_count": null,
   "id": "a7724235-95e2-4e3c-bd61-4ad2a3c4f294",
   "metadata": {},
   "outputs": [],
   "source": [
    "df[df['Make'].str.lower().str.startswith('garli')].value_counts('Make')"
   ]
  },
  {
   "cell_type": "code",
   "execution_count": null,
   "id": "45b1703a-707d-45b4-a7f7-7fcb1c40c7ad",
   "metadata": {},
   "outputs": [],
   "source": [
    "df.loc[df['Make'].isin(['Garlick', 'GARLICK', 'GARLICK HELICOPTERS INC', 'Garlick Helicipters Inc.', 'Garlick Helicopters Inc',\n",
    "                        'Garlick Helicopters Inc.']),'Make'] = 'Garlick Helicopters'\n",
    "\n",
    "df[df['Make'] == 'Garlick Helicopters'].value_counts('Aircraft_Category', dropna=False)"
   ]
  },
  {
   "cell_type": "code",
   "execution_count": null,
   "id": "9863528c-5add-400a-bea2-d6f716f03f09",
   "metadata": {},
   "outputs": [],
   "source": [
    "df[df['Make'].str.lower().str.startswith('cirr')].value_counts('Make')"
   ]
  },
  {
   "cell_type": "code",
   "execution_count": null,
   "id": "3101689e-bf4c-4db4-942f-7aa717a12121",
   "metadata": {},
   "outputs": [],
   "source": [
    "df.loc[df['Make'].isin(['CIRRUS DESIGN CORP', 'CIRRUS', 'Cirrus Design', 'CIRRUS DESIGN', 'Cirrus Design Corp', 'Cirrus Design Corp.',\n",
    "                        'CIRRUS DESIGN CORP.', 'Cirrus Design Corporation', 'CIRRUS DESIGN CORPORATION']),'Make'] = 'Cirrus'\n",
    "\n",
    "df[df['Make'] == 'Cirrus'].value_counts('Aircraft_Category', dropna=False)"
   ]
  },
  {
   "cell_type": "code",
   "execution_count": null,
   "id": "68ebaf93-7a68-4207-a218-4ca442e4b8fa",
   "metadata": {},
   "outputs": [],
   "source": [
    "# fill in the previous makes for their respective categories\n",
    "df.loc[df['Make'].isin(['Thunder & Colt Balloons']),'Aircraft_Category'] = 'Balloon'\n",
    "df.loc[df['Make'].isin(['ICA Brasov']),'Aircraft_Category'] = 'Glider'\n",
    "df.loc[df['Make'].isin(['Garlick Helicopters']),'Aircraft_Category'] = 'Helicopter'\n",
    "df.loc[df['Make'].isin(['Callair', 'Israel Aircraft Industries', 'Dornier', 'Snow', 'Yakovlev', 'Cirrus']),'Aircraft_Category'] = 'Airplane'\n",
    "\n",
    "df[df['Aircraft_Category'].isna()]['Make'].value_counts().head(10)"
   ]
  },
  {
   "cell_type": "code",
   "execution_count": null,
   "id": "26ee29e2-79dc-46a5-8f09-2df89f30a179",
   "metadata": {},
   "outputs": [],
   "source": [
    "df[df['Make'].str.lower().str.startswith('christen')].value_counts('Make')"
   ]
  },
  {
   "cell_type": "code",
   "execution_count": null,
   "id": "82093792-ee03-4ce8-919b-cba677e3ec74",
   "metadata": {},
   "outputs": [],
   "source": [
    "df.loc[df['Make'].isin(['Christen Industries Inc.', 'Christen', 'Christen Industries Inc.',\n",
    "                        'Christen Industries, Inc.']),'Make'] = 'Christen Industries'\n",
    "\n",
    "df[df['Make'] == 'Christen Industries'].value_counts('Aircraft_Category', dropna=False)"
   ]
  },
  {
   "cell_type": "code",
   "execution_count": null,
   "id": "ab86ba5a-c1ba-4570-bcef-8a21195f09c0",
   "metadata": {},
   "outputs": [],
   "source": [
    "df[df['Make'].str.lower().str.startswith('american c')].value_counts('Make')"
   ]
  },
  {
   "cell_type": "code",
   "execution_count": null,
   "id": "2af39468-3e6d-48ef-b317-1cd09b027a88",
   "metadata": {},
   "outputs": [],
   "source": [
    "df.loc[df['Make'].isin(['AMERICAN CHAMPION AIRCRAFT', 'American Champion (acac)', 'American Champion Aircraft', 'American Champion (ACAC)',\n",
    "                       'AMERICAN CHAMPION', 'AMERICAN Champion', 'American Champion Aircraft Cor']),'Make'] = 'American Champion'\n",
    "\n",
    "df[df['Make'] == 'American Champion'].value_counts('Aircraft_Category', dropna=False)"
   ]
  },
  {
   "cell_type": "code",
   "execution_count": null,
   "id": "1de83b7e-2d6a-419d-8f3a-3d6ca1772ac0",
   "metadata": {},
   "outputs": [],
   "source": [
    "df[df['Make'].str.lower().str.startswith('casa')].value_counts('Make')"
   ]
  },
  {
   "cell_type": "code",
   "execution_count": null,
   "id": "77d87b5e-1ae2-45b1-afa6-aebe60ed3186",
   "metadata": {},
   "outputs": [],
   "source": [
    "df.loc[df['Make'].isin(['CASA']),'Make'] = 'Casa'\n",
    "\n",
    "df[df['Make'] == 'Casa'].value_counts('Aircraft_Category', dropna=False)"
   ]
  },
  {
   "cell_type": "code",
   "execution_count": null,
   "id": "c799d68a-cda7-4207-b023-823c7290fe27",
   "metadata": {},
   "outputs": [],
   "source": [
    "df[df['Make'].str.lower().str.startswith('dass')].value_counts('Make')"
   ]
  },
  {
   "cell_type": "code",
   "execution_count": null,
   "id": "73ace804-0d9a-4a9b-9c50-f5c2ef4b00c2",
   "metadata": {},
   "outputs": [],
   "source": [
    "df.loc[df['Make'].isin(['Dassault-breguet', 'Dassault Aviation', 'DASSAULT', 'Dassault/sud', 'DASSAULT AVIATION', 'DASSAULT-BREGUET',\n",
    "                       'DASSAULT/SUD', 'Dassault Falcon', 'Dassault-Breguet']),'Make'] = 'Dassault'\n",
    "\n",
    "df[df['Make'] == 'Dassault'].value_counts('Aircraft_Category', dropna=False)"
   ]
  },
  {
   "cell_type": "code",
   "execution_count": null,
   "id": "48137754-551b-4a49-849e-2555313b4612",
   "metadata": {},
   "outputs": [],
   "source": [
    "df[df['Make'].str.lower().str.startswith('consolid')].value_counts('Make')"
   ]
  },
  {
   "cell_type": "code",
   "execution_count": null,
   "id": "2e0690ac-422a-4a40-9570-46aa2d8bcf1a",
   "metadata": {},
   "outputs": [],
   "source": [
    "df.loc[df['Make'].isin(['Consolidated-vultee', 'CONSOLIDATED AERONAUTICS INC.', 'CONSOLIDATED VULTEE', 'CONSOLIDATED AERONAUTICS INC.',\n",
    "                       'CONSOLIDATED AERONAUTICS', 'CONSOLIDATED AERONAUTICS INC.', 'Consolidated Aero', 'Consolidated Aeronautics, Inc',\n",
    "                       'Consolidated Aeronautics, Inc.', 'Consolidated Aeronautics Inc.', 'CONSOLIDATED  AERONAUTICS INC.',\n",
    "                       'CONSOLIDATED AERONAUTICS INC']),'Make'] = 'Consolidated'\n",
    "\n",
    "df[df['Make'] == 'Consolidated'].value_counts('Aircraft_Category', dropna=False)"
   ]
  },
  {
   "cell_type": "code",
   "execution_count": null,
   "id": "96c404d6-e9bc-474c-8d75-a73b0040acdf",
   "metadata": {},
   "outputs": [],
   "source": [
    "df[df['Make'].str.lower().str.startswith('brant')].value_counts('Make')"
   ]
  },
  {
   "cell_type": "code",
   "execution_count": null,
   "id": "f01bc467-8fbd-4b15-b62e-371801adda7c",
   "metadata": {},
   "outputs": [],
   "source": [
    "df.loc[df['Make'].isin(['BRANTLY', 'Brantly', 'Brantly-hynes', 'Brantley']),'Make'] = 'Brantly Helicopter'\n",
    "\n",
    "df[df['Make'] == 'Brantly Helicopter'].value_counts('Aircraft_Category', dropna=False)"
   ]
  },
  {
   "cell_type": "code",
   "execution_count": null,
   "id": "d0016bfe-cca0-474c-bd92-59f311c5f8aa",
   "metadata": {},
   "outputs": [],
   "source": [
    "df[df['Make'].str.lower().str.startswith('glasf')].value_counts('Make')"
   ]
  },
  {
   "cell_type": "code",
   "execution_count": null,
   "id": "20dde3ab-e78a-468c-8c0b-1bf558a0f2b8",
   "metadata": {},
   "outputs": [],
   "source": [
    "df.loc[df['Make'].isin(['GLASFLUGEL']),'Make'] = 'Glasflugel'\n",
    "\n",
    "df[df['Make'] == 'Glasflugel'].value_counts('Aircraft_Category', dropna=False)"
   ]
  },
  {
   "cell_type": "code",
   "execution_count": null,
   "id": "09181121-73c0-4b84-a60a-86293764fa61",
   "metadata": {},
   "outputs": [],
   "source": [
    "df[df['Make'].str.lower().str.startswith('glob')].value_counts('Make')"
   ]
  },
  {
   "cell_type": "code",
   "execution_count": null,
   "id": "a3bc63fb-0864-4de5-b936-63e4bd93554b",
   "metadata": {},
   "outputs": [],
   "source": [
    "df.loc[df['Make'].isin(['GLOBE', 'Globe Swift']),'Make'] = 'Globe'\n",
    "\n",
    "df[df['Make'] == 'Globe'].value_counts('Aircraft_Category', dropna=False)"
   ]
  },
  {
   "cell_type": "code",
   "execution_count": null,
   "id": "03f522b7-b439-454e-9441-06138a7bdadf",
   "metadata": {},
   "outputs": [],
   "source": [
    "df[df['Make'].str.lower().str.startswith('american')].value_counts('Make')"
   ]
  },
  {
   "cell_type": "code",
   "execution_count": null,
   "id": "0b553bc8-0c42-4054-8c70-8a15dc6be322",
   "metadata": {},
   "outputs": [],
   "source": [
    "df.loc[df['Make'].isin(['AMERICAN', 'American Aircraft', 'American Aviation', 'AMERICAN AVIATION', 'American Aviation Corp. (aac)',\n",
    "                       'American Aviation Corp. (AAC)']),'Make'] = 'American'\n",
    "df.loc[df['Make'].isin(['AMERICAN AIR RACING LTD']),'Make'] = 'American Air Racing'\n",
    "df.loc[df['Make'].isin(['AMERICAN BLIMP', 'American Blimp Corp.', 'American Blimp Corporation']),'Make'] = 'American Blimp'\n",
    "df.loc[df['Make'].isin(['AMERICAN EUROCOPTER', 'AMERICAN EUROCOPTER CORP', 'AMERICAN EUROCOPTER LLC']),'Make'] = 'American Eurocopter'\n",
    "df.loc[df['Make'].isin(['AMERICAN GENERAL ACFT CORP']),'Make'] = 'American General Aircraft'\n",
    "df.loc[df['Make'].isin(['American Legand Aircraft', 'AMERICAN LEGEND', 'AMERICAN LEGEND AIRCRAFT CO', 'American Legend Aircraft Co.',\n",
    "                       'American Legend Aircraft Compa']),'Make'] = 'American Legend'\n",
    "\n",
    "df[df['Make'] == 'American'].value_counts('Aircraft_Category', dropna=False)"
   ]
  },
  {
   "cell_type": "code",
   "execution_count": null,
   "id": "9637611a-e789-4032-86e4-138ec8d6b306",
   "metadata": {},
   "outputs": [],
   "source": [
    "# fill in the previous makes for their respective categories\n",
    "df.loc[df['Make'].isin(['Glasflugel']),'Aircraft_Category'] = 'Glider'\n",
    "df.loc[df['Make'].isin(['Brantly Helicopter']),'Aircraft_Category'] = 'Helicopter'\n",
    "df.loc[df['Make'].isin(['Christen Industries', 'American Champion', 'Casa', 'Dassault', 'Consolidated', 'Globe',\n",
    "                        'American']),'Aircraft_Category'] = 'Airplane'\n",
    "\n",
    "df[df['Aircraft_Category'].isna()]['Make'].value_counts().head(10)"
   ]
  },
  {
   "cell_type": "code",
   "execution_count": null,
   "id": "de837896-dc25-46c3-8378-f117749302cc",
   "metadata": {},
   "outputs": [],
   "source": [
    "df[df['Make'].str.lower().str.startswith('extra')].value_counts('Make')"
   ]
  },
  {
   "cell_type": "code",
   "execution_count": null,
   "id": "70c09d2e-ecbb-4f5a-9536-226bc184d5ae",
   "metadata": {},
   "outputs": [],
   "source": [
    "df.loc[df['Make'].isin(['EXTRA FLUGZEUGBAU GMBH', 'EXTRA FLUGZEUGPRODUKTIONS-UND', 'Extra Flugzeugbau Gmbh', 'EXTRA FLUGZEUGBAU',\n",
    "                       'EXTRA Flugzeugproduktions-GMBH', 'Extra Flugzeugproduktions-und', 'Extra Flugzeugrau Gmbh']),'Make'] = 'Extra Flugzeugbau'\n",
    "df.loc[df['Make'].isin(['EXTRA']),'Make'] = 'Extra'\n",
    "df[df['Make'] == 'Extra Flugzeugbau'].value_counts('Aircraft_Category', dropna=False)"
   ]
  },
  {
   "cell_type": "code",
   "execution_count": null,
   "id": "e48c97ae-f350-4e3e-88ad-f9f4ff951e98",
   "metadata": {},
   "outputs": [],
   "source": [
    "df[df['Make'].str.lower().str.startswith('glase')].value_counts('Make')"
   ]
  },
  {
   "cell_type": "code",
   "execution_count": null,
   "id": "b4cb929c-0462-4e09-9cff-48096050b83c",
   "metadata": {},
   "outputs": [],
   "source": [
    "df.loc[df['Make'].isin(['Glaser-dirks', 'Glaser Dirks', 'GLASER DIRKS', 'GLASER-DIRKS', 'Glaser-Dirks Flugzeugbau',\n",
    "                        'Glaser-dirks-flugzeubau']),'Make'] = 'Glaser-Dirks'\n",
    "\n",
    "df[df['Make'] == 'Glaser-Dirks'].value_counts('Aircraft_Category', dropna=False)"
   ]
  },
  {
   "cell_type": "code",
   "execution_count": null,
   "id": "fbff547e-b6e5-49a5-ae89-bd5a347d1bab",
   "metadata": {},
   "outputs": [],
   "source": [
    "df[df['Make'].str.lower().str.startswith('sukh')].value_counts('Make')"
   ]
  },
  {
   "cell_type": "code",
   "execution_count": null,
   "id": "a27dca55-1663-41ee-9103-2a6f1dccec97",
   "metadata": {},
   "outputs": [],
   "source": [
    "df.loc[df['Make'].isin(['SUKHOI']),'Make'] = 'Sukhoi'\n",
    "\n",
    "df[df['Make'] == 'Sukhoi'].value_counts('Aircraft_Category', dropna=False)"
   ]
  },
  {
   "cell_type": "code",
   "execution_count": null,
   "id": "87aa5765-cfdc-41ac-9833-a2f191b1061a",
   "metadata": {},
   "outputs": [],
   "source": [
    "df[df['Make'].str.lower().str.startswith('eiri')].value_counts('Make')"
   ]
  },
  {
   "cell_type": "code",
   "execution_count": null,
   "id": "3827c430-ec00-4087-868f-c6a59f77aa6f",
   "metadata": {},
   "outputs": [],
   "source": [
    "df.loc[df['Make'].isin(['EIRIAVION OY']),'Make'] = 'Eiriavion Oy'\n",
    "\n",
    "df[df['Make'] == 'Eiriavion Oy'].value_counts('Aircraft_Category', dropna=False)"
   ]
  },
  {
   "cell_type": "code",
   "execution_count": null,
   "id": "263c2c78-6eb9-42cf-b519-d34810b1c889",
   "metadata": {},
   "outputs": [],
   "source": [
    "df[df['Make'].str.lower().str.startswith('forne')].value_counts('Make')"
   ]
  },
  {
   "cell_type": "code",
   "execution_count": null,
   "id": "1e113cb0-ff34-47a0-92b3-8fbc9a44b159",
   "metadata": {},
   "outputs": [],
   "source": [
    "df[df['Make'] == 'Forney'].value_counts('Aircraft_Category', dropna=False)"
   ]
  },
  {
   "cell_type": "code",
   "execution_count": null,
   "id": "8c10a0e3-1c98-4117-9599-5c6e05b4a646",
   "metadata": {},
   "outputs": [],
   "source": [
    "df[df['Make'].str.lower().str.startswith('curtiss')].value_counts('Make')"
   ]
  },
  {
   "cell_type": "code",
   "execution_count": null,
   "id": "fd2c0e16-8184-4c33-b008-44d0d3b6611a",
   "metadata": {},
   "outputs": [],
   "source": [
    "df.loc[df['Make'].isin(['CURTISS WRIGHT', 'Curtiss-wright', 'Curtiss Wright']),'Make'] = 'Curtiss-Wright'\n",
    "\n",
    "df[df['Make'] == 'Curtiss-Wright'].value_counts('Aircraft_Category', dropna=False)"
   ]
  },
  {
   "cell_type": "code",
   "execution_count": null,
   "id": "00ed2045-638a-4040-9afc-4bcc1338ecaf",
   "metadata": {},
   "outputs": [],
   "source": [
    "df[df['Make'].str.lower().str.startswith('classic')].value_counts('Make')"
   ]
  },
  {
   "cell_type": "code",
   "execution_count": null,
   "id": "62b69517-5d06-4d54-9c42-cb34274b22c3",
   "metadata": {},
   "outputs": [],
   "source": [
    "df.loc[df['Make'].isin(['Classic Aircraft Corp.', 'CLASSIC AIRCRAFT CORP', 'Classic Aircraft Corp']),'Make'] = 'Classic Aircraft'\n",
    "\n",
    "df[df['Make'] == 'Classic Aircraft'].value_counts('Aircraft_Category', dropna=False)"
   ]
  },
  {
   "cell_type": "code",
   "execution_count": null,
   "id": "56bf3d6f-0cb8-4211-ad3d-2a7e1b120691",
   "metadata": {},
   "outputs": [],
   "source": [
    "df[df['Make'].str.lower().str.startswith('adams')].value_counts('Make')"
   ]
  },
  {
   "cell_type": "code",
   "execution_count": null,
   "id": "f0ab19d8-7cbc-43a4-a0f3-f14df716513d",
   "metadata": {},
   "outputs": [],
   "source": [
    "df.loc[df['Make'].isin(['ADAMS BALLOONS LLC', 'Adams Balloon']),'Make'] = 'Adams Balloons'"
   ]
  },
  {
   "cell_type": "code",
   "execution_count": null,
   "id": "9c2eb15d-c1b7-4a45-9e05-185dc5e1abba",
   "metadata": {},
   "outputs": [],
   "source": [
    "df[df['Make'].str.lower().str.startswith('adams')].value_counts('Make')"
   ]
  },
  {
   "cell_type": "code",
   "execution_count": null,
   "id": "6b322688-6a61-4470-a517-3310d5951ebb",
   "metadata": {},
   "outputs": [],
   "source": [
    "df[df['Make'] == 'Adams'].value_counts('Aircraft_Category', dropna=False)"
   ]
  },
  {
   "cell_type": "code",
   "execution_count": null,
   "id": "b3a05d19-593b-4fa9-8523-5b7ff31902b3",
   "metadata": {},
   "outputs": [],
   "source": [
    "df[df['Make'] == 'Adams'].value_counts('Model', dropna=False)"
   ]
  },
  {
   "cell_type": "markdown",
   "id": "1b369a9f-ba97-48c7-ba02-2ac46e8e5e3f",
   "metadata": {},
   "source": [
    "Balloons: A55S, A55, AB, A-60, A60S, AX-9; Planes: Airborne Australia O, KITFOX, RV-6A, SONERAI II"
   ]
  },
  {
   "cell_type": "code",
   "execution_count": null,
   "id": "3edf2b4d-24fa-48ab-87a3-dcf246f99884",
   "metadata": {},
   "outputs": [],
   "source": [
    "df[df['Model'].isin(['SONERAI II']) & df['Make'].isin(['Adams'])].value_counts('Aircraft_Category', dropna=False)"
   ]
  },
  {
   "cell_type": "code",
   "execution_count": null,
   "id": "014ee8e7-f144-43fa-bc80-4753262f4e4a",
   "metadata": {},
   "outputs": [],
   "source": [
    "df.loc[(df['Model'].isin(['A55S', 'A55', 'AB', 'A-60', 'A60S', 'AX-9'])) & (df['Make'].isin(['Adams'])), 'Aircraft_Category'] = 'Balloon'\n",
    "df.loc[(df['Model'].isin(['Airborne Australia O', 'KITFOX', 'RV-6A', 'SONERAI II'])) & (df['Make'].isin(['Adams'])), 'Aircraft_Category'] = 'Airplane'"
   ]
  },
  {
   "cell_type": "code",
   "execution_count": null,
   "id": "45498868-6e1b-499c-aa28-7bd40d42304a",
   "metadata": {},
   "outputs": [],
   "source": [
    "df[df['Make'] == 'Adams'].value_counts('Aircraft_Category', dropna=False)"
   ]
  },
  {
   "cell_type": "code",
   "execution_count": null,
   "id": "66c22187-cd20-4d99-a650-09d1f420e4a0",
   "metadata": {},
   "outputs": [],
   "source": [
    "df[df['Make'].str.lower().str.startswith('adams')].value_counts('Make')"
   ]
  },
  {
   "cell_type": "code",
   "execution_count": null,
   "id": "bcc151a3-fd47-4aa7-8b63-b7086481ccd8",
   "metadata": {},
   "outputs": [],
   "source": [
    "df.loc[(df['Make'].isin(['Adams'])) & (df['Aircraft_Category'].isin(['Balloon'])), 'Make'] = 'Adams Balloons'\n",
    "\n",
    "df[df['Make'].str.lower().str.startswith('adams')].value_counts('Aircraft_Category', dropna=False)"
   ]
  },
  {
   "cell_type": "code",
   "execution_count": null,
   "id": "f68bbb9d-93c0-4994-969a-4b07d7b43e9a",
   "metadata": {},
   "outputs": [],
   "source": [
    "df[df['Make'].str.lower().str.startswith('stearm')].value_counts('Make')"
   ]
  },
  {
   "cell_type": "code",
   "execution_count": null,
   "id": "904d00a1-7ac7-460d-b28e-9c293ad0bd05",
   "metadata": {},
   "outputs": [],
   "source": [
    "df.loc[df['Make'].isin(['STEARMAN AIRCRAFT', 'STEARMAN']),'Make'] = 'Stearman'\n",
    "\n",
    "df[df['Make'] == 'Stearman'].value_counts('Aircraft_Category', dropna=False)"
   ]
  },
  {
   "cell_type": "code",
   "execution_count": null,
   "id": "c265183a-d260-46f2-9c5e-09afe317913a",
   "metadata": {},
   "outputs": [],
   "source": [
    "# fill in the previous makes for their respective categories\n",
    "df.loc[df['Make'].isin(['Glaser-Dirks', 'Eiriavion Oy']),'Aircraft_Category'] = 'Glider'\n",
    "df.loc[df['Make'].isin(['Adams Balloons']),'Aircraft_Category'] = 'Balloon'\n",
    "df.loc[df['Make'].isin(['Stearman', 'Extra Flugzeugbau', 'Sukhoi', 'Forney', 'Curtiss-Wright', 'Classic Aircraft']),'Aircraft_Category'] = 'Airplane'\n",
    "\n",
    "df[df['Aircraft_Category'].isna()]['Make'].value_counts().head(10)"
   ]
  },
  {
   "cell_type": "code",
   "execution_count": null,
   "id": "45aae36e-9b1c-4815-9f52-458ffdfa2473",
   "metadata": {},
   "outputs": [],
   "source": [
    "df[df['Make'].str.lower().str.startswith('aerof')].value_counts('Make')"
   ]
  },
  {
   "cell_type": "code",
   "execution_count": null,
   "id": "af7fdd52-3c02-4869-a092-0affe625c3be",
   "metadata": {},
   "outputs": [],
   "source": [
    "df.loc[df['Make'].isin(['Aerofab Inc.', 'AEROFAB INC', 'AEROFAB INC.', 'Aerofab, Inc.']),'Make'] = 'Aerofab'\n",
    "\n",
    "df[df['Make'] == 'Aerofab'].value_counts('Aircraft_Category', dropna=False)"
   ]
  },
  {
   "cell_type": "code",
   "execution_count": null,
   "id": "99d8db07-eaf5-4a18-9d99-3fcfead7b517",
   "metadata": {},
   "outputs": [],
   "source": [
    "df[df['Make'].str.lower().str.startswith('american g')].value_counts('Make')"
   ]
  },
  {
   "cell_type": "code",
   "execution_count": null,
   "id": "bcc1b0a6-deaa-410f-b1d7-7ba87857c6d9",
   "metadata": {},
   "outputs": [],
   "source": [
    "df[df['Make'] == 'American General Aircraft'].value_counts('Aircraft_Category', dropna=False)"
   ]
  },
  {
   "cell_type": "code",
   "execution_count": null,
   "id": "ec25cffb-78c0-4c77-9102-dec43558c8f7",
   "metadata": {},
   "outputs": [],
   "source": [
    "df[df['Make'].str.lower().str.startswith('culv')].value_counts('Make')"
   ]
  },
  {
   "cell_type": "code",
   "execution_count": null,
   "id": "167a0bb5-89fd-472b-8e67-4857ce728a7a",
   "metadata": {},
   "outputs": [],
   "source": [
    "df.loc[df['Make'].isin(['CULVER']),'Make'] = 'Culver'\n",
    "\n",
    "df[df['Make'] == 'Culver'].value_counts('Aircraft_Category', dropna=False)"
   ]
  },
  {
   "cell_type": "code",
   "execution_count": null,
   "id": "f9f42bc0-95b8-4409-bff7-c238c61ff289",
   "metadata": {},
   "outputs": [],
   "source": [
    "df[df['Make'].str.lower().str.startswith('air &')].value_counts('Make')"
   ]
  },
  {
   "cell_type": "code",
   "execution_count": null,
   "id": "d9a419a6-7406-4929-a34c-a9460e120843",
   "metadata": {},
   "outputs": [],
   "source": [
    "df[df['Make'] == 'Air & Space'].value_counts('Aircraft_Category', dropna=False)"
   ]
  },
  {
   "cell_type": "code",
   "execution_count": null,
   "id": "885460f0-4e2e-4993-8b6f-561c9b02c7d7",
   "metadata": {},
   "outputs": [],
   "source": [
    "df[df['Make'].str.lower().str.startswith('inters')].value_counts('Make')"
   ]
  },
  {
   "cell_type": "code",
   "execution_count": null,
   "id": "4b05789d-fd3d-4ba8-9849-3773b21e8bfd",
   "metadata": {},
   "outputs": [],
   "source": [
    "df.loc[df['Make'].isin(['INTERSTATE']),'Make'] = 'Interstate'\n",
    "\n",
    "df[df['Make'] == 'Interstate'].value_counts('Aircraft_Category', dropna=False)"
   ]
  },
  {
   "cell_type": "code",
   "execution_count": null,
   "id": "d72b715a-7171-4b77-928a-b2c5c72a62e6",
   "metadata": {},
   "outputs": [],
   "source": [
    "df[df['Make'].str.lower().str.startswith('bomb')].value_counts('Make')"
   ]
  },
  {
   "cell_type": "code",
   "execution_count": null,
   "id": "8968d662-4188-4bf2-bae9-102b5c3a9cda",
   "metadata": {},
   "outputs": [],
   "source": [
    "df.loc[df['Make'].isin(['BOMBARDIER INC', 'BOMBARDIER', 'Bombardier, Inc.', 'BOMBARDIER LEARJET CORP.', 'Bombardier Aerospace, Inc.',\n",
    "                       'Bombardier Canadair']),'Make'] = 'Bombardier'\n",
    "\n",
    "df[df['Make'] == 'Bombardier'].value_counts('Aircraft_Category', dropna=False)"
   ]
  },
  {
   "cell_type": "code",
   "execution_count": null,
   "id": "6e4a9518-26f7-4632-866d-e927f1cedce7",
   "metadata": {},
   "outputs": [],
   "source": [
    "df[df['Make'].str.lower().str.startswith('rayth')].value_counts('Make')"
   ]
  },
  {
   "cell_type": "code",
   "execution_count": null,
   "id": "846c19e7-d9b3-429c-9c9f-f6ae5e20b794",
   "metadata": {},
   "outputs": [],
   "source": [
    "df.loc[df['Make'].isin(['RAYTHEON AIRCRAFT COMPANY', 'Raytheon Aircraft Company', 'Raytheon Corporate Jets', 'RAYTHEON', 'RAYTHEON COMPANY',\n",
    "                       'RAYTHEON CORPORATE JETS INC', 'Raytheon Co']),'Make'] = 'Raytheon'\n",
    "\n",
    "df[df['Make'] == 'Raytheon'].value_counts('Aircraft_Category', dropna=False)"
   ]
  },
  {
   "cell_type": "code",
   "execution_count": null,
   "id": "bd2f96a0-176c-4c35-9cd0-a272d9536cd9",
   "metadata": {},
   "outputs": [],
   "source": [
    "df[df['Make'].str.lower().str.startswith('barnes')].value_counts('Make')"
   ]
  },
  {
   "cell_type": "code",
   "execution_count": null,
   "id": "a5dad0f3-d30b-4723-9674-c197cec0851c",
   "metadata": {},
   "outputs": [],
   "source": [
    "df[df['Make'] == 'Barnes'].value_counts('Aircraft_Category', dropna=False)"
   ]
  },
  {
   "cell_type": "code",
   "execution_count": null,
   "id": "1fc37943-214a-4ea6-82aa-2c3dc3628c70",
   "metadata": {},
   "outputs": [],
   "source": [
    "df[df['Make'].str.lower().str.startswith('pzl')].value_counts('Make')"
   ]
  },
  {
   "cell_type": "code",
   "execution_count": null,
   "id": "a7c4d84c-1ef7-4ae2-9326-3783d963c55b",
   "metadata": {},
   "outputs": [],
   "source": [
    "# The different PZL permutations are all connected\n",
    "df.loc[df['Make'].isin(['Pzl-mielec', 'Pzl-bielsko', 'Pzl', 'PZL-SWIDNIK', 'PZL MIELEC', 'Pzl Warzawa-okecie', 'Pzl Okecie', 'Pzl-okecie',\n",
    "                       'Pzl Warzawa-cnpsl', 'Pzl Swidnik', 'PZL BIELSKO', 'PZL-Swidnik', 'PZL-BIELSKO', 'PZL Warszawa-Okecie', 'PZL SWIDNIK',\n",
    "                       'PZL OKECIE', 'Pzl-swidnik']),'Make'] = 'PZL'\n",
    "\n",
    "df[df['Make'] == 'PZL'].value_counts('Aircraft_Category', dropna=False)"
   ]
  },
  {
   "cell_type": "code",
   "execution_count": null,
   "id": "deb2edc5-5116-4ddb-bb55-7706ff929f92",
   "metadata": {},
   "outputs": [],
   "source": [
    "# PZL made different categories of aircraft, so we could see if the models may inform what categories they are\n",
    "df[df['Make'] == 'PZL'].value_counts('Model', dropna=False)"
   ]
  },
  {
   "cell_type": "code",
   "execution_count": null,
   "id": "8dc49f44-d9eb-4f0c-9289-9f8acfca76d6",
   "metadata": {},
   "outputs": [],
   "source": [
    "# PZL represents multiple cats of aircraft, so google provides the category for these models\n",
    "df.loc[(df['Make'].isin(['PZL'])) & (df['Model'].isin(['PW-5', 'SZD-59', 'PW 5', 'SZD-45A OGAR', 'SZD 50-3', 'SZD-42-2 JANTAR', 'SZD-48-3',\n",
    "                                                      'SZD-50-3', 'SZD-55-1', 'SZD51', 'SZD 55-1', 'PW 6U', 'JANTAR 2A',\n",
    "                                                       '55-1'])), 'Aircraft_Category'] = 'Glider'\n",
    "\n",
    "df.loc[(df['Make'].isin(['PZL'])) & (df['Model'].isin(['SW4', 'SW-4'])), 'Aircraft_Category'] = 'Helicopter'\n",
    "\n",
    "df.loc[(df['Make'].isin(['PZL'])) & (df['Model'].isin(['M-18A', 'M18', 'PZL-M-18', 'PZL-104 Wilga 35A', 'PZL-104 WILGA 80', 'PZL104',\n",
    "                                                      '101', 'PZL-104', 'PZL-104 WILGA 35A', 'PZL-104 35A', '101A', 'MIG-17', 'M-18T', 'M-18B',\n",
    "                                                      'M-18A DROMADER', 'M-18', 'KOLIBER -150A', '80', '104-80', '104 Wilga 80',\n",
    "                                                      'Wilga 104-80'])), 'Aircraft_Category'] = 'Airplane'\n",
    "\n",
    "df[df['Make'] == 'PZL'].value_counts('Aircraft_Category', dropna=False)"
   ]
  },
  {
   "cell_type": "code",
   "execution_count": null,
   "id": "4bdfe69e-7519-457f-91ca-70fb09193222",
   "metadata": {},
   "outputs": [],
   "source": [
    "# fill in the previous makes for their respective categories\n",
    "df.loc[df['Make'].isin(['Air & Space']),'Aircraft_Category'] = 'Gyrocraft'\n",
    "df.loc[df['Make'].isin(['Barnes']),'Aircraft_Category'] = 'Balloon'\n",
    "df.loc[df['Make'].isin(['Aerofab', 'American General Aircraft', 'Culver', 'Interstate', 'Bombardier', 'Raytheon']),'Aircraft_Category'] = 'Airplane'\n",
    "\n",
    "df[df['Aircraft_Category'].isna()]['Make'].value_counts().head(10)"
   ]
  },
  {
   "cell_type": "code",
   "execution_count": null,
   "id": "e7dddf11-ae72-4931-bc17-96a4c20ec26d",
   "metadata": {},
   "outputs": [],
   "source": [
    "df[df['Make'].str.lower().str.startswith('nava')].value_counts('Make')"
   ]
  },
  {
   "cell_type": "code",
   "execution_count": null,
   "id": "cebdaa22-b442-4ce0-bbee-8fdc1c8b493b",
   "metadata": {},
   "outputs": [],
   "source": [
    "df.loc[df['Make'].isin(['NAVAL AIRCRAFT FACTORY']),'Make'] = 'Naval Aircraft Factory'\n",
    "\n",
    "df[df['Make'] == 'Naval Aircraft Factory'].value_counts('Aircraft_Category', dropna=False)"
   ]
  },
  {
   "cell_type": "code",
   "execution_count": null,
   "id": "47767c14-8f08-445f-b866-42a69e5cad2b",
   "metadata": {},
   "outputs": [],
   "source": [
    "df[df['Make'].str.lower().str.startswith('hispa')].value_counts('Make')"
   ]
  },
  {
   "cell_type": "code",
   "execution_count": null,
   "id": "73f77299-f199-4ac7-a147-2d654ab0fb7b",
   "metadata": {},
   "outputs": [],
   "source": [
    "df[df['Make'] == 'Hispano Aviacion'].value_counts('Aircraft_Category', dropna=False)"
   ]
  },
  {
   "cell_type": "code",
   "execution_count": null,
   "id": "731d1b1a-699f-4ab8-8791-2cad05237b14",
   "metadata": {},
   "outputs": [],
   "source": [
    "df[df['Make'].str.lower().str.startswith('parte')].value_counts('Make')"
   ]
  },
  {
   "cell_type": "code",
   "execution_count": null,
   "id": "019c3354-9072-4665-827c-9f8421d28e76",
   "metadata": {},
   "outputs": [],
   "source": [
    "df.loc[df['Make'].isin(['PARTENAVIA', 'PARTENAVIA S.P.A.', 'PARTENAVIA SPA']),'Make'] = 'Partenavia'\n",
    "\n",
    "df[df['Make'] == 'Partenavia'].value_counts('Aircraft_Category', dropna=False)"
   ]
  },
  {
   "cell_type": "code",
   "execution_count": null,
   "id": "bef25525-b2d6-4181-8da3-8822504d52c9",
   "metadata": {},
   "outputs": [],
   "source": [
    "df[df['Make'].str.lower().str.startswith('picc')].value_counts('Make')"
   ]
  },
  {
   "cell_type": "code",
   "execution_count": null,
   "id": "abfa6999-fdf0-4aab-88ee-40886a12deac",
   "metadata": {},
   "outputs": [],
   "source": [
    "df[df['Make'] == 'Piccard'].value_counts('Model', dropna=False)"
   ]
  },
  {
   "cell_type": "markdown",
   "id": "972bc6cf-2092-473e-a6df-299540f1e03c",
   "metadata": {},
   "source": [
    "Google confirms that the models listed under Piccard are balloons"
   ]
  },
  {
   "cell_type": "code",
   "execution_count": null,
   "id": "2efa3ea4-e858-4ed5-bad3-9e3ac899a2b4",
   "metadata": {},
   "outputs": [],
   "source": [
    "df[df['Make'].str.lower().str.startswith('eagle a')].value_counts('Make')"
   ]
  },
  {
   "cell_type": "code",
   "execution_count": null,
   "id": "198d8982-6e6a-4481-9dd5-a88949d883bc",
   "metadata": {},
   "outputs": [],
   "source": [
    "df.loc[df['Make'].isin(['Eagle Aircraft Co.', 'EAGLE AIRCRAFT CO']),'Make'] = 'Eagle Aircraft'\n",
    "\n",
    "df[df['Make'] == 'Eagle Aircraft'].value_counts('Aircraft_Category', dropna=False)"
   ]
  },
  {
   "cell_type": "code",
   "execution_count": null,
   "id": "bf00d65c-8a41-4cea-9f97-d6a483b59a7c",
   "metadata": {},
   "outputs": [],
   "source": [
    "df[df['Make'].str.lower().str.startswith('atr')].value_counts('Make')"
   ]
  },
  {
   "cell_type": "code",
   "execution_count": null,
   "id": "bc1dc96e-a581-4e1e-8d92-2818b9d7e8af",
   "metadata": {},
   "outputs": [],
   "source": [
    "df.loc[df['Make'].isin(['Atr']),'Make'] = 'ATR'\n",
    "\n",
    "df[df['Make'] == 'ATR'].value_counts('Aircraft_Category', dropna=False)"
   ]
  },
  {
   "cell_type": "code",
   "execution_count": null,
   "id": "9bdf47fa-9758-4320-b443-a686e06fdb2c",
   "metadata": {},
   "outputs": [],
   "source": [
    "df[df['Make'].str.lower().str.startswith('great')].value_counts('Make')"
   ]
  },
  {
   "cell_type": "code",
   "execution_count": null,
   "id": "d43570df-0784-4ed5-bebf-f1892ca9bfe0",
   "metadata": {},
   "outputs": [],
   "source": [
    "df.loc[df['Make'].isin(['GREAT LAKES', 'Great Lakes Aircraft Company']),'Make'] = 'Great Lakes'\n",
    "\n",
    "df[df['Make'] == 'Great Lakes'].value_counts('Aircraft_Category', dropna=False)"
   ]
  },
  {
   "cell_type": "code",
   "execution_count": null,
   "id": "37988641-dc18-48b4-a838-778f7772961d",
   "metadata": {},
   "outputs": [],
   "source": [
    "df[df['Make'].str.lower().str.startswith('nord')].value_counts('Make')"
   ]
  },
  {
   "cell_type": "code",
   "execution_count": null,
   "id": "41dbaa2a-0bdd-44c9-9a6d-215af3ba40e1",
   "metadata": {},
   "outputs": [],
   "source": [
    "df.loc[df['Make'].isin(['Nord (sncan)', 'NORD', 'Nord (SNCAN)', 'Nord Aviation']),'Make'] = 'Nord'\n",
    "\n",
    "df[df['Make'] == 'Nord'].value_counts('Aircraft_Category', dropna=False)"
   ]
  },
  {
   "cell_type": "code",
   "execution_count": null,
   "id": "c99e0f0d-7a4e-4470-9580-5cebd5071e5f",
   "metadata": {},
   "outputs": [],
   "source": [
    "df[df['Make'].str.lower().str.startswith('meyers')].value_counts('Make')"
   ]
  },
  {
   "cell_type": "code",
   "execution_count": null,
   "id": "a61d3a63-71d3-4175-bf34-a228410b49e3",
   "metadata": {},
   "outputs": [],
   "source": [
    "df.loc[df['Make'].isin(['MEYERS', 'MEYERS INDUSTRIES INC', 'Meyers']),'Make'] = 'Meyers Aircraft Co.'\n",
    "\n",
    "df[df['Make'] == 'Meyers Aircraft Co.'].value_counts('Aircraft_Category', dropna=False)"
   ]
  },
  {
   "cell_type": "code",
   "execution_count": null,
   "id": "9548a3d0-ed28-4344-af76-08c5de4ede93",
   "metadata": {},
   "outputs": [],
   "source": [
    "# fill in the previous makes for their respective categories\n",
    "df.loc[df['Make'].isin(['Piccard']),'Aircraft_Category'] = 'Balloon'\n",
    "df.loc[df['Make'].isin(['Naval Aircraft Factory', 'Hispano Aviacion', 'Partenavia', 'Eagle Aircraft', 'ATR', 'Great Lakes', 'Nord',\n",
    "                       'Meyers Aircraft Co.']),'Aircraft_Category'] = 'Airplane'\n",
    "\n",
    "df[df['Aircraft_Category'].isna()]['Make'].value_counts().head(10)"
   ]
  },
  {
   "cell_type": "code",
   "execution_count": null,
   "id": "f11db055-ad29-479b-aeec-2bb8678687fd",
   "metadata": {},
   "outputs": [],
   "source": [
    "df[df['Make'].str.lower().str.startswith('fleet')].value_counts('Make')"
   ]
  },
  {
   "cell_type": "code",
   "execution_count": null,
   "id": "33eed6bd-c6e9-45c0-a30e-e5f47d86fe99",
   "metadata": {},
   "outputs": [],
   "source": [
    "df.loc[df['Make'].isin(['FLEET']),'Make'] = 'Fleet'\n",
    "\n",
    "df[df['Make'] == 'Fleet'].value_counts('Aircraft_Category', dropna=False)"
   ]
  },
  {
   "cell_type": "code",
   "execution_count": null,
   "id": "5fd2f1b2-0748-4464-bf5c-c32023cc914b",
   "metadata": {},
   "outputs": [],
   "source": [
    "df[df['Make'].str.lower().str.startswith('mccu')].value_counts('Make')"
   ]
  },
  {
   "cell_type": "code",
   "execution_count": null,
   "id": "6d351e03-2944-4b0f-99d2-c919ee856904",
   "metadata": {},
   "outputs": [],
   "source": [
    "df[df['Make'] == 'Mcculloch'].value_counts('Aircraft_Category', dropna=False)"
   ]
  },
  {
   "cell_type": "code",
   "execution_count": null,
   "id": "7d2227ed-7598-47eb-a2bb-bb021d078461",
   "metadata": {},
   "outputs": [],
   "source": [
    "df[df['Make'].str.lower().str.startswith('nanc')].value_counts('Make')"
   ]
  },
  {
   "cell_type": "code",
   "execution_count": null,
   "id": "f1ec84be-23c7-4b76-89a0-eeeced92d7f9",
   "metadata": {},
   "outputs": [],
   "source": [
    "df.loc[df['Make'].isin(['NANCHANG CHINA', 'NANCHANG', 'Nanchang China']),'Make'] = 'Nanchang'\n",
    "\n",
    "df[df['Make'] == 'Nanchang'].value_counts('Aircraft_Category', dropna=False)"
   ]
  },
  {
   "cell_type": "code",
   "execution_count": null,
   "id": "a93786f3-9e7e-442f-a729-542422b7d843",
   "metadata": {},
   "outputs": [],
   "source": [
    "df[df['Make'].str.lower().str.startswith('head')].value_counts('Make')"
   ]
  },
  {
   "cell_type": "code",
   "execution_count": null,
   "id": "44425590-34ff-4a9d-96e2-7b69ba07ac27",
   "metadata": {},
   "outputs": [],
   "source": [
    "df.loc[df['Make'].isin(['Head Balloons, Inc.', 'HEAD BALLOONS INC', 'HEAD', 'Head', 'HEAD BALLOONS INC.',\n",
    "                        'Head Balloons Inc.']),'Make'] = 'Head Balloons'\n",
    "\n",
    "df[df['Make'] == 'Head Balloons'].value_counts('Aircraft_Category', dropna=False)"
   ]
  },
  {
   "cell_type": "code",
   "execution_count": null,
   "id": "5e8a22be-7c6c-473a-b2f2-8569945417b7",
   "metadata": {},
   "outputs": [],
   "source": [
    "df[df['Make'].str.lower().str.startswith('aero v')].value_counts('Make')"
   ]
  },
  {
   "cell_type": "code",
   "execution_count": null,
   "id": "edc2d73b-211e-409d-abf1-c1353d34a58e",
   "metadata": {},
   "outputs": [],
   "source": [
    "df.loc[df['Make'].isin(['AERO VODOCHODY', 'Aero Vodochody Aero. Works', 'Aero Vodochody Aero Works']),'Make'] = 'Aero Vodochody'\n",
    "\n",
    "df[df['Make'] == 'Aero Vodochody'].value_counts('Aircraft_Category', dropna=False)"
   ]
  },
  {
   "cell_type": "code",
   "execution_count": null,
   "id": "0640ee79-462a-4de5-b8d2-6c227c08a4d7",
   "metadata": {},
   "outputs": [],
   "source": [
    "df[df['Make'].str.lower().str.startswith('centrai')].value_counts('Make')"
   ]
  },
  {
   "cell_type": "code",
   "execution_count": null,
   "id": "a135c2a4-4871-45ea-9d00-6633472101f3",
   "metadata": {},
   "outputs": [],
   "source": [
    "df.loc[df['Make'].isin(['CENTRAIR']),'Make'] = 'Centrair'\n",
    "\n",
    "df[df['Make'] == 'Centrair'].value_counts('Aircraft_Category', dropna=False)"
   ]
  },
  {
   "cell_type": "code",
   "execution_count": null,
   "id": "fbffc643-bf47-4f12-b517-66bb967727d1",
   "metadata": {},
   "outputs": [],
   "source": [
    "df[df['Make'].str.lower().str.startswith('comma')].value_counts('Make')"
   ]
  },
  {
   "cell_type": "code",
   "execution_count": null,
   "id": "98d45ede-f998-47a3-9818-60d7aa1eaacf",
   "metadata": {},
   "outputs": [],
   "source": [
    "df.loc[df['Make'].isin(['COMMANDER AIRCRAFT CO', 'Commander Aircraft Company', 'COMMANDER', 'Commander Aircraft']),'Make'] = 'Commander'\n",
    "\n",
    "df[df['Make'] == 'Commander'].value_counts('Aircraft_Category', dropna=False)"
   ]
  },
  {
   "cell_type": "code",
   "execution_count": null,
   "id": "994433c4-e856-41cf-8bf6-c05e45daca48",
   "metadata": {},
   "outputs": [],
   "source": [
    "df[df['Make'].str.lower().str.startswith('quick')].value_counts('Make')"
   ]
  },
  {
   "cell_type": "code",
   "execution_count": null,
   "id": "2301d41b-abb7-41cc-8a6f-3543287a13cc",
   "metadata": {},
   "outputs": [],
   "source": [
    "df.loc[df['Make'].isin(['QUICKSILVER', 'QUICKSILVER AIRCRAFT', 'QUICKSILVER AIRCRAFT CO', 'Quicksilver Aircraft Northeast',\n",
    "                        'QUICKSILVER EIPPER ACFT INC', 'QUICKSILVER ENTERPRISES INC', 'Quicksilver II', 'Quicksilver Manufacturing',\n",
    "                        'QUICKSILVER MANUFACTURING INC', 'QUICKSILVER MFG']),'Make'] = 'Quicksilver'\n",
    "\n",
    "df.loc[df['Make'].isin(['QUICKIE', 'Quickie-myers']),'Make'] = 'Quickie'\n",
    "df[df['Make'] == 'Quickie'].value_counts('Aircraft_Category', dropna=False)"
   ]
  },
  {
   "cell_type": "code",
   "execution_count": null,
   "id": "6548b3f6-44f8-44e6-b778-a59134bd6070",
   "metadata": {},
   "outputs": [],
   "source": [
    "df[df['Make'] == 'Quicksilver'].value_counts('Aircraft_Category', dropna=False)"
   ]
  },
  {
   "cell_type": "code",
   "execution_count": null,
   "id": "054cf966-3ce4-484b-9d74-d2d8d153e252",
   "metadata": {},
   "outputs": [],
   "source": [
    "df[df['Make'] == 'Quicksilver'].value_counts('Model', dropna=False)"
   ]
  },
  {
   "cell_type": "markdown",
   "id": "f0beb4ab-b95f-4973-9dad-ba4ae4789474",
   "metadata": {},
   "source": [
    "Google says these models are all ultralight aircraft, so the airplane designation is incorrect, and so all Quicksilver entries can be changed to ultralight."
   ]
  },
  {
   "cell_type": "code",
   "execution_count": null,
   "id": "951d8304-6d2e-4c82-9da0-dc6ba3c5ecb6",
   "metadata": {},
   "outputs": [],
   "source": [
    "df[df['Make'].str.lower().str.startswith('chanc')].value_counts('Make')"
   ]
  },
  {
   "cell_type": "code",
   "execution_count": null,
   "id": "ffc52417-0494-42a1-82f1-7d60b6dd72b4",
   "metadata": {},
   "outputs": [],
   "source": [
    "df.loc[df['Make'].isin(['CHANCE VOUGHT']),'Make'] = 'Chance Vought'\n",
    "df[df['Make'] == 'Chance Vought'].value_counts('Aircraft_Category', dropna=False)"
   ]
  },
  {
   "cell_type": "code",
   "execution_count": null,
   "id": "21d6e270-057d-43d3-b6a3-520afe505804",
   "metadata": {},
   "outputs": [],
   "source": [
    "# fill in the previous makes for their respective categories\n",
    "df.loc[df['Make'].isin(['Head Balloons']),'Aircraft_Category'] = 'Balloon'\n",
    "df.loc[df['Make'].isin(['Centrair']),'Aircraft_Category'] = 'Glider'\n",
    "df.loc[df['Make'].isin(['Quicksilver']),'Aircraft_Category'] = 'Ultralight'\n",
    "df.loc[df['Make'].isin(['Mcculloch']),'Aircraft_Category'] = 'Gyrocraft'\n",
    "df.loc[df['Make'].isin(['Fleet', 'Nanchang', 'Aero Vodochody', 'Commander', 'Chance Vought']),'Aircraft_Category'] = 'Airplane'\n",
    "\n",
    "df[df['Aircraft_Category'].isna()]['Make'].value_counts().head(10)"
   ]
  },
  {
   "cell_type": "code",
   "execution_count": null,
   "id": "3c55d4ab-654b-4eb0-824b-e383bcad045c",
   "metadata": {},
   "outputs": [],
   "source": [
    "df[df['Make'].str.lower().str.startswith('reims')].value_counts('Make')"
   ]
  },
  {
   "cell_type": "code",
   "execution_count": null,
   "id": "56cb77ee-2d80-4678-81d2-92a7b572d7cf",
   "metadata": {},
   "outputs": [],
   "source": [
    "df.loc[df['Make'].isin(['Reims Aviation', 'REIMS', 'REIMS AVIATION SA', 'REIMS AVIATION S.A.', 'REIMS-CESSNA', 'REims', 'Reims Aviation Cessna',\n",
    "                       'Reims-Cessna']),'Make'] = 'Reims'\n",
    "df[df['Make'] == 'Reims'].value_counts('Aircraft_Category', dropna=False)"
   ]
  },
  {
   "cell_type": "code",
   "execution_count": null,
   "id": "47708124-9d69-470a-be8b-a7e2f9fac8ea",
   "metadata": {},
   "outputs": [],
   "source": [
    "df[df['Make'].str.lower().str.startswith('temc')].value_counts('Make')"
   ]
  },
  {
   "cell_type": "code",
   "execution_count": null,
   "id": "0a61082b-7393-4170-bc7d-f5a3cc0221b2",
   "metadata": {},
   "outputs": [],
   "source": [
    "df.loc[df['Make'].isin(['TEMCO', 'Temco Luscombe']),'Make'] = 'Temco'\n",
    "df[df['Make'] == 'Temco'].value_counts('Aircraft_Category', dropna=False)"
   ]
  },
  {
   "cell_type": "code",
   "execution_count": null,
   "id": "e665b53b-0d21-4b1d-81ca-4e46d776bb94",
   "metadata": {},
   "outputs": [],
   "source": [
    "df[df['Make'].str.lower().str.startswith('nih')].value_counts('Make')"
   ]
  },
  {
   "cell_type": "code",
   "execution_count": null,
   "id": "49d0f8d2-5bee-43bc-a636-9700c6bcbc57",
   "metadata": {},
   "outputs": [],
   "source": [
    "df[df['Make'] == 'Nihon'].value_counts('Aircraft_Category', dropna=False)"
   ]
  },
  {
   "cell_type": "code",
   "execution_count": null,
   "id": "31a3affb-9976-4ba3-9e08-fe9a8c46d044",
   "metadata": {},
   "outputs": [],
   "source": [
    "df[df['Make'].str.lower().str.startswith('mono')].value_counts('Make')"
   ]
  },
  {
   "cell_type": "code",
   "execution_count": null,
   "id": "c8815e3e-832a-4939-b1bb-3b45ddd4ccce",
   "metadata": {},
   "outputs": [],
   "source": [
    "df.loc[df['Make'].isin(['Monocoupe Aircraft', 'MONOCOUPE']),'Make'] = 'Monocoupe'\n",
    "df[df['Make'] == 'Monocoupe'].value_counts('Aircraft_Category', dropna=False)"
   ]
  },
  {
   "cell_type": "code",
   "execution_count": null,
   "id": "e799ea6c-f1c0-4bab-9a4b-497a096a4f6c",
   "metadata": {},
   "outputs": [],
   "source": [
    "df[df['Make'].str.lower().str.startswith('mitch')].value_counts('Make')"
   ]
  },
  {
   "cell_type": "code",
   "execution_count": null,
   "id": "87075034-ffc2-473e-ad8e-80b1ad05a999",
   "metadata": {},
   "outputs": [],
   "source": [
    "df[df['Make'] == 'Mitchell'].value_counts('Aircraft_Category', dropna=False)"
   ]
  },
  {
   "cell_type": "code",
   "execution_count": null,
   "id": "de15cb27-d014-48e9-b928-6c234bc3133a",
   "metadata": {},
   "outputs": [],
   "source": [
    "df[df['Make'].str.lower().str.startswith('sling')].value_counts('Make')"
   ]
  },
  {
   "cell_type": "code",
   "execution_count": null,
   "id": "1d64b10b-eea7-453d-9279-50cdee7286c3",
   "metadata": {},
   "outputs": [],
   "source": [
    "df.loc[df['Make'].isin(['SLINGSBY', 'Slingsby Aviation Plc']),'Make'] = 'Slingsby'\n",
    "df[df['Make'] == 'Slingsby'].value_counts('Aircraft_Category', dropna=False)"
   ]
  },
  {
   "cell_type": "markdown",
   "id": "501b6fdd-b441-42fc-8c9d-b99fdece1588",
   "metadata": {},
   "source": [
    "Wikepedia says Slingsby makes both gliders and planes, so I'll look at the models"
   ]
  },
  {
   "cell_type": "code",
   "execution_count": null,
   "id": "bd5aa11c-183c-4724-afd3-bcad25dd8288",
   "metadata": {},
   "outputs": [],
   "source": [
    "df[df['Make'] == 'Slingsby'].value_counts('Model', dropna=False)"
   ]
  },
  {
   "cell_type": "markdown",
   "id": "9c1f62ad-43fd-4ca5-8c27-64f179701c65",
   "metadata": {},
   "source": [
    "Only the T67M 260 is an airplane, the rest are gliders"
   ]
  },
  {
   "cell_type": "code",
   "execution_count": null,
   "id": "476bfddd-09a9-4ea1-9f6f-b259d3201985",
   "metadata": {},
   "outputs": [],
   "source": [
    "df.loc[(df['Model'].isin(['T67M 260'])) & (df['Make'].isin(['Slingsby'])), 'Aircraft_Category'] = 'Airplane'\n",
    "\n",
    "df.loc[(df['Model'].isin(['41-2', 'CAPSTAN TYPE 49B', 'DART T-51', 'KESTREL 19', 'Swallow Type T.45', 'T-51', 'T59D KESTREL 19',\n",
    "                         'T65A', 'TYPE 43 SERIES 3F'])) & (df['Make'].isin(['Slingsby'])), 'Aircraft_Category'] = 'Glider'"
   ]
  },
  {
   "cell_type": "code",
   "execution_count": null,
   "id": "29a92a52-192f-4472-aa5c-e6e282ed224f",
   "metadata": {},
   "outputs": [],
   "source": [
    "df[df['Make'].str.lower().str.startswith('smith')].value_counts('Make')"
   ]
  },
  {
   "cell_type": "code",
   "execution_count": null,
   "id": "c5a8b1fb-0206-487e-9bc3-5b58e75e4931",
   "metadata": {},
   "outputs": [],
   "source": [
    "df[df['Make'] == 'Smith'].value_counts('Model', dropna=False)"
   ]
  },
  {
   "cell_type": "code",
   "execution_count": null,
   "id": "10a2833a-d38d-49ab-b90f-aec146af545f",
   "metadata": {},
   "outputs": [],
   "source": [
    "df[df['Make'] == 'Smith'].value_counts('Aircraft_Category', dropna=False)"
   ]
  },
  {
   "cell_type": "markdown",
   "id": "b89d63b0-db42-4c15-ad4e-594c3d564961",
   "metadata": {},
   "source": [
    "The one helicopter under Smith is the WCS-222; the rest are planes. So I'll fill in Smith's categories here by model."
   ]
  },
  {
   "cell_type": "code",
   "execution_count": null,
   "id": "7df76c03-edb8-495d-9478-e8031c359988",
   "metadata": {},
   "outputs": [],
   "source": [
    "df.loc[(df['Model'].isin(['WCS-222 (BELL 47G)'])) & (df['Make'].isin(['Smith'])), 'Aircraft_Category'] = 'Helicopter'\n",
    "\n",
    "df.loc[(df['Model'].isin(['Aerostar 601P', 'AEROSTAR 600', 'Aerostar 601', 'MINIPLANE', 'AEROSTAR 601', 'LONG-EZ', 'MINIPLANE DSA-1',\n",
    "                         'RV-4', 'S-51D', 'Stewart S51D', 'Zodiac 601XL'])) & (df['Make'].isin(['Smith'])), 'Aircraft_Category'] = 'Airplane'\n",
    "\n",
    "df[df['Make'] == 'Smith'].value_counts('Aircraft_Category', dropna=False)"
   ]
  },
  {
   "cell_type": "code",
   "execution_count": null,
   "id": "9e51b67e-3d68-495f-9cf3-d17a8412c008",
   "metadata": {},
   "outputs": [],
   "source": [
    "df[df['Make'].str.lower().str.startswith('avian')].value_counts('Make')"
   ]
  },
  {
   "cell_type": "code",
   "execution_count": null,
   "id": "c3176e87-f2f3-4b12-9b64-35ffa684865f",
   "metadata": {},
   "outputs": [],
   "source": [
    "df.loc[df['Make'].isin(['Avian', 'AVIAN BALLOON']),'Make'] = 'Avian Balloon'\n",
    "df[df['Make'] == 'Avian Balloon'].value_counts('Aircraft_Category', dropna=False)"
   ]
  },
  {
   "cell_type": "code",
   "execution_count": null,
   "id": "ef3b24bf-90e5-4cf2-94f1-8729c76edf9b",
   "metadata": {},
   "outputs": [],
   "source": [
    "df[df['Make'].str.lower().str.startswith('governm')].value_counts('Make')"
   ]
  },
  {
   "cell_type": "code",
   "execution_count": null,
   "id": "ab152f28-fe70-4288-ab59-667304872b6f",
   "metadata": {},
   "outputs": [],
   "source": [
    "df[df['Make'] == 'Government Aircraft Fact (gaf)'].value_counts('Model', dropna=False)"
   ]
  },
  {
   "cell_type": "markdown",
   "id": "30583c4a-fa4f-4978-acfc-a5815ae49a75",
   "metadata": {},
   "source": [
    "These are all planes"
   ]
  },
  {
   "cell_type": "code",
   "execution_count": null,
   "id": "0a2d21df-134a-411f-b829-3cc31582cec2",
   "metadata": {},
   "outputs": [],
   "source": [
    "# fill in the previous makes for their respective categories\n",
    "df.loc[df['Make'].isin(['Avian Balloon']),'Aircraft_Category'] = 'Balloon'\n",
    "df.loc[df['Make'].isin(['Reims', 'Temco', 'Nihon', 'Monocoupe', 'Mitchell', 'Government Aircraft Fact (gaf)']),'Aircraft_Category'] = 'Airplane'\n",
    "\n",
    "df[df['Aircraft_Category'].isna()]['Make'].value_counts().head(10)"
   ]
  },
  {
   "cell_type": "markdown",
   "id": "b1adfe53-f23d-4ac4-9541-201515db9a3b",
   "metadata": {},
   "source": [
    "Just look for Makes that have more than just a handful of entries."
   ]
  },
  {
   "cell_type": "code",
   "execution_count": null,
   "id": "3abdcbe0-8d56-4898-98b1-2c3e3aa7190f",
   "metadata": {},
   "outputs": [],
   "source": [
    "df[df['Make'].str.lower().str.startswith('repu')].value_counts('Make')"
   ]
  },
  {
   "cell_type": "code",
   "execution_count": null,
   "id": "d05acc12-77fd-482a-9bf7-6f9b5970e955",
   "metadata": {},
   "outputs": [],
   "source": [
    "df.loc[df['Make'].isin(['REPUBLIC']),'Make'] = 'Republic'\n",
    "df[df['Make'] == 'Republic'].value_counts('Aircraft_Category', dropna=False)"
   ]
  },
  {
   "cell_type": "code",
   "execution_count": null,
   "id": "26893ce8-9ef1-4c19-9f88-4ccb5eb8a494",
   "metadata": {},
   "outputs": [],
   "source": [
    "df.loc[df['Make'].isin(['Republic']),'Aircraft_Category'] = 'Airplane'\n",
    "df[df['Aircraft_Category'].isna()]['Make'].value_counts().head(10)"
   ]
  },
  {
   "cell_type": "code",
   "execution_count": null,
   "id": "a3ab1eb1-630b-4480-9288-f141bca4cb8b",
   "metadata": {},
   "outputs": [],
   "source": [
    "df[df['Make'].str.lower().str.startswith('beag')].value_counts('Make')"
   ]
  },
  {
   "cell_type": "code",
   "execution_count": null,
   "id": "7e7d1626-1f36-4ded-a35b-1c62ff8d3f40",
   "metadata": {},
   "outputs": [],
   "source": [
    "df.loc[df['Make'].isin(['Beagle Aircraft', 'BEAGLE']),'Make'] = 'Beagle'\n",
    "df[df['Make'] == 'Beagle'].value_counts('Aircraft_Category', dropna=False)"
   ]
  },
  {
   "cell_type": "code",
   "execution_count": null,
   "id": "19100c9f-2287-46bc-8ec7-2572bf3a40c1",
   "metadata": {},
   "outputs": [],
   "source": [
    "df.loc[df['Make'].isin(['Beagle']),'Aircraft_Category'] = 'Airplane'\n",
    "df[df['Aircraft_Category'].isna()]['Make'].value_counts().head(10)"
   ]
  },
  {
   "cell_type": "code",
   "execution_count": null,
   "id": "9e372628-025b-40b0-b2bf-aa236b9a9911",
   "metadata": {},
   "outputs": [],
   "source": [
    "df[df['Make'].str.lower().str.startswith('lanc')].value_counts('Make')"
   ]
  },
  {
   "cell_type": "code",
   "execution_count": null,
   "id": "d3d396f5-0861-4f40-a520-0d18fc10110d",
   "metadata": {},
   "outputs": [],
   "source": [
    "df.loc[df['Make'].isin(['LANCAIR', 'LANCAIR COMPANY', 'Lancair Company']),'Make'] = 'Lancair'\n",
    "df[df['Make'] == 'Lancair'].value_counts('Aircraft_Category', dropna=False)"
   ]
  },
  {
   "cell_type": "code",
   "execution_count": null,
   "id": "4edb3f26-4a91-405f-a48c-a06ac694875c",
   "metadata": {},
   "outputs": [],
   "source": [
    "df.loc[df['Make'].isin(['Lancair']),'Aircraft_Category'] = 'Airplane'\n",
    "df[df['Aircraft_Category'].isna()]['Make'].value_counts().head(10)"
   ]
  },
  {
   "cell_type": "code",
   "execution_count": null,
   "id": "f7c2a548-568d-42f4-a156-c6489fbc3d21",
   "metadata": {},
   "outputs": [],
   "source": [
    "df[df['Make'].str.lower().str.startswith('silv')].value_counts('Make')"
   ]
  },
  {
   "cell_type": "code",
   "execution_count": null,
   "id": "3b757f1f-303d-4df6-ac54-bfca322e875f",
   "metadata": {},
   "outputs": [],
   "source": [
    "df.loc[df['Make'].isin(['SILVAIRE']),'Make'] = 'Silvaire'\n",
    "df[df['Make'] == 'Silvaire'].value_counts('Aircraft_Category', dropna=False)"
   ]
  },
  {
   "cell_type": "code",
   "execution_count": null,
   "id": "c5715c32-0e91-49c5-a525-0517be371320",
   "metadata": {},
   "outputs": [],
   "source": [
    "df.loc[df['Make'].isin(['Silvaire']),'Aircraft_Category'] = 'Airplane'\n",
    "df[df['Aircraft_Category'].isna()]['Make'].value_counts().head(10)"
   ]
  },
  {
   "cell_type": "code",
   "execution_count": null,
   "id": "24815e21-11b2-4733-9c21-00352f33e551",
   "metadata": {},
   "outputs": [],
   "source": [
    "df[df['Make'].str.lower().str.startswith('travel')].value_counts('Make')"
   ]
  },
  {
   "cell_type": "code",
   "execution_count": null,
   "id": "649bc99a-14a6-493a-8d24-dfe197584cb4",
   "metadata": {},
   "outputs": [],
   "source": [
    "df.loc[df['Make'].isin(['TRAVEL AIR']),'Make'] = 'Travel Air'\n",
    "df[df['Make'] == 'Travel Air'].value_counts('Aircraft_Category', dropna=False)"
   ]
  },
  {
   "cell_type": "code",
   "execution_count": null,
   "id": "728ddfad-c5a1-4a7f-896f-f319da740aea",
   "metadata": {},
   "outputs": [],
   "source": [
    "df.loc[df['Make'].isin(['Travel Air']),'Aircraft_Category'] = 'Airplane'\n",
    "df[df['Aircraft_Category'].isna()]['Make'].value_counts().head(10)"
   ]
  },
  {
   "cell_type": "code",
   "execution_count": null,
   "id": "6fa811e1-de28-40f4-ad98-88a82c9ceb69",
   "metadata": {},
   "outputs": [],
   "source": [
    "df[df['Make'].str.lower().str.startswith('grob')].value_counts('Make')"
   ]
  },
  {
   "cell_type": "code",
   "execution_count": null,
   "id": "61a6a7f0-c6ac-4aa4-85d6-3720f351eb58",
   "metadata": {},
   "outputs": [],
   "source": [
    "df.loc[df['Make'].isin(['GROB', 'GROB-WERKE', 'GROB AIRCRAFT AG']),'Make'] = 'Grob'\n",
    "df[df['Make'] == 'Grob'].value_counts('Aircraft_Category', dropna=False)"
   ]
  },
  {
   "cell_type": "code",
   "execution_count": null,
   "id": "c282203e-4228-4e2f-b84b-8bbce7670bfd",
   "metadata": {},
   "outputs": [],
   "source": [
    "df[df['Make'] == 'Grob'].value_counts('Model', dropna=False)"
   ]
  },
  {
   "cell_type": "code",
   "execution_count": null,
   "id": "f9484314-8591-47a3-ab06-ae41375c950d",
   "metadata": {},
   "outputs": [],
   "source": [
    "df.loc[(df['Model'].isin(['G103', 'G102', 'G 103 TWIN II', 'G103 TWIN ASTIR',\n",
    "                          'G103 Twin Astir'])) & (df['Make'].isin(['Grob'])), 'Aircraft_Category'] = 'Glider'\n",
    "\n",
    "df.loc[(df['Model'].isin(['G 120A', '120A-1', 'G 180', 'G120A', 'G120TP-A'])) & (df['Make'].isin(['Grob'])), 'Aircraft_Category'] = 'Airplane'\n",
    "\n",
    "df[df['Aircraft_Category'].isna()]['Make'].value_counts().head(10)"
   ]
  },
  {
   "cell_type": "code",
   "execution_count": null,
   "id": "eaa25a32-441c-4c48-8f5a-523b1d716678",
   "metadata": {},
   "outputs": [],
   "source": [
    "df[df['Make'].str.lower().str.startswith('varg')].value_counts('Make')"
   ]
  },
  {
   "cell_type": "code",
   "execution_count": null,
   "id": "6af63992-b0a0-4a90-8256-6de1e493d291",
   "metadata": {},
   "outputs": [],
   "source": [
    "df.loc[df['Make'].isin(['VARGA AIRCRAFT CORP.']),'Make'] = 'Varga'\n",
    "df[df['Make'] == 'Varga'].value_counts('Aircraft_Category', dropna=False)"
   ]
  },
  {
   "cell_type": "code",
   "execution_count": null,
   "id": "e0e0662a-3c39-407f-9f3d-e85d3ada70ec",
   "metadata": {},
   "outputs": [],
   "source": [
    "df.loc[df['Make'].isin(['Varga']),'Aircraft_Category'] = 'Airplane'\n",
    "df[df['Aircraft_Category'].isna()]['Make'].value_counts().head(10)"
   ]
  },
  {
   "cell_type": "code",
   "execution_count": null,
   "id": "8e0a5482-14c8-4b21-afdc-2f0e3455844c",
   "metadata": {},
   "outputs": [],
   "source": [
    "df[df['Make'].str.lower().str.startswith('airc')].value_counts('Make')"
   ]
  },
  {
   "cell_type": "code",
   "execution_count": null,
   "id": "7d4e58d8-391a-4dd9-a5ec-d71b7bdaa484",
   "metadata": {},
   "outputs": [],
   "source": [
    "df.loc[df['Make'].isin(['Aircraft Mfg & Dev. Co. (amd)', 'AIRCRAFT MFG & DEVELOPMENT CO', 'AIRCRAFT MFG & DVLPMT CO',\n",
    "                       'AIRCRAFT MFG & DESIGN LLC', 'Aircraft Mfg & Design LLC', 'Aircraft Mfg & Dev. Co.', 'Aircraft Mfg & Dev. Co. (AMD)',\n",
    "                       'Aircraft Mfg & Development Co.']),'Make'] = 'Aircraft Mfg. & Dev. Co.'\n",
    "\n",
    "df[df['Make'] == 'Aircraft Mfg. & Dev. Co.'].value_counts('Aircraft_Category', dropna=False)"
   ]
  },
  {
   "cell_type": "code",
   "execution_count": null,
   "id": "958bd265-d6b6-49db-8795-12e75aa5e098",
   "metadata": {},
   "outputs": [],
   "source": [
    "df.loc[df['Make'].isin(['Aircraft Mfg. & Dev. Co.']),'Aircraft_Category'] = 'Airplane'"
   ]
  },
  {
   "cell_type": "code",
   "execution_count": null,
   "id": "0c07a3cd-5028-4457-98f1-c2304f8a516d",
   "metadata": {},
   "outputs": [],
   "source": [
    "df[df['Make'] == 'Aircoupe'].value_counts('Aircraft_Category', dropna=False)"
   ]
  },
  {
   "cell_type": "code",
   "execution_count": null,
   "id": "5ab9735c-9484-4c89-9902-6372dadd496d",
   "metadata": {},
   "outputs": [],
   "source": [
    "df.loc[df['Make'].isin(['Aircoupe']),'Aircraft_Category'] = 'Airplane'\n",
    "\n",
    "df[df['Aircraft_Category'].isna()]['Make'].value_counts().head(10)"
   ]
  },
  {
   "cell_type": "code",
   "execution_count": null,
   "id": "8636ef5b-6d47-4682-9d5b-52ecb59cfc85",
   "metadata": {},
   "outputs": [],
   "source": [
    "df[df['Make'].str.lower().str.startswith('bucker')].value_counts('Make')"
   ]
  },
  {
   "cell_type": "code",
   "execution_count": null,
   "id": "692050fe-1ec7-4656-a76b-90805b0085c8",
   "metadata": {},
   "outputs": [],
   "source": [
    "df.loc[df['Make'].isin(['Bucker Jungmann', 'BUCKER JUNGMANN', 'BUCKER JUNGMEISTER', 'Bucker', 'Bucker-jungmann']),'Make'] = 'Bucker Flugzeugbau'\n",
    "\n",
    "df[df['Make'] == 'Bucker Flugzeugbau'].value_counts('Aircraft_Category', dropna=False)"
   ]
  },
  {
   "cell_type": "code",
   "execution_count": null,
   "id": "c4436242-da79-4aea-83c8-3727541b0708",
   "metadata": {},
   "outputs": [],
   "source": [
    "df.loc[df['Make'].isin(['Bucker Flugzeugbau']),'Aircraft_Category'] = 'Airplane'\n",
    "\n",
    "df[df['Aircraft_Category'].isna()]['Make'].value_counts().head(10)"
   ]
  },
  {
   "cell_type": "code",
   "execution_count": null,
   "id": "d366f838-e9c2-4d70-99b6-c5b0bd44f92b",
   "metadata": {},
   "outputs": [],
   "source": [
    "df['Aircraft_Category'].value_counts(dropna=False)"
   ]
  },
  {
   "cell_type": "code",
   "execution_count": null,
   "id": "3d0b3d16-9f2e-4ede-bc80-d16815e56589",
   "metadata": {},
   "outputs": [],
   "source": [
    "df[df['Aircraft_Category'] == 'Unknown']['Make'].value_counts()"
   ]
  },
  {
   "cell_type": "code",
   "execution_count": null,
   "id": "cb8a9ae6-2d69-4742-a40f-0544b313a768",
   "metadata": {},
   "outputs": [],
   "source": [
    "df[df['Make'] == 'Varieze']['Aircraft_Category'].value_counts()"
   ]
  },
  {
   "cell_type": "code",
   "execution_count": null,
   "id": "36a16b25-1895-46be-924c-0d2218546777",
   "metadata": {},
   "outputs": [],
   "source": [
    "df.loc[df['Make'].isin(['Varieze']),'Aircraft_Category'] = 'Airplane'\n",
    "\n",
    "df[df['Make'] == 'Unknown']['Model'].value_counts(dropna=False)"
   ]
  },
  {
   "cell_type": "code",
   "execution_count": null,
   "id": "49dc8bbf-9f82-4965-b9dd-5df1f9e3452c",
   "metadata": {},
   "outputs": [],
   "source": [
    "df[df['Make'].isin(['Unknown']) & df['Model'].isin(['Safari 400'])].value_counts('Aircraft_Category', dropna=False)"
   ]
  },
  {
   "cell_type": "code",
   "execution_count": null,
   "id": "b52d18a1-2fe7-4e8f-ae76-e2271489f924",
   "metadata": {},
   "outputs": [],
   "source": [
    "df[df['Make'].isin(['Unknown']) & df['Model'].isin(['Safari 400'])].head()"
   ]
  },
  {
   "cell_type": "code",
   "execution_count": null,
   "id": "6e3aa862-489f-455b-a7ac-71a1bc170090",
   "metadata": {},
   "outputs": [],
   "source": [
    "df[df['Make'].str.lower().str.startswith('saf')].value_counts('Make')"
   ]
  },
  {
   "cell_type": "code",
   "execution_count": null,
   "id": "36c999f1-4461-4196-9d7a-3a7974cc5ff4",
   "metadata": {},
   "outputs": [],
   "source": [
    "df.loc[(df['Model'].isin(['Safari 400'])) & (df['Make'].isin(['Unknown'])), 'Make'] = 'Safari Helicopter'\n",
    "\n",
    "df[df['Make'].str.lower().str.startswith('saf')].value_counts('Make')"
   ]
  },
  {
   "cell_type": "code",
   "execution_count": null,
   "id": "ba726faa-1f96-419a-bae0-19fcceed74d2",
   "metadata": {},
   "outputs": [],
   "source": [
    "df.loc[df['Make'].isin(['SAFARI']),'Make'] = 'Safari Helicopter'\n",
    "\n",
    "df[df['Make'] == 'Safari Helicopter'].value_counts('Aircraft_Category', dropna=False)"
   ]
  },
  {
   "cell_type": "code",
   "execution_count": null,
   "id": "79b0bd13-cfa6-44af-9a94-e402c382e45a",
   "metadata": {},
   "outputs": [],
   "source": [
    "df[df['Aircraft_Category'].isna()]['Make'].value_counts().head(10)"
   ]
  },
  {
   "cell_type": "code",
   "execution_count": null,
   "id": "4911c183-7754-42ba-9fe1-2a258a1c08ba",
   "metadata": {},
   "outputs": [],
   "source": [
    "df[df['Make'] == 'Molino Oy'].value_counts('Model', dropna=False)"
   ]
  },
  {
   "cell_type": "code",
   "execution_count": null,
   "id": "cdd2f1f2-7d5a-4cf8-9959-59430eed7959",
   "metadata": {},
   "outputs": [],
   "source": [
    "df[df['Make'].isin(['Molino Oy']) & df['Model'].isin(['MU2-2B-25'])].value_counts('Aircraft_Category')"
   ]
  },
  {
   "cell_type": "code",
   "execution_count": null,
   "id": "dd4ce1f6-ba0f-4d64-93a3-d28bfc24ab78",
   "metadata": {},
   "outputs": [],
   "source": [
    "df[df['Model'].str.lower().str.startswith('mu2')].value_counts('Make')"
   ]
  },
  {
   "cell_type": "markdown",
   "id": "35f257e9-5c08-4bf0-92a3-6d4e167c5b01",
   "metadata": {},
   "source": [
    "MU2-2B-25 is a model of a Mitsubishi airplane. Molino Oy seems to make gliders exclusively. So this entry was entered incorrectly and the make should be changed to Mitsubishi."
   ]
  },
  {
   "cell_type": "code",
   "execution_count": null,
   "id": "89b11b06-0069-4190-ba03-0343c737c03e",
   "metadata": {},
   "outputs": [],
   "source": [
    "df.loc[(df['Model'].isin(['MU2-2B-25'])) & (df['Make'].isin(['Molino Oy'])), 'Make'] = 'Mitsubishi'\n",
    "\n",
    "df[df['Make'] == 'Molino Oy'].value_counts('Model', dropna=False)"
   ]
  },
  {
   "cell_type": "code",
   "execution_count": null,
   "id": "e784fe84-986d-4bbc-b652-e29d2dcf4e51",
   "metadata": {},
   "outputs": [],
   "source": [
    "df.loc[df['Make'].isin(['Molino Oy']),'Aircraft_Category'] = 'Glider'"
   ]
  },
  {
   "cell_type": "code",
   "execution_count": null,
   "id": "2b164c60-69bf-4f31-be1d-2783e485779a",
   "metadata": {},
   "outputs": [],
   "source": [
    "df[df['Aircraft_Category'].isna()]['Make'].value_counts().head(10)"
   ]
  },
  {
   "cell_type": "code",
   "execution_count": null,
   "id": "279fbd24-69e7-41e1-bbc4-53e5b112254a",
   "metadata": {},
   "outputs": [],
   "source": [
    "df[df['Make'] == 'Howard Aircraft Corp.'].value_counts('Model', dropna=False)"
   ]
  },
  {
   "cell_type": "markdown",
   "id": "d21367ef-cb1a-46c8-be3c-0e2cee107cfd",
   "metadata": {},
   "source": [
    "The 500 model is an airplane made by Howard Aero Incorporated, not Howard Aircraft. The Tierra II airplane is made by Teratorn Aircraft."
   ]
  },
  {
   "cell_type": "code",
   "execution_count": null,
   "id": "cb481430-557b-4ea1-89ea-94ceb5777345",
   "metadata": {},
   "outputs": [],
   "source": [
    "df.loc[(df['Model'].isin(['500'])) & (df['Make'].isin(['Howard Aircraft Corp.'])), 'Make'] = 'Howard Aero Incorporated'\n",
    "df.loc[(df['Model'].isin(['TIERRA II'])) & (df['Make'].isin(['Howard Aircraft Corp.'])), 'Make'] = 'Teratorn Aircraft'\n",
    "\n",
    "df[df['Make'].str.lower().str.startswith('howard aero')].value_counts('Make')"
   ]
  },
  {
   "cell_type": "code",
   "execution_count": null,
   "id": "dedc3a8c-7733-41c6-b37e-b6afb0d37784",
   "metadata": {},
   "outputs": [],
   "source": [
    "df[df['Make'].str.lower().str.startswith('howard')].value_counts('Make')"
   ]
  },
  {
   "cell_type": "code",
   "execution_count": null,
   "id": "b9613482-8882-48e9-bba5-14be7a2fd067",
   "metadata": {},
   "outputs": [],
   "source": [
    "df.loc[df['Make'].isin(['Howard Aircraft Corp.', 'HOWARD AIRCRAFT']),'Make'] = 'Howard Aircraft'\n",
    "\n",
    "df[df['Make'].str.lower().str.startswith('howard')].value_counts('Make')"
   ]
  },
  {
   "cell_type": "code",
   "execution_count": null,
   "id": "56f52012-fad2-4e42-bb1e-fda92bb0a891",
   "metadata": {},
   "outputs": [],
   "source": [
    "df[df['Make'] == 'Howard Aircraft'].value_counts('Aircraft_Category', dropna=False)"
   ]
  },
  {
   "cell_type": "code",
   "execution_count": null,
   "id": "0ddce43b-12da-4a66-b30f-c164e75da1d2",
   "metadata": {},
   "outputs": [],
   "source": [
    "df.loc[df['Make'].isin(['Howard Aircraft']),'Aircraft_Category'] = 'Airplane'\n",
    "\n",
    "df[df['Aircraft_Category'].isna()]['Make'].value_counts().head(10)"
   ]
  },
  {
   "cell_type": "markdown",
   "id": "72ea9377-e685-41a7-b8f8-175dbf0c92e8",
   "metadata": {},
   "source": [
    "We can fix some of these empty categories through web search"
   ]
  },
  {
   "cell_type": "code",
   "execution_count": null,
   "id": "f0560f91-87ed-4572-8432-afb5f453825b",
   "metadata": {},
   "outputs": [],
   "source": [
    "df.loc[df['Make'].isin(['American Blimp']),'Aircraft_Category'] = 'Blimp'\n",
    "df.loc[df['Make'].isin(['General Balloon']),'Aircraft_Category'] = 'Balloon'\n",
    "df.loc[df['Make'].isin(['Laister', 'Scheibe Flugzeugbau']),'Aircraft_Category'] = 'Glider'\n",
    "df.loc[df['Make'].isin(['Intermountain Mfg. (imco)', 'Porterfield', 'Colonial', 'Artic Aircraft Corp.', 'Curtiss']),'Aircraft_Category'] = 'Airplane'\n",
    "\n",
    "df['Aircraft_Category'].value_counts(dropna=False)"
   ]
  },
  {
   "cell_type": "markdown",
   "id": "35a554a7-66e8-431b-bf25-98eddf5db6dc",
   "metadata": {},
   "source": [
    "At this point, the empty values in the category column have been reduced from about 56,000 to about 600. How does the current dataset look?"
   ]
  },
  {
   "cell_type": "code",
   "execution_count": null,
   "id": "c4bac84b-551d-4d1d-a29c-1ed83e911dc8",
   "metadata": {},
   "outputs": [],
   "source": [
    "df.loc[df['Aircraft_Category'].isin(['UNK']), 'Aircraft_Category'] = 'Unknown'\n",
    "df.loc[df['Aircraft_Category'].isin(['ULTR']), 'Aircraft_Category'] = 'Ultralight'\n",
    "df.loc[df['Aircraft_Category'].isin(['WSFT']), 'Aircraft_Category'] = 'Weight-Shift'"
   ]
  },
  {
   "cell_type": "code",
   "execution_count": null,
   "id": "0927fcbc-0582-40bf-a5a7-253d00abb0ac",
   "metadata": {},
   "outputs": [],
   "source": [
    "df['Aircraft_Category'] = df['Aircraft_Category'].fillna('Unknown')"
   ]
  },
  {
   "cell_type": "code",
   "execution_count": null,
   "id": "341b8377-c37b-449f-99a2-27dde193041e",
   "metadata": {},
   "outputs": [],
   "source": [
    "df['Aircraft_Category'].value_counts(dropna=False)"
   ]
  },
  {
   "cell_type": "code",
   "execution_count": null,
   "id": "593fd43e-1dd1-4bd7-9912-288d7637edd5",
   "metadata": {},
   "outputs": [],
   "source": [
    "df.info()"
   ]
  },
  {
   "cell_type": "markdown",
   "id": "bdb05f92-462f-4266-a43e-c54a4607dbb9",
   "metadata": {
    "panel-layout": {
     "height": 60.59375,
     "visible": true,
     "width": 100
    }
   },
   "source": [
    "# Exploratory Data Analysis"
   ]
  },
  {
   "cell_type": "code",
   "execution_count": null,
   "id": "e2508f9c-c3c8-43ac-bd5d-57421cf3d43b",
   "metadata": {},
   "outputs": [],
   "source": [
    "# Percentages for Aircraft_Category\n",
    "df['Aircraft_Category'].value_counts(normalize=True)"
   ]
  },
  {
   "cell_type": "markdown",
   "id": "2b31c7c3-964e-4252-8cf7-cdd4754d492d",
   "metadata": {},
   "source": [
    "So our dataset categories are about 87% airplane, almost 10% helicopter, and the rest (including 'Unknown') cover the remaining few percent.\n",
    "Let's compare the airplanes and helicopters to the damage stats."
   ]
  },
  {
   "cell_type": "code",
   "execution_count": null,
   "id": "c3d3ab8b-7c27-4555-b6a2-a284aab5cf5c",
   "metadata": {},
   "outputs": [],
   "source": [
    "incidents_airplane = df[df['Aircraft_Category'] == 'Airplane']\n",
    "incidents_helicopter = df[df['Aircraft_Category'] == 'Helicopter']\n",
    "\n",
    "substantial_damage_airplane = incidents_airplane[incidents_airplane['Aircraft_damage'] == 'Substantial'].shape[0]\n",
    "minor_damage_airplane = incidents_airplane[incidents_airplane['Aircraft_damage'] == 'Minor'].shape[0]\n",
    "destroyed_airplane = incidents_airplane[incidents_airplane['Aircraft_damage'] == 'Destroyed'].shape[0]\n",
    "\n",
    "substantial_damage_percent_airplane = substantial_damage_airplane / incidents_airplane.shape[0]*100\n",
    "minor_damage_percent_airplane = minor_damage_airplane / incidents_airplane.shape[0]*100\n",
    "destroyed_percent_airplane = destroyed_airplane / incidents_airplane.shape[0]*100\n",
    "\n",
    "substantial_damage_helicopter = incidents_helicopter[incidents_helicopter['Aircraft_damage'] == 'Substantial'].shape[0]\n",
    "minor_damage_helicopter = incidents_helicopter[incidents_helicopter['Aircraft_damage'] == 'Minor'].shape[0]\n",
    "destroyed_helicopter = incidents_helicopter[incidents_helicopter['Aircraft_damage'] == 'Destroyed'].shape[0]\n",
    "\n",
    "substantial_damage_percent_helicopter = substantial_damage_helicopter / incidents_helicopter.shape[0]*100\n",
    "minor_damage_percent_helicopter = minor_damage_helicopter / incidents_helicopter.shape[0]*100\n",
    "destroyed_percent_helicopter = destroyed_helicopter / incidents_helicopter.shape[0]*100\n",
    "\n",
    "print(f'The percentage of substantial damage in all airplane incidents is {substantial_damage_percent_airplane:.1f}%')\n",
    "print(f'The percentage of substantial damage in all helicopter incidents is {substantial_damage_percent_helicopter:.1f}%')\n",
    "print()\n",
    "print(f'The percentage of minor damage in all airplane incidents is {minor_damage_percent_airplane:.1f}%')\n",
    "print(f'The percentage of minor damage in all helicopter incidents is {minor_damage_percent_helicopter:.1f}%')\n",
    "print()\n",
    "print(f'The percentage of destroyed in all airplane incidents is {destroyed_percent_airplane:.1f}%')\n",
    "print(f'The percentage of destroyed in all helicopter incidents is {destroyed_percent_helicopter:.1f}%')"
   ]
  },
  {
   "cell_type": "markdown",
   "id": "fd9a2753-3365-4df9-82a8-840291e30e43",
   "metadata": {},
   "source": [
    "The damage level percentages are very similar for planes and helicopters."
   ]
  },
  {
   "cell_type": "markdown",
   "id": "268c4ed3-2465-4650-840c-74a5cd320a5e",
   "metadata": {},
   "source": [
    "For the business problem, I need to identify the best makes and models for my company to consider investing in. I've determined that my company is interested in single-engine airplanes and perhaps even helicopters for use in a short-range corporate transporation scenario.\n",
    "\n",
    "So first I need to identify the single-engine aircraft in the dataset and divide those between planes and helicopters."
   ]
  },
  {
   "cell_type": "code",
   "execution_count": null,
   "id": "88f77c19-ff23-4e90-882c-c1f11be9a1d4",
   "metadata": {},
   "outputs": [],
   "source": [
    "single_engine_craft = df[df['Number_of_Engines'] == 1.0]\n",
    "\n",
    "single_engine_planes = single_engine_craft[single_engine_craft['Aircraft_Category'] == 'Airplane']\n",
    "single_engine_helicopters = single_engine_craft[single_engine_craft['Aircraft_Category'] == 'Helicopter']\n",
    "\n",
    "print(single_engine_craft['Aircraft_Category'].value_counts())\n",
    "print()\n",
    "print(single_engine_planes['Aircraft_Category'].value_counts())\n",
    "print()\n",
    "print(single_engine_helicopters['Aircraft_Category'].value_counts())"
   ]
  },
  {
   "cell_type": "markdown",
   "id": "7684807a-01ca-4394-b45b-21c3e8533dd8",
   "metadata": {},
   "source": [
    "So this tells me I have 57806 plane accidents (single_engine_planes subset) and 6346 helicopter accidents (single_engine_helicopters subset) to work with. But not all of these planes and helicopters would be suitable to use as corporate transportation since a lot of them are going to be small, personal aircraft, not business aircraft. So some further narrowing is called for to identify single-engine business aircraft."
   ]
  },
  {
   "cell_type": "code",
   "execution_count": null,
   "id": "0726fb89-2667-4ce8-9051-d1a2ebb40f93",
   "metadata": {},
   "outputs": [],
   "source": [
    "# Look at the makes of the single-engine planes subset\n",
    "print(single_engine_planes['Make'].value_counts().head(25))"
   ]
  },
  {
   "cell_type": "markdown",
   "id": "528d18d3-6ab6-496f-8e25-a79def431c70",
   "metadata": {},
   "source": [
    "Cessna currently makes a business single-engine prop plane in the Caravan series, known as the 208 model"
   ]
  },
  {
   "cell_type": "code",
   "execution_count": null,
   "id": "2788c7e7-09eb-47b9-b187-65e2b05eca11",
   "metadata": {},
   "outputs": [],
   "source": [
    "cessna_planes = single_engine_craft[single_engine_craft['Make'] == 'Cessna']\n",
    "\n",
    "# show the models of cessna_planes that begin with 208\n",
    "print(cessna_planes[cessna_planes['Model'].str.startswith('208')]['Model'].value_counts())\n",
    "print(incidents_airplane[incidents_airplane['Model'].str.startswith('208')]['Model'].value_counts())"
   ]
  },
  {
   "cell_type": "markdown",
   "id": "f201a4c2-1c7e-4100-b100-abc98fb2d3eb",
   "metadata": {},
   "source": [
    "I see here that the Cessna 208 Models are not all categorized correctly in either the engine number column or the make column."
   ]
  },
  {
   "cell_type": "code",
   "execution_count": null,
   "id": "3536ebbc-e1d6-49f2-a53d-febe654e2cd6",
   "metadata": {},
   "outputs": [],
   "source": [
    "df[df['Model'].str.contains('208')].value_counts('Number_of_Engines', dropna=False)"
   ]
  },
  {
   "cell_type": "markdown",
   "id": "089e7e56-f88e-4b5f-b903-6fc15eb9deb8",
   "metadata": {},
   "source": [
    "Since we know that the 208 models are single-engine planes, I can correct this here, adding more useful planes to my Cessna subset"
   ]
  },
  {
   "cell_type": "code",
   "execution_count": null,
   "id": "d6f38745-8471-41fa-b74c-f278d7ad5e85",
   "metadata": {},
   "outputs": [],
   "source": [
    "df[df['Model'].str.contains('208')].value_counts('Model', dropna=False)"
   ]
  },
  {
   "cell_type": "code",
   "execution_count": null,
   "id": "ba7d899f-d740-400a-b7d3-67cf315552ef",
   "metadata": {},
   "outputs": [],
   "source": [
    "df.loc[df['Model'].str.contains('208'), 'Number_of_Engines'] = 1.0\n",
    "\n",
    "df[df['Model'].str.contains('208')].value_counts('Number_of_Engines', dropna=False)"
   ]
  },
  {
   "cell_type": "code",
   "execution_count": null,
   "id": "00c5f724-6c3d-43ed-b958-7d76423fc729",
   "metadata": {},
   "outputs": [],
   "source": [
    "df[df['Model'].str.contains('208')].value_counts('Make', dropna=False)"
   ]
  },
  {
   "cell_type": "markdown",
   "id": "5c78a7b0-1865-4e18-84d7-545e96f376e3",
   "metadata": {},
   "source": [
    "Since Textron is the parent company of Cessna, I can just combine them."
   ]
  },
  {
   "cell_type": "code",
   "execution_count": null,
   "id": "b8601c08-94ae-4522-bcd7-971319aacccf",
   "metadata": {},
   "outputs": [],
   "source": [
    "df.loc[df['Make'].isin(['TEXTRON AVIATION INC']),'Make'] = 'Cessna'\n",
    "\n",
    "#refresh the single_engine and cessna subsets\n",
    "single_engine_craft = df[df['Number_of_Engines'] == 1.0]\n",
    "cessna_planes = single_engine_craft[single_engine_craft['Make'] == 'Cessna']\n",
    "\n",
    "# show the models of cessna_planes that contain 208\n",
    "print(cessna_planes[cessna_planes['Model'].str.contains('208')]['Model'].value_counts())"
   ]
  },
  {
   "cell_type": "code",
   "execution_count": null,
   "id": "1311cff3-4369-4bfd-85f2-2afdd81187ac",
   "metadata": {},
   "outputs": [],
   "source": [
    "cessna_208 = cessna_planes[cessna_planes['Model'].str.contains('208')]\n",
    "\n",
    "cessna_208.value_counts('Make')"
   ]
  },
  {
   "cell_type": "markdown",
   "id": "9e79a8b9-09a9-4f83-8c22-129cad9de134",
   "metadata": {},
   "source": [
    "So I now have 306 Cessna single-engine 208 models in the accident subset."
   ]
  },
  {
   "cell_type": "markdown",
   "id": "5c3cb26f-3f96-4e7f-a63b-ed373a233537",
   "metadata": {},
   "source": [
    "Piper currently makes a business single-engine plane in the M series (M350, M500, M700), also known as PA-46 in our dataset."
   ]
  },
  {
   "cell_type": "code",
   "execution_count": null,
   "id": "abaaee68-46c4-4d91-966e-2153443767ee",
   "metadata": {},
   "outputs": [],
   "source": [
    "piper_planes = single_engine_craft[single_engine_craft['Make'] == 'Piper']\n",
    "\n",
    "print(piper_planes[piper_planes['Model'].str.contains('PA-46')]['Model'].value_counts())"
   ]
  },
  {
   "cell_type": "code",
   "execution_count": null,
   "id": "e98bf9ba-2b75-4f33-81fb-3dfa79d42ea3",
   "metadata": {},
   "outputs": [],
   "source": [
    "# Let's make sure we have all the Piper PA-46 models in the piper subset\n",
    "print(df[df['Model'].str.contains('PA-46')]['Model'].value_counts())"
   ]
  },
  {
   "cell_type": "markdown",
   "id": "72920e11-5e72-460e-b67f-1d41abec71fd",
   "metadata": {},
   "source": [
    "There are more PA-46 models in the original df than in the piper subset"
   ]
  },
  {
   "cell_type": "code",
   "execution_count": null,
   "id": "7dfc75c0-6c2c-4bab-a8d2-56f4204a72b9",
   "metadata": {},
   "outputs": [],
   "source": [
    "# Is it the engine number that was entered incorrectly?\n",
    "df[df['Model'].str.startswith('PA-46')].value_counts('Number_of_Engines', dropna=False)"
   ]
  },
  {
   "cell_type": "code",
   "execution_count": null,
   "id": "8bdcd1f4-ee44-47cc-b99e-d9daa4835f83",
   "metadata": {},
   "outputs": [],
   "source": [
    "# or perhaps the make for the PA-46 is not all given as Piper\n",
    "df[df['Model'].str.startswith('PA-46')].value_counts('Make', dropna=False)"
   ]
  },
  {
   "cell_type": "code",
   "execution_count": null,
   "id": "a4de8a1c-b5db-4864-8c17-d3cac1c28a45",
   "metadata": {},
   "outputs": [],
   "source": [
    "# Correct the engine numbers for PA-46 models and combine the piper makes into 'Piper'\n",
    "df.loc[df['Model'].str.startswith('PA-46'), 'Number_of_Engines'] = 1.0\n",
    "df.loc[df['Make'].isin(['NEW PIPER AIRCRAFT INC', 'New Piper', 'New Piper Aircraft, Inc.']),'Make'] = 'Piper'\n",
    "\n",
    "#refresh the single_engine and piper subsets\n",
    "single_engine_craft = df[df['Number_of_Engines'] == 1.0]\n",
    "piper_planes = single_engine_craft[single_engine_craft['Make'] == 'Piper']\n",
    "\n",
    "print(piper_planes[piper_planes['Model'].str.startswith('PA-46')]['Model'].value_counts())"
   ]
  },
  {
   "cell_type": "code",
   "execution_count": null,
   "id": "6b784a48-15ff-4680-a1c5-a547a95fe1db",
   "metadata": {},
   "outputs": [],
   "source": [
    "piper_PA46 = piper_planes[piper_planes['Model'].str.startswith('PA-46')]\n",
    "\n",
    "piper_PA46.value_counts('Make')"
   ]
  },
  {
   "cell_type": "markdown",
   "id": "176205dc-3aa4-4956-9980-1c7880852b5f",
   "metadata": {},
   "source": [
    "This gives me 219 models in the Piper subset that are suitable for the company's conception of a corporate plane for business clients."
   ]
  },
  {
   "cell_type": "markdown",
   "id": "9ad8d3ae-74d2-4196-aa90-a7cd3348f28b",
   "metadata": {},
   "source": [
    "Google informs me that there are a couple more models that would fit our citeria: the Pilatus PC-12 and the Socata (now Daher) TBM series, and the Kodiak series"
   ]
  },
  {
   "cell_type": "code",
   "execution_count": null,
   "id": "9b6ee0b2-512f-4520-a602-b5233402c27a",
   "metadata": {},
   "outputs": [],
   "source": [
    "df[df['Make'].str.startswith('Pila')].value_counts('Make', dropna=False)"
   ]
  },
  {
   "cell_type": "markdown",
   "id": "6f398c81-b0fa-49b8-ba1b-8a5aacfb9d8c",
   "metadata": {
    "panel-layout": {
     "height": 60.59375,
     "visible": true,
     "width": 100
    }
   },
   "source": [
    "# Conclusions"
   ]
  },
  {
   "cell_type": "markdown",
   "id": "5bd4a73d-9c08-443c-8162-e98029d1ebe6",
   "metadata": {
    "panel-layout": {
     "height": 10,
     "visible": true,
     "width": 100
    }
   },
   "source": []
  },
  {
   "cell_type": "markdown",
   "id": "b2e7e33f-c9ab-4b3d-a53f-91633d800480",
   "metadata": {
    "panel-layout": {
     "height": 50.796875,
     "visible": true,
     "width": 100
    }
   },
   "source": [
    "## Limitations"
   ]
  },
  {
   "cell_type": "markdown",
   "id": "c403951d-f4f1-4fac-989e-4175bfe4d8cf",
   "metadata": {
    "panel-layout": {
     "height": 10,
     "visible": true,
     "width": 100
    }
   },
   "source": []
  },
  {
   "cell_type": "markdown",
   "id": "0299e5c9-92e6-4d10-8a4b-644e6e999b83",
   "metadata": {
    "panel-layout": {
     "height": 50.796875,
     "visible": true,
     "width": 100
    }
   },
   "source": [
    "## Recommendations"
   ]
  },
  {
   "cell_type": "markdown",
   "id": "0e7e0756-37be-4435-aa79-e928859520c3",
   "metadata": {
    "panel-layout": {
     "height": 10,
     "visible": true,
     "width": 100
    }
   },
   "source": []
  },
  {
   "cell_type": "markdown",
   "id": "47d7193a-00d4-48a5-abbf-11b260205ec7",
   "metadata": {
    "panel-layout": {
     "height": 50.796875,
     "visible": true,
     "width": 100
    }
   },
   "source": [
    "## Next Steps"
   ]
  },
  {
   "cell_type": "code",
   "execution_count": null,
   "id": "baa17dbc-6135-403d-95cd-1532714ac0be",
   "metadata": {},
   "outputs": [],
   "source": []
  }
 ],
 "metadata": {
  "kernelspec": {
   "display_name": "Python 3 (ipykernel)",
   "language": "python",
   "name": "python3"
  },
  "language_info": {
   "codemirror_mode": {
    "name": "ipython",
    "version": 3
   },
   "file_extension": ".py",
   "mimetype": "text/x-python",
   "name": "python",
   "nbconvert_exporter": "python",
   "pygments_lexer": "ipython3",
   "version": "3.12.7"
  },
  "panel-cell-order": [
   "544715bc-29bf-4a98-979a-fdf04e4ffd7a",
   "4d6ae9b7-2f5a-4e4e-9300-1bc438a94f98",
   "552a1089-504e-45a3-924e-53a4795fbc6d",
   "322e262d-8ebf-43f5-9f19-9d620595506e",
   "5d21adb1-10c9-4e72-921b-f8328205eb6b",
   "819fca67-cd0c-4042-9008-c9bcaa0a1969",
   "bdb05f92-462f-4266-a43e-c54a4607dbb9",
   "1a5470ee-8947-4850-9eaa-a998e616d37c",
   "6f398c81-b0fa-49b8-ba1b-8a5aacfb9d8c",
   "5bd4a73d-9c08-443c-8162-e98029d1ebe6",
   "b2e7e33f-c9ab-4b3d-a53f-91633d800480",
   "c403951d-f4f1-4fac-989e-4175bfe4d8cf",
   "0299e5c9-92e6-4d10-8a4b-644e6e999b83",
   "0e7e0756-37be-4435-aa79-e928859520c3",
   "47d7193a-00d4-48a5-abbf-11b260205ec7"
  ]
 },
 "nbformat": 4,
 "nbformat_minor": 5
}
