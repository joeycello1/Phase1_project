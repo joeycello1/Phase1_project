{
 "cells": [
  {
   "cell_type": "markdown",
   "id": "544715bc-29bf-4a98-979a-fdf04e4ffd7a",
   "metadata": {
    "panel-layout": {
     "height": 60.59375,
     "visible": true,
     "width": 100
    }
   },
   "source": [
    "# Business Understanding"
   ]
  },
  {
   "cell_type": "markdown",
   "id": "62ef2c2a-6090-4d63-be6e-087680d5ea88",
   "metadata": {},
   "source": [
    "The business is interested in expanding its portfolio by becoming involved in the aviation industry, specifically as an owner/operator of aircraft for short-range corporate transportation that could involve light planes and helicopters.\r\n",
    "\r\n",
    "I have been tasked with helping to determine some of the risks and suggesting which aircraft would be best suited for the company at the beginning stages of their new aviation division.\r\n",
    "\r\n",
    "The stakeholders involved here would include not only the owners of the company, but also the department heads and employees of the aviation division that oversee and operate the aircraft for the company.\r\n",
    "\r\n",
    "The goals for this project include recommending what kind of aircraft would provide the least risk for a commercial enterprise and suggesting certain operating protocols to help mitigate those risks."
   ]
  },
  {
   "cell_type": "markdown",
   "id": "552a1089-504e-45a3-924e-53a4795fbc6d",
   "metadata": {
    "jp-MarkdownHeadingCollapsed": true,
    "panel-layout": {
     "height": 60.59375,
     "visible": true,
     "width": 100
    }
   },
   "source": [
    "# Data Understanding"
   ]
  },
  {
   "cell_type": "markdown",
   "id": "322e262d-8ebf-43f5-9f19-9d620595506e",
   "metadata": {
    "panel-layout": {
     "height": 366.53125,
     "visible": true,
     "width": 100
    }
   },
   "source": [
    "The dataset being made available for this project is the National Transportation Safety Board aviation accident database as hosted on Kaggle.com at <a href=\"https://www.kaggle.com/datasets/khsamaha/aviation-accident-database-synopses\" target=\"_blank\">this link</a>. This dataset contains information about civil aviation accidents mainly in the US and includes many types of aircraft, from hot air balloons and powered parachutes to helicopters and airplanes. The current dataset contains 87,951 unique \"Event ID\" numbers, each representing an aircraft incident. It currently covers the years mainly from 1982 through 2022, with just a handful of accidents recorded before 1982. The dataset has 31 columns for each accident investigation that includes information like date and location, type of aircraft, make and model, injury severity information and number of injured, aircraft damage level, phase of flight for the accident, weather conditions, and reasons for the accident after the investigation is complete.\n",
    "\n",
    "As the project is centered around risks of aviation, this dataset should prove to be a valuable resource for determining what kinds of risks exist in operating aircraft and making recommendations as far as what type of aircraft would be less of an investment risk. The columns detailing injury levels (Fatal, Serious, Minor, and Uninjured) to passengers and crew illuminate the human risks in aviation. Information related to aircraft damage levels will be valuable in terms of the financial risks.\n",
    "\n",
    "Of concern in working with the dataset will be the lack of values in certain columns, especially the aircraft category and the accident reason columns. The \"Aircraft Category\" column is currently 64% empty, and the \"Report Status\" column (which provides a reason for the accident) is over 70% lacking in useful information. These two columns especially will need some in-depth cleaning and preparation."
   ]
  },
  {
   "cell_type": "markdown",
   "id": "5d21adb1-10c9-4e72-921b-f8328205eb6b",
   "metadata": {
    "panel-layout": {
     "height": 60.59375,
     "visible": true,
     "width": 100
    }
   },
   "source": [
    "# Data Preparation"
   ]
  },
  {
   "cell_type": "markdown",
   "id": "819fca67-cd0c-4042-9008-c9bcaa0a1969",
   "metadata": {
    "panel-layout": {
     "height": 10,
     "visible": true,
     "width": 100
    }
   },
   "source": [
    "## Data Cleaning"
   ]
  },
  {
   "cell_type": "markdown",
   "id": "b67a103b-ebd5-4b46-87f3-b8d7dbbb219d",
   "metadata": {},
   "source": [
    "The dataset is named AviationData.csv and is in the data folder"
   ]
  },
  {
   "cell_type": "code",
   "execution_count": 1075,
   "id": "8f634d4a-a35b-4264-bd25-9d46e7dd7a0b",
   "metadata": {},
   "outputs": [
    {
     "name": "stderr",
     "output_type": "stream",
     "text": [
      "C:\\Users\\joeyc\\AppData\\Local\\Temp\\ipykernel_11616\\97458938.py:6: DtypeWarning: Columns (6,7,28) have mixed types. Specify dtype option on import or set low_memory=False.\n",
      "  df = pd.read_csv('data/AviationData.csv', encoding='latin-1')\n"
     ]
    },
    {
     "data": {
      "text/html": [
       "<div>\n",
       "<style scoped>\n",
       "    .dataframe tbody tr th:only-of-type {\n",
       "        vertical-align: middle;\n",
       "    }\n",
       "\n",
       "    .dataframe tbody tr th {\n",
       "        vertical-align: top;\n",
       "    }\n",
       "\n",
       "    .dataframe thead th {\n",
       "        text-align: right;\n",
       "    }\n",
       "</style>\n",
       "<table border=\"1\" class=\"dataframe\">\n",
       "  <thead>\n",
       "    <tr style=\"text-align: right;\">\n",
       "      <th></th>\n",
       "      <th>Event.Id</th>\n",
       "      <th>Investigation.Type</th>\n",
       "      <th>Accident.Number</th>\n",
       "      <th>Event.Date</th>\n",
       "      <th>Location</th>\n",
       "      <th>Country</th>\n",
       "      <th>Latitude</th>\n",
       "      <th>Longitude</th>\n",
       "      <th>Airport.Code</th>\n",
       "      <th>Airport.Name</th>\n",
       "      <th>...</th>\n",
       "      <th>Purpose.of.flight</th>\n",
       "      <th>Air.carrier</th>\n",
       "      <th>Total.Fatal.Injuries</th>\n",
       "      <th>Total.Serious.Injuries</th>\n",
       "      <th>Total.Minor.Injuries</th>\n",
       "      <th>Total.Uninjured</th>\n",
       "      <th>Weather.Condition</th>\n",
       "      <th>Broad.phase.of.flight</th>\n",
       "      <th>Report.Status</th>\n",
       "      <th>Publication.Date</th>\n",
       "    </tr>\n",
       "  </thead>\n",
       "  <tbody>\n",
       "    <tr>\n",
       "      <th>0</th>\n",
       "      <td>20001218X45444</td>\n",
       "      <td>Accident</td>\n",
       "      <td>SEA87LA080</td>\n",
       "      <td>1948-10-24</td>\n",
       "      <td>MOOSE CREEK, ID</td>\n",
       "      <td>United States</td>\n",
       "      <td>NaN</td>\n",
       "      <td>NaN</td>\n",
       "      <td>NaN</td>\n",
       "      <td>NaN</td>\n",
       "      <td>...</td>\n",
       "      <td>Personal</td>\n",
       "      <td>NaN</td>\n",
       "      <td>2.0</td>\n",
       "      <td>0.0</td>\n",
       "      <td>0.0</td>\n",
       "      <td>0.0</td>\n",
       "      <td>UNK</td>\n",
       "      <td>Cruise</td>\n",
       "      <td>Probable Cause</td>\n",
       "      <td>NaN</td>\n",
       "    </tr>\n",
       "    <tr>\n",
       "      <th>1</th>\n",
       "      <td>20001218X45447</td>\n",
       "      <td>Accident</td>\n",
       "      <td>LAX94LA336</td>\n",
       "      <td>1962-07-19</td>\n",
       "      <td>BRIDGEPORT, CA</td>\n",
       "      <td>United States</td>\n",
       "      <td>NaN</td>\n",
       "      <td>NaN</td>\n",
       "      <td>NaN</td>\n",
       "      <td>NaN</td>\n",
       "      <td>...</td>\n",
       "      <td>Personal</td>\n",
       "      <td>NaN</td>\n",
       "      <td>4.0</td>\n",
       "      <td>0.0</td>\n",
       "      <td>0.0</td>\n",
       "      <td>0.0</td>\n",
       "      <td>UNK</td>\n",
       "      <td>Unknown</td>\n",
       "      <td>Probable Cause</td>\n",
       "      <td>19-09-1996</td>\n",
       "    </tr>\n",
       "    <tr>\n",
       "      <th>2</th>\n",
       "      <td>20061025X01555</td>\n",
       "      <td>Accident</td>\n",
       "      <td>NYC07LA005</td>\n",
       "      <td>1974-08-30</td>\n",
       "      <td>Saltville, VA</td>\n",
       "      <td>United States</td>\n",
       "      <td>36.922223</td>\n",
       "      <td>-81.878056</td>\n",
       "      <td>NaN</td>\n",
       "      <td>NaN</td>\n",
       "      <td>...</td>\n",
       "      <td>Personal</td>\n",
       "      <td>NaN</td>\n",
       "      <td>3.0</td>\n",
       "      <td>NaN</td>\n",
       "      <td>NaN</td>\n",
       "      <td>NaN</td>\n",
       "      <td>IMC</td>\n",
       "      <td>Cruise</td>\n",
       "      <td>Probable Cause</td>\n",
       "      <td>26-02-2007</td>\n",
       "    </tr>\n",
       "    <tr>\n",
       "      <th>3</th>\n",
       "      <td>20001218X45448</td>\n",
       "      <td>Accident</td>\n",
       "      <td>LAX96LA321</td>\n",
       "      <td>1977-06-19</td>\n",
       "      <td>EUREKA, CA</td>\n",
       "      <td>United States</td>\n",
       "      <td>NaN</td>\n",
       "      <td>NaN</td>\n",
       "      <td>NaN</td>\n",
       "      <td>NaN</td>\n",
       "      <td>...</td>\n",
       "      <td>Personal</td>\n",
       "      <td>NaN</td>\n",
       "      <td>2.0</td>\n",
       "      <td>0.0</td>\n",
       "      <td>0.0</td>\n",
       "      <td>0.0</td>\n",
       "      <td>IMC</td>\n",
       "      <td>Cruise</td>\n",
       "      <td>Probable Cause</td>\n",
       "      <td>12-09-2000</td>\n",
       "    </tr>\n",
       "    <tr>\n",
       "      <th>4</th>\n",
       "      <td>20041105X01764</td>\n",
       "      <td>Accident</td>\n",
       "      <td>CHI79FA064</td>\n",
       "      <td>1979-08-02</td>\n",
       "      <td>Canton, OH</td>\n",
       "      <td>United States</td>\n",
       "      <td>NaN</td>\n",
       "      <td>NaN</td>\n",
       "      <td>NaN</td>\n",
       "      <td>NaN</td>\n",
       "      <td>...</td>\n",
       "      <td>Personal</td>\n",
       "      <td>NaN</td>\n",
       "      <td>1.0</td>\n",
       "      <td>2.0</td>\n",
       "      <td>NaN</td>\n",
       "      <td>0.0</td>\n",
       "      <td>VMC</td>\n",
       "      <td>Approach</td>\n",
       "      <td>Probable Cause</td>\n",
       "      <td>16-04-1980</td>\n",
       "    </tr>\n",
       "  </tbody>\n",
       "</table>\n",
       "<p>5 rows × 31 columns</p>\n",
       "</div>"
      ],
      "text/plain": [
       "         Event.Id Investigation.Type Accident.Number  Event.Date  \\\n",
       "0  20001218X45444           Accident      SEA87LA080  1948-10-24   \n",
       "1  20001218X45447           Accident      LAX94LA336  1962-07-19   \n",
       "2  20061025X01555           Accident      NYC07LA005  1974-08-30   \n",
       "3  20001218X45448           Accident      LAX96LA321  1977-06-19   \n",
       "4  20041105X01764           Accident      CHI79FA064  1979-08-02   \n",
       "\n",
       "          Location        Country   Latitude  Longitude Airport.Code  \\\n",
       "0  MOOSE CREEK, ID  United States        NaN        NaN          NaN   \n",
       "1   BRIDGEPORT, CA  United States        NaN        NaN          NaN   \n",
       "2    Saltville, VA  United States  36.922223 -81.878056          NaN   \n",
       "3       EUREKA, CA  United States        NaN        NaN          NaN   \n",
       "4       Canton, OH  United States        NaN        NaN          NaN   \n",
       "\n",
       "  Airport.Name  ... Purpose.of.flight Air.carrier Total.Fatal.Injuries  \\\n",
       "0          NaN  ...          Personal         NaN                  2.0   \n",
       "1          NaN  ...          Personal         NaN                  4.0   \n",
       "2          NaN  ...          Personal         NaN                  3.0   \n",
       "3          NaN  ...          Personal         NaN                  2.0   \n",
       "4          NaN  ...          Personal         NaN                  1.0   \n",
       "\n",
       "  Total.Serious.Injuries Total.Minor.Injuries Total.Uninjured  \\\n",
       "0                    0.0                  0.0             0.0   \n",
       "1                    0.0                  0.0             0.0   \n",
       "2                    NaN                  NaN             NaN   \n",
       "3                    0.0                  0.0             0.0   \n",
       "4                    2.0                  NaN             0.0   \n",
       "\n",
       "  Weather.Condition  Broad.phase.of.flight   Report.Status Publication.Date  \n",
       "0               UNK                 Cruise  Probable Cause              NaN  \n",
       "1               UNK                Unknown  Probable Cause       19-09-1996  \n",
       "2               IMC                 Cruise  Probable Cause       26-02-2007  \n",
       "3               IMC                 Cruise  Probable Cause       12-09-2000  \n",
       "4               VMC               Approach  Probable Cause       16-04-1980  \n",
       "\n",
       "[5 rows x 31 columns]"
      ]
     },
     "execution_count": 1075,
     "metadata": {},
     "output_type": "execute_result"
    }
   ],
   "source": [
    "import pandas as pd\n",
    "import numpy as np\n",
    "import matplotlib.pyplot as plt\n",
    "import seaborn as sns\n",
    "\n",
    "df = pd.read_csv('data/AviationData.csv', encoding='latin-1')\n",
    "\n",
    "df.head()"
   ]
  },
  {
   "cell_type": "markdown",
   "id": "b7a13ec5-24e2-4783-8fe8-47c9a711e404",
   "metadata": {},
   "source": [
    "rename columns to remove dots as they may cause errors in Python (replace dots with underscores)"
   ]
  },
  {
   "cell_type": "code",
   "execution_count": 1076,
   "id": "ca8ad7fb-8d22-43a5-8b9c-e041c1ad2cb2",
   "metadata": {},
   "outputs": [
    {
     "data": {
      "text/html": [
       "<div>\n",
       "<style scoped>\n",
       "    .dataframe tbody tr th:only-of-type {\n",
       "        vertical-align: middle;\n",
       "    }\n",
       "\n",
       "    .dataframe tbody tr th {\n",
       "        vertical-align: top;\n",
       "    }\n",
       "\n",
       "    .dataframe thead th {\n",
       "        text-align: right;\n",
       "    }\n",
       "</style>\n",
       "<table border=\"1\" class=\"dataframe\">\n",
       "  <thead>\n",
       "    <tr style=\"text-align: right;\">\n",
       "      <th></th>\n",
       "      <th>Event_Id</th>\n",
       "      <th>Investigation_Type</th>\n",
       "      <th>Accident_Number</th>\n",
       "      <th>Event_Date</th>\n",
       "      <th>Location</th>\n",
       "      <th>Country</th>\n",
       "      <th>Latitude</th>\n",
       "      <th>Longitude</th>\n",
       "      <th>Airport_Code</th>\n",
       "      <th>Airport_Name</th>\n",
       "      <th>...</th>\n",
       "      <th>Purpose_of_flight</th>\n",
       "      <th>Air_carrier</th>\n",
       "      <th>Total_Fatal_Injuries</th>\n",
       "      <th>Total_Serious_Injuries</th>\n",
       "      <th>Total_Minor_Injuries</th>\n",
       "      <th>Total_Uninjured</th>\n",
       "      <th>Weather_Condition</th>\n",
       "      <th>Broad_phase_of_flight</th>\n",
       "      <th>Report_Status</th>\n",
       "      <th>Publication_Date</th>\n",
       "    </tr>\n",
       "  </thead>\n",
       "  <tbody>\n",
       "    <tr>\n",
       "      <th>0</th>\n",
       "      <td>20001218X45444</td>\n",
       "      <td>Accident</td>\n",
       "      <td>SEA87LA080</td>\n",
       "      <td>1948-10-24</td>\n",
       "      <td>MOOSE CREEK, ID</td>\n",
       "      <td>United States</td>\n",
       "      <td>NaN</td>\n",
       "      <td>NaN</td>\n",
       "      <td>NaN</td>\n",
       "      <td>NaN</td>\n",
       "      <td>...</td>\n",
       "      <td>Personal</td>\n",
       "      <td>NaN</td>\n",
       "      <td>2.0</td>\n",
       "      <td>0.0</td>\n",
       "      <td>0.0</td>\n",
       "      <td>0.0</td>\n",
       "      <td>UNK</td>\n",
       "      <td>Cruise</td>\n",
       "      <td>Probable Cause</td>\n",
       "      <td>NaN</td>\n",
       "    </tr>\n",
       "    <tr>\n",
       "      <th>1</th>\n",
       "      <td>20001218X45447</td>\n",
       "      <td>Accident</td>\n",
       "      <td>LAX94LA336</td>\n",
       "      <td>1962-07-19</td>\n",
       "      <td>BRIDGEPORT, CA</td>\n",
       "      <td>United States</td>\n",
       "      <td>NaN</td>\n",
       "      <td>NaN</td>\n",
       "      <td>NaN</td>\n",
       "      <td>NaN</td>\n",
       "      <td>...</td>\n",
       "      <td>Personal</td>\n",
       "      <td>NaN</td>\n",
       "      <td>4.0</td>\n",
       "      <td>0.0</td>\n",
       "      <td>0.0</td>\n",
       "      <td>0.0</td>\n",
       "      <td>UNK</td>\n",
       "      <td>Unknown</td>\n",
       "      <td>Probable Cause</td>\n",
       "      <td>19-09-1996</td>\n",
       "    </tr>\n",
       "    <tr>\n",
       "      <th>2</th>\n",
       "      <td>20061025X01555</td>\n",
       "      <td>Accident</td>\n",
       "      <td>NYC07LA005</td>\n",
       "      <td>1974-08-30</td>\n",
       "      <td>Saltville, VA</td>\n",
       "      <td>United States</td>\n",
       "      <td>36.922223</td>\n",
       "      <td>-81.878056</td>\n",
       "      <td>NaN</td>\n",
       "      <td>NaN</td>\n",
       "      <td>...</td>\n",
       "      <td>Personal</td>\n",
       "      <td>NaN</td>\n",
       "      <td>3.0</td>\n",
       "      <td>NaN</td>\n",
       "      <td>NaN</td>\n",
       "      <td>NaN</td>\n",
       "      <td>IMC</td>\n",
       "      <td>Cruise</td>\n",
       "      <td>Probable Cause</td>\n",
       "      <td>26-02-2007</td>\n",
       "    </tr>\n",
       "    <tr>\n",
       "      <th>3</th>\n",
       "      <td>20001218X45448</td>\n",
       "      <td>Accident</td>\n",
       "      <td>LAX96LA321</td>\n",
       "      <td>1977-06-19</td>\n",
       "      <td>EUREKA, CA</td>\n",
       "      <td>United States</td>\n",
       "      <td>NaN</td>\n",
       "      <td>NaN</td>\n",
       "      <td>NaN</td>\n",
       "      <td>NaN</td>\n",
       "      <td>...</td>\n",
       "      <td>Personal</td>\n",
       "      <td>NaN</td>\n",
       "      <td>2.0</td>\n",
       "      <td>0.0</td>\n",
       "      <td>0.0</td>\n",
       "      <td>0.0</td>\n",
       "      <td>IMC</td>\n",
       "      <td>Cruise</td>\n",
       "      <td>Probable Cause</td>\n",
       "      <td>12-09-2000</td>\n",
       "    </tr>\n",
       "    <tr>\n",
       "      <th>4</th>\n",
       "      <td>20041105X01764</td>\n",
       "      <td>Accident</td>\n",
       "      <td>CHI79FA064</td>\n",
       "      <td>1979-08-02</td>\n",
       "      <td>Canton, OH</td>\n",
       "      <td>United States</td>\n",
       "      <td>NaN</td>\n",
       "      <td>NaN</td>\n",
       "      <td>NaN</td>\n",
       "      <td>NaN</td>\n",
       "      <td>...</td>\n",
       "      <td>Personal</td>\n",
       "      <td>NaN</td>\n",
       "      <td>1.0</td>\n",
       "      <td>2.0</td>\n",
       "      <td>NaN</td>\n",
       "      <td>0.0</td>\n",
       "      <td>VMC</td>\n",
       "      <td>Approach</td>\n",
       "      <td>Probable Cause</td>\n",
       "      <td>16-04-1980</td>\n",
       "    </tr>\n",
       "  </tbody>\n",
       "</table>\n",
       "<p>5 rows × 31 columns</p>\n",
       "</div>"
      ],
      "text/plain": [
       "         Event_Id Investigation_Type Accident_Number  Event_Date  \\\n",
       "0  20001218X45444           Accident      SEA87LA080  1948-10-24   \n",
       "1  20001218X45447           Accident      LAX94LA336  1962-07-19   \n",
       "2  20061025X01555           Accident      NYC07LA005  1974-08-30   \n",
       "3  20001218X45448           Accident      LAX96LA321  1977-06-19   \n",
       "4  20041105X01764           Accident      CHI79FA064  1979-08-02   \n",
       "\n",
       "          Location        Country   Latitude  Longitude Airport_Code  \\\n",
       "0  MOOSE CREEK, ID  United States        NaN        NaN          NaN   \n",
       "1   BRIDGEPORT, CA  United States        NaN        NaN          NaN   \n",
       "2    Saltville, VA  United States  36.922223 -81.878056          NaN   \n",
       "3       EUREKA, CA  United States        NaN        NaN          NaN   \n",
       "4       Canton, OH  United States        NaN        NaN          NaN   \n",
       "\n",
       "  Airport_Name  ... Purpose_of_flight Air_carrier Total_Fatal_Injuries  \\\n",
       "0          NaN  ...          Personal         NaN                  2.0   \n",
       "1          NaN  ...          Personal         NaN                  4.0   \n",
       "2          NaN  ...          Personal         NaN                  3.0   \n",
       "3          NaN  ...          Personal         NaN                  2.0   \n",
       "4          NaN  ...          Personal         NaN                  1.0   \n",
       "\n",
       "  Total_Serious_Injuries Total_Minor_Injuries Total_Uninjured  \\\n",
       "0                    0.0                  0.0             0.0   \n",
       "1                    0.0                  0.0             0.0   \n",
       "2                    NaN                  NaN             NaN   \n",
       "3                    0.0                  0.0             0.0   \n",
       "4                    2.0                  NaN             0.0   \n",
       "\n",
       "  Weather_Condition  Broad_phase_of_flight   Report_Status Publication_Date  \n",
       "0               UNK                 Cruise  Probable Cause              NaN  \n",
       "1               UNK                Unknown  Probable Cause       19-09-1996  \n",
       "2               IMC                 Cruise  Probable Cause       26-02-2007  \n",
       "3               IMC                 Cruise  Probable Cause       12-09-2000  \n",
       "4               VMC               Approach  Probable Cause       16-04-1980  \n",
       "\n",
       "[5 rows x 31 columns]"
      ]
     },
     "execution_count": 1076,
     "metadata": {},
     "output_type": "execute_result"
    }
   ],
   "source": [
    "df.columns = df.columns.str.replace('.', '_')\n",
    "\n",
    "df.head()"
   ]
  },
  {
   "cell_type": "code",
   "execution_count": 1077,
   "id": "d873d098-03f7-4690-8e0a-df561b0f8b58",
   "metadata": {},
   "outputs": [
    {
     "name": "stdout",
     "output_type": "stream",
     "text": [
      "<class 'pandas.core.frame.DataFrame'>\n",
      "RangeIndex: 88889 entries, 0 to 88888\n",
      "Data columns (total 31 columns):\n",
      " #   Column                  Non-Null Count  Dtype  \n",
      "---  ------                  --------------  -----  \n",
      " 0   Event_Id                88889 non-null  object \n",
      " 1   Investigation_Type      88889 non-null  object \n",
      " 2   Accident_Number         88889 non-null  object \n",
      " 3   Event_Date              88889 non-null  object \n",
      " 4   Location                88837 non-null  object \n",
      " 5   Country                 88663 non-null  object \n",
      " 6   Latitude                34382 non-null  object \n",
      " 7   Longitude               34373 non-null  object \n",
      " 8   Airport_Code            50132 non-null  object \n",
      " 9   Airport_Name            52704 non-null  object \n",
      " 10  Injury_Severity         87889 non-null  object \n",
      " 11  Aircraft_damage         85695 non-null  object \n",
      " 12  Aircraft_Category       32287 non-null  object \n",
      " 13  Registration_Number     87507 non-null  object \n",
      " 14  Make                    88826 non-null  object \n",
      " 15  Model                   88797 non-null  object \n",
      " 16  Amateur_Built           88787 non-null  object \n",
      " 17  Number_of_Engines       82805 non-null  float64\n",
      " 18  Engine_Type             81793 non-null  object \n",
      " 19  FAR_Description         32023 non-null  object \n",
      " 20  Schedule                12582 non-null  object \n",
      " 21  Purpose_of_flight       82697 non-null  object \n",
      " 22  Air_carrier             16648 non-null  object \n",
      " 23  Total_Fatal_Injuries    77488 non-null  float64\n",
      " 24  Total_Serious_Injuries  76379 non-null  float64\n",
      " 25  Total_Minor_Injuries    76956 non-null  float64\n",
      " 26  Total_Uninjured         82977 non-null  float64\n",
      " 27  Weather_Condition       84397 non-null  object \n",
      " 28  Broad_phase_of_flight   61724 non-null  object \n",
      " 29  Report_Status           82505 non-null  object \n",
      " 30  Publication_Date        75118 non-null  object \n",
      "dtypes: float64(5), object(26)\n",
      "memory usage: 21.0+ MB\n"
     ]
    }
   ],
   "source": [
    "df.info()"
   ]
  },
  {
   "cell_type": "markdown",
   "id": "75a55e75-d494-4fb6-8a20-8acbef6190e2",
   "metadata": {},
   "source": [
    "### As Event ID provides a unique identifier for each incident, let's check for duplicate rows"
   ]
  },
  {
   "cell_type": "code",
   "execution_count": 1078,
   "id": "01ddc38f-dae0-4108-be60-022dfb64add6",
   "metadata": {},
   "outputs": [
    {
     "data": {
      "text/html": [
       "<div>\n",
       "<style scoped>\n",
       "    .dataframe tbody tr th:only-of-type {\n",
       "        vertical-align: middle;\n",
       "    }\n",
       "\n",
       "    .dataframe tbody tr th {\n",
       "        vertical-align: top;\n",
       "    }\n",
       "\n",
       "    .dataframe thead th {\n",
       "        text-align: right;\n",
       "    }\n",
       "</style>\n",
       "<table border=\"1\" class=\"dataframe\">\n",
       "  <thead>\n",
       "    <tr style=\"text-align: right;\">\n",
       "      <th></th>\n",
       "      <th>Event_Id</th>\n",
       "      <th>Investigation_Type</th>\n",
       "      <th>Accident_Number</th>\n",
       "      <th>Event_Date</th>\n",
       "      <th>Location</th>\n",
       "      <th>Country</th>\n",
       "      <th>Latitude</th>\n",
       "      <th>Longitude</th>\n",
       "      <th>Airport_Code</th>\n",
       "      <th>Airport_Name</th>\n",
       "      <th>...</th>\n",
       "      <th>Purpose_of_flight</th>\n",
       "      <th>Air_carrier</th>\n",
       "      <th>Total_Fatal_Injuries</th>\n",
       "      <th>Total_Serious_Injuries</th>\n",
       "      <th>Total_Minor_Injuries</th>\n",
       "      <th>Total_Uninjured</th>\n",
       "      <th>Weather_Condition</th>\n",
       "      <th>Broad_phase_of_flight</th>\n",
       "      <th>Report_Status</th>\n",
       "      <th>Publication_Date</th>\n",
       "    </tr>\n",
       "  </thead>\n",
       "  <tbody>\n",
       "    <tr>\n",
       "      <th>117</th>\n",
       "      <td>20020917X01908</td>\n",
       "      <td>Accident</td>\n",
       "      <td>DCA82AA012B</td>\n",
       "      <td>1982-01-19</td>\n",
       "      <td>ROCKPORT, TX</td>\n",
       "      <td>United States</td>\n",
       "      <td>NaN</td>\n",
       "      <td>NaN</td>\n",
       "      <td>RKP</td>\n",
       "      <td>ARANSAS COUNTY AIRPORT</td>\n",
       "      <td>...</td>\n",
       "      <td>Personal</td>\n",
       "      <td>NaN</td>\n",
       "      <td>3.0</td>\n",
       "      <td>0.0</td>\n",
       "      <td>0.0</td>\n",
       "      <td>0.0</td>\n",
       "      <td>IMC</td>\n",
       "      <td>Approach</td>\n",
       "      <td>Probable Cause</td>\n",
       "      <td>19-01-1983</td>\n",
       "    </tr>\n",
       "    <tr>\n",
       "      <th>118</th>\n",
       "      <td>20020917X01908</td>\n",
       "      <td>Accident</td>\n",
       "      <td>DCA82AA012A</td>\n",
       "      <td>1982-01-19</td>\n",
       "      <td>ROCKPORT, TX</td>\n",
       "      <td>United States</td>\n",
       "      <td>NaN</td>\n",
       "      <td>NaN</td>\n",
       "      <td>RKP</td>\n",
       "      <td>ARANSAS COUNTY AIRPORT</td>\n",
       "      <td>...</td>\n",
       "      <td>Executive/corporate</td>\n",
       "      <td>NaN</td>\n",
       "      <td>3.0</td>\n",
       "      <td>0.0</td>\n",
       "      <td>0.0</td>\n",
       "      <td>0.0</td>\n",
       "      <td>IMC</td>\n",
       "      <td>Approach</td>\n",
       "      <td>Probable Cause</td>\n",
       "      <td>19-01-1983</td>\n",
       "    </tr>\n",
       "    <tr>\n",
       "      <th>153</th>\n",
       "      <td>20020917X02259</td>\n",
       "      <td>Accident</td>\n",
       "      <td>LAX82FA049A</td>\n",
       "      <td>1982-01-23</td>\n",
       "      <td>VICTORVILLE, CA</td>\n",
       "      <td>United States</td>\n",
       "      <td>NaN</td>\n",
       "      <td>NaN</td>\n",
       "      <td>NaN</td>\n",
       "      <td>NaN</td>\n",
       "      <td>...</td>\n",
       "      <td>Personal</td>\n",
       "      <td>NaN</td>\n",
       "      <td>2.0</td>\n",
       "      <td>0.0</td>\n",
       "      <td>4.0</td>\n",
       "      <td>0.0</td>\n",
       "      <td>VMC</td>\n",
       "      <td>Unknown</td>\n",
       "      <td>Probable Cause</td>\n",
       "      <td>23-01-1983</td>\n",
       "    </tr>\n",
       "    <tr>\n",
       "      <th>158</th>\n",
       "      <td>20020917X02400</td>\n",
       "      <td>Accident</td>\n",
       "      <td>MIA82FA038B</td>\n",
       "      <td>1982-01-23</td>\n",
       "      <td>NEWPORT RICHEY, FL</td>\n",
       "      <td>United States</td>\n",
       "      <td>NaN</td>\n",
       "      <td>NaN</td>\n",
       "      <td>NaN</td>\n",
       "      <td>NaN</td>\n",
       "      <td>...</td>\n",
       "      <td>Personal</td>\n",
       "      <td>NaN</td>\n",
       "      <td>0.0</td>\n",
       "      <td>0.0</td>\n",
       "      <td>0.0</td>\n",
       "      <td>3.0</td>\n",
       "      <td>VMC</td>\n",
       "      <td>Cruise</td>\n",
       "      <td>Probable Cause</td>\n",
       "      <td>23-01-1983</td>\n",
       "    </tr>\n",
       "    <tr>\n",
       "      <th>159</th>\n",
       "      <td>20020917X02400</td>\n",
       "      <td>Accident</td>\n",
       "      <td>MIA82FA038A</td>\n",
       "      <td>1982-01-23</td>\n",
       "      <td>NEWPORT RICHEY, FL</td>\n",
       "      <td>United States</td>\n",
       "      <td>NaN</td>\n",
       "      <td>NaN</td>\n",
       "      <td>NaN</td>\n",
       "      <td>NaN</td>\n",
       "      <td>...</td>\n",
       "      <td>Personal</td>\n",
       "      <td>NaN</td>\n",
       "      <td>0.0</td>\n",
       "      <td>0.0</td>\n",
       "      <td>0.0</td>\n",
       "      <td>3.0</td>\n",
       "      <td>VMC</td>\n",
       "      <td>Approach</td>\n",
       "      <td>Probable Cause</td>\n",
       "      <td>23-01-1983</td>\n",
       "    </tr>\n",
       "    <tr>\n",
       "      <th>...</th>\n",
       "      <td>...</td>\n",
       "      <td>...</td>\n",
       "      <td>...</td>\n",
       "      <td>...</td>\n",
       "      <td>...</td>\n",
       "      <td>...</td>\n",
       "      <td>...</td>\n",
       "      <td>...</td>\n",
       "      <td>...</td>\n",
       "      <td>...</td>\n",
       "      <td>...</td>\n",
       "      <td>...</td>\n",
       "      <td>...</td>\n",
       "      <td>...</td>\n",
       "      <td>...</td>\n",
       "      <td>...</td>\n",
       "      <td>...</td>\n",
       "      <td>...</td>\n",
       "      <td>...</td>\n",
       "      <td>...</td>\n",
       "      <td>...</td>\n",
       "    </tr>\n",
       "    <tr>\n",
       "      <th>88796</th>\n",
       "      <td>20221121106336</td>\n",
       "      <td>Accident</td>\n",
       "      <td>WPR23LA041</td>\n",
       "      <td>2022-11-18</td>\n",
       "      <td>Las Vegas, NV</td>\n",
       "      <td>United States</td>\n",
       "      <td>361239N</td>\n",
       "      <td>1151140W</td>\n",
       "      <td>VGT</td>\n",
       "      <td>NORTH LAS VEGAS</td>\n",
       "      <td>...</td>\n",
       "      <td>Instructional</td>\n",
       "      <td>702 HELICOPTER INC</td>\n",
       "      <td>0.0</td>\n",
       "      <td>0.0</td>\n",
       "      <td>0.0</td>\n",
       "      <td>3.0</td>\n",
       "      <td>VMC</td>\n",
       "      <td>NaN</td>\n",
       "      <td>NaN</td>\n",
       "      <td>07-12-2022</td>\n",
       "    </tr>\n",
       "    <tr>\n",
       "      <th>88797</th>\n",
       "      <td>20221122106340</td>\n",
       "      <td>Incident</td>\n",
       "      <td>DCA23WA071</td>\n",
       "      <td>2022-11-18</td>\n",
       "      <td>Marrakech,</td>\n",
       "      <td>Morocco</td>\n",
       "      <td>NaN</td>\n",
       "      <td>NaN</td>\n",
       "      <td>NaN</td>\n",
       "      <td>NaN</td>\n",
       "      <td>...</td>\n",
       "      <td>NaN</td>\n",
       "      <td>British Airways</td>\n",
       "      <td>0.0</td>\n",
       "      <td>0.0</td>\n",
       "      <td>0.0</td>\n",
       "      <td>0.0</td>\n",
       "      <td>NaN</td>\n",
       "      <td>NaN</td>\n",
       "      <td>NaN</td>\n",
       "      <td>NaN</td>\n",
       "    </tr>\n",
       "    <tr>\n",
       "      <th>88798</th>\n",
       "      <td>20221122106340</td>\n",
       "      <td>Incident</td>\n",
       "      <td>DCA23WA071</td>\n",
       "      <td>2022-11-18</td>\n",
       "      <td>Marrakech,</td>\n",
       "      <td>Morocco</td>\n",
       "      <td>NaN</td>\n",
       "      <td>NaN</td>\n",
       "      <td>NaN</td>\n",
       "      <td>NaN</td>\n",
       "      <td>...</td>\n",
       "      <td>NaN</td>\n",
       "      <td>Valair Private Jets</td>\n",
       "      <td>0.0</td>\n",
       "      <td>0.0</td>\n",
       "      <td>0.0</td>\n",
       "      <td>0.0</td>\n",
       "      <td>NaN</td>\n",
       "      <td>NaN</td>\n",
       "      <td>NaN</td>\n",
       "      <td>NaN</td>\n",
       "    </tr>\n",
       "    <tr>\n",
       "      <th>88813</th>\n",
       "      <td>20221123106354</td>\n",
       "      <td>Accident</td>\n",
       "      <td>WPR23LA045</td>\n",
       "      <td>2022-11-22</td>\n",
       "      <td>San Diego, CA</td>\n",
       "      <td>United States</td>\n",
       "      <td>323414N</td>\n",
       "      <td>1165825W</td>\n",
       "      <td>SDM</td>\n",
       "      <td>Brown Field Municipal Airport</td>\n",
       "      <td>...</td>\n",
       "      <td>Instructional</td>\n",
       "      <td>HeliStream Inc.</td>\n",
       "      <td>0.0</td>\n",
       "      <td>0.0</td>\n",
       "      <td>0.0</td>\n",
       "      <td>4.0</td>\n",
       "      <td>VMC</td>\n",
       "      <td>NaN</td>\n",
       "      <td>NaN</td>\n",
       "      <td>22-12-2022</td>\n",
       "    </tr>\n",
       "    <tr>\n",
       "      <th>88814</th>\n",
       "      <td>20221123106354</td>\n",
       "      <td>Accident</td>\n",
       "      <td>WPR23LA045</td>\n",
       "      <td>2022-11-22</td>\n",
       "      <td>San Diego, CA</td>\n",
       "      <td>United States</td>\n",
       "      <td>323414N</td>\n",
       "      <td>1165825W</td>\n",
       "      <td>SDM</td>\n",
       "      <td>Brown Field Municipal Airport</td>\n",
       "      <td>...</td>\n",
       "      <td>Public Aircraft - Federal</td>\n",
       "      <td>U.S. Navy</td>\n",
       "      <td>0.0</td>\n",
       "      <td>0.0</td>\n",
       "      <td>0.0</td>\n",
       "      <td>4.0</td>\n",
       "      <td>VMC</td>\n",
       "      <td>NaN</td>\n",
       "      <td>NaN</td>\n",
       "      <td>22-12-2022</td>\n",
       "    </tr>\n",
       "  </tbody>\n",
       "</table>\n",
       "<p>1874 rows × 31 columns</p>\n",
       "</div>"
      ],
      "text/plain": [
       "             Event_Id Investigation_Type Accident_Number  Event_Date  \\\n",
       "117    20020917X01908           Accident     DCA82AA012B  1982-01-19   \n",
       "118    20020917X01908           Accident     DCA82AA012A  1982-01-19   \n",
       "153    20020917X02259           Accident     LAX82FA049A  1982-01-23   \n",
       "158    20020917X02400           Accident     MIA82FA038B  1982-01-23   \n",
       "159    20020917X02400           Accident     MIA82FA038A  1982-01-23   \n",
       "...               ...                ...             ...         ...   \n",
       "88796  20221121106336           Accident      WPR23LA041  2022-11-18   \n",
       "88797  20221122106340           Incident      DCA23WA071  2022-11-18   \n",
       "88798  20221122106340           Incident      DCA23WA071  2022-11-18   \n",
       "88813  20221123106354           Accident      WPR23LA045  2022-11-22   \n",
       "88814  20221123106354           Accident      WPR23LA045  2022-11-22   \n",
       "\n",
       "                 Location        Country Latitude Longitude Airport_Code  \\\n",
       "117          ROCKPORT, TX  United States      NaN       NaN          RKP   \n",
       "118          ROCKPORT, TX  United States      NaN       NaN          RKP   \n",
       "153       VICTORVILLE, CA  United States      NaN       NaN          NaN   \n",
       "158    NEWPORT RICHEY, FL  United States      NaN       NaN          NaN   \n",
       "159    NEWPORT RICHEY, FL  United States      NaN       NaN          NaN   \n",
       "...                   ...            ...      ...       ...          ...   \n",
       "88796       Las Vegas, NV  United States  361239N  1151140W          VGT   \n",
       "88797         Marrakech,         Morocco      NaN       NaN          NaN   \n",
       "88798         Marrakech,         Morocco      NaN       NaN          NaN   \n",
       "88813       San Diego, CA  United States  323414N  1165825W          SDM   \n",
       "88814       San Diego, CA  United States  323414N  1165825W          SDM   \n",
       "\n",
       "                        Airport_Name  ...          Purpose_of_flight  \\\n",
       "117           ARANSAS COUNTY AIRPORT  ...                   Personal   \n",
       "118           ARANSAS COUNTY AIRPORT  ...        Executive/corporate   \n",
       "153                              NaN  ...                   Personal   \n",
       "158                              NaN  ...                   Personal   \n",
       "159                              NaN  ...                   Personal   \n",
       "...                              ...  ...                        ...   \n",
       "88796                NORTH LAS VEGAS  ...              Instructional   \n",
       "88797                            NaN  ...                        NaN   \n",
       "88798                            NaN  ...                        NaN   \n",
       "88813  Brown Field Municipal Airport  ...              Instructional   \n",
       "88814  Brown Field Municipal Airport  ...  Public Aircraft - Federal   \n",
       "\n",
       "               Air_carrier Total_Fatal_Injuries Total_Serious_Injuries  \\\n",
       "117                    NaN                  3.0                    0.0   \n",
       "118                    NaN                  3.0                    0.0   \n",
       "153                    NaN                  2.0                    0.0   \n",
       "158                    NaN                  0.0                    0.0   \n",
       "159                    NaN                  0.0                    0.0   \n",
       "...                    ...                  ...                    ...   \n",
       "88796   702 HELICOPTER INC                  0.0                    0.0   \n",
       "88797      British Airways                  0.0                    0.0   \n",
       "88798  Valair Private Jets                  0.0                    0.0   \n",
       "88813      HeliStream Inc.                  0.0                    0.0   \n",
       "88814            U.S. Navy                  0.0                    0.0   \n",
       "\n",
       "      Total_Minor_Injuries Total_Uninjured Weather_Condition  \\\n",
       "117                    0.0             0.0               IMC   \n",
       "118                    0.0             0.0               IMC   \n",
       "153                    4.0             0.0               VMC   \n",
       "158                    0.0             3.0               VMC   \n",
       "159                    0.0             3.0               VMC   \n",
       "...                    ...             ...               ...   \n",
       "88796                  0.0             3.0               VMC   \n",
       "88797                  0.0             0.0               NaN   \n",
       "88798                  0.0             0.0               NaN   \n",
       "88813                  0.0             4.0               VMC   \n",
       "88814                  0.0             4.0               VMC   \n",
       "\n",
       "       Broad_phase_of_flight   Report_Status Publication_Date  \n",
       "117                 Approach  Probable Cause       19-01-1983  \n",
       "118                 Approach  Probable Cause       19-01-1983  \n",
       "153                  Unknown  Probable Cause       23-01-1983  \n",
       "158                   Cruise  Probable Cause       23-01-1983  \n",
       "159                 Approach  Probable Cause       23-01-1983  \n",
       "...                      ...             ...              ...  \n",
       "88796                    NaN             NaN       07-12-2022  \n",
       "88797                    NaN             NaN              NaN  \n",
       "88798                    NaN             NaN              NaN  \n",
       "88813                    NaN             NaN       22-12-2022  \n",
       "88814                    NaN             NaN       22-12-2022  \n",
       "\n",
       "[1874 rows x 31 columns]"
      ]
     },
     "execution_count": 1078,
     "metadata": {},
     "output_type": "execute_result"
    }
   ],
   "source": [
    "df[df.duplicated(subset=['Event_Id'], keep=False)]"
   ]
  },
  {
   "cell_type": "markdown",
   "id": "8565146b-9b5b-4b9a-96f5-834fc68ae6e2",
   "metadata": {},
   "source": [
    "I see here that though these duplicate rows do represent separate aircraft in multi-aircraft incidents, the injury and/or fatality numbers are combined. This would constitute duplicate numbers in certain columns that would render errors in the analysis when making use of the injury values.\n",
    "\n",
    "So let's remove the duplicates from this subset."
   ]
  },
  {
   "cell_type": "code",
   "execution_count": 1079,
   "id": "d95b0a83-9990-4931-8be0-bf063173adc7",
   "metadata": {},
   "outputs": [
    {
     "data": {
      "text/html": [
       "<div>\n",
       "<style scoped>\n",
       "    .dataframe tbody tr th:only-of-type {\n",
       "        vertical-align: middle;\n",
       "    }\n",
       "\n",
       "    .dataframe tbody tr th {\n",
       "        vertical-align: top;\n",
       "    }\n",
       "\n",
       "    .dataframe thead th {\n",
       "        text-align: right;\n",
       "    }\n",
       "</style>\n",
       "<table border=\"1\" class=\"dataframe\">\n",
       "  <thead>\n",
       "    <tr style=\"text-align: right;\">\n",
       "      <th></th>\n",
       "      <th>Event_Id</th>\n",
       "      <th>Investigation_Type</th>\n",
       "      <th>Accident_Number</th>\n",
       "      <th>Event_Date</th>\n",
       "      <th>Location</th>\n",
       "      <th>Country</th>\n",
       "      <th>Latitude</th>\n",
       "      <th>Longitude</th>\n",
       "      <th>Airport_Code</th>\n",
       "      <th>Airport_Name</th>\n",
       "      <th>...</th>\n",
       "      <th>Purpose_of_flight</th>\n",
       "      <th>Air_carrier</th>\n",
       "      <th>Total_Fatal_Injuries</th>\n",
       "      <th>Total_Serious_Injuries</th>\n",
       "      <th>Total_Minor_Injuries</th>\n",
       "      <th>Total_Uninjured</th>\n",
       "      <th>Weather_Condition</th>\n",
       "      <th>Broad_phase_of_flight</th>\n",
       "      <th>Report_Status</th>\n",
       "      <th>Publication_Date</th>\n",
       "    </tr>\n",
       "  </thead>\n",
       "  <tbody>\n",
       "  </tbody>\n",
       "</table>\n",
       "<p>0 rows × 31 columns</p>\n",
       "</div>"
      ],
      "text/plain": [
       "Empty DataFrame\n",
       "Columns: [Event_Id, Investigation_Type, Accident_Number, Event_Date, Location, Country, Latitude, Longitude, Airport_Code, Airport_Name, Injury_Severity, Aircraft_damage, Aircraft_Category, Registration_Number, Make, Model, Amateur_Built, Number_of_Engines, Engine_Type, FAR_Description, Schedule, Purpose_of_flight, Air_carrier, Total_Fatal_Injuries, Total_Serious_Injuries, Total_Minor_Injuries, Total_Uninjured, Weather_Condition, Broad_phase_of_flight, Report_Status, Publication_Date]\n",
       "Index: []\n",
       "\n",
       "[0 rows x 31 columns]"
      ]
     },
     "execution_count": 1079,
     "metadata": {},
     "output_type": "execute_result"
    }
   ],
   "source": [
    "df = df.drop_duplicates(subset=['Event_Id'], keep='first')\n",
    "\n",
    "# Double check to make sure duplicates have been removed\n",
    "df[df.duplicated(subset=['Event_Id'], keep=False)]"
   ]
  },
  {
   "cell_type": "code",
   "execution_count": 1080,
   "id": "6df79c06-ba4a-4f10-abb6-91e4b09157a2",
   "metadata": {},
   "outputs": [
    {
     "name": "stdout",
     "output_type": "stream",
     "text": [
      "<class 'pandas.core.frame.DataFrame'>\n",
      "Index: 87951 entries, 0 to 88888\n",
      "Data columns (total 31 columns):\n",
      " #   Column                  Non-Null Count  Dtype  \n",
      "---  ------                  --------------  -----  \n",
      " 0   Event_Id                87951 non-null  object \n",
      " 1   Investigation_Type      87951 non-null  object \n",
      " 2   Accident_Number         87951 non-null  object \n",
      " 3   Event_Date              87951 non-null  object \n",
      " 4   Location                87899 non-null  object \n",
      " 5   Country                 87729 non-null  object \n",
      " 6   Latitude                34212 non-null  object \n",
      " 7   Longitude               34203 non-null  object \n",
      " 8   Airport_Code            49484 non-null  object \n",
      " 9   Airport_Name            52031 non-null  object \n",
      " 10  Injury_Severity         86961 non-null  object \n",
      " 11  Aircraft_damage         84848 non-null  object \n",
      " 12  Aircraft_Category       32181 non-null  object \n",
      " 13  Registration_Number     86601 non-null  object \n",
      " 14  Make                    87888 non-null  object \n",
      " 15  Model                   87859 non-null  object \n",
      " 16  Amateur_Built           87851 non-null  object \n",
      " 17  Number_of_Engines       81924 non-null  float64\n",
      " 18  Engine_Type             80908 non-null  object \n",
      " 19  FAR_Description         31915 non-null  object \n",
      " 20  Schedule                12360 non-null  object \n",
      " 21  Purpose_of_flight       81829 non-null  object \n",
      " 22  Air_carrier             16533 non-null  object \n",
      " 23  Total_Fatal_Injuries    76684 non-null  float64\n",
      " 24  Total_Serious_Injuries  75629 non-null  float64\n",
      " 25  Total_Minor_Injuries    76191 non-null  float64\n",
      " 26  Total_Uninjured         82088 non-null  float64\n",
      " 27  Weather_Condition       83478 non-null  object \n",
      " 28  Broad_phase_of_flight   60837 non-null  object \n",
      " 29  Report_Status           81587 non-null  object \n",
      " 30  Publication_Date        74352 non-null  object \n",
      "dtypes: float64(5), object(26)\n",
      "memory usage: 21.5+ MB\n"
     ]
    }
   ],
   "source": [
    "df.info()"
   ]
  },
  {
   "cell_type": "markdown",
   "id": "3dcdb3d6-417e-487a-afe8-4118a56201f9",
   "metadata": {},
   "source": [
    "## Columns that are not needed\n",
    "Remove certain columns that are mostly empty (and can't be filled in) and/or would not contain data useful to the intended analysis.\n",
    "\n",
    "I want to make heavy use of: date, injury, damage, category, phase of flight, and report status\n",
    "Let's remove Latitude, Longitude, Airport_Code, Airport_Name, Registration_Number, FAR_Description, Schedule, Air_carrier, and Publication_Date as those columns are either mostly empty or would not contribute to the analysis."
   ]
  },
  {
   "cell_type": "code",
   "execution_count": 1081,
   "id": "b68f8931-6129-461b-b63e-d02b4d6fcebf",
   "metadata": {},
   "outputs": [
    {
     "name": "stdout",
     "output_type": "stream",
     "text": [
      "<class 'pandas.core.frame.DataFrame'>\n",
      "Index: 87951 entries, 0 to 88888\n",
      "Data columns (total 22 columns):\n",
      " #   Column                  Non-Null Count  Dtype  \n",
      "---  ------                  --------------  -----  \n",
      " 0   Event_Id                87951 non-null  object \n",
      " 1   Investigation_Type      87951 non-null  object \n",
      " 2   Accident_Number         87951 non-null  object \n",
      " 3   Event_Date              87951 non-null  object \n",
      " 4   Location                87899 non-null  object \n",
      " 5   Country                 87729 non-null  object \n",
      " 6   Injury_Severity         86961 non-null  object \n",
      " 7   Aircraft_damage         84848 non-null  object \n",
      " 8   Aircraft_Category       32181 non-null  object \n",
      " 9   Make                    87888 non-null  object \n",
      " 10  Model                   87859 non-null  object \n",
      " 11  Amateur_Built           87851 non-null  object \n",
      " 12  Number_of_Engines       81924 non-null  float64\n",
      " 13  Engine_Type             80908 non-null  object \n",
      " 14  Purpose_of_flight       81829 non-null  object \n",
      " 15  Total_Fatal_Injuries    76684 non-null  float64\n",
      " 16  Total_Serious_Injuries  75629 non-null  float64\n",
      " 17  Total_Minor_Injuries    76191 non-null  float64\n",
      " 18  Total_Uninjured         82088 non-null  float64\n",
      " 19  Weather_Condition       83478 non-null  object \n",
      " 20  Broad_phase_of_flight   60837 non-null  object \n",
      " 21  Report_Status           81587 non-null  object \n",
      "dtypes: float64(5), object(17)\n",
      "memory usage: 15.4+ MB\n"
     ]
    }
   ],
   "source": [
    "df = df.drop(['Latitude', 'Longitude', 'Airport_Code', 'Airport_Name', 'Registration_Number', 'FAR_Description', 'Schedule', 'Air_carrier', 'Publication_Date'], axis=1)\n",
    "\n",
    "df.info()"
   ]
  },
  {
   "cell_type": "code",
   "execution_count": 1082,
   "id": "e8c83a3a-dd0d-4b5f-a512-08b5f2474142",
   "metadata": {},
   "outputs": [
    {
     "data": {
      "text/html": [
       "<div>\n",
       "<style scoped>\n",
       "    .dataframe tbody tr th:only-of-type {\n",
       "        vertical-align: middle;\n",
       "    }\n",
       "\n",
       "    .dataframe tbody tr th {\n",
       "        vertical-align: top;\n",
       "    }\n",
       "\n",
       "    .dataframe thead th {\n",
       "        text-align: right;\n",
       "    }\n",
       "</style>\n",
       "<table border=\"1\" class=\"dataframe\">\n",
       "  <thead>\n",
       "    <tr style=\"text-align: right;\">\n",
       "      <th></th>\n",
       "      <th>Event_Id</th>\n",
       "      <th>Investigation_Type</th>\n",
       "      <th>Accident_Number</th>\n",
       "      <th>Event_Date</th>\n",
       "      <th>Location</th>\n",
       "      <th>Country</th>\n",
       "      <th>Injury_Severity</th>\n",
       "      <th>Aircraft_damage</th>\n",
       "      <th>Aircraft_Category</th>\n",
       "      <th>Make</th>\n",
       "      <th>...</th>\n",
       "      <th>Number_of_Engines</th>\n",
       "      <th>Engine_Type</th>\n",
       "      <th>Purpose_of_flight</th>\n",
       "      <th>Total_Fatal_Injuries</th>\n",
       "      <th>Total_Serious_Injuries</th>\n",
       "      <th>Total_Minor_Injuries</th>\n",
       "      <th>Total_Uninjured</th>\n",
       "      <th>Weather_Condition</th>\n",
       "      <th>Broad_phase_of_flight</th>\n",
       "      <th>Report_Status</th>\n",
       "    </tr>\n",
       "  </thead>\n",
       "  <tbody>\n",
       "    <tr>\n",
       "      <th>0</th>\n",
       "      <td>20001218X45444</td>\n",
       "      <td>Accident</td>\n",
       "      <td>SEA87LA080</td>\n",
       "      <td>1948-10-24</td>\n",
       "      <td>MOOSE CREEK, ID</td>\n",
       "      <td>United States</td>\n",
       "      <td>Fatal(2)</td>\n",
       "      <td>Destroyed</td>\n",
       "      <td>NaN</td>\n",
       "      <td>Stinson</td>\n",
       "      <td>...</td>\n",
       "      <td>1.0</td>\n",
       "      <td>Reciprocating</td>\n",
       "      <td>Personal</td>\n",
       "      <td>2.0</td>\n",
       "      <td>0.0</td>\n",
       "      <td>0.0</td>\n",
       "      <td>0.0</td>\n",
       "      <td>UNK</td>\n",
       "      <td>Cruise</td>\n",
       "      <td>Probable Cause</td>\n",
       "    </tr>\n",
       "    <tr>\n",
       "      <th>1</th>\n",
       "      <td>20001218X45447</td>\n",
       "      <td>Accident</td>\n",
       "      <td>LAX94LA336</td>\n",
       "      <td>1962-07-19</td>\n",
       "      <td>BRIDGEPORT, CA</td>\n",
       "      <td>United States</td>\n",
       "      <td>Fatal(4)</td>\n",
       "      <td>Destroyed</td>\n",
       "      <td>NaN</td>\n",
       "      <td>Piper</td>\n",
       "      <td>...</td>\n",
       "      <td>1.0</td>\n",
       "      <td>Reciprocating</td>\n",
       "      <td>Personal</td>\n",
       "      <td>4.0</td>\n",
       "      <td>0.0</td>\n",
       "      <td>0.0</td>\n",
       "      <td>0.0</td>\n",
       "      <td>UNK</td>\n",
       "      <td>Unknown</td>\n",
       "      <td>Probable Cause</td>\n",
       "    </tr>\n",
       "    <tr>\n",
       "      <th>2</th>\n",
       "      <td>20061025X01555</td>\n",
       "      <td>Accident</td>\n",
       "      <td>NYC07LA005</td>\n",
       "      <td>1974-08-30</td>\n",
       "      <td>Saltville, VA</td>\n",
       "      <td>United States</td>\n",
       "      <td>Fatal(3)</td>\n",
       "      <td>Destroyed</td>\n",
       "      <td>NaN</td>\n",
       "      <td>Cessna</td>\n",
       "      <td>...</td>\n",
       "      <td>1.0</td>\n",
       "      <td>Reciprocating</td>\n",
       "      <td>Personal</td>\n",
       "      <td>3.0</td>\n",
       "      <td>NaN</td>\n",
       "      <td>NaN</td>\n",
       "      <td>NaN</td>\n",
       "      <td>IMC</td>\n",
       "      <td>Cruise</td>\n",
       "      <td>Probable Cause</td>\n",
       "    </tr>\n",
       "    <tr>\n",
       "      <th>3</th>\n",
       "      <td>20001218X45448</td>\n",
       "      <td>Accident</td>\n",
       "      <td>LAX96LA321</td>\n",
       "      <td>1977-06-19</td>\n",
       "      <td>EUREKA, CA</td>\n",
       "      <td>United States</td>\n",
       "      <td>Fatal(2)</td>\n",
       "      <td>Destroyed</td>\n",
       "      <td>NaN</td>\n",
       "      <td>Rockwell</td>\n",
       "      <td>...</td>\n",
       "      <td>1.0</td>\n",
       "      <td>Reciprocating</td>\n",
       "      <td>Personal</td>\n",
       "      <td>2.0</td>\n",
       "      <td>0.0</td>\n",
       "      <td>0.0</td>\n",
       "      <td>0.0</td>\n",
       "      <td>IMC</td>\n",
       "      <td>Cruise</td>\n",
       "      <td>Probable Cause</td>\n",
       "    </tr>\n",
       "    <tr>\n",
       "      <th>4</th>\n",
       "      <td>20041105X01764</td>\n",
       "      <td>Accident</td>\n",
       "      <td>CHI79FA064</td>\n",
       "      <td>1979-08-02</td>\n",
       "      <td>Canton, OH</td>\n",
       "      <td>United States</td>\n",
       "      <td>Fatal(1)</td>\n",
       "      <td>Destroyed</td>\n",
       "      <td>NaN</td>\n",
       "      <td>Cessna</td>\n",
       "      <td>...</td>\n",
       "      <td>NaN</td>\n",
       "      <td>NaN</td>\n",
       "      <td>Personal</td>\n",
       "      <td>1.0</td>\n",
       "      <td>2.0</td>\n",
       "      <td>NaN</td>\n",
       "      <td>0.0</td>\n",
       "      <td>VMC</td>\n",
       "      <td>Approach</td>\n",
       "      <td>Probable Cause</td>\n",
       "    </tr>\n",
       "  </tbody>\n",
       "</table>\n",
       "<p>5 rows × 22 columns</p>\n",
       "</div>"
      ],
      "text/plain": [
       "         Event_Id Investigation_Type Accident_Number  Event_Date  \\\n",
       "0  20001218X45444           Accident      SEA87LA080  1948-10-24   \n",
       "1  20001218X45447           Accident      LAX94LA336  1962-07-19   \n",
       "2  20061025X01555           Accident      NYC07LA005  1974-08-30   \n",
       "3  20001218X45448           Accident      LAX96LA321  1977-06-19   \n",
       "4  20041105X01764           Accident      CHI79FA064  1979-08-02   \n",
       "\n",
       "          Location        Country Injury_Severity Aircraft_damage  \\\n",
       "0  MOOSE CREEK, ID  United States        Fatal(2)       Destroyed   \n",
       "1   BRIDGEPORT, CA  United States        Fatal(4)       Destroyed   \n",
       "2    Saltville, VA  United States        Fatal(3)       Destroyed   \n",
       "3       EUREKA, CA  United States        Fatal(2)       Destroyed   \n",
       "4       Canton, OH  United States        Fatal(1)       Destroyed   \n",
       "\n",
       "  Aircraft_Category      Make  ... Number_of_Engines    Engine_Type  \\\n",
       "0               NaN   Stinson  ...               1.0  Reciprocating   \n",
       "1               NaN     Piper  ...               1.0  Reciprocating   \n",
       "2               NaN    Cessna  ...               1.0  Reciprocating   \n",
       "3               NaN  Rockwell  ...               1.0  Reciprocating   \n",
       "4               NaN    Cessna  ...               NaN            NaN   \n",
       "\n",
       "   Purpose_of_flight Total_Fatal_Injuries Total_Serious_Injuries  \\\n",
       "0           Personal                  2.0                    0.0   \n",
       "1           Personal                  4.0                    0.0   \n",
       "2           Personal                  3.0                    NaN   \n",
       "3           Personal                  2.0                    0.0   \n",
       "4           Personal                  1.0                    2.0   \n",
       "\n",
       "   Total_Minor_Injuries  Total_Uninjured  Weather_Condition  \\\n",
       "0                   0.0              0.0                UNK   \n",
       "1                   0.0              0.0                UNK   \n",
       "2                   NaN              NaN                IMC   \n",
       "3                   0.0              0.0                IMC   \n",
       "4                   NaN              0.0                VMC   \n",
       "\n",
       "   Broad_phase_of_flight   Report_Status  \n",
       "0                 Cruise  Probable Cause  \n",
       "1                Unknown  Probable Cause  \n",
       "2                 Cruise  Probable Cause  \n",
       "3                 Cruise  Probable Cause  \n",
       "4               Approach  Probable Cause  \n",
       "\n",
       "[5 rows x 22 columns]"
      ]
     },
     "execution_count": 1082,
     "metadata": {},
     "output_type": "execute_result"
    }
   ],
   "source": [
    "df.head()"
   ]
  },
  {
   "cell_type": "markdown",
   "id": "7a0053be-ad28-457d-8e24-ffce89c696e3",
   "metadata": {},
   "source": [
    "### Incomplete Columns\n",
    "Now, we have 87,951 entries in the dataset. Most of the columns are incomplete though. For the columns that cannot be completed with reasonable values, we can fill some of them in with 'Unknown' instead of leaving them blank (NaN).\n",
    "\n",
    "Empty Location, Country, Aircraft_damage, Make, Model, Amateur_Built, Number_of_Engines, Engine_Type, Purpose_of_flight, Weather_Condition, Broad_phase_of_flight, and Report_Status values can be filled in as 'Unknown'."
   ]
  },
  {
   "cell_type": "code",
   "execution_count": 1083,
   "id": "c85d99db-d13f-4ea0-bb03-db8c4fdff81a",
   "metadata": {},
   "outputs": [
    {
     "name": "stdout",
     "output_type": "stream",
     "text": [
      "<class 'pandas.core.frame.DataFrame'>\n",
      "Index: 87951 entries, 0 to 88888\n",
      "Data columns (total 22 columns):\n",
      " #   Column                  Non-Null Count  Dtype  \n",
      "---  ------                  --------------  -----  \n",
      " 0   Event_Id                87951 non-null  object \n",
      " 1   Investigation_Type      87951 non-null  object \n",
      " 2   Accident_Number         87951 non-null  object \n",
      " 3   Event_Date              87951 non-null  object \n",
      " 4   Location                87951 non-null  object \n",
      " 5   Country                 87951 non-null  object \n",
      " 6   Injury_Severity         86961 non-null  object \n",
      " 7   Aircraft_damage         87951 non-null  object \n",
      " 8   Aircraft_Category       32181 non-null  object \n",
      " 9   Make                    87951 non-null  object \n",
      " 10  Model                   87951 non-null  object \n",
      " 11  Amateur_Built           87951 non-null  object \n",
      " 12  Number_of_Engines       87951 non-null  object \n",
      " 13  Engine_Type             87951 non-null  object \n",
      " 14  Purpose_of_flight       87951 non-null  object \n",
      " 15  Total_Fatal_Injuries    76684 non-null  float64\n",
      " 16  Total_Serious_Injuries  75629 non-null  float64\n",
      " 17  Total_Minor_Injuries    76191 non-null  float64\n",
      " 18  Total_Uninjured         82088 non-null  float64\n",
      " 19  Weather_Condition       87951 non-null  object \n",
      " 20  Broad_phase_of_flight   87951 non-null  object \n",
      " 21  Report_Status           87951 non-null  object \n",
      "dtypes: float64(4), object(18)\n",
      "memory usage: 15.4+ MB\n"
     ]
    }
   ],
   "source": [
    "# Fill in NaN values in multiple columns with \"Unknown\"\n",
    "columns_to_fill = ['Location', 'Country', 'Aircraft_damage', 'Make', 'Model', 'Amateur_Built', 'Number_of_Engines', 'Engine_Type', 'Purpose_of_flight', \n",
    "                   'Weather_Condition', 'Broad_phase_of_flight', 'Report_Status']\n",
    "for column in columns_to_fill:\n",
    "    df[column] = df[column].fillna('Unknown')\n",
    "\n",
    "df.info()"
   ]
  },
  {
   "cell_type": "markdown",
   "id": "432fb43e-5e5b-4b7f-8f7b-be83a21ad885",
   "metadata": {},
   "source": [
    "The 4 injury columns (15 - 18) are incomplete, but they are float64, or integer, values, so we can't fill those empty values with \"Unknown\". The empty values should be changed to 0 to complete those columns."
   ]
  },
  {
   "cell_type": "code",
   "execution_count": 1084,
   "id": "a9e72eeb-54e2-43d8-afd5-35154977fcbf",
   "metadata": {},
   "outputs": [
    {
     "name": "stdout",
     "output_type": "stream",
     "text": [
      "<class 'pandas.core.frame.DataFrame'>\n",
      "Index: 87951 entries, 0 to 88888\n",
      "Data columns (total 22 columns):\n",
      " #   Column                  Non-Null Count  Dtype  \n",
      "---  ------                  --------------  -----  \n",
      " 0   Event_Id                87951 non-null  object \n",
      " 1   Investigation_Type      87951 non-null  object \n",
      " 2   Accident_Number         87951 non-null  object \n",
      " 3   Event_Date              87951 non-null  object \n",
      " 4   Location                87951 non-null  object \n",
      " 5   Country                 87951 non-null  object \n",
      " 6   Injury_Severity         86961 non-null  object \n",
      " 7   Aircraft_damage         87951 non-null  object \n",
      " 8   Aircraft_Category       32181 non-null  object \n",
      " 9   Make                    87951 non-null  object \n",
      " 10  Model                   87951 non-null  object \n",
      " 11  Amateur_Built           87951 non-null  object \n",
      " 12  Number_of_Engines       87951 non-null  object \n",
      " 13  Engine_Type             87951 non-null  object \n",
      " 14  Purpose_of_flight       87951 non-null  object \n",
      " 15  Total_Fatal_Injuries    87951 non-null  float64\n",
      " 16  Total_Serious_Injuries  87951 non-null  float64\n",
      " 17  Total_Minor_Injuries    87951 non-null  float64\n",
      " 18  Total_Uninjured         87951 non-null  float64\n",
      " 19  Weather_Condition       87951 non-null  object \n",
      " 20  Broad_phase_of_flight   87951 non-null  object \n",
      " 21  Report_Status           87951 non-null  object \n",
      "dtypes: float64(4), object(18)\n",
      "memory usage: 15.4+ MB\n"
     ]
    }
   ],
   "source": [
    "# Fill in NaN values in multiple columns with 0\n",
    "injury_columns_to_fill = ['Total_Fatal_Injuries', 'Total_Serious_Injuries', 'Total_Minor_Injuries', 'Total_Uninjured']\n",
    "for column in injury_columns_to_fill:\n",
    "    df[column] = df[column].fillna(0)\n",
    "\n",
    "df.info()"
   ]
  },
  {
   "cell_type": "code",
   "execution_count": 1085,
   "id": "337b658a-43bf-4a67-80a8-a2f223fa1851",
   "metadata": {},
   "outputs": [
    {
     "data": {
      "text/html": [
       "<div>\n",
       "<style scoped>\n",
       "    .dataframe tbody tr th:only-of-type {\n",
       "        vertical-align: middle;\n",
       "    }\n",
       "\n",
       "    .dataframe tbody tr th {\n",
       "        vertical-align: top;\n",
       "    }\n",
       "\n",
       "    .dataframe thead th {\n",
       "        text-align: right;\n",
       "    }\n",
       "</style>\n",
       "<table border=\"1\" class=\"dataframe\">\n",
       "  <thead>\n",
       "    <tr style=\"text-align: right;\">\n",
       "      <th></th>\n",
       "      <th>Event_Id</th>\n",
       "      <th>Investigation_Type</th>\n",
       "      <th>Accident_Number</th>\n",
       "      <th>Event_Date</th>\n",
       "      <th>Location</th>\n",
       "      <th>Country</th>\n",
       "      <th>Injury_Severity</th>\n",
       "      <th>Aircraft_damage</th>\n",
       "      <th>Aircraft_Category</th>\n",
       "      <th>Make</th>\n",
       "      <th>...</th>\n",
       "      <th>Number_of_Engines</th>\n",
       "      <th>Engine_Type</th>\n",
       "      <th>Purpose_of_flight</th>\n",
       "      <th>Total_Fatal_Injuries</th>\n",
       "      <th>Total_Serious_Injuries</th>\n",
       "      <th>Total_Minor_Injuries</th>\n",
       "      <th>Total_Uninjured</th>\n",
       "      <th>Weather_Condition</th>\n",
       "      <th>Broad_phase_of_flight</th>\n",
       "      <th>Report_Status</th>\n",
       "    </tr>\n",
       "  </thead>\n",
       "  <tbody>\n",
       "    <tr>\n",
       "      <th>0</th>\n",
       "      <td>20001218X45444</td>\n",
       "      <td>Accident</td>\n",
       "      <td>SEA87LA080</td>\n",
       "      <td>1948-10-24</td>\n",
       "      <td>MOOSE CREEK, ID</td>\n",
       "      <td>United States</td>\n",
       "      <td>Fatal(2)</td>\n",
       "      <td>Destroyed</td>\n",
       "      <td>NaN</td>\n",
       "      <td>Stinson</td>\n",
       "      <td>...</td>\n",
       "      <td>1.0</td>\n",
       "      <td>Reciprocating</td>\n",
       "      <td>Personal</td>\n",
       "      <td>2.0</td>\n",
       "      <td>0.0</td>\n",
       "      <td>0.0</td>\n",
       "      <td>0.0</td>\n",
       "      <td>UNK</td>\n",
       "      <td>Cruise</td>\n",
       "      <td>Probable Cause</td>\n",
       "    </tr>\n",
       "    <tr>\n",
       "      <th>1</th>\n",
       "      <td>20001218X45447</td>\n",
       "      <td>Accident</td>\n",
       "      <td>LAX94LA336</td>\n",
       "      <td>1962-07-19</td>\n",
       "      <td>BRIDGEPORT, CA</td>\n",
       "      <td>United States</td>\n",
       "      <td>Fatal(4)</td>\n",
       "      <td>Destroyed</td>\n",
       "      <td>NaN</td>\n",
       "      <td>Piper</td>\n",
       "      <td>...</td>\n",
       "      <td>1.0</td>\n",
       "      <td>Reciprocating</td>\n",
       "      <td>Personal</td>\n",
       "      <td>4.0</td>\n",
       "      <td>0.0</td>\n",
       "      <td>0.0</td>\n",
       "      <td>0.0</td>\n",
       "      <td>UNK</td>\n",
       "      <td>Unknown</td>\n",
       "      <td>Probable Cause</td>\n",
       "    </tr>\n",
       "    <tr>\n",
       "      <th>2</th>\n",
       "      <td>20061025X01555</td>\n",
       "      <td>Accident</td>\n",
       "      <td>NYC07LA005</td>\n",
       "      <td>1974-08-30</td>\n",
       "      <td>Saltville, VA</td>\n",
       "      <td>United States</td>\n",
       "      <td>Fatal(3)</td>\n",
       "      <td>Destroyed</td>\n",
       "      <td>NaN</td>\n",
       "      <td>Cessna</td>\n",
       "      <td>...</td>\n",
       "      <td>1.0</td>\n",
       "      <td>Reciprocating</td>\n",
       "      <td>Personal</td>\n",
       "      <td>3.0</td>\n",
       "      <td>0.0</td>\n",
       "      <td>0.0</td>\n",
       "      <td>0.0</td>\n",
       "      <td>IMC</td>\n",
       "      <td>Cruise</td>\n",
       "      <td>Probable Cause</td>\n",
       "    </tr>\n",
       "    <tr>\n",
       "      <th>3</th>\n",
       "      <td>20001218X45448</td>\n",
       "      <td>Accident</td>\n",
       "      <td>LAX96LA321</td>\n",
       "      <td>1977-06-19</td>\n",
       "      <td>EUREKA, CA</td>\n",
       "      <td>United States</td>\n",
       "      <td>Fatal(2)</td>\n",
       "      <td>Destroyed</td>\n",
       "      <td>NaN</td>\n",
       "      <td>Rockwell</td>\n",
       "      <td>...</td>\n",
       "      <td>1.0</td>\n",
       "      <td>Reciprocating</td>\n",
       "      <td>Personal</td>\n",
       "      <td>2.0</td>\n",
       "      <td>0.0</td>\n",
       "      <td>0.0</td>\n",
       "      <td>0.0</td>\n",
       "      <td>IMC</td>\n",
       "      <td>Cruise</td>\n",
       "      <td>Probable Cause</td>\n",
       "    </tr>\n",
       "    <tr>\n",
       "      <th>4</th>\n",
       "      <td>20041105X01764</td>\n",
       "      <td>Accident</td>\n",
       "      <td>CHI79FA064</td>\n",
       "      <td>1979-08-02</td>\n",
       "      <td>Canton, OH</td>\n",
       "      <td>United States</td>\n",
       "      <td>Fatal(1)</td>\n",
       "      <td>Destroyed</td>\n",
       "      <td>NaN</td>\n",
       "      <td>Cessna</td>\n",
       "      <td>...</td>\n",
       "      <td>Unknown</td>\n",
       "      <td>Unknown</td>\n",
       "      <td>Personal</td>\n",
       "      <td>1.0</td>\n",
       "      <td>2.0</td>\n",
       "      <td>0.0</td>\n",
       "      <td>0.0</td>\n",
       "      <td>VMC</td>\n",
       "      <td>Approach</td>\n",
       "      <td>Probable Cause</td>\n",
       "    </tr>\n",
       "  </tbody>\n",
       "</table>\n",
       "<p>5 rows × 22 columns</p>\n",
       "</div>"
      ],
      "text/plain": [
       "         Event_Id Investigation_Type Accident_Number  Event_Date  \\\n",
       "0  20001218X45444           Accident      SEA87LA080  1948-10-24   \n",
       "1  20001218X45447           Accident      LAX94LA336  1962-07-19   \n",
       "2  20061025X01555           Accident      NYC07LA005  1974-08-30   \n",
       "3  20001218X45448           Accident      LAX96LA321  1977-06-19   \n",
       "4  20041105X01764           Accident      CHI79FA064  1979-08-02   \n",
       "\n",
       "          Location        Country Injury_Severity Aircraft_damage  \\\n",
       "0  MOOSE CREEK, ID  United States        Fatal(2)       Destroyed   \n",
       "1   BRIDGEPORT, CA  United States        Fatal(4)       Destroyed   \n",
       "2    Saltville, VA  United States        Fatal(3)       Destroyed   \n",
       "3       EUREKA, CA  United States        Fatal(2)       Destroyed   \n",
       "4       Canton, OH  United States        Fatal(1)       Destroyed   \n",
       "\n",
       "  Aircraft_Category      Make  ... Number_of_Engines    Engine_Type  \\\n",
       "0               NaN   Stinson  ...               1.0  Reciprocating   \n",
       "1               NaN     Piper  ...               1.0  Reciprocating   \n",
       "2               NaN    Cessna  ...               1.0  Reciprocating   \n",
       "3               NaN  Rockwell  ...               1.0  Reciprocating   \n",
       "4               NaN    Cessna  ...           Unknown        Unknown   \n",
       "\n",
       "  Purpose_of_flight Total_Fatal_Injuries Total_Serious_Injuries  \\\n",
       "0          Personal                  2.0                    0.0   \n",
       "1          Personal                  4.0                    0.0   \n",
       "2          Personal                  3.0                    0.0   \n",
       "3          Personal                  2.0                    0.0   \n",
       "4          Personal                  1.0                    2.0   \n",
       "\n",
       "   Total_Minor_Injuries  Total_Uninjured  Weather_Condition  \\\n",
       "0                   0.0              0.0                UNK   \n",
       "1                   0.0              0.0                UNK   \n",
       "2                   0.0              0.0                IMC   \n",
       "3                   0.0              0.0                IMC   \n",
       "4                   0.0              0.0                VMC   \n",
       "\n",
       "   Broad_phase_of_flight   Report_Status  \n",
       "0                 Cruise  Probable Cause  \n",
       "1                Unknown  Probable Cause  \n",
       "2                 Cruise  Probable Cause  \n",
       "3                 Cruise  Probable Cause  \n",
       "4               Approach  Probable Cause  \n",
       "\n",
       "[5 rows x 22 columns]"
      ]
     },
     "execution_count": 1085,
     "metadata": {},
     "output_type": "execute_result"
    }
   ],
   "source": [
    "df.head()"
   ]
  },
  {
   "cell_type": "markdown",
   "id": "8c15bd4d-7a15-4552-b315-4c6d11b749bc",
   "metadata": {},
   "source": [
    "Take a look at the Injury_Severity column"
   ]
  },
  {
   "cell_type": "code",
   "execution_count": 1086,
   "id": "e29235f1-2d69-44f5-8d61-bfb74abd0054",
   "metadata": {},
   "outputs": [
    {
     "data": {
      "text/plain": [
       "Injury_Severity\n",
       "Non-Fatal     66822\n",
       "Fatal(1)       6086\n",
       "Fatal          5257\n",
       "Fatal(2)       3632\n",
       "Incident       2113\n",
       "              ...  \n",
       "Fatal(33)         1\n",
       "Fatal(123)        1\n",
       "Fatal(72)         1\n",
       "Fatal(54)         1\n",
       "Fatal(189)        1\n",
       "Name: count, Length: 110, dtype: int64"
      ]
     },
     "execution_count": 1086,
     "metadata": {},
     "output_type": "execute_result"
    }
   ],
   "source": [
    "df['Injury_Severity'].value_counts(dropna=False)"
   ]
  },
  {
   "cell_type": "markdown",
   "id": "2f651106-16b7-4f8d-9475-5ecf1852853e",
   "metadata": {},
   "source": [
    "We see here the various values in that column give a number of fatal injuries for each accident. Since this number is already represented in the column for Total_Fatal_Injuries, we don't need this column, so can delete it."
   ]
  },
  {
   "cell_type": "code",
   "execution_count": 1087,
   "id": "6367a42b-454f-42fe-9239-5af4b8a770ba",
   "metadata": {},
   "outputs": [
    {
     "name": "stdout",
     "output_type": "stream",
     "text": [
      "<class 'pandas.core.frame.DataFrame'>\n",
      "Index: 87951 entries, 0 to 88888\n",
      "Data columns (total 21 columns):\n",
      " #   Column                  Non-Null Count  Dtype  \n",
      "---  ------                  --------------  -----  \n",
      " 0   Event_Id                87951 non-null  object \n",
      " 1   Investigation_Type      87951 non-null  object \n",
      " 2   Accident_Number         87951 non-null  object \n",
      " 3   Event_Date              87951 non-null  object \n",
      " 4   Location                87951 non-null  object \n",
      " 5   Country                 87951 non-null  object \n",
      " 6   Aircraft_damage         87951 non-null  object \n",
      " 7   Aircraft_Category       32181 non-null  object \n",
      " 8   Make                    87951 non-null  object \n",
      " 9   Model                   87951 non-null  object \n",
      " 10  Amateur_Built           87951 non-null  object \n",
      " 11  Number_of_Engines       87951 non-null  object \n",
      " 12  Engine_Type             87951 non-null  object \n",
      " 13  Purpose_of_flight       87951 non-null  object \n",
      " 14  Total_Fatal_Injuries    87951 non-null  float64\n",
      " 15  Total_Serious_Injuries  87951 non-null  float64\n",
      " 16  Total_Minor_Injuries    87951 non-null  float64\n",
      " 17  Total_Uninjured         87951 non-null  float64\n",
      " 18  Weather_Condition       87951 non-null  object \n",
      " 19  Broad_phase_of_flight   87951 non-null  object \n",
      " 20  Report_Status           87951 non-null  object \n",
      "dtypes: float64(4), object(17)\n",
      "memory usage: 14.8+ MB\n"
     ]
    }
   ],
   "source": [
    "# Drop the Injury_Severity column\n",
    "df = df.drop('Injury_Severity', axis=1)\n",
    "\n",
    "df.info()"
   ]
  },
  {
   "cell_type": "markdown",
   "id": "21a078db-256a-4c1c-8a32-68aa631eb9e9",
   "metadata": {},
   "source": [
    "### Aircraft_Category\n",
    "The category of aircraft is important to the analysis, but the column is mostly empty.\n",
    "\n",
    "Many of the empty values can be filled in using the Make column, though."
   ]
  },
  {
   "cell_type": "code",
   "execution_count": 1088,
   "id": "038566c4-bcf3-4794-94a6-6e910ab6d042",
   "metadata": {},
   "outputs": [
    {
     "data": {
      "text/plain": [
       "Aircraft_Category\n",
       "NaN                  55770\n",
       "Airplane             27520\n",
       "Helicopter            3434\n",
       "Glider                 505\n",
       "Balloon                231\n",
       "Gyrocraft              173\n",
       "Weight-Shift           161\n",
       "Powered Parachute       91\n",
       "Ultralight              30\n",
       "Unknown                 14\n",
       "WSFT                     9\n",
       "Powered-Lift             5\n",
       "Blimp                    4\n",
       "UNK                      2\n",
       "Rocket                   1\n",
       "ULTR                     1\n",
       "Name: count, dtype: int64"
      ]
     },
     "execution_count": 1088,
     "metadata": {},
     "output_type": "execute_result"
    }
   ],
   "source": [
    "df['Aircraft_Category'].value_counts(dropna=False)"
   ]
  },
  {
   "cell_type": "code",
   "execution_count": 1089,
   "id": "38e37227-e668-42f4-91d1-3037ebad3345",
   "metadata": {},
   "outputs": [
    {
     "data": {
      "text/plain": [
       "Make\n",
       "Cessna           21925\n",
       "Piper            11903\n",
       "CESSNA            4914\n",
       "Beech             4290\n",
       "PIPER             2841\n",
       "                 ...  \n",
       "Geertz               1\n",
       "Conrad Menzel        1\n",
       "Blucher              1\n",
       "Gideon               1\n",
       "ROYSE RALPH L        1\n",
       "Name: count, Length: 8202, dtype: int64"
      ]
     },
     "execution_count": 1089,
     "metadata": {},
     "output_type": "execute_result"
    }
   ],
   "source": [
    "df['Make'].value_counts(dropna=False)"
   ]
  },
  {
   "cell_type": "markdown",
   "id": "2e58b96f-b269-4c07-883e-d0ea9a27fed4",
   "metadata": {},
   "source": [
    "I see here that there may exist multiple versions of the same makes, like \"Cessna\" and \"CESSNA\". It would be nice to clean this column for multiple versions of make names.\n",
    "\n",
    "We can start with Cessna since it has the most in value_counts and see what other versions of that name are in the dataset."
   ]
  },
  {
   "cell_type": "code",
   "execution_count": 1090,
   "id": "41e22a04-a85d-4f6e-9972-73b1f550b57b",
   "metadata": {},
   "outputs": [
    {
     "data": {
      "text/plain": [
       "Make\n",
       "Cessna                     21925\n",
       "CESSNA                      4914\n",
       "CESSNA AIRCRAFT CO            24\n",
       "CESSNA AIRCRAFT                9\n",
       "CESSNA AIRCRAFT COMPANY        9\n",
       "Cessna Ector                   3\n",
       "CESSNA ECTOR                   3\n",
       "Cessna Aircraft Company        3\n",
       "Cessna Wren                    2\n",
       "CESSNA/AIR REPAIR INC          2\n",
       "CESSNA/WEAVER                  1\n",
       "Cessna Aircraft Co.            1\n",
       "CESSNA REIMS                   1\n",
       "CESSNA Aircraft                1\n",
       "Cessna Reems                   1\n",
       "Cessna Robertson               1\n",
       "Cessna Skyhawk II              1\n",
       "Cessna Soloy                   1\n",
       "Cesna                          1\n",
       "Name: count, dtype: int64"
      ]
     },
     "execution_count": 1090,
     "metadata": {},
     "output_type": "execute_result"
    }
   ],
   "source": [
    "# Show Make value beginning with ces, ignoring case\n",
    "df[df['Make'].str.lower().str.startswith('ces')].value_counts('Make')"
   ]
  },
  {
   "cell_type": "markdown",
   "id": "e8b43605-bdff-4a15-9010-b95d8448397d",
   "metadata": {},
   "source": [
    "So all these makes can be cleaned by changing the values to \"Cessna\""
   ]
  },
  {
   "cell_type": "code",
   "execution_count": 1091,
   "id": "33e8a7b6-90f4-48e6-a6dd-10d349c0db77",
   "metadata": {},
   "outputs": [
    {
     "data": {
      "text/plain": [
       "Make\n",
       "Cessna    26903\n",
       "Name: count, dtype: int64"
      ]
     },
     "execution_count": 1091,
     "metadata": {},
     "output_type": "execute_result"
    }
   ],
   "source": [
    "# Convert all these cessna values to 'Cessna'\n",
    "df.loc[df['Make'].str.lower().str.startswith('ces'), 'Make'] = 'Cessna'\n",
    "\n",
    "df[df['Make'].str.lower().str.startswith('ces')].value_counts('Make')"
   ]
  },
  {
   "cell_type": "markdown",
   "id": "db6a3db9-4223-48bf-925b-409573bae0fd",
   "metadata": {},
   "source": [
    "We now have almost 27000 Cessna makes instead. So we can now look at the category values for these makes."
   ]
  },
  {
   "cell_type": "code",
   "execution_count": 1092,
   "id": "c02dbf5b-cadb-4dd2-82aa-6913255305c9",
   "metadata": {},
   "outputs": [
    {
     "data": {
      "text/plain": [
       "Aircraft_Category\n",
       "NaN         18406\n",
       "Airplane     8496\n",
       "Unknown         1\n",
       "Name: count, dtype: int64"
      ]
     },
     "execution_count": 1092,
     "metadata": {},
     "output_type": "execute_result"
    }
   ],
   "source": [
    "# Aircraft_Category values for Cessna in the Make column, include NaN\n",
    "df[df['Make'] == 'Cessna'].value_counts('Aircraft_Category', dropna=False)"
   ]
  },
  {
   "cell_type": "markdown",
   "id": "aa08341b-ae65-4114-930e-cd071ab61905",
   "metadata": {},
   "source": [
    "It looks like it would be safe to replace the empty category values (and 1 unknown) for the Cessna make with \"Airplane\""
   ]
  },
  {
   "cell_type": "code",
   "execution_count": 1093,
   "id": "64b9f72e-9d19-4e5e-b83a-a7944e7033cd",
   "metadata": {},
   "outputs": [],
   "source": [
    "# Fill in Aircraft_Category as 'Airplane' for Cessna\n",
    "df.loc[df['Make'] == 'Cessna', 'Aircraft_Category'] = 'Airplane'"
   ]
  },
  {
   "cell_type": "code",
   "execution_count": 1094,
   "id": "cd4555ac-34ce-4bfc-a39a-5ae9de21f7cd",
   "metadata": {},
   "outputs": [
    {
     "data": {
      "text/plain": [
       "Make\n",
       "Cessna           26903\n",
       "Piper            11903\n",
       "Beech             4290\n",
       "PIPER             2841\n",
       "Bell              2118\n",
       "                 ...  \n",
       "Gideon               1\n",
       "Brault               1\n",
       "Baldwin              1\n",
       "Kirchner             1\n",
       "ROYSE RALPH L        1\n",
       "Name: count, Length: 8184, dtype: int64"
      ]
     },
     "execution_count": 1094,
     "metadata": {},
     "output_type": "execute_result"
    }
   ],
   "source": [
    "# Let's look at Make value_counts again\n",
    "df['Make'].value_counts(dropna=False)"
   ]
  },
  {
   "cell_type": "raw",
   "id": "e8a29b65-1b2e-4695-943f-a948f487349a",
   "metadata": {},
   "source": [
    "Let's run the same analysis and function for other top make values."
   ]
  },
  {
   "cell_type": "code",
   "execution_count": 1095,
   "id": "fe5303d7-30b2-4692-8cae-eb8883ce342b",
   "metadata": {},
   "outputs": [
    {
     "data": {
      "text/plain": [
       "Make\n",
       "Piper                         11903\n",
       "PIPER                          2841\n",
       "PIPER AIRCRAFT INC               27\n",
       "PIPER AIRCRAFT CORPORATION        8\n",
       "PIPER AIRCRAFT                    4\n",
       "Piper Aircraft                    3\n",
       "Piper/cub Crafters                3\n",
       "PIPER/CUB CRAFTERS                3\n",
       "Piper Aircraft Corporation        3\n",
       "Piper Aircraft, Inc.              2\n",
       "Piper Aerostar                    2\n",
       "PIPER / LAUDEMAN                  1\n",
       "PIPER/WALLY'S FLYERS INC          1\n",
       "PIPER-HARRIS                      1\n",
       "Piper Cub Crafters                1\n",
       "Piper Pawnee                      1\n",
       "Piper-aerostar                    1\n",
       "Piper/Cub Crafters                1\n",
       "PIPER AIRCRAFT, INC.              1\n",
       "Piper/stevens                     1\n",
       "Name: count, dtype: int64"
      ]
     },
     "execution_count": 1095,
     "metadata": {},
     "output_type": "execute_result"
    }
   ],
   "source": [
    "# Show Make value beginning with piper, ignoring case\n",
    "df[df['Make'].str.lower().str.startswith('piper')].value_counts('Make')"
   ]
  },
  {
   "cell_type": "code",
   "execution_count": 1096,
   "id": "ed69f877-f0f5-4d6a-a831-d86857830e44",
   "metadata": {},
   "outputs": [
    {
     "data": {
      "text/plain": [
       "Aircraft_Category\n",
       "NaN         10045\n",
       "Airplane     4763\n",
       "Name: count, dtype: int64"
      ]
     },
     "execution_count": 1096,
     "metadata": {},
     "output_type": "execute_result"
    }
   ],
   "source": [
    "# Convert all these piper values to 'Piper' and then take a look at its category values\n",
    "df.loc[df['Make'].str.lower().str.startswith('piper'), 'Make'] = 'Piper'\n",
    "\n",
    "df[df['Make'] == 'Piper'].value_counts('Aircraft_Category', dropna=False)"
   ]
  },
  {
   "cell_type": "code",
   "execution_count": 1097,
   "id": "7a20cec1-fb64-4efa-91fe-e99e5bf9a0f3",
   "metadata": {},
   "outputs": [],
   "source": [
    "# Fill in the NaN values for the category column for Piper as \"Airplane\"\n",
    "df.loc[df['Make'] == 'Piper', 'Aircraft_Category'] = 'Airplane'"
   ]
  },
  {
   "cell_type": "code",
   "execution_count": 1098,
   "id": "12f7e621-61b5-41b8-a510-db5226be6cba",
   "metadata": {},
   "outputs": [
    {
     "data": {
      "text/plain": [
       "Make\n",
       "Beech                         4290\n",
       "BEECH                         1042\n",
       "Beechcraft                      24\n",
       "BEECHCRAFT                       5\n",
       "BEECH AIRCRAFT                   3\n",
       "BEECH AIRCRAFT CORPORATION       2\n",
       "Beech Aircraft Corporation       2\n",
       "BEECH AIRCRAFT CO.               1\n",
       "Beech Aircraft Corp              1\n",
       "Beechcraft Corporation           1\n",
       "Beecher                          1\n",
       "Name: count, dtype: int64"
      ]
     },
     "execution_count": 1098,
     "metadata": {},
     "output_type": "execute_result"
    }
   ],
   "source": [
    "# Show Make value beginning with beech, ignoring case\n",
    "df[df['Make'].str.lower().str.startswith('beech')].value_counts('Make')"
   ]
  },
  {
   "cell_type": "markdown",
   "id": "0d06a4a3-fc7f-4dd1-9267-81b5fea4ab13",
   "metadata": {},
   "source": [
    "A quick Google search tells me that Beech and Beechcraft are the same make."
   ]
  },
  {
   "cell_type": "code",
   "execution_count": 1099,
   "id": "bab05672-9a61-4585-9d82-e71381d92ad8",
   "metadata": {},
   "outputs": [
    {
     "data": {
      "text/plain": [
       "Aircraft_Category\n",
       "NaN         3654\n",
       "Airplane    1718\n",
       "Name: count, dtype: int64"
      ]
     },
     "execution_count": 1099,
     "metadata": {},
     "output_type": "execute_result"
    }
   ],
   "source": [
    "df.loc[df['Make'].str.lower().str.startswith('beech'), 'Make'] = 'Beech'\n",
    "\n",
    "df[df['Make'] == 'Beech'].value_counts('Aircraft_Category', dropna=False)"
   ]
  },
  {
   "cell_type": "code",
   "execution_count": 1100,
   "id": "3d413034-6e23-4e10-9161-71839e91e24c",
   "metadata": {},
   "outputs": [],
   "source": [
    "df.loc[df['Make'] == 'Beech', 'Aircraft_Category'] = 'Airplane'"
   ]
  },
  {
   "cell_type": "code",
   "execution_count": 1101,
   "id": "85dfff0f-7307-4c7d-b4f1-1aaf0a76072c",
   "metadata": {},
   "outputs": [
    {
     "data": {
      "text/plain": [
       "Make\n",
       "Bell                              2118\n",
       "Bellanca                           874\n",
       "BELL                               588\n",
       "BELLANCA                           159\n",
       "BELL HELICOPTER TEXTRON CANADA      23\n",
       "BELL HELICOPTER TEXTRON             21\n",
       "BELL HELICOPTER                      4\n",
       "Bell-transworld                      3\n",
       "Bell Helicopter                      3\n",
       "Bell-k Copter                        2\n",
       "Bell Helicopter Textron              2\n",
       "Bell-carson                          2\n",
       "BELL TEXTRON CANADA LTD              2\n",
       "BELL HELICOPTER CO                   2\n",
       "Bell-olympic Helicopters, Inc.       1\n",
       "Bell-moore                           1\n",
       "Bell-world                           1\n",
       "Bell/soloy                           1\n",
       "Bell/garlick                         1\n",
       "Bell/mason                           1\n",
       "Bell/textron                         1\n",
       "Bell/tsirah                          1\n",
       "Bellah                               1\n",
       "Bellanca Aircraft Corporation        1\n",
       "Bellanca Citabria                    1\n",
       "Bell-kitz Kopters                    1\n",
       "Bell Shelby Aero                     1\n",
       "Bell-continental Copters             1\n",
       "Bell-cont 42g                        1\n",
       "Bell-campbell                        1\n",
       "BELL BILL                            1\n",
       "Bell 47g-3b                          1\n",
       "BELLET JAMES J                       1\n",
       "BELLER                               1\n",
       "BELL/GARLICK                         1\n",
       "BELL-WATSON                          1\n",
       "BELL-TRANSWORLD HELICOPTERS          1\n",
       "BELL-TRANSWORLD HELICOPTER COR       1\n",
       "BELL-TELLIJOHN                       1\n",
       "BELL-CARSON                          1\n",
       "BELL HELICOPTER TEXTRON INC          1\n",
       "Bellance                             1\n",
       "Name: count, dtype: int64"
      ]
     },
     "execution_count": 1101,
     "metadata": {},
     "output_type": "execute_result"
    }
   ],
   "source": [
    "df[df['Make'].str.lower().str.startswith('bell')].value_counts('Make')"
   ]
  },
  {
   "cell_type": "code",
   "execution_count": 1102,
   "id": "44361d37-1691-4da2-b941-0767915e57e0",
   "metadata": {},
   "outputs": [
    {
     "data": {
      "text/plain": [
       "Make\n",
       "Bell              2792\n",
       "Bellanca          1036\n",
       "BELLER               1\n",
       "BELLET JAMES J       1\n",
       "Bellah               1\n",
       "Name: count, dtype: int64"
      ]
     },
     "execution_count": 1102,
     "metadata": {},
     "output_type": "execute_result"
    }
   ],
   "source": [
    "# Bellanca and Bell are not the same make, so will take a little more work to clean all the various bell combinations.\n",
    "# change the various interations of bell to Bell\n",
    "df.loc[df['Make'].str.lower().str.startswith(('bell-', 'bell/', 'bell h', 'bell t', 'bell s', 'bell b', 'bell 4'), na=False), 'Make'] = 'Bell'\n",
    "\n",
    "# make Bell and BELL the same\n",
    "df.loc[(df['Make'] == 'BELL'), 'Make'] = 'Bell'\n",
    "\n",
    "# address the various versions of Bellanca\n",
    "df.loc[df['Make'].str.lower().str.startswith(('bellan'), na=False), 'Make'] = 'Bellanca'\n",
    "\n",
    "# check the list again\n",
    "df[df['Make'].str.lower().str.startswith('bell')].value_counts('Make')"
   ]
  },
  {
   "cell_type": "code",
   "execution_count": 1103,
   "id": "c9763a52-2998-41e4-be1a-1b5523c5f44d",
   "metadata": {},
   "outputs": [
    {
     "data": {
      "text/plain": [
       "Aircraft_Category\n",
       "NaN           1816\n",
       "Helicopter     971\n",
       "Airplane         3\n",
       "Unknown          2\n",
       "Name: count, dtype: int64"
      ]
     },
     "execution_count": 1103,
     "metadata": {},
     "output_type": "execute_result"
    }
   ],
   "source": [
    "# Now we can look at the categories for Bell and Bellanca\n",
    "df[df['Make'] == 'Bell'].value_counts('Aircraft_Category', dropna=False)"
   ]
  },
  {
   "cell_type": "code",
   "execution_count": 1104,
   "id": "4ce177c6-96e8-4586-9e67-94f4153b237f",
   "metadata": {},
   "outputs": [
    {
     "name": "stderr",
     "output_type": "stream",
     "text": [
      "C:\\Users\\joeyc\\anaconda3\\Lib\\site-packages\\IPython\\core\\displayhook.py:281: UserWarning: Output cache limit (currently 1000 entries) hit.\n",
      "Flushing oldest 200 entries.\n",
      "  warn('Output cache limit (currently {sz} entries) hit.\\n'\n"
     ]
    },
    {
     "data": {
      "text/plain": [
       "Aircraft_Category\n",
       "Helicopter    2792\n",
       "Name: count, dtype: int64"
      ]
     },
     "execution_count": 1104,
     "metadata": {},
     "output_type": "execute_result"
    }
   ],
   "source": [
    "# Bell can safely be changed to Helicopter for its category\n",
    "df.loc[df['Make'] == 'Bell', 'Aircraft_Category'] = 'Helicopter'\n",
    "\n",
    "df[df['Make'] == 'Bell'].value_counts('Aircraft_Category', dropna=False)"
   ]
  },
  {
   "cell_type": "code",
   "execution_count": 1105,
   "id": "b69bfb5c-3b93-4a15-a54f-da7c2d9b521b",
   "metadata": {},
   "outputs": [
    {
     "data": {
      "text/plain": [
       "Aircraft_Category\n",
       "NaN         753\n",
       "Airplane    283\n",
       "Name: count, dtype: int64"
      ]
     },
     "execution_count": 1105,
     "metadata": {},
     "output_type": "execute_result"
    }
   ],
   "source": [
    "df[df['Make'] == 'Bellanca'].value_counts('Aircraft_Category', dropna=False)"
   ]
  },
  {
   "cell_type": "code",
   "execution_count": 1106,
   "id": "42e7a45a-20b2-48a5-b7c0-a6e52b4725e3",
   "metadata": {},
   "outputs": [],
   "source": [
    "df.loc[df['Make'] == 'Bellanca', 'Aircraft_Category'] = 'Airplane'"
   ]
  },
  {
   "cell_type": "code",
   "execution_count": 1107,
   "id": "cf1da8f6-3556-4516-a108-5255009db21b",
   "metadata": {},
   "outputs": [
    {
     "data": {
      "text/plain": [
       "Make\n",
       "Cessna           26903\n",
       "Piper            14808\n",
       "Beech             5372\n",
       "Bell              2792\n",
       "Boeing            1512\n",
       "                 ...  \n",
       "Gideon               1\n",
       "Brault               1\n",
       "Baldwin              1\n",
       "Kirchner             1\n",
       "ROYSE RALPH L        1\n",
       "Name: count, Length: 8118, dtype: int64"
      ]
     },
     "execution_count": 1107,
     "metadata": {},
     "output_type": "execute_result"
    }
   ],
   "source": [
    "# Let's look at Make value_counts again\n",
    "df['Make'].value_counts(dropna=False)"
   ]
  },
  {
   "cell_type": "code",
   "execution_count": 1108,
   "id": "7972b437-84ab-4d7d-af3f-75fee1fc3ac6",
   "metadata": {},
   "outputs": [
    {
     "data": {
      "text/plain": [
       "Make\n",
       "Boeing                            1512\n",
       "BOEING                            1140\n",
       "Boeing Stearman                     48\n",
       "BOEING COMPANY                       8\n",
       "Boeing Vertol                        6\n",
       "Boeing Helicopters Div.              3\n",
       "Boeing - Canada (de Havilland)       2\n",
       "BOEING 777-306ER                     1\n",
       "BOEING COMPANY, LONG BEACH DIV       1\n",
       "BOEING OF CANADA/DEHAV DIV           1\n",
       "BOEING-STEARMAN                      1\n",
       "BOEING-VERTOL                        1\n",
       "Boeing (Stearman)                    1\n",
       "Boeing Commercial Airplane Gro       1\n",
       "Boeing Company                       1\n",
       "Boeing-brown                         1\n",
       "Name: count, dtype: int64"
      ]
     },
     "execution_count": 1108,
     "metadata": {},
     "output_type": "execute_result"
    }
   ],
   "source": [
    "# clean the boeing make\n",
    "df[df['Make'].str.lower().str.startswith('boei')].value_counts('Make')"
   ]
  },
  {
   "cell_type": "code",
   "execution_count": 1109,
   "id": "304630ba-e20c-4a3f-95a9-403e35e174ce",
   "metadata": {},
   "outputs": [
    {
     "data": {
      "text/plain": [
       "Aircraft_Category\n",
       "NaN             1397\n",
       "Airplane        1325\n",
       "Helicopter         5\n",
       "Powered-Lift       1\n",
       "Name: count, dtype: int64"
      ]
     },
     "execution_count": 1109,
     "metadata": {},
     "output_type": "execute_result"
    }
   ],
   "source": [
    "# change the various iterations of boeing to Boeing\n",
    "df.loc[df['Make'].str.lower().str.startswith('boeing'), 'Make'] = 'Boeing'\n",
    "\n",
    "df[df['Make'] == 'Boeing'].value_counts('Aircraft_Category', dropna=False)"
   ]
  },
  {
   "cell_type": "code",
   "execution_count": 1110,
   "id": "1c3e137a-769d-4386-824f-f6f5db70a8c9",
   "metadata": {},
   "outputs": [],
   "source": [
    "# Boeing can safely be assigned to the Airplane category\n",
    "df.loc[df['Make'] == 'Boeing', 'Aircraft_Category'] = 'Airplane'"
   ]
  },
  {
   "cell_type": "code",
   "execution_count": 1111,
   "id": "770451c4-c492-4648-984f-f42ff65d40f6",
   "metadata": {},
   "outputs": [
    {
     "data": {
      "text/plain": [
       "Make\n",
       "Cessna                            26903\n",
       "Piper                             14808\n",
       "Beech                              5372\n",
       "Bell                               2792\n",
       "Boeing                             2728\n",
       "Mooney                             1080\n",
       "Grumman                            1080\n",
       "Bellanca                           1036\n",
       "Robinson                            940\n",
       "Hughes                              794\n",
       "Schweizer                           628\n",
       "Air Tractor                         588\n",
       "Mcdonnell Douglas                   499\n",
       "Aeronca                             479\n",
       "Maule                               443\n",
       "Champion                            426\n",
       "De Havilland                        370\n",
       "Aero Commander                      356\n",
       "Stinson                             342\n",
       "Aerospatiale                        334\n",
       "Rockwell                            328\n",
       "Taylorcraft                         316\n",
       "Luscombe                            316\n",
       "Hiller                              311\n",
       "North American                      294\n",
       "ROBINSON                            283\n",
       "AIRBUS                              251\n",
       "Douglas                             250\n",
       "Enstrom                             247\n",
       "MOONEY                              242\n",
       "Grumman American                    222\n",
       "ROBINSON HELICOPTER                 221\n",
       "CIRRUS DESIGN CORP                  218\n",
       "AIR TRACTOR INC                     217\n",
       "Ayres                               213\n",
       "ROBINSON HELICOPTER COMPANY         179\n",
       "Ercoupe (eng & Research Corp.)      155\n",
       "Sikorsky                            153\n",
       "AERONCA                             149\n",
       "SCHWEIZER                           144\n",
       "MAULE                               144\n",
       "Swearingen                          141\n",
       "HUGHES                              137\n",
       "Lake                                136\n",
       "Balloon Works                       135\n",
       "Airbus Industrie                    135\n",
       "Fairchild                           131\n",
       "EMBRAER                             130\n",
       "EUROCOPTER                          128\n",
       "Pitts                               128\n",
       "Mitsubishi                          126\n",
       "Grumman-schweizer                   121\n",
       "Waco                                114\n",
       "Aviat                               112\n",
       "Let                                 111\n",
       "Lockheed                            111\n",
       "Learjet                             109\n",
       "Burkhart Grob                       109\n",
       "Embraer                             106\n",
       "AIR TRACTOR                          96\n",
       "Name: count, dtype: int64"
      ]
     },
     "execution_count": 1111,
     "metadata": {},
     "output_type": "execute_result"
    }
   ],
   "source": [
    "# Let's look at the top 50 Make value counts and see if there are any that can be cleaned up\n",
    "df['Make'].value_counts().head(60)"
   ]
  },
  {
   "cell_type": "code",
   "execution_count": 1112,
   "id": "7a5d99ab-6410-4f8e-96e4-4a04abc91df3",
   "metadata": {},
   "outputs": [
    {
     "data": {
      "text/plain": [
       "Aircraft_Category\n",
       "NaN         401\n",
       "Airplane    232\n",
       "Name: count, dtype: int64"
      ]
     },
     "execution_count": 1112,
     "metadata": {},
     "output_type": "execute_result"
    }
   ],
   "source": [
    "# change the various iterations of aeronca to Aeronca\n",
    "df.loc[df['Make'].str.lower().str.startswith('aeronca'), 'Make'] = 'Aeronca'\n",
    "\n",
    "df[df['Make'] == 'Aeronca'].value_counts('Aircraft_Category', dropna=False)"
   ]
  },
  {
   "cell_type": "code",
   "execution_count": 1113,
   "id": "fee0e42a-221a-4cc5-829c-90fd8f54a957",
   "metadata": {},
   "outputs": [],
   "source": [
    "# Aeronca is airplane\n",
    "df.loc[df['Make'] == 'Aeronca', 'Aircraft_Category'] = 'Airplane'"
   ]
  },
  {
   "cell_type": "code",
   "execution_count": 1114,
   "id": "fea032da-8e18-4622-8bf0-f4b5ae743dbd",
   "metadata": {},
   "outputs": [
    {
     "data": {
      "text/plain": [
       "Aircraft_Category\n",
       "NaN         462\n",
       "Airplane    448\n",
       "Name: count, dtype: int64"
      ]
     },
     "execution_count": 1114,
     "metadata": {},
     "output_type": "execute_result"
    }
   ],
   "source": [
    "# change the various iterations of Air Tractor and check its category values\n",
    "df.loc[df['Make'].str.lower().str.startswith('air tractor'), 'Make'] = 'Air Tractor'\n",
    "\n",
    "df[df['Make'] == 'Air Tractor'].value_counts('Aircraft_Category', dropna=False)"
   ]
  },
  {
   "cell_type": "code",
   "execution_count": 1115,
   "id": "6da0d8d3-68b6-4141-955a-6feb0121084d",
   "metadata": {},
   "outputs": [],
   "source": [
    "# Air Tractor is Airplane\n",
    "df.loc[df['Make'] == 'Air Tractor', 'Aircraft_Category'] = 'Airplane'"
   ]
  },
  {
   "cell_type": "code",
   "execution_count": 1116,
   "id": "6d6a778e-b515-4e1e-9aa4-bc09b0bbd53d",
   "metadata": {},
   "outputs": [
    {
     "data": {
      "text/plain": [
       "Make\n",
       "AIRBUS                            251\n",
       "Airbus Industrie                  135\n",
       "Airbus                             37\n",
       "AIRBUS INDUSTRIE                   22\n",
       "AIRBUS HELICOPTERS                 10\n",
       "AIRBUS HELICOPTERS INC              3\n",
       "Airbus Helicopters                  2\n",
       "AIRBUS HELICOPTER                   1\n",
       "AIRBUS Helicopters                  1\n",
       "AIRBUS/EUROCOPTER                   1\n",
       "Airbus Helicopters (Eurocopte       1\n",
       "Airbus Helicopters Deutschland      1\n",
       "Airbus Industries                   1\n",
       "Name: count, dtype: int64"
      ]
     },
     "execution_count": 1116,
     "metadata": {},
     "output_type": "execute_result"
    }
   ],
   "source": [
    "# look at airbus\n",
    "df[df['Make'].str.lower().str.startswith('airbus')].value_counts('Make')"
   ]
  },
  {
   "cell_type": "code",
   "execution_count": 1117,
   "id": "efebb7e3-eb4b-40fb-9021-69bb85c83124",
   "metadata": {},
   "outputs": [
    {
     "data": {
      "text/plain": [
       "Aircraft_Category\n",
       "Airplane        284\n",
       "NaN             141\n",
       "Helicopter       40\n",
       "Powered-Lift      1\n",
       "Name: count, dtype: int64"
      ]
     },
     "execution_count": 1117,
     "metadata": {},
     "output_type": "execute_result"
    }
   ],
   "source": [
    "df[df['Make'].str.lower().str.startswith('airbus')].value_counts('Aircraft_Category', dropna=False)"
   ]
  },
  {
   "cell_type": "markdown",
   "id": "1bbc63a6-2d17-45ce-a1e0-95de79272ced",
   "metadata": {},
   "source": [
    "I see here that the various versions of Airbus have both airplanes and helicopters in the make and category columns, so before replacing make names and then filling in empty category values, I need to check the categories for some of the make iterations that may not be clear."
   ]
  },
  {
   "cell_type": "code",
   "execution_count": 1118,
   "id": "ef40e5f2-686b-49ec-8d74-80a46b6ee44e",
   "metadata": {},
   "outputs": [
    {
     "data": {
      "text/plain": [
       "Aircraft_Category\n",
       "NaN         116\n",
       "Airplane     42\n",
       "Name: count, dtype: int64"
      ]
     },
     "execution_count": 1118,
     "metadata": {},
     "output_type": "execute_result"
    }
   ],
   "source": [
    "# check out Airbus Industrie iterations\n",
    "df[df['Make'].str.lower().str.startswith('airbus i')].value_counts('Aircraft_Category', dropna=False)"
   ]
  },
  {
   "cell_type": "markdown",
   "id": "0f1ad9ae-e08c-4c2c-9d5d-02e10cfa02ff",
   "metadata": {},
   "source": [
    "So, Airbus Industrie, AIRBUS INDUSTRIE, and Airbus Industries can be combined and categorized as airplane"
   ]
  },
  {
   "cell_type": "code",
   "execution_count": 1119,
   "id": "f78c3582-03d9-430e-85e7-a860e2248fbe",
   "metadata": {},
   "outputs": [
    {
     "data": {
      "text/plain": [
       "Make\n",
       "AIRBUS                            251\n",
       "Airbus Industrie                  158\n",
       "Airbus                             37\n",
       "AIRBUS HELICOPTERS                 10\n",
       "AIRBUS HELICOPTERS INC              3\n",
       "Airbus Helicopters                  2\n",
       "AIRBUS HELICOPTER                   1\n",
       "AIRBUS Helicopters                  1\n",
       "AIRBUS/EUROCOPTER                   1\n",
       "Airbus Helicopters (Eurocopte       1\n",
       "Airbus Helicopters Deutschland      1\n",
       "Name: count, dtype: int64"
      ]
     },
     "execution_count": 1119,
     "metadata": {},
     "output_type": "execute_result"
    }
   ],
   "source": [
    "df.loc[df['Make'].isin(['AIRBUS INDUSTRIE', 'Airbus Industries']), 'Make'] = 'Airbus Industrie'\n",
    "\n",
    "df.loc[df['Make'] == 'Airbus Industrie', 'Aircraft_Category'] = 'Airplane'\n",
    "\n",
    "df[df['Make'].str.lower().str.startswith('airbus')].value_counts('Make')"
   ]
  },
  {
   "cell_type": "code",
   "execution_count": 1120,
   "id": "72606c48-a49b-4b92-83a0-58dfe0733ab6",
   "metadata": {},
   "outputs": [
    {
     "data": {
      "text/plain": [
       "Make\n",
       "AIRBUS                251\n",
       "Airbus Industrie      158\n",
       "Airbus                 37\n",
       "Airbus Helicopters     20\n",
       "Name: count, dtype: int64"
      ]
     },
     "execution_count": 1120,
     "metadata": {},
     "output_type": "execute_result"
    }
   ],
   "source": [
    "# clean up Airbus Helicopters\n",
    "df.loc[df['Make'].isin(['AIRBUS HELICOPTERS', 'AIRBUS Helicopters', 'AIRBUS HELICOPTERS INC', 'AIRBUS HELICOPTER', 'AIRBUS/EUROCOPTER', 'Airbus Helicopters (Eurocopte', 'Airbus Helicopters Deutschland']), 'Make'] = 'Airbus Helicopters'\n",
    "\n",
    "df.loc[df['Make'] == 'Airbus Helicopters', 'Aircraft_Category'] = 'Helicopter'\n",
    "\n",
    "df[df['Make'].str.lower().str.startswith('airbus')].value_counts('Make')"
   ]
  },
  {
   "cell_type": "code",
   "execution_count": 1121,
   "id": "67476d1d-9e8f-4b8c-9744-a22e1eec2b7b",
   "metadata": {},
   "outputs": [
    {
     "data": {
      "text/plain": [
       "Aircraft_Category\n",
       "Airplane        242\n",
       "NaN              25\n",
       "Helicopter       20\n",
       "Powered-Lift      1\n",
       "Name: count, dtype: int64"
      ]
     },
     "execution_count": 1121,
     "metadata": {},
     "output_type": "execute_result"
    }
   ],
   "source": [
    "# combine the Airbus iterations\n",
    "df.loc[(df['Make'] == 'AIRBUS'), 'Make'] = 'Airbus'\n",
    "\n",
    "df[df['Make'] == 'Airbus'].value_counts('Aircraft_Category', dropna=False)"
   ]
  },
  {
   "cell_type": "markdown",
   "id": "bee9c413-0b8e-4594-ac8f-7a70166ea458",
   "metadata": {},
   "source": [
    "Since only 20 of the almost 300 records for Airbus are helicopters, we can safely make the NaN values Airplane"
   ]
  },
  {
   "cell_type": "code",
   "execution_count": 1122,
   "id": "0d35a022-0cf2-46ba-9f4e-c48be5bd4114",
   "metadata": {},
   "outputs": [
    {
     "data": {
      "text/plain": [
       "Make\n",
       "Airbus                288\n",
       "Airbus Industrie      158\n",
       "Airbus Helicopters     20\n",
       "Name: count, dtype: int64"
      ]
     },
     "execution_count": 1122,
     "metadata": {},
     "output_type": "execute_result"
    }
   ],
   "source": [
    "df.loc[(df['Make'] == 'Airbus') & (df['Aircraft_Category'].isna()), 'Aircraft_Category'] = 'Airplane'\n",
    "\n",
    "df[df['Make'].str.lower().str.startswith('airbus')].value_counts('Make')"
   ]
  },
  {
   "cell_type": "code",
   "execution_count": 1123,
   "id": "0d3a0073-3903-4dcc-a1cb-9798e0949c7d",
   "metadata": {},
   "outputs": [
    {
     "data": {
      "text/plain": [
       "Aircraft_Category\n",
       "Airplane             62783\n",
       "NaN                  18695\n",
       "Helicopter            5250\n",
       "Glider                 505\n",
       "Balloon                231\n",
       "Gyrocraft              173\n",
       "Weight-Shift           161\n",
       "Powered Parachute       91\n",
       "Ultralight              30\n",
       "Unknown                 11\n",
       "WSFT                     9\n",
       "Blimp                    4\n",
       "Powered-Lift             4\n",
       "UNK                      2\n",
       "Rocket                   1\n",
       "ULTR                     1\n",
       "Name: count, dtype: int64"
      ]
     },
     "execution_count": 1123,
     "metadata": {},
     "output_type": "execute_result"
    }
   ],
   "source": [
    "df['Aircraft_Category'].value_counts(dropna=False)"
   ]
  },
  {
   "cell_type": "markdown",
   "id": "7596d106-2438-4080-9820-0e20c714e013",
   "metadata": {},
   "source": [
    "So from having over 56,000 empty values in the category column, we are down to 18,695 empty values. I'd like to bring this down even further by looking at the empty category values as compared with the Make column to see which makes have the most empty values for category."
   ]
  },
  {
   "cell_type": "code",
   "execution_count": 1124,
   "id": "fba39323-9014-4692-9c0d-9dc7460f0f0d",
   "metadata": {},
   "outputs": [
    {
     "data": {
      "text/plain": [
       "Make\n",
       "Grumman                         911\n",
       "Mooney                          900\n",
       "Hughes                          686\n",
       "Robinson                        661\n",
       "Schweizer                       537\n",
       "                               ... \n",
       "York                              1\n",
       "Warren-thomas                     1\n",
       "Tennessee Engineering & Manf      1\n",
       "Slade H. Holmes                   1\n",
       "GRUMMAN AMERICAN AVN. CORP.       1\n",
       "Name: count, Length: 4049, dtype: int64"
      ]
     },
     "execution_count": 1124,
     "metadata": {},
     "output_type": "execute_result"
    }
   ],
   "source": [
    "df[df['Aircraft_Category'].isna()]['Make'].value_counts()"
   ]
  },
  {
   "cell_type": "markdown",
   "id": "7a728e92-9010-4267-95e8-a8d8c931bd87",
   "metadata": {},
   "source": [
    "Let's look at the category values for these makes that have the most empty category values"
   ]
  },
  {
   "cell_type": "code",
   "execution_count": 1125,
   "id": "71ccb39a-d1b4-4a73-9f11-6f9289262d11",
   "metadata": {},
   "outputs": [
    {
     "data": {
      "text/plain": [
       "Aircraft_Category\n",
       "NaN         911\n",
       "Airplane    169\n",
       "Name: count, dtype: int64"
      ]
     },
     "execution_count": 1125,
     "metadata": {},
     "output_type": "execute_result"
    }
   ],
   "source": [
    "# Grumman\n",
    "df[df['Make'] == 'Grumman'].value_counts('Aircraft_Category', dropna=False)"
   ]
  },
  {
   "cell_type": "markdown",
   "id": "68074e9e-7055-4ec0-91a6-98c9110395bd",
   "metadata": {},
   "source": [
    "So Grumman is Airplane"
   ]
  },
  {
   "cell_type": "code",
   "execution_count": 1126,
   "id": "231bbb13-e796-43e5-84da-b8e86980ef8f",
   "metadata": {},
   "outputs": [
    {
     "data": {
      "text/plain": [
       "Make\n",
       "Grumman                           1080\n",
       "Grumman American                   222\n",
       "Grumman-schweizer                  121\n",
       "GRUMMAN                             78\n",
       "GRUMMAN ACFT ENG COR-SCHWEIZER      58\n",
       "GRUMMAN AMERICAN AVN. CORP.         49\n",
       "Grumman-Schweizer                    6\n",
       "GRUMMAN AIRCRAFT ENG CORP            2\n",
       "GRUMMAN AMERICAN                     2\n",
       "Grumman Acft Eng                     2\n",
       "Grumman American Aviation            2\n",
       "GRUMMAN AIRCRAFT COR-SCHWEIZER       1\n",
       "GRUMMAN AMERICAN AVIATION CORP       1\n",
       "GRUMMAN AMERICAN AVN. CORP           1\n",
       "GRUMMAN ACFT ENG COR                 1\n",
       "GRUMMAN SCHWEIZER                    1\n",
       "GRUMMAN AIRCRAFT                     1\n",
       "Grumman American Avn. Corp.          1\n",
       "Grumman Schweizer                    1\n",
       "GRUMMAN American Corporation         1\n",
       "Name: count, dtype: int64"
      ]
     },
     "execution_count": 1126,
     "metadata": {},
     "output_type": "execute_result"
    }
   ],
   "source": [
    "# check to see if there are any other versions of 'Grumman' in the make column\n",
    "df[df['Make'].str.lower().str.startswith('grumm')].value_counts('Make')"
   ]
  },
  {
   "cell_type": "code",
   "execution_count": 1127,
   "id": "d1531dfd-f67e-403f-89b3-253c159a85f8",
   "metadata": {},
   "outputs": [
    {
     "data": {
      "text/plain": [
       "Aircraft_Category\n",
       "NaN         1207\n",
       "Airplane     424\n",
       "Name: count, dtype: int64"
      ]
     },
     "execution_count": 1127,
     "metadata": {},
     "output_type": "execute_result"
    }
   ],
   "source": [
    "# What are the category values for all these different versions of Grumman\n",
    "df[df['Make'].str.lower().str.startswith('grumm')].value_counts('Aircraft_Category', dropna=False)"
   ]
  },
  {
   "cell_type": "code",
   "execution_count": 1128,
   "id": "65c57bc6-f3e0-4304-a023-a92f13df174d",
   "metadata": {},
   "outputs": [
    {
     "data": {
      "text/plain": [
       "Make\n",
       "Grumman    1631\n",
       "Name: count, dtype: int64"
      ]
     },
     "execution_count": 1128,
     "metadata": {},
     "output_type": "execute_result"
    }
   ],
   "source": [
    "# So let's combine all these Grumman makes together and make their category Airplane\n",
    "df.loc[df['Make'].str.lower().str.startswith('grumm'), 'Make'] = 'Grumman'\n",
    "\n",
    "df.loc[df['Make'] == 'Grumman', 'Aircraft_Category'] = 'Airplane'\n",
    "\n",
    "df[df['Make'].str.lower().str.startswith('grumm')].value_counts('Make')"
   ]
  },
  {
   "cell_type": "code",
   "execution_count": 1129,
   "id": "890f96a5-0a8a-4f2c-8d9a-a9a19b3bf42e",
   "metadata": {},
   "outputs": [
    {
     "data": {
      "text/plain": [
       "Aircraft_Category\n",
       "NaN         900\n",
       "Airplane    180\n",
       "Name: count, dtype: int64"
      ]
     },
     "execution_count": 1129,
     "metadata": {},
     "output_type": "execute_result"
    }
   ],
   "source": [
    "# Mooney\n",
    "df[df['Make'] == 'Mooney'].value_counts('Aircraft_Category', dropna=False)"
   ]
  },
  {
   "cell_type": "code",
   "execution_count": 1130,
   "id": "d18c8737-4080-43e9-8502-534aede904a4",
   "metadata": {},
   "outputs": [
    {
     "data": {
      "text/plain": [
       "Make\n",
       "Mooney                           1080\n",
       "MOONEY                            242\n",
       "MOONEY AIRCRAFT CORP.              34\n",
       "MOONEY AIRPLANE CO INC             10\n",
       "MOONEY AIRPLANE COMPANY, INC.       1\n",
       "MOONEY INTERNATIONAL CORP           1\n",
       "Moon                                1\n",
       "Mooney Aircraft                     1\n",
       "Mooney Aircraft Corp                1\n",
       "Mooney Aircraft Corp.               1\n",
       "Mooney Aircraft Corporation         1\n",
       "Mooney, Dan                         1\n",
       "Name: count, dtype: int64"
      ]
     },
     "execution_count": 1130,
     "metadata": {},
     "output_type": "execute_result"
    }
   ],
   "source": [
    "# check to see if there are any other versions of 'Mooney' in the make column\n",
    "df[df['Make'].str.lower().str.startswith('moon')].value_counts('Make')"
   ]
  },
  {
   "cell_type": "code",
   "execution_count": 1131,
   "id": "45432977-08bd-40ef-ab83-8b8ad78da86b",
   "metadata": {},
   "outputs": [
    {
     "data": {
      "text/plain": [
       "Aircraft_Category\n",
       "NaN         908\n",
       "Airplane    466\n",
       "Name: count, dtype: int64"
      ]
     },
     "execution_count": 1131,
     "metadata": {},
     "output_type": "execute_result"
    }
   ],
   "source": [
    "# What are the category values for all these different versions of Mooney\n",
    "df[df['Make'].str.lower().str.startswith('moon')].value_counts('Aircraft_Category', dropna=False)"
   ]
  },
  {
   "cell_type": "code",
   "execution_count": 1132,
   "id": "520b9ff3-e747-4d57-b969-9632a89ea38b",
   "metadata": {},
   "outputs": [
    {
     "data": {
      "text/plain": [
       "Make\n",
       "Mooney    1373\n",
       "Moon         1\n",
       "Name: count, dtype: int64"
      ]
     },
     "execution_count": 1132,
     "metadata": {},
     "output_type": "execute_result"
    }
   ],
   "source": [
    "# Combine all these Mooney makes together and make their category Airplane\n",
    "df.loc[df['Make'].str.lower().str.startswith('mooney'), 'Make'] = 'Mooney'\n",
    "\n",
    "df.loc[df['Make'] == 'Mooney', 'Aircraft_Category'] = 'Airplane'\n",
    "\n",
    "df[df['Make'].str.lower().str.startswith('moon')].value_counts('Make')"
   ]
  },
  {
   "cell_type": "code",
   "execution_count": 1133,
   "id": "85013cf9-016b-4389-9579-7c3519de68b2",
   "metadata": {},
   "outputs": [
    {
     "data": {
      "text/plain": [
       "Aircraft_Category\n",
       "NaN           686\n",
       "Helicopter    108\n",
       "Name: count, dtype: int64"
      ]
     },
     "execution_count": 1133,
     "metadata": {},
     "output_type": "execute_result"
    }
   ],
   "source": [
    "# Hughes\n",
    "df[df['Make'] == 'Hughes'].value_counts('Aircraft_Category', dropna=False)"
   ]
  },
  {
   "cell_type": "markdown",
   "id": "faed2eeb-0d8f-4ca5-9598-66e16c820e7e",
   "metadata": {},
   "source": [
    "Hughes would be all helicopters"
   ]
  },
  {
   "cell_type": "code",
   "execution_count": 1134,
   "id": "20841616-5a7a-4d44-a600-0ee1411a405e",
   "metadata": {},
   "outputs": [
    {
     "data": {
      "text/plain": [
       "Make\n",
       "Hughes                          794\n",
       "HUGHES                          137\n",
       "HUGHES HELICOPTERS INC            3\n",
       "HUGHES AERO CORP                  2\n",
       "HUGHES CHARLES R                  1\n",
       "HUGHES/HELICOPTER ASSOCS INC      1\n",
       "Hughes Aero                       1\n",
       "Hughes Cassutt                    1\n",
       "Hughes J/Hughes J                 1\n",
       "Name: count, dtype: int64"
      ]
     },
     "execution_count": 1134,
     "metadata": {},
     "output_type": "execute_result"
    }
   ],
   "source": [
    "# check to see if there are any other versions of 'Hughes' in the make column\n",
    "df[df['Make'].str.lower().str.startswith('hughes')].value_counts('Make')"
   ]
  },
  {
   "cell_type": "code",
   "execution_count": 1135,
   "id": "a7b909eb-173b-4189-892a-c0d1952cf12e",
   "metadata": {},
   "outputs": [
    {
     "data": {
      "text/plain": [
       "Aircraft_Category\n",
       "NaN                  688\n",
       "Helicopter           248\n",
       "Airplane               3\n",
       "Powered Parachute      2\n",
       "Name: count, dtype: int64"
      ]
     },
     "execution_count": 1135,
     "metadata": {},
     "output_type": "execute_result"
    }
   ],
   "source": [
    "df[df['Make'].str.lower().str.startswith('hughes')].value_counts('Aircraft_Category', dropna=False)"
   ]
  },
  {
   "cell_type": "markdown",
   "id": "dad59d3f-5a55-4047-9f51-87880d50b108",
   "metadata": {},
   "source": [
    "Now here we have a few airplanes and parachutes in addition to all the helicopters in our list of Hughes interations. This may be due to some people named Hughes in the list that are not associated with the helicopter company. We can narrow the list down to find just the helicopter Hughes."
   ]
  },
  {
   "cell_type": "code",
   "execution_count": 1136,
   "id": "8142f18e-2198-43db-9a6e-95600719835d",
   "metadata": {},
   "outputs": [
    {
     "data": {
      "text/plain": [
       "Aircraft_Category\n",
       "NaN           687\n",
       "Helicopter    248\n",
       "Name: count, dtype: int64"
      ]
     },
     "execution_count": 1136,
     "metadata": {},
     "output_type": "execute_result"
    }
   ],
   "source": [
    "df[df['Make'].isin(['Hughes', 'HUGHES', 'HUGHES HELICOPTERS INC', 'HUGHES/HELICOPTER ASSOCS INC'])].value_counts('Aircraft_Category', dropna=False)"
   ]
  },
  {
   "cell_type": "code",
   "execution_count": 1137,
   "id": "4b8c07d1-a8e6-4f83-b2b8-3ee5e8eea89b",
   "metadata": {},
   "outputs": [
    {
     "data": {
      "text/plain": [
       "Aircraft_Category\n",
       "Helicopter    935\n",
       "Name: count, dtype: int64"
      ]
     },
     "execution_count": 1137,
     "metadata": {},
     "output_type": "execute_result"
    }
   ],
   "source": [
    "# So these 4 can be combined and made Helicopter in the category field\n",
    "df.loc[df['Make'].isin(['Hughes', 'HUGHES', 'HUGHES HELICOPTERS INC', 'HUGHES/HELICOPTER ASSOCS INC']), 'Make'] = 'Hughes Helicopters'\n",
    "\n",
    "df.loc[df['Make'] == 'Hughes Helicopters', 'Aircraft_Category'] = 'Helicopter'\n",
    "\n",
    "df[df['Make'] == 'Hughes Helicopters'].value_counts('Aircraft_Category', dropna=False)"
   ]
  },
  {
   "cell_type": "code",
   "execution_count": 1138,
   "id": "ec7927cd-a3c1-43bc-80ae-20caec4b3299",
   "metadata": {},
   "outputs": [
    {
     "data": {
      "text/plain": [
       "Make\n",
       "Robinson                       940\n",
       "ROBINSON                       283\n",
       "ROBINSON HELICOPTER            221\n",
       "ROBINSON HELICOPTER COMPANY    179\n",
       "ROBINSON HELICOPTER CO          22\n",
       "Robinson Helicopter Company     15\n",
       "Robinson Helicopter              9\n",
       "ROBINSON MICHAEL E               2\n",
       "ROBINSON HELICOPTER CO INC       1\n",
       "ROBINSON STEWART J               1\n",
       "Robinson Helicopter Co.          1\n",
       "Robinson Helicopters             1\n",
       "Name: count, dtype: int64"
      ]
     },
     "execution_count": 1138,
     "metadata": {},
     "output_type": "execute_result"
    }
   ],
   "source": [
    "# Robinson\n",
    "df[df['Make'].str.lower().str.startswith('robins')].value_counts('Make')"
   ]
  },
  {
   "cell_type": "code",
   "execution_count": 1139,
   "id": "0f883831-30ed-438e-bb12-36024ff78b89",
   "metadata": {},
   "outputs": [
    {
     "data": {
      "text/plain": [
       "Aircraft_Category\n",
       "Helicopter    981\n",
       "NaN           690\n",
       "Airplane        3\n",
       "Unknown         1\n",
       "Name: count, dtype: int64"
      ]
     },
     "execution_count": 1139,
     "metadata": {},
     "output_type": "execute_result"
    }
   ],
   "source": [
    "df[df['Make'].str.lower().str.startswith('robins')].value_counts('Aircraft_Category', dropna=False)"
   ]
  },
  {
   "cell_type": "code",
   "execution_count": 1140,
   "id": "2f87d31c-ed66-4d08-b2c7-5f49647ff279",
   "metadata": {},
   "outputs": [
    {
     "data": {
      "text/plain": [
       "Aircraft_Category\n",
       "Helicopter    1672\n",
       "Airplane         3\n",
       "Name: count, dtype: int64"
      ]
     },
     "execution_count": 1140,
     "metadata": {},
     "output_type": "execute_result"
    }
   ],
   "source": [
    "# combine all the Robinson Helicopter iterations and make them Helicopter\n",
    "df.loc[df['Make'].isin(['ROBINSON', 'ROBINSON HELICOPTER', 'ROBINSON HELICOPTER COMPANY', 'ROBINSON HELICOPTER CO', 'Robinson Helicopter Company', 'Robinson Helicopter', 'ROBINSON HELICOPTER CO INC', 'Robinson Helicopter Co.', 'Robinson Helicopters']), 'Make'] = 'Robinson'\n",
    "\n",
    "df.loc[df['Make'] == 'Robinson', 'Aircraft_Category'] = 'Helicopter'\n",
    "\n",
    "df[df['Make'].str.lower().str.startswith('robins')].value_counts('Aircraft_Category', dropna=False)"
   ]
  },
  {
   "cell_type": "code",
   "execution_count": 1141,
   "id": "2852bdc2-4ad0-4a2b-85ff-7ef2cb5b7a2c",
   "metadata": {},
   "outputs": [
    {
     "data": {
      "text/plain": [
       "Make\n",
       "Schweizer                         628\n",
       "SCHWEIZER                         144\n",
       "SCHWEIZER AIRCRAFT CORP            18\n",
       "SCHWEIZER(HUGHES)AIRCRAFT CORP      2\n",
       "Schweizer Aircraft Corp             2\n",
       "Schweizer Aircraft Corp.            2\n",
       "SCHWEIZER(HUGHES)                   1\n",
       "Schweizer 300CBi                    1\n",
       "Schweizer Sgs                       1\n",
       "Schweizer, N36289                   1\n",
       "Name: count, dtype: int64"
      ]
     },
     "execution_count": 1141,
     "metadata": {},
     "output_type": "execute_result"
    }
   ],
   "source": [
    "# Schweizer\n",
    "df[df['Make'].str.lower().str.startswith('schweiz')].value_counts('Make')"
   ]
  },
  {
   "cell_type": "code",
   "execution_count": 1142,
   "id": "838a75e8-3944-42e2-a04d-bbfff895f3af",
   "metadata": {},
   "outputs": [
    {
     "data": {
      "text/plain": [
       "Aircraft_Category\n",
       "NaN           541\n",
       "Helicopter    115\n",
       "Glider        111\n",
       "Airplane       32\n",
       "Unknown         1\n",
       "Name: count, dtype: int64"
      ]
     },
     "execution_count": 1142,
     "metadata": {},
     "output_type": "execute_result"
    }
   ],
   "source": [
    "df[df['Make'].str.lower().str.startswith('schweiz')].value_counts('Aircraft_Category', dropna=False)"
   ]
  },
  {
   "cell_type": "markdown",
   "id": "d9239804-f326-4340-9583-522f0c746060",
   "metadata": {},
   "source": [
    "A more healthy mixture here requires some investigation"
   ]
  },
  {
   "cell_type": "code",
   "execution_count": 1143,
   "id": "f4920d96-1fcb-443c-90d1-9cc5fafd933e",
   "metadata": {},
   "outputs": [
    {
     "data": {
      "text/plain": [
       "Aircraft_Category\n",
       "NaN           539\n",
       "Helicopter    111\n",
       "Glider        110\n",
       "Airplane       11\n",
       "Unknown         1\n",
       "Name: count, dtype: int64"
      ]
     },
     "execution_count": 1143,
     "metadata": {},
     "output_type": "execute_result"
    }
   ],
   "source": [
    "df[df['Make'].isin(['SCHWEIZER', 'Schweizer'])].value_counts('Aircraft_Category', dropna=False)"
   ]
  },
  {
   "cell_type": "markdown",
   "id": "f415f57d-548b-42f8-8234-6169a56c76a3",
   "metadata": {},
   "source": [
    "A quick google search informs me that Schweizer Aircraft made helicopters, gliders, and airplanes, so filling in the category column for Schweizer cannot be accomplished just by using the make column. As the empty values only amount to almost 550, I'm going to leave Schweizer alone for now, except for combining the makes together so that I would be able to more easily dig into it using the model column as well."
   ]
  },
  {
   "cell_type": "code",
   "execution_count": 1144,
   "id": "d0e6104a-1e4b-45be-9b2e-2349e9b760d1",
   "metadata": {},
   "outputs": [
    {
     "data": {
      "text/plain": [
       "Make\n",
       "Schweizer                         796\n",
       "SCHWEIZER(HUGHES)AIRCRAFT CORP      2\n",
       "SCHWEIZER(HUGHES)                   1\n",
       "Schweizer, N36289                   1\n",
       "Name: count, dtype: int64"
      ]
     },
     "execution_count": 1144,
     "metadata": {},
     "output_type": "execute_result"
    }
   ],
   "source": [
    "df.loc[df['Make'].isin(['SCHWEIZER', 'SCHWEIZER AIRCRAFT CORP', 'Schweizer Aircraft Corp', 'Schweizer Aircraft Corp.', 'Schweizer 300CBi', 'Schweizer Sgs']), 'Make'] = 'Schweizer'\n",
    "\n",
    "df[df['Make'].str.lower().str.startswith('schweiz')].value_counts('Make')"
   ]
  },
  {
   "cell_type": "markdown",
   "id": "3a3ab426-0239-469b-a136-13bf6c938f8c",
   "metadata": {},
   "source": [
    "Now how are the empty category counts looking?"
   ]
  },
  {
   "cell_type": "code",
   "execution_count": 1145,
   "id": "580da1cc-865e-4e14-8e6d-cdf4b4186804",
   "metadata": {},
   "outputs": [
    {
     "data": {
      "text/plain": [
       "Make\n",
       "Schweizer            541\n",
       "Mcdonnell Douglas    447\n",
       "Maule                355\n",
       "Champion             347\n",
       "Aero Commander       317\n",
       "                    ... \n",
       "Lamb/starduster        1\n",
       "Reif                   1\n",
       "Dale Conover           1\n",
       "Curt Hoffstad          1\n",
       "ROYSE RALPH L          1\n",
       "Name: count, Length: 4029, dtype: int64"
      ]
     },
     "execution_count": 1145,
     "metadata": {},
     "output_type": "execute_result"
    }
   ],
   "source": [
    "df[df['Aircraft_Category'].isna()]['Make'].value_counts()"
   ]
  },
  {
   "cell_type": "code",
   "execution_count": 1146,
   "id": "70b13366-9a22-48ba-9590-cd31b08bbded",
   "metadata": {},
   "outputs": [
    {
     "data": {
      "text/plain": [
       "Model\n",
       "269C           154\n",
       "G-164B         109\n",
       "SGS 2-33A       69\n",
       "269C-1          41\n",
       "G-164A          25\n",
       "              ... \n",
       "G167B            1\n",
       "G164A \"450\"      1\n",
       "G164-B           1\n",
       "G-164A-450       1\n",
       "TG3A             1\n",
       "Name: count, Length: 150, dtype: int64"
      ]
     },
     "execution_count": 1146,
     "metadata": {},
     "output_type": "execute_result"
    }
   ],
   "source": [
    "# Let's look at the Scheizer models\n",
    "df[df['Make'].isin(['Schweizer'])].value_counts('Model', dropna=False)"
   ]
  },
  {
   "cell_type": "markdown",
   "id": "9168cea9-3c95-4311-9682-a51e0b9e3ca9",
   "metadata": {},
   "source": [
    "Wikepedia and Google informs me that the Schweizer 269C is a helicopter, G-164B is an airplane, SGS 2-33A is a glider, 269C-1 is a helicopter, and G-164A is an airplane. Let's see if that data could e used to fill some of the Schweizer category values."
   ]
  },
  {
   "cell_type": "code",
   "execution_count": 1147,
   "id": "c0901738-25cb-4b3e-8936-59c8f81dfa16",
   "metadata": {},
   "outputs": [
    {
     "data": {
      "text/plain": [
       "Aircraft_Category\n",
       "Helicopter    253\n",
       "NaN            87\n",
       "Unknown         1\n",
       "Name: count, dtype: int64"
      ]
     },
     "execution_count": 1147,
     "metadata": {},
     "output_type": "execute_result"
    }
   ],
   "source": [
    "df[df['Model'].isin(['269C'])].value_counts('Aircraft_Category', dropna=False)"
   ]
  },
  {
   "cell_type": "code",
   "execution_count": 1148,
   "id": "84a74536-0369-4bf5-80dd-cfb4e52fedaf",
   "metadata": {},
   "outputs": [],
   "source": [
    "# Since the 269C model is a helicopter, let's fix all the empty category values for it. This fix will also fill in some category \n",
    "# values for other makes as well since we can see that there are more 269C models than just the Schweizer make.\n",
    "df.loc[df['Model'] == '269C', 'Aircraft_Category'] = 'Helicopter'"
   ]
  },
  {
   "cell_type": "code",
   "execution_count": 1149,
   "id": "1585bd6e-8ff1-492e-9d3c-6abd073daa02",
   "metadata": {},
   "outputs": [
    {
     "data": {
      "text/plain": [
       "Aircraft_Category\n",
       "Airplane    738\n",
       "NaN         135\n",
       "Name: count, dtype: int64"
      ]
     },
     "execution_count": 1149,
     "metadata": {},
     "output_type": "execute_result"
    }
   ],
   "source": [
    "# The same goes for the rest of the models listed\n",
    "df[df['Model'].isin(['G-164B', 'G-164A'])].value_counts('Aircraft_Category', dropna=False)"
   ]
  },
  {
   "cell_type": "code",
   "execution_count": 1150,
   "id": "062589a0-e200-4caa-852d-ba65c098c62d",
   "metadata": {},
   "outputs": [],
   "source": [
    "df.loc[df['Model'].isin(['G-164B', 'G-164A']), 'Aircraft_Category'] = 'Airplane'"
   ]
  },
  {
   "cell_type": "code",
   "execution_count": 1151,
   "id": "1b4cbdf2-6430-465b-a7aa-f4949d51217a",
   "metadata": {},
   "outputs": [
    {
     "data": {
      "text/plain": [
       "Aircraft_Category\n",
       "NaN       44\n",
       "Glider    25\n",
       "Name: count, dtype: int64"
      ]
     },
     "execution_count": 1151,
     "metadata": {},
     "output_type": "execute_result"
    }
   ],
   "source": [
    "df[df['Model'].isin(['SGS 2-33A'])].value_counts('Aircraft_Category', dropna=False)"
   ]
  },
  {
   "cell_type": "code",
   "execution_count": 1152,
   "id": "1eef8c20-2fe8-47ae-9728-da32995feaed",
   "metadata": {},
   "outputs": [],
   "source": [
    "df.loc[df['Model'] == 'SGS 2-33A', 'Aircraft_Category'] = 'Glider'"
   ]
  },
  {
   "cell_type": "code",
   "execution_count": 1153,
   "id": "1ebf4280-acc4-4731-b81b-7e411588cfe5",
   "metadata": {},
   "outputs": [
    {
     "data": {
      "text/plain": [
       "Aircraft_Category\n",
       "Airplane             65032\n",
       "NaN                  14938\n",
       "Helicopter            6716\n",
       "Glider                 549\n",
       "Balloon                231\n",
       "Gyrocraft              173\n",
       "Weight-Shift           161\n",
       "Powered Parachute       91\n",
       "Ultralight              30\n",
       "Unknown                  9\n",
       "WSFT                     9\n",
       "Blimp                    4\n",
       "Powered-Lift             4\n",
       "UNK                      2\n",
       "Rocket                   1\n",
       "ULTR                     1\n",
       "Name: count, dtype: int64"
      ]
     },
     "execution_count": 1153,
     "metadata": {},
     "output_type": "execute_result"
    }
   ],
   "source": [
    "# Let's look at how the category column is shaping up\n",
    "df['Aircraft_Category'].value_counts(dropna=False)"
   ]
  },
  {
   "cell_type": "markdown",
   "id": "d2713470-7b18-4829-98f1-1f60a2200887",
   "metadata": {},
   "source": [
    "We still have about 15,000 empty category records. This can be brought down further using Makes and Models. The category values as we have them now show that airplanes are the overwhelmingly largest percentage of aircraft in the dataset of accidents. But after helicopters, the rest of the categories are tiny by comparison, and they constitute aircraft that would not ordinarily be under consideration for a business interested in getting into the aviation business. I'm not going to just drop those rows right now, but in the analysis phase, I don't anticipate using them."
   ]
  },
  {
   "cell_type": "code",
   "execution_count": 1154,
   "id": "5353548a-f30a-4806-8c4a-bc9813979f4d",
   "metadata": {},
   "outputs": [
    {
     "data": {
      "text/plain": [
       "Model\n",
       "UH-12E          134\n",
       "8A              133\n",
       "S2R             126\n",
       "S-2R            114\n",
       "DHC-2           112\n",
       "               ... \n",
       "PROTECH PT-2      1\n",
       "L-1011-1          1\n",
       "GLASAIR GARG      1\n",
       "C3C               1\n",
       "EMB145            1\n",
       "Name: count, Length: 5545, dtype: int64"
      ]
     },
     "execution_count": 1154,
     "metadata": {},
     "output_type": "execute_result"
    }
   ],
   "source": [
    "df[df['Aircraft_Category'].isna()]['Model'].value_counts()"
   ]
  },
  {
   "cell_type": "code",
   "execution_count": 1155,
   "id": "7c35db8d-98a9-46fe-aaca-5b7f2ae500bc",
   "metadata": {},
   "outputs": [
    {
     "data": {
      "text/plain": [
       "Make\n",
       "Mcdonnell Douglas                 499\n",
       "MCDONNELL DOUGLAS                  78\n",
       "MCDONNELL DOUGLAS HELICOPTER       31\n",
       "MCDONNELL DOUGLAS HELI CO          11\n",
       "MCDONNELL DOUGLAS AIRCRAFT CO       6\n",
       "McDonnell Douglas                   4\n",
       "Mcdonnell-douglas                   2\n",
       "MCDONNELL DOUGLAS CORPORATION       1\n",
       "MCDONNELL-DOUGLAS                   1\n",
       "McDonnell Douglas Helicopter        1\n",
       "McDonnell Douglas Helicopter C      1\n",
       "McDonnell Douglas Helicopters       1\n",
       "Mcdonnell Douglas Helicopter        1\n",
       "Mcdonnell Douglas Helicopters       1\n",
       "Name: count, dtype: int64"
      ]
     },
     "execution_count": 1155,
     "metadata": {},
     "output_type": "execute_result"
    }
   ],
   "source": [
    "# Let's do the Mcdonnell Douglas make, and see about using the models in conjunction\n",
    "df[df['Make'].str.lower().str.startswith('mcdonn')].value_counts('Make')"
   ]
  },
  {
   "cell_type": "code",
   "execution_count": 1156,
   "id": "7eb119c6-ea33-4aa1-ba3c-6d728a158960",
   "metadata": {},
   "outputs": [
    {
     "data": {
      "text/plain": [
       "Aircraft_Category\n",
       "Helicopter    42\n",
       "Name: count, dtype: int64"
      ]
     },
     "execution_count": 1156,
     "metadata": {},
     "output_type": "execute_result"
    }
   ],
   "source": [
    "df[df['Make'].isin(['MCDONNELL DOUGLAS HELICOPTER', 'MCDONNELL DOUGLAS HELI CO'])].value_counts('Aircraft_Category', dropna=False)"
   ]
  },
  {
   "cell_type": "code",
   "execution_count": 1157,
   "id": "35b9bf19-68ed-4a16-945b-5e0319710027",
   "metadata": {},
   "outputs": [
    {
     "data": {
      "text/plain": [
       "Aircraft_Category\n",
       "Helicopter    47\n",
       "Name: count, dtype: int64"
      ]
     },
     "execution_count": 1157,
     "metadata": {},
     "output_type": "execute_result"
    }
   ],
   "source": [
    "# Combine the helicopter variations of the name\n",
    "df.loc[df['Make'].isin(['MCDONNELL DOUGLAS HELICOPTER', 'MCDONNELL DOUGLAS HELI CO', 'McDonnell Douglas Helicopter', 'McDonnell Douglas Helicopter C', 'McDonnell Douglas Helicopters', 'Mcdonnell Douglas Helicopter', 'Mcdonnell Douglas Helicopters']), 'Make'] = 'Mcdonnell Douglas Helicopters'\n",
    "\n",
    "df[df['Make'].isin(['Mcdonnell Douglas Helicopters'])].value_counts('Aircraft_Category', dropna=False)"
   ]
  },
  {
   "cell_type": "code",
   "execution_count": 1158,
   "id": "37df11d6-3c5f-4406-adec-7c1f1230f1f4",
   "metadata": {},
   "outputs": [
    {
     "data": {
      "text/plain": [
       "Make\n",
       "Mcdonnell Douglas                499\n",
       "MCDONNELL DOUGLAS                 78\n",
       "Mcdonnell Douglas Helicopters     47\n",
       "MCDONNELL DOUGLAS AIRCRAFT CO      6\n",
       "McDonnell Douglas                  4\n",
       "Mcdonnell-douglas                  2\n",
       "MCDONNELL DOUGLAS CORPORATION      1\n",
       "MCDONNELL-DOUGLAS                  1\n",
       "Name: count, dtype: int64"
      ]
     },
     "execution_count": 1158,
     "metadata": {},
     "output_type": "execute_result"
    }
   ],
   "source": [
    "df[df['Make'].str.lower().str.startswith('mcdonn')].value_counts('Make')"
   ]
  },
  {
   "cell_type": "code",
   "execution_count": 1159,
   "id": "bccfed79-fb91-4511-841c-9d1af37db19a",
   "metadata": {},
   "outputs": [
    {
     "data": {
      "text/plain": [
       "Aircraft_Category\n",
       "NaN           450\n",
       "Airplane      123\n",
       "Helicopter     18\n",
       "Name: count, dtype: int64"
      ]
     },
     "execution_count": 1159,
     "metadata": {},
     "output_type": "execute_result"
    }
   ],
   "source": [
    "df.loc[df['Make'].isin(['MCDONNELL DOUGLAS', 'MCDONNELL DOUGLAS AIRCRAFT CO', 'McDonnell Douglas', 'Mcdonnell-douglas', 'MCDONNELL DOUGLAS CORPORATION', 'MCDONNELL-DOUGLAS']), 'Make'] = 'Mcdonnell Douglas'\n",
    "\n",
    "df[df['Make'].isin(['Mcdonnell Douglas'])].value_counts('Aircraft_Category', dropna=False)"
   ]
  },
  {
   "cell_type": "code",
   "execution_count": 1160,
   "id": "d6c43b78-a82f-4108-ac74-c1818ed38ba6",
   "metadata": {},
   "outputs": [
    {
     "data": {
      "text/plain": [
       "Aircraft_Category\n",
       "NaN         450\n",
       "Airplane    123\n",
       "Name: count, dtype: int64"
      ]
     },
     "execution_count": 1160,
     "metadata": {},
     "output_type": "execute_result"
    }
   ],
   "source": [
    "# make the 18 Helicopters the Mcdonnell Douglas Helicopters Make\n",
    "df.loc[(df['Make'] == 'Mcdonnell Douglas') & (df['Aircraft_Category'] == 'Helicopter'), 'Make'] = 'Mcdonnell Douglas Helicopters'\n",
    "\n",
    "df[df['Make'].isin(['Mcdonnell Douglas'])].value_counts('Aircraft_Category', dropna=False)"
   ]
  },
  {
   "cell_type": "code",
   "execution_count": 1161,
   "id": "cba976bf-0fdd-4b27-9485-b3d449be47cc",
   "metadata": {},
   "outputs": [
    {
     "data": {
      "text/plain": [
       "Make\n",
       "Mcdonnell Douglas                573\n",
       "Mcdonnell Douglas Helicopters     65\n",
       "Name: count, dtype: int64"
      ]
     },
     "execution_count": 1161,
     "metadata": {},
     "output_type": "execute_result"
    }
   ],
   "source": [
    "df.loc[(df['Make'] == 'Mcdonnell Douglas'), 'Aircraft_Category'] = 'Airplane'\n",
    "\n",
    "df[df['Make'].str.lower().str.startswith('mcdonn')].value_counts('Make')"
   ]
  },
  {
   "cell_type": "code",
   "execution_count": 1162,
   "id": "0fa28e82-55aa-4bbd-8039-21ea18fd45f2",
   "metadata": {},
   "outputs": [
    {
     "data": {
      "text/plain": [
       "Make\n",
       "Maule                     355\n",
       "Champion                  347\n",
       "Aero Commander            317\n",
       "De Havilland              316\n",
       "Schweizer                 299\n",
       "                         ... \n",
       "Lighthizer, Richard E.      1\n",
       "Steven Ulrich               1\n",
       "Tate                        1\n",
       "Arnold Forest               1\n",
       "ROYSE RALPH L               1\n",
       "Name: count, Length: 4024, dtype: int64"
      ]
     },
     "execution_count": 1162,
     "metadata": {},
     "output_type": "execute_result"
    }
   ],
   "source": [
    "df[df['Aircraft_Category'].isna()]['Make'].value_counts()"
   ]
  },
  {
   "cell_type": "code",
   "execution_count": 1163,
   "id": "e35d03e8-8b92-4c6c-9d94-21fd7a68d132",
   "metadata": {},
   "outputs": [
    {
     "data": {
      "text/plain": [
       "Make\n",
       "Maule                  443\n",
       "MAULE                  144\n",
       "MAULE AIRCRAFT CORP      1\n",
       "Maule Air Inc.           1\n",
       "Name: count, dtype: int64"
      ]
     },
     "execution_count": 1163,
     "metadata": {},
     "output_type": "execute_result"
    }
   ],
   "source": [
    "# The Maule make\n",
    "df[df['Make'].str.lower().str.startswith('maul')].value_counts('Make')"
   ]
  },
  {
   "cell_type": "code",
   "execution_count": 1164,
   "id": "c8822a2b-30a4-4ce7-b101-dff2f78b06b7",
   "metadata": {},
   "outputs": [
    {
     "data": {
      "text/plain": [
       "Aircraft_Category\n",
       "NaN         356\n",
       "Airplane    233\n",
       "Name: count, dtype: int64"
      ]
     },
     "execution_count": 1164,
     "metadata": {},
     "output_type": "execute_result"
    }
   ],
   "source": [
    "df.loc[df['Make'].isin(['MAULE', 'MAULE AIRCRAFT CORP', 'Maule Air Inc.']), 'Make'] = 'Maule'\n",
    "\n",
    "df[df['Make'].isin(['Maule'])].value_counts('Aircraft_Category', dropna=False)"
   ]
  },
  {
   "cell_type": "code",
   "execution_count": 1165,
   "id": "5bff7729-9f6c-4221-8e17-28c3feb71de1",
   "metadata": {},
   "outputs": [
    {
     "data": {
      "text/plain": [
       "Make\n",
       "Champion                  347\n",
       "Aero Commander            317\n",
       "De Havilland              316\n",
       "Schweizer                 299\n",
       "Rockwell                  293\n",
       "                         ... \n",
       "Angel Elbert S Jr           1\n",
       "Lighthizer, Richard E.      1\n",
       "Steven Ulrich               1\n",
       "Tate                        1\n",
       "ROYSE RALPH L               1\n",
       "Name: count, Length: 4022, dtype: int64"
      ]
     },
     "execution_count": 1165,
     "metadata": {},
     "output_type": "execute_result"
    }
   ],
   "source": [
    "df.loc[(df['Make'] == 'Maule'), 'Aircraft_Category'] = 'Airplane'\n",
    "\n",
    "df[df['Aircraft_Category'].isna()]['Make'].value_counts()"
   ]
  },
  {
   "cell_type": "code",
   "execution_count": 1166,
   "id": "9a92541d-78e9-48c2-ad79-b6a16570869a",
   "metadata": {},
   "outputs": [
    {
     "data": {
      "text/plain": [
       "Make\n",
       "Champion    426\n",
       "CHAMPION     91\n",
       "Name: count, dtype: int64"
      ]
     },
     "execution_count": 1166,
     "metadata": {},
     "output_type": "execute_result"
    }
   ],
   "source": [
    "# The Champion make\n",
    "df[df['Make'].str.lower().str.startswith('champ')].value_counts('Make')"
   ]
  },
  {
   "cell_type": "code",
   "execution_count": 1167,
   "id": "44664cb7-24c0-407f-8f76-3cfe55699edb",
   "metadata": {},
   "outputs": [
    {
     "data": {
      "text/plain": [
       "Aircraft_Category\n",
       "NaN         347\n",
       "Airplane    170\n",
       "Name: count, dtype: int64"
      ]
     },
     "execution_count": 1167,
     "metadata": {},
     "output_type": "execute_result"
    }
   ],
   "source": [
    "df.loc[df['Make'].isin(['CHAMPION']), 'Make'] = 'Champion'\n",
    "\n",
    "df[df['Make'].isin(['Champion'])].value_counts('Aircraft_Category', dropna=False)"
   ]
  },
  {
   "cell_type": "code",
   "execution_count": 1168,
   "id": "cbb74316-398e-4a68-9512-d09192da072b",
   "metadata": {},
   "outputs": [
    {
     "data": {
      "text/plain": [
       "Make\n",
       "Aero Commander            317\n",
       "De Havilland              316\n",
       "Schweizer                 299\n",
       "Rockwell                  293\n",
       "Stinson                   287\n",
       "                         ... \n",
       "Angel Elbert S Jr           1\n",
       "Lighthizer, Richard E.      1\n",
       "Steven Ulrich               1\n",
       "Tate                        1\n",
       "ROYSE RALPH L               1\n",
       "Name: count, Length: 4021, dtype: int64"
      ]
     },
     "execution_count": 1168,
     "metadata": {},
     "output_type": "execute_result"
    }
   ],
   "source": [
    "df.loc[(df['Make'] == 'Champion'), 'Aircraft_Category'] = 'Airplane'\n",
    "\n",
    "df[df['Aircraft_Category'].isna()]['Make'].value_counts()"
   ]
  },
  {
   "cell_type": "code",
   "execution_count": 1169,
   "id": "03897de4-82c9-4564-a461-2e5760176dfb",
   "metadata": {},
   "outputs": [
    {
     "data": {
      "text/plain": [
       "Make\n",
       "Aero Commander    356\n",
       "AERO COMMANDER     69\n",
       "Aero Comp Inc       1\n",
       "Name: count, dtype: int64"
      ]
     },
     "execution_count": 1169,
     "metadata": {},
     "output_type": "execute_result"
    }
   ],
   "source": [
    "# The Aero Commander make\n",
    "df[df['Make'].str.lower().str.startswith('aero c')].value_counts('Make')"
   ]
  },
  {
   "cell_type": "code",
   "execution_count": 1170,
   "id": "16fb4842-41b3-4e2f-94f0-bad594b92b91",
   "metadata": {},
   "outputs": [
    {
     "data": {
      "text/plain": [
       "Aircraft_Category\n",
       "NaN         318\n",
       "Airplane    107\n",
       "Name: count, dtype: int64"
      ]
     },
     "execution_count": 1170,
     "metadata": {},
     "output_type": "execute_result"
    }
   ],
   "source": [
    "df.loc[df['Make'].isin(['AERO COMMANDER']), 'Make'] = 'Aero Commander'\n",
    "\n",
    "df[df['Make'].isin(['Aero Commander'])].value_counts('Aircraft_Category', dropna=False)"
   ]
  },
  {
   "cell_type": "code",
   "execution_count": 1171,
   "id": "dd1bbf4d-86a3-4600-b08b-ccec80b11561",
   "metadata": {},
   "outputs": [
    {
     "data": {
      "text/plain": [
       "Make\n",
       "De Havilland              316\n",
       "Schweizer                 299\n",
       "Rockwell                  293\n",
       "Stinson                   287\n",
       "Hiller                    282\n",
       "                         ... \n",
       "Angel Elbert S Jr           1\n",
       "Lighthizer, Richard E.      1\n",
       "Steven Ulrich               1\n",
       "Tate                        1\n",
       "ROYSE RALPH L               1\n",
       "Name: count, Length: 4019, dtype: int64"
      ]
     },
     "execution_count": 1171,
     "metadata": {},
     "output_type": "execute_result"
    }
   ],
   "source": [
    "df.loc[(df['Make'] == 'Aero Commander'), 'Aircraft_Category'] = 'Airplane'\n",
    "\n",
    "df[df['Aircraft_Category'].isna()]['Make'].value_counts()"
   ]
  },
  {
   "cell_type": "code",
   "execution_count": 1172,
   "id": "567ce0bc-3ca5-4ac2-a84a-6134dbefeae5",
   "metadata": {},
   "outputs": [
    {
     "data": {
      "text/plain": [
       "Make\n",
       "De Havilland          370\n",
       "DEHAVILLAND            91\n",
       "DE HAVILLAND           31\n",
       "de Havilland            9\n",
       "Dehavilland             8\n",
       "DeHavilland             2\n",
       "DEHAVILLAND CANADA      1\n",
       "Name: count, dtype: int64"
      ]
     },
     "execution_count": 1172,
     "metadata": {},
     "output_type": "execute_result"
    }
   ],
   "source": [
    "# The De Havilland make\n",
    "de_havilland_variations = df[df['Make'].str.lower().str.contains(r'de\\s?havil?land', regex=True)]\n",
    "de_havilland_variations.value_counts('Make')"
   ]
  },
  {
   "cell_type": "code",
   "execution_count": 1173,
   "id": "1d7d199b-d02b-4699-b8a6-acf2444dfdc6",
   "metadata": {},
   "outputs": [
    {
     "data": {
      "text/plain": [
       "Aircraft_Category\n",
       "NaN         328\n",
       "Airplane    184\n",
       "Name: count, dtype: int64"
      ]
     },
     "execution_count": 1173,
     "metadata": {},
     "output_type": "execute_result"
    }
   ],
   "source": [
    "# combine all these variations of De Havilland into one make\n",
    "df.loc[df['Make'].str.lower().str.contains(r'de\\s?havil?land', regex=True), 'Make'] = 'De Havilland'\n",
    "\n",
    "df[df['Make'].isin(['De Havilland'])].value_counts('Aircraft_Category', dropna=False)"
   ]
  },
  {
   "cell_type": "code",
   "execution_count": 1174,
   "id": "da9faa60-e5ae-433e-9581-59855e2efe70",
   "metadata": {},
   "outputs": [
    {
     "data": {
      "text/plain": [
       "Make\n",
       "Schweizer            299\n",
       "Rockwell             293\n",
       "Stinson              287\n",
       "Aerospatiale         282\n",
       "Hiller               282\n",
       "                    ... \n",
       "Cooprider              1\n",
       "Angel Elbert S Jr      1\n",
       "Arnold Forest          1\n",
       "Steven Ulrich          1\n",
       "ROYSE RALPH L          1\n",
       "Name: count, Length: 4016, dtype: int64"
      ]
     },
     "execution_count": 1174,
     "metadata": {},
     "output_type": "execute_result"
    }
   ],
   "source": [
    "df.loc[(df['Make'] == 'De Havilland'), 'Aircraft_Category'] = 'Airplane'\n",
    "\n",
    "df[df['Aircraft_Category'].isna()]['Make'].value_counts()"
   ]
  },
  {
   "cell_type": "code",
   "execution_count": 1175,
   "id": "d38bd5d3-6e97-4590-b7bb-c5ee8d0a258c",
   "metadata": {},
   "outputs": [
    {
     "data": {
      "text/plain": [
       "Model\n",
       "UH-12E         134\n",
       "8A             133\n",
       "S-2R           106\n",
       "415-C           89\n",
       "BC12-D          86\n",
       "              ... \n",
       "160              1\n",
       "CAYUSE           1\n",
       "EAA SPECIAL      1\n",
       "TINY TWO         1\n",
       "EMB145           1\n",
       "Name: count, Length: 5239, dtype: int64"
      ]
     },
     "execution_count": 1175,
     "metadata": {},
     "output_type": "execute_result"
    }
   ],
   "source": [
    "# Let's look at the Models overall for NaN values in Category\n",
    "df[df['Aircraft_Category'].isna()]['Model'].value_counts()"
   ]
  },
  {
   "cell_type": "markdown",
   "id": "9e3a36cb-cd55-418d-a8ab-a0f3766c6e49",
   "metadata": {},
   "source": [
    "Google tells me that a UH-12E is a helicopter, while 8A, S-2R, 415-C, BC12-D are airplanes. And running the function like \"df[df['Model'].isin(['BC12-D'])].value_counts('Aircraft_Category', dropna=False)\" verifies this. So let's correct those category values"
   ]
  },
  {
   "cell_type": "code",
   "execution_count": 1176,
   "id": "03198157-0892-4ebf-86ba-1bdd48cf7925",
   "metadata": {},
   "outputs": [
    {
     "data": {
      "text/plain": [
       "Model\n",
       "108-3              76\n",
       "S2R                74\n",
       "RV-4               72\n",
       "108-2              72\n",
       "KR-2               71\n",
       "                   ..\n",
       "VARIEZE,LONG EZ     1\n",
       "ACRO-SPECIAL        1\n",
       "AVID FLYER \"C\"      1\n",
       "BD-5 B              1\n",
       "EMB145              1\n",
       "Name: count, Length: 5234, dtype: int64"
      ]
     },
     "execution_count": 1176,
     "metadata": {},
     "output_type": "execute_result"
    }
   ],
   "source": [
    "#Edit one model's category value\n",
    "df.loc[df['Model'] == 'UH-12E', 'Aircraft_Category'] = 'Helicopter'\n",
    "\n",
    "#Edit multiple models' category value\n",
    "df.loc[df['Model'].isin(['8A', 'S-2R', '415-C', 'BC12-D']), 'Aircraft_Category'] = 'Airplane'\n",
    "\n",
    "df[df['Aircraft_Category'].isna()]['Model'].value_counts()"
   ]
  },
  {
   "cell_type": "code",
   "execution_count": 1177,
   "id": "a69563a4-b9ae-4683-802b-7a3f376246cc",
   "metadata": {},
   "outputs": [
    {
     "data": {
      "text/plain": [
       "Aircraft_Category\n",
       "NaN         365\n",
       "Airplane    200\n",
       "Name: count, dtype: int64"
      ]
     },
     "execution_count": 1177,
     "metadata": {},
     "output_type": "execute_result"
    }
   ],
   "source": [
    "# Running this function tells me the top 5 are airplanes\n",
    "df[df['Model'].isin(['108-3', 'S2R', 'RV-4', '108-2', 'KR-2'])].value_counts('Aircraft_Category', dropna=False)"
   ]
  },
  {
   "cell_type": "code",
   "execution_count": 1178,
   "id": "1664e560-7135-44a2-9176-ee690325dd98",
   "metadata": {},
   "outputs": [
    {
     "data": {
      "text/plain": [
       "Model\n",
       "108-1              69\n",
       "LA-4-200           64\n",
       "GC-1B              64\n",
       "8E                 55\n",
       "L-13               54\n",
       "                   ..\n",
       "VARIEZE,LONG EZ     1\n",
       "ACRO-SPECIAL        1\n",
       "AVID FLYER \"C\"      1\n",
       "BD-5 B              1\n",
       "EMB145              1\n",
       "Name: count, Length: 5229, dtype: int64"
      ]
     },
     "execution_count": 1178,
     "metadata": {},
     "output_type": "execute_result"
    }
   ],
   "source": [
    "#Edit multiple models' category value\n",
    "df.loc[df['Model'].isin(['108-3', 'S2R', 'RV-4', '108-2', 'KR-2']), 'Aircraft_Category'] = 'Airplane'\n",
    "\n",
    "df[df['Aircraft_Category'].isna()]['Model'].value_counts()"
   ]
  },
  {
   "cell_type": "code",
   "execution_count": 1179,
   "id": "6da09e44-76a0-49e3-81bd-1be252dbf3fc",
   "metadata": {},
   "outputs": [
    {
     "data": {
      "text/plain": [
       "Aircraft_Category\n",
       "NaN         252\n",
       "Airplane     84\n",
       "Name: count, dtype: int64"
      ]
     },
     "execution_count": 1179,
     "metadata": {},
     "output_type": "execute_result"
    }
   ],
   "source": [
    "# the top 4 are all airplanes\n",
    "df[df['Model'].isin(['108-1', 'LA-4-200', 'GC-1B', '8E'])].value_counts('Aircraft_Category', dropna=False)"
   ]
  },
  {
   "cell_type": "code",
   "execution_count": 1180,
   "id": "6005c857-e481-4a5f-a8e4-7887acf97373",
   "metadata": {},
   "outputs": [
    {
     "data": {
      "text/plain": [
       "Model\n",
       "Unknown              54\n",
       "L-13                 54\n",
       "VARIEZE              45\n",
       "A-1                  44\n",
       "F-28C                43\n",
       "                     ..\n",
       "CAYUSE                1\n",
       "415-C AIRCOUPE        1\n",
       "TINY TWO              1\n",
       "FOX III SPEEDSTER     1\n",
       "EMB145                1\n",
       "Name: count, Length: 5225, dtype: int64"
      ]
     },
     "execution_count": 1180,
     "metadata": {},
     "output_type": "execute_result"
    }
   ],
   "source": [
    "#Edit multiple models' category value\n",
    "df.loc[df['Model'].isin(['108-1', 'LA-4-200', 'GC-1B', '8E']), 'Aircraft_Category'] = 'Airplane'\n",
    "\n",
    "df[df['Aircraft_Category'].isna()]['Model'].value_counts()"
   ]
  },
  {
   "cell_type": "code",
   "execution_count": 1181,
   "id": "d73f1f30-82e7-433f-bfb8-75429fb763f7",
   "metadata": {},
   "outputs": [
    {
     "data": {
      "text/plain": [
       "Aircraft_Category\n",
       "NaN           43\n",
       "Helicopter     8\n",
       "Name: count, dtype: int64"
      ]
     },
     "execution_count": 1181,
     "metadata": {},
     "output_type": "execute_result"
    }
   ],
   "source": [
    "df[df['Model'].isin(['F-28C'])].value_counts('Aircraft_Category', dropna=False)"
   ]
  },
  {
   "cell_type": "markdown",
   "id": "7a46c043-a440-4b93-92f1-b68cfd1bca95",
   "metadata": {},
   "source": [
    "glider - L-13; airplane - VARIEZE, A-1; helicopter - F-28C;"
   ]
  },
  {
   "cell_type": "code",
   "execution_count": 1182,
   "id": "bbffdebf-4b10-4093-b196-4ea3affaf8dd",
   "metadata": {},
   "outputs": [
    {
     "data": {
      "text/plain": [
       "Model\n",
       "Unknown            54\n",
       "FH-1100            43\n",
       "108                42\n",
       "AVID FLYER         40\n",
       "RV-6               39\n",
       "                   ..\n",
       "VARIEZE,LONG EZ     1\n",
       "ACRO-SPECIAL        1\n",
       "AVID FLYER \"C\"      1\n",
       "BD-5 B              1\n",
       "EMB145              1\n",
       "Name: count, Length: 5221, dtype: int64"
      ]
     },
     "execution_count": 1182,
     "metadata": {},
     "output_type": "execute_result"
    }
   ],
   "source": [
    "#Edit one model's category value\n",
    "df.loc[df['Model'] == 'L-13', 'Aircraft_Category'] = 'Glider'\n",
    "df.loc[df['Model'] == 'F-28C', 'Aircraft_Category'] = 'Helicopter'\n",
    "\n",
    "#Edit multiple models' category value\n",
    "df.loc[df['Model'].isin(['VARIEZE', 'A-1']), 'Aircraft_Category'] = 'Airplane'\n",
    "\n",
    "df[df['Aircraft_Category'].isna()]['Model'].value_counts()"
   ]
  },
  {
   "cell_type": "code",
   "execution_count": 1183,
   "id": "024d849c-fce2-41d7-8a38-153ecc9a74d5",
   "metadata": {},
   "outputs": [
    {
     "data": {
      "text/plain": [
       "Aircraft_Category\n",
       "NaN           39\n",
       "Airplane      34\n",
       "Helicopter     1\n",
       "Name: count, dtype: int64"
      ]
     },
     "execution_count": 1183,
     "metadata": {},
     "output_type": "execute_result"
    }
   ],
   "source": [
    "df[df['Model'].isin(['RV-6'])].value_counts('Aircraft_Category', dropna=False)"
   ]
  },
  {
   "cell_type": "markdown",
   "id": "816d43d3-a293-4278-a7f5-f4f80fe8fe25",
   "metadata": {},
   "source": [
    "helicopter - FH-1100; airplane - 108, AVID FLYER, RV-6;"
   ]
  },
  {
   "cell_type": "code",
   "execution_count": 1184,
   "id": "f838ddb2-f745-40ef-be2a-d6dc9a03ad12",
   "metadata": {},
   "outputs": [
    {
     "data": {
      "text/plain": [
       "Model\n",
       "Unknown            54\n",
       "BC-12D             39\n",
       "280C               38\n",
       "35A                38\n",
       "S2R-T34            36\n",
       "                   ..\n",
       "VARIEZE,LONG EZ     1\n",
       "ACRO-SPECIAL        1\n",
       "AVID FLYER \"C\"      1\n",
       "BD-5 B              1\n",
       "EMB145              1\n",
       "Name: count, Length: 5217, dtype: int64"
      ]
     },
     "execution_count": 1184,
     "metadata": {},
     "output_type": "execute_result"
    }
   ],
   "source": [
    "#Edit one model's category value\n",
    "df.loc[df['Model'] == 'FH-1100', 'Aircraft_Category'] = 'Helicopter'\n",
    "\n",
    "#Edit multiple models' category value\n",
    "df.loc[df['Model'].isin(['108', 'AVID FLYER', 'RV-6']), 'Aircraft_Category'] = 'Airplane'\n",
    "\n",
    "df[df['Aircraft_Category'].isna()]['Model'].value_counts()"
   ]
  },
  {
   "cell_type": "code",
   "execution_count": 1185,
   "id": "d9bfff9f-b448-4abf-8b57-6ff025977fa6",
   "metadata": {},
   "outputs": [
    {
     "data": {
      "text/plain": [
       "Aircraft_Category\n",
       "NaN         36\n",
       "Airplane    23\n",
       "Name: count, dtype: int64"
      ]
     },
     "execution_count": 1185,
     "metadata": {},
     "output_type": "execute_result"
    }
   ],
   "source": [
    "df[df['Model'].isin(['S2R-T34'])].value_counts('Aircraft_Category', dropna=False)"
   ]
  },
  {
   "cell_type": "markdown",
   "id": "b2c318ac-0bc8-47e6-aaa9-ae1b24949ac2",
   "metadata": {},
   "source": [
    "airplane - BC-12D, 35A, S2R-T34; helicopter - 280C;"
   ]
  },
  {
   "cell_type": "code",
   "execution_count": 1186,
   "id": "c57930c1-1fad-4ac7-9272-fb4d377b0697",
   "metadata": {},
   "outputs": [
    {
     "data": {
      "text/plain": [
       "Model\n",
       "Unknown          54\n",
       "FIREFLY 7        36\n",
       "NAVION           36\n",
       "RV-6A            36\n",
       "F-28A            36\n",
       "M-18A            35\n",
       "UPF-7            35\n",
       "CHALLENGER II    35\n",
       "CL-600-2B19      32\n",
       "DW-1             31\n",
       "AA-1             31\n",
       "SA226TC          30\n",
       "2T-1A-2          30\n",
       "415C             30\n",
       "DC-3             28\n",
       "H-295            28\n",
       "VARI-EZE         27\n",
       "AA-1A            27\n",
       "8F               27\n",
       "SA227-AC         26\n",
       "SKYBOLT          26\n",
       "QUICKIE          26\n",
       "MU-2B-60         25\n",
       "LONG-EZ          25\n",
       "LA-4             24\n",
       "SONERAI II       24\n",
       "S-2B             23\n",
       "KITFOX           23\n",
       "THORP T-18       23\n",
       "SR22             23\n",
       "S-76A            22\n",
       "RC-3             22\n",
       "A                22\n",
       "201B             22\n",
       "BLANIK L-13      21\n",
       "F-28F            21\n",
       "MUSTANG II       21\n",
       "B-2B             21\n",
       "AA-5B            21\n",
       "DC-3C            21\n",
       "S-60A            20\n",
       "Q2               20\n",
       "114              20\n",
       "S-1B2            20\n",
       "SNJ-5            20\n",
       "2150A            20\n",
       "P-51D            20\n",
       "AT-6D            20\n",
       "T-6G             20\n",
       "UH-12C           20\n",
       "Name: count, dtype: int64"
      ]
     },
     "execution_count": 1186,
     "metadata": {},
     "output_type": "execute_result"
    }
   ],
   "source": [
    "#Edit one model's category value\n",
    "df.loc[df['Model'] == '280C', 'Aircraft_Category'] = 'Helicopter'\n",
    "\n",
    "#Edit multiple models' category value\n",
    "df.loc[df['Model'].isin(['BC-12D', '35A', 'S2R-T34']), 'Aircraft_Category'] = 'Airplane'\n",
    "\n",
    "df[df['Aircraft_Category'].isna()]['Model'].value_counts().head(50)"
   ]
  },
  {
   "cell_type": "markdown",
   "id": "1bd40c10-bbaf-47ce-8ea2-ff80a0d1e432",
   "metadata": {},
   "source": [
    "Instead of just a few at a time, we can display the top 50 models with no category value and go from there."
   ]
  },
  {
   "cell_type": "code",
   "execution_count": 1187,
   "id": "f931dbc5-59f2-4f23-ae3e-1373b4c09e04",
   "metadata": {},
   "outputs": [
    {
     "data": {
      "text/plain": [
       "Aircraft_Category\n",
       "NaN           20\n",
       "Helicopter     1\n",
       "Name: count, dtype: int64"
      ]
     },
     "execution_count": 1187,
     "metadata": {},
     "output_type": "execute_result"
    }
   ],
   "source": [
    "df[df['Model'].isin(['UH-12C'])].value_counts('Aircraft_Category', dropna=False)"
   ]
  },
  {
   "cell_type": "code",
   "execution_count": 1188,
   "id": "18353f0c-3d5c-4340-9911-bc9361bf957e",
   "metadata": {},
   "outputs": [
    {
     "data": {
      "text/plain": [
       "Model\n",
       "Unknown              54\n",
       "II                   20\n",
       "MONI                 19\n",
       "DRAGONFLY            19\n",
       "LONG EZ              19\n",
       "STEEN SKYBOLT        19\n",
       "UH-12B               19\n",
       "PZL-M-18             19\n",
       "ST3KR                18\n",
       "ASW-20               18\n",
       "112A                 18\n",
       "QUICKIE Q2           18\n",
       "UH-12D               18\n",
       "TIERRA II            18\n",
       "AS-350D              17\n",
       "S-1S                 17\n",
       "S-1                  17\n",
       "AS350D               17\n",
       "CHRISTEN EAGLE II    17\n",
       "B-8M                 17\n",
       "BD-4                 17\n",
       "SR-22                16\n",
       "Q-2                  16\n",
       "AEROSTAR 600         16\n",
       "NAVION A             16\n",
       "G103                 16\n",
       "T-18                 16\n",
       "RANS S-12            16\n",
       "DC-9-32              16\n",
       "SGS-2-33A            16\n",
       "S2R-600              16\n",
       "PITTS S-2B           16\n",
       "TB-20                16\n",
       "SA315B               16\n",
       "340B                 16\n",
       "SGS 1-26E            15\n",
       "415-D                15\n",
       "AS350BA              15\n",
       "BD-5B                15\n",
       "PITTS S-1S           15\n",
       "112TC                15\n",
       "620B                 15\n",
       "269C-1               15\n",
       "SA-226T              15\n",
       "SA316B               15\n",
       "DC-9-31              15\n",
       "AS350B               15\n",
       "GLASAIR              14\n",
       "IS-28B2              14\n",
       "F-19                 14\n",
       "Name: count, dtype: int64"
      ]
     },
     "execution_count": 1188,
     "metadata": {},
     "output_type": "execute_result"
    }
   ],
   "source": [
    "#Edit one model's category value\n",
    "df.loc[df['Model'] == 'BLANIK L-13', 'Aircraft_Category'] = 'Glider'\n",
    "\n",
    "#Edit multiple models' category value\n",
    "df.loc[df['Model'].isin(['114', '201B', '2150A', '2T-1A-2', '415C', '8F', 'A', 'AA-1', 'AA-1A', 'AA-5B', 'AT-6D', 'CHALLENGER II', 'CL-600-2B19', 'DC-3', 'DC-3C', 'DW-1', 'H-295', 'KITFOX', 'LA-4',\n",
    "                        'LONG-EZ', 'M-18A', 'MU-2B-60', 'MUSTANG II', 'NAVION', 'P-51D', 'Q2', 'QUICKIE', 'RC-3', 'RV-6A', 'S-1B2', 'S-2B', 'SA226TC', 'SA227-AC', 'SKYBOLT', 'SNJ-5', 'SONERAI II',\n",
    "                        'SR22', 'T-6G', 'THORP T-18', 'UPF-7', 'VARI-EZE']), 'Aircraft_Category'] = 'Airplane'\n",
    "\n",
    "df.loc[df['Model'].isin(['B-2B', 'F-28A', 'F-28F', 'S-76A', 'UH-12C']), 'Aircraft_Category'] = 'Helicopter'\n",
    "\n",
    "df.loc[df['Model'].isin(['FIREFLY 7', 'S-60A']), 'Aircraft_Category'] = 'Balloon'\n",
    "\n",
    "df[df['Aircraft_Category'].isna()]['Model'].value_counts().head(50)"
   ]
  },
  {
   "cell_type": "code",
   "execution_count": 1189,
   "id": "279bc6c0-c1ee-4389-8d4e-aef70b9920a5",
   "metadata": {},
   "outputs": [
    {
     "data": {
      "text/plain": [
       "Aircraft_Category\n",
       "NaN         16\n",
       "Airplane     1\n",
       "Name: count, dtype: int64"
      ]
     },
     "execution_count": 1189,
     "metadata": {},
     "output_type": "execute_result"
    }
   ],
   "source": [
    "df[df['Model'].isin(['Q-2'])].value_counts('Aircraft_Category', dropna=False)"
   ]
  },
  {
   "cell_type": "code",
   "execution_count": 1190,
   "id": "85b27cb0-f490-482e-8dbd-c57e9aa6e635",
   "metadata": {},
   "outputs": [
    {
     "data": {
      "text/plain": [
       "Amateur_Built\n",
       "Yes    17\n",
       "Name: count, dtype: int64"
      ]
     },
     "execution_count": 1190,
     "metadata": {},
     "output_type": "execute_result"
    }
   ],
   "source": [
    "df[df['Model'].isin(['Q-2'])].value_counts('Amateur_Built', dropna=False)"
   ]
  },
  {
   "cell_type": "code",
   "execution_count": 1191,
   "id": "33254f29-fdc9-4b94-9953-0be7e0035167",
   "metadata": {},
   "outputs": [
    {
     "data": {
      "text/plain": [
       "Model\n",
       "Unknown           54\n",
       "II                20\n",
       "AEROSTAR 600      16\n",
       "Q-2               16\n",
       "RANS S-12         16\n",
       "T-18              16\n",
       "S2R-600           16\n",
       "SA315B            16\n",
       "DC-9-32           16\n",
       "NAVION A          16\n",
       "SGS-2-33A         16\n",
       "TB-20             16\n",
       "G103              16\n",
       "340B              16\n",
       "PITTS S-2B        16\n",
       "AS350B            15\n",
       "620B              15\n",
       "PITTS S-1S        15\n",
       "SGS 1-26E         15\n",
       "415-D             15\n",
       "SA316B            15\n",
       "BD-5B             15\n",
       "DC-9-31           15\n",
       "AS350BA           15\n",
       "SA-226T           15\n",
       "112TC             15\n",
       "269C-1            15\n",
       "SGS 2-33          14\n",
       "F28C              14\n",
       "ATR-42-300        14\n",
       "GLASAIR           14\n",
       "B8M               14\n",
       "A2                14\n",
       "IS-28B2           14\n",
       "QUICKSILVER MX    14\n",
       "F-19              14\n",
       "RV4               14\n",
       "201C              14\n",
       "25B               14\n",
       "S-2A              13\n",
       "BC12D             13\n",
       "SA-26AT           13\n",
       "SGS 1-34          13\n",
       "L-1011-385-1      13\n",
       "SR20              13\n",
       "KITFOX II         13\n",
       "35                13\n",
       "A-1B              13\n",
       "UH-1H             13\n",
       "BL-65             13\n",
       "Name: count, dtype: int64"
      ]
     },
     "execution_count": 1191,
     "metadata": {},
     "output_type": "execute_result"
    }
   ],
   "source": [
    "#Edit one model's category value\n",
    "df.loc[df['Model'] == 'B-8M', 'Aircraft_Category'] = 'Gyrocraft'\n",
    "df.loc[df['Model'] == 'TIERRA II', 'Aircraft_Category'] = 'Ultralight'\n",
    "\n",
    "#Edit multiple models' category value\n",
    "df.loc[df['Model'].isin(['DRAGONFLY', 'LONG EZ', 'STEEN SKYBOLT', 'PZL-M-18', 'ST3KR', '112A', 'QUICKIE Q2', 'S-1S', 'S-1', 'CHRISTEN EAGLE II', 'BD-4', 'SR-22']), 'Aircraft_Category'] = 'Airplane'\n",
    "\n",
    "df.loc[df['Model'].isin(['UH-12B', 'UH-12D', 'AS-350D', 'AS350D']), 'Aircraft_Category'] = 'Helicopter'\n",
    "\n",
    "df.loc[df['Model'].isin(['MONI', 'ASW-20']), 'Aircraft_Category'] = 'Glider'\n",
    "\n",
    "df[df['Aircraft_Category'].isna()]['Model'].value_counts().head(50)"
   ]
  },
  {
   "cell_type": "markdown",
   "id": "f9619799-0226-4889-acdd-e0759ce7f112",
   "metadata": {},
   "source": []
  },
  {
   "cell_type": "code",
   "execution_count": 1192,
   "id": "f499704a-c9af-4e1b-99bd-dcf752f6c601",
   "metadata": {},
   "outputs": [
    {
     "data": {
      "text/plain": [
       "Make\n",
       "Schweizer         298\n",
       "Aerospatiale      253\n",
       "Douglas           173\n",
       "North American    161\n",
       "Taylorcraft       144\n",
       "Rockwell          141\n",
       "Sikorsky          106\n",
       "Burkhart Grob     100\n",
       "Fairchild          97\n",
       "Lockheed           94\n",
       "Name: count, dtype: int64"
      ]
     },
     "execution_count": 1192,
     "metadata": {},
     "output_type": "execute_result"
    }
   ],
   "source": [
    "df[df['Aircraft_Category'].isna()]['Make'].value_counts().head(10)"
   ]
  },
  {
   "cell_type": "code",
   "execution_count": 1193,
   "id": "3886e9ff-c4e4-4e68-865b-c10dc7203cd2",
   "metadata": {},
   "outputs": [
    {
     "data": {
      "text/plain": [
       "Aircraft_Category\n",
       "NaN           298\n",
       "Helicopter    199\n",
       "Glider        156\n",
       "Airplane      143\n",
       "Name: count, dtype: int64"
      ]
     },
     "execution_count": 1193,
     "metadata": {},
     "output_type": "execute_result"
    }
   ],
   "source": [
    "df[df['Make'].isin(['Schweizer'])].value_counts('Aircraft_Category', dropna=False)"
   ]
  },
  {
   "cell_type": "code",
   "execution_count": 1194,
   "id": "11d98c72-e598-43b4-8b48-6035d8af1355",
   "metadata": {},
   "outputs": [
    {
     "data": {
      "text/plain": [
       "Model\n",
       "SGS-2-33A      16\n",
       "SGS 1-26E      15\n",
       "269C-1         15\n",
       "SGS 2-33       14\n",
       "SGS 1-34       13\n",
       "300C           11\n",
       "269D           10\n",
       "SGS 1-26B       8\n",
       "SGS 2-32        8\n",
       "2-33A           8\n",
       "G164B           7\n",
       "SGS 1-36        6\n",
       "SGS2-33A        6\n",
       "2-33            6\n",
       "SGS-1-35C       5\n",
       "SGS 1-26A       5\n",
       "G-164           4\n",
       "2-32            4\n",
       "SGS 1-26C       4\n",
       "SGS 1-26D       4\n",
       "1-26E           4\n",
       "SGS-1-26B       4\n",
       "SGS 1-35        4\n",
       "SGS-126E        3\n",
       "SGS-2-33        3\n",
       "SGS-233A        3\n",
       "G164A           3\n",
       "SGS-1-35        3\n",
       "SGS 1-26        3\n",
       "G-164-A         3\n",
       "G164            2\n",
       "SGU 2-22E       2\n",
       "SGU-2-22E       2\n",
       "SGS-1-34        2\n",
       "2-33-A          2\n",
       "1-36            2\n",
       "1-35C           2\n",
       "SGU2-22E        2\n",
       "HUGHES 269C     2\n",
       "269B            2\n",
       "G164D           2\n",
       "SGS1-36         2\n",
       "SGS1-34         2\n",
       "G-164D          2\n",
       "G-164C          2\n",
       "G-164B-600      2\n",
       "SGS-1-26E       2\n",
       "T-26E           1\n",
       "SGS-1-26        1\n",
       "SSG 2-33A       1\n",
       "SGS-1-26A       1\n",
       "SGS 2-8         1\n",
       "SGU-22          1\n",
       "SGS 2-33AK      1\n",
       "SGU-2-22K       1\n",
       "SGS1-26D        1\n",
       "SGS-1-30        1\n",
       "SGU 2-22CK      1\n",
       "SGS1-26C        1\n",
       "SGS-126D        1\n",
       "Name: count, dtype: int64"
      ]
     },
     "execution_count": 1194,
     "metadata": {},
     "output_type": "execute_result"
    }
   ],
   "source": [
    "# Look at the Schweizer models again that have empty category values\n",
    "df[df['Make'].isin(['Schweizer']) & df['Aircraft_Category'].isna()].value_counts('Model', dropna=False).head(60)"
   ]
  },
  {
   "cell_type": "code",
   "execution_count": 1195,
   "id": "13f4cc5a-7994-4e1a-bec5-e995f7cf38fa",
   "metadata": {},
   "outputs": [
    {
     "data": {
      "text/plain": [
       "Model\n",
       "-269C             1\n",
       "I-26E             1\n",
       "S2-33A            1\n",
       "SA 2-37A          1\n",
       "SC2-33A           1\n",
       "SGS 1-23          1\n",
       "SGS 1-23G         1\n",
       "SGS 1-23H-15      1\n",
       "SGS 1-26F         1\n",
       "SGS 1-34R         1\n",
       "SGS 1-35C         1\n",
       "SGS 126B          1\n",
       "SGS 126E          1\n",
       "SGS 135           1\n",
       "SGS-1-36          1\n",
       "SGS-2-32          1\n",
       "SGS-2-32A         1\n",
       "SGS-233           1\n",
       "SGS1-26-D         1\n",
       "SGS1-26A          1\n",
       "SGS2-32           1\n",
       "SGS2-33           1\n",
       "SGS233A           1\n",
       "S-2-33A           1\n",
       "I-26D             1\n",
       "1-23              1\n",
       "H-300             1\n",
       "1-24              1\n",
       "1-26              1\n",
       "1-26B             1\n",
       "1-26D             1\n",
       "126-D             1\n",
       "134               1\n",
       "2-22EK            1\n",
       "233A              1\n",
       "269               1\n",
       "269-C             1\n",
       "269-C1            1\n",
       "333               1\n",
       "AG CAT            1\n",
       "FGS-233           1\n",
       "G-164-B           1\n",
       "G-164A-450        1\n",
       "G164-B            1\n",
       "G164A \"450\"       1\n",
       "G167B             1\n",
       "GRUMMAN G-164A    1\n",
       "GRUMMAN G-164B    1\n",
       "TG3A              1\n",
       "Name: count, dtype: int64"
      ]
     },
     "execution_count": 1195,
     "metadata": {},
     "output_type": "execute_result"
    }
   ],
   "source": [
    "#Edit multiple models' category value\n",
    "df.loc[df['Model'].isin(['1-26E', '1-35C', '1-36', '2-32', '2-33', '2-33-A', '2-33A', 'SGS 1-26', 'SGS 1-26A', 'SGS 1-26B', 'SGS 1-26C', 'SGS 1-26D', 'SGS 1-26E', 'SGS 1-34', 'SGS 1-35', 'SGS 1-36',\n",
    "                        'SGS 2-32', 'SGS 2-33', 'SGS 2-33AK', 'SGS 2-8', 'SGS-1-26', 'SGS-1-26A', 'SGS-1-26B', 'SGS-1-26E', 'SGS-1-30', 'SGS-1-34', 'SGS-1-35', 'SGS-1-35C', 'SGS-126D', 'SGS-126E',\n",
    "                        'SGS-2-33', 'SGS-2-33A', 'SGS-233A', 'SGS1-26C', 'SGS1-26D', 'SGS1-34', 'SGS1-36', 'SGS2-33A', 'SGU 2-22CK', 'SGU 2-22E', 'SGU-2-22E', 'SGU-2-22K', 'SGU-22', 'SGU2-22E',\n",
    "                        'SSG 2-33A', 'T-26E']), 'Aircraft_Category'] = 'Glider'\n",
    "\n",
    "df.loc[df['Model'].isin(['269B', '269C-1', '269D', '300C', 'HUGHES 269C']), 'Aircraft_Category'] = 'Helicopter'\n",
    "\n",
    "df.loc[df['Model'].isin(['G-164', 'G-164-A', 'G-164B-600', 'G-164C', 'G-164D', 'G164', 'G164A', 'G164B', 'G164D']), 'Aircraft_Category'] = 'Airplane'\n",
    "\n",
    "df[df['Make'].isin(['Schweizer']) & df['Aircraft_Category'].isna()].value_counts('Model', dropna=False).head(60)"
   ]
  },
  {
   "cell_type": "code",
   "execution_count": 1196,
   "id": "c8b0e157-e07e-4182-a98d-c44f312c354c",
   "metadata": {},
   "outputs": [
    {
     "data": {
      "text/plain": [
       "Aircraft_Category\n",
       "Glider        372\n",
       "Helicopter    245\n",
       "Airplane      179\n",
       "Name: count, dtype: int64"
      ]
     },
     "execution_count": 1196,
     "metadata": {},
     "output_type": "execute_result"
    }
   ],
   "source": [
    "#Edit multiple models' category value\n",
    "df.loc[df['Model'].isin(['134', '1-23', '1-24', '1-26', '1-26B', '1-26D', '126-D', '2-22EK', '233A', 'FGS-233', 'I-26D', 'I-26E', 'S-2-33A', 'S2-33A', 'SC2-33A', 'SGS 1-23', 'SGS 1-23G', 'SGS 1-23H-15',\n",
    "                        'SGS 1-26F', 'SGS 1-34R', 'SGS 1-35C', 'SGS 126B', 'SGS 126E', 'SGS 135', 'SGS-1-36', 'SGS-2-32', 'SGS-2-32A', 'SGS-233', 'SGS1-26-D', 'SGS1-26A', 'SGS2-32', 'SGS2-33',\n",
    "                        'SGS233A', 'TG3A']), 'Aircraft_Category'] = 'Glider'\n",
    "\n",
    "df.loc[df['Model'].isin(['269', '333', '-269C', '269-C', '269-C1', 'H-300']), 'Aircraft_Category'] = 'Helicopter'\n",
    "\n",
    "df.loc[df['Model'].isin(['SA 2-37A', 'AG CAT', 'G-164-B', 'G-164A-450', 'G164-B', 'G164A \\\"450\\\"', 'G167B', 'GRUMMAN G-164A', 'GRUMMAN G-164B']), 'Aircraft_Category'] = 'Airplane'\n",
    "\n",
    "df[df['Make'].isin(['Schweizer'])].value_counts('Aircraft_Category', dropna=False)"
   ]
  },
  {
   "cell_type": "code",
   "execution_count": 1197,
   "id": "6ee8d8ba-0b85-41f0-a4cd-85b6acf60218",
   "metadata": {},
   "outputs": [
    {
     "data": {
      "text/plain": [
       "Make\n",
       "Aerospatiale      253\n",
       "Douglas           173\n",
       "North American    161\n",
       "Taylorcraft       144\n",
       "Rockwell          141\n",
       "Sikorsky          106\n",
       "Burkhart Grob     100\n",
       "Fairchild          97\n",
       "Lockheed           94\n",
       "Ayres              87\n",
       "Name: count, dtype: int64"
      ]
     },
     "execution_count": 1197,
     "metadata": {},
     "output_type": "execute_result"
    }
   ],
   "source": [
    "df[df['Aircraft_Category'].isna()]['Make'].value_counts().head(10)"
   ]
  },
  {
   "cell_type": "code",
   "execution_count": 1198,
   "id": "6fbd26b1-23c5-48ee-bd0c-fddbd8c7c836",
   "metadata": {},
   "outputs": [
    {
     "data": {
      "text/plain": [
       "Model\n",
       "SA315B             16\n",
       "AS350B             14\n",
       "SA316B             14\n",
       "ATR-42-300         12\n",
       "AS-350B            10\n",
       "AS350BA             9\n",
       "ATR-72-212          8\n",
       "SA-315B             8\n",
       "TB-20               6\n",
       "AS-355F-1           6\n",
       "AS-355-F1           5\n",
       "SA341G              5\n",
       "SA-341G             5\n",
       "AS-350BA            4\n",
       "316B                3\n",
       "AS-350-B            3\n",
       "AS-355F             3\n",
       "AS-350              3\n",
       "AS-355-F            3\n",
       "ATR-42-320          3\n",
       "SA 315B             3\n",
       "SA-360C             3\n",
       "SA319B              3\n",
       "TB-21               3\n",
       "ATR-42              2\n",
       "ATR 42-300          2\n",
       "AS35OD              2\n",
       "AS355F              2\n",
       "SA-315              2\n",
       "SA-319B             2\n",
       "SA315B LAMA         2\n",
       "AS-355E             2\n",
       "ATR-72              2\n",
       "AS355F1             2\n",
       "AS-350-B2           2\n",
       "AS 355F1            2\n",
       "AS-355              2\n",
       "350D                2\n",
       "AS-350-BA           2\n",
       "AS 355F             2\n",
       "ALOUETTE 3          1\n",
       "SA315-D LAMA        1\n",
       "SA-365-N2           1\n",
       "AS 315B             1\n",
       "AS 350 ASTAR        1\n",
       "AS-355-F2           1\n",
       "SA-330J             1\n",
       "A-300B4             1\n",
       "SA-316B             1\n",
       "SA-316 ALOUETTE     1\n",
       "AS 350B-2           1\n",
       "SA-315-B            1\n",
       "AS 350D             1\n",
       "SA 360C             1\n",
       "AS 350B             1\n",
       "355                 1\n",
       "AS 355 F            1\n",
       "SA318C              1\n",
       "TB20                1\n",
       "350 B1              1\n",
       "Name: count, dtype: int64"
      ]
     },
     "execution_count": 1198,
     "metadata": {},
     "output_type": "execute_result"
    }
   ],
   "source": [
    "df[df['Make'].isin(['Aerospatiale']) & df['Aircraft_Category'].isna()].value_counts('Model', dropna=False).head(60)"
   ]
  },
  {
   "cell_type": "code",
   "execution_count": 1199,
   "id": "54c3412d-f83a-454f-b077-8b375d790937",
   "metadata": {},
   "outputs": [
    {
     "data": {
      "text/plain": [
       "Aircraft_Category\n",
       "NaN           253\n",
       "Helicopter     79\n",
       "Airplane        2\n",
       "Name: count, dtype: int64"
      ]
     },
     "execution_count": 1199,
     "metadata": {},
     "output_type": "execute_result"
    }
   ],
   "source": [
    "df[df['Make'].isin(['Aerospatiale'])].value_counts('Aircraft_Category', dropna=False)"
   ]
  },
  {
   "cell_type": "markdown",
   "id": "eb766310-b6fb-47d6-a720-23f5fe7c4e41",
   "metadata": {},
   "source": [
    "I see only 2 airplanes listed for Aerospatiale. So which models are those?"
   ]
  },
  {
   "cell_type": "code",
   "execution_count": 1200,
   "id": "26971849-e752-4e1e-bd91-1889091b0dfc",
   "metadata": {},
   "outputs": [
    {
     "data": {
      "text/plain": [
       "Model\n",
       "ATR 42-320    1\n",
       "ATR-42-300    1\n",
       "Name: count, dtype: int64"
      ]
     },
     "execution_count": 1200,
     "metadata": {},
     "output_type": "execute_result"
    }
   ],
   "source": [
    "df[df['Make'].isin(['Aerospatiale']) & df['Aircraft_Category'].isin(['Airplane'])].value_counts('Model', dropna=False)"
   ]
  },
  {
   "cell_type": "markdown",
   "id": "9d19249c-83fb-45d8-962f-246e33b5750c",
   "metadata": {},
   "source": [
    "So this tells me that models beginning with 'ATR' would be airplanes"
   ]
  },
  {
   "cell_type": "code",
   "execution_count": 1201,
   "id": "4338a0aa-de57-4a90-bad2-678678411b21",
   "metadata": {},
   "outputs": [
    {
     "data": {
      "text/plain": [
       "Model\n",
       "AS-350D       17\n",
       "AS350D        15\n",
       "AS350          6\n",
       "SA316B         4\n",
       "SA315B         4\n",
       "AS350BA        3\n",
       "AS-355F        2\n",
       "AS350-B2       2\n",
       "SA-316B        2\n",
       "SA-315B        2\n",
       "SA 315B        2\n",
       "AS-350-BA      1\n",
       "SA 315 B       1\n",
       "350B1          1\n",
       "SA-360C        1\n",
       "SA-341G        1\n",
       "SA-319B        1\n",
       "SA-318C        1\n",
       "SA 316B        1\n",
       "AS355F1        1\n",
       "S350D          1\n",
       "AS 365 N-2     1\n",
       "AS355          1\n",
       "350D           1\n",
       "341G           1\n",
       "AS350B2        1\n",
       "AS350B         1\n",
       "AS350-D        1\n",
       "AS 355F2       1\n",
       "AS-355-F2      1\n",
       "315B           1\n",
       "Name: count, dtype: int64"
      ]
     },
     "execution_count": 1201,
     "metadata": {},
     "output_type": "execute_result"
    }
   ],
   "source": [
    "df[df['Make'].isin(['Aerospatiale']) & df['Aircraft_Category'].isin(['Helicopter'])].value_counts('Model', dropna=False)"
   ]
  },
  {
   "cell_type": "markdown",
   "id": "2106fa08-741c-41a2-b5f2-55bcbaa69b79",
   "metadata": {},
   "source": [
    "And helicopter models begin with 'AS-' and 'SA-'"
   ]
  },
  {
   "cell_type": "code",
   "execution_count": 1202,
   "id": "5d7a0475-eaa6-4a62-9697-d19b63055019",
   "metadata": {},
   "outputs": [
    {
     "data": {
      "text/plain": [
       "Model\n",
       "316B ALOUETTE III       1\n",
       "AS365N                  1\n",
       "ATR 72-212              1\n",
       "ATR-42-500              1\n",
       "ATR-72-12               1\n",
       "ATR42-300               1\n",
       "ATR72-212               1\n",
       "CONCORDE VERSION 101    1\n",
       "Concorde                1\n",
       "ND-26                   1\n",
       "SA 315                  1\n",
       "SA 316B                 1\n",
       "SA319B Alouette III     1\n",
       "SA330J                  1\n",
       "SA360C DAUPHIN          1\n",
       "SA365-N1                1\n",
       "SA365N                  1\n",
       "SE 3180                 1\n",
       "SE 318C                 1\n",
       "SE316B                  1\n",
       "SF3130                  1\n",
       "SN-601                  1\n",
       "TB-10                   1\n",
       "ATR 42-320              1\n",
       "AS355F2                 1\n",
       "350-B                   1\n",
       "AS355F-1                1\n",
       "350B                    1\n",
       "AS 355 F ECUREUIL       1\n",
       "AS 355F-1               1\n",
       "AS-332L                 1\n",
       "AS-341G                 1\n",
       "AS-350-B3               1\n",
       "AS-350B1                1\n",
       "AS-350B2                1\n",
       "AS-350BII               1\n",
       "AS-355F1                1\n",
       "AS-365-N2               1\n",
       "AS315B                  1\n",
       "AS332                   1\n",
       "AS350                   1\n",
       "AS350 BA                1\n",
       "AS350-B                 1\n",
       "AS350-B3                1\n",
       "AS350-BH                1\n",
       "AS350-D                 1\n",
       "AS350B3                 1\n",
       "AS350D ASTAR            1\n",
       "TB21                    1\n",
       "Name: count, dtype: int64"
      ]
     },
     "execution_count": 1202,
     "metadata": {},
     "output_type": "execute_result"
    }
   ],
   "source": [
    "#Edit multiple models' category value\n",
    "df.loc[df['Model'].isin(['355', '316B', '350 B1', '350D', 'A-300B4', 'ALOUETTE 3', 'AS 315B', 'AS 350 ASTAR', 'AS 350B', 'AS 350B-2', 'AS 350D', 'AS 355 F', 'AS 355F', 'AS 355F1', 'AS-350', 'AS-350-B',\n",
    "                        'AS-350-B2', 'AS-350-BA', 'AS-350B', 'AS-350BA', 'AS-355', 'AS-355-F', 'AS-355-F1', 'AS-355-F2', 'AS-355E', 'AS-355F', 'AS-355F-1', 'AS350B', 'AS350BA', 'AS355F', 'AS355F1',\n",
    "                        'AS35OD', 'SA 315B', 'SA 360C', 'SA-315', 'SA-315-B', 'SA-315B', 'SA-316 ALOUETTE', 'SA-316B', 'SA-319B', 'SA-330J', 'SA-341G', 'SA-360C', 'SA-365-N2', 'SA315-D LAMA', 'SA315B',\n",
    "                        'SA315B LAMA', 'SA316B', 'SA318C', 'SA319B', 'SA341G']), 'Aircraft_Category'] = 'Helicopter'\n",
    "\n",
    "df.loc[df['Model'].isin(['ATR 42-300', 'ATR-42', 'ATR-42-300', 'ATR-42-320', 'ATR-72', 'ATR-72-212', 'TB-20', 'TB-21', 'TB20']), 'Aircraft_Category'] = 'Airplane'\n",
    "\n",
    "df[df['Make'].isin(['Aerospatiale']) & df['Aircraft_Category'].isna()].value_counts('Model', dropna=False).head(60)"
   ]
  },
  {
   "cell_type": "code",
   "execution_count": 1203,
   "id": "b85cf0c8-a560-4515-b930-9d63bf0c9956",
   "metadata": {},
   "outputs": [
    {
     "data": {
      "text/plain": [
       "Series([], Name: count, dtype: int64)"
      ]
     },
     "execution_count": 1203,
     "metadata": {},
     "output_type": "execute_result"
    }
   ],
   "source": [
    "#Edit multiple models' category value\n",
    "df.loc[df['Model'].isin(['316B ALOUETTE III', '350-B', '350B', 'AS 355 F ECUREUIL', 'AS 355F-1', 'AS-332L', 'AS-341G', 'AS-350-B3', 'AS-350B1', 'AS-350B2', 'AS-350BII', 'AS-355F1', 'AS-365-N2', 'AS315B',\n",
    "                        'AS332', 'AS350', 'AS350 BA', 'AS350-B', 'AS350-B3', 'AS350-BH', 'AS350-D', 'AS350B3', 'AS350D ASTAR', 'AS355F-1', 'AS355F2', 'AS365N', 'SA 315', 'SA 316B', 'SA319B Alouette III',\n",
    "                        'SA330J', 'SA360C DAUPHIN', 'SA365-N1', 'SA365N', 'SE 3180', 'SE 318C', 'SE316B', 'SF3130']), 'Aircraft_Category'] = 'Helicopter'\n",
    "\n",
    "df.loc[df['Model'].isin(['ATR 42-320', 'ATR 72-212', 'ATR-42-500', 'ATR-72-12', 'ATR42-300', 'ATR72-212', 'SN-601', 'TB-10', 'TB21', 'CONCORDE VERSION 101', 'Concorde', 'ND-26']), 'Aircraft_Category'] = 'Airplane'\n",
    "\n",
    "df[df['Make'].isin(['Aerospatiale']) & df['Aircraft_Category'].isna()].value_counts('Model', dropna=False).head(60)"
   ]
  },
  {
   "cell_type": "code",
   "execution_count": 1204,
   "id": "8ee94415-da80-4fc5-b259-d759763450de",
   "metadata": {},
   "outputs": [
    {
     "data": {
      "text/plain": [
       "Make\n",
       "Douglas           173\n",
       "North American    161\n",
       "Taylorcraft       144\n",
       "Rockwell          141\n",
       "Sikorsky          106\n",
       "Burkhart Grob     100\n",
       "Fairchild          97\n",
       "Lockheed           94\n",
       "Balloon Works      87\n",
       "Ayres              87\n",
       "Name: count, dtype: int64"
      ]
     },
     "execution_count": 1204,
     "metadata": {},
     "output_type": "execute_result"
    }
   ],
   "source": [
    "df[df['Aircraft_Category'].isna()]['Make'].value_counts().head(10)"
   ]
  },
  {
   "cell_type": "code",
   "execution_count": 1205,
   "id": "8bd1ffce-388f-458e-9611-013a68238715",
   "metadata": {},
   "outputs": [
    {
     "data": {
      "text/plain": [
       "Make\n",
       "Douglas                250\n",
       "DOUGLAS                 26\n",
       "DOUGLAS BRIAN G          1\n",
       "DOUGLAS K THOMPSON       1\n",
       "Douglas A. Pohl          1\n",
       "Douglas C. Campbell      1\n",
       "Douglas D. Turner        1\n",
       "Douglas Maselink         1\n",
       "Douglas Swanningson      1\n",
       "Douglas/basler           1\n",
       "Name: count, dtype: int64"
      ]
     },
     "execution_count": 1205,
     "metadata": {},
     "output_type": "execute_result"
    }
   ],
   "source": [
    "df[df['Make'].str.lower().str.startswith('dougl')].value_counts('Make')"
   ]
  },
  {
   "cell_type": "code",
   "execution_count": 1206,
   "id": "bf403605-23f9-4eea-b4eb-3dba1d372e07",
   "metadata": {},
   "outputs": [],
   "source": [
    "df.loc[df['Make'].isin(['Douglas', 'DOUGLAS']), 'Make'] = 'Douglas'"
   ]
  },
  {
   "cell_type": "code",
   "execution_count": 1207,
   "id": "f70f9503-ecda-472b-9876-4f9777a5f7be",
   "metadata": {},
   "outputs": [
    {
     "data": {
      "text/plain": [
       "Aircraft_Category\n",
       "NaN         174\n",
       "Airplane    102\n",
       "Name: count, dtype: int64"
      ]
     },
     "execution_count": 1207,
     "metadata": {},
     "output_type": "execute_result"
    }
   ],
   "source": [
    "df[df['Make'] == 'Douglas'].value_counts('Aircraft_Category', dropna=False)"
   ]
  },
  {
   "cell_type": "code",
   "execution_count": 1208,
   "id": "b95ae3b4-df5a-4e8d-85ee-65fb88bcd1af",
   "metadata": {},
   "outputs": [],
   "source": [
    "df.loc[df['Make'] == 'Douglas', 'Aircraft_Category'] = 'Airplane'"
   ]
  },
  {
   "cell_type": "code",
   "execution_count": 1209,
   "id": "e5d00233-3f17-419c-956e-c04985cb7307",
   "metadata": {},
   "outputs": [
    {
     "data": {
      "text/plain": [
       "Make\n",
       "North American    161\n",
       "Taylorcraft       144\n",
       "Rockwell          141\n",
       "Sikorsky          106\n",
       "Burkhart Grob     100\n",
       "Fairchild          97\n",
       "Lockheed           94\n",
       "Balloon Works      87\n",
       "Ayres              87\n",
       "Swearingen         86\n",
       "Name: count, dtype: int64"
      ]
     },
     "execution_count": 1209,
     "metadata": {},
     "output_type": "execute_result"
    }
   ],
   "source": [
    "df[df['Aircraft_Category'].isna()]['Make'].value_counts().head(10)"
   ]
  },
  {
   "cell_type": "code",
   "execution_count": 1210,
   "id": "2c153b1e-aa28-447c-bcc8-df5ba7ea189a",
   "metadata": {},
   "outputs": [
    {
     "data": {
      "text/plain": [
       "Make\n",
       "North American                    294\n",
       "NORTH AMERICAN                     79\n",
       "North American Rockwell Corp.       5\n",
       "NORTH AMERICAN/AERO CLASSICS        3\n",
       "North American Aviation Div.        2\n",
       "NORTH AMERICAN-MEDORE               1\n",
       "NORTH AMERICAN/SCHWAMM              1\n",
       "NORTH AMERICAN/VICTORIA MNT LT      1\n",
       "North American Rockwell             1\n",
       "North American-aero Classics        1\n",
       "North American-barene               1\n",
       "North American-kenney               1\n",
       "North American-maslon               1\n",
       "North American/aero Classics        1\n",
       "Name: count, dtype: int64"
      ]
     },
     "execution_count": 1210,
     "metadata": {},
     "output_type": "execute_result"
    }
   ],
   "source": [
    "df[df['Make'].str.lower().str.startswith('north a')].value_counts('Make')"
   ]
  },
  {
   "cell_type": "code",
   "execution_count": 1211,
   "id": "2a1d978d-38df-4567-a8fb-7b055c308d5f",
   "metadata": {},
   "outputs": [
    {
     "data": {
      "text/plain": [
       "Aircraft_Category\n",
       "Airplane    212\n",
       "NaN         161\n",
       "Name: count, dtype: int64"
      ]
     },
     "execution_count": 1211,
     "metadata": {},
     "output_type": "execute_result"
    }
   ],
   "source": [
    "df.loc[df['Make'].isin(['NORTH AMERICAN']), 'Make'] = 'North American'\n",
    "\n",
    "df[df['Make'] == 'North American'].value_counts('Aircraft_Category', dropna=False)"
   ]
  },
  {
   "cell_type": "code",
   "execution_count": 1212,
   "id": "3428e9dc-b086-404c-80f2-c08fc3c62b96",
   "metadata": {},
   "outputs": [],
   "source": [
    "df.loc[df['Make'] == 'North American', 'Aircraft_Category'] = 'Airplane'"
   ]
  },
  {
   "cell_type": "code",
   "execution_count": 1213,
   "id": "e6b9083a-7cc3-4c2d-8dcf-dfdad277388a",
   "metadata": {},
   "outputs": [
    {
     "data": {
      "text/plain": [
       "Make\n",
       "Taylorcraft                   316\n",
       "TAYLORCRAFT                    62\n",
       "TAYLORCRAFT AVIATION CORP       5\n",
       "TAYLORCRAFT AVIATION CORP.      3\n",
       "TAYLORCRAFT CORP                1\n",
       "Taylorcraft Aviation            1\n",
       "Taylorcraft Corporation         1\n",
       "Name: count, dtype: int64"
      ]
     },
     "execution_count": 1213,
     "metadata": {},
     "output_type": "execute_result"
    }
   ],
   "source": [
    "df[df['Make'].str.lower().str.startswith('taylorc')].value_counts('Make')"
   ]
  },
  {
   "cell_type": "code",
   "execution_count": 1214,
   "id": "6762e7da-99b9-425c-9ed6-42a749c9155e",
   "metadata": {},
   "outputs": [
    {
     "data": {
      "text/plain": [
       "Aircraft_Category\n",
       "Airplane    244\n",
       "NaN         145\n",
       "Name: count, dtype: int64"
      ]
     },
     "execution_count": 1214,
     "metadata": {},
     "output_type": "execute_result"
    }
   ],
   "source": [
    "df.loc[df['Make'].isin(['TAYLORCRAFT', 'TAYLORCRAFT AVIATION CORP', 'TAYLORCRAFT AVIATION CORP.', 'TAYLORCRAFT CORP', 'Taylorcraft Aviation', 'Taylorcraft Corporation']), 'Make'] = 'Taylorcraft'\n",
    "\n",
    "df[df['Make'] == 'Taylorcraft'].value_counts('Aircraft_Category', dropna=False)"
   ]
  },
  {
   "cell_type": "code",
   "execution_count": 1215,
   "id": "d60230d0-5ffd-4183-9b47-99c1547719df",
   "metadata": {},
   "outputs": [
    {
     "data": {
      "text/plain": [
       "Make\n",
       "Rockwell         141\n",
       "Sikorsky         106\n",
       "Burkhart Grob    100\n",
       "Fairchild         97\n",
       "Lockheed          94\n",
       "Ayres             87\n",
       "Balloon Works     87\n",
       "Swearingen        86\n",
       "Mitsubishi        84\n",
       "Hiller            82\n",
       "Name: count, dtype: int64"
      ]
     },
     "execution_count": 1215,
     "metadata": {},
     "output_type": "execute_result"
    }
   ],
   "source": [
    "df.loc[df['Make'] == 'Taylorcraft', 'Aircraft_Category'] = 'Airplane'\n",
    "\n",
    "df[df['Aircraft_Category'].isna()]['Make'].value_counts().head(10)"
   ]
  },
  {
   "cell_type": "code",
   "execution_count": 1216,
   "id": "afcc3f0c-74b2-4cf8-ad06-b2f5b6e17cf8",
   "metadata": {},
   "outputs": [
    {
     "data": {
      "text/plain": [
       "Make\n",
       "Rockwell                  328\n",
       "ROCKWELL INTERNATIONAL     53\n",
       "ROCKWELL                   24\n",
       "Rockwell International     22\n",
       "Rockwell Commander          3\n",
       "Rockwell Intl               2\n",
       "Rockwell Intl.              2\n",
       "ROCKWELL COMMANDER          1\n",
       "Rockwell Comdr              1\n",
       "Rockwell Int't              1\n",
       "Name: count, dtype: int64"
      ]
     },
     "execution_count": 1216,
     "metadata": {},
     "output_type": "execute_result"
    }
   ],
   "source": [
    "df[df['Make'].str.lower().str.startswith('rockw')].value_counts('Make')"
   ]
  },
  {
   "cell_type": "code",
   "execution_count": 1217,
   "id": "1bb1021c-9195-4b49-8863-443a64304aca",
   "metadata": {},
   "outputs": [
    {
     "data": {
      "text/plain": [
       "Aircraft_Category\n",
       "Airplane    284\n",
       "NaN         148\n",
       "Name: count, dtype: int64"
      ]
     },
     "execution_count": 1217,
     "metadata": {},
     "output_type": "execute_result"
    }
   ],
   "source": [
    "df.loc[df['Make'].isin(['ROCKWELL', 'ROCKWELL INTERNATIONAL', 'Rockwell International', 'Rockwell Intl', 'Rockwell Intl.', 'Rockwell Int\\'t']), 'Make'] = 'Rockwell'\n",
    "\n",
    "df[df['Make'] == 'Rockwell'].value_counts('Aircraft_Category', dropna=False)"
   ]
  },
  {
   "cell_type": "code",
   "execution_count": 1218,
   "id": "8769fb64-53b5-4d97-8266-1ca27a09944d",
   "metadata": {},
   "outputs": [
    {
     "data": {
      "text/plain": [
       "Make\n",
       "Sikorsky             106\n",
       "Burkhart Grob        100\n",
       "Fairchild             97\n",
       "Lockheed              94\n",
       "Balloon Works         87\n",
       "Ayres                 87\n",
       "Swearingen            86\n",
       "Mitsubishi            84\n",
       "Hiller                82\n",
       "British Aerospace     79\n",
       "Name: count, dtype: int64"
      ]
     },
     "execution_count": 1218,
     "metadata": {},
     "output_type": "execute_result"
    }
   ],
   "source": [
    "df.loc[df['Make'] == 'Rockwell', 'Aircraft_Category'] = 'Airplane'\n",
    "\n",
    "df[df['Aircraft_Category'].isna()]['Make'].value_counts().head(10)"
   ]
  },
  {
   "cell_type": "code",
   "execution_count": 1219,
   "id": "03a29cdb-f0ff-424c-8833-f174a40de54f",
   "metadata": {},
   "outputs": [
    {
     "data": {
      "text/plain": [
       "Make\n",
       "Sikorsky                         153\n",
       "SIKORSKY                          76\n",
       "SIKORSKY AIRCRAFT CORP             1\n",
       "SIKORSKY AIRCRAFT CORPORATION      1\n",
       "Sikorsky/orlando                   1\n",
       "Name: count, dtype: int64"
      ]
     },
     "execution_count": 1219,
     "metadata": {},
     "output_type": "execute_result"
    }
   ],
   "source": [
    "df[df['Make'].str.lower().str.startswith('sikor')].value_counts('Make')"
   ]
  },
  {
   "cell_type": "code",
   "execution_count": 1220,
   "id": "7c66a1a0-2e49-4bb4-8644-1340a3eb69a3",
   "metadata": {},
   "outputs": [
    {
     "data": {
      "text/plain": [
       "Aircraft_Category\n",
       "Helicopter    118\n",
       "NaN           113\n",
       "Name: count, dtype: int64"
      ]
     },
     "execution_count": 1220,
     "metadata": {},
     "output_type": "execute_result"
    }
   ],
   "source": [
    "df.loc[df['Make'].isin(['SIKORSKY', 'SIKORSKY AIRCRAFT CORP', 'SIKORSKY AIRCRAFT CORPORATION']), 'Make'] = 'Sikorsky'\n",
    "\n",
    "df[df['Make'] == 'Sikorsky'].value_counts('Aircraft_Category', dropna=False)"
   ]
  },
  {
   "cell_type": "code",
   "execution_count": 1221,
   "id": "5521ea0f-bc03-4e98-b7b1-ba3a3ae509fb",
   "metadata": {},
   "outputs": [
    {
     "data": {
      "text/plain": [
       "Make\n",
       "Burkhart Grob        100\n",
       "Fairchild             97\n",
       "Lockheed              94\n",
       "Balloon Works         87\n",
       "Ayres                 87\n",
       "Swearingen            86\n",
       "Mitsubishi            84\n",
       "Hiller                82\n",
       "British Aerospace     79\n",
       "Embraer               75\n",
       "Name: count, dtype: int64"
      ]
     },
     "execution_count": 1221,
     "metadata": {},
     "output_type": "execute_result"
    }
   ],
   "source": [
    "df.loc[df['Make'] == 'Sikorsky', 'Aircraft_Category'] = 'Helicopter'\n",
    "\n",
    "df[df['Aircraft_Category'].isna()]['Make'].value_counts().head(10)"
   ]
  },
  {
   "cell_type": "code",
   "execution_count": 1222,
   "id": "2c79c7a2-fa13-4abc-b4ae-3b903f8db318",
   "metadata": {},
   "outputs": [
    {
     "data": {
      "text/plain": [
       "Aircraft_Category\n",
       "NaN       100\n",
       "Glider      9\n",
       "Name: count, dtype: int64"
      ]
     },
     "execution_count": 1222,
     "metadata": {},
     "output_type": "execute_result"
    }
   ],
   "source": [
    "df[df['Make'] == 'Burkhart Grob'].value_counts('Aircraft_Category', dropna=False)"
   ]
  },
  {
   "cell_type": "markdown",
   "id": "95e47c93-b28a-4ab7-9107-b12f0ad0d992",
   "metadata": {},
   "source": [
    "So many NaN and only 9 gliders, so I'm going to check out the models just to make sure that I should fill in Burkhart Grob category as Glider"
   ]
  },
  {
   "cell_type": "code",
   "execution_count": 1223,
   "id": "0f75f769-3c3f-4093-9456-2905a46d4797",
   "metadata": {},
   "outputs": [
    {
     "data": {
      "text/plain": [
       "Model\n",
       "G103                    15\n",
       "G-103A                   7\n",
       "103                      6\n",
       "G102                     6\n",
       "G-109B                   5\n",
       "G-103                    5\n",
       "G103 TWIN ASTIR          4\n",
       "G 103 Twin II            4\n",
       "G109B                    3\n",
       "G-102                    3\n",
       "103A                     3\n",
       "G103 TWIN II             2\n",
       "G103 Twin Astir          2\n",
       "G-103-TWIN II            2\n",
       "G102 ASTIR CS            2\n",
       "G103A                    2\n",
       "G-103A Twin II Acro      2\n",
       "G102 Club Astir IIIB     2\n",
       "102                      2\n",
       "G 103 TWIN II            2\n",
       "G-103 TWIN II            1\n",
       "G102-111B                1\n",
       "SPEED ASTIR II           1\n",
       "G10Z ASTIR CS            1\n",
       "103C                     1\n",
       "G103C TWIN III ACRO      1\n",
       "G103B                    1\n",
       "109                      1\n",
       "G103-TWINA               1\n",
       "G103 Twin II             1\n",
       "109A                     1\n",
       "109B                     1\n",
       "6103 TWIN ASTIR          1\n",
       "G103 FLUGZEUGBAU         1\n",
       "A103 TWIN II             1\n",
       "G102 Std Astir III       1\n",
       "G-103-II AERO            1\n",
       "G102 Standard III        1\n",
       "G102 STD ASTIR III       1\n",
       "G102 III B               1\n",
       "BG 103                   1\n",
       "G102 CLUB ASTIR IIIB     1\n",
       "FLUGZEUGBAU G103         1\n",
       "G-115D                   1\n",
       "G 103C                   1\n",
       "G-102 ASTIR CS           1\n",
       "G-103A TWIN II ACRO      1\n",
       "G-102CS                  1\n",
       "G-103 TWIN ASTIR         1\n",
       "TWIN ASTIR               1\n",
       "Name: count, dtype: int64"
      ]
     },
     "execution_count": 1223,
     "metadata": {},
     "output_type": "execute_result"
    }
   ],
   "source": [
    "df[df['Make'] == 'Burkhart Grob'].value_counts('Model', dropna=False)"
   ]
  },
  {
   "cell_type": "markdown",
   "id": "54b8c9c2-2a06-4808-9569-04291bff4c0b",
   "metadata": {},
   "source": [
    "Google tells me all these models are gliders."
   ]
  },
  {
   "cell_type": "code",
   "execution_count": 1224,
   "id": "44cb6bd5-9a1c-4dec-815d-64d1f9a40fa8",
   "metadata": {},
   "outputs": [
    {
     "data": {
      "text/plain": [
       "Make\n",
       "Burkhart Grob                109\n",
       "BURKHART GROB                 11\n",
       "Burkhart Grob Flugzeugbau      9\n",
       "BURKHART GROB FLUGZEUGBAU      6\n",
       "Burkhart Grob Flugzeugbah      1\n",
       "Burkhart-grob                  1\n",
       "Name: count, dtype: int64"
      ]
     },
     "execution_count": 1224,
     "metadata": {},
     "output_type": "execute_result"
    }
   ],
   "source": [
    "df[df['Make'].str.lower().str.startswith('burkha')].value_counts('Make')"
   ]
  },
  {
   "cell_type": "code",
   "execution_count": 1225,
   "id": "20a5aeaa-168d-45f2-b0ea-f3d21fba14a7",
   "metadata": {},
   "outputs": [],
   "source": [
    "df.loc[df['Make'].isin(['BURKHART GROB', 'Burkhart Grob Flugzeugbau', 'BURKHART GROB FLUGZEUGBAU', 'Burkhart Grob Flugzeugbah', 'Burkhart-grob']), 'Make'] = 'Burkhart Grob'\n",
    "\n",
    "df.loc[df['Make'] == 'Burkhart Grob', 'Aircraft_Category'] = 'Glider'"
   ]
  },
  {
   "cell_type": "code",
   "execution_count": 1226,
   "id": "12caaaf5-8b27-4467-8c13-ab56f91bc5ae",
   "metadata": {
    "panel-layout": {
     "height": 10,
     "visible": true,
     "width": 100
    }
   },
   "outputs": [
    {
     "data": {
      "text/plain": [
       "Make\n",
       "Fairchild            97\n",
       "Lockheed             94\n",
       "Balloon Works        87\n",
       "Ayres                87\n",
       "Swearingen           86\n",
       "Mitsubishi           84\n",
       "Hiller               82\n",
       "British Aerospace    79\n",
       "Embraer              75\n",
       "Enstrom              74\n",
       "Name: count, dtype: int64"
      ]
     },
     "execution_count": 1226,
     "metadata": {},
     "output_type": "execute_result"
    }
   ],
   "source": [
    "df[df['Aircraft_Category'].isna()]['Make'].value_counts().head(10)"
   ]
  },
  {
   "cell_type": "code",
   "execution_count": 1227,
   "id": "2c1d9e40-59cc-4228-9683-1b04eb67028b",
   "metadata": {},
   "outputs": [
    {
     "data": {
      "text/plain": [
       "Make\n",
       "Fairchild                131\n",
       "Fairchild Hiller          35\n",
       "FAIRCHILD                 27\n",
       "Fairchild Swearingen      11\n",
       "FAIRCHILD HILLER           4\n",
       "Fairchild Dornier          3\n",
       "FAIRCHILD HELI-PORTER      2\n",
       "FAIRCHILD(HOWARD)          2\n",
       "FAIRCHILD FUNK             1\n",
       "Fairchild Heli-porter      1\n",
       "Fairchild Industries       1\n",
       "Fairchild Merlin           1\n",
       "Fairchild-heliporter       1\n",
       "Fairchild/swearingen       1\n",
       "Name: count, dtype: int64"
      ]
     },
     "execution_count": 1227,
     "metadata": {},
     "output_type": "execute_result"
    }
   ],
   "source": [
    "df[df['Make'].str.lower().str.startswith('fairchi')].value_counts('Make')"
   ]
  },
  {
   "cell_type": "code",
   "execution_count": 1228,
   "id": "c609261f-328f-4307-8f6f-281cbff15cad",
   "metadata": {},
   "outputs": [
    {
     "data": {
      "text/plain": [
       "Aircraft_Category\n",
       "NaN           113\n",
       "Airplane       73\n",
       "Helicopter     35\n",
       "Name: count, dtype: int64"
      ]
     },
     "execution_count": 1228,
     "metadata": {},
     "output_type": "execute_result"
    }
   ],
   "source": [
    "df.loc[df['Make'].isin(['Fairchild Hiller', 'FAIRCHILD', 'Fairchild Swearingen', 'FAIRCHILD HILLER', 'Fairchild Dornier', 'FAIRCHILD HELI-PORTER', 'FAIRCHILD(HOWARD)', 'FAIRCHILD FUNK',\n",
    "                       'Fairchild Heli-porter', 'Fairchild Industries', 'Fairchild Merlin', 'Fairchild-heliporter', 'Fairchild/swearingen']), 'Make'] = 'Fairchild'\n",
    "\n",
    "df[df['Make'] == 'Fairchild'].value_counts('Aircraft_Category', dropna=False)"
   ]
  },
  {
   "cell_type": "code",
   "execution_count": 1229,
   "id": "fae8e7f3-7197-4470-977d-82ae20a4afd3",
   "metadata": {},
   "outputs": [
    {
     "data": {
      "text/plain": [
       "Model\n",
       "SA-227AC             8\n",
       "SA-227-AC            7\n",
       "M-62A-3              6\n",
       "SA-226-TC            4\n",
       "24G                  4\n",
       "SA227AC              4\n",
       "SA-227               4\n",
       "M-62C                4\n",
       "SA226T               3\n",
       "F-27                 3\n",
       "DO-328-300           3\n",
       "24W-46               3\n",
       "SA227                2\n",
       "C-82A                2\n",
       "M-62A                2\n",
       "SA227-AT             2\n",
       "SA 227               2\n",
       "SA 227-AC            2\n",
       "PT-19                2\n",
       "24R-46A              2\n",
       "24R-40               2\n",
       "SA227BC              2\n",
       "M-62                 2\n",
       "SA 227-TT Merlin     1\n",
       "SA-2226-TC           1\n",
       "SA-226-T             1\n",
       "24 C8C               1\n",
       "SA-226T              1\n",
       "SA-226TC             1\n",
       "SA-227-TT            1\n",
       "PT-26B               1\n",
       "SA-266TC             1\n",
       "SA226-T              1\n",
       "SA227-DC             1\n",
       "SA227-TT             1\n",
       "Pilatus PC6/B2-H2    1\n",
       "M62A (PT-19)         1\n",
       "PT-23                1\n",
       "PT-19A               1\n",
       "24-J                 1\n",
       "24R-46               1\n",
       "24W-40               1\n",
       "42                   1\n",
       "C-119                1\n",
       "C-119L               1\n",
       "F-23A                1\n",
       "F-27E                1\n",
       "F-27F                1\n",
       "FA-24                1\n",
       "FH-100               1\n",
       "FH-227               1\n",
       "FH-227B              1\n",
       "FH1100               1\n",
       "FH227B               1\n",
       "KR-21                1\n",
       "M-62A (PT-19)        1\n",
       "24-G                 1\n",
       "MERLIN IIIA          1\n",
       "Metro III            1\n",
       "PC6/B2-H2            1\n",
       "Name: count, dtype: int64"
      ]
     },
     "execution_count": 1229,
     "metadata": {},
     "output_type": "execute_result"
    }
   ],
   "source": [
    "df[df['Make'].isin(['Fairchild']) & df['Aircraft_Category'].isna()].value_counts('Model', dropna=False).head(60)"
   ]
  },
  {
   "cell_type": "markdown",
   "id": "813234e2-e18c-45d0-9552-7a3107cc358e",
   "metadata": {},
   "source": [
    "The only models in this list that are helicopters are the FH1100 and FH-100. All the rest fall into the Airplane category."
   ]
  },
  {
   "cell_type": "code",
   "execution_count": 1230,
   "id": "6268ef70-24f1-4352-842e-09b0cdf939ad",
   "metadata": {},
   "outputs": [],
   "source": [
    "df.loc[df['Model'].isin(['FH1100', 'FH-100']), 'Aircraft_Category'] = 'Helicopter'"
   ]
  },
  {
   "cell_type": "code",
   "execution_count": 1231,
   "id": "eedc9099-f19a-4276-aacf-244411fdbdb6",
   "metadata": {},
   "outputs": [
    {
     "data": {
      "text/plain": [
       "Aircraft_Category\n",
       "Airplane      184\n",
       "Helicopter     37\n",
       "Name: count, dtype: int64"
      ]
     },
     "execution_count": 1231,
     "metadata": {},
     "output_type": "execute_result"
    }
   ],
   "source": [
    "# Make the rest of the NaN category values Airplane for Fairchild\n",
    "df.loc[(df['Make'].isin(['Fairchild'])) & (df['Aircraft_Category'].isna()), 'Aircraft_Category'] = 'Airplane'\n",
    "\n",
    "df[df['Make'] == 'Fairchild'].value_counts('Aircraft_Category', dropna=False)"
   ]
  },
  {
   "cell_type": "code",
   "execution_count": 1232,
   "id": "20e79084-435c-4551-bf20-49e13db76cc5",
   "metadata": {},
   "outputs": [
    {
     "data": {
      "text/plain": [
       "Make\n",
       "Lockheed             94\n",
       "Ayres                87\n",
       "Balloon Works        87\n",
       "Swearingen           86\n",
       "Mitsubishi           84\n",
       "Hiller               81\n",
       "British Aerospace    79\n",
       "Embraer              75\n",
       "Enstrom              74\n",
       "Pitts                73\n",
       "Name: count, dtype: int64"
      ]
     },
     "execution_count": 1232,
     "metadata": {},
     "output_type": "execute_result"
    }
   ],
   "source": [
    "df[df['Aircraft_Category'].isna()]['Make'].value_counts().head(10)"
   ]
  },
  {
   "cell_type": "code",
   "execution_count": 1233,
   "id": "28cc8ecd-241c-4a88-83ae-0f99410cf431",
   "metadata": {},
   "outputs": [
    {
     "data": {
      "text/plain": [
       "Make\n",
       "Lockheed    111\n",
       "LOCKHEED     11\n",
       "Name: count, dtype: int64"
      ]
     },
     "execution_count": 1233,
     "metadata": {},
     "output_type": "execute_result"
    }
   ],
   "source": [
    "df[df['Make'].str.lower().str.startswith('lockh')].value_counts('Make')"
   ]
  },
  {
   "cell_type": "code",
   "execution_count": 1234,
   "id": "eb440b83-6db2-4881-afd6-6d56fbf2d064",
   "metadata": {},
   "outputs": [
    {
     "data": {
      "text/plain": [
       "Aircraft_Category\n",
       "NaN             94\n",
       "Airplane        27\n",
       "Powered-Lift     1\n",
       "Name: count, dtype: int64"
      ]
     },
     "execution_count": 1234,
     "metadata": {},
     "output_type": "execute_result"
    }
   ],
   "source": [
    "df.loc[df['Make'].isin(['LOCKHEED']), 'Make'] = 'Lockheed'\n",
    "\n",
    "df[df['Make'] == 'Lockheed'].value_counts('Aircraft_Category', dropna=False)"
   ]
  },
  {
   "cell_type": "code",
   "execution_count": 1235,
   "id": "287b65e6-1436-4eda-9f64-08aa1a87a450",
   "metadata": {},
   "outputs": [
    {
     "data": {
      "text/plain": [
       "Make\n",
       "Balloon Works        87\n",
       "Ayres                87\n",
       "Swearingen           86\n",
       "Mitsubishi           84\n",
       "Hiller               81\n",
       "British Aerospace    79\n",
       "Embraer              75\n",
       "Enstrom              74\n",
       "Pitts                73\n",
       "Aerostar             72\n",
       "Name: count, dtype: int64"
      ]
     },
     "execution_count": 1235,
     "metadata": {},
     "output_type": "execute_result"
    }
   ],
   "source": [
    "df.loc[df['Make'] == 'Lockheed', 'Aircraft_Category'] = 'Airplane'\n",
    "\n",
    "df[df['Aircraft_Category'].isna()]['Make'].value_counts().head(10)"
   ]
  },
  {
   "cell_type": "code",
   "execution_count": 1236,
   "id": "2fc4e87c-8fb1-4225-80cf-fb426562dac4",
   "metadata": {},
   "outputs": [
    {
     "data": {
      "text/plain": [
       "Make\n",
       "Ayres                213\n",
       "AYRES CORPORATION     38\n",
       "AYRES                 23\n",
       "Ayres Corporation      7\n",
       "AYRES THRUSH           2\n",
       "AYRES CORP             1\n",
       "Name: count, dtype: int64"
      ]
     },
     "execution_count": 1236,
     "metadata": {},
     "output_type": "execute_result"
    }
   ],
   "source": [
    "df[df['Make'].str.lower().str.startswith('ayre')].value_counts('Make')"
   ]
  },
  {
   "cell_type": "code",
   "execution_count": 1237,
   "id": "b24a25ea-17da-4750-b694-278256f813f8",
   "metadata": {},
   "outputs": [
    {
     "data": {
      "text/plain": [
       "Aircraft_Category\n",
       "Airplane    194\n",
       "NaN          90\n",
       "Name: count, dtype: int64"
      ]
     },
     "execution_count": 1237,
     "metadata": {},
     "output_type": "execute_result"
    }
   ],
   "source": [
    "df.loc[df['Make'].isin(['AYRES CORPORATION', 'AYRES', 'Ayres Corporation', 'AYRES THRUSH', 'AYRES CORP']), 'Make'] = 'Ayres'\n",
    "\n",
    "df[df['Make'] == 'Ayres'].value_counts('Aircraft_Category', dropna=False)"
   ]
  },
  {
   "cell_type": "code",
   "execution_count": 1238,
   "id": "f758a7e6-d98f-4926-9139-e310772661bf",
   "metadata": {},
   "outputs": [
    {
     "data": {
      "text/plain": [
       "Make\n",
       "Balloon Works        87\n",
       "Swearingen           86\n",
       "Mitsubishi           84\n",
       "Hiller               81\n",
       "British Aerospace    79\n",
       "Embraer              75\n",
       "Enstrom              74\n",
       "Pitts                73\n",
       "Aerostar             72\n",
       "Unknown              65\n",
       "Name: count, dtype: int64"
      ]
     },
     "execution_count": 1238,
     "metadata": {},
     "output_type": "execute_result"
    }
   ],
   "source": [
    "df.loc[df['Make'] == 'Ayres', 'Aircraft_Category'] = 'Airplane'\n",
    "\n",
    "df[df['Aircraft_Category'].isna()]['Make'].value_counts().head(10)"
   ]
  },
  {
   "cell_type": "code",
   "execution_count": 1239,
   "id": "a85ca691-4e43-44ef-b331-658fb05b9379",
   "metadata": {},
   "outputs": [
    {
     "data": {
      "text/plain": [
       "Make\n",
       "Balloon Works              135\n",
       "BALLOON WORKS                8\n",
       "Balloon Works Inc            1\n",
       "Balloonbau Woerner Gmbh      1\n",
       "Name: count, dtype: int64"
      ]
     },
     "execution_count": 1239,
     "metadata": {},
     "output_type": "execute_result"
    }
   ],
   "source": [
    "df[df['Make'].str.lower().str.startswith('balloo')].value_counts('Make')"
   ]
  },
  {
   "cell_type": "code",
   "execution_count": 1240,
   "id": "b6ff17f2-7d97-4084-a8e9-7e689397ccbb",
   "metadata": {},
   "outputs": [
    {
     "data": {
      "text/plain": [
       "Aircraft_Category\n",
       "NaN        87\n",
       "Balloon    57\n",
       "Name: count, dtype: int64"
      ]
     },
     "execution_count": 1240,
     "metadata": {},
     "output_type": "execute_result"
    }
   ],
   "source": [
    "df.loc[df['Make'].isin(['BALLOON WORKS', 'Balloon Works Inc']), 'Make'] = 'Balloon Works'\n",
    "\n",
    "df[df['Make'] == 'Balloon Works'].value_counts('Aircraft_Category', dropna=False)"
   ]
  },
  {
   "cell_type": "code",
   "execution_count": 1241,
   "id": "dfbb0aa5-e804-4d43-92db-e0640c916bcd",
   "metadata": {},
   "outputs": [
    {
     "data": {
      "text/plain": [
       "Make\n",
       "Swearingen           86\n",
       "Mitsubishi           84\n",
       "Hiller               81\n",
       "British Aerospace    79\n",
       "Embraer              75\n",
       "Enstrom              74\n",
       "Pitts                73\n",
       "Aerostar             72\n",
       "Unknown              65\n",
       "Raven                64\n",
       "Name: count, dtype: int64"
      ]
     },
     "execution_count": 1241,
     "metadata": {},
     "output_type": "execute_result"
    }
   ],
   "source": [
    "df.loc[df['Make'] == 'Balloon Works', 'Aircraft_Category'] = 'Balloon'\n",
    "\n",
    "df[df['Aircraft_Category'].isna()]['Make'].value_counts().head(10)"
   ]
  },
  {
   "cell_type": "code",
   "execution_count": 1242,
   "id": "0947e3b7-cdfe-4713-ba21-ded2cb4bfff0",
   "metadata": {},
   "outputs": [
    {
     "data": {
      "text/plain": [
       "Make\n",
       "Swearingen                  141\n",
       "SWEARINGEN                   29\n",
       "Swearingen T R/masters W      1\n",
       "Name: count, dtype: int64"
      ]
     },
     "execution_count": 1242,
     "metadata": {},
     "output_type": "execute_result"
    }
   ],
   "source": [
    "df[df['Make'].str.lower().str.startswith('swearin')].value_counts('Make')"
   ]
  },
  {
   "cell_type": "code",
   "execution_count": 1243,
   "id": "091dc2b6-720a-482e-894f-eaef94c48686",
   "metadata": {},
   "outputs": [
    {
     "data": {
      "text/plain": [
       "Aircraft_Category\n",
       "NaN         88\n",
       "Airplane    83\n",
       "Name: count, dtype: int64"
      ]
     },
     "execution_count": 1243,
     "metadata": {},
     "output_type": "execute_result"
    }
   ],
   "source": [
    "df.loc[df['Make'].isin(['SWEARINGEN', 'Swearingen T R/masters W']), 'Make'] = 'Swearingen'\n",
    "\n",
    "df[df['Make'] == 'Swearingen'].value_counts('Aircraft_Category', dropna=False)"
   ]
  },
  {
   "cell_type": "code",
   "execution_count": 1244,
   "id": "e1c9bdc7-3709-4cd5-81ab-c2a186f0cad7",
   "metadata": {},
   "outputs": [
    {
     "data": {
      "text/plain": [
       "Make\n",
       "Mitsubishi           84\n",
       "Hiller               81\n",
       "British Aerospace    79\n",
       "Embraer              75\n",
       "Enstrom              74\n",
       "Pitts                73\n",
       "Aerostar             72\n",
       "Unknown              65\n",
       "Learjet              64\n",
       "Raven                64\n",
       "Name: count, dtype: int64"
      ]
     },
     "execution_count": 1244,
     "metadata": {},
     "output_type": "execute_result"
    }
   ],
   "source": [
    "df.loc[df['Make'] == 'Swearingen', 'Aircraft_Category'] = 'Airplane'\n",
    "\n",
    "df[df['Aircraft_Category'].isna()]['Make'].value_counts().head(10)"
   ]
  },
  {
   "cell_type": "code",
   "execution_count": 1245,
   "id": "215bfaca-6a47-43e0-a663-046ec4857089",
   "metadata": {},
   "outputs": [
    {
     "data": {
      "text/plain": [
       "Make\n",
       "Mitsubishi    126\n",
       "MITSUBISHI     16\n",
       "Name: count, dtype: int64"
      ]
     },
     "execution_count": 1245,
     "metadata": {},
     "output_type": "execute_result"
    }
   ],
   "source": [
    "df[df['Make'].str.lower().str.startswith('mitsub')].value_counts('Make')"
   ]
  },
  {
   "cell_type": "code",
   "execution_count": 1246,
   "id": "398151d3-2d84-4951-8b40-af57d08b5b6d",
   "metadata": {},
   "outputs": [
    {
     "data": {
      "text/plain": [
       "Aircraft_Category\n",
       "NaN         84\n",
       "Airplane    57\n",
       "Unknown      1\n",
       "Name: count, dtype: int64"
      ]
     },
     "execution_count": 1246,
     "metadata": {},
     "output_type": "execute_result"
    }
   ],
   "source": [
    "df.loc[df['Make'].isin(['MITSUBISHI']), 'Make'] = 'Mitsubishi'\n",
    "\n",
    "df[df['Make'] == 'Mitsubishi'].value_counts('Aircraft_Category', dropna=False)"
   ]
  },
  {
   "cell_type": "code",
   "execution_count": 1247,
   "id": "d814b25b-9b44-49a9-a9e3-fd4bfa018f23",
   "metadata": {},
   "outputs": [
    {
     "data": {
      "text/plain": [
       "Make\n",
       "Hiller               81\n",
       "British Aerospace    79\n",
       "Embraer              75\n",
       "Enstrom              74\n",
       "Pitts                73\n",
       "Aerostar             72\n",
       "Unknown              65\n",
       "Learjet              64\n",
       "Raven                64\n",
       "Mbb                  62\n",
       "Name: count, dtype: int64"
      ]
     },
     "execution_count": 1247,
     "metadata": {},
     "output_type": "execute_result"
    }
   ],
   "source": [
    "df.loc[df['Make'] == 'Mitsubishi', 'Aircraft_Category'] = 'Airplane'\n",
    "\n",
    "df[df['Aircraft_Category'].isna()]['Make'].value_counts().head(10)"
   ]
  },
  {
   "cell_type": "code",
   "execution_count": 1248,
   "id": "4302297d-6891-4af1-a6c8-8e3bafe3271d",
   "metadata": {},
   "outputs": [
    {
     "data": {
      "text/plain": [
       "Make\n",
       "Hiller                        311\n",
       "HILLER                         37\n",
       "Hiller-soloy                    9\n",
       "HILLER-ROGERSON HELICOPTER      1\n",
       "HILLER-TRI-PLEX IND.INC.        1\n",
       "Hiller-osborn                   1\n",
       "Hillery W. Grice                1\n",
       "Name: count, dtype: int64"
      ]
     },
     "execution_count": 1248,
     "metadata": {},
     "output_type": "execute_result"
    }
   ],
   "source": [
    "df[df['Make'].str.lower().str.startswith('hille')].value_counts('Make')"
   ]
  },
  {
   "cell_type": "code",
   "execution_count": 1249,
   "id": "1c2d4ce1-cdad-4379-ba3a-d254f22f728d",
   "metadata": {},
   "outputs": [
    {
     "data": {
      "text/plain": [
       "Aircraft_Category\n",
       "Helicopter           274\n",
       "NaN                   85\n",
       "Powered Parachute      1\n",
       "Name: count, dtype: int64"
      ]
     },
     "execution_count": 1249,
     "metadata": {},
     "output_type": "execute_result"
    }
   ],
   "source": [
    "df.loc[df['Make'].isin(['HILLER', 'Hiller-soloy', 'HILLER-ROGERSON HELICOPTER', 'HILLER-TRI-PLEX IND.INC.', 'Hiller-osborn']), 'Make'] = 'Hiller'\n",
    "\n",
    "df[df['Make'] == 'Hiller'].value_counts('Aircraft_Category', dropna=False)"
   ]
  },
  {
   "cell_type": "code",
   "execution_count": 1250,
   "id": "6c95c7ea-8c50-4b2e-9c4f-92d1aed25983",
   "metadata": {},
   "outputs": [
    {
     "data": {
      "text/plain": [
       "Make\n",
       "British Aerospace    79\n",
       "Embraer              75\n",
       "Enstrom              74\n",
       "Pitts                73\n",
       "Aerostar             72\n",
       "Unknown              65\n",
       "Learjet              64\n",
       "Raven                64\n",
       "Mbb                  62\n",
       "Waco                 60\n",
       "Name: count, dtype: int64"
      ]
     },
     "execution_count": 1250,
     "metadata": {},
     "output_type": "execute_result"
    }
   ],
   "source": [
    "df.loc[df['Make'] == 'Hiller', 'Aircraft_Category'] = 'Airplane'\n",
    "\n",
    "df[df['Aircraft_Category'].isna()]['Make'].value_counts().head(10)"
   ]
  },
  {
   "cell_type": "code",
   "execution_count": 1251,
   "id": "64a9fdc9-b938-4a9a-a72f-7b7c39a3c117",
   "metadata": {},
   "outputs": [
    {
     "data": {
      "text/plain": [
       "Make\n",
       "British Aerospace                84\n",
       "British Aircraft Corp. (bac)      6\n",
       "BRITISH AEROSPACE                 5\n",
       "BRITISH AIRCRAFT CORP             1\n",
       "BRITISH AIRCRAFT CORP.            1\n",
       "British Aerospace Civil Aircr     1\n",
       "British Aircraft Corp. (BAC)      1\n",
       "Name: count, dtype: int64"
      ]
     },
     "execution_count": 1251,
     "metadata": {},
     "output_type": "execute_result"
    }
   ],
   "source": [
    "df[df['Make'].str.lower().str.startswith('british')].value_counts('Make')"
   ]
  },
  {
   "cell_type": "code",
   "execution_count": 1252,
   "id": "acaccdaf-ec56-4ead-9892-dabda4980304",
   "metadata": {},
   "outputs": [
    {
     "data": {
      "text/plain": [
       "Aircraft_Category\n",
       "NaN         84\n",
       "Airplane    15\n",
       "Name: count, dtype: int64"
      ]
     },
     "execution_count": 1252,
     "metadata": {},
     "output_type": "execute_result"
    }
   ],
   "source": [
    "df.loc[df['Make'].isin(['British Aircraft Corp. (bac)', 'BRITISH AEROSPACE', 'BRITISH AIRCRAFT CORP', 'BRITISH AIRCRAFT CORP.', 'British Aerospace Civil Aircr', 'British Aircraft Corp. (BAC)']),\n",
    "'Make'] = 'British Aerospace'\n",
    "\n",
    "df[df['Make'] == 'British Aerospace'].value_counts('Aircraft_Category', dropna=False)"
   ]
  },
  {
   "cell_type": "code",
   "execution_count": 1253,
   "id": "8dfd5f6f-5c60-44e6-a0c8-fa8b1f955661",
   "metadata": {},
   "outputs": [
    {
     "data": {
      "text/plain": [
       "Make\n",
       "Embraer          75\n",
       "Enstrom          74\n",
       "Pitts            73\n",
       "Aerostar         72\n",
       "Unknown          65\n",
       "Raven            64\n",
       "Learjet          64\n",
       "Mbb              62\n",
       "Waco             60\n",
       "Schempp-hirth    57\n",
       "Name: count, dtype: int64"
      ]
     },
     "execution_count": 1253,
     "metadata": {},
     "output_type": "execute_result"
    }
   ],
   "source": [
    "df.loc[df['Make'] == 'British Aerospace', 'Aircraft_Category'] = 'Airplane'\n",
    "\n",
    "df[df['Aircraft_Category'].isna()]['Make'].value_counts().head(10)"
   ]
  },
  {
   "cell_type": "code",
   "execution_count": 1254,
   "id": "cf662959-809f-4654-8399-2f8f37cea4f2",
   "metadata": {},
   "outputs": [
    {
     "data": {
      "text/plain": [
       "Make\n",
       "EMBRAER                           130\n",
       "Embraer                           106\n",
       "EMBRAER S A                         9\n",
       "EMBRAER-EMPRESA BRASILEIRA DE       6\n",
       "EMBRAER S.A.                        2\n",
       "EMBRAER EXECUTIVE AIRCRAFT INC      1\n",
       "EMBRAER SA                          1\n",
       "Embraer Aircraft                    1\n",
       "Name: count, dtype: int64"
      ]
     },
     "execution_count": 1254,
     "metadata": {},
     "output_type": "execute_result"
    }
   ],
   "source": [
    "df[df['Make'].str.lower().str.startswith('embra')].value_counts('Make')"
   ]
  },
  {
   "cell_type": "code",
   "execution_count": 1255,
   "id": "4ba54aac-0999-4897-9761-1665156158bf",
   "metadata": {},
   "outputs": [
    {
     "data": {
      "text/plain": [
       "Aircraft_Category\n",
       "Airplane      174\n",
       "NaN            81\n",
       "Helicopter      1\n",
       "Name: count, dtype: int64"
      ]
     },
     "execution_count": 1255,
     "metadata": {},
     "output_type": "execute_result"
    }
   ],
   "source": [
    "df.loc[df['Make'].isin(['EMBRAER', 'EMBRAER S A', 'EMBRAER-EMPRESA BRASILEIRA DE', 'EMBRAER S.A.', 'EMBRAER EXECUTIVE AIRCRAFT INC', 'EMBRAER SA', 'Embraer Aircraft']),'Make'] = 'Embraer'\n",
    "\n",
    "df[df['Make'] == 'Embraer'].value_counts('Aircraft_Category', dropna=False)"
   ]
  },
  {
   "cell_type": "code",
   "execution_count": 1256,
   "id": "5d8a9360-70cb-4764-93a0-944e566ef229",
   "metadata": {},
   "outputs": [
    {
     "data": {
      "text/plain": [
       "Make\n",
       "Enstrom          74\n",
       "Pitts            73\n",
       "Aerostar         72\n",
       "Unknown          65\n",
       "Raven            64\n",
       "Learjet          64\n",
       "Mbb              62\n",
       "Waco             60\n",
       "Schempp-hirth    57\n",
       "Helio            56\n",
       "Name: count, dtype: int64"
      ]
     },
     "execution_count": 1256,
     "metadata": {},
     "output_type": "execute_result"
    }
   ],
   "source": [
    "df.loc[df['Make'] == 'Embraer', 'Aircraft_Category'] = 'Airplane'\n",
    "\n",
    "df[df['Aircraft_Category'].isna()]['Make'].value_counts().head(10)"
   ]
  },
  {
   "cell_type": "code",
   "execution_count": 1257,
   "id": "1ba24e00-d77c-45d6-86cf-74ff93b252d3",
   "metadata": {},
   "outputs": [
    {
     "data": {
      "text/plain": [
       "Make\n",
       "Enstrom                    247\n",
       "ENSTROM                     49\n",
       "ENSTROM HELICOPTER CORP      7\n",
       "Name: count, dtype: int64"
      ]
     },
     "execution_count": 1257,
     "metadata": {},
     "output_type": "execute_result"
    }
   ],
   "source": [
    "df[df['Make'].str.lower().str.startswith('enstr')].value_counts('Make')"
   ]
  },
  {
   "cell_type": "code",
   "execution_count": 1258,
   "id": "7e4cbe58-ce9c-46ce-b486-0cee8f3c949c",
   "metadata": {},
   "outputs": [
    {
     "data": {
      "text/plain": [
       "Aircraft_Category\n",
       "Helicopter    229\n",
       "NaN            74\n",
       "Name: count, dtype: int64"
      ]
     },
     "execution_count": 1258,
     "metadata": {},
     "output_type": "execute_result"
    }
   ],
   "source": [
    "df.loc[df['Make'].isin(['ENSTROM', 'ENSTROM HELICOPTER CORP']),'Make'] = 'Enstrom'\n",
    "\n",
    "df[df['Make'] == 'Enstrom'].value_counts('Aircraft_Category', dropna=False)"
   ]
  },
  {
   "cell_type": "code",
   "execution_count": 1259,
   "id": "fc640cd3-c2c0-483a-80e1-6b68e4b4b8fd",
   "metadata": {},
   "outputs": [
    {
     "data": {
      "text/plain": [
       "Make\n",
       "Pitts            73\n",
       "Aerostar         72\n",
       "Unknown          65\n",
       "Learjet          64\n",
       "Raven            64\n",
       "Mbb              62\n",
       "Waco             60\n",
       "Schempp-hirth    57\n",
       "Helio            56\n",
       "Schleicher       52\n",
       "Name: count, dtype: int64"
      ]
     },
     "execution_count": 1259,
     "metadata": {},
     "output_type": "execute_result"
    }
   ],
   "source": [
    "df.loc[df['Make'] == 'Enstrom', 'Aircraft_Category'] = 'Helicopter'\n",
    "\n",
    "df[df['Aircraft_Category'].isna()]['Make'].value_counts().head(10)"
   ]
  },
  {
   "cell_type": "code",
   "execution_count": 1260,
   "id": "c4818fb3-f7ab-4b94-98a5-7787bcc9c51f",
   "metadata": {},
   "outputs": [
    {
     "data": {
      "text/plain": [
       "Make\n",
       "Pitts               128\n",
       "Pitts Special        15\n",
       "PITTS                13\n",
       "PITTS AEROBATICS      3\n",
       "PITTS SPECIAL         1\n",
       "Pitts Spl.            1\n",
       "Name: count, dtype: int64"
      ]
     },
     "execution_count": 1260,
     "metadata": {},
     "output_type": "execute_result"
    }
   ],
   "source": [
    "df[df['Make'].str.lower().str.startswith('pitts')].value_counts('Make')"
   ]
  },
  {
   "cell_type": "code",
   "execution_count": 1261,
   "id": "29e4f652-fe07-4a2e-a7dc-97c6f23879ee",
   "metadata": {},
   "outputs": [
    {
     "data": {
      "text/plain": [
       "Aircraft_Category\n",
       "NaN         82\n",
       "Airplane    79\n",
       "Name: count, dtype: int64"
      ]
     },
     "execution_count": 1261,
     "metadata": {},
     "output_type": "execute_result"
    }
   ],
   "source": [
    "df.loc[df['Make'].isin(['Pitts', 'PITTS', 'PITTS AEROBATICS', 'PITTS SPECIAL', 'Pitts Spl.']),'Make'] = 'Pitts Special'\n",
    "\n",
    "df[df['Make'] == 'Pitts Special'].value_counts('Aircraft_Category', dropna=False)"
   ]
  },
  {
   "cell_type": "code",
   "execution_count": 1262,
   "id": "1392f9f3-f604-430c-8825-4a6c5573c951",
   "metadata": {},
   "outputs": [
    {
     "data": {
      "text/plain": [
       "Make\n",
       "Aerostar                          72\n",
       "Unknown                           65\n",
       "Learjet                           64\n",
       "Raven                             64\n",
       "Mbb                               62\n",
       "Waco                              60\n",
       "Schempp-hirth                     57\n",
       "Helio                             56\n",
       "Schleicher                        52\n",
       "Ercoupe (eng & Research Corp.)    51\n",
       "Name: count, dtype: int64"
      ]
     },
     "execution_count": 1262,
     "metadata": {},
     "output_type": "execute_result"
    }
   ],
   "source": [
    "df.loc[df['Make'] == 'Pitts Special', 'Aircraft_Category'] = 'Airplane'\n",
    "\n",
    "df[df['Aircraft_Category'].isna()]['Make'].value_counts().head(10)"
   ]
  },
  {
   "cell_type": "code",
   "execution_count": 1263,
   "id": "54bd1027-c1d0-49e2-b3a3-f9d6f0518997",
   "metadata": {},
   "outputs": [
    {
     "data": {
      "text/plain": [
       "Make\n",
       "Aerostar                         85\n",
       "AEROSTAR INTERNATIONAL INC       12\n",
       "AEROSTAR INTERNATIONAL            8\n",
       "Aerostar International            7\n",
       "Aerostar International Inc.       5\n",
       "AEROSTAR ACFT CORP OF TEXAS       3\n",
       "AEROSTAR S A                      3\n",
       "Aerostar, S.a                     3\n",
       "AEROSTAR                          2\n",
       "Aerostar International Inc        2\n",
       "AEROSTAR AIRCRAFT CORPORATION     1\n",
       "Aerostar Aircraft Corporation     1\n",
       "Aerostar International, Inc.      1\n",
       "Aerostar-raven                    1\n",
       "Name: count, dtype: int64"
      ]
     },
     "execution_count": 1263,
     "metadata": {},
     "output_type": "execute_result"
    }
   ],
   "source": [
    "df[df['Make'].str.lower().str.startswith('aerost')].value_counts('Make')"
   ]
  },
  {
   "cell_type": "code",
   "execution_count": 1264,
   "id": "a19a7d22-9a45-451d-8487-83c5d4267ab8",
   "metadata": {},
   "outputs": [
    {
     "data": {
      "text/plain": [
       "Aircraft_Category\n",
       "Airplane    4\n",
       "NaN         2\n",
       "Name: count, dtype: int64"
      ]
     },
     "execution_count": 1264,
     "metadata": {},
     "output_type": "execute_result"
    }
   ],
   "source": [
    "df.loc[df['Make'].isin(['AEROSTAR ACFT CORP OF TEXAS', 'AEROSTAR AIRCRAFT CORPORATION']),'Make'] = 'Aerostar Aircraft Corporation'\n",
    "df.loc[df['Make'].isin(['AEROSTAR S A', 'Aerostar, S.a']),'Make'] = 'Aerostar, SA'\n",
    "df.loc[df['Make'].isin(['Aerostar', 'AEROSTAR', 'AEROSTAR INTERNATIONAL', 'AEROSTAR INTERNATIONAL INC', 'Aerostar International Inc', 'Aerostar International Inc.', 'Aerostar International, Inc.',\n",
    "                       'Aerostar-raven']),'Make'] = 'Aerostar International'\n",
    "\n",
    "df[df['Make'] == 'Aerostar, SA'].value_counts('Aircraft_Category', dropna=False)"
   ]
  },
  {
   "cell_type": "code",
   "execution_count": 1265,
   "id": "8d1afa75-5a58-4ba3-a66a-fd2d8d4c0ffd",
   "metadata": {},
   "outputs": [
    {
     "data": {
      "text/plain": [
       "Aircraft_Category\n",
       "Airplane    5\n",
       "Name: count, dtype: int64"
      ]
     },
     "execution_count": 1265,
     "metadata": {},
     "output_type": "execute_result"
    }
   ],
   "source": [
    "df[df['Make'] == 'Aerostar Aircraft Corporation'].value_counts('Aircraft_Category', dropna=False)"
   ]
  },
  {
   "cell_type": "code",
   "execution_count": 1266,
   "id": "010c03b2-9491-4576-8228-e386cc0ca441",
   "metadata": {},
   "outputs": [
    {
     "data": {
      "text/plain": [
       "Aircraft_Category\n",
       "NaN         82\n",
       "Balloon     40\n",
       "Airplane     1\n",
       "Name: count, dtype: int64"
      ]
     },
     "execution_count": 1266,
     "metadata": {},
     "output_type": "execute_result"
    }
   ],
   "source": [
    "df[df['Make'] == 'Aerostar International'].value_counts('Aircraft_Category', dropna=False)"
   ]
  },
  {
   "cell_type": "code",
   "execution_count": 1267,
   "id": "64426e16-5c26-4c46-a348-cced140cf54f",
   "metadata": {},
   "outputs": [
    {
     "data": {
      "text/plain": [
       "Make\n",
       "Unknown                           65\n",
       "Learjet                           64\n",
       "Raven                             64\n",
       "Mbb                               62\n",
       "Waco                              60\n",
       "Schempp-hirth                     57\n",
       "Helio                             56\n",
       "Schleicher                        52\n",
       "Ercoupe (eng & Research Corp.)    51\n",
       "Weatherly                         48\n",
       "Name: count, dtype: int64"
      ]
     },
     "execution_count": 1267,
     "metadata": {},
     "output_type": "execute_result"
    }
   ],
   "source": [
    "df.loc[df['Make'] == 'Aerostar, SA', 'Aircraft_Category'] = 'Airplane'\n",
    "df.loc[df['Make'] == 'Aerostar International', 'Aircraft_Category'] = 'Balloon'\n",
    "\n",
    "df[df['Aircraft_Category'].isna()]['Make'].value_counts().head(10)"
   ]
  },
  {
   "cell_type": "code",
   "execution_count": 1268,
   "id": "4f0c76e7-138f-4bf9-8911-03231cc5189d",
   "metadata": {},
   "outputs": [
    {
     "data": {
      "text/plain": [
       "Make\n",
       "Learjet        109\n",
       "LEARJET         25\n",
       "LEARJET INC     10\n",
       "Learjet Inc      1\n",
       "Name: count, dtype: int64"
      ]
     },
     "execution_count": 1268,
     "metadata": {},
     "output_type": "execute_result"
    }
   ],
   "source": [
    "df[df['Make'].str.lower().str.startswith('lear')].value_counts('Make')"
   ]
  },
  {
   "cell_type": "code",
   "execution_count": 1269,
   "id": "b853f1b1-3db2-4978-b3e5-a431964fac76",
   "metadata": {},
   "outputs": [
    {
     "data": {
      "text/plain": [
       "Aircraft_Category\n",
       "Airplane    80\n",
       "NaN         65\n",
       "Name: count, dtype: int64"
      ]
     },
     "execution_count": 1269,
     "metadata": {},
     "output_type": "execute_result"
    }
   ],
   "source": [
    "df.loc[df['Make'].isin(['LEARJET', 'LEARJET INC', 'Learjet Inc']),'Make'] = 'Learjet'\n",
    "\n",
    "df[df['Make'] == 'Learjet'].value_counts('Aircraft_Category', dropna=False)"
   ]
  },
  {
   "cell_type": "code",
   "execution_count": 1270,
   "id": "55c4433b-266f-40bf-920c-68389a129ef3",
   "metadata": {},
   "outputs": [
    {
     "data": {
      "text/plain": [
       "Make\n",
       "Unknown                           65\n",
       "Raven                             64\n",
       "Mbb                               62\n",
       "Waco                              60\n",
       "Schempp-hirth                     57\n",
       "Helio                             56\n",
       "Schleicher                        52\n",
       "Ercoupe (eng & Research Corp.)    51\n",
       "Weatherly                         48\n",
       "Ryan                              48\n",
       "Name: count, dtype: int64"
      ]
     },
     "execution_count": 1270,
     "metadata": {},
     "output_type": "execute_result"
    }
   ],
   "source": [
    "df.loc[df['Make'] == 'Learjet', 'Aircraft_Category'] = 'Airplane'\n",
    "\n",
    "df[df['Aircraft_Category'].isna()]['Make'].value_counts().head(10)"
   ]
  },
  {
   "cell_type": "code",
   "execution_count": 1271,
   "id": "0c06a2d2-1121-408d-821e-5d0dfc0a56e8",
   "metadata": {},
   "outputs": [
    {
     "data": {
      "text/plain": [
       "Make\n",
       "Raven                         84\n",
       "Raven Industries               3\n",
       "RAVEN AIRCRAFT CORPPRATION     1\n",
       "RAVEN INDUSTRIES INC           1\n",
       "Name: count, dtype: int64"
      ]
     },
     "execution_count": 1271,
     "metadata": {},
     "output_type": "execute_result"
    }
   ],
   "source": [
    "df[df['Make'].str.lower().str.startswith('raven')].value_counts('Make')"
   ]
  },
  {
   "cell_type": "code",
   "execution_count": 1272,
   "id": "862066b2-90cf-4692-9234-a55a06c38d07",
   "metadata": {},
   "outputs": [
    {
     "data": {
      "text/plain": [
       "Aircraft_Category\n",
       "NaN        65\n",
       "Balloon    23\n",
       "Name: count, dtype: int64"
      ]
     },
     "execution_count": 1272,
     "metadata": {},
     "output_type": "execute_result"
    }
   ],
   "source": [
    "df.loc[df['Make'].isin(['Raven', 'RAVEN INDUSTRIES INC']),'Make'] = 'Raven Industries'\n",
    "\n",
    "df[df['Make'] == 'Raven Industries'].value_counts('Aircraft_Category', dropna=False)"
   ]
  },
  {
   "cell_type": "code",
   "execution_count": 1273,
   "id": "29d1e19c-4b57-4283-883f-6c91c3c3c2ec",
   "metadata": {},
   "outputs": [
    {
     "data": {
      "text/plain": [
       "Make\n",
       "Unknown                           65\n",
       "Mbb                               62\n",
       "Waco                              60\n",
       "Schempp-hirth                     57\n",
       "Helio                             56\n",
       "Schleicher                        52\n",
       "Ercoupe (eng & Research Corp.)    51\n",
       "Ryan                              48\n",
       "Weatherly                         48\n",
       "Fokker                            47\n",
       "Name: count, dtype: int64"
      ]
     },
     "execution_count": 1273,
     "metadata": {},
     "output_type": "execute_result"
    }
   ],
   "source": [
    "df.loc[df['Make'] == 'Raven Industries', 'Aircraft_Category'] = 'Balloon'\n",
    "\n",
    "df[df['Aircraft_Category'].isna()]['Make'].value_counts().head(10)"
   ]
  },
  {
   "cell_type": "code",
   "execution_count": 1274,
   "id": "bb92ef6c-ff5c-4ca6-880f-b80efb65521a",
   "metadata": {},
   "outputs": [
    {
     "data": {
      "text/plain": [
       "Make\n",
       "Mbb           70\n",
       "MBB            3\n",
       "Mbb-bolkow     1\n",
       "Name: count, dtype: int64"
      ]
     },
     "execution_count": 1274,
     "metadata": {},
     "output_type": "execute_result"
    }
   ],
   "source": [
    "df[df['Make'].str.lower().str.startswith('mbb')].value_counts('Make')"
   ]
  },
  {
   "cell_type": "code",
   "execution_count": 1275,
   "id": "53bb0da9-9e3c-4faa-a1c4-ba1531780867",
   "metadata": {},
   "outputs": [
    {
     "data": {
      "text/plain": [
       "Aircraft_Category\n",
       "NaN           62\n",
       "Helicopter    12\n",
       "Name: count, dtype: int64"
      ]
     },
     "execution_count": 1275,
     "metadata": {},
     "output_type": "execute_result"
    }
   ],
   "source": [
    "df.loc[df['Make'].isin(['MBB', 'Mbb-bolkow']),'Make'] = 'Mbb'\n",
    "\n",
    "df[df['Make'] == 'Mbb'].value_counts('Aircraft_Category', dropna=False)"
   ]
  },
  {
   "cell_type": "code",
   "execution_count": 1276,
   "id": "d73195c1-3ccd-45cb-bde5-e8a38f83fe27",
   "metadata": {},
   "outputs": [
    {
     "data": {
      "text/plain": [
       "Make\n",
       "Unknown                           65\n",
       "Waco                              60\n",
       "Schempp-hirth                     57\n",
       "Helio                             56\n",
       "Schleicher                        52\n",
       "Ercoupe (eng & Research Corp.)    51\n",
       "Weatherly                         48\n",
       "Ryan                              48\n",
       "Cameron                           47\n",
       "Fokker                            47\n",
       "Name: count, dtype: int64"
      ]
     },
     "execution_count": 1276,
     "metadata": {},
     "output_type": "execute_result"
    }
   ],
   "source": [
    "df.loc[df['Make'] == 'Mbb', 'Aircraft_Category'] = 'Helicopter'\n",
    "\n",
    "df[df['Aircraft_Category'].isna()]['Make'].value_counts().head(10)"
   ]
  },
  {
   "cell_type": "code",
   "execution_count": 1277,
   "id": "50c48dbc-8d8f-4474-812a-b03fef94dcf7",
   "metadata": {},
   "outputs": [
    {
     "data": {
      "text/plain": [
       "Make\n",
       "Waco                           114\n",
       "WACO                            24\n",
       "WACO CLASSIC AIRCRAFT            7\n",
       "WACO CLASSIC AIRCRAFT CORP       3\n",
       "Waco Classic Aircraft Corp.      2\n",
       "Waco Classic Aircraft            1\n",
       "Waco Classic Aircraft Corp       1\n",
       "Name: count, dtype: int64"
      ]
     },
     "execution_count": 1277,
     "metadata": {},
     "output_type": "execute_result"
    }
   ],
   "source": [
    "df[df['Make'].str.lower().str.startswith('wac')].value_counts('Make')"
   ]
  },
  {
   "cell_type": "code",
   "execution_count": 1278,
   "id": "cebc949f-fefc-4d36-a538-09ef17436c42",
   "metadata": {},
   "outputs": [
    {
     "data": {
      "text/plain": [
       "Aircraft_Category\n",
       "Airplane    92\n",
       "NaN         60\n",
       "Name: count, dtype: int64"
      ]
     },
     "execution_count": 1278,
     "metadata": {},
     "output_type": "execute_result"
    }
   ],
   "source": [
    "df.loc[df['Make'].isin(['WACO', 'WACO CLASSIC AIRCRAFT', 'WACO CLASSIC AIRCRAFT CORP', 'Waco Classic Aircraft Corp.', 'Waco Classic Aircraft', 'Waco Classic Aircraft Corp']),'Make'] = 'Waco'\n",
    "\n",
    "df[df['Make'] == 'Waco'].value_counts('Aircraft_Category', dropna=False)"
   ]
  },
  {
   "cell_type": "code",
   "execution_count": 1279,
   "id": "99212258-aa96-4ccd-9480-0ca3aecbb538",
   "metadata": {},
   "outputs": [
    {
     "data": {
      "text/plain": [
       "Make\n",
       "Unknown                           65\n",
       "Schempp-hirth                     57\n",
       "Helio                             56\n",
       "Schleicher                        52\n",
       "Ercoupe (eng & Research Corp.)    51\n",
       "Weatherly                         48\n",
       "Ryan                              48\n",
       "Cameron                           47\n",
       "Fokker                            47\n",
       "Smith, Ted Aerostar               46\n",
       "Name: count, dtype: int64"
      ]
     },
     "execution_count": 1279,
     "metadata": {},
     "output_type": "execute_result"
    }
   ],
   "source": [
    "df.loc[df['Make'] == 'Waco', 'Aircraft_Category'] = 'Airplane'\n",
    "\n",
    "df[df['Aircraft_Category'].isna()]['Make'].value_counts().head(10)"
   ]
  },
  {
   "cell_type": "code",
   "execution_count": 1280,
   "id": "adb144da-276f-4e35-bb38-c56bc752b24c",
   "metadata": {},
   "outputs": [
    {
     "data": {
      "text/plain": [
       "Make\n",
       "Schempp-hirth                     67\n",
       "SCHEMPP-HIRTH                     17\n",
       "Schempp Hirth                      6\n",
       "SCHEMPP HIRTH                      4\n",
       "Schempp-Hirth                      3\n",
       "SCHEMPP-HIRTH FLUGZEUGBAU          2\n",
       "SCHEMPP HIRTH FLUGZEUGBAU GMBH     1\n",
       "SCHEMPP-HIRTH FLUGZEUGBAU GMBH     1\n",
       "SCHEMPP-HIRTH K G                  1\n",
       "Schempp-hirth K.g.                 1\n",
       "Name: count, dtype: int64"
      ]
     },
     "execution_count": 1280,
     "metadata": {},
     "output_type": "execute_result"
    }
   ],
   "source": [
    "df[df['Make'].str.lower().str.startswith('schem')].value_counts('Make')"
   ]
  },
  {
   "cell_type": "code",
   "execution_count": 1281,
   "id": "5556265c-3140-4077-bdfa-b34a3b5d6648",
   "metadata": {},
   "outputs": [
    {
     "data": {
      "text/plain": [
       "Aircraft_Category\n",
       "NaN       58\n",
       "Glider    45\n",
       "Name: count, dtype: int64"
      ]
     },
     "execution_count": 1281,
     "metadata": {},
     "output_type": "execute_result"
    }
   ],
   "source": [
    "df.loc[df['Make'].isin(['Schempp-hirth', 'SCHEMPP-HIRTH', 'Schempp Hirth', 'SCHEMPP HIRTH', 'SCHEMPP-HIRTH FLUGZEUGBAU', 'SCHEMPP HIRTH FLUGZEUGBAU GMBH', 'SCHEMPP-HIRTH FLUGZEUGBAU GMBH',\n",
    "                       'SCHEMPP-HIRTH K G', 'Schempp-hirth K.g.']),'Make'] = 'Schempp-Hirth'\n",
    "\n",
    "df[df['Make'] == 'Schempp-Hirth'].value_counts('Aircraft_Category', dropna=False)"
   ]
  },
  {
   "cell_type": "code",
   "execution_count": 1282,
   "id": "c264a593-576d-465f-b7ad-922803f36ab9",
   "metadata": {},
   "outputs": [
    {
     "data": {
      "text/plain": [
       "Make\n",
       "Unknown                           65\n",
       "Helio                             56\n",
       "Schleicher                        52\n",
       "Ercoupe (eng & Research Corp.)    51\n",
       "Ryan                              48\n",
       "Weatherly                         48\n",
       "Cameron                           47\n",
       "Fokker                            47\n",
       "Smith, Ted Aerostar               46\n",
       "Aviat                             45\n",
       "Name: count, dtype: int64"
      ]
     },
     "execution_count": 1282,
     "metadata": {},
     "output_type": "execute_result"
    }
   ],
   "source": [
    "df.loc[df['Make'] == 'Schempp-Hirth', 'Aircraft_Category'] = 'Glider'\n",
    "\n",
    "df[df['Aircraft_Category'].isna()]['Make'].value_counts().head(10)"
   ]
  },
  {
   "cell_type": "code",
   "execution_count": 1283,
   "id": "449bac6c-db57-43ab-a4d8-1055dbbcbf97",
   "metadata": {},
   "outputs": [
    {
     "data": {
      "text/plain": [
       "Make\n",
       "Helio                 94\n",
       "HELIO                 19\n",
       "Helio Aircraft Ltd     1\n",
       "Heliotech              1\n",
       "Name: count, dtype: int64"
      ]
     },
     "execution_count": 1283,
     "metadata": {},
     "output_type": "execute_result"
    }
   ],
   "source": [
    "df[df['Make'].str.lower().str.startswith('helio')].value_counts('Make')"
   ]
  },
  {
   "cell_type": "code",
   "execution_count": 1284,
   "id": "8fed41db-0cc6-430e-baa2-91cb1e4f449b",
   "metadata": {},
   "outputs": [
    {
     "data": {
      "text/plain": [
       "Aircraft_Category\n",
       "Airplane    57\n",
       "NaN         57\n",
       "Name: count, dtype: int64"
      ]
     },
     "execution_count": 1284,
     "metadata": {},
     "output_type": "execute_result"
    }
   ],
   "source": [
    "df.loc[df['Make'].isin(['HELIO', 'Helio Aircraft Ltd']),'Make'] = 'Helio'\n",
    "\n",
    "df[df['Make'] == 'Helio'].value_counts('Aircraft_Category', dropna=False)"
   ]
  },
  {
   "cell_type": "code",
   "execution_count": 1285,
   "id": "be27e280-3d23-4870-8f8d-2223d66b88ce",
   "metadata": {},
   "outputs": [
    {
     "data": {
      "text/plain": [
       "Make\n",
       "Unknown                           65\n",
       "Schleicher                        52\n",
       "Ercoupe (eng & Research Corp.)    51\n",
       "Weatherly                         48\n",
       "Ryan                              48\n",
       "Cameron                           47\n",
       "Fokker                            47\n",
       "Smith, Ted Aerostar               46\n",
       "Aviat                             45\n",
       "Rotorway                          45\n",
       "Name: count, dtype: int64"
      ]
     },
     "execution_count": 1285,
     "metadata": {},
     "output_type": "execute_result"
    }
   ],
   "source": [
    "df.loc[df['Make'] == 'Helio', 'Aircraft_Category'] = 'Airplane'\n",
    "\n",
    "df[df['Aircraft_Category'].isna()]['Make'].value_counts().head(10)"
   ]
  },
  {
   "cell_type": "code",
   "execution_count": 1286,
   "id": "7bb469bb-9d63-4ad6-867a-3b55da9b5f1d",
   "metadata": {},
   "outputs": [
    {
     "data": {
      "text/plain": [
       "Make\n",
       "Schleicher                        95\n",
       "SCHLEICHER                        45\n",
       "SCHLEICHER ALEXANDER GMBH & CO     2\n",
       "SCHLEICHER ALEXANDER               1\n",
       "Schlei                             1\n",
       "Schleicher Alexander Gmbh          1\n",
       "Name: count, dtype: int64"
      ]
     },
     "execution_count": 1286,
     "metadata": {},
     "output_type": "execute_result"
    }
   ],
   "source": [
    "df[df['Make'].str.lower().str.startswith('schlei')].value_counts('Make')"
   ]
  },
  {
   "cell_type": "code",
   "execution_count": 1287,
   "id": "1f5716d6-8c2a-47d0-a300-40299fa1f186",
   "metadata": {},
   "outputs": [
    {
     "data": {
      "text/plain": [
       "Aircraft_Category\n",
       "Glider    96\n",
       "NaN       56\n",
       "Name: count, dtype: int64"
      ]
     },
     "execution_count": 1287,
     "metadata": {},
     "output_type": "execute_result"
    }
   ],
   "source": [
    "df.loc[df['Make'].isin(['ALEXANDER SCHLEICHER GMBH & CO', 'Alexander Schleicher', 'SCHLEICHER', 'SCHLEICHER ALEXANDER GMBH & CO', 'SCHLEICHER ALEXANDER', 'Schlei',\n",
    "                        'Schleicher Alexander Gmbh']),'Make'] = 'Schleicher'\n",
    "\n",
    "df[df['Make'] == 'Schleicher'].value_counts('Aircraft_Category', dropna=False)"
   ]
  },
  {
   "cell_type": "code",
   "execution_count": 1288,
   "id": "dd6f2922-014a-4540-ac77-d20c6e8c7d04",
   "metadata": {},
   "outputs": [
    {
     "data": {
      "text/plain": [
       "Make\n",
       "Unknown                           65\n",
       "Ercoupe (eng & Research Corp.)    51\n",
       "Ryan                              48\n",
       "Weatherly                         48\n",
       "Cameron                           47\n",
       "Fokker                            47\n",
       "Smith, Ted Aerostar               46\n",
       "Rotorway                          45\n",
       "Aviat                             45\n",
       "Gulfstream                        42\n",
       "Name: count, dtype: int64"
      ]
     },
     "execution_count": 1288,
     "metadata": {},
     "output_type": "execute_result"
    }
   ],
   "source": [
    "df.loc[df['Make'] == 'Schleicher', 'Aircraft_Category'] = 'Glider'\n",
    "\n",
    "df[df['Aircraft_Category'].isna()]['Make'].value_counts().head(10)"
   ]
  },
  {
   "cell_type": "code",
   "execution_count": 1289,
   "id": "4c2d5a85-4599-437e-ab43-f168302bd095",
   "metadata": {},
   "outputs": [
    {
     "data": {
      "text/plain": [
       "Make\n",
       "Ercoupe (eng & Research Corp.)    155\n",
       "Ercoupe                            54\n",
       "ERCOUPE                            34\n",
       "Ercoupe (Eng & Research Corp.)      4\n",
       "Name: count, dtype: int64"
      ]
     },
     "execution_count": 1289,
     "metadata": {},
     "output_type": "execute_result"
    }
   ],
   "source": [
    "df[df['Make'].str.lower().str.startswith('ercou')].value_counts('Make')"
   ]
  },
  {
   "cell_type": "code",
   "execution_count": 1290,
   "id": "9500a373-3e9e-41bf-a1cf-8c7372266f83",
   "metadata": {},
   "outputs": [
    {
     "data": {
      "text/plain": [
       "Aircraft_Category\n",
       "Airplane    188\n",
       "NaN          59\n",
       "Name: count, dtype: int64"
      ]
     },
     "execution_count": 1290,
     "metadata": {},
     "output_type": "execute_result"
    }
   ],
   "source": [
    "df.loc[df['Make'].isin(['Ercoupe (eng & Research Corp.)', 'ERCOUPE', 'Ercoupe (Eng & Research Corp.)']),'Make'] = 'Ercoupe'\n",
    "\n",
    "df[df['Make'] == 'Ercoupe'].value_counts('Aircraft_Category', dropna=False)"
   ]
  },
  {
   "cell_type": "code",
   "execution_count": 1291,
   "id": "647b05b1-dd6c-47ba-8f30-d288e27d1523",
   "metadata": {},
   "outputs": [
    {
     "data": {
      "text/plain": [
       "Make\n",
       "Unknown                65\n",
       "Weatherly              48\n",
       "Ryan                   48\n",
       "Cameron                47\n",
       "Fokker                 47\n",
       "Smith, Ted Aerostar    46\n",
       "Aviat                  45\n",
       "Rotorway               45\n",
       "Gulfstream             42\n",
       "Gates Learjet          41\n",
       "Name: count, dtype: int64"
      ]
     },
     "execution_count": 1291,
     "metadata": {},
     "output_type": "execute_result"
    }
   ],
   "source": [
    "df.loc[df['Make'] == 'Ercoupe', 'Aircraft_Category'] = 'Airplane'\n",
    "\n",
    "df[df['Aircraft_Category'].isna()]['Make'].value_counts().head(10)"
   ]
  },
  {
   "cell_type": "code",
   "execution_count": 1292,
   "id": "bc3181ce-f937-4666-b497-a885afe8df96",
   "metadata": {},
   "outputs": [
    {
     "data": {
      "text/plain": [
       "Make\n",
       "Weatherly                         87\n",
       "WEATHERLY AVIATION CO INC          9\n",
       "WEATHERLY                          7\n",
       "Weatherly Aviation Company Inc     1\n",
       "Name: count, dtype: int64"
      ]
     },
     "execution_count": 1292,
     "metadata": {},
     "output_type": "execute_result"
    }
   ],
   "source": [
    "df[df['Make'].str.lower().str.startswith('weatherl')].value_counts('Make')"
   ]
  },
  {
   "cell_type": "code",
   "execution_count": 1293,
   "id": "4890f96c-582d-4f10-a765-47578efb37ee",
   "metadata": {},
   "outputs": [
    {
     "data": {
      "text/plain": [
       "Aircraft_Category\n",
       "Airplane    56\n",
       "NaN         48\n",
       "Name: count, dtype: int64"
      ]
     },
     "execution_count": 1293,
     "metadata": {},
     "output_type": "execute_result"
    }
   ],
   "source": [
    "df.loc[df['Make'].isin(['WEATHERLY AVIATION CO INC', 'WEATHERLY', 'Weatherly Aviation Company Inc']),'Make'] = 'Weatherly'\n",
    "\n",
    "df[df['Make'] == 'Weatherly'].value_counts('Aircraft_Category', dropna=False)"
   ]
  },
  {
   "cell_type": "code",
   "execution_count": 1294,
   "id": "fd906e04-6891-4959-8e56-127e7d2434f4",
   "metadata": {},
   "outputs": [
    {
     "data": {
      "text/plain": [
       "Make\n",
       "Unknown                65\n",
       "Ryan                   48\n",
       "Cameron                47\n",
       "Fokker                 47\n",
       "Smith, Ted Aerostar    46\n",
       "Aviat                  45\n",
       "Rotorway               45\n",
       "Gulfstream             42\n",
       "Gates Learjet          41\n",
       "Eipper                 39\n",
       "Name: count, dtype: int64"
      ]
     },
     "execution_count": 1294,
     "metadata": {},
     "output_type": "execute_result"
    }
   ],
   "source": [
    "df.loc[df['Make'] == 'Weatherly', 'Aircraft_Category'] = 'Airplane'\n",
    "\n",
    "df[df['Aircraft_Category'].isna()]['Make'].value_counts().head(10)"
   ]
  },
  {
   "cell_type": "code",
   "execution_count": 1295,
   "id": "4b3be74c-d785-46b4-a040-7ed2e728e28d",
   "metadata": {},
   "outputs": [
    {
     "data": {
      "text/plain": [
       "Make\n",
       "Ryan                 92\n",
       "RYAN                 16\n",
       "RYAN AERONAUTICAL     7\n",
       "Ryan Aeronautical     3\n",
       "Ryan-navion           3\n",
       "RYAN JOHN STEFFEY     1\n",
       "RYAN W Gross          1\n",
       "Ryan Aeronautics      1\n",
       "Ryan, Robert R.       1\n",
       "Name: count, dtype: int64"
      ]
     },
     "execution_count": 1295,
     "metadata": {},
     "output_type": "execute_result"
    }
   ],
   "source": [
    "df[df['Make'].str.lower().str.startswith('ryan')].value_counts('Make')"
   ]
  },
  {
   "cell_type": "code",
   "execution_count": 1296,
   "id": "bd94292a-85b4-4685-ac6b-28e61fe9d3fc",
   "metadata": {},
   "outputs": [
    {
     "data": {
      "text/plain": [
       "Aircraft_Category\n",
       "Airplane    70\n",
       "NaN         49\n",
       "Name: count, dtype: int64"
      ]
     },
     "execution_count": 1296,
     "metadata": {},
     "output_type": "execute_result"
    }
   ],
   "source": [
    "df.loc[df['Make'].isin(['RYAN', 'RYAN AERONAUTICAL', 'Ryan Aeronautical', 'Ryan Aeronautics']),'Make'] = 'Ryan'\n",
    "\n",
    "df[df['Make'] == 'Ryan'].value_counts('Aircraft_Category', dropna=False)"
   ]
  },
  {
   "cell_type": "code",
   "execution_count": 1297,
   "id": "48aef3a0-65c6-4f7e-9a0d-5f7b978578b3",
   "metadata": {},
   "outputs": [
    {
     "data": {
      "text/plain": [
       "Make\n",
       "Unknown                65\n",
       "Cameron                47\n",
       "Fokker                 47\n",
       "Smith, Ted Aerostar    46\n",
       "Rotorway               45\n",
       "Aviat                  45\n",
       "Gulfstream             42\n",
       "Gates Learjet          41\n",
       "Eipper                 39\n",
       "Canadair               38\n",
       "Name: count, dtype: int64"
      ]
     },
     "execution_count": 1297,
     "metadata": {},
     "output_type": "execute_result"
    }
   ],
   "source": [
    "df.loc[df['Make'] == 'Ryan', 'Aircraft_Category'] = 'Airplane'\n",
    "\n",
    "df[df['Aircraft_Category'].isna()]['Make'].value_counts().head(10)"
   ]
  },
  {
   "cell_type": "code",
   "execution_count": 1298,
   "id": "2798855a-cae6-4af0-8478-800ac33b3160",
   "metadata": {},
   "outputs": [
    {
     "data": {
      "text/plain": [
       "Make\n",
       "Cameron                 54\n",
       "Cameron Balloons        21\n",
       "CAMERON BALLOONS US     12\n",
       "CAMERON                  8\n",
       "CAMERON BALLOONS         4\n",
       "Cameron Balloon          2\n",
       "CAMERON BALLOONS U S     1\n",
       "Cameron Ballon           1\n",
       "Cameron Balloons US      1\n",
       "Cameron Balloons Us      1\n",
       "Name: count, dtype: int64"
      ]
     },
     "execution_count": 1298,
     "metadata": {},
     "output_type": "execute_result"
    }
   ],
   "source": [
    "df[df['Make'].str.lower().str.startswith('camer')].value_counts('Make')"
   ]
  },
  {
   "cell_type": "code",
   "execution_count": 1299,
   "id": "89a16a8c-253e-4c57-9803-2f0e6b0a7916",
   "metadata": {},
   "outputs": [
    {
     "data": {
      "text/plain": [
       "Aircraft_Category\n",
       "NaN         59\n",
       "Balloon     45\n",
       "Airplane     1\n",
       "Name: count, dtype: int64"
      ]
     },
     "execution_count": 1299,
     "metadata": {},
     "output_type": "execute_result"
    }
   ],
   "source": [
    "df.loc[df['Make'].isin(['Cameron Balloons', 'CAMERON BALLOONS US', 'CAMERON', 'CAMERON BALLOONS', 'Cameron Balloon', 'CAMERON BALLOONS U S', 'Cameron Ballon', 'Cameron Balloons US',\n",
    "                       'Cameron Balloons Us']),'Make'] = 'Cameron'\n",
    "\n",
    "df[df['Make'] == 'Cameron'].value_counts('Aircraft_Category', dropna=False)"
   ]
  },
  {
   "cell_type": "code",
   "execution_count": 1300,
   "id": "9b97df17-f12e-4fc9-8c01-115aec5bc8c5",
   "metadata": {},
   "outputs": [
    {
     "data": {
      "text/plain": [
       "Make\n",
       "Unknown                  65\n",
       "Fokker                   47\n",
       "Smith, Ted Aerostar      46\n",
       "Rotorway                 45\n",
       "Aviat                    45\n",
       "Gulfstream               42\n",
       "Gates Learjet            41\n",
       "Eipper                   39\n",
       "Canadair                 38\n",
       "Saab-scania Ab (saab)    38\n",
       "Name: count, dtype: int64"
      ]
     },
     "execution_count": 1300,
     "metadata": {},
     "output_type": "execute_result"
    }
   ],
   "source": [
    "df.loc[df['Make'] == 'Cameron', 'Aircraft_Category'] = 'Balloon'\n",
    "\n",
    "df[df['Aircraft_Category'].isna()]['Make'].value_counts().head(10)"
   ]
  },
  {
   "cell_type": "code",
   "execution_count": 1301,
   "id": "e195d644-3936-43a0-aaf0-86855fdb7611",
   "metadata": {},
   "outputs": [
    {
     "data": {
      "text/plain": [
       "Make\n",
       "Fokker    56\n",
       "FOKKER     8\n",
       "Name: count, dtype: int64"
      ]
     },
     "execution_count": 1301,
     "metadata": {},
     "output_type": "execute_result"
    }
   ],
   "source": [
    "df[df['Make'].str.lower().str.startswith('fokk')].value_counts('Make')"
   ]
  },
  {
   "cell_type": "code",
   "execution_count": 1302,
   "id": "8259d6d4-5306-4a99-9cf0-ad223565b442",
   "metadata": {},
   "outputs": [
    {
     "data": {
      "text/plain": [
       "Aircraft_Category\n",
       "NaN         47\n",
       "Airplane    17\n",
       "Name: count, dtype: int64"
      ]
     },
     "execution_count": 1302,
     "metadata": {},
     "output_type": "execute_result"
    }
   ],
   "source": [
    "df.loc[df['Make'].isin(['FOKKER']),'Make'] = 'Fokker'\n",
    "\n",
    "df[df['Make'] == 'Fokker'].value_counts('Aircraft_Category', dropna=False)"
   ]
  },
  {
   "cell_type": "code",
   "execution_count": 1303,
   "id": "d7b75505-2448-47ef-a0b0-d6d46e1de735",
   "metadata": {},
   "outputs": [
    {
     "data": {
      "text/plain": [
       "Make\n",
       "Unknown                  65\n",
       "Smith, Ted Aerostar      46\n",
       "Aviat                    45\n",
       "Rotorway                 45\n",
       "Gulfstream               42\n",
       "Gates Learjet            41\n",
       "Eipper                   39\n",
       "Canadair                 38\n",
       "Saab-scania Ab (saab)    38\n",
       "Wsk Pzl Mielec           37\n",
       "Name: count, dtype: int64"
      ]
     },
     "execution_count": 1303,
     "metadata": {},
     "output_type": "execute_result"
    }
   ],
   "source": [
    "df.loc[df['Make'] == 'Fokker', 'Aircraft_Category'] = 'Airplane'\n",
    "\n",
    "df[df['Aircraft_Category'].isna()]['Make'].value_counts().head(10)"
   ]
  },
  {
   "cell_type": "code",
   "execution_count": 1304,
   "id": "28ecc4a0-bec4-4aa5-8d02-db8889c16c1e",
   "metadata": {},
   "outputs": [
    {
     "data": {
      "text/plain": [
       "Make\n",
       "Smith, Ted Aerostar    50\n",
       "Name: count, dtype: int64"
      ]
     },
     "execution_count": 1304,
     "metadata": {},
     "output_type": "execute_result"
    }
   ],
   "source": [
    "df[df['Make'].str.lower().str.startswith('smith, ted a')].value_counts('Make')"
   ]
  },
  {
   "cell_type": "code",
   "execution_count": 1305,
   "id": "57f88702-70cd-4f23-bd30-aa028b1f7c18",
   "metadata": {},
   "outputs": [
    {
     "data": {
      "text/plain": [
       "Aircraft_Category\n",
       "NaN         46\n",
       "Airplane     7\n",
       "Name: count, dtype: int64"
      ]
     },
     "execution_count": 1305,
     "metadata": {},
     "output_type": "execute_result"
    }
   ],
   "source": [
    "df.loc[df['Make'].isin(['Smith, Ted Aerostar', 'Ted Smith']),'Make'] = 'Ted Smith Aerostar'\n",
    "\n",
    "df[df['Make'] == 'Ted Smith Aerostar'].value_counts('Aircraft_Category', dropna=False)"
   ]
  },
  {
   "cell_type": "code",
   "execution_count": 1306,
   "id": "76a29e30-15af-41c6-a944-65285735f73e",
   "metadata": {},
   "outputs": [
    {
     "data": {
      "text/plain": [
       "Make\n",
       "Unknown                  65\n",
       "Rotorway                 45\n",
       "Aviat                    45\n",
       "Gulfstream               42\n",
       "Gates Learjet            41\n",
       "Eipper                   39\n",
       "Canadair                 38\n",
       "Saab-scania Ab (saab)    38\n",
       "Wsk Pzl Mielec           37\n",
       "Aerotek                  35\n",
       "Name: count, dtype: int64"
      ]
     },
     "execution_count": 1306,
     "metadata": {},
     "output_type": "execute_result"
    }
   ],
   "source": [
    "df.loc[df['Make'] == 'Ted Smith Aerostar', 'Aircraft_Category'] = 'Airplane'\n",
    "\n",
    "df[df['Aircraft_Category'].isna()]['Make'].value_counts().head(10)"
   ]
  },
  {
   "cell_type": "code",
   "execution_count": 1307,
   "id": "2eb0b2cf-960a-430c-a8db-8771246a5edf",
   "metadata": {},
   "outputs": [
    {
     "data": {
      "text/plain": [
       "Make\n",
       "Rotorway                   56\n",
       "ROTORWAY                   12\n",
       "Rotorway Aircraft, Inc.     1\n",
       "Rotorway Executive          1\n",
       "Name: count, dtype: int64"
      ]
     },
     "execution_count": 1307,
     "metadata": {},
     "output_type": "execute_result"
    }
   ],
   "source": [
    "df[df['Make'].str.lower().str.startswith('rotorw')].value_counts('Make')"
   ]
  },
  {
   "cell_type": "code",
   "execution_count": 1308,
   "id": "714e009d-602a-4cd7-8104-744649e6545c",
   "metadata": {},
   "outputs": [
    {
     "data": {
      "text/plain": [
       "Aircraft_Category\n",
       "NaN           45\n",
       "Helicopter    25\n",
       "Name: count, dtype: int64"
      ]
     },
     "execution_count": 1308,
     "metadata": {},
     "output_type": "execute_result"
    }
   ],
   "source": [
    "df.loc[df['Make'].isin(['ROTORWAY', 'Rotorway Aircraft, Inc.', 'Rotorway Executive']),'Make'] = 'Rotorway'\n",
    "\n",
    "df[df['Make'] == 'Rotorway'].value_counts('Aircraft_Category', dropna=False)"
   ]
  },
  {
   "cell_type": "code",
   "execution_count": 1309,
   "id": "a539361a-a280-4dd4-b5fe-1a5389588faa",
   "metadata": {},
   "outputs": [
    {
     "data": {
      "text/plain": [
       "Make\n",
       "Unknown                  65\n",
       "Aviat                    45\n",
       "Gulfstream               42\n",
       "Gates Learjet            41\n",
       "Eipper                   39\n",
       "Canadair                 38\n",
       "Saab-scania Ab (saab)    38\n",
       "Wsk Pzl Mielec           37\n",
       "Aerotek                  35\n",
       "Convair                  34\n",
       "Name: count, dtype: int64"
      ]
     },
     "execution_count": 1309,
     "metadata": {},
     "output_type": "execute_result"
    }
   ],
   "source": [
    "df.loc[df['Make'] == 'Rotorway', 'Aircraft_Category'] = 'Helicopter'\n",
    "\n",
    "df[df['Aircraft_Category'].isna()]['Make'].value_counts().head(10)"
   ]
  },
  {
   "cell_type": "code",
   "execution_count": 1310,
   "id": "e0b67124-1c55-4bd9-a951-6b5b9f821858",
   "metadata": {},
   "outputs": [
    {
     "data": {
      "text/plain": [
       "Make\n",
       "Aviat                             112\n",
       "AVIAT AIRCRAFT INC                 72\n",
       "AVIAT                              28\n",
       "AVIAT INC                           8\n",
       "Aviat Aircraft Inc                  5\n",
       "Aviat Aircraft Inc.                 2\n",
       "Aviat Inc                           2\n",
       "Aviation International Rotors       2\n",
       "AVIAT AIRCRAFT                      1\n",
       "AVIATE                              1\n",
       "Aviat Aircraft, Inc.                1\n",
       "Aviation Adv.                       1\n",
       "Aviation Specialties Unlimited      1\n",
       "Name: count, dtype: int64"
      ]
     },
     "execution_count": 1310,
     "metadata": {},
     "output_type": "execute_result"
    }
   ],
   "source": [
    "df[df['Make'].str.lower().str.startswith('aviat')].value_counts('Make')"
   ]
  },
  {
   "cell_type": "code",
   "execution_count": 1311,
   "id": "79e6a7d6-3d03-4aaa-9463-7eca952ced0f",
   "metadata": {},
   "outputs": [
    {
     "data": {
      "text/plain": [
       "Aircraft_Category\n",
       "Airplane        185\n",
       "NaN              46\n",
       "Weight-Shift      1\n",
       "Name: count, dtype: int64"
      ]
     },
     "execution_count": 1311,
     "metadata": {},
     "output_type": "execute_result"
    }
   ],
   "source": [
    "df.loc[df['Make'].isin(['AVIAT', 'AVIAT AIRCRAFT', 'AVIAT AIRCRAFT INC', 'Aviat Aircraft Inc', 'Aviat Aircraft Inc.', 'Aviat Aircraft, Inc.',\n",
    "                       'AVIAT INC', 'Aviat Inc', 'AVIATE']),'Make'] = 'Aviat'\n",
    "\n",
    "df[df['Make'] == 'Aviat'].value_counts('Aircraft_Category', dropna=False)"
   ]
  },
  {
   "cell_type": "code",
   "execution_count": 1312,
   "id": "fcc6ecb6-af4c-4513-a652-83b5d3bc09bb",
   "metadata": {},
   "outputs": [
    {
     "data": {
      "text/plain": [
       "Make\n",
       "Unknown                  65\n",
       "Gulfstream               42\n",
       "Gates Learjet            41\n",
       "Eipper                   39\n",
       "Canadair                 38\n",
       "Saab-scania Ab (saab)    38\n",
       "Wsk Pzl Mielec           37\n",
       "Aerotek                  35\n",
       "Navion                   34\n",
       "Convair                  34\n",
       "Name: count, dtype: int64"
      ]
     },
     "execution_count": 1312,
     "metadata": {},
     "output_type": "execute_result"
    }
   ],
   "source": [
    "df.loc[df['Make'] == 'Aviat', 'Aircraft_Category'] = 'Airplane'\n",
    "\n",
    "df[df['Aircraft_Category'].isna()]['Make'].value_counts().head(10)"
   ]
  },
  {
   "cell_type": "code",
   "execution_count": 1313,
   "id": "ff00005c-17de-40de-a8eb-aa7b003402a4",
   "metadata": {},
   "outputs": [
    {
     "data": {
      "text/plain": [
       "Make\n",
       "Gulfstream                       62\n",
       "Gulfstream American              55\n",
       "GULFSTREAM                       24\n",
       "Gulfstream-schweizer             22\n",
       "Gulfstream Aerospace             17\n",
       "GULFSTREAM AEROSPACE             12\n",
       "GULFSTREAM-SCHWEIZER A/C CORP     9\n",
       "GULFSTREAM AMERICAN CORP          9\n",
       "Gulfstream-Schweizer              3\n",
       "GULFSTREAM AMERICAN CORP.         2\n",
       "GULFSTREAM AM CORP COMM DIV       2\n",
       "Gulfstream American Corp          2\n",
       "Gulfstream American Corp.         2\n",
       "GULFSTREAM SCHWEIZER A/C CORP     1\n",
       "GULFSTREAM-SCHWEIZER              1\n",
       "Gulfstream Aerospace Corp         1\n",
       "Gulfstream Aerospace Corp.        1\n",
       "Gulfstream Aerospace LP           1\n",
       "Name: count, dtype: int64"
      ]
     },
     "execution_count": 1313,
     "metadata": {},
     "output_type": "execute_result"
    }
   ],
   "source": [
    "df[df['Make'].str.lower().str.startswith('gulfs')].value_counts('Make')"
   ]
  },
  {
   "cell_type": "code",
   "execution_count": 1314,
   "id": "2437d72b-faf3-4673-bc40-20a5b485dfdc",
   "metadata": {},
   "outputs": [
    {
     "data": {
      "text/plain": [
       "Aircraft_Category\n",
       "Airplane    136\n",
       "NaN          90\n",
       "Name: count, dtype: int64"
      ]
     },
     "execution_count": 1314,
     "metadata": {},
     "output_type": "execute_result"
    }
   ],
   "source": [
    "df.loc[df['Make'].isin(['GULFSTREAM', 'Gulfstream Aerospace', 'GULFSTREAM AEROSPACE', 'Gulfstream Aerospace Corp', 'Gulfstream Aerospace Corp.',\n",
    "                       'Gulfstream Aerospace LP', 'GULFSTREAM AM CORP COMM DIV', 'Gulfstream American', 'GULFSTREAM AMERICAN CORP',\n",
    "                       'Gulfstream American Corp', 'GULFSTREAM AMERICAN CORP.', 'Gulfstream American Corp.', 'GULFSTREAM SCHWEIZER A/C CORP',\n",
    "                       'Gulfstream-schweizer', 'Gulfstream-Schweizer', 'GULFSTREAM-SCHWEIZER', 'GULFSTREAM-SCHWEIZER A/C CORP']),'Make'] = 'Gulfstream'\n",
    "\n",
    "df[df['Make'] == 'Gulfstream'].value_counts('Aircraft_Category', dropna=False)"
   ]
  },
  {
   "cell_type": "code",
   "execution_count": 1315,
   "id": "68006667-5a92-44aa-8b21-ed2ddae70403",
   "metadata": {},
   "outputs": [
    {
     "data": {
      "text/plain": [
       "Make\n",
       "Unknown                  65\n",
       "Gates Learjet            41\n",
       "Eipper                   39\n",
       "Canadair                 38\n",
       "Saab-scania Ab (saab)    38\n",
       "Wsk Pzl Mielec           37\n",
       "Aerotek                  35\n",
       "Navion                   34\n",
       "Luscombe                 34\n",
       "Eurocopter               34\n",
       "Name: count, dtype: int64"
      ]
     },
     "execution_count": 1315,
     "metadata": {},
     "output_type": "execute_result"
    }
   ],
   "source": [
    "df.loc[df['Make'] == 'Gulfstream', 'Aircraft_Category'] = 'Airplane'\n",
    "\n",
    "df[df['Aircraft_Category'].isna()]['Make'].value_counts().head(10)"
   ]
  },
  {
   "cell_type": "code",
   "execution_count": 1316,
   "id": "314a5c90-ebe2-4eaf-9b33-c3e037b3be26",
   "metadata": {},
   "outputs": [
    {
     "name": "stderr",
     "output_type": "stream",
     "text": [
      "C:\\Users\\joeyc\\anaconda3\\Lib\\site-packages\\IPython\\core\\displayhook.py:281: UserWarning: Output cache limit (currently 1000 entries) hit.\n",
      "Flushing oldest 200 entries.\n",
      "  warn('Output cache limit (currently {sz} entries) hit.\\n'\n"
     ]
    },
    {
     "data": {
      "text/plain": [
       "Make\n",
       "Gates Learjet                63\n",
       "GATES LEARJET CORP.           8\n",
       "GATES LEAR JET                5\n",
       "GATES LEAR JET CORP.          2\n",
       "GATES LEARJET                 1\n",
       "GATES LEARJET CORP            1\n",
       "Gates Lear Jet                1\n",
       "Gates Learjet Corporation     1\n",
       "Name: count, dtype: int64"
      ]
     },
     "execution_count": 1316,
     "metadata": {},
     "output_type": "execute_result"
    }
   ],
   "source": [
    "df[df['Make'].str.lower().str.startswith('gates')].value_counts('Make')"
   ]
  },
  {
   "cell_type": "code",
   "execution_count": 1317,
   "id": "9f8b9c2e-e790-4043-9f78-e6c7b7d4ccc9",
   "metadata": {},
   "outputs": [
    {
     "data": {
      "text/plain": [
       "Aircraft_Category\n",
       "Airplane    41\n",
       "NaN         41\n",
       "Name: count, dtype: int64"
      ]
     },
     "execution_count": 1317,
     "metadata": {},
     "output_type": "execute_result"
    }
   ],
   "source": [
    "df.loc[df['Make'].isin(['GATES LEARJET CORP.', 'GATES LEAR JET', 'GATES LEAR JET CORP.', 'GATES LEARJET', 'GATES LEARJET CORP',\n",
    "                        'Gates Lear Jet', 'Gates Learjet Corporation']),'Make'] = 'Gates Learjet'\n",
    "\n",
    "df[df['Make'] == 'Gates Learjet'].value_counts('Aircraft_Category', dropna=False)"
   ]
  },
  {
   "cell_type": "code",
   "execution_count": 1318,
   "id": "81067b5f-7f77-4e63-a9c1-321e029df989",
   "metadata": {},
   "outputs": [
    {
     "data": {
      "text/plain": [
       "Make\n",
       "Unknown                  65\n",
       "Eipper                   39\n",
       "Canadair                 38\n",
       "Saab-scania Ab (saab)    38\n",
       "Wsk Pzl Mielec           37\n",
       "Aerotek                  35\n",
       "Convair                  34\n",
       "Luscombe                 34\n",
       "Eurocopter               34\n",
       "Navion                   34\n",
       "Name: count, dtype: int64"
      ]
     },
     "execution_count": 1318,
     "metadata": {},
     "output_type": "execute_result"
    }
   ],
   "source": [
    "df.loc[df['Make'] == 'Gates Learjet', 'Aircraft_Category'] = 'Airplane'\n",
    "\n",
    "df[df['Aircraft_Category'].isna()]['Make'].value_counts().head(10)"
   ]
  },
  {
   "cell_type": "code",
   "execution_count": 1319,
   "id": "eddeccd7-9bf8-4be1-b9d9-63ff2bd8befa",
   "metadata": {},
   "outputs": [
    {
     "data": {
      "text/plain": [
       "Make\n",
       "Eipper                      43\n",
       "EIPPER                       3\n",
       "EIPPER FORMANCE INC          1\n",
       "Eippen Aircraft              1\n",
       "Eipper Formance              1\n",
       "Eipper Mx Ii Quicksilver     1\n",
       "Eipper Quicksilver           1\n",
       "Eipper Quicksiver E          1\n",
       "Eipper-formance              1\n",
       "Name: count, dtype: int64"
      ]
     },
     "execution_count": 1319,
     "metadata": {},
     "output_type": "execute_result"
    }
   ],
   "source": [
    "df[df['Make'].str.lower().str.startswith('eipp')].value_counts('Make')"
   ]
  },
  {
   "cell_type": "code",
   "execution_count": 1320,
   "id": "ce5a3207-1a8a-4927-a28a-401911d3370d",
   "metadata": {},
   "outputs": [
    {
     "data": {
      "text/plain": [
       "Aircraft_Category\n",
       "NaN           43\n",
       "Airplane       9\n",
       "Ultralight     1\n",
       "Name: count, dtype: int64"
      ]
     },
     "execution_count": 1320,
     "metadata": {},
     "output_type": "execute_result"
    }
   ],
   "source": [
    "df.loc[df['Make'].isin(['EIPPER', 'EIPPER FORMANCE INC', 'Eippen Aircraft', 'Eipper Formance', 'Eipper Mx Ii Quicksilver', 'Eipper Quicksilver',\n",
    "                       'Eipper Quicksiver E', 'Eipper-formance']),'Make'] = 'Eipper'\n",
    "\n",
    "df[df['Make'] == 'Eipper'].value_counts('Aircraft_Category', dropna=False)"
   ]
  },
  {
   "cell_type": "code",
   "execution_count": 1321,
   "id": "d9d56d40-9827-4453-90dc-796bb4388d9b",
   "metadata": {},
   "outputs": [
    {
     "data": {
      "text/plain": [
       "Make\n",
       "Unknown                  65\n",
       "Saab-scania Ab (saab)    38\n",
       "Canadair                 38\n",
       "Wsk Pzl Mielec           37\n",
       "Aerotek                  35\n",
       "Navion                   34\n",
       "Luscombe                 34\n",
       "Eurocopter               34\n",
       "Convair                  34\n",
       "Rolladen-schneider       33\n",
       "Name: count, dtype: int64"
      ]
     },
     "execution_count": 1321,
     "metadata": {},
     "output_type": "execute_result"
    }
   ],
   "source": [
    "df.loc[df['Make'] == 'Eipper', 'Aircraft_Category'] = 'Airplane'\n",
    "\n",
    "df[df['Aircraft_Category'].isna()]['Make'].value_counts().head(10)"
   ]
  },
  {
   "cell_type": "code",
   "execution_count": 1322,
   "id": "f9bf6eb8-4817-4e23-8929-4a881bc58a10",
   "metadata": {},
   "outputs": [
    {
     "data": {
      "text/plain": [
       "Make\n",
       "Saab-scania Ab (saab)    43\n",
       "SAAB                     16\n",
       "Saab                      6\n",
       "Saab-fairchild            6\n",
       "Saab-scania               2\n",
       "SAAB-SCANIA               1\n",
       "SAAB-SCANIA AB            1\n",
       "Saab-Scania AB (Saab)     1\n",
       "Saabye                    1\n",
       "Name: count, dtype: int64"
      ]
     },
     "execution_count": 1322,
     "metadata": {},
     "output_type": "execute_result"
    }
   ],
   "source": [
    "df[df['Make'].str.lower().str.startswith('saab')].value_counts('Make')"
   ]
  },
  {
   "cell_type": "code",
   "execution_count": 1323,
   "id": "e5961532-23ac-4a34-84e1-0601e242d05f",
   "metadata": {},
   "outputs": [
    {
     "data": {
      "text/plain": [
       "Aircraft_Category\n",
       "NaN         55\n",
       "Airplane    21\n",
       "Name: count, dtype: int64"
      ]
     },
     "execution_count": 1323,
     "metadata": {},
     "output_type": "execute_result"
    }
   ],
   "source": [
    "df.loc[df['Make'].isin(['Saab-scania Ab (saab)', 'SAAB', 'Saab-fairchild', 'Saab-scania', 'SAAB-SCANIA', 'SAAB-SCANIA AB',\n",
    "                        'Saab-Scania AB (Saab)']),'Make'] = 'Saab'\n",
    "\n",
    "df[df['Make'] == 'Saab'].value_counts('Aircraft_Category', dropna=False)"
   ]
  },
  {
   "cell_type": "code",
   "execution_count": 1324,
   "id": "a29bd5ba-d7a7-4daf-9c78-19519da51d72",
   "metadata": {},
   "outputs": [
    {
     "data": {
      "text/plain": [
       "Make\n",
       "Unknown               65\n",
       "Canadair              38\n",
       "Wsk Pzl Mielec        37\n",
       "Aerotek               35\n",
       "Convair               34\n",
       "Luscombe              34\n",
       "Navion                34\n",
       "Eurocopter            34\n",
       "Stinson               33\n",
       "Rolladen-schneider    33\n",
       "Name: count, dtype: int64"
      ]
     },
     "execution_count": 1324,
     "metadata": {},
     "output_type": "execute_result"
    }
   ],
   "source": [
    "df.loc[df['Make'] == 'Saab', 'Aircraft_Category'] = 'Airplane'\n",
    "\n",
    "df[df['Aircraft_Category'].isna()]['Make'].value_counts().head(10)"
   ]
  },
  {
   "cell_type": "code",
   "execution_count": 1325,
   "id": "bffcd7fe-f15f-4c1b-91b2-404790663b09",
   "metadata": {},
   "outputs": [
    {
     "data": {
      "text/plain": [
       "Make\n",
       "Canadair        62\n",
       "CANADAIR         6\n",
       "CANADAIR LTD     4\n",
       "Name: count, dtype: int64"
      ]
     },
     "execution_count": 1325,
     "metadata": {},
     "output_type": "execute_result"
    }
   ],
   "source": [
    "df[df['Make'].str.lower().str.startswith('canada')].value_counts('Make')"
   ]
  },
  {
   "cell_type": "code",
   "execution_count": 1326,
   "id": "374ba1b8-9cd4-4288-9bdc-03a54e402144",
   "metadata": {},
   "outputs": [
    {
     "data": {
      "text/plain": [
       "Aircraft_Category\n",
       "NaN         38\n",
       "Airplane    34\n",
       "Name: count, dtype: int64"
      ]
     },
     "execution_count": 1326,
     "metadata": {},
     "output_type": "execute_result"
    }
   ],
   "source": [
    "df.loc[df['Make'].isin(['CANADAIR', 'CANADAIR LTD']),'Make'] = 'Canadair'\n",
    "\n",
    "df[df['Make'] == 'Canadair'].value_counts('Aircraft_Category', dropna=False)"
   ]
  },
  {
   "cell_type": "code",
   "execution_count": 1327,
   "id": "cf8ea7b8-0872-4632-877c-5ccadee8fc03",
   "metadata": {},
   "outputs": [
    {
     "data": {
      "text/plain": [
       "Make\n",
       "Unknown               65\n",
       "Wsk Pzl Mielec        37\n",
       "Aerotek               35\n",
       "Eurocopter            34\n",
       "Navion                34\n",
       "Convair               34\n",
       "Luscombe              34\n",
       "Rolladen-schneider    33\n",
       "Stinson               33\n",
       "Britten-norman        32\n",
       "Name: count, dtype: int64"
      ]
     },
     "execution_count": 1327,
     "metadata": {},
     "output_type": "execute_result"
    }
   ],
   "source": [
    "df.loc[df['Make'] == 'Canadair', 'Aircraft_Category'] = 'Airplane'\n",
    "\n",
    "df[df['Aircraft_Category'].isna()]['Make'].value_counts().head(10)"
   ]
  },
  {
   "cell_type": "code",
   "execution_count": 1328,
   "id": "655fc346-a0ab-40ef-ad76-1d6525a2edae",
   "metadata": {},
   "outputs": [
    {
     "data": {
      "text/plain": [
       "Make\n",
       "Wsk Pzl Mielec            77\n",
       "WSK PZL MIELEC            11\n",
       "Wsk Pzl                    4\n",
       "Wsk Pzl Krosno             4\n",
       "Wsk Pzl Warzawa-okecie     4\n",
       "WSK-MIELEC                 2\n",
       "WSK-PZL WARZAWA-OKECIE     2\n",
       "Wsk                        2\n",
       "WSK-PZL MEILEC             1\n",
       "Wsk Pzl Swidnik            1\n",
       "Wsk Pzl-krosno             1\n",
       "Wsk-pzl Mielec             1\n",
       "Wsk-pzl Mielic             1\n",
       "Wsk-pzl Warzawaokecie      1\n",
       "Name: count, dtype: int64"
      ]
     },
     "execution_count": 1328,
     "metadata": {},
     "output_type": "execute_result"
    }
   ],
   "source": [
    "df[df['Make'].str.lower().str.startswith('wsk')].value_counts('Make')"
   ]
  },
  {
   "cell_type": "code",
   "execution_count": 1329,
   "id": "4330aae3-6603-4ffc-a51b-10565e117eee",
   "metadata": {},
   "outputs": [
    {
     "data": {
      "text/plain": [
       "Aircraft_Category\n",
       "Airplane    56\n",
       "NaN         43\n",
       "Name: count, dtype: int64"
      ]
     },
     "execution_count": 1329,
     "metadata": {},
     "output_type": "execute_result"
    }
   ],
   "source": [
    "df.loc[df['Make'].isin(['Wsk', 'Wsk Pzl', 'WSK PZL MIELEC', 'WSK-MIELEC', 'WSK-PZL MEILEC', 'Wsk-pzl Mielec',\n",
    "                        'Wsk-pzl Mielic']),'Make'] = 'Wsk Pzl Mielec'\n",
    "\n",
    "df[df['Make'] == 'Wsk Pzl Mielec'].value_counts('Aircraft_Category', dropna=False)"
   ]
  },
  {
   "cell_type": "code",
   "execution_count": 1330,
   "id": "d510cadf-f93d-4bb4-a57e-99edddf429c0",
   "metadata": {},
   "outputs": [
    {
     "data": {
      "text/plain": [
       "Make\n",
       "Unknown               65\n",
       "Aerotek               35\n",
       "Convair               34\n",
       "Luscombe              34\n",
       "Navion                34\n",
       "Eurocopter            34\n",
       "Rolladen-schneider    33\n",
       "Stinson               33\n",
       "Socata                32\n",
       "Britten-norman        32\n",
       "Name: count, dtype: int64"
      ]
     },
     "execution_count": 1330,
     "metadata": {},
     "output_type": "execute_result"
    }
   ],
   "source": [
    "df.loc[df['Make'] == 'Wsk Pzl Mielec', 'Aircraft_Category'] = 'Airplane'\n",
    "\n",
    "df[df['Aircraft_Category'].isna()]['Make'].value_counts().head(10)"
   ]
  },
  {
   "cell_type": "code",
   "execution_count": 1331,
   "id": "0a9dcc3b-576d-4a68-a38b-6afb28ae9d1e",
   "metadata": {},
   "outputs": [
    {
     "data": {
      "text/plain": [
       "Make\n",
       "Aerotek          38\n",
       "AEROTEK           8\n",
       "Aerotrike         4\n",
       "Aerotechnik       3\n",
       "AEROTRIKE         2\n",
       "AEROTECHNIK       1\n",
       "AEROTEK INC       1\n",
       "Aerotek-pitts     1\n",
       "Aerotrek          1\n",
       "Name: count, dtype: int64"
      ]
     },
     "execution_count": 1331,
     "metadata": {},
     "output_type": "execute_result"
    }
   ],
   "source": [
    "df[df['Make'].str.lower().str.startswith('aerot')].value_counts('Make')"
   ]
  },
  {
   "cell_type": "code",
   "execution_count": 1332,
   "id": "deeabdd2-9635-453b-9f08-e54336893263",
   "metadata": {},
   "outputs": [
    {
     "data": {
      "text/plain": [
       "Aircraft_Category\n",
       "NaN         35\n",
       "Airplane    14\n",
       "Name: count, dtype: int64"
      ]
     },
     "execution_count": 1332,
     "metadata": {},
     "output_type": "execute_result"
    }
   ],
   "source": [
    "df.loc[df['Make'].isin(['AEROTEK', 'AEROTEK INC', 'Aerotek-pitts', 'Aerotrek']),'Make'] = 'Aerotek'\n",
    "\n",
    "df[df['Make'] == 'Aerotek'].value_counts('Aircraft_Category', dropna=False)"
   ]
  },
  {
   "cell_type": "code",
   "execution_count": 1333,
   "id": "008f879e-0dfd-4e9f-b98f-16c5a0341ca3",
   "metadata": {},
   "outputs": [
    {
     "data": {
      "text/plain": [
       "Make\n",
       "Unknown               65\n",
       "Convair               34\n",
       "Eurocopter            34\n",
       "Navion                34\n",
       "Luscombe              34\n",
       "Stinson               33\n",
       "Rolladen-schneider    33\n",
       "Socata                32\n",
       "Britten-norman        32\n",
       "Kaman                 31\n",
       "Name: count, dtype: int64"
      ]
     },
     "execution_count": 1333,
     "metadata": {},
     "output_type": "execute_result"
    }
   ],
   "source": [
    "df.loc[df['Make'] == 'Aerotek', 'Aircraft_Category'] = 'Airplane'\n",
    "\n",
    "df[df['Aircraft_Category'].isna()]['Make'].value_counts().head(10)"
   ]
  },
  {
   "cell_type": "code",
   "execution_count": 1334,
   "id": "b0fa094d-1f76-4ff5-9b1e-d6e3b136343e",
   "metadata": {},
   "outputs": [
    {
     "data": {
      "text/plain": [
       "Make\n",
       "Convair                          39\n",
       "Convair Div. Of Gen. Dynamics     6\n",
       "CONVAIR                           4\n",
       "Name: count, dtype: int64"
      ]
     },
     "execution_count": 1334,
     "metadata": {},
     "output_type": "execute_result"
    }
   ],
   "source": [
    "df[df['Make'].str.lower().str.startswith('conv')].value_counts('Make')"
   ]
  },
  {
   "cell_type": "code",
   "execution_count": 1335,
   "id": "70395504-38e0-4910-8e88-1e1ae8475201",
   "metadata": {},
   "outputs": [
    {
     "data": {
      "text/plain": [
       "Aircraft_Category\n",
       "NaN         40\n",
       "Airplane     9\n",
       "Name: count, dtype: int64"
      ]
     },
     "execution_count": 1335,
     "metadata": {},
     "output_type": "execute_result"
    }
   ],
   "source": [
    "df.loc[df['Make'].isin(['Convair Div. Of Gen. Dynamics', 'CONVAIR']),'Make'] = 'Convair'\n",
    "\n",
    "df[df['Make'] == 'Convair'].value_counts('Aircraft_Category', dropna=False)"
   ]
  },
  {
   "cell_type": "code",
   "execution_count": 1336,
   "id": "45a5215a-b776-4cf9-b77f-ae01970d9868",
   "metadata": {},
   "outputs": [
    {
     "data": {
      "text/plain": [
       "Make\n",
       "Unknown               65\n",
       "Navion                34\n",
       "Luscombe              34\n",
       "Eurocopter            34\n",
       "Rolladen-schneider    33\n",
       "Stinson               33\n",
       "Britten-norman        32\n",
       "Socata                32\n",
       "Kaman                 31\n",
       "Short Brothers        30\n",
       "Name: count, dtype: int64"
      ]
     },
     "execution_count": 1336,
     "metadata": {},
     "output_type": "execute_result"
    }
   ],
   "source": [
    "df.loc[df['Make'] == 'Convair', 'Aircraft_Category'] = 'Airplane'\n",
    "\n",
    "df[df['Aircraft_Category'].isna()]['Make'].value_counts().head(10)"
   ]
  },
  {
   "cell_type": "code",
   "execution_count": 1337,
   "id": "4ad86bd3-4e90-408b-9ec5-f39dc24e9627",
   "metadata": {},
   "outputs": [
    {
     "data": {
      "text/plain": [
       "Aircraft_Category\n",
       "Airplane             72138\n",
       "Helicopter            7484\n",
       "NaN                   6137\n",
       "Glider                1096\n",
       "Balloon                582\n",
       "Gyrocraft              188\n",
       "Weight-Shift           160\n",
       "Powered Parachute       90\n",
       "Ultralight              48\n",
       "WSFT                     9\n",
       "Unknown                  8\n",
       "Blimp                    4\n",
       "Powered-Lift             3\n",
       "UNK                      2\n",
       "Rocket                   1\n",
       "ULTR                     1\n",
       "Name: count, dtype: int64"
      ]
     },
     "execution_count": 1337,
     "metadata": {},
     "output_type": "execute_result"
    }
   ],
   "source": [
    "df['Aircraft_Category'].value_counts(dropna=False)"
   ]
  },
  {
   "cell_type": "markdown",
   "id": "e82e86a1-adbd-483b-b29d-aa38c7fb720f",
   "metadata": {},
   "source": [
    "We are down to about 6000 empty category entries at this point. The column for Amateur_Built may enable us to remove a number of unneeded rows."
   ]
  },
  {
   "cell_type": "code",
   "execution_count": 1338,
   "id": "db5c2857-c7fb-4856-aa19-ce96bfb71fbe",
   "metadata": {},
   "outputs": [
    {
     "data": {
      "text/plain": [
       "Amateur_Built\n",
       "Yes        3824\n",
       "No         2303\n",
       "Unknown      10\n",
       "Name: count, dtype: int64"
      ]
     },
     "execution_count": 1338,
     "metadata": {},
     "output_type": "execute_result"
    }
   ],
   "source": [
    "# show the amateur_built value_counts for the empty category entries\n",
    "df[df['Aircraft_Category'].isna()]['Amateur_Built'].value_counts(dropna=False)"
   ]
  },
  {
   "cell_type": "markdown",
   "id": "39a22a88-c69a-4d2b-a5f1-21e7c8d4704c",
   "metadata": {},
   "source": [
    "So we can drop the almost 4000 rows that are listed as Amateur_Built"
   ]
  },
  {
   "cell_type": "code",
   "execution_count": 1339,
   "id": "699d0413-44cd-4e2d-a949-abde0bdc09a0",
   "metadata": {},
   "outputs": [
    {
     "data": {
      "text/plain": [
       "Amateur_Built\n",
       "No         2303\n",
       "Unknown      10\n",
       "Name: count, dtype: int64"
      ]
     },
     "execution_count": 1339,
     "metadata": {},
     "output_type": "execute_result"
    }
   ],
   "source": [
    "df = df.drop(df[(df['Amateur_Built'] == 'Yes') & (df['Aircraft_Category'].isna())].index)\n",
    "\n",
    "df[df['Aircraft_Category'].isna()]['Amateur_Built'].value_counts(dropna=False)"
   ]
  },
  {
   "cell_type": "code",
   "execution_count": 1340,
   "id": "df14648b-a4b1-4e5a-aedd-715bbc738485",
   "metadata": {},
   "outputs": [
    {
     "data": {
      "text/plain": [
       "Make\n",
       "Unknown               45\n",
       "Navion                34\n",
       "Luscombe              34\n",
       "Eurocopter            34\n",
       "Stinson               33\n",
       "Socata                32\n",
       "Britten-norman        32\n",
       "Kaman                 31\n",
       "Rolladen-schneider    30\n",
       "Short Brothers        30\n",
       "Name: count, dtype: int64"
      ]
     },
     "execution_count": 1340,
     "metadata": {},
     "output_type": "execute_result"
    }
   ],
   "source": [
    "df[df['Aircraft_Category'].isna()]['Make'].value_counts().head(10)"
   ]
  },
  {
   "cell_type": "code",
   "execution_count": 1341,
   "id": "580f3cfc-e1cf-4602-b384-0bd3388297d1",
   "metadata": {},
   "outputs": [
    {
     "data": {
      "text/plain": [
       "Make\n",
       "Navion    63\n",
       "NAVION    16\n",
       "Name: count, dtype: int64"
      ]
     },
     "execution_count": 1341,
     "metadata": {},
     "output_type": "execute_result"
    }
   ],
   "source": [
    "df[df['Make'].str.lower().str.startswith('navi')].value_counts('Make')"
   ]
  },
  {
   "cell_type": "code",
   "execution_count": 1342,
   "id": "6d6aba58-aecb-4803-ac6f-252cf9fb6e2c",
   "metadata": {},
   "outputs": [
    {
     "data": {
      "text/plain": [
       "Aircraft_Category\n",
       "Airplane    45\n",
       "NaN         34\n",
       "Name: count, dtype: int64"
      ]
     },
     "execution_count": 1342,
     "metadata": {},
     "output_type": "execute_result"
    }
   ],
   "source": [
    "df.loc[df['Make'].isin(['NAVION']),'Make'] = 'Navion'\n",
    "\n",
    "df[df['Make'] == 'Navion'].value_counts('Aircraft_Category', dropna=False)"
   ]
  },
  {
   "cell_type": "code",
   "execution_count": 1343,
   "id": "931df015-19ba-4a43-b4a1-160f614f44b9",
   "metadata": {},
   "outputs": [
    {
     "data": {
      "text/plain": [
       "Make\n",
       "Unknown               45\n",
       "Eurocopter            34\n",
       "Luscombe              34\n",
       "Stinson               33\n",
       "Socata                32\n",
       "Britten-norman        32\n",
       "Kaman                 31\n",
       "Short Brothers        30\n",
       "Rolladen-schneider    30\n",
       "Lake                  29\n",
       "Name: count, dtype: int64"
      ]
     },
     "execution_count": 1343,
     "metadata": {},
     "output_type": "execute_result"
    }
   ],
   "source": [
    "df.loc[df['Make'] == 'Navion', 'Aircraft_Category'] = 'Airplane'\n",
    "\n",
    "df[df['Aircraft_Category'].isna()]['Make'].value_counts().head(10)"
   ]
  },
  {
   "cell_type": "code",
   "execution_count": 1344,
   "id": "9ed4c235-6c6b-4e29-92f1-e1b6d9990b47",
   "metadata": {},
   "outputs": [
    {
     "data": {
      "text/plain": [
       "Make\n",
       "EUROCOPTER                     128\n",
       "Eurocopter                      90\n",
       "Eurocopter France               40\n",
       "EUROCOPTER DEUTSCHLAND GMBH     20\n",
       "Eurocopter Deutschland          10\n",
       "EUROCOPTER FRANCE                5\n",
       "Eurocopter Deutsch               1\n",
       "Eurocopter Deutschland Gmbh      1\n",
       "Name: count, dtype: int64"
      ]
     },
     "execution_count": 1344,
     "metadata": {},
     "output_type": "execute_result"
    }
   ],
   "source": [
    "df[df['Make'].str.lower().str.startswith('euroc')].value_counts('Make')"
   ]
  },
  {
   "cell_type": "code",
   "execution_count": 1345,
   "id": "e06f48ab-ee82-494e-8ae9-aa93b5a378bc",
   "metadata": {},
   "outputs": [
    {
     "data": {
      "text/plain": [
       "Aircraft_Category\n",
       "Helicopter    234\n",
       "NaN            61\n",
       "Name: count, dtype: int64"
      ]
     },
     "execution_count": 1345,
     "metadata": {},
     "output_type": "execute_result"
    }
   ],
   "source": [
    "df.loc[df['Make'].isin(['EUROCOPTER', 'Eurocopter France', 'EUROCOPTER DEUTSCHLAND GMBH', 'Eurocopter Deutschland', 'EUROCOPTER FRANCE',\n",
    "                        'Eurocopter Deutsch', 'Eurocopter Deutschland Gmbh']),'Make'] = 'Eurocopter'\n",
    "\n",
    "df[df['Make'] == 'Eurocopter'].value_counts('Aircraft_Category', dropna=False)"
   ]
  },
  {
   "cell_type": "code",
   "execution_count": 1346,
   "id": "d5989610-c2df-40ea-8882-092da4d39b40",
   "metadata": {},
   "outputs": [
    {
     "data": {
      "text/plain": [
       "Make\n",
       "Luscombe                          316\n",
       "LUSCOMBE                           95\n",
       "Luscombe Silvaire Aircraft Co.      1\n",
       "Name: count, dtype: int64"
      ]
     },
     "execution_count": 1346,
     "metadata": {},
     "output_type": "execute_result"
    }
   ],
   "source": [
    "df[df['Make'].str.lower().str.startswith('lusc')].value_counts('Make')"
   ]
  },
  {
   "cell_type": "code",
   "execution_count": 1347,
   "id": "4befab23-3233-4257-97a3-bf70d3d442dd",
   "metadata": {},
   "outputs": [
    {
     "data": {
      "text/plain": [
       "Aircraft_Category\n",
       "Airplane    378\n",
       "NaN          34\n",
       "Name: count, dtype: int64"
      ]
     },
     "execution_count": 1347,
     "metadata": {},
     "output_type": "execute_result"
    }
   ],
   "source": [
    "df.loc[df['Make'].isin(['LUSCOMBE', 'Luscombe Silvaire Aircraft Co.']),'Make'] = 'Luscombe'\n",
    "\n",
    "df[df['Make'] == 'Luscombe'].value_counts('Aircraft_Category', dropna=False)"
   ]
  },
  {
   "cell_type": "code",
   "execution_count": 1348,
   "id": "d9508ecd-26c7-466a-8b3a-2951cf8f2d0e",
   "metadata": {},
   "outputs": [
    {
     "data": {
      "text/plain": [
       "Make\n",
       "Stinson    342\n",
       "STINSON     91\n",
       "Name: count, dtype: int64"
      ]
     },
     "execution_count": 1348,
     "metadata": {},
     "output_type": "execute_result"
    }
   ],
   "source": [
    "df[df['Make'].str.lower().str.startswith('stins')].value_counts('Make')"
   ]
  },
  {
   "cell_type": "code",
   "execution_count": 1349,
   "id": "db034679-e9f3-425a-bfa9-9cbbee21f91b",
   "metadata": {},
   "outputs": [
    {
     "data": {
      "text/plain": [
       "Aircraft_Category\n",
       "Airplane    400\n",
       "NaN          33\n",
       "Name: count, dtype: int64"
      ]
     },
     "execution_count": 1349,
     "metadata": {},
     "output_type": "execute_result"
    }
   ],
   "source": [
    "df.loc[df['Make'].isin(['STINSON']),'Make'] = 'Stinson'\n",
    "\n",
    "df[df['Make'] == 'Stinson'].value_counts('Aircraft_Category', dropna=False)"
   ]
  },
  {
   "cell_type": "code",
   "execution_count": 1350,
   "id": "f7152261-2740-4b62-9224-e62741a9145c",
   "metadata": {},
   "outputs": [
    {
     "data": {
      "text/plain": [
       "Make\n",
       "SOCATA                        63\n",
       "Socata                        62\n",
       "Socata-Groupe Aerospatiale     1\n",
       "Name: count, dtype: int64"
      ]
     },
     "execution_count": 1350,
     "metadata": {},
     "output_type": "execute_result"
    }
   ],
   "source": [
    "df[df['Make'].str.lower().str.startswith('soca')].value_counts('Make')"
   ]
  },
  {
   "cell_type": "code",
   "execution_count": 1351,
   "id": "656bce8e-daf8-4364-ac2b-87a618a137fa",
   "metadata": {},
   "outputs": [
    {
     "data": {
      "text/plain": [
       "Aircraft_Category\n",
       "Airplane    94\n",
       "NaN         32\n",
       "Name: count, dtype: int64"
      ]
     },
     "execution_count": 1351,
     "metadata": {},
     "output_type": "execute_result"
    }
   ],
   "source": [
    "df.loc[df['Make'].isin(['SOCATA', 'Socata-Groupe Aerospatiale']),'Make'] = 'Socata'\n",
    "\n",
    "df[df['Make'] == 'Socata'].value_counts('Aircraft_Category', dropna=False)"
   ]
  },
  {
   "cell_type": "code",
   "execution_count": 1352,
   "id": "9212c869-1d02-4051-ba74-c8d77b7cce57",
   "metadata": {},
   "outputs": [
    {
     "data": {
      "text/plain": [
       "Make\n",
       "Britten-norman    37\n",
       "BRITTEN NORMAN    11\n",
       "BRITTEN-NORMAN     5\n",
       "Britten Norman     2\n",
       "Name: count, dtype: int64"
      ]
     },
     "execution_count": 1352,
     "metadata": {},
     "output_type": "execute_result"
    }
   ],
   "source": [
    "df[df['Make'].str.lower().str.startswith('britt')].value_counts('Make')"
   ]
  },
  {
   "cell_type": "code",
   "execution_count": 1353,
   "id": "c12ba4f3-2117-4b6d-a2f4-551ee94098fc",
   "metadata": {},
   "outputs": [
    {
     "data": {
      "text/plain": [
       "Aircraft_Category\n",
       "NaN         33\n",
       "Airplane    22\n",
       "Name: count, dtype: int64"
      ]
     },
     "execution_count": 1353,
     "metadata": {},
     "output_type": "execute_result"
    }
   ],
   "source": [
    "df.loc[df['Make'].isin(['Britten-norman', 'BRITTEN NORMAN', 'BRITTEN-NORMAN', 'Britten Norman']),'Make'] = 'Britten-Norman'\n",
    "\n",
    "df[df['Make'] == 'Britten-Norman'].value_counts('Aircraft_Category', dropna=False)"
   ]
  },
  {
   "cell_type": "code",
   "execution_count": 1354,
   "id": "334f8405-c7f0-465a-b028-add7e6f021a0",
   "metadata": {},
   "outputs": [
    {
     "data": {
      "text/plain": [
       "Make\n",
       "Kaman                   35\n",
       "KAMAN                    3\n",
       "KAMAN AEROSPACE CORP     2\n",
       "Name: count, dtype: int64"
      ]
     },
     "execution_count": 1354,
     "metadata": {},
     "output_type": "execute_result"
    }
   ],
   "source": [
    "df[df['Make'].str.lower().str.startswith('kama')].value_counts('Make')"
   ]
  },
  {
   "cell_type": "code",
   "execution_count": 1355,
   "id": "329de566-0cd8-4b15-8902-4241c0ae6f98",
   "metadata": {},
   "outputs": [
    {
     "data": {
      "text/plain": [
       "Aircraft_Category\n",
       "NaN           33\n",
       "Helicopter     6\n",
       "Airplane       1\n",
       "Name: count, dtype: int64"
      ]
     },
     "execution_count": 1355,
     "metadata": {},
     "output_type": "execute_result"
    }
   ],
   "source": [
    "df.loc[df['Make'].isin(['KAMAN', 'KAMAN AEROSPACE CORP']),'Make'] = 'Kaman'\n",
    "\n",
    "df[df['Make'] == 'Kaman'].value_counts('Aircraft_Category', dropna=False)"
   ]
  },
  {
   "cell_type": "markdown",
   "id": "8b4bc2c3-2e8a-4b74-98c5-d1154074b481",
   "metadata": {},
   "source": [
    "There's one plane listed for Kaman. What is it?"
   ]
  },
  {
   "cell_type": "code",
   "execution_count": 1356,
   "id": "9ccc951d-1738-427a-98ef-cf39e589cce0",
   "metadata": {},
   "outputs": [
    {
     "data": {
      "text/plain": [
       "Model\n",
       "K1200 K-Max    1\n",
       "Name: count, dtype: int64"
      ]
     },
     "execution_count": 1356,
     "metadata": {},
     "output_type": "execute_result"
    }
   ],
   "source": [
    "# what are the value_counts for Model when Aircraft_Category is Airplane and Make is Kaman\n",
    "df[(df['Aircraft_Category'] == ('Airplane')) & (df['Make'] == 'Kaman')]['Model'].value_counts(dropna=False)"
   ]
  },
  {
   "cell_type": "markdown",
   "id": "5debff20-40b7-4769-bfab-a5cdb00d3753",
   "metadata": {},
   "source": [
    "The K1200 is a helicopter, so that entry is wrong."
   ]
  },
  {
   "cell_type": "code",
   "execution_count": 1357,
   "id": "e51586cf-d9db-4fa2-a8b2-b8335b8560d6",
   "metadata": {},
   "outputs": [
    {
     "data": {
      "text/plain": [
       "Make\n",
       "Short Brothers                   32\n",
       "SHORT BROS                        7\n",
       "SHORT BROS. & HARLAND             5\n",
       "Short Bros.                       3\n",
       "SHORT BROTHERS & HARLAND LTD.     1\n",
       "SHORT BROTHERS PLC                1\n",
       "Name: count, dtype: int64"
      ]
     },
     "execution_count": 1357,
     "metadata": {},
     "output_type": "execute_result"
    }
   ],
   "source": [
    "df[df['Make'].str.lower().str.startswith('short b')].value_counts('Make')"
   ]
  },
  {
   "cell_type": "code",
   "execution_count": 1358,
   "id": "bfc50998-c0c7-4081-bc34-b623a2217a12",
   "metadata": {},
   "outputs": [
    {
     "data": {
      "text/plain": [
       "Aircraft_Category\n",
       "NaN         33\n",
       "Airplane    16\n",
       "Name: count, dtype: int64"
      ]
     },
     "execution_count": 1358,
     "metadata": {},
     "output_type": "execute_result"
    }
   ],
   "source": [
    "df.loc[df['Make'].isin(['SHORT BROS', 'SHORT BROS. & HARLAND', 'Short Bros.', 'SHORT BROTHERS & HARLAND LTD.',\n",
    "                        'SHORT BROTHERS PLC']),'Make'] = 'Short Brothers'\n",
    "\n",
    "df[df['Make'] == 'Short Brothers'].value_counts('Aircraft_Category', dropna=False)"
   ]
  },
  {
   "cell_type": "code",
   "execution_count": 1359,
   "id": "57613a9a-d9b7-4d49-8722-3b00252fa253",
   "metadata": {},
   "outputs": [
    {
     "data": {
      "text/plain": [
       "Make\n",
       "Rolladen-schneider         33\n",
       "ROLLADEN-SCHNEIDER          5\n",
       "ROLLADEN-SCHNEIDER OHG      3\n",
       "ROLLADEN SCHNEIDER OHG      1\n",
       "ROLLADEN-SCHNEIDER GMBH     1\n",
       "Rolladen Schneider          1\n",
       "Rolladen-schneider Gmbh     1\n",
       "Name: count, dtype: int64"
      ]
     },
     "execution_count": 1359,
     "metadata": {},
     "output_type": "execute_result"
    }
   ],
   "source": [
    "df[df['Make'].str.lower().str.startswith('rol')].value_counts('Make')"
   ]
  },
  {
   "cell_type": "code",
   "execution_count": 1360,
   "id": "85fc2356-307a-425f-86db-445ced4e1dc5",
   "metadata": {},
   "outputs": [
    {
     "data": {
      "text/plain": [
       "Aircraft_Category\n",
       "NaN         30\n",
       "Glider      14\n",
       "Airplane     1\n",
       "Name: count, dtype: int64"
      ]
     },
     "execution_count": 1360,
     "metadata": {},
     "output_type": "execute_result"
    }
   ],
   "source": [
    "df.loc[df['Make'].isin(['Rolladen-schneider', 'ROLLADEN-SCHNEIDER', 'ROLLADEN-SCHNEIDER OHG', 'ROLLADEN SCHNEIDER OHG', 'ROLLADEN-SCHNEIDER GMBH',\n",
    "                       'Rolladen Schneider', 'Rolladen-schneider Gmbh']),'Make'] = 'Rolladen-Schneider'\n",
    "\n",
    "df[df['Make'] == 'Rolladen-Schneider'].value_counts('Aircraft_Category', dropna=False)"
   ]
  },
  {
   "cell_type": "code",
   "execution_count": 1361,
   "id": "dc18fd05-c551-40b6-a94f-09bb13e43ae6",
   "metadata": {},
   "outputs": [
    {
     "data": {
      "text/plain": [
       "Make\n",
       "Lake           136\n",
       "LAKE            14\n",
       "Lake John K      1\n",
       "Name: count, dtype: int64"
      ]
     },
     "execution_count": 1361,
     "metadata": {},
     "output_type": "execute_result"
    }
   ],
   "source": [
    "df[df['Make'].str.lower().str.startswith('lak')].value_counts('Make')"
   ]
  },
  {
   "cell_type": "code",
   "execution_count": 1362,
   "id": "774c3889-0e2e-45ca-baa9-0b940a0619c6",
   "metadata": {},
   "outputs": [
    {
     "data": {
      "text/plain": [
       "Aircraft_Category\n",
       "Airplane    121\n",
       "NaN          29\n",
       "Name: count, dtype: int64"
      ]
     },
     "execution_count": 1362,
     "metadata": {},
     "output_type": "execute_result"
    }
   ],
   "source": [
    "df.loc[df['Make'].isin(['LAKE']),'Make'] = 'Lake'\n",
    "\n",
    "df[df['Make'] == 'Lake'].value_counts('Aircraft_Category', dropna=False)"
   ]
  },
  {
   "cell_type": "code",
   "execution_count": 1363,
   "id": "73dd7818-839f-4dcf-aabb-ba39000664f8",
   "metadata": {},
   "outputs": [
    {
     "data": {
      "text/plain": [
       "Make\n",
       "Unknown                        45\n",
       "Pilatus                        29\n",
       "Agusta                         28\n",
       "Texas Helicopter               28\n",
       "Continental Copters            27\n",
       "Alon                           27\n",
       "Hawker Siddeley                26\n",
       "Let                            26\n",
       "Diamond Aircraft Industries    26\n",
       "Siai-marchetti                 25\n",
       "Name: count, dtype: int64"
      ]
     },
     "execution_count": 1363,
     "metadata": {},
     "output_type": "execute_result"
    }
   ],
   "source": [
    "# fill in the previous makes for their respective categories\n",
    "df.loc[df['Make'].isin(['Rolladen-Schneider']),'Aircraft_Category'] = 'Glider'\n",
    "df.loc[df['Make'].isin(['Kaman', 'Eurocopter']),'Aircraft_Category'] = 'Helicopter'\n",
    "df.loc[df['Make'].isin(['Britten-Norman', 'Socata', 'Stinson', 'Luscombe', 'Short Brothers', 'Lake']),'Aircraft_Category'] = 'Airplane'\n",
    "\n",
    "df[df['Aircraft_Category'].isna()]['Make'].value_counts().head(10)"
   ]
  },
  {
   "cell_type": "code",
   "execution_count": 1364,
   "id": "d155848a-ba07-4d50-8caa-2bfd82827085",
   "metadata": {},
   "outputs": [
    {
     "data": {
      "text/plain": [
       "Make\n",
       "Pilatus                   36\n",
       "PILATUS                   22\n",
       "PILATUS AIRCRAFT LTD       8\n",
       "PILATUS BRITTEN-NORMAN     1\n",
       "Pilatus Aircraft           1\n",
       "Pilatus Britten-norman     1\n",
       "Name: count, dtype: int64"
      ]
     },
     "execution_count": 1364,
     "metadata": {},
     "output_type": "execute_result"
    }
   ],
   "source": [
    "df[df['Make'].str.lower().str.startswith('pila')].value_counts('Make')"
   ]
  },
  {
   "cell_type": "code",
   "execution_count": 1365,
   "id": "1c42ed37-fe37-4270-96fe-1f631f619153",
   "metadata": {},
   "outputs": [
    {
     "data": {
      "text/plain": [
       "Aircraft_Category\n",
       "Airplane    36\n",
       "NaN         32\n",
       "Glider       1\n",
       "Name: count, dtype: int64"
      ]
     },
     "execution_count": 1365,
     "metadata": {},
     "output_type": "execute_result"
    }
   ],
   "source": [
    "df.loc[df['Make'].isin(['PILATUS', 'PILATUS AIRCRAFT LTD', 'PILATUS BRITTEN-NORMAN', 'Pilatus Aircraft', 'Pilatus Britten-norman']),'Make'] = 'Pilatus'\n",
    "\n",
    "df[df['Make'] == 'Pilatus'].value_counts('Aircraft_Category', dropna=False)"
   ]
  },
  {
   "cell_type": "code",
   "execution_count": 1366,
   "id": "f27c3c75-bbd1-4109-b6e8-dfbe4c00f075",
   "metadata": {},
   "outputs": [
    {
     "data": {
      "text/plain": [
       "Make\n",
       "Agusta                            44\n",
       "AGUSTA                            21\n",
       "AGUSTA SPA                         7\n",
       "AGUSTA BELL                        5\n",
       "AGUSTAWESTLAND                     4\n",
       "AGUSTA AEROSPACE CORP              2\n",
       "AGUSTAWESTLAND SPA                 2\n",
       "AGUSTAWESTLAND PHILADELPHIA        1\n",
       "AGUSTAWESTLAND PHILADELPHIA CO     1\n",
       "Agusta Spa                         1\n",
       "Agusta-bell                        1\n",
       "Agusta/Westland                    1\n",
       "AgustaWestland                     1\n",
       "AgustadWestland                    1\n",
       "Name: count, dtype: int64"
      ]
     },
     "execution_count": 1366,
     "metadata": {},
     "output_type": "execute_result"
    }
   ],
   "source": [
    "df[df['Make'].str.lower().str.startswith('agu')].value_counts('Make')"
   ]
  },
  {
   "cell_type": "code",
   "execution_count": 1367,
   "id": "94af061e-1773-4aa4-9276-bd12a78dd68b",
   "metadata": {},
   "outputs": [
    {
     "data": {
      "text/plain": [
       "Aircraft_Category\n",
       "Helicopter    59\n",
       "NaN           32\n",
       "Unknown        1\n",
       "Name: count, dtype: int64"
      ]
     },
     "execution_count": 1367,
     "metadata": {},
     "output_type": "execute_result"
    }
   ],
   "source": [
    "df.loc[df['Make'].isin(['AGUSTA', 'AGUSTA SPA', 'AGUSTA BELL', 'AGUSTAWESTLAND', 'AGUSTA AEROSPACE CORP', 'AGUSTAWESTLAND SPA',\n",
    "                       'AGUSTAWESTLAND PHILADELPHIA', 'AGUSTAWESTLAND PHILADELPHIA CO', 'Agusta Spa', 'Agusta-bell', 'Agusta/Westland',\n",
    "                       'AgustaWestland', 'AgustadWestland']),'Make'] = 'Agusta'\n",
    "\n",
    "df[df['Make'] == 'Agusta'].value_counts('Aircraft_Category', dropna=False)"
   ]
  },
  {
   "cell_type": "code",
   "execution_count": 1368,
   "id": "9bb2fc98-3224-4b7b-aae5-8763db85a19b",
   "metadata": {},
   "outputs": [
    {
     "data": {
      "text/plain": [
       "Make\n",
       "Texas Helicopter                30\n",
       "TEXAS HELICOPTER CORP           10\n",
       "Texas Helicopter Corp.           1\n",
       "Texas Helicopter Corporation     1\n",
       "Name: count, dtype: int64"
      ]
     },
     "execution_count": 1368,
     "metadata": {},
     "output_type": "execute_result"
    }
   ],
   "source": [
    "df[df['Make'].str.lower().str.startswith('texas h')].value_counts('Make')"
   ]
  },
  {
   "cell_type": "code",
   "execution_count": 1369,
   "id": "8d0393e5-d5f1-44f2-a9ea-8da095acbb95",
   "metadata": {},
   "outputs": [
    {
     "data": {
      "text/plain": [
       "Aircraft_Category\n",
       "NaN           28\n",
       "Helicopter    14\n",
       "Name: count, dtype: int64"
      ]
     },
     "execution_count": 1369,
     "metadata": {},
     "output_type": "execute_result"
    }
   ],
   "source": [
    "df.loc[df['Make'].isin(['TEXAS HELICOPTER CORP', 'Texas Helicopter Corp.', 'Texas Helicopter Corporation']),'Make'] = 'Texas Helicopter'\n",
    "\n",
    "df[df['Make'] == 'Texas Helicopter'].value_counts('Aircraft_Category', dropna=False)"
   ]
  },
  {
   "cell_type": "code",
   "execution_count": 1370,
   "id": "62134dd5-a15f-412d-9266-158a36603889",
   "metadata": {},
   "outputs": [
    {
     "data": {
      "text/plain": [
       "Make\n",
       "Continental Copters         27\n",
       "CONTINENTAL COPTERS INC.     6\n",
       "Continental                  3\n",
       "CONTINENTAL COPTERS INC      2\n",
       "CONTINENTAL COPTERS          1\n",
       "Continental Mk5a             1\n",
       "Name: count, dtype: int64"
      ]
     },
     "execution_count": 1370,
     "metadata": {},
     "output_type": "execute_result"
    }
   ],
   "source": [
    "df[df['Make'].str.lower().str.startswith('contin')].value_counts('Make')"
   ]
  },
  {
   "cell_type": "code",
   "execution_count": 1371,
   "id": "3089cde6-a2b5-494f-ae45-d22b1c299144",
   "metadata": {},
   "outputs": [
    {
     "data": {
      "text/plain": [
       "Aircraft_Category\n",
       "NaN           27\n",
       "Helicopter    12\n",
       "Airplane       1\n",
       "Name: count, dtype: int64"
      ]
     },
     "execution_count": 1371,
     "metadata": {},
     "output_type": "execute_result"
    }
   ],
   "source": [
    "df.loc[df['Make'].isin(['CONTINENTAL COPTERS INC.', 'Continental', 'CONTINENTAL COPTERS INC', 'CONTINENTAL COPTERS',\n",
    "                        'Continental Mk5a']),'Make'] = 'Continental Copters'\n",
    "\n",
    "df[df['Make'] == 'Continental Copters'].value_counts('Aircraft_Category', dropna=False)"
   ]
  },
  {
   "cell_type": "code",
   "execution_count": 1372,
   "id": "8129294d-6cd9-43f9-bec1-e3b5641c4ffe",
   "metadata": {},
   "outputs": [
    {
     "data": {
      "text/plain": [
       "Make\n",
       "Alon             29\n",
       "ALON             11\n",
       "ALONSO            1\n",
       "Alon Aircoupe     1\n",
       "Name: count, dtype: int64"
      ]
     },
     "execution_count": 1372,
     "metadata": {},
     "output_type": "execute_result"
    }
   ],
   "source": [
    "df[df['Make'].str.lower().str.startswith('alon')].value_counts('Make')"
   ]
  },
  {
   "cell_type": "code",
   "execution_count": 1373,
   "id": "2ad4d438-9038-4815-b444-5c95155c3e86",
   "metadata": {},
   "outputs": [
    {
     "data": {
      "text/plain": [
       "Aircraft_Category\n",
       "NaN         28\n",
       "Airplane    13\n",
       "Name: count, dtype: int64"
      ]
     },
     "execution_count": 1373,
     "metadata": {},
     "output_type": "execute_result"
    }
   ],
   "source": [
    "df.loc[df['Make'].isin(['ALON', 'Alon Aircoupe']),'Make'] = 'Alon'\n",
    "\n",
    "df[df['Make'] == 'Alon'].value_counts('Aircraft_Category', dropna=False)"
   ]
  },
  {
   "cell_type": "code",
   "execution_count": 1374,
   "id": "01cb1315-8e3c-45c0-bd17-f8b772eb5afe",
   "metadata": {},
   "outputs": [
    {
     "data": {
      "text/plain": [
       "Make\n",
       "Hawker Siddeley                  28\n",
       "HAWKER BEECHCRAFT CORP           13\n",
       "Hawker Beechcraft                 8\n",
       "HAWKER                            7\n",
       "HAWKER BEECHCRAFT                 7\n",
       "Hawker Beechcraft Corp.           7\n",
       "HAWKER SIDDELEY                   4\n",
       "Hawker Beechcraft Corporation     4\n",
       "HAWKER BEECHCRAFT CORPORATION     3\n",
       "Hawker                            3\n",
       "Hawker-Beechcraft                 2\n",
       "Hawkins & Powers                  2\n",
       "HAWKER AIRCRAFT LTD               2\n",
       "HAWKER BEECH                      2\n",
       "Hawker Beech                      1\n",
       "Hawker Aircraft Ltd               1\n",
       "HAWKINS AUGUST E                  1\n",
       "Hawker Siddely                    1\n",
       "Hawker-Beechcraft Corporation     1\n",
       "Hawker-beechcraft                 1\n",
       "Hawker Aircraft Ltd.              1\n",
       "Name: count, dtype: int64"
      ]
     },
     "execution_count": 1374,
     "metadata": {},
     "output_type": "execute_result"
    }
   ],
   "source": [
    "df[df['Make'].str.lower().str.startswith('hawk')].value_counts('Make')"
   ]
  },
  {
   "cell_type": "code",
   "execution_count": 1375,
   "id": "df15b451-d5a0-47a9-8eb8-d1c7919ad189",
   "metadata": {},
   "outputs": [
    {
     "data": {
      "text/plain": [
       "Aircraft_Category\n",
       "Airplane    64\n",
       "NaN         32\n",
       "Name: count, dtype: int64"
      ]
     },
     "execution_count": 1375,
     "metadata": {},
     "output_type": "execute_result"
    }
   ],
   "source": [
    "df.loc[df['Make'].isin(['HAWKER', 'HAWKER AIRCRAFT LTD', 'Hawker Aircraft Ltd', 'Hawker Aircraft Ltd.', 'HAWKER BEECH', 'Hawker Beech',\n",
    "                       'Hawker Beechcraft', 'HAWKER BEECHCRAFT', 'HAWKER BEECHCRAFT CORP', 'Hawker Beechcraft Corp.', 'Hawker Beechcraft Corporation',\n",
    "                       'HAWKER BEECHCRAFT CORPORATION', 'Hawker Siddeley', 'HAWKER SIDDELEY', 'Hawker Siddely', 'Hawker-Beechcraft',\n",
    "                        'Hawker-beechcraft', 'Hawker-Beechcraft Corporation']),'Make'] = 'Hawker'\n",
    "\n",
    "df[df['Make'] == 'Hawker'].value_counts('Aircraft_Category', dropna=False)"
   ]
  },
  {
   "cell_type": "code",
   "execution_count": 1376,
   "id": "ae4be60d-cdfa-411f-96c6-065e0967e292",
   "metadata": {},
   "outputs": [
    {
     "data": {
      "text/plain": [
       "Make\n",
       "Let                110\n",
       "LET                 24\n",
       "Let Np Kinovice      1\n",
       "Letecky Zavody       1\n",
       "Lett                 1\n",
       "Name: count, dtype: int64"
      ]
     },
     "execution_count": 1376,
     "metadata": {},
     "output_type": "execute_result"
    }
   ],
   "source": [
    "df[df['Make'].str.lower().str.startswith('let')].value_counts('Make')"
   ]
  },
  {
   "cell_type": "code",
   "execution_count": 1377,
   "id": "f36c2a93-e37e-4d23-8559-a6dbb374919a",
   "metadata": {},
   "outputs": [
    {
     "data": {
      "text/plain": [
       "Aircraft_Category\n",
       "Glider      106\n",
       "NaN          27\n",
       "Airplane      2\n",
       "Name: count, dtype: int64"
      ]
     },
     "execution_count": 1377,
     "metadata": {},
     "output_type": "execute_result"
    }
   ],
   "source": [
    "df.loc[df['Make'].isin(['LET', 'Let Np Kinovice']),'Make'] = 'Let'\n",
    "\n",
    "df[df['Make'] == 'Let'].value_counts('Aircraft_Category', dropna=False)"
   ]
  },
  {
   "cell_type": "code",
   "execution_count": 1378,
   "id": "a270a2f7-f234-412a-a58b-024c1b256c19",
   "metadata": {},
   "outputs": [
    {
     "data": {
      "text/plain": [
       "Make\n",
       "DIAMOND AIRCRAFT IND INC          74\n",
       "Diamond Aircraft Industries       40\n",
       "DIAMOND                           30\n",
       "Diamond                           19\n",
       "DIAMOND AIRCRAFT IND GMBH          8\n",
       "Diamond Aircraft                   4\n",
       "DIAMOND AIRCRAFT                   1\n",
       "DIAMOND AIRCRAFT INDUSTRIES        1\n",
       "DIAMOND AIRCRAFT INDUSTRIES IN     1\n",
       "Diamond Aicraft Industries Inc     1\n",
       "Diamond Aircraft Industry Inc      1\n",
       "Name: count, dtype: int64"
      ]
     },
     "execution_count": 1378,
     "metadata": {},
     "output_type": "execute_result"
    }
   ],
   "source": [
    "df[df['Make'].str.lower().str.startswith('diam')].value_counts('Make')"
   ]
  },
  {
   "cell_type": "code",
   "execution_count": 1379,
   "id": "6170c6c0-0234-4f77-bdba-3626c90ac816",
   "metadata": {},
   "outputs": [
    {
     "data": {
      "text/plain": [
       "Aircraft_Category\n",
       "Airplane        150\n",
       "NaN              28\n",
       "Glider            1\n",
       "Powered-Lift      1\n",
       "Name: count, dtype: int64"
      ]
     },
     "execution_count": 1379,
     "metadata": {},
     "output_type": "execute_result"
    }
   ],
   "source": [
    "df.loc[df['Make'].isin(['DIAMOND', 'Diamond', 'Diamond Aicraft Industries Inc', 'Diamond Aircraft', 'DIAMOND AIRCRAFT', 'DIAMOND AIRCRAFT IND GMBH',\n",
    "                       'DIAMOND AIRCRAFT IND INC', 'DIAMOND AIRCRAFT INDUSTRIES', 'DIAMOND AIRCRAFT INDUSTRIES IN',\n",
    "                        'Diamond Aircraft Industry Inc']),'Make'] = 'Diamond Aircraft Industries'\n",
    "\n",
    "df[df['Make'] == 'Diamond Aircraft Industries'].value_counts('Aircraft_Category', dropna=False)"
   ]
  },
  {
   "cell_type": "code",
   "execution_count": 1380,
   "id": "06692f08-01ef-47aa-8440-46478e321c30",
   "metadata": {},
   "outputs": [
    {
     "data": {
      "text/plain": [
       "Make\n",
       "Siai-marchetti    25\n",
       "SIAI-MARCHETTI    10\n",
       "SIAI MARCHETTI     3\n",
       "Siai Marchetti     2\n",
       "Siai-Marchetti     2\n",
       "SIAI-Marchetti     1\n",
       "Name: count, dtype: int64"
      ]
     },
     "execution_count": 1380,
     "metadata": {},
     "output_type": "execute_result"
    }
   ],
   "source": [
    "df[df['Make'].str.lower().str.startswith('sia')].value_counts('Make')"
   ]
  },
  {
   "cell_type": "code",
   "execution_count": 1381,
   "id": "c31cb3d5-086b-415b-aa93-601d18606f70",
   "metadata": {},
   "outputs": [
    {
     "data": {
      "text/plain": [
       "Aircraft_Category\n",
       "NaN         25\n",
       "Airplane    18\n",
       "Name: count, dtype: int64"
      ]
     },
     "execution_count": 1381,
     "metadata": {},
     "output_type": "execute_result"
    }
   ],
   "source": [
    "df.loc[df['Make'].isin(['Siai-marchetti', 'SIAI-MARCHETTI', 'SIAI MARCHETTI', 'Siai Marchetti', 'Siai-Marchetti']),'Make'] = 'SIAI-Marchetti'\n",
    "\n",
    "df[df['Make'] == 'SIAI-Marchetti'].value_counts('Aircraft_Category', dropna=False)"
   ]
  },
  {
   "cell_type": "code",
   "execution_count": 1382,
   "id": "a21eeabc-a4f2-4990-bf9a-621ebfd0fc1d",
   "metadata": {},
   "outputs": [
    {
     "data": {
      "text/plain": [
       "Make\n",
       "Unknown                       45\n",
       "I.c.a. Brasov                 24\n",
       "Israel Aircraft Industries    24\n",
       "Dornier                       24\n",
       "Snow                          23\n",
       "Yakovlev                      22\n",
       "Thunder And Colt              21\n",
       "Callair                       20\n",
       "Garlick                       20\n",
       "Cirrus Design Corp.           19\n",
       "Name: count, dtype: int64"
      ]
     },
     "execution_count": 1382,
     "metadata": {},
     "output_type": "execute_result"
    }
   ],
   "source": [
    "# fill in the previous makes for their respective categories\n",
    "df.loc[df['Make'].isin(['Let']),'Aircraft_Category'] = 'Glider'\n",
    "df.loc[df['Make'].isin(['Continental Copters', 'Texas Helicopter', 'Agusta']),'Aircraft_Category'] = 'Helicopter'\n",
    "df.loc[df['Make'].isin(['Pilatus', 'Alon', 'Hawker', 'Diamond Aircraft Industries', 'SIAI-Marchetti']),'Aircraft_Category'] = 'Airplane'\n",
    "\n",
    "df[df['Aircraft_Category'].isna()]['Make'].value_counts().head(10)"
   ]
  },
  {
   "cell_type": "code",
   "execution_count": 1383,
   "id": "725256f4-904b-4b95-b134-9a3b9b0c4f3e",
   "metadata": {},
   "outputs": [
    {
     "data": {
      "text/plain": [
       "Make\n",
       "I.c.a. Brasov              26\n",
       "I.C.A.-BRASOV (ROMANIA)     2\n",
       "I.C.A.-Brasov               1\n",
       "I.c.a. Brasov - Romania     1\n",
       "I.c.a.-brasov               1\n",
       "Name: count, dtype: int64"
      ]
     },
     "execution_count": 1383,
     "metadata": {},
     "output_type": "execute_result"
    }
   ],
   "source": [
    "df[df['Make'].str.lower().str.startswith('i.c')].value_counts('Make')"
   ]
  },
  {
   "cell_type": "code",
   "execution_count": 1384,
   "id": "cb1da069-2287-4758-aa9c-13c5b98ffd66",
   "metadata": {},
   "outputs": [
    {
     "data": {
      "text/plain": [
       "Aircraft_Category\n",
       "NaN       24\n",
       "Glider     7\n",
       "Name: count, dtype: int64"
      ]
     },
     "execution_count": 1384,
     "metadata": {},
     "output_type": "execute_result"
    }
   ],
   "source": [
    "df.loc[df['Make'].isin(['I.c.a. Brasov', 'I.C.A.-BRASOV (ROMANIA)', 'I.C.A.-Brasov', 'I.c.a. Brasov – Romania', 'I.c.a.-brasov',\n",
    "                       'ICA BRASOV']),'Make'] = 'ICA Brasov'\n",
    "\n",
    "df[df['Make'] == 'ICA Brasov'].value_counts('Aircraft_Category', dropna=False)"
   ]
  },
  {
   "cell_type": "code",
   "execution_count": 1385,
   "id": "d03f3e97-8250-444c-8891-0ce4550e5390",
   "metadata": {},
   "outputs": [
    {
     "data": {
      "text/plain": [
       "Make\n",
       "Israel Aircraft Industries        28\n",
       "ISRAEL AIRCRAFT INDUSTRIES         8\n",
       "ISRAEL AEROSPACE INDUSTRIESLTD     1\n",
       "Name: count, dtype: int64"
      ]
     },
     "execution_count": 1385,
     "metadata": {},
     "output_type": "execute_result"
    }
   ],
   "source": [
    "df[df['Make'].str.lower().str.startswith('isr')].value_counts('Make')"
   ]
  },
  {
   "cell_type": "code",
   "execution_count": 1386,
   "id": "b759872e-76a3-46dc-a08a-2e4d066b4906",
   "metadata": {},
   "outputs": [
    {
     "data": {
      "text/plain": [
       "Aircraft_Category\n",
       "NaN         24\n",
       "Airplane    13\n",
       "Name: count, dtype: int64"
      ]
     },
     "execution_count": 1386,
     "metadata": {},
     "output_type": "execute_result"
    }
   ],
   "source": [
    "df.loc[df['Make'].isin(['ISRAEL AIRCRAFT INDUSTRIES', 'ISRAEL AEROSPACE INDUSTRIESLTD']),'Make'] = 'Israel Aircraft Industries'\n",
    "\n",
    "df[df['Make'] == 'Israel Aircraft Industries'].value_counts('Aircraft_Category', dropna=False)"
   ]
  },
  {
   "cell_type": "code",
   "execution_count": 1387,
   "id": "1e108f98-1eac-4061-a8a1-ea574c19b1a2",
   "metadata": {},
   "outputs": [
    {
     "data": {
      "text/plain": [
       "Make\n",
       "Dornier         24\n",
       "DORNIER          7\n",
       "DORNIER GMBH     2\n",
       "Name: count, dtype: int64"
      ]
     },
     "execution_count": 1387,
     "metadata": {},
     "output_type": "execute_result"
    }
   ],
   "source": [
    "df[df['Make'].str.lower().str.startswith('dorni')].value_counts('Make')"
   ]
  },
  {
   "cell_type": "code",
   "execution_count": 1388,
   "id": "a079efd6-5fda-4302-a47c-68d8c8dcfa84",
   "metadata": {},
   "outputs": [
    {
     "data": {
      "text/plain": [
       "Aircraft_Category\n",
       "NaN         24\n",
       "Airplane     9\n",
       "Name: count, dtype: int64"
      ]
     },
     "execution_count": 1388,
     "metadata": {},
     "output_type": "execute_result"
    }
   ],
   "source": [
    "df.loc[df['Make'].isin(['DORNIER', 'DORNIER GMBH']),'Make'] = 'Dornier'\n",
    "\n",
    "df[df['Make'] == 'Dornier'].value_counts('Aircraft_Category', dropna=False)"
   ]
  },
  {
   "cell_type": "code",
   "execution_count": 1389,
   "id": "80340a61-b44c-456e-b7d0-8754f6600e8b",
   "metadata": {},
   "outputs": [
    {
     "data": {
      "text/plain": [
       "Make\n",
       "Snow       30\n",
       "SNOW        1\n",
       "Snobird     1\n",
       "Name: count, dtype: int64"
      ]
     },
     "execution_count": 1389,
     "metadata": {},
     "output_type": "execute_result"
    }
   ],
   "source": [
    "df[df['Make'].str.lower().str.startswith('sno')].value_counts('Make')"
   ]
  },
  {
   "cell_type": "code",
   "execution_count": 1390,
   "id": "b96696e4-d205-4bb6-a625-928a25eb4768",
   "metadata": {},
   "outputs": [
    {
     "data": {
      "text/plain": [
       "Aircraft_Category\n",
       "NaN         23\n",
       "Airplane     8\n",
       "Name: count, dtype: int64"
      ]
     },
     "execution_count": 1390,
     "metadata": {},
     "output_type": "execute_result"
    }
   ],
   "source": [
    "df.loc[df['Make'].isin(['SNOW']),'Make'] = 'Snow'\n",
    "\n",
    "df[df['Make'] == 'Snow'].value_counts('Aircraft_Category', dropna=False)"
   ]
  },
  {
   "cell_type": "code",
   "execution_count": 1391,
   "id": "810be96e-2ebc-4b98-af61-bae28a5d4a4d",
   "metadata": {},
   "outputs": [
    {
     "data": {
      "text/plain": [
       "Make\n",
       "Yakovlev             30\n",
       "YAKOVLEV             12\n",
       "YAKOVLEV/CHINNERY     1\n",
       "YAKOVLEV/DAY          1\n",
       "Name: count, dtype: int64"
      ]
     },
     "execution_count": 1391,
     "metadata": {},
     "output_type": "execute_result"
    }
   ],
   "source": [
    "df[df['Make'].str.lower().str.startswith('yako')].value_counts('Make')"
   ]
  },
  {
   "cell_type": "code",
   "execution_count": 1392,
   "id": "f7810893-3125-472b-b388-210af202da45",
   "metadata": {},
   "outputs": [
    {
     "data": {
      "text/plain": [
       "Aircraft_Category\n",
       "Airplane    22\n",
       "NaN         22\n",
       "Name: count, dtype: int64"
      ]
     },
     "execution_count": 1392,
     "metadata": {},
     "output_type": "execute_result"
    }
   ],
   "source": [
    "df.loc[df['Make'].isin(['YAKOVLEV', 'YAKOVLEV/CHINNERY', 'YAKOVLEV/DAY']),'Make'] = 'Yakovlev'\n",
    "\n",
    "df[df['Make'] == 'Yakovlev'].value_counts('Aircraft_Category', dropna=False)"
   ]
  },
  {
   "cell_type": "code",
   "execution_count": 1393,
   "id": "3b3f22a0-557f-4ae0-9705-4a533154d800",
   "metadata": {},
   "outputs": [
    {
     "data": {
      "text/plain": [
       "Make\n",
       "Thunder And Colt                23\n",
       "Thunder Balloons, Ltd.           2\n",
       "THUNDER & COLT                   1\n",
       "THUNDER & COLT AIRBORNE AMER     1\n",
       "THUNDERBIRD AVIATION             1\n",
       "Thunder & Colt Ltd               1\n",
       "Thunder Mustang                  1\n",
       "Name: count, dtype: int64"
      ]
     },
     "execution_count": 1393,
     "metadata": {},
     "output_type": "execute_result"
    }
   ],
   "source": [
    "df[df['Make'].str.lower().str.startswith('thund')].value_counts('Make')"
   ]
  },
  {
   "cell_type": "code",
   "execution_count": 1394,
   "id": "1e23ab42-8e97-44b3-8e49-dabf27de61aa",
   "metadata": {},
   "outputs": [
    {
     "data": {
      "text/plain": [
       "Aircraft_Category\n",
       "Balloon    33\n",
       "NaN        25\n",
       "Name: count, dtype: int64"
      ]
     },
     "execution_count": 1394,
     "metadata": {},
     "output_type": "execute_result"
    }
   ],
   "source": [
    "df.loc[df['Make'].isin(['Thunder And Colt', 'Thunder Balloons, Ltd.', 'THUNDER & COLT', 'THUNDER & COLT AIRBORNE AMER',\n",
    "                        'Thunder & Colt Ltd', 'COLT BALLOONS', 'LINDSTRAND BALLOONS', 'Lindstrand Balloons', 'Lindstrand',\n",
    "                       'LINDSTRAND', 'LINDSTRAND BALLOONS USA']),'Make'] = 'Thunder & Colt Balloons'\n",
    "\n",
    "df[df['Make'] == 'Thunder & Colt Balloons'].value_counts('Aircraft_Category', dropna=False)"
   ]
  },
  {
   "cell_type": "code",
   "execution_count": 1395,
   "id": "98598f93-b7e8-49a2-877d-4fdc5ed586ef",
   "metadata": {},
   "outputs": [
    {
     "data": {
      "text/plain": [
       "Aircraft_Category\n",
       "NaN         20\n",
       "Airplane     6\n",
       "Name: count, dtype: int64"
      ]
     },
     "execution_count": 1395,
     "metadata": {},
     "output_type": "execute_result"
    }
   ],
   "source": [
    "df[df['Make'] == 'Callair'].value_counts('Aircraft_Category', dropna=False)"
   ]
  },
  {
   "cell_type": "code",
   "execution_count": 1396,
   "id": "a7724235-95e2-4e3c-bd61-4ad2a3c4f294",
   "metadata": {},
   "outputs": [
    {
     "data": {
      "text/plain": [
       "Make\n",
       "Garlick                     22\n",
       "GARLICK                     10\n",
       "GARLICK HELICOPTERS INC      8\n",
       "Garlick Helicipters Inc.     1\n",
       "Garlick Helicopters Inc      1\n",
       "Garlick Helicopters Inc.     1\n",
       "Name: count, dtype: int64"
      ]
     },
     "execution_count": 1396,
     "metadata": {},
     "output_type": "execute_result"
    }
   ],
   "source": [
    "df[df['Make'].str.lower().str.startswith('garli')].value_counts('Make')"
   ]
  },
  {
   "cell_type": "code",
   "execution_count": 1397,
   "id": "45b1703a-707d-45b4-a7f7-7fcb1c40c7ad",
   "metadata": {},
   "outputs": [
    {
     "data": {
      "text/plain": [
       "Aircraft_Category\n",
       "NaN           22\n",
       "Helicopter    21\n",
       "Name: count, dtype: int64"
      ]
     },
     "execution_count": 1397,
     "metadata": {},
     "output_type": "execute_result"
    }
   ],
   "source": [
    "df.loc[df['Make'].isin(['Garlick', 'GARLICK', 'GARLICK HELICOPTERS INC', 'Garlick Helicipters Inc.', 'Garlick Helicopters Inc',\n",
    "                        'Garlick Helicopters Inc.']),'Make'] = 'Garlick Helicopters'\n",
    "\n",
    "df[df['Make'] == 'Garlick Helicopters'].value_counts('Aircraft_Category', dropna=False)"
   ]
  },
  {
   "cell_type": "code",
   "execution_count": 1398,
   "id": "9863528c-5add-400a-bea2-d6f716f03f09",
   "metadata": {},
   "outputs": [
    {
     "data": {
      "text/plain": [
       "Make\n",
       "CIRRUS DESIGN CORP           218\n",
       "CIRRUS                        80\n",
       "Cirrus Design Corp.           71\n",
       "Cirrus                        69\n",
       "Cirrus Design Corporation     10\n",
       "Cirrus Design Corp             5\n",
       "CIRRUS DESIGN CORP.            4\n",
       "Cirrus Design                  4\n",
       "CIRRUS DESIGN CORPORATION      3\n",
       "CIRRUS DESIGN                  1\n",
       "Name: count, dtype: int64"
      ]
     },
     "execution_count": 1398,
     "metadata": {},
     "output_type": "execute_result"
    }
   ],
   "source": [
    "df[df['Make'].str.lower().str.startswith('cirr')].value_counts('Make')"
   ]
  },
  {
   "cell_type": "code",
   "execution_count": 1399,
   "id": "3101689e-bf4c-4db4-942f-7aa717a12121",
   "metadata": {},
   "outputs": [
    {
     "data": {
      "text/plain": [
       "Aircraft_Category\n",
       "Airplane    440\n",
       "NaN          25\n",
       "Name: count, dtype: int64"
      ]
     },
     "execution_count": 1399,
     "metadata": {},
     "output_type": "execute_result"
    }
   ],
   "source": [
    "df.loc[df['Make'].isin(['CIRRUS DESIGN CORP', 'CIRRUS', 'Cirrus Design', 'CIRRUS DESIGN', 'Cirrus Design Corp', 'Cirrus Design Corp.',\n",
    "                        'CIRRUS DESIGN CORP.', 'Cirrus Design Corporation', 'CIRRUS DESIGN CORPORATION']),'Make'] = 'Cirrus'\n",
    "\n",
    "df[df['Make'] == 'Cirrus'].value_counts('Aircraft_Category', dropna=False)"
   ]
  },
  {
   "cell_type": "code",
   "execution_count": 1400,
   "id": "68ebaf93-7a68-4207-a218-4ca442e4b8fa",
   "metadata": {},
   "outputs": [
    {
     "data": {
      "text/plain": [
       "Make\n",
       "Unknown                          45\n",
       "Christen Industries              19\n",
       "American Champion (acac)         19\n",
       "Casa                             18\n",
       "Dassault                         18\n",
       "Consolidated Aeronautics Inc.    18\n",
       "Brantly Helicopter               17\n",
       "Glasflugel                       17\n",
       "Globe                            17\n",
       "American                         16\n",
       "Name: count, dtype: int64"
      ]
     },
     "execution_count": 1400,
     "metadata": {},
     "output_type": "execute_result"
    }
   ],
   "source": [
    "# fill in the previous makes for their respective categories\n",
    "df.loc[df['Make'].isin(['Thunder & Colt Balloons']),'Aircraft_Category'] = 'Balloon'\n",
    "df.loc[df['Make'].isin(['ICA Brasov']),'Aircraft_Category'] = 'Glider'\n",
    "df.loc[df['Make'].isin(['Garlick Helicopters']),'Aircraft_Category'] = 'Helicopter'\n",
    "df.loc[df['Make'].isin(['Callair', 'Israel Aircraft Industries', 'Dornier', 'Snow', 'Yakovlev', 'Cirrus']),'Aircraft_Category'] = 'Airplane'\n",
    "\n",
    "df[df['Aircraft_Category'].isna()]['Make'].value_counts().head(10)"
   ]
  },
  {
   "cell_type": "code",
   "execution_count": 1401,
   "id": "26ee29e2-79dc-46a5-8f09-2df89f30a179",
   "metadata": {},
   "outputs": [
    {
     "data": {
      "text/plain": [
       "Make\n",
       "Christen Industries          46\n",
       "CHRISTEN INDUSTRIES INC      16\n",
       "CHRISTENSEN STEVE             1\n",
       "Christen                      1\n",
       "Christen Industries Inc.      1\n",
       "Christen Industries, Inc.     1\n",
       "Christen/walter               1\n",
       "Name: count, dtype: int64"
      ]
     },
     "execution_count": 1401,
     "metadata": {},
     "output_type": "execute_result"
    }
   ],
   "source": [
    "df[df['Make'].str.lower().str.startswith('christen')].value_counts('Make')"
   ]
  },
  {
   "cell_type": "code",
   "execution_count": 1402,
   "id": "82093792-ee03-4ce8-919b-cba677e3ec74",
   "metadata": {},
   "outputs": [
    {
     "data": {
      "text/plain": [
       "Aircraft_Category\n",
       "Airplane    30\n",
       "NaN         19\n",
       "Name: count, dtype: int64"
      ]
     },
     "execution_count": 1402,
     "metadata": {},
     "output_type": "execute_result"
    }
   ],
   "source": [
    "df.loc[df['Make'].isin(['Christen Industries Inc.', 'Christen', 'Christen Industries Inc.',\n",
    "                        'Christen Industries, Inc.']),'Make'] = 'Christen Industries'\n",
    "\n",
    "df[df['Make'] == 'Christen Industries'].value_counts('Aircraft_Category', dropna=False)"
   ]
  },
  {
   "cell_type": "code",
   "execution_count": 1403,
   "id": "ab86ba5a-c1ba-4570-bcef-8a21195f09c0",
   "metadata": {},
   "outputs": [
    {
     "data": {
      "text/plain": [
       "Make\n",
       "AMERICAN CHAMPION AIRCRAFT        46\n",
       "American Champion (acac)          28\n",
       "American Champion                 11\n",
       "American Champion Aircraft         8\n",
       "American Champion (ACAC)           4\n",
       "AMERICAN CHAMPION                  3\n",
       "AMERICAN Champion                  1\n",
       "American Champion Aircraft Cor     1\n",
       "Name: count, dtype: int64"
      ]
     },
     "execution_count": 1403,
     "metadata": {},
     "output_type": "execute_result"
    }
   ],
   "source": [
    "df[df['Make'].str.lower().str.startswith('american c')].value_counts('Make')"
   ]
  },
  {
   "cell_type": "code",
   "execution_count": 1404,
   "id": "2af39468-3e6d-48ef-b317-1cd09b027a88",
   "metadata": {},
   "outputs": [
    {
     "data": {
      "text/plain": [
       "Aircraft_Category\n",
       "Airplane    75\n",
       "NaN         27\n",
       "Name: count, dtype: int64"
      ]
     },
     "execution_count": 1404,
     "metadata": {},
     "output_type": "execute_result"
    }
   ],
   "source": [
    "df.loc[df['Make'].isin(['AMERICAN CHAMPION AIRCRAFT', 'American Champion (acac)', 'American Champion Aircraft', 'American Champion (ACAC)',\n",
    "                       'AMERICAN CHAMPION', 'AMERICAN Champion', 'American Champion Aircraft Cor']),'Make'] = 'American Champion'\n",
    "\n",
    "df[df['Make'] == 'American Champion'].value_counts('Aircraft_Category', dropna=False)"
   ]
  },
  {
   "cell_type": "code",
   "execution_count": 1405,
   "id": "1de83b7e-2d6a-419d-8f3a-3d6ca1772ac0",
   "metadata": {},
   "outputs": [
    {
     "data": {
      "text/plain": [
       "Make\n",
       "Casa    20\n",
       "CASA     2\n",
       "Name: count, dtype: int64"
      ]
     },
     "execution_count": 1405,
     "metadata": {},
     "output_type": "execute_result"
    }
   ],
   "source": [
    "df[df['Make'].str.lower().str.startswith('casa')].value_counts('Make')"
   ]
  },
  {
   "cell_type": "code",
   "execution_count": 1406,
   "id": "77d87b5e-1ae2-45b1-afa6-aebe60ed3186",
   "metadata": {},
   "outputs": [
    {
     "data": {
      "text/plain": [
       "Aircraft_Category\n",
       "NaN         18\n",
       "Airplane     4\n",
       "Name: count, dtype: int64"
      ]
     },
     "execution_count": 1406,
     "metadata": {},
     "output_type": "execute_result"
    }
   ],
   "source": [
    "df.loc[df['Make'].isin(['CASA']),'Make'] = 'Casa'\n",
    "\n",
    "df[df['Make'] == 'Casa'].value_counts('Aircraft_Category', dropna=False)"
   ]
  },
  {
   "cell_type": "code",
   "execution_count": 1407,
   "id": "c799d68a-cda7-4207-b023-823c7290fe27",
   "metadata": {},
   "outputs": [
    {
     "data": {
      "text/plain": [
       "Make\n",
       "Dassault             22\n",
       "Dassault-breguet     16\n",
       "Dassault Aviation    11\n",
       "DASSAULT              7\n",
       "Dassault/sud          5\n",
       "DASSAULT AVIATION     3\n",
       "DASSAULT-BREGUET      3\n",
       "DASSAULT/SUD          3\n",
       "Dassault Falcon       1\n",
       "Dassault-Breguet      1\n",
       "Name: count, dtype: int64"
      ]
     },
     "execution_count": 1407,
     "metadata": {},
     "output_type": "execute_result"
    }
   ],
   "source": [
    "df[df['Make'].str.lower().str.startswith('dass')].value_counts('Make')"
   ]
  },
  {
   "cell_type": "code",
   "execution_count": 1408,
   "id": "73ace804-0d9a-4a9b-9c50-f5c2ef4b00c2",
   "metadata": {},
   "outputs": [
    {
     "data": {
      "text/plain": [
       "Aircraft_Category\n",
       "NaN         50\n",
       "Airplane    22\n",
       "Name: count, dtype: int64"
      ]
     },
     "execution_count": 1408,
     "metadata": {},
     "output_type": "execute_result"
    }
   ],
   "source": [
    "df.loc[df['Make'].isin(['Dassault-breguet', 'Dassault Aviation', 'DASSAULT', 'Dassault/sud', 'DASSAULT AVIATION', 'DASSAULT-BREGUET',\n",
    "                       'DASSAULT/SUD', 'Dassault Falcon', 'Dassault-Breguet']),'Make'] = 'Dassault'\n",
    "\n",
    "df[df['Make'] == 'Dassault'].value_counts('Aircraft_Category', dropna=False)"
   ]
  },
  {
   "cell_type": "code",
   "execution_count": 1409,
   "id": "48137754-551b-4a49-849e-2555313b4612",
   "metadata": {},
   "outputs": [
    {
     "data": {
      "text/plain": [
       "Make\n",
       "Consolidated Aeronautics Inc.     25\n",
       "Consolidated-vultee               15\n",
       "CONSOLIDATED AERONAUTICS INC.     13\n",
       "CONSOLIDATED VULTEE                4\n",
       "CONSOLIDATED  AERONAUTICS INC.     1\n",
       "CONSOLIDATED AERONAUTICS           1\n",
       "CONSOLIDATED AERONAUTICS INC       1\n",
       "Consolidated Aero                  1\n",
       "Consolidated Aeronautics, Inc      1\n",
       "Consolidated Aeronautics, Inc.     1\n",
       "Name: count, dtype: int64"
      ]
     },
     "execution_count": 1409,
     "metadata": {},
     "output_type": "execute_result"
    }
   ],
   "source": [
    "df[df['Make'].str.lower().str.startswith('consolid')].value_counts('Make')"
   ]
  },
  {
   "cell_type": "code",
   "execution_count": 1410,
   "id": "2e0690ac-422a-4a40-9570-46aa2d8bcf1a",
   "metadata": {},
   "outputs": [
    {
     "data": {
      "text/plain": [
       "Aircraft_Category\n",
       "NaN         33\n",
       "Airplane    29\n",
       "Glider       1\n",
       "Name: count, dtype: int64"
      ]
     },
     "execution_count": 1410,
     "metadata": {},
     "output_type": "execute_result"
    }
   ],
   "source": [
    "df.loc[df['Make'].isin(['Consolidated-vultee', 'CONSOLIDATED AERONAUTICS INC.', 'CONSOLIDATED VULTEE', 'CONSOLIDATED AERONAUTICS INC.',\n",
    "                       'CONSOLIDATED AERONAUTICS', 'CONSOLIDATED AERONAUTICS INC.', 'Consolidated Aero', 'Consolidated Aeronautics, Inc',\n",
    "                       'Consolidated Aeronautics, Inc.', 'Consolidated Aeronautics Inc.', 'CONSOLIDATED  AERONAUTICS INC.',\n",
    "                       'CONSOLIDATED AERONAUTICS INC']),'Make'] = 'Consolidated'\n",
    "\n",
    "df[df['Make'] == 'Consolidated'].value_counts('Aircraft_Category', dropna=False)"
   ]
  },
  {
   "cell_type": "code",
   "execution_count": 1411,
   "id": "96c404d6-e9bc-474c-8d75-a73b0040acdf",
   "metadata": {},
   "outputs": [
    {
     "data": {
      "text/plain": [
       "Make\n",
       "Brantly Helicopter    39\n",
       "BRANTLY               13\n",
       "Brantly                7\n",
       "Brantly-hynes          2\n",
       "Brantley               1\n",
       "Name: count, dtype: int64"
      ]
     },
     "execution_count": 1411,
     "metadata": {},
     "output_type": "execute_result"
    }
   ],
   "source": [
    "df[df['Make'].str.lower().str.startswith('brant')].value_counts('Make')"
   ]
  },
  {
   "cell_type": "code",
   "execution_count": 1412,
   "id": "f01bc467-8fbd-4b15-b62e-371801adda7c",
   "metadata": {},
   "outputs": [
    {
     "data": {
      "text/plain": [
       "Aircraft_Category\n",
       "Helicopter    44\n",
       "NaN           18\n",
       "Name: count, dtype: int64"
      ]
     },
     "execution_count": 1412,
     "metadata": {},
     "output_type": "execute_result"
    }
   ],
   "source": [
    "df.loc[df['Make'].isin(['BRANTLY', 'Brantly', 'Brantly-hynes', 'Brantley']),'Make'] = 'Brantly Helicopter'\n",
    "\n",
    "df[df['Make'] == 'Brantly Helicopter'].value_counts('Aircraft_Category', dropna=False)"
   ]
  },
  {
   "cell_type": "code",
   "execution_count": 1413,
   "id": "d0016bfe-cca0-474c-bd92-59f311c5f8aa",
   "metadata": {},
   "outputs": [
    {
     "data": {
      "text/plain": [
       "Make\n",
       "Glasflugel    24\n",
       "GLASFLUGEL     4\n",
       "Name: count, dtype: int64"
      ]
     },
     "execution_count": 1413,
     "metadata": {},
     "output_type": "execute_result"
    }
   ],
   "source": [
    "df[df['Make'].str.lower().str.startswith('glasf')].value_counts('Make')"
   ]
  },
  {
   "cell_type": "code",
   "execution_count": 1414,
   "id": "20dde3ab-e78a-468c-8c0b-1bf558a0f2b8",
   "metadata": {},
   "outputs": [
    {
     "data": {
      "text/plain": [
       "Aircraft_Category\n",
       "NaN         17\n",
       "Glider      10\n",
       "Airplane     1\n",
       "Name: count, dtype: int64"
      ]
     },
     "execution_count": 1414,
     "metadata": {},
     "output_type": "execute_result"
    }
   ],
   "source": [
    "df.loc[df['Make'].isin(['GLASFLUGEL']),'Make'] = 'Glasflugel'\n",
    "\n",
    "df[df['Make'] == 'Glasflugel'].value_counts('Aircraft_Category', dropna=False)"
   ]
  },
  {
   "cell_type": "code",
   "execution_count": 1415,
   "id": "09181121-73c0-4b84-a60a-86293764fa61",
   "metadata": {},
   "outputs": [
    {
     "data": {
      "text/plain": [
       "Make\n",
       "Globe          78\n",
       "GLOBE          17\n",
       "Globe Swift     1\n",
       "Name: count, dtype: int64"
      ]
     },
     "execution_count": 1415,
     "metadata": {},
     "output_type": "execute_result"
    }
   ],
   "source": [
    "df[df['Make'].str.lower().str.startswith('glob')].value_counts('Make')"
   ]
  },
  {
   "cell_type": "code",
   "execution_count": 1416,
   "id": "a3bc63fb-0864-4de5-b936-63e4bd93554b",
   "metadata": {},
   "outputs": [
    {
     "data": {
      "text/plain": [
       "Aircraft_Category\n",
       "Airplane    78\n",
       "NaN         18\n",
       "Name: count, dtype: int64"
      ]
     },
     "execution_count": 1416,
     "metadata": {},
     "output_type": "execute_result"
    }
   ],
   "source": [
    "df.loc[df['Make'].isin(['GLOBE', 'Globe Swift']),'Make'] = 'Globe'\n",
    "\n",
    "df[df['Make'] == 'Globe'].value_counts('Aircraft_Category', dropna=False)"
   ]
  },
  {
   "cell_type": "code",
   "execution_count": 1417,
   "id": "03f522b7-b439-454e-9441-06138a7bdadf",
   "metadata": {},
   "outputs": [
    {
     "data": {
      "text/plain": [
       "Make\n",
       "American Champion                 102\n",
       "American                           57\n",
       "American Aviation Corp. (aac)      20\n",
       "AMERICAN LEGEND AIRCRAFT CO        17\n",
       "American General Aircraft          16\n",
       "American Aviation                  15\n",
       "AMERICAN                           14\n",
       "AMERICAN AVIATION                  12\n",
       "American Legend                     7\n",
       "AMERICAN EUROCOPTER CORP            6\n",
       "American Eurocopter                 6\n",
       "American Blimp Corp.                5\n",
       "AMERICAN EUROCOPTER LLC             4\n",
       "AMERICAN GENERAL ACFT CORP          3\n",
       "American Aerolights                 3\n",
       "American Aviation Corp. (AAC)       2\n",
       "American Legend Aircraft Co.        2\n",
       "American Autogyro                   2\n",
       "AMERICAN LEGEND                     2\n",
       "AMERICAN EUROCOPTER                 2\n",
       "AMERICAN AIR RACING LTD             1\n",
       "American Aircraft                   1\n",
       "American Blimp Corporation          1\n",
       "American Air Racing                 1\n",
       "American Eagle                      1\n",
       "AMERICAN LONGEVITY CORP             1\n",
       "American Legand Aircraft            1\n",
       "AMERICAN BLIMP                      1\n",
       "American Legend Aircraft Compa      1\n",
       "American Yankee                     1\n",
       "Name: count, dtype: int64"
      ]
     },
     "execution_count": 1417,
     "metadata": {},
     "output_type": "execute_result"
    }
   ],
   "source": [
    "df[df['Make'].str.lower().str.startswith('american')].value_counts('Make')"
   ]
  },
  {
   "cell_type": "code",
   "execution_count": 1418,
   "id": "0b553bc8-0c42-4054-8c70-8a15dc6be322",
   "metadata": {},
   "outputs": [
    {
     "data": {
      "text/plain": [
       "Aircraft_Category\n",
       "Airplane    102\n",
       "NaN          19\n",
       "Name: count, dtype: int64"
      ]
     },
     "execution_count": 1418,
     "metadata": {},
     "output_type": "execute_result"
    }
   ],
   "source": [
    "df.loc[df['Make'].isin(['AMERICAN', 'American Aircraft', 'American Aviation', 'AMERICAN AVIATION', 'American Aviation Corp. (aac)',\n",
    "                       'American Aviation Corp. (AAC)']),'Make'] = 'American'\n",
    "df.loc[df['Make'].isin(['AMERICAN AIR RACING LTD']),'Make'] = 'American Air Racing'\n",
    "df.loc[df['Make'].isin(['AMERICAN BLIMP', 'American Blimp Corp.', 'American Blimp Corporation']),'Make'] = 'American Blimp'\n",
    "df.loc[df['Make'].isin(['AMERICAN EUROCOPTER', 'AMERICAN EUROCOPTER CORP', 'AMERICAN EUROCOPTER LLC']),'Make'] = 'American Eurocopter'\n",
    "df.loc[df['Make'].isin(['AMERICAN GENERAL ACFT CORP']),'Make'] = 'American General Aircraft'\n",
    "df.loc[df['Make'].isin(['American Legand Aircraft', 'AMERICAN LEGEND', 'AMERICAN LEGEND AIRCRAFT CO', 'American Legend Aircraft Co.',\n",
    "                       'American Legend Aircraft Compa']),'Make'] = 'American Legend'\n",
    "\n",
    "df[df['Make'] == 'American'].value_counts('Aircraft_Category', dropna=False)"
   ]
  },
  {
   "cell_type": "code",
   "execution_count": 1419,
   "id": "9637611a-e789-4032-86e4-138ec8d6b306",
   "metadata": {},
   "outputs": [
    {
     "data": {
      "text/plain": [
       "Make\n",
       "Unknown                   45\n",
       "Extra Flugzeugbau         16\n",
       "Glaser-dirks              15\n",
       "Sukhoi                    15\n",
       "Eiriavion Oy              15\n",
       "Forney                    15\n",
       "Curtiss-wright            14\n",
       "Classic Aircraft Corp.    14\n",
       "Adams                     14\n",
       "Stearman                  13\n",
       "Name: count, dtype: int64"
      ]
     },
     "execution_count": 1419,
     "metadata": {},
     "output_type": "execute_result"
    }
   ],
   "source": [
    "# fill in the previous makes for their respective categories\n",
    "df.loc[df['Make'].isin(['Glasflugel']),'Aircraft_Category'] = 'Glider'\n",
    "df.loc[df['Make'].isin(['Brantly Helicopter']),'Aircraft_Category'] = 'Helicopter'\n",
    "df.loc[df['Make'].isin(['Christen Industries', 'American Champion', 'Casa', 'Dassault', 'Consolidated', 'Globe',\n",
    "                        'American']),'Aircraft_Category'] = 'Airplane'\n",
    "\n",
    "df[df['Aircraft_Category'].isna()]['Make'].value_counts().head(10)"
   ]
  },
  {
   "cell_type": "code",
   "execution_count": 1420,
   "id": "de837896-dc25-46c3-8378-f117749302cc",
   "metadata": {},
   "outputs": [
    {
     "data": {
      "text/plain": [
       "Make\n",
       "Extra Flugzeugbau                 19\n",
       "EXTRA FLUGZEUGBAU GMBH            10\n",
       "EXTRA                              6\n",
       "Extra                              5\n",
       "EXTRA FLUGZEUGPRODUKTIONS-UND      4\n",
       "Extra Flugzeugbau Gmbh             2\n",
       "EXTRA FLUGZEUGBAU                  1\n",
       "EXTRA Flugzeugproduktions-GMBH     1\n",
       "Extra Flugzeugproduktions-und      1\n",
       "Extra Flugzeugrau Gmbh             1\n",
       "Name: count, dtype: int64"
      ]
     },
     "execution_count": 1420,
     "metadata": {},
     "output_type": "execute_result"
    }
   ],
   "source": [
    "df[df['Make'].str.lower().str.startswith('extra')].value_counts('Make')"
   ]
  },
  {
   "cell_type": "code",
   "execution_count": 1421,
   "id": "70c09d2e-ecbb-4f5a-9536-226bc184d5ae",
   "metadata": {},
   "outputs": [
    {
     "data": {
      "text/plain": [
       "Aircraft_Category\n",
       "Airplane    21\n",
       "NaN         18\n",
       "Name: count, dtype: int64"
      ]
     },
     "execution_count": 1421,
     "metadata": {},
     "output_type": "execute_result"
    }
   ],
   "source": [
    "df.loc[df['Make'].isin(['EXTRA FLUGZEUGBAU GMBH', 'EXTRA FLUGZEUGPRODUKTIONS-UND', 'Extra Flugzeugbau Gmbh', 'EXTRA FLUGZEUGBAU',\n",
    "                       'EXTRA Flugzeugproduktions-GMBH', 'Extra Flugzeugproduktions-und', 'Extra Flugzeugrau Gmbh']),'Make'] = 'Extra Flugzeugbau'\n",
    "df.loc[df['Make'].isin(['EXTRA']),'Make'] = 'Extra'\n",
    "df[df['Make'] == 'Extra Flugzeugbau'].value_counts('Aircraft_Category', dropna=False)"
   ]
  },
  {
   "cell_type": "code",
   "execution_count": 1422,
   "id": "e48c97ae-f350-4e3e-88ad-f9f4ff951e98",
   "metadata": {},
   "outputs": [
    {
     "data": {
      "text/plain": [
       "Make\n",
       "Glaser-dirks                16\n",
       "Glaser Dirks                 3\n",
       "GLASER DIRKS                 1\n",
       "GLASER-DIRKS                 1\n",
       "Glaser-Dirks Flugzeugbau     1\n",
       "Glaser-dirks-flugzeubau      1\n",
       "Name: count, dtype: int64"
      ]
     },
     "execution_count": 1422,
     "metadata": {},
     "output_type": "execute_result"
    }
   ],
   "source": [
    "df[df['Make'].str.lower().str.startswith('glase')].value_counts('Make')"
   ]
  },
  {
   "cell_type": "code",
   "execution_count": 1423,
   "id": "b4cb929c-0462-4e09-9cff-48096050b83c",
   "metadata": {},
   "outputs": [
    {
     "data": {
      "text/plain": [
       "Aircraft_Category\n",
       "NaN       16\n",
       "Glider     7\n",
       "Name: count, dtype: int64"
      ]
     },
     "execution_count": 1423,
     "metadata": {},
     "output_type": "execute_result"
    }
   ],
   "source": [
    "df.loc[df['Make'].isin(['Glaser-dirks', 'Glaser Dirks', 'GLASER DIRKS', 'GLASER-DIRKS', 'Glaser-Dirks Flugzeugbau',\n",
    "                        'Glaser-dirks-flugzeubau']),'Make'] = 'Glaser-Dirks'\n",
    "\n",
    "df[df['Make'] == 'Glaser-Dirks'].value_counts('Aircraft_Category', dropna=False)"
   ]
  },
  {
   "cell_type": "code",
   "execution_count": 1424,
   "id": "fbff547e-b6e5-49a5-ae89-bd5a347d1bab",
   "metadata": {},
   "outputs": [
    {
     "data": {
      "text/plain": [
       "Make\n",
       "Sukhoi    15\n",
       "SUKHOI     6\n",
       "Name: count, dtype: int64"
      ]
     },
     "execution_count": 1424,
     "metadata": {},
     "output_type": "execute_result"
    }
   ],
   "source": [
    "df[df['Make'].str.lower().str.startswith('sukh')].value_counts('Make')"
   ]
  },
  {
   "cell_type": "code",
   "execution_count": 1425,
   "id": "a27dca55-1663-41ee-9103-2a6f1dccec97",
   "metadata": {},
   "outputs": [
    {
     "data": {
      "text/plain": [
       "Aircraft_Category\n",
       "NaN         15\n",
       "Airplane     6\n",
       "Name: count, dtype: int64"
      ]
     },
     "execution_count": 1425,
     "metadata": {},
     "output_type": "execute_result"
    }
   ],
   "source": [
    "df.loc[df['Make'].isin(['SUKHOI']),'Make'] = 'Sukhoi'\n",
    "\n",
    "df[df['Make'] == 'Sukhoi'].value_counts('Aircraft_Category', dropna=False)"
   ]
  },
  {
   "cell_type": "code",
   "execution_count": 1426,
   "id": "87aa5765-cfdc-41ac-9833-a2f191b1061a",
   "metadata": {},
   "outputs": [
    {
     "data": {
      "text/plain": [
       "Make\n",
       "Eiriavion Oy    17\n",
       "EIRIAVION OY     3\n",
       "Name: count, dtype: int64"
      ]
     },
     "execution_count": 1426,
     "metadata": {},
     "output_type": "execute_result"
    }
   ],
   "source": [
    "df[df['Make'].str.lower().str.startswith('eiri')].value_counts('Make')"
   ]
  },
  {
   "cell_type": "code",
   "execution_count": 1427,
   "id": "3827c430-ec00-4087-868f-c6a59f77aa6f",
   "metadata": {},
   "outputs": [
    {
     "data": {
      "text/plain": [
       "Aircraft_Category\n",
       "NaN       15\n",
       "Glider     5\n",
       "Name: count, dtype: int64"
      ]
     },
     "execution_count": 1427,
     "metadata": {},
     "output_type": "execute_result"
    }
   ],
   "source": [
    "df.loc[df['Make'].isin(['EIRIAVION OY']),'Make'] = 'Eiriavion Oy'\n",
    "\n",
    "df[df['Make'] == 'Eiriavion Oy'].value_counts('Aircraft_Category', dropna=False)"
   ]
  },
  {
   "cell_type": "code",
   "execution_count": 1428,
   "id": "263c2c78-6eb9-42cf-b519-d34810b1c889",
   "metadata": {},
   "outputs": [
    {
     "data": {
      "text/plain": [
       "Make\n",
       "Forney    17\n",
       "Name: count, dtype: int64"
      ]
     },
     "execution_count": 1428,
     "metadata": {},
     "output_type": "execute_result"
    }
   ],
   "source": [
    "df[df['Make'].str.lower().str.startswith('forne')].value_counts('Make')"
   ]
  },
  {
   "cell_type": "code",
   "execution_count": 1429,
   "id": "1e113cb0-ff34-47a0-92b3-8fbc9a44b159",
   "metadata": {},
   "outputs": [
    {
     "data": {
      "text/plain": [
       "Aircraft_Category\n",
       "NaN         15\n",
       "Airplane     2\n",
       "Name: count, dtype: int64"
      ]
     },
     "execution_count": 1429,
     "metadata": {},
     "output_type": "execute_result"
    }
   ],
   "source": [
    "df[df['Make'] == 'Forney'].value_counts('Aircraft_Category', dropna=False)"
   ]
  },
  {
   "cell_type": "code",
   "execution_count": 1430,
   "id": "8c10a0e3-1c98-4117-9599-5c6e05b4a646",
   "metadata": {},
   "outputs": [
    {
     "data": {
      "text/plain": [
       "Make\n",
       "Curtiss-wright    17\n",
       "CURTISS WRIGHT    11\n",
       "Curtiss            5\n",
       "Curtiss-Wright     2\n",
       "CURTISS            1\n",
       "Curtiss Moses      1\n",
       "Curtiss Wright     1\n",
       "Name: count, dtype: int64"
      ]
     },
     "execution_count": 1430,
     "metadata": {},
     "output_type": "execute_result"
    }
   ],
   "source": [
    "df[df['Make'].str.lower().str.startswith('curtiss')].value_counts('Make')"
   ]
  },
  {
   "cell_type": "code",
   "execution_count": 1431,
   "id": "fd2c0e16-8184-4c33-b008-44d0d3b6611a",
   "metadata": {},
   "outputs": [
    {
     "data": {
      "text/plain": [
       "Aircraft_Category\n",
       "Airplane    17\n",
       "NaN         14\n",
       "Name: count, dtype: int64"
      ]
     },
     "execution_count": 1431,
     "metadata": {},
     "output_type": "execute_result"
    }
   ],
   "source": [
    "df.loc[df['Make'].isin(['CURTISS WRIGHT', 'Curtiss-wright', 'Curtiss Wright']),'Make'] = 'Curtiss-Wright'\n",
    "\n",
    "df[df['Make'] == 'Curtiss-Wright'].value_counts('Aircraft_Category', dropna=False)"
   ]
  },
  {
   "cell_type": "code",
   "execution_count": 1432,
   "id": "00ed2045-638a-4040-9afc-4bcc1338ecaf",
   "metadata": {},
   "outputs": [
    {
     "data": {
      "text/plain": [
       "Make\n",
       "Classic Aircraft Corp.    16\n",
       "CLASSIC AIRCRAFT CORP      5\n",
       "Classic Aircraft Corp      2\n",
       "Name: count, dtype: int64"
      ]
     },
     "execution_count": 1432,
     "metadata": {},
     "output_type": "execute_result"
    }
   ],
   "source": [
    "df[df['Make'].str.lower().str.startswith('classic')].value_counts('Make')"
   ]
  },
  {
   "cell_type": "code",
   "execution_count": 1433,
   "id": "62b69517-5d06-4d54-9c42-cb34274b22c3",
   "metadata": {},
   "outputs": [
    {
     "data": {
      "text/plain": [
       "Aircraft_Category\n",
       "NaN         16\n",
       "Airplane     7\n",
       "Name: count, dtype: int64"
      ]
     },
     "execution_count": 1433,
     "metadata": {},
     "output_type": "execute_result"
    }
   ],
   "source": [
    "df.loc[df['Make'].isin(['Classic Aircraft Corp.', 'CLASSIC AIRCRAFT CORP', 'Classic Aircraft Corp']),'Make'] = 'Classic Aircraft'\n",
    "\n",
    "df[df['Make'] == 'Classic Aircraft'].value_counts('Aircraft_Category', dropna=False)"
   ]
  },
  {
   "cell_type": "code",
   "execution_count": 1434,
   "id": "56bf3d6f-0cb8-4211-ad3d-2a7e1b120691",
   "metadata": {},
   "outputs": [
    {
     "data": {
      "text/plain": [
       "Make\n",
       "Adams                 19\n",
       "ADAMS                  1\n",
       "ADAMS BALLOONS LLC     1\n",
       "ADAMS DENNIS ALLEN     1\n",
       "ADAMS DONALD L         1\n",
       "ADAMS JOHN R JR        1\n",
       "Adams Balloon          1\n",
       "Name: count, dtype: int64"
      ]
     },
     "execution_count": 1434,
     "metadata": {},
     "output_type": "execute_result"
    }
   ],
   "source": [
    "df[df['Make'].str.lower().str.startswith('adams')].value_counts('Make')"
   ]
  },
  {
   "cell_type": "code",
   "execution_count": 1435,
   "id": "f0ab19d8-7cbc-43a4-a0f3-f14df716513d",
   "metadata": {},
   "outputs": [],
   "source": [
    "df.loc[df['Make'].isin(['ADAMS BALLOONS LLC', 'Adams Balloon']),'Make'] = 'Adams Balloons'"
   ]
  },
  {
   "cell_type": "code",
   "execution_count": 1436,
   "id": "9c2eb15d-c1b7-4a45-9e05-185dc5e1abba",
   "metadata": {},
   "outputs": [
    {
     "data": {
      "text/plain": [
       "Make\n",
       "Adams                 19\n",
       "Adams Balloons         2\n",
       "ADAMS                  1\n",
       "ADAMS DENNIS ALLEN     1\n",
       "ADAMS DONALD L         1\n",
       "ADAMS JOHN R JR        1\n",
       "Name: count, dtype: int64"
      ]
     },
     "execution_count": 1436,
     "metadata": {},
     "output_type": "execute_result"
    }
   ],
   "source": [
    "df[df['Make'].str.lower().str.startswith('adams')].value_counts('Make')"
   ]
  },
  {
   "cell_type": "code",
   "execution_count": 1437,
   "id": "6b322688-6a61-4470-a517-3310d5951ebb",
   "metadata": {},
   "outputs": [
    {
     "data": {
      "text/plain": [
       "Aircraft_Category\n",
       "NaN         14\n",
       "Airplane     3\n",
       "Balloon      2\n",
       "Name: count, dtype: int64"
      ]
     },
     "execution_count": 1437,
     "metadata": {},
     "output_type": "execute_result"
    }
   ],
   "source": [
    "df[df['Make'] == 'Adams'].value_counts('Aircraft_Category', dropna=False)"
   ]
  },
  {
   "cell_type": "code",
   "execution_count": 1438,
   "id": "b3a05d19-593b-4fa9-8523-5b7ff31902b3",
   "metadata": {},
   "outputs": [
    {
     "data": {
      "text/plain": [
       "Model\n",
       "A55S                    6\n",
       "A55                     4\n",
       "AB                      2\n",
       "A-60                    1\n",
       "A60S                    1\n",
       "AX-9                    1\n",
       "Airborne Australia O    1\n",
       "KITFOX                  1\n",
       "RV-6A                   1\n",
       "SONERAI II              1\n",
       "Name: count, dtype: int64"
      ]
     },
     "execution_count": 1438,
     "metadata": {},
     "output_type": "execute_result"
    }
   ],
   "source": [
    "df[df['Make'] == 'Adams'].value_counts('Model', dropna=False)"
   ]
  },
  {
   "cell_type": "markdown",
   "id": "1b369a9f-ba97-48c7-ba02-2ac46e8e5e3f",
   "metadata": {},
   "source": [
    "Balloons: A55S, A55, AB, A-60, A60S, AX-9; Planes: Airborne Australia O, KITFOX, RV-6A, SONERAI II"
   ]
  },
  {
   "cell_type": "code",
   "execution_count": 1439,
   "id": "3edf2b4d-24fa-48ab-87a3-dcf246f99884",
   "metadata": {},
   "outputs": [
    {
     "data": {
      "text/plain": [
       "Aircraft_Category\n",
       "Airplane    1\n",
       "Name: count, dtype: int64"
      ]
     },
     "execution_count": 1439,
     "metadata": {},
     "output_type": "execute_result"
    }
   ],
   "source": [
    "df[df['Model'].isin(['SONERAI II']) & df['Make'].isin(['Adams'])].value_counts('Aircraft_Category', dropna=False)"
   ]
  },
  {
   "cell_type": "code",
   "execution_count": 1440,
   "id": "014ee8e7-f144-43fa-bc80-4753262f4e4a",
   "metadata": {},
   "outputs": [],
   "source": [
    "df.loc[(df['Model'].isin(['A55S', 'A55', 'AB', 'A-60', 'A60S', 'AX-9'])) & (df['Make'].isin(['Adams'])), 'Aircraft_Category'] = 'Balloon'\n",
    "df.loc[(df['Model'].isin(['Airborne Australia O', 'KITFOX', 'RV-6A', 'SONERAI II'])) & (df['Make'].isin(['Adams'])), 'Aircraft_Category'] = 'Airplane'"
   ]
  },
  {
   "cell_type": "code",
   "execution_count": 1441,
   "id": "45498868-6e1b-499c-aa28-7bd40d42304a",
   "metadata": {},
   "outputs": [
    {
     "data": {
      "text/plain": [
       "Aircraft_Category\n",
       "Balloon     15\n",
       "Airplane     4\n",
       "Name: count, dtype: int64"
      ]
     },
     "execution_count": 1441,
     "metadata": {},
     "output_type": "execute_result"
    }
   ],
   "source": [
    "df[df['Make'] == 'Adams'].value_counts('Aircraft_Category', dropna=False)"
   ]
  },
  {
   "cell_type": "code",
   "execution_count": 1442,
   "id": "66c22187-cd20-4d99-a650-09d1f420e4a0",
   "metadata": {},
   "outputs": [
    {
     "data": {
      "text/plain": [
       "Make\n",
       "Adams                 19\n",
       "Adams Balloons         2\n",
       "ADAMS                  1\n",
       "ADAMS DENNIS ALLEN     1\n",
       "ADAMS DONALD L         1\n",
       "ADAMS JOHN R JR        1\n",
       "Name: count, dtype: int64"
      ]
     },
     "execution_count": 1442,
     "metadata": {},
     "output_type": "execute_result"
    }
   ],
   "source": [
    "df[df['Make'].str.lower().str.startswith('adams')].value_counts('Make')"
   ]
  },
  {
   "cell_type": "code",
   "execution_count": 1443,
   "id": "bcc151a3-fd47-4aa7-8b63-b7086481ccd8",
   "metadata": {},
   "outputs": [
    {
     "data": {
      "text/plain": [
       "Aircraft_Category\n",
       "Balloon     16\n",
       "Airplane     8\n",
       "NaN          1\n",
       "Name: count, dtype: int64"
      ]
     },
     "execution_count": 1443,
     "metadata": {},
     "output_type": "execute_result"
    }
   ],
   "source": [
    "df.loc[(df['Make'].isin(['Adams'])) & (df['Aircraft_Category'].isin(['Balloon'])), 'Make'] = 'Adams Balloons'\n",
    "\n",
    "df[df['Make'].str.lower().str.startswith('adams')].value_counts('Aircraft_Category', dropna=False)"
   ]
  },
  {
   "cell_type": "code",
   "execution_count": 1444,
   "id": "f68bbb9d-93c0-4994-969a-4b07d7b43e9a",
   "metadata": {},
   "outputs": [
    {
     "data": {
      "text/plain": [
       "Make\n",
       "Stearman             23\n",
       "STEARMAN AIRCRAFT     5\n",
       "STEARMAN              4\n",
       "Name: count, dtype: int64"
      ]
     },
     "execution_count": 1444,
     "metadata": {},
     "output_type": "execute_result"
    }
   ],
   "source": [
    "df[df['Make'].str.lower().str.startswith('stearm')].value_counts('Make')"
   ]
  },
  {
   "cell_type": "code",
   "execution_count": 1445,
   "id": "904d00a1-7ac7-460d-b28e-9c293ad0bd05",
   "metadata": {},
   "outputs": [
    {
     "data": {
      "text/plain": [
       "Aircraft_Category\n",
       "Airplane    19\n",
       "NaN         13\n",
       "Name: count, dtype: int64"
      ]
     },
     "execution_count": 1445,
     "metadata": {},
     "output_type": "execute_result"
    }
   ],
   "source": [
    "df.loc[df['Make'].isin(['STEARMAN AIRCRAFT', 'STEARMAN']),'Make'] = 'Stearman'\n",
    "\n",
    "df[df['Make'] == 'Stearman'].value_counts('Aircraft_Category', dropna=False)"
   ]
  },
  {
   "cell_type": "code",
   "execution_count": 1446,
   "id": "c265183a-d260-46f2-9c5e-09afe317913a",
   "metadata": {},
   "outputs": [
    {
     "data": {
      "text/plain": [
       "Make\n",
       "Unknown                      45\n",
       "Aerofab Inc.                 12\n",
       "American General Aircraft    12\n",
       "Culver                       12\n",
       "Air & Space                  12\n",
       "Interstate                   12\n",
       "Bombardier                   12\n",
       "Raytheon                     12\n",
       "Barnes                       11\n",
       "Pzl-bielsko                  11\n",
       "Name: count, dtype: int64"
      ]
     },
     "execution_count": 1446,
     "metadata": {},
     "output_type": "execute_result"
    }
   ],
   "source": [
    "# fill in the previous makes for their respective categories\n",
    "df.loc[df['Make'].isin(['Glaser-Dirks', 'Eiriavion Oy']),'Aircraft_Category'] = 'Glider'\n",
    "df.loc[df['Make'].isin(['Adams Balloons']),'Aircraft_Category'] = 'Balloon'\n",
    "df.loc[df['Make'].isin(['Stearman', 'Extra Flugzeugbau', 'Sukhoi', 'Forney', 'Curtiss-Wright', 'Classic Aircraft']),'Aircraft_Category'] = 'Airplane'\n",
    "\n",
    "df[df['Aircraft_Category'].isna()]['Make'].value_counts().head(10)"
   ]
  },
  {
   "cell_type": "code",
   "execution_count": 1447,
   "id": "45aae36e-9b1c-4815-9f52-458ffdfa2473",
   "metadata": {},
   "outputs": [
    {
     "data": {
      "text/plain": [
       "Make\n",
       "Aerofab Inc.     12\n",
       "AEROFAB INC       2\n",
       "AEROFAB INC.      1\n",
       "AeroFab           1\n",
       "Aerofab, Inc.     1\n",
       "Name: count, dtype: int64"
      ]
     },
     "execution_count": 1447,
     "metadata": {},
     "output_type": "execute_result"
    }
   ],
   "source": [
    "df[df['Make'].str.lower().str.startswith('aerof')].value_counts('Make')"
   ]
  },
  {
   "cell_type": "code",
   "execution_count": 1448,
   "id": "af7fdd52-3c02-4869-a092-0affe625c3be",
   "metadata": {},
   "outputs": [
    {
     "data": {
      "text/plain": [
       "Aircraft_Category\n",
       "NaN         13\n",
       "Airplane     3\n",
       "Name: count, dtype: int64"
      ]
     },
     "execution_count": 1448,
     "metadata": {},
     "output_type": "execute_result"
    }
   ],
   "source": [
    "df.loc[df['Make'].isin(['Aerofab Inc.', 'AEROFAB INC', 'AEROFAB INC.', 'Aerofab, Inc.']),'Make'] = 'Aerofab'\n",
    "\n",
    "df[df['Make'] == 'Aerofab'].value_counts('Aircraft_Category', dropna=False)"
   ]
  },
  {
   "cell_type": "code",
   "execution_count": 1449,
   "id": "99d8db07-eaf5-4a18-9d99-3fcfead7b517",
   "metadata": {},
   "outputs": [
    {
     "data": {
      "text/plain": [
       "Make\n",
       "American General Aircraft    19\n",
       "Name: count, dtype: int64"
      ]
     },
     "execution_count": 1449,
     "metadata": {},
     "output_type": "execute_result"
    }
   ],
   "source": [
    "df[df['Make'].str.lower().str.startswith('american g')].value_counts('Make')"
   ]
  },
  {
   "cell_type": "code",
   "execution_count": 1450,
   "id": "bcc1b0a6-deaa-410f-b1d7-7ba87857c6d9",
   "metadata": {},
   "outputs": [
    {
     "data": {
      "text/plain": [
       "Aircraft_Category\n",
       "NaN         12\n",
       "Airplane     7\n",
       "Name: count, dtype: int64"
      ]
     },
     "execution_count": 1450,
     "metadata": {},
     "output_type": "execute_result"
    }
   ],
   "source": [
    "df[df['Make'] == 'American General Aircraft'].value_counts('Aircraft_Category', dropna=False)"
   ]
  },
  {
   "cell_type": "code",
   "execution_count": 1451,
   "id": "ec25cffb-78c0-4c77-9102-dec43558c8f7",
   "metadata": {},
   "outputs": [
    {
     "data": {
      "text/plain": [
       "Make\n",
       "Culver          15\n",
       "CULVER           2\n",
       "CULVER GLENN     1\n",
       "Name: count, dtype: int64"
      ]
     },
     "execution_count": 1451,
     "metadata": {},
     "output_type": "execute_result"
    }
   ],
   "source": [
    "df[df['Make'].str.lower().str.startswith('culv')].value_counts('Make')"
   ]
  },
  {
   "cell_type": "code",
   "execution_count": 1452,
   "id": "167a0bb5-89fd-472b-8e67-4857ce728a7a",
   "metadata": {},
   "outputs": [
    {
     "data": {
      "text/plain": [
       "Aircraft_Category\n",
       "NaN         12\n",
       "Airplane     5\n",
       "Name: count, dtype: int64"
      ]
     },
     "execution_count": 1452,
     "metadata": {},
     "output_type": "execute_result"
    }
   ],
   "source": [
    "df.loc[df['Make'].isin(['CULVER']),'Make'] = 'Culver'\n",
    "\n",
    "df[df['Make'] == 'Culver'].value_counts('Aircraft_Category', dropna=False)"
   ]
  },
  {
   "cell_type": "code",
   "execution_count": 1453,
   "id": "f9f42bc0-95b8-4409-bff7-c238c61ff289",
   "metadata": {},
   "outputs": [
    {
     "data": {
      "text/plain": [
       "Make\n",
       "Air & Space    13\n",
       "Name: count, dtype: int64"
      ]
     },
     "execution_count": 1453,
     "metadata": {},
     "output_type": "execute_result"
    }
   ],
   "source": [
    "df[df['Make'].str.lower().str.startswith('air &')].value_counts('Make')"
   ]
  },
  {
   "cell_type": "code",
   "execution_count": 1454,
   "id": "d9a419a6-7406-4929-a34c-a9460e120843",
   "metadata": {},
   "outputs": [
    {
     "data": {
      "text/plain": [
       "Aircraft_Category\n",
       "NaN          12\n",
       "Gyrocraft     1\n",
       "Name: count, dtype: int64"
      ]
     },
     "execution_count": 1454,
     "metadata": {},
     "output_type": "execute_result"
    }
   ],
   "source": [
    "df[df['Make'] == 'Air & Space'].value_counts('Aircraft_Category', dropna=False)"
   ]
  },
  {
   "cell_type": "code",
   "execution_count": 1455,
   "id": "885460f0-4e2e-4993-8b6f-561c9b02c7d7",
   "metadata": {},
   "outputs": [
    {
     "data": {
      "text/plain": [
       "Make\n",
       "Interstate    17\n",
       "INTERSTATE     3\n",
       "Name: count, dtype: int64"
      ]
     },
     "execution_count": 1455,
     "metadata": {},
     "output_type": "execute_result"
    }
   ],
   "source": [
    "df[df['Make'].str.lower().str.startswith('inters')].value_counts('Make')"
   ]
  },
  {
   "cell_type": "code",
   "execution_count": 1456,
   "id": "4b05789d-fd3d-4ba8-9849-3773b21e8bfd",
   "metadata": {},
   "outputs": [
    {
     "data": {
      "text/plain": [
       "Aircraft_Category\n",
       "NaN         12\n",
       "Airplane     8\n",
       "Name: count, dtype: int64"
      ]
     },
     "execution_count": 1456,
     "metadata": {},
     "output_type": "execute_result"
    }
   ],
   "source": [
    "df.loc[df['Make'].isin(['INTERSTATE']),'Make'] = 'Interstate'\n",
    "\n",
    "df[df['Make'] == 'Interstate'].value_counts('Aircraft_Category', dropna=False)"
   ]
  },
  {
   "cell_type": "code",
   "execution_count": 1457,
   "id": "d72b715a-7171-4b77-928a-b2c5c72a62e6",
   "metadata": {},
   "outputs": [
    {
     "data": {
      "text/plain": [
       "Make\n",
       "BOMBARDIER INC                68\n",
       "BOMBARDIER                    46\n",
       "Bombardier                    29\n",
       "Bombardier, Inc.              22\n",
       "BOMBARDIER LEARJET CORP.       1\n",
       "Bombardier Aerospace, Inc.     1\n",
       "Bombardier Canadair            1\n",
       "Name: count, dtype: int64"
      ]
     },
     "execution_count": 1457,
     "metadata": {},
     "output_type": "execute_result"
    }
   ],
   "source": [
    "df[df['Make'].str.lower().str.startswith('bomb')].value_counts('Make')"
   ]
  },
  {
   "cell_type": "code",
   "execution_count": 1458,
   "id": "8968d662-4188-4bf2-bae9-102b5c3a9cda",
   "metadata": {},
   "outputs": [
    {
     "data": {
      "text/plain": [
       "Aircraft_Category\n",
       "Airplane    141\n",
       "NaN          27\n",
       "Name: count, dtype: int64"
      ]
     },
     "execution_count": 1458,
     "metadata": {},
     "output_type": "execute_result"
    }
   ],
   "source": [
    "df.loc[df['Make'].isin(['BOMBARDIER INC', 'BOMBARDIER', 'Bombardier, Inc.', 'BOMBARDIER LEARJET CORP.', 'Bombardier Aerospace, Inc.',\n",
    "                       'Bombardier Canadair']),'Make'] = 'Bombardier'\n",
    "\n",
    "df[df['Make'] == 'Bombardier'].value_counts('Aircraft_Category', dropna=False)"
   ]
  },
  {
   "cell_type": "code",
   "execution_count": 1459,
   "id": "6e4a9518-26f7-4632-866d-e927f1cedce7",
   "metadata": {},
   "outputs": [
    {
     "data": {
      "text/plain": [
       "Make\n",
       "RAYTHEON AIRCRAFT COMPANY      53\n",
       "Raytheon Aircraft Company      17\n",
       "Raytheon                       16\n",
       "Raytheon Corporate Jets        16\n",
       "RAYTHEON                       15\n",
       "RAYTHEON COMPANY                1\n",
       "RAYTHEON CORPORATE JETS INC     1\n",
       "Raytheon Co                     1\n",
       "Name: count, dtype: int64"
      ]
     },
     "execution_count": 1459,
     "metadata": {},
     "output_type": "execute_result"
    }
   ],
   "source": [
    "df[df['Make'].str.lower().str.startswith('rayth')].value_counts('Make')"
   ]
  },
  {
   "cell_type": "code",
   "execution_count": 1460,
   "id": "846c19e7-d9b3-429c-9c9f-f6ae5e20b794",
   "metadata": {},
   "outputs": [
    {
     "data": {
      "text/plain": [
       "Aircraft_Category\n",
       "Airplane    88\n",
       "NaN         32\n",
       "Name: count, dtype: int64"
      ]
     },
     "execution_count": 1460,
     "metadata": {},
     "output_type": "execute_result"
    }
   ],
   "source": [
    "df.loc[df['Make'].isin(['RAYTHEON AIRCRAFT COMPANY', 'Raytheon Aircraft Company', 'Raytheon Corporate Jets', 'RAYTHEON', 'RAYTHEON COMPANY',\n",
    "                       'RAYTHEON CORPORATE JETS INC', 'Raytheon Co']),'Make'] = 'Raytheon'\n",
    "\n",
    "df[df['Make'] == 'Raytheon'].value_counts('Aircraft_Category', dropna=False)"
   ]
  },
  {
   "cell_type": "code",
   "execution_count": 1461,
   "id": "bd2f96a0-176c-4c35-9cd0-a272d9536cd9",
   "metadata": {},
   "outputs": [
    {
     "data": {
      "text/plain": [
       "Make\n",
       "Barnes                           19\n",
       "BARNES RICHARD B/HOWE MICHAEL     1\n",
       "BARNES STEVEN D                   1\n",
       "BARNES THOMAS A                   1\n",
       "Name: count, dtype: int64"
      ]
     },
     "execution_count": 1461,
     "metadata": {},
     "output_type": "execute_result"
    }
   ],
   "source": [
    "df[df['Make'].str.lower().str.startswith('barnes')].value_counts('Make')"
   ]
  },
  {
   "cell_type": "code",
   "execution_count": 1462,
   "id": "a5dad0f3-d30b-4723-9674-c197cec0851c",
   "metadata": {},
   "outputs": [
    {
     "data": {
      "text/plain": [
       "Aircraft_Category\n",
       "NaN        11\n",
       "Balloon     8\n",
       "Name: count, dtype: int64"
      ]
     },
     "execution_count": 1462,
     "metadata": {},
     "output_type": "execute_result"
    }
   ],
   "source": [
    "df[df['Make'] == 'Barnes'].value_counts('Aircraft_Category', dropna=False)"
   ]
  },
  {
   "cell_type": "code",
   "execution_count": 1463,
   "id": "1fc37943-214a-4ea6-82aa-2c3dc3628c70",
   "metadata": {},
   "outputs": [
    {
     "data": {
      "text/plain": [
       "Make\n",
       "Pzl-mielec             22\n",
       "Pzl-bielsko            11\n",
       "Pzl                     7\n",
       "PZL-SWIDNIK             5\n",
       "PZL MIELEC              4\n",
       "Pzl Warzawa-okecie      3\n",
       "Pzl Okecie              1\n",
       "Pzl-okecie              1\n",
       "Pzl Warzawa-cnpsl       1\n",
       "Pzl Swidnik             1\n",
       "PZL                     1\n",
       "PZL BIELSKO             1\n",
       "PZL-Swidnik             1\n",
       "PZL-BIELSKO             1\n",
       "PZL Warszawa-Okecie     1\n",
       "PZL SWIDNIK             1\n",
       "PZL OKECIE              1\n",
       "Pzl-swidnik             1\n",
       "Name: count, dtype: int64"
      ]
     },
     "execution_count": 1463,
     "metadata": {},
     "output_type": "execute_result"
    }
   ],
   "source": [
    "df[df['Make'].str.lower().str.startswith('pzl')].value_counts('Make')"
   ]
  },
  {
   "cell_type": "code",
   "execution_count": 1464,
   "id": "a7c4d84c-1ef7-4ae2-9326-3783d963c55b",
   "metadata": {},
   "outputs": [
    {
     "data": {
      "text/plain": [
       "Aircraft_Category\n",
       "NaN           29\n",
       "Airplane      23\n",
       "Glider        10\n",
       "Helicopter     2\n",
       "Name: count, dtype: int64"
      ]
     },
     "execution_count": 1464,
     "metadata": {},
     "output_type": "execute_result"
    }
   ],
   "source": [
    "# The different PZL permutations are all connected\n",
    "df.loc[df['Make'].isin(['Pzl-mielec', 'Pzl-bielsko', 'Pzl', 'PZL-SWIDNIK', 'PZL MIELEC', 'Pzl Warzawa-okecie', 'Pzl Okecie', 'Pzl-okecie',\n",
    "                       'Pzl Warzawa-cnpsl', 'Pzl Swidnik', 'PZL BIELSKO', 'PZL-Swidnik', 'PZL-BIELSKO', 'PZL Warszawa-Okecie', 'PZL SWIDNIK',\n",
    "                       'PZL OKECIE', 'Pzl-swidnik']),'Make'] = 'PZL'\n",
    "\n",
    "df[df['Make'] == 'PZL'].value_counts('Aircraft_Category', dropna=False)"
   ]
  },
  {
   "cell_type": "code",
   "execution_count": 1465,
   "id": "deb2edc5-5116-4ddb-bb55-7706ff929f92",
   "metadata": {},
   "outputs": [
    {
     "data": {
      "text/plain": [
       "Model\n",
       "M-18A                11\n",
       "M18                   6\n",
       "PW-5                  5\n",
       "PZL-M-18              3\n",
       "SZD-59                3\n",
       "PZL-104 Wilga 35A     2\n",
       "PW 5                  2\n",
       "SZD-45A OGAR          2\n",
       "PZL-104 WILGA 80      2\n",
       "SW4                   1\n",
       "PZL104                1\n",
       "SW-4                  1\n",
       "101                   1\n",
       "SZD 50-3              1\n",
       "SZD-42-2 JANTAR       1\n",
       "SZD-48-3              1\n",
       "SZD-50-3              1\n",
       "SZD-55-1              1\n",
       "SZD51                 1\n",
       "SZD 55-1              1\n",
       "PZL-104               1\n",
       "PZL-104 WILGA 35A     1\n",
       "PZL-104 35A           1\n",
       "101A                  1\n",
       "PW 6U                 1\n",
       "MIG-17                1\n",
       "M-18T                 1\n",
       "M-18B                 1\n",
       "M-18A DROMADER        1\n",
       "M-18                  1\n",
       "KOLIBER -150A         1\n",
       "JANTAR 2A             1\n",
       "80                    1\n",
       "55-1                  1\n",
       "104-80                1\n",
       "104 Wilga 80          1\n",
       "Wilga 104-80          1\n",
       "Name: count, dtype: int64"
      ]
     },
     "execution_count": 1465,
     "metadata": {},
     "output_type": "execute_result"
    }
   ],
   "source": [
    "# PZL made different categories of aircraft, so we could see if the models may inform what categories they are\n",
    "df[df['Make'] == 'PZL'].value_counts('Model', dropna=False)"
   ]
  },
  {
   "cell_type": "code",
   "execution_count": 1466,
   "id": "8dc49f44-d9eb-4f0c-9289-9f8acfca76d6",
   "metadata": {},
   "outputs": [
    {
     "data": {
      "text/plain": [
       "Aircraft_Category\n",
       "Airplane      40\n",
       "Glider        22\n",
       "Helicopter     2\n",
       "Name: count, dtype: int64"
      ]
     },
     "execution_count": 1466,
     "metadata": {},
     "output_type": "execute_result"
    }
   ],
   "source": [
    "# PZL represents multiple cats of aircraft, so google provides the category for these models\n",
    "df.loc[(df['Make'].isin(['PZL'])) & (df['Model'].isin(['PW-5', 'SZD-59', 'PW 5', 'SZD-45A OGAR', 'SZD 50-3', 'SZD-42-2 JANTAR', 'SZD-48-3',\n",
    "                                                      'SZD-50-3', 'SZD-55-1', 'SZD51', 'SZD 55-1', 'PW 6U', 'JANTAR 2A',\n",
    "                                                       '55-1'])), 'Aircraft_Category'] = 'Glider'\n",
    "\n",
    "df.loc[(df['Make'].isin(['PZL'])) & (df['Model'].isin(['SW4', 'SW-4'])), 'Aircraft_Category'] = 'Helicopter'\n",
    "\n",
    "df.loc[(df['Make'].isin(['PZL'])) & (df['Model'].isin(['M-18A', 'M18', 'PZL-M-18', 'PZL-104 Wilga 35A', 'PZL-104 WILGA 80', 'PZL104',\n",
    "                                                      '101', 'PZL-104', 'PZL-104 WILGA 35A', 'PZL-104 35A', '101A', 'MIG-17', 'M-18T', 'M-18B',\n",
    "                                                      'M-18A DROMADER', 'M-18', 'KOLIBER -150A', '80', '104-80', '104 Wilga 80',\n",
    "                                                      'Wilga 104-80'])), 'Aircraft_Category'] = 'Airplane'\n",
    "\n",
    "df[df['Make'] == 'PZL'].value_counts('Aircraft_Category', dropna=False)"
   ]
  },
  {
   "cell_type": "code",
   "execution_count": 1467,
   "id": "4bdfe69e-7519-457f-91ca-70fb09193222",
   "metadata": {},
   "outputs": [
    {
     "data": {
      "text/plain": [
       "Make\n",
       "Unknown                   45\n",
       "Naval Aircraft Factory    11\n",
       "Hispano Aviacion          11\n",
       "Partenavia                11\n",
       "Piccard                   10\n",
       "Eagle Aircraft Co.        10\n",
       "Atr                       10\n",
       "Great Lakes               10\n",
       "Nord (sncan)               9\n",
       "Meyers Aircraft Co.        9\n",
       "Name: count, dtype: int64"
      ]
     },
     "execution_count": 1467,
     "metadata": {},
     "output_type": "execute_result"
    }
   ],
   "source": [
    "# fill in the previous makes for their respective categories\n",
    "df.loc[df['Make'].isin(['Air & Space']),'Aircraft_Category'] = 'Gyrocraft'\n",
    "df.loc[df['Make'].isin(['Barnes']),'Aircraft_Category'] = 'Balloon'\n",
    "df.loc[df['Make'].isin(['Aerofab', 'American General Aircraft', 'Culver', 'Interstate', 'Bombardier', 'Raytheon']),'Aircraft_Category'] = 'Airplane'\n",
    "\n",
    "df[df['Aircraft_Category'].isna()]['Make'].value_counts().head(10)"
   ]
  },
  {
   "cell_type": "code",
   "execution_count": 1468,
   "id": "e7dddf11-ae72-4931-bc17-96a4c20ec26d",
   "metadata": {},
   "outputs": [
    {
     "data": {
      "text/plain": [
       "Make\n",
       "Naval Aircraft Factory    12\n",
       "NAVAL AIRCRAFT FACTORY     1\n",
       "Name: count, dtype: int64"
      ]
     },
     "execution_count": 1468,
     "metadata": {},
     "output_type": "execute_result"
    }
   ],
   "source": [
    "df[df['Make'].str.lower().str.startswith('nava')].value_counts('Make')"
   ]
  },
  {
   "cell_type": "code",
   "execution_count": 1469,
   "id": "cebdaa22-b442-4ce0-bbee-8fdc1c8b493b",
   "metadata": {},
   "outputs": [
    {
     "data": {
      "text/plain": [
       "Aircraft_Category\n",
       "NaN         11\n",
       "Airplane     2\n",
       "Name: count, dtype: int64"
      ]
     },
     "execution_count": 1469,
     "metadata": {},
     "output_type": "execute_result"
    }
   ],
   "source": [
    "df.loc[df['Make'].isin(['NAVAL AIRCRAFT FACTORY']),'Make'] = 'Naval Aircraft Factory'\n",
    "\n",
    "df[df['Make'] == 'Naval Aircraft Factory'].value_counts('Aircraft_Category', dropna=False)"
   ]
  },
  {
   "cell_type": "code",
   "execution_count": 1470,
   "id": "47767c14-8f08-445f-b866-42a69e5cad2b",
   "metadata": {},
   "outputs": [
    {
     "data": {
      "text/plain": [
       "Make\n",
       "Hispano Aviacion    11\n",
       "Name: count, dtype: int64"
      ]
     },
     "execution_count": 1470,
     "metadata": {},
     "output_type": "execute_result"
    }
   ],
   "source": [
    "df[df['Make'].str.lower().str.startswith('hispa')].value_counts('Make')"
   ]
  },
  {
   "cell_type": "code",
   "execution_count": 1471,
   "id": "73f77299-f199-4ac7-a147-2d654ab0fb7b",
   "metadata": {},
   "outputs": [
    {
     "data": {
      "text/plain": [
       "Aircraft_Category\n",
       "NaN    11\n",
       "Name: count, dtype: int64"
      ]
     },
     "execution_count": 1471,
     "metadata": {},
     "output_type": "execute_result"
    }
   ],
   "source": [
    "df[df['Make'] == 'Hispano Aviacion'].value_counts('Aircraft_Category', dropna=False)"
   ]
  },
  {
   "cell_type": "code",
   "execution_count": 1472,
   "id": "731d1b1a-699f-4ab8-8791-2cad05237b14",
   "metadata": {},
   "outputs": [
    {
     "data": {
      "text/plain": [
       "Make\n",
       "Partenavia           12\n",
       "PARTENAVIA            4\n",
       "PARTENAVIA S.P.A.     1\n",
       "PARTENAVIA SPA        1\n",
       "Name: count, dtype: int64"
      ]
     },
     "execution_count": 1472,
     "metadata": {},
     "output_type": "execute_result"
    }
   ],
   "source": [
    "df[df['Make'].str.lower().str.startswith('parte')].value_counts('Make')"
   ]
  },
  {
   "cell_type": "code",
   "execution_count": 1473,
   "id": "019c3354-9072-4665-827c-9f8421d28e76",
   "metadata": {},
   "outputs": [
    {
     "data": {
      "text/plain": [
       "Aircraft_Category\n",
       "NaN         11\n",
       "Airplane     7\n",
       "Name: count, dtype: int64"
      ]
     },
     "execution_count": 1473,
     "metadata": {},
     "output_type": "execute_result"
    }
   ],
   "source": [
    "df.loc[df['Make'].isin(['PARTENAVIA', 'PARTENAVIA S.P.A.', 'PARTENAVIA SPA']),'Make'] = 'Partenavia'\n",
    "\n",
    "df[df['Make'] == 'Partenavia'].value_counts('Aircraft_Category', dropna=False)"
   ]
  },
  {
   "cell_type": "code",
   "execution_count": 1474,
   "id": "bef25525-b2d6-4181-8da3-8822504d52c9",
   "metadata": {},
   "outputs": [
    {
     "data": {
      "text/plain": [
       "Make\n",
       "Piccard    10\n",
       "Name: count, dtype: int64"
      ]
     },
     "execution_count": 1474,
     "metadata": {},
     "output_type": "execute_result"
    }
   ],
   "source": [
    "df[df['Make'].str.lower().str.startswith('picc')].value_counts('Make')"
   ]
  },
  {
   "cell_type": "code",
   "execution_count": 1475,
   "id": "abfa6999-fdf0-4aab-88ee-40886a12deac",
   "metadata": {},
   "outputs": [
    {
     "data": {
      "text/plain": [
       "Model\n",
       "AX-6    7\n",
       "AX6     1\n",
       "AX6W    1\n",
       "P-80    1\n",
       "Name: count, dtype: int64"
      ]
     },
     "execution_count": 1475,
     "metadata": {},
     "output_type": "execute_result"
    }
   ],
   "source": [
    "df[df['Make'] == 'Piccard'].value_counts('Model', dropna=False)"
   ]
  },
  {
   "cell_type": "markdown",
   "id": "972bc6cf-2092-473e-a6df-299540f1e03c",
   "metadata": {},
   "source": [
    "Google confirms that the models listed under Piccard are balloons"
   ]
  },
  {
   "cell_type": "code",
   "execution_count": 1476,
   "id": "2efa3ea4-e858-4ed5-bad3-9e3ac899a2b4",
   "metadata": {},
   "outputs": [
    {
     "data": {
      "text/plain": [
       "Make\n",
       "Eagle Aircraft Co.    42\n",
       "EAGLE AIRCRAFT CO      1\n",
       "Name: count, dtype: int64"
      ]
     },
     "execution_count": 1476,
     "metadata": {},
     "output_type": "execute_result"
    }
   ],
   "source": [
    "df[df['Make'].str.lower().str.startswith('eagle a')].value_counts('Make')"
   ]
  },
  {
   "cell_type": "code",
   "execution_count": 1477,
   "id": "198d8982-6e6a-4481-9dd5-a88949d883bc",
   "metadata": {},
   "outputs": [
    {
     "data": {
      "text/plain": [
       "Aircraft_Category\n",
       "Airplane    33\n",
       "NaN         10\n",
       "Name: count, dtype: int64"
      ]
     },
     "execution_count": 1477,
     "metadata": {},
     "output_type": "execute_result"
    }
   ],
   "source": [
    "df.loc[df['Make'].isin(['Eagle Aircraft Co.', 'EAGLE AIRCRAFT CO']),'Make'] = 'Eagle Aircraft'\n",
    "\n",
    "df[df['Make'] == 'Eagle Aircraft'].value_counts('Aircraft_Category', dropna=False)"
   ]
  },
  {
   "cell_type": "code",
   "execution_count": 1478,
   "id": "bf00d65c-8a41-4cea-9f97-d6a483b59a7c",
   "metadata": {},
   "outputs": [
    {
     "data": {
      "text/plain": [
       "Make\n",
       "ATR    19\n",
       "Atr    16\n",
       "Name: count, dtype: int64"
      ]
     },
     "execution_count": 1478,
     "metadata": {},
     "output_type": "execute_result"
    }
   ],
   "source": [
    "df[df['Make'].str.lower().str.startswith('atr')].value_counts('Make')"
   ]
  },
  {
   "cell_type": "code",
   "execution_count": 1479,
   "id": "bc1dc96e-a581-4e1e-8d92-2818b9d7e8af",
   "metadata": {},
   "outputs": [
    {
     "data": {
      "text/plain": [
       "Aircraft_Category\n",
       "Airplane    22\n",
       "NaN         13\n",
       "Name: count, dtype: int64"
      ]
     },
     "execution_count": 1479,
     "metadata": {},
     "output_type": "execute_result"
    }
   ],
   "source": [
    "df.loc[df['Make'].isin(['Atr']),'Make'] = 'ATR'\n",
    "\n",
    "df[df['Make'] == 'ATR'].value_counts('Aircraft_Category', dropna=False)"
   ]
  },
  {
   "cell_type": "code",
   "execution_count": 1480,
   "id": "9bdf47fa-9758-4320-b443-a686e06fdb2c",
   "metadata": {},
   "outputs": [
    {
     "data": {
      "text/plain": [
       "Make\n",
       "Great Lakes                     50\n",
       "GREAT LAKES                     14\n",
       "Great Lakes Aircraft Company     1\n",
       "Name: count, dtype: int64"
      ]
     },
     "execution_count": 1480,
     "metadata": {},
     "output_type": "execute_result"
    }
   ],
   "source": [
    "df[df['Make'].str.lower().str.startswith('great')].value_counts('Make')"
   ]
  },
  {
   "cell_type": "code",
   "execution_count": 1481,
   "id": "d43570df-0784-4ed5-bebf-f1892ca9bfe0",
   "metadata": {},
   "outputs": [
    {
     "data": {
      "text/plain": [
       "Aircraft_Category\n",
       "Airplane    55\n",
       "NaN         10\n",
       "Name: count, dtype: int64"
      ]
     },
     "execution_count": 1481,
     "metadata": {},
     "output_type": "execute_result"
    }
   ],
   "source": [
    "df.loc[df['Make'].isin(['GREAT LAKES', 'Great Lakes Aircraft Company']),'Make'] = 'Great Lakes'\n",
    "\n",
    "df[df['Make'] == 'Great Lakes'].value_counts('Aircraft_Category', dropna=False)"
   ]
  },
  {
   "cell_type": "code",
   "execution_count": 1482,
   "id": "37988641-dc18-48b4-a838-778f7772961d",
   "metadata": {},
   "outputs": [
    {
     "data": {
      "text/plain": [
       "Make\n",
       "Nord (sncan)           9\n",
       "NORD                   2\n",
       "Nord                   2\n",
       "NORDQUIST RICHARD A    1\n",
       "Nord (SNCAN)           1\n",
       "Nord Aviation          1\n",
       "Name: count, dtype: int64"
      ]
     },
     "execution_count": 1482,
     "metadata": {},
     "output_type": "execute_result"
    }
   ],
   "source": [
    "df[df['Make'].str.lower().str.startswith('nord')].value_counts('Make')"
   ]
  },
  {
   "cell_type": "code",
   "execution_count": 1483,
   "id": "41dbaa2a-0bdd-44c9-9a6d-215af3ba40e1",
   "metadata": {},
   "outputs": [
    {
     "data": {
      "text/plain": [
       "Aircraft_Category\n",
       "NaN         11\n",
       "Airplane     4\n",
       "Name: count, dtype: int64"
      ]
     },
     "execution_count": 1483,
     "metadata": {},
     "output_type": "execute_result"
    }
   ],
   "source": [
    "df.loc[df['Make'].isin(['Nord (sncan)', 'NORD', 'Nord (SNCAN)', 'Nord Aviation']),'Make'] = 'Nord'\n",
    "\n",
    "df[df['Make'] == 'Nord'].value_counts('Aircraft_Category', dropna=False)"
   ]
  },
  {
   "cell_type": "code",
   "execution_count": 1484,
   "id": "c99e0f0d-7a4e-4470-9580-5cebd5071e5f",
   "metadata": {},
   "outputs": [
    {
     "data": {
      "text/plain": [
       "Make\n",
       "Meyers Aircraft Co.      10\n",
       "MEYERS                    7\n",
       "MEYERS INDUSTRIES INC     3\n",
       "Meyers                    1\n",
       "Name: count, dtype: int64"
      ]
     },
     "execution_count": 1484,
     "metadata": {},
     "output_type": "execute_result"
    }
   ],
   "source": [
    "df[df['Make'].str.lower().str.startswith('meyers')].value_counts('Make')"
   ]
  },
  {
   "cell_type": "code",
   "execution_count": 1485,
   "id": "a61d3a63-71d3-4175-bf34-a228410b49e3",
   "metadata": {},
   "outputs": [
    {
     "data": {
      "text/plain": [
       "Aircraft_Category\n",
       "Airplane    11\n",
       "NaN         10\n",
       "Name: count, dtype: int64"
      ]
     },
     "execution_count": 1485,
     "metadata": {},
     "output_type": "execute_result"
    }
   ],
   "source": [
    "df.loc[df['Make'].isin(['MEYERS', 'MEYERS INDUSTRIES INC', 'Meyers']),'Make'] = 'Meyers Aircraft Co.'\n",
    "\n",
    "df[df['Make'] == 'Meyers Aircraft Co.'].value_counts('Aircraft_Category', dropna=False)"
   ]
  },
  {
   "cell_type": "code",
   "execution_count": 1486,
   "id": "9548a3d0-ed28-4344-af76-08c5de4ede93",
   "metadata": {},
   "outputs": [
    {
     "data": {
      "text/plain": [
       "Make\n",
       "Unknown                       45\n",
       "Fleet                          9\n",
       "Mcculloch                      9\n",
       "Nanchang                       9\n",
       "Head Balloons, Inc.            8\n",
       "Aero Vodochody Aero. Works     8\n",
       "Centrair                       8\n",
       "Commander                      8\n",
       "Quicksilver                    8\n",
       "Chance Vought                  7\n",
       "Name: count, dtype: int64"
      ]
     },
     "execution_count": 1486,
     "metadata": {},
     "output_type": "execute_result"
    }
   ],
   "source": [
    "# fill in the previous makes for their respective categories\n",
    "df.loc[df['Make'].isin(['Piccard']),'Aircraft_Category'] = 'Balloon'\n",
    "df.loc[df['Make'].isin(['Naval Aircraft Factory', 'Hispano Aviacion', 'Partenavia', 'Eagle Aircraft', 'ATR', 'Great Lakes', 'Nord',\n",
    "                       'Meyers Aircraft Co.']),'Aircraft_Category'] = 'Airplane'\n",
    "\n",
    "df[df['Aircraft_Category'].isna()]['Make'].value_counts().head(10)"
   ]
  },
  {
   "cell_type": "code",
   "execution_count": 1487,
   "id": "f11db055-ad29-479b-aeec-2bb8678687fd",
   "metadata": {},
   "outputs": [
    {
     "data": {
      "text/plain": [
       "Make\n",
       "Fleet             10\n",
       "FLEET              6\n",
       "FLEETWOOD JACK     1\n",
       "Name: count, dtype: int64"
      ]
     },
     "execution_count": 1487,
     "metadata": {},
     "output_type": "execute_result"
    }
   ],
   "source": [
    "df[df['Make'].str.lower().str.startswith('fleet')].value_counts('Make')"
   ]
  },
  {
   "cell_type": "code",
   "execution_count": 1488,
   "id": "33eed6bd-c6e9-45c0-a30e-e5f47d86fe99",
   "metadata": {},
   "outputs": [
    {
     "data": {
      "text/plain": [
       "Aircraft_Category\n",
       "NaN         9\n",
       "Airplane    7\n",
       "Name: count, dtype: int64"
      ]
     },
     "execution_count": 1488,
     "metadata": {},
     "output_type": "execute_result"
    }
   ],
   "source": [
    "df.loc[df['Make'].isin(['FLEET']),'Make'] = 'Fleet'\n",
    "\n",
    "df[df['Make'] == 'Fleet'].value_counts('Aircraft_Category', dropna=False)"
   ]
  },
  {
   "cell_type": "code",
   "execution_count": 1489,
   "id": "5fd2f1b2-0748-4464-bf5c-c32023cc914b",
   "metadata": {},
   "outputs": [
    {
     "data": {
      "text/plain": [
       "Make\n",
       "Mcculloch            10\n",
       "MCCULLOCH JERRY       1\n",
       "MCCURRY CHARLES P     1\n",
       "McCurdy               1\n",
       "Mcculley Ronald       1\n",
       "Mccullough            1\n",
       "Name: count, dtype: int64"
      ]
     },
     "execution_count": 1489,
     "metadata": {},
     "output_type": "execute_result"
    }
   ],
   "source": [
    "df[df['Make'].str.lower().str.startswith('mccu')].value_counts('Make')"
   ]
  },
  {
   "cell_type": "code",
   "execution_count": 1490,
   "id": "6d351e03-2944-4b0f-99d2-c919ee856904",
   "metadata": {},
   "outputs": [
    {
     "data": {
      "text/plain": [
       "Aircraft_Category\n",
       "NaN          9\n",
       "Gyrocraft    1\n",
       "Name: count, dtype: int64"
      ]
     },
     "execution_count": 1490,
     "metadata": {},
     "output_type": "execute_result"
    }
   ],
   "source": [
    "df[df['Make'] == 'Mcculloch'].value_counts('Aircraft_Category', dropna=False)"
   ]
  },
  {
   "cell_type": "code",
   "execution_count": 1491,
   "id": "7d2227ed-7598-47eb-a2bb-bb021d078461",
   "metadata": {},
   "outputs": [
    {
     "data": {
      "text/plain": [
       "Make\n",
       "Nanchang          11\n",
       "NANCHANG CHINA     6\n",
       "NANCHANG           4\n",
       "Nanchang China     1\n",
       "Name: count, dtype: int64"
      ]
     },
     "execution_count": 1491,
     "metadata": {},
     "output_type": "execute_result"
    }
   ],
   "source": [
    "df[df['Make'].str.lower().str.startswith('nanc')].value_counts('Make')"
   ]
  },
  {
   "cell_type": "code",
   "execution_count": 1492,
   "id": "f1ec84be-23c7-4b76-89a0-eeeced92d7f9",
   "metadata": {},
   "outputs": [
    {
     "data": {
      "text/plain": [
       "Aircraft_Category\n",
       "Airplane    12\n",
       "NaN         10\n",
       "Name: count, dtype: int64"
      ]
     },
     "execution_count": 1492,
     "metadata": {},
     "output_type": "execute_result"
    }
   ],
   "source": [
    "df.loc[df['Make'].isin(['NANCHANG CHINA', 'NANCHANG', 'Nanchang China']),'Make'] = 'Nanchang'\n",
    "\n",
    "df[df['Make'] == 'Nanchang'].value_counts('Aircraft_Category', dropna=False)"
   ]
  },
  {
   "cell_type": "code",
   "execution_count": 1493,
   "id": "a93786f3-9e7e-442f-a729-542422b7d843",
   "metadata": {},
   "outputs": [
    {
     "data": {
      "text/plain": [
       "Make\n",
       "Head Balloons, Inc.    10\n",
       "HEAD BALLOONS INC       5\n",
       "HEAD                    3\n",
       "Head                    2\n",
       "HEAD BALLOONS INC.      1\n",
       "Head Balloons Inc.      1\n",
       "Name: count, dtype: int64"
      ]
     },
     "execution_count": 1493,
     "metadata": {},
     "output_type": "execute_result"
    }
   ],
   "source": [
    "df[df['Make'].str.lower().str.startswith('head')].value_counts('Make')"
   ]
  },
  {
   "cell_type": "code",
   "execution_count": 1494,
   "id": "44425590-34ff-4a9d-96e2-7b69ba07ac27",
   "metadata": {},
   "outputs": [
    {
     "data": {
      "text/plain": [
       "Aircraft_Category\n",
       "Balloon    14\n",
       "NaN         8\n",
       "Name: count, dtype: int64"
      ]
     },
     "execution_count": 1494,
     "metadata": {},
     "output_type": "execute_result"
    }
   ],
   "source": [
    "df.loc[df['Make'].isin(['Head Balloons, Inc.', 'HEAD BALLOONS INC', 'HEAD', 'Head', 'HEAD BALLOONS INC.',\n",
    "                        'Head Balloons Inc.']),'Make'] = 'Head Balloons'\n",
    "\n",
    "df[df['Make'] == 'Head Balloons'].value_counts('Aircraft_Category', dropna=False)"
   ]
  },
  {
   "cell_type": "code",
   "execution_count": 1495,
   "id": "5e8a22be-7c6c-473a-b2f2-8569945417b7",
   "metadata": {},
   "outputs": [
    {
     "data": {
      "text/plain": [
       "Make\n",
       "AERO VODOCHODY                10\n",
       "Aero Vodochody Aero. Works    10\n",
       "Aero Vodochody                 8\n",
       "Aero Vodochody Aero Works      1\n",
       "Name: count, dtype: int64"
      ]
     },
     "execution_count": 1495,
     "metadata": {},
     "output_type": "execute_result"
    }
   ],
   "source": [
    "df[df['Make'].str.lower().str.startswith('aero v')].value_counts('Make')"
   ]
  },
  {
   "cell_type": "code",
   "execution_count": 1496,
   "id": "edc2d73b-211e-409d-abf1-c1353d34a58e",
   "metadata": {},
   "outputs": [
    {
     "data": {
      "text/plain": [
       "Aircraft_Category\n",
       "NaN         15\n",
       "Airplane    14\n",
       "Name: count, dtype: int64"
      ]
     },
     "execution_count": 1496,
     "metadata": {},
     "output_type": "execute_result"
    }
   ],
   "source": [
    "df.loc[df['Make'].isin(['AERO VODOCHODY', 'Aero Vodochody Aero. Works', 'Aero Vodochody Aero Works']),'Make'] = 'Aero Vodochody'\n",
    "\n",
    "df[df['Make'] == 'Aero Vodochody'].value_counts('Aircraft_Category', dropna=False)"
   ]
  },
  {
   "cell_type": "code",
   "execution_count": 1497,
   "id": "0640ee79-462a-4de5-b8d2-6c227c08a4d7",
   "metadata": {},
   "outputs": [
    {
     "data": {
      "text/plain": [
       "Make\n",
       "Centrair    9\n",
       "CENTRAIR    2\n",
       "Name: count, dtype: int64"
      ]
     },
     "execution_count": 1497,
     "metadata": {},
     "output_type": "execute_result"
    }
   ],
   "source": [
    "df[df['Make'].str.lower().str.startswith('centrai')].value_counts('Make')"
   ]
  },
  {
   "cell_type": "code",
   "execution_count": 1498,
   "id": "a135c2a4-4871-45ea-9d00-6633472101f3",
   "metadata": {},
   "outputs": [
    {
     "data": {
      "text/plain": [
       "Aircraft_Category\n",
       "NaN       8\n",
       "Glider    3\n",
       "Name: count, dtype: int64"
      ]
     },
     "execution_count": 1498,
     "metadata": {},
     "output_type": "execute_result"
    }
   ],
   "source": [
    "df.loc[df['Make'].isin(['CENTRAIR']),'Make'] = 'Centrair'\n",
    "\n",
    "df[df['Make'] == 'Centrair'].value_counts('Aircraft_Category', dropna=False)"
   ]
  },
  {
   "cell_type": "code",
   "execution_count": 1499,
   "id": "fbffc643-bf47-4f12-b517-66bb967727d1",
   "metadata": {},
   "outputs": [
    {
     "data": {
      "text/plain": [
       "Make\n",
       "Commander                     12\n",
       "COMMANDER AIRCRAFT CO          2\n",
       "Commander Aircraft Company     2\n",
       "COMMANDER                      1\n",
       "Commander Aircraft             1\n",
       "Name: count, dtype: int64"
      ]
     },
     "execution_count": 1499,
     "metadata": {},
     "output_type": "execute_result"
    }
   ],
   "source": [
    "df[df['Make'].str.lower().str.startswith('comma')].value_counts('Make')"
   ]
  },
  {
   "cell_type": "code",
   "execution_count": 1500,
   "id": "98d45ede-f998-47a3-9818-60d7aa1eaacf",
   "metadata": {},
   "outputs": [
    {
     "data": {
      "text/plain": [
       "Aircraft_Category\n",
       "Airplane    9\n",
       "NaN         9\n",
       "Name: count, dtype: int64"
      ]
     },
     "execution_count": 1500,
     "metadata": {},
     "output_type": "execute_result"
    }
   ],
   "source": [
    "df.loc[df['Make'].isin(['COMMANDER AIRCRAFT CO', 'Commander Aircraft Company', 'COMMANDER', 'Commander Aircraft']),'Make'] = 'Commander'\n",
    "\n",
    "df[df['Make'] == 'Commander'].value_counts('Aircraft_Category', dropna=False)"
   ]
  },
  {
   "cell_type": "code",
   "execution_count": 1501,
   "id": "994433c4-e856-41cf-8bf6-c05e45daca48",
   "metadata": {},
   "outputs": [
    {
     "data": {
      "text/plain": [
       "Make\n",
       "QUICKSILVER                       36\n",
       "Quickie                           22\n",
       "Quicksilver                       18\n",
       "QUICKSILVER ENTERPRISES INC        2\n",
       "QUICKSILVER MANUFACTURING INC      2\n",
       "QUICKIE                            1\n",
       "QUICKSILVER AIRCRAFT               1\n",
       "QUICKSILVER AIRCRAFT CO            1\n",
       "QUICKSILVER EIPPER ACFT INC        1\n",
       "QUICKSILVER MFG                    1\n",
       "Quickie-myers                      1\n",
       "Quicksilver Aircraft Northeast     1\n",
       "Quicksilver II                     1\n",
       "Quicksilver Manufacturing          1\n",
       "Name: count, dtype: int64"
      ]
     },
     "execution_count": 1501,
     "metadata": {},
     "output_type": "execute_result"
    }
   ],
   "source": [
    "df[df['Make'].str.lower().str.startswith('quick')].value_counts('Make')"
   ]
  },
  {
   "cell_type": "code",
   "execution_count": 1502,
   "id": "2301d41b-abb7-41cc-8a6f-3543287a13cc",
   "metadata": {},
   "outputs": [
    {
     "data": {
      "text/plain": [
       "Aircraft_Category\n",
       "Airplane    24\n",
       "Name: count, dtype: int64"
      ]
     },
     "execution_count": 1502,
     "metadata": {},
     "output_type": "execute_result"
    }
   ],
   "source": [
    "df.loc[df['Make'].isin(['QUICKSILVER', 'QUICKSILVER AIRCRAFT', 'QUICKSILVER AIRCRAFT CO', 'Quicksilver Aircraft Northeast',\n",
    "                        'QUICKSILVER EIPPER ACFT INC', 'QUICKSILVER ENTERPRISES INC', 'Quicksilver II', 'Quicksilver Manufacturing',\n",
    "                        'QUICKSILVER MANUFACTURING INC', 'QUICKSILVER MFG']),'Make'] = 'Quicksilver'\n",
    "\n",
    "df.loc[df['Make'].isin(['QUICKIE', 'Quickie-myers']),'Make'] = 'Quickie'\n",
    "df[df['Make'] == 'Quickie'].value_counts('Aircraft_Category', dropna=False)"
   ]
  },
  {
   "cell_type": "code",
   "execution_count": 1503,
   "id": "6548b3f6-44f8-44e6-b778-a59134bd6070",
   "metadata": {},
   "outputs": [
    {
     "data": {
      "text/plain": [
       "Aircraft_Category\n",
       "Airplane      53\n",
       "NaN            8\n",
       "Ultralight     3\n",
       "Unknown        1\n",
       "Name: count, dtype: int64"
      ]
     },
     "execution_count": 1503,
     "metadata": {},
     "output_type": "execute_result"
    }
   ],
   "source": [
    "df[df['Make'] == 'Quicksilver'].value_counts('Aircraft_Category', dropna=False)"
   ]
  },
  {
   "cell_type": "code",
   "execution_count": 1504,
   "id": "054cf966-3ce4-484b-9d74-d2d8d153e252",
   "metadata": {},
   "outputs": [
    {
     "data": {
      "text/plain": [
       "Model\n",
       "MXL II               9\n",
       "MXL II Sport         4\n",
       "Sport 2S             4\n",
       "MX II Sprint         3\n",
       "MXL II SPORT         3\n",
       "MXII                 3\n",
       "SPORT 2S             3\n",
       "GT-500               3\n",
       "GT500                2\n",
       "MX                   2\n",
       "GT400                2\n",
       "MXII SPORT           2\n",
       "GT 400               2\n",
       "Sport                2\n",
       "QUICKSILVER MX II    1\n",
       "SPRINT II            1\n",
       "Sport II             1\n",
       "Sprint II            1\n",
       "SPRINT 2             1\n",
       "SPORT2S R582         1\n",
       "SPORT IIS            1\n",
       "SPORT 2S R582        1\n",
       "2S                   1\n",
       "MXLII                1\n",
       "MXL2                 1\n",
       "MXL-2                1\n",
       "MXL Sport II         1\n",
       "MXL SPORT            1\n",
       "2S SPORT             1\n",
       "MX2                  1\n",
       "MX-2                 1\n",
       "MX SPRINT II         1\n",
       "GT-400 R503          1\n",
       "GT-400               1\n",
       "UNKNOWN              1\n",
       "Name: count, dtype: int64"
      ]
     },
     "execution_count": 1504,
     "metadata": {},
     "output_type": "execute_result"
    }
   ],
   "source": [
    "df[df['Make'] == 'Quicksilver'].value_counts('Model', dropna=False)"
   ]
  },
  {
   "cell_type": "markdown",
   "id": "f0beb4ab-b95f-4973-9dad-ba4ae4789474",
   "metadata": {},
   "source": [
    "Google says these models are all ultralight aircraft, so the airplane designation is incorrect, and so all Quicksilver entries can be changed to ultralight."
   ]
  },
  {
   "cell_type": "code",
   "execution_count": 1505,
   "id": "951d8304-6d2e-4c82-9da0-dc6ba3c5ecb6",
   "metadata": {},
   "outputs": [
    {
     "data": {
      "text/plain": [
       "Make\n",
       "Chance Vought      7\n",
       "CHANCE VOUGHT      2\n",
       "CHANCEY GERRY M    1\n",
       "Name: count, dtype: int64"
      ]
     },
     "execution_count": 1505,
     "metadata": {},
     "output_type": "execute_result"
    }
   ],
   "source": [
    "df[df['Make'].str.lower().str.startswith('chanc')].value_counts('Make')"
   ]
  },
  {
   "cell_type": "code",
   "execution_count": 1506,
   "id": "ffc52417-0494-42a1-82f1-7d60b6dd72b4",
   "metadata": {},
   "outputs": [
    {
     "data": {
      "text/plain": [
       "Aircraft_Category\n",
       "NaN         7\n",
       "Airplane    2\n",
       "Name: count, dtype: int64"
      ]
     },
     "execution_count": 1506,
     "metadata": {},
     "output_type": "execute_result"
    }
   ],
   "source": [
    "df.loc[df['Make'].isin(['CHANCE VOUGHT']),'Make'] = 'Chance Vought'\n",
    "df[df['Make'] == 'Chance Vought'].value_counts('Aircraft_Category', dropna=False)"
   ]
  },
  {
   "cell_type": "code",
   "execution_count": 1507,
   "id": "21d6e270-057d-43d3-b6a3-520afe505804",
   "metadata": {},
   "outputs": [
    {
     "data": {
      "text/plain": [
       "Make\n",
       "Unknown                           45\n",
       "Reims Aviation                     7\n",
       "Temco                              7\n",
       "Nihon                              7\n",
       "Monocoupe Aircraft                 7\n",
       "Mitchell                           7\n",
       "Slingsby                           7\n",
       "Smith                              7\n",
       "Avian Balloon                      7\n",
       "Government Aircraft Fact (gaf)     6\n",
       "Name: count, dtype: int64"
      ]
     },
     "execution_count": 1507,
     "metadata": {},
     "output_type": "execute_result"
    }
   ],
   "source": [
    "# fill in the previous makes for their respective categories\n",
    "df.loc[df['Make'].isin(['Head Balloons']),'Aircraft_Category'] = 'Balloon'\n",
    "df.loc[df['Make'].isin(['Centrair']),'Aircraft_Category'] = 'Glider'\n",
    "df.loc[df['Make'].isin(['Quicksilver']),'Aircraft_Category'] = 'Ultralight'\n",
    "df.loc[df['Make'].isin(['Mcculloch']),'Aircraft_Category'] = 'Gyrocraft'\n",
    "df.loc[df['Make'].isin(['Fleet', 'Nanchang', 'Aero Vodochody', 'Commander', 'Chance Vought']),'Aircraft_Category'] = 'Airplane'\n",
    "\n",
    "df[df['Aircraft_Category'].isna()]['Make'].value_counts().head(10)"
   ]
  },
  {
   "cell_type": "code",
   "execution_count": 1508,
   "id": "3c55d4ab-654b-4eb0-824b-e383bcad045c",
   "metadata": {},
   "outputs": [
    {
     "data": {
      "text/plain": [
       "Make\n",
       "Reims Aviation           9\n",
       "Reims                    5\n",
       "REIMS                    4\n",
       "REIMS AVIATION SA        2\n",
       "REIMS AVIATION S.A.      1\n",
       "REIMS-CESSNA             1\n",
       "REims                    1\n",
       "Reims Aviation Cessna    1\n",
       "Reims-Cessna             1\n",
       "Name: count, dtype: int64"
      ]
     },
     "execution_count": 1508,
     "metadata": {},
     "output_type": "execute_result"
    }
   ],
   "source": [
    "df[df['Make'].str.lower().str.startswith('reims')].value_counts('Make')"
   ]
  },
  {
   "cell_type": "code",
   "execution_count": 1509,
   "id": "56cb77ee-2d80-4678-81d2-92a7b572d7cf",
   "metadata": {},
   "outputs": [
    {
     "data": {
      "text/plain": [
       "Aircraft_Category\n",
       "Airplane    17\n",
       "NaN          8\n",
       "Name: count, dtype: int64"
      ]
     },
     "execution_count": 1509,
     "metadata": {},
     "output_type": "execute_result"
    }
   ],
   "source": [
    "df.loc[df['Make'].isin(['Reims Aviation', 'REIMS', 'REIMS AVIATION SA', 'REIMS AVIATION S.A.', 'REIMS-CESSNA', 'REims', 'Reims Aviation Cessna',\n",
    "                       'Reims-Cessna']),'Make'] = 'Reims'\n",
    "df[df['Make'] == 'Reims'].value_counts('Aircraft_Category', dropna=False)"
   ]
  },
  {
   "cell_type": "code",
   "execution_count": 1510,
   "id": "47708124-9d69-470a-be8b-a7e2f9fac8ea",
   "metadata": {},
   "outputs": [
    {
     "data": {
      "text/plain": [
       "Make\n",
       "Temco             21\n",
       "TEMCO              8\n",
       "Temco Luscombe     1\n",
       "Name: count, dtype: int64"
      ]
     },
     "execution_count": 1510,
     "metadata": {},
     "output_type": "execute_result"
    }
   ],
   "source": [
    "df[df['Make'].str.lower().str.startswith('temc')].value_counts('Make')"
   ]
  },
  {
   "cell_type": "code",
   "execution_count": 1511,
   "id": "0a61082b-7393-4170-bc7d-f5a3cc0221b2",
   "metadata": {},
   "outputs": [
    {
     "data": {
      "text/plain": [
       "Aircraft_Category\n",
       "Airplane    22\n",
       "NaN          8\n",
       "Name: count, dtype: int64"
      ]
     },
     "execution_count": 1511,
     "metadata": {},
     "output_type": "execute_result"
    }
   ],
   "source": [
    "df.loc[df['Make'].isin(['TEMCO', 'Temco Luscombe']),'Make'] = 'Temco'\n",
    "df[df['Make'] == 'Temco'].value_counts('Aircraft_Category', dropna=False)"
   ]
  },
  {
   "cell_type": "code",
   "execution_count": 1512,
   "id": "e665b53b-0d21-4b1d-81ca-4e46d776bb94",
   "metadata": {},
   "outputs": [
    {
     "data": {
      "text/plain": [
       "Make\n",
       "Nihon    8\n",
       "Name: count, dtype: int64"
      ]
     },
     "execution_count": 1512,
     "metadata": {},
     "output_type": "execute_result"
    }
   ],
   "source": [
    "df[df['Make'].str.lower().str.startswith('nih')].value_counts('Make')"
   ]
  },
  {
   "cell_type": "code",
   "execution_count": 1513,
   "id": "49d0f8d2-5bee-43bc-a636-9700c6bcbc57",
   "metadata": {},
   "outputs": [
    {
     "data": {
      "text/plain": [
       "Aircraft_Category\n",
       "NaN         7\n",
       "Airplane    1\n",
       "Name: count, dtype: int64"
      ]
     },
     "execution_count": 1513,
     "metadata": {},
     "output_type": "execute_result"
    }
   ],
   "source": [
    "df[df['Make'] == 'Nihon'].value_counts('Aircraft_Category', dropna=False)"
   ]
  },
  {
   "cell_type": "code",
   "execution_count": 1514,
   "id": "31a3affb-9976-4ba3-9e08-fe9a8c46d044",
   "metadata": {},
   "outputs": [
    {
     "data": {
      "text/plain": [
       "Make\n",
       "Monocoupe Aircraft    8\n",
       "Monocoupe             5\n",
       "MONOCOUPE             2\n",
       "Name: count, dtype: int64"
      ]
     },
     "execution_count": 1514,
     "metadata": {},
     "output_type": "execute_result"
    }
   ],
   "source": [
    "df[df['Make'].str.lower().str.startswith('mono')].value_counts('Make')"
   ]
  },
  {
   "cell_type": "code",
   "execution_count": 1515,
   "id": "c8815e3e-832a-4939-b1bb-3b45ddd4ccce",
   "metadata": {},
   "outputs": [
    {
     "data": {
      "text/plain": [
       "Aircraft_Category\n",
       "NaN         9\n",
       "Airplane    6\n",
       "Name: count, dtype: int64"
      ]
     },
     "execution_count": 1515,
     "metadata": {},
     "output_type": "execute_result"
    }
   ],
   "source": [
    "df.loc[df['Make'].isin(['Monocoupe Aircraft', 'MONOCOUPE']),'Make'] = 'Monocoupe'\n",
    "df[df['Make'] == 'Monocoupe'].value_counts('Aircraft_Category', dropna=False)"
   ]
  },
  {
   "cell_type": "code",
   "execution_count": 1516,
   "id": "e799ea6c-f1c0-4bab-9a4b-497a096a4f6c",
   "metadata": {},
   "outputs": [
    {
     "data": {
      "text/plain": [
       "Make\n",
       "Mitchell              8\n",
       "MITCHELL DAVID N      1\n",
       "MITCHELL DERRYLE V    1\n",
       "Mitchell Ronald A     1\n",
       "Mitchell/bede         1\n",
       "Name: count, dtype: int64"
      ]
     },
     "execution_count": 1516,
     "metadata": {},
     "output_type": "execute_result"
    }
   ],
   "source": [
    "df[df['Make'].str.lower().str.startswith('mitch')].value_counts('Make')"
   ]
  },
  {
   "cell_type": "code",
   "execution_count": 1517,
   "id": "87075034-ffc2-473e-ad8e-80b1ad05a999",
   "metadata": {},
   "outputs": [
    {
     "data": {
      "text/plain": [
       "Aircraft_Category\n",
       "NaN         7\n",
       "Airplane    1\n",
       "Name: count, dtype: int64"
      ]
     },
     "execution_count": 1517,
     "metadata": {},
     "output_type": "execute_result"
    }
   ],
   "source": [
    "df[df['Make'] == 'Mitchell'].value_counts('Aircraft_Category', dropna=False)"
   ]
  },
  {
   "cell_type": "code",
   "execution_count": 1518,
   "id": "de15cb27-d014-48e9-b928-6c234bc3133a",
   "metadata": {},
   "outputs": [
    {
     "name": "stderr",
     "output_type": "stream",
     "text": [
      "C:\\Users\\joeyc\\anaconda3\\Lib\\site-packages\\IPython\\core\\displayhook.py:281: UserWarning: Output cache limit (currently 1000 entries) hit.\n",
      "Flushing oldest 200 entries.\n",
      "  warn('Output cache limit (currently {sz} entries) hit.\\n'\n"
     ]
    },
    {
     "data": {
      "text/plain": [
       "Make\n",
       "Slingsby                 7\n",
       "SLINGSBY                 2\n",
       "Slingsby Aviation Plc    1\n",
       "Name: count, dtype: int64"
      ]
     },
     "execution_count": 1518,
     "metadata": {},
     "output_type": "execute_result"
    }
   ],
   "source": [
    "df[df['Make'].str.lower().str.startswith('sling')].value_counts('Make')"
   ]
  },
  {
   "cell_type": "code",
   "execution_count": 1519,
   "id": "1d64b10b-eea7-453d-9279-50cdee7286c3",
   "metadata": {},
   "outputs": [
    {
     "data": {
      "text/plain": [
       "Aircraft_Category\n",
       "NaN         8\n",
       "Airplane    1\n",
       "Glider      1\n",
       "Name: count, dtype: int64"
      ]
     },
     "execution_count": 1519,
     "metadata": {},
     "output_type": "execute_result"
    }
   ],
   "source": [
    "df.loc[df['Make'].isin(['SLINGSBY', 'Slingsby Aviation Plc']),'Make'] = 'Slingsby'\n",
    "df[df['Make'] == 'Slingsby'].value_counts('Aircraft_Category', dropna=False)"
   ]
  },
  {
   "cell_type": "markdown",
   "id": "501b6fdd-b441-42fc-8c9d-b99fdece1588",
   "metadata": {},
   "source": [
    "Wikepedia says Slingsby makes both gliders and planes, so I'll look at the models"
   ]
  },
  {
   "cell_type": "code",
   "execution_count": 1520,
   "id": "bd5aa11c-183c-4724-afd3-bcad25dd8288",
   "metadata": {},
   "outputs": [
    {
     "data": {
      "text/plain": [
       "Model\n",
       "41-2                 1\n",
       "CAPSTAN TYPE 49B     1\n",
       "DART T-51            1\n",
       "KESTREL 19           1\n",
       "Swallow Type T.45    1\n",
       "T-51                 1\n",
       "T59D KESTREL 19      1\n",
       "T65A                 1\n",
       "T67M 260             1\n",
       "TYPE 43 SERIES 3F    1\n",
       "Name: count, dtype: int64"
      ]
     },
     "execution_count": 1520,
     "metadata": {},
     "output_type": "execute_result"
    }
   ],
   "source": [
    "df[df['Make'] == 'Slingsby'].value_counts('Model', dropna=False)"
   ]
  },
  {
   "cell_type": "markdown",
   "id": "9c1f62ad-43fd-4ca5-8c27-64f179701c65",
   "metadata": {},
   "source": [
    "Only the T67M 260 is an airplane, the rest are gliders"
   ]
  },
  {
   "cell_type": "code",
   "execution_count": 1521,
   "id": "476bfddd-09a9-4ea1-9f6f-b259d3201985",
   "metadata": {},
   "outputs": [],
   "source": [
    "df.loc[(df['Model'].isin(['T67M 260'])) & (df['Make'].isin(['Slingsby'])), 'Aircraft_Category'] = 'Airplane'\n",
    "\n",
    "df.loc[(df['Model'].isin(['41-2', 'CAPSTAN TYPE 49B', 'DART T-51', 'KESTREL 19', 'Swallow Type T.45', 'T-51', 'T59D KESTREL 19',\n",
    "                         'T65A', 'TYPE 43 SERIES 3F'])) & (df['Make'].isin(['Slingsby'])), 'Aircraft_Category'] = 'Glider'"
   ]
  },
  {
   "cell_type": "code",
   "execution_count": 1522,
   "id": "29a92a52-192f-4472-aa5c-e6e282ed224f",
   "metadata": {},
   "outputs": [
    {
     "data": {
      "text/plain": [
       "Make\n",
       "SMITH                 20\n",
       "Smith                 18\n",
       "Smith Miniplane        3\n",
       "Smith Aerostar         3\n",
       "SMITH MINIPLANE        3\n",
       "SMITHWICK/TREIDEL      1\n",
       "Smith Mini             1\n",
       "Smith Douglas J.       1\n",
       "Smith Arthur Fox       1\n",
       "Smith & R. Mathews     1\n",
       "SMITH VILAS            1\n",
       "SMITH ALBERT F         1\n",
       "SMITH RICHARD D JR     1\n",
       "SMITH EDWARD I         1\n",
       "SMITH DENNIS P         1\n",
       "SMITH Capella          1\n",
       "SMITH BRET B           1\n",
       "SMITH ALLEN            1\n",
       "Smith Wylie Jay        1\n",
       "Name: count, dtype: int64"
      ]
     },
     "execution_count": 1522,
     "metadata": {},
     "output_type": "execute_result"
    }
   ],
   "source": [
    "df[df['Make'].str.lower().str.startswith('smith')].value_counts('Make')"
   ]
  },
  {
   "cell_type": "code",
   "execution_count": 1523,
   "id": "c5a8b1fb-0206-487e-9bc3-5b58e75e4931",
   "metadata": {},
   "outputs": [
    {
     "data": {
      "text/plain": [
       "Model\n",
       "Aerostar 601P         4\n",
       "AEROSTAR 600          2\n",
       "Aerostar 601          2\n",
       "MINIPLANE             2\n",
       "AEROSTAR 601          1\n",
       "LONG-EZ               1\n",
       "MINIPLANE DSA-1       1\n",
       "RV-4                  1\n",
       "S-51D                 1\n",
       "Stewart S51D          1\n",
       "WCS-222 (BELL 47G)    1\n",
       "Zodiac 601XL          1\n",
       "Name: count, dtype: int64"
      ]
     },
     "execution_count": 1523,
     "metadata": {},
     "output_type": "execute_result"
    }
   ],
   "source": [
    "df[df['Make'] == 'Smith'].value_counts('Model', dropna=False)"
   ]
  },
  {
   "cell_type": "code",
   "execution_count": 1524,
   "id": "10a2833a-d38d-49ab-b90f-aec146af545f",
   "metadata": {},
   "outputs": [
    {
     "data": {
      "text/plain": [
       "Aircraft_Category\n",
       "Airplane      10\n",
       "NaN            7\n",
       "Helicopter     1\n",
       "Name: count, dtype: int64"
      ]
     },
     "execution_count": 1524,
     "metadata": {},
     "output_type": "execute_result"
    }
   ],
   "source": [
    "df[df['Make'] == 'Smith'].value_counts('Aircraft_Category', dropna=False)"
   ]
  },
  {
   "cell_type": "markdown",
   "id": "b89d63b0-db42-4c15-ad4e-594c3d564961",
   "metadata": {},
   "source": [
    "The one helicopter under Smith is the WCS-222; the rest are planes. So I'll fill in Smith's categories here by model."
   ]
  },
  {
   "cell_type": "code",
   "execution_count": 1525,
   "id": "7df76c03-edb8-495d-9478-e8031c359988",
   "metadata": {},
   "outputs": [
    {
     "data": {
      "text/plain": [
       "Aircraft_Category\n",
       "Airplane      17\n",
       "Helicopter     1\n",
       "Name: count, dtype: int64"
      ]
     },
     "execution_count": 1525,
     "metadata": {},
     "output_type": "execute_result"
    }
   ],
   "source": [
    "df.loc[(df['Model'].isin(['WCS-222 (BELL 47G)'])) & (df['Make'].isin(['Smith'])), 'Aircraft_Category'] = 'Helicopter'\n",
    "\n",
    "df.loc[(df['Model'].isin(['Aerostar 601P', 'AEROSTAR 600', 'Aerostar 601', 'MINIPLANE', 'AEROSTAR 601', 'LONG-EZ', 'MINIPLANE DSA-1',\n",
    "                         'RV-4', 'S-51D', 'Stewart S51D', 'Zodiac 601XL'])) & (df['Make'].isin(['Smith'])), 'Aircraft_Category'] = 'Airplane'\n",
    "\n",
    "df[df['Make'] == 'Smith'].value_counts('Aircraft_Category', dropna=False)"
   ]
  },
  {
   "cell_type": "code",
   "execution_count": 1526,
   "id": "9e51b67e-3d68-495f-9cf3-d17a8412c008",
   "metadata": {},
   "outputs": [
    {
     "data": {
      "text/plain": [
       "Make\n",
       "Avian Balloon    8\n",
       "Avian            6\n",
       "AVIAN BALLOON    1\n",
       "Name: count, dtype: int64"
      ]
     },
     "execution_count": 1526,
     "metadata": {},
     "output_type": "execute_result"
    }
   ],
   "source": [
    "df[df['Make'].str.lower().str.startswith('avian')].value_counts('Make')"
   ]
  },
  {
   "cell_type": "code",
   "execution_count": 1527,
   "id": "c3176e87-f2f3-4b12-9b64-35ffa684865f",
   "metadata": {},
   "outputs": [
    {
     "data": {
      "text/plain": [
       "Aircraft_Category\n",
       "NaN        12\n",
       "Balloon     3\n",
       "Name: count, dtype: int64"
      ]
     },
     "execution_count": 1527,
     "metadata": {},
     "output_type": "execute_result"
    }
   ],
   "source": [
    "df.loc[df['Make'].isin(['Avian', 'AVIAN BALLOON']),'Make'] = 'Avian Balloon'\n",
    "df[df['Make'] == 'Avian Balloon'].value_counts('Aircraft_Category', dropna=False)"
   ]
  },
  {
   "cell_type": "code",
   "execution_count": 1528,
   "id": "ef3b24bf-90e5-4cf2-94f1-8729c76edf9b",
   "metadata": {},
   "outputs": [
    {
     "data": {
      "text/plain": [
       "Make\n",
       "Government Aircraft Fact (gaf)    6\n",
       "Name: count, dtype: int64"
      ]
     },
     "execution_count": 1528,
     "metadata": {},
     "output_type": "execute_result"
    }
   ],
   "source": [
    "df[df['Make'].str.lower().str.startswith('governm')].value_counts('Make')"
   ]
  },
  {
   "cell_type": "code",
   "execution_count": 1529,
   "id": "ab152f28-fe70-4288-ab59-667304872b6f",
   "metadata": {},
   "outputs": [
    {
     "data": {
      "text/plain": [
       "Model\n",
       "N24A          2\n",
       "N22B          1\n",
       "N22S          1\n",
       "NOMAD 24A     1\n",
       "NOMAD N22B    1\n",
       "Name: count, dtype: int64"
      ]
     },
     "execution_count": 1529,
     "metadata": {},
     "output_type": "execute_result"
    }
   ],
   "source": [
    "df[df['Make'] == 'Government Aircraft Fact (gaf)'].value_counts('Model', dropna=False)"
   ]
  },
  {
   "cell_type": "markdown",
   "id": "30583c4a-fa4f-4978-acfc-a5815ae49a75",
   "metadata": {},
   "source": [
    "These are all planes"
   ]
  },
  {
   "cell_type": "code",
   "execution_count": 1530,
   "id": "0a2d21df-134a-411f-b829-3cc31582cec2",
   "metadata": {},
   "outputs": [
    {
     "data": {
      "text/plain": [
       "Make\n",
       "Unknown                      45\n",
       "Howard Aircraft Corp.         6\n",
       "Intermountain Mfg. (imco)     6\n",
       "Republic                      6\n",
       "Molino Oy                     6\n",
       "Travel Air                    6\n",
       "American Blimp                6\n",
       "Curtiss                       5\n",
       "Grob                          5\n",
       "Varga                         5\n",
       "Name: count, dtype: int64"
      ]
     },
     "execution_count": 1530,
     "metadata": {},
     "output_type": "execute_result"
    }
   ],
   "source": [
    "# fill in the previous makes for their respective categories\n",
    "df.loc[df['Make'].isin(['Avian Balloon']),'Aircraft_Category'] = 'Balloon'\n",
    "df.loc[df['Make'].isin(['Reims', 'Temco', 'Nihon', 'Monocoupe', 'Mitchell', 'Government Aircraft Fact (gaf)']),'Aircraft_Category'] = 'Airplane'\n",
    "\n",
    "df[df['Aircraft_Category'].isna()]['Make'].value_counts().head(10)"
   ]
  },
  {
   "cell_type": "markdown",
   "id": "b1adfe53-f23d-4ac4-9541-201515db9a3b",
   "metadata": {},
   "source": [
    "Just look for Makes that have more than just a handful of entries."
   ]
  },
  {
   "cell_type": "code",
   "execution_count": 1531,
   "id": "3abdcbe0-8d56-4898-98b1-2c3e3aa7190f",
   "metadata": {},
   "outputs": [
    {
     "data": {
      "text/plain": [
       "Make\n",
       "Republic    28\n",
       "REPUBLIC     8\n",
       "Name: count, dtype: int64"
      ]
     },
     "execution_count": 1531,
     "metadata": {},
     "output_type": "execute_result"
    }
   ],
   "source": [
    "df[df['Make'].str.lower().str.startswith('repu')].value_counts('Make')"
   ]
  },
  {
   "cell_type": "code",
   "execution_count": 1532,
   "id": "d05acc12-77fd-482a-9bf7-6f9b5970e955",
   "metadata": {},
   "outputs": [
    {
     "data": {
      "text/plain": [
       "Aircraft_Category\n",
       "Airplane    30\n",
       "NaN          6\n",
       "Name: count, dtype: int64"
      ]
     },
     "execution_count": 1532,
     "metadata": {},
     "output_type": "execute_result"
    }
   ],
   "source": [
    "df.loc[df['Make'].isin(['REPUBLIC']),'Make'] = 'Republic'\n",
    "df[df['Make'] == 'Republic'].value_counts('Aircraft_Category', dropna=False)"
   ]
  },
  {
   "cell_type": "code",
   "execution_count": 1533,
   "id": "26893ce8-9ef1-4c19-9f88-4ccb5eb8a494",
   "metadata": {},
   "outputs": [
    {
     "data": {
      "text/plain": [
       "Make\n",
       "Unknown                      45\n",
       "Travel Air                    6\n",
       "Howard Aircraft Corp.         6\n",
       "American Blimp                6\n",
       "Molino Oy                     6\n",
       "Intermountain Mfg. (imco)     6\n",
       "Beagle Aircraft               5\n",
       "Aircoupe                      5\n",
       "Bucker Flugzeugbau            5\n",
       "Varga                         5\n",
       "Name: count, dtype: int64"
      ]
     },
     "execution_count": 1533,
     "metadata": {},
     "output_type": "execute_result"
    }
   ],
   "source": [
    "df.loc[df['Make'].isin(['Republic']),'Aircraft_Category'] = 'Airplane'\n",
    "df[df['Aircraft_Category'].isna()]['Make'].value_counts().head(10)"
   ]
  },
  {
   "cell_type": "code",
   "execution_count": 1534,
   "id": "a3ab1eb1-630b-4480-9288-f141bca4cb8b",
   "metadata": {},
   "outputs": [
    {
     "data": {
      "text/plain": [
       "Make\n",
       "Beagle Aircraft    6\n",
       "BEAGLE             2\n",
       "Name: count, dtype: int64"
      ]
     },
     "execution_count": 1534,
     "metadata": {},
     "output_type": "execute_result"
    }
   ],
   "source": [
    "df[df['Make'].str.lower().str.startswith('beag')].value_counts('Make')"
   ]
  },
  {
   "cell_type": "code",
   "execution_count": 1535,
   "id": "7e7d1626-1f36-4ded-a35b-1c62ff8d3f40",
   "metadata": {},
   "outputs": [
    {
     "data": {
      "text/plain": [
       "Aircraft_Category\n",
       "NaN         5\n",
       "Airplane    3\n",
       "Name: count, dtype: int64"
      ]
     },
     "execution_count": 1535,
     "metadata": {},
     "output_type": "execute_result"
    }
   ],
   "source": [
    "df.loc[df['Make'].isin(['Beagle Aircraft', 'BEAGLE']),'Make'] = 'Beagle'\n",
    "df[df['Make'] == 'Beagle'].value_counts('Aircraft_Category', dropna=False)"
   ]
  },
  {
   "cell_type": "code",
   "execution_count": 1536,
   "id": "19100c9f-2287-46bc-8ec7-2572bf3a40c1",
   "metadata": {},
   "outputs": [
    {
     "data": {
      "text/plain": [
       "Make\n",
       "Unknown                      45\n",
       "Howard Aircraft Corp.         6\n",
       "Travel Air                    6\n",
       "Intermountain Mfg. (imco)     6\n",
       "Molino Oy                     6\n",
       "American Blimp                6\n",
       "Laister                       5\n",
       "Curtiss                       5\n",
       "Lancair                       5\n",
       "Bucker Flugzeugbau            5\n",
       "Name: count, dtype: int64"
      ]
     },
     "execution_count": 1536,
     "metadata": {},
     "output_type": "execute_result"
    }
   ],
   "source": [
    "df.loc[df['Make'].isin(['Beagle']),'Aircraft_Category'] = 'Airplane'\n",
    "df[df['Aircraft_Category'].isna()]['Make'].value_counts().head(10)"
   ]
  },
  {
   "cell_type": "code",
   "execution_count": 1537,
   "id": "9e372628-025b-40b0-b2bf-aa236b9a9911",
   "metadata": {},
   "outputs": [
    {
     "data": {
      "text/plain": [
       "Make\n",
       "LANCAIR            19\n",
       "Lancair            19\n",
       "LANCAIR COMPANY     7\n",
       "Lancair Company     2\n",
       "LANCE M HOOLEY      1\n",
       "Name: count, dtype: int64"
      ]
     },
     "execution_count": 1537,
     "metadata": {},
     "output_type": "execute_result"
    }
   ],
   "source": [
    "df[df['Make'].str.lower().str.startswith('lanc')].value_counts('Make')"
   ]
  },
  {
   "cell_type": "code",
   "execution_count": 1538,
   "id": "d3d396f5-0861-4f40-a520-0d18fc10110d",
   "metadata": {},
   "outputs": [
    {
     "data": {
      "text/plain": [
       "Aircraft_Category\n",
       "Airplane    40\n",
       "NaN          7\n",
       "Name: count, dtype: int64"
      ]
     },
     "execution_count": 1538,
     "metadata": {},
     "output_type": "execute_result"
    }
   ],
   "source": [
    "df.loc[df['Make'].isin(['LANCAIR', 'LANCAIR COMPANY', 'Lancair Company']),'Make'] = 'Lancair'\n",
    "df[df['Make'] == 'Lancair'].value_counts('Aircraft_Category', dropna=False)"
   ]
  },
  {
   "cell_type": "code",
   "execution_count": 1539,
   "id": "4edb3f26-4a91-405f-a48c-a06ac694875c",
   "metadata": {},
   "outputs": [
    {
     "data": {
      "text/plain": [
       "Make\n",
       "Unknown                      45\n",
       "Molino Oy                     6\n",
       "Howard Aircraft Corp.         6\n",
       "Intermountain Mfg. (imco)     6\n",
       "Travel Air                    6\n",
       "American Blimp                6\n",
       "Porterfield                   5\n",
       "Curtiss                       5\n",
       "Silvaire                      5\n",
       "General Balloon               5\n",
       "Name: count, dtype: int64"
      ]
     },
     "execution_count": 1539,
     "metadata": {},
     "output_type": "execute_result"
    }
   ],
   "source": [
    "df.loc[df['Make'].isin(['Lancair']),'Aircraft_Category'] = 'Airplane'\n",
    "df[df['Aircraft_Category'].isna()]['Make'].value_counts().head(10)"
   ]
  },
  {
   "cell_type": "code",
   "execution_count": 1540,
   "id": "f7c2a548-568d-42f4-a156-c6489fbc3d21",
   "metadata": {},
   "outputs": [
    {
     "data": {
      "text/plain": [
       "Make\n",
       "SILVAIRE                    14\n",
       "Silvaire                     6\n",
       "SILVERLIGHT AVIATION LLC     2\n",
       "Silveira Jonathan A          1\n",
       "SilverLight Aviation         1\n",
       "SilverLight Aviation LLC     1\n",
       "Name: count, dtype: int64"
      ]
     },
     "execution_count": 1540,
     "metadata": {},
     "output_type": "execute_result"
    }
   ],
   "source": [
    "df[df['Make'].str.lower().str.startswith('silv')].value_counts('Make')"
   ]
  },
  {
   "cell_type": "code",
   "execution_count": 1541,
   "id": "3b757f1f-303d-4df6-ac54-bfca322e875f",
   "metadata": {},
   "outputs": [
    {
     "data": {
      "text/plain": [
       "Aircraft_Category\n",
       "Airplane    15\n",
       "NaN          5\n",
       "Name: count, dtype: int64"
      ]
     },
     "execution_count": 1541,
     "metadata": {},
     "output_type": "execute_result"
    }
   ],
   "source": [
    "df.loc[df['Make'].isin(['SILVAIRE']),'Make'] = 'Silvaire'\n",
    "df[df['Make'] == 'Silvaire'].value_counts('Aircraft_Category', dropna=False)"
   ]
  },
  {
   "cell_type": "code",
   "execution_count": 1542,
   "id": "c5715c32-0e91-49c5-a525-0517be371320",
   "metadata": {},
   "outputs": [
    {
     "data": {
      "text/plain": [
       "Make\n",
       "Unknown                      45\n",
       "Howard Aircraft Corp.         6\n",
       "Intermountain Mfg. (imco)     6\n",
       "Travel Air                    6\n",
       "Molino Oy                     6\n",
       "American Blimp                6\n",
       "Grob                          5\n",
       "Aircoupe                      5\n",
       "Bucker Flugzeugbau            5\n",
       "Curtiss                       5\n",
       "Name: count, dtype: int64"
      ]
     },
     "execution_count": 1542,
     "metadata": {},
     "output_type": "execute_result"
    }
   ],
   "source": [
    "df.loc[df['Make'].isin(['Silvaire']),'Aircraft_Category'] = 'Airplane'\n",
    "df[df['Aircraft_Category'].isna()]['Make'].value_counts().head(10)"
   ]
  },
  {
   "cell_type": "code",
   "execution_count": 1543,
   "id": "24815e21-11b2-4733-9c21-00352f33e551",
   "metadata": {},
   "outputs": [
    {
     "data": {
      "text/plain": [
       "Make\n",
       "Travel Air    7\n",
       "TRAVEL AIR    2\n",
       "Name: count, dtype: int64"
      ]
     },
     "execution_count": 1543,
     "metadata": {},
     "output_type": "execute_result"
    }
   ],
   "source": [
    "df[df['Make'].str.lower().str.startswith('travel')].value_counts('Make')"
   ]
  },
  {
   "cell_type": "code",
   "execution_count": 1544,
   "id": "649bc99a-14a6-493a-8d24-dfe197584cb4",
   "metadata": {},
   "outputs": [
    {
     "data": {
      "text/plain": [
       "Aircraft_Category\n",
       "NaN         6\n",
       "Airplane    3\n",
       "Name: count, dtype: int64"
      ]
     },
     "execution_count": 1544,
     "metadata": {},
     "output_type": "execute_result"
    }
   ],
   "source": [
    "df.loc[df['Make'].isin(['TRAVEL AIR']),'Make'] = 'Travel Air'\n",
    "df[df['Make'] == 'Travel Air'].value_counts('Aircraft_Category', dropna=False)"
   ]
  },
  {
   "cell_type": "code",
   "execution_count": 1545,
   "id": "728ddfad-c5a1-4a7f-896f-f319da740aea",
   "metadata": {},
   "outputs": [
    {
     "data": {
      "text/plain": [
       "Make\n",
       "Unknown                      45\n",
       "Howard Aircraft Corp.         6\n",
       "American Blimp                6\n",
       "Molino Oy                     6\n",
       "Intermountain Mfg. (imco)     6\n",
       "Grob                          5\n",
       "Laister                       5\n",
       "Curtiss                       5\n",
       "Varga                         5\n",
       "Bucker Flugzeugbau            5\n",
       "Name: count, dtype: int64"
      ]
     },
     "execution_count": 1545,
     "metadata": {},
     "output_type": "execute_result"
    }
   ],
   "source": [
    "df.loc[df['Make'].isin(['Travel Air']),'Aircraft_Category'] = 'Airplane'\n",
    "df[df['Aircraft_Category'].isna()]['Make'].value_counts().head(10)"
   ]
  },
  {
   "cell_type": "code",
   "execution_count": 1546,
   "id": "6fa811e1-de28-40f4-ad98-88a82c9ceb69",
   "metadata": {},
   "outputs": [
    {
     "data": {
      "text/plain": [
       "Make\n",
       "Grob                9\n",
       "GROB                3\n",
       "GROB-WERKE          2\n",
       "GROB AIRCRAFT AG    1\n",
       "Name: count, dtype: int64"
      ]
     },
     "execution_count": 1546,
     "metadata": {},
     "output_type": "execute_result"
    }
   ],
   "source": [
    "df[df['Make'].str.lower().str.startswith('grob')].value_counts('Make')"
   ]
  },
  {
   "cell_type": "code",
   "execution_count": 1547,
   "id": "61a6a7f0-c6ac-4aa4-85d6-3720f351eb58",
   "metadata": {},
   "outputs": [
    {
     "data": {
      "text/plain": [
       "Aircraft_Category\n",
       "Glider      6\n",
       "NaN         5\n",
       "Airplane    4\n",
       "Name: count, dtype: int64"
      ]
     },
     "execution_count": 1547,
     "metadata": {},
     "output_type": "execute_result"
    }
   ],
   "source": [
    "df.loc[df['Make'].isin(['GROB', 'GROB-WERKE', 'GROB AIRCRAFT AG']),'Make'] = 'Grob'\n",
    "df[df['Make'] == 'Grob'].value_counts('Aircraft_Category', dropna=False)"
   ]
  },
  {
   "cell_type": "code",
   "execution_count": 1548,
   "id": "c282203e-4228-4e2f-b84b-8bbce7670bfd",
   "metadata": {},
   "outputs": [
    {
     "data": {
      "text/plain": [
       "Model\n",
       "G103               4\n",
       "G 120A             2\n",
       "G102               2\n",
       "120A-1             1\n",
       "G 103 TWIN II      1\n",
       "G 180              1\n",
       "G103 TWIN ASTIR    1\n",
       "G103 Twin Astir    1\n",
       "G120A              1\n",
       "G120TP-A           1\n",
       "Name: count, dtype: int64"
      ]
     },
     "execution_count": 1548,
     "metadata": {},
     "output_type": "execute_result"
    }
   ],
   "source": [
    "df[df['Make'] == 'Grob'].value_counts('Model', dropna=False)"
   ]
  },
  {
   "cell_type": "code",
   "execution_count": 1549,
   "id": "f9484314-8591-47a3-ab06-ae41375c950d",
   "metadata": {},
   "outputs": [
    {
     "data": {
      "text/plain": [
       "Make\n",
       "Unknown                      45\n",
       "American Blimp                6\n",
       "Howard Aircraft Corp.         6\n",
       "Intermountain Mfg. (imco)     6\n",
       "Molino Oy                     6\n",
       "Porterfield                   5\n",
       "Varga                         5\n",
       "Bucker Flugzeugbau            5\n",
       "Curtiss                       5\n",
       "Aircoupe                      5\n",
       "Name: count, dtype: int64"
      ]
     },
     "execution_count": 1549,
     "metadata": {},
     "output_type": "execute_result"
    }
   ],
   "source": [
    "df.loc[(df['Model'].isin(['G103', 'G102', 'G 103 TWIN II', 'G103 TWIN ASTIR',\n",
    "                          'G103 Twin Astir'])) & (df['Make'].isin(['Grob'])), 'Aircraft_Category'] = 'Glider'\n",
    "\n",
    "df.loc[(df['Model'].isin(['G 120A', '120A-1', 'G 180', 'G120A', 'G120TP-A'])) & (df['Make'].isin(['Grob'])), 'Aircraft_Category'] = 'Airplane'\n",
    "\n",
    "df[df['Aircraft_Category'].isna()]['Make'].value_counts().head(10)"
   ]
  },
  {
   "cell_type": "code",
   "execution_count": 1550,
   "id": "eaa25a32-441c-4c48-8f5a-523b1d716678",
   "metadata": {},
   "outputs": [
    {
     "data": {
      "text/plain": [
       "Make\n",
       "Varga                   23\n",
       "VARGA AIRCRAFT CORP.     2\n",
       "Name: count, dtype: int64"
      ]
     },
     "execution_count": 1550,
     "metadata": {},
     "output_type": "execute_result"
    }
   ],
   "source": [
    "df[df['Make'].str.lower().str.startswith('varg')].value_counts('Make')"
   ]
  },
  {
   "cell_type": "code",
   "execution_count": 1551,
   "id": "6af63992-b0a0-4a90-8256-6de1e493d291",
   "metadata": {},
   "outputs": [
    {
     "data": {
      "text/plain": [
       "Aircraft_Category\n",
       "Airplane    20\n",
       "NaN          5\n",
       "Name: count, dtype: int64"
      ]
     },
     "execution_count": 1551,
     "metadata": {},
     "output_type": "execute_result"
    }
   ],
   "source": [
    "df.loc[df['Make'].isin(['VARGA AIRCRAFT CORP.']),'Make'] = 'Varga'\n",
    "df[df['Make'] == 'Varga'].value_counts('Aircraft_Category', dropna=False)"
   ]
  },
  {
   "cell_type": "code",
   "execution_count": 1552,
   "id": "e0e0662a-3c39-407f-9f3d-e85d3ada70ec",
   "metadata": {},
   "outputs": [
    {
     "data": {
      "text/plain": [
       "Make\n",
       "Unknown                      45\n",
       "American Blimp                6\n",
       "Howard Aircraft Corp.         6\n",
       "Molino Oy                     6\n",
       "Intermountain Mfg. (imco)     6\n",
       "Curtiss                       5\n",
       "Aircoupe                      5\n",
       "General Balloon               5\n",
       "Bucker Flugzeugbau            5\n",
       "Laister                       5\n",
       "Name: count, dtype: int64"
      ]
     },
     "execution_count": 1552,
     "metadata": {},
     "output_type": "execute_result"
    }
   ],
   "source": [
    "df.loc[df['Make'].isin(['Varga']),'Aircraft_Category'] = 'Airplane'\n",
    "df[df['Aircraft_Category'].isna()]['Make'].value_counts().head(10)"
   ]
  },
  {
   "cell_type": "code",
   "execution_count": 1553,
   "id": "8e0a5482-14c8-4b21-afdc-2f0e3455844c",
   "metadata": {},
   "outputs": [
    {
     "data": {
      "text/plain": [
       "Make\n",
       "Aircraft Mfg & Dev. Co. (amd)     10\n",
       "Aircoupe                           6\n",
       "AIRCRAFT MFG & DEVELOPMENT CO      4\n",
       "AIRCRAFT MFG & DVLPMT CO           2\n",
       "Aircraft Parts & Dev. Corp         2\n",
       "AIRCRAFT INDUSTRIES A.S.           1\n",
       "AIRCRAFT MFG & DESIGN LLC          1\n",
       "Aircraft Mfg & Design LLC          1\n",
       "Aircraft Mfg & Dev. Co.            1\n",
       "Aircraft Mfg & Dev. Co. (AMD)      1\n",
       "Aircraft Mfg & Development Co.     1\n",
       "Name: count, dtype: int64"
      ]
     },
     "execution_count": 1553,
     "metadata": {},
     "output_type": "execute_result"
    }
   ],
   "source": [
    "df[df['Make'].str.lower().str.startswith('airc')].value_counts('Make')"
   ]
  },
  {
   "cell_type": "code",
   "execution_count": 1554,
   "id": "7d4e58d8-391a-4dd9-a5ec-d71b7bdaa484",
   "metadata": {},
   "outputs": [
    {
     "data": {
      "text/plain": [
       "Aircraft_Category\n",
       "Airplane    17\n",
       "NaN          4\n",
       "Name: count, dtype: int64"
      ]
     },
     "execution_count": 1554,
     "metadata": {},
     "output_type": "execute_result"
    }
   ],
   "source": [
    "df.loc[df['Make'].isin(['Aircraft Mfg & Dev. Co. (amd)', 'AIRCRAFT MFG & DEVELOPMENT CO', 'AIRCRAFT MFG & DVLPMT CO',\n",
    "                       'AIRCRAFT MFG & DESIGN LLC', 'Aircraft Mfg & Design LLC', 'Aircraft Mfg & Dev. Co.', 'Aircraft Mfg & Dev. Co. (AMD)',\n",
    "                       'Aircraft Mfg & Development Co.']),'Make'] = 'Aircraft Mfg. & Dev. Co.'\n",
    "\n",
    "df[df['Make'] == 'Aircraft Mfg. & Dev. Co.'].value_counts('Aircraft_Category', dropna=False)"
   ]
  },
  {
   "cell_type": "code",
   "execution_count": 1555,
   "id": "958bd265-d6b6-49db-8795-12e75aa5e098",
   "metadata": {},
   "outputs": [],
   "source": [
    "df.loc[df['Make'].isin(['Aircraft Mfg. & Dev. Co.']),'Aircraft_Category'] = 'Airplane'"
   ]
  },
  {
   "cell_type": "code",
   "execution_count": 1556,
   "id": "0c07a3cd-5028-4457-98f1-c2304f8a516d",
   "metadata": {},
   "outputs": [
    {
     "data": {
      "text/plain": [
       "Aircraft_Category\n",
       "NaN         5\n",
       "Airplane    1\n",
       "Name: count, dtype: int64"
      ]
     },
     "execution_count": 1556,
     "metadata": {},
     "output_type": "execute_result"
    }
   ],
   "source": [
    "df[df['Make'] == 'Aircoupe'].value_counts('Aircraft_Category', dropna=False)"
   ]
  },
  {
   "cell_type": "code",
   "execution_count": 1557,
   "id": "5ab9735c-9484-4c89-9902-6372dadd496d",
   "metadata": {},
   "outputs": [
    {
     "data": {
      "text/plain": [
       "Make\n",
       "Unknown                      45\n",
       "American Blimp                6\n",
       "Intermountain Mfg. (imco)     6\n",
       "Howard Aircraft Corp.         6\n",
       "Molino Oy                     6\n",
       "Laister                       5\n",
       "Bucker Flugzeugbau            5\n",
       "General Balloon               5\n",
       "Curtiss                       5\n",
       "Porterfield                   5\n",
       "Name: count, dtype: int64"
      ]
     },
     "execution_count": 1557,
     "metadata": {},
     "output_type": "execute_result"
    }
   ],
   "source": [
    "df.loc[df['Make'].isin(['Aircoupe']),'Aircraft_Category'] = 'Airplane'\n",
    "\n",
    "df[df['Aircraft_Category'].isna()]['Make'].value_counts().head(10)"
   ]
  },
  {
   "cell_type": "code",
   "execution_count": 1558,
   "id": "8636ef5b-6d47-4682-9d5b-52ecb59cfc85",
   "metadata": {},
   "outputs": [
    {
     "data": {
      "text/plain": [
       "Make\n",
       "Bucker Flugzeugbau    5\n",
       "Bucker Jungmann       2\n",
       "BUCKER JUNGMANN       1\n",
       "BUCKER JUNGMEISTER    1\n",
       "Bucker                1\n",
       "Bucker-jungmann       1\n",
       "Name: count, dtype: int64"
      ]
     },
     "execution_count": 1558,
     "metadata": {},
     "output_type": "execute_result"
    }
   ],
   "source": [
    "df[df['Make'].str.lower().str.startswith('bucker')].value_counts('Make')"
   ]
  },
  {
   "cell_type": "code",
   "execution_count": 1559,
   "id": "692050fe-1ec7-4656-a76b-90805b0085c8",
   "metadata": {},
   "outputs": [
    {
     "data": {
      "text/plain": [
       "Aircraft_Category\n",
       "NaN         7\n",
       "Airplane    4\n",
       "Name: count, dtype: int64"
      ]
     },
     "execution_count": 1559,
     "metadata": {},
     "output_type": "execute_result"
    }
   ],
   "source": [
    "df.loc[df['Make'].isin(['Bucker Jungmann', 'BUCKER JUNGMANN', 'BUCKER JUNGMEISTER', 'Bucker', 'Bucker-jungmann']),'Make'] = 'Bucker Flugzeugbau'\n",
    "\n",
    "df[df['Make'] == 'Bucker Flugzeugbau'].value_counts('Aircraft_Category', dropna=False)"
   ]
  },
  {
   "cell_type": "code",
   "execution_count": 1560,
   "id": "c4436242-da79-4aea-83c8-3727541b0708",
   "metadata": {},
   "outputs": [
    {
     "data": {
      "text/plain": [
       "Make\n",
       "Unknown                      45\n",
       "Molino Oy                     6\n",
       "Intermountain Mfg. (imco)     6\n",
       "Howard Aircraft Corp.         6\n",
       "American Blimp                6\n",
       "Scheibe Flugzeugbau           5\n",
       "General Balloon               5\n",
       "Laister                       5\n",
       "Curtiss                       5\n",
       "Porterfield                   5\n",
       "Name: count, dtype: int64"
      ]
     },
     "execution_count": 1560,
     "metadata": {},
     "output_type": "execute_result"
    }
   ],
   "source": [
    "df.loc[df['Make'].isin(['Bucker Flugzeugbau']),'Aircraft_Category'] = 'Airplane'\n",
    "\n",
    "df[df['Aircraft_Category'].isna()]['Make'].value_counts().head(10)"
   ]
  },
  {
   "cell_type": "code",
   "execution_count": 1561,
   "id": "d366f838-e9c2-4d70-99b6-c5b0bd44f92b",
   "metadata": {},
   "outputs": [
    {
     "data": {
      "text/plain": [
       "Aircraft_Category\n",
       "Airplane             73236\n",
       "Helicopter            7708\n",
       "Glider                1257\n",
       "NaN                    670\n",
       "Balloon                662\n",
       "Gyrocraft              209\n",
       "Weight-Shift           160\n",
       "Ultralight             110\n",
       "Powered Parachute       90\n",
       "WSFT                     9\n",
       "Unknown                  6\n",
       "Blimp                    4\n",
       "Powered-Lift             2\n",
       "UNK                      2\n",
       "Rocket                   1\n",
       "ULTR                     1\n",
       "Name: count, dtype: int64"
      ]
     },
     "execution_count": 1561,
     "metadata": {},
     "output_type": "execute_result"
    }
   ],
   "source": [
    "df['Aircraft_Category'].value_counts(dropna=False)"
   ]
  },
  {
   "cell_type": "code",
   "execution_count": 1562,
   "id": "3d0b3d16-9f2e-4ede-bc80-d16815e56589",
   "metadata": {},
   "outputs": [
    {
     "data": {
      "text/plain": [
       "Make\n",
       "Varieze                           1\n",
       "SUI RY, LAURINEN JANNE, KÄÄRIÄ    1\n",
       "AMATEUR CONSTRUCTION              1\n",
       "Parachute Icarus                  1\n",
       "RANS                              1\n",
       "QUAD CITY                         1\n",
       "Name: count, dtype: int64"
      ]
     },
     "execution_count": 1562,
     "metadata": {},
     "output_type": "execute_result"
    }
   ],
   "source": [
    "df[df['Aircraft_Category'] == 'Unknown']['Make'].value_counts()"
   ]
  },
  {
   "cell_type": "code",
   "execution_count": 1563,
   "id": "cb8a9ae6-2d69-4742-a40f-0544b313a768",
   "metadata": {},
   "outputs": [
    {
     "data": {
      "text/plain": [
       "Aircraft_Category\n",
       "Airplane    4\n",
       "Unknown     1\n",
       "Name: count, dtype: int64"
      ]
     },
     "execution_count": 1563,
     "metadata": {},
     "output_type": "execute_result"
    }
   ],
   "source": [
    "df[df['Make'] == 'Varieze']['Aircraft_Category'].value_counts()"
   ]
  },
  {
   "cell_type": "code",
   "execution_count": 1564,
   "id": "36a16b25-1895-46be-924c-0d2218546777",
   "metadata": {},
   "outputs": [
    {
     "data": {
      "text/plain": [
       "Model\n",
       "Unknown                44\n",
       "206                     1\n",
       "Safari 400              1\n",
       "BE20                    1\n",
       "Rotorway                1\n",
       "Supercat                1\n",
       "Free Bird Sportlite     1\n",
       "RV-4                    1\n",
       "Challenger II           1\n",
       "Avid Flyer              1\n",
       "KR-2                    1\n",
       "WINDWAGON               1\n",
       "A330                    1\n",
       "AVID FLYER              1\n",
       "QUICKIE                 1\n",
       "GLIDER TRYKE            1\n",
       "HOBBS B8M               1\n",
       "STARDUSTER TOO          1\n",
       "SKYBOLT                 1\n",
       "MIDGET MUSTANG          1\n",
       "Airbus                  1\n",
       "Name: count, dtype: int64"
      ]
     },
     "execution_count": 1564,
     "metadata": {},
     "output_type": "execute_result"
    }
   ],
   "source": [
    "df.loc[df['Make'].isin(['Varieze']),'Aircraft_Category'] = 'Airplane'\n",
    "\n",
    "df[df['Make'] == 'Unknown']['Model'].value_counts(dropna=False)"
   ]
  },
  {
   "cell_type": "code",
   "execution_count": 1565,
   "id": "49dc8bbf-9f82-4965-b9dd-5df1f9e3452c",
   "metadata": {},
   "outputs": [
    {
     "data": {
      "text/plain": [
       "Aircraft_Category\n",
       "Helicopter    1\n",
       "Name: count, dtype: int64"
      ]
     },
     "execution_count": 1565,
     "metadata": {},
     "output_type": "execute_result"
    }
   ],
   "source": [
    "df[df['Make'].isin(['Unknown']) & df['Model'].isin(['Safari 400'])].value_counts('Aircraft_Category', dropna=False)"
   ]
  },
  {
   "cell_type": "code",
   "execution_count": 1566,
   "id": "b52d18a1-2fe7-4e8f-ae76-e2271489f924",
   "metadata": {},
   "outputs": [
    {
     "data": {
      "text/html": [
       "<div>\n",
       "<style scoped>\n",
       "    .dataframe tbody tr th:only-of-type {\n",
       "        vertical-align: middle;\n",
       "    }\n",
       "\n",
       "    .dataframe tbody tr th {\n",
       "        vertical-align: top;\n",
       "    }\n",
       "\n",
       "    .dataframe thead th {\n",
       "        text-align: right;\n",
       "    }\n",
       "</style>\n",
       "<table border=\"1\" class=\"dataframe\">\n",
       "  <thead>\n",
       "    <tr style=\"text-align: right;\">\n",
       "      <th></th>\n",
       "      <th>Event_Id</th>\n",
       "      <th>Investigation_Type</th>\n",
       "      <th>Accident_Number</th>\n",
       "      <th>Event_Date</th>\n",
       "      <th>Location</th>\n",
       "      <th>Country</th>\n",
       "      <th>Aircraft_damage</th>\n",
       "      <th>Aircraft_Category</th>\n",
       "      <th>Make</th>\n",
       "      <th>Model</th>\n",
       "      <th>...</th>\n",
       "      <th>Number_of_Engines</th>\n",
       "      <th>Engine_Type</th>\n",
       "      <th>Purpose_of_flight</th>\n",
       "      <th>Total_Fatal_Injuries</th>\n",
       "      <th>Total_Serious_Injuries</th>\n",
       "      <th>Total_Minor_Injuries</th>\n",
       "      <th>Total_Uninjured</th>\n",
       "      <th>Weather_Condition</th>\n",
       "      <th>Broad_phase_of_flight</th>\n",
       "      <th>Report_Status</th>\n",
       "    </tr>\n",
       "  </thead>\n",
       "  <tbody>\n",
       "    <tr>\n",
       "      <th>71377</th>\n",
       "      <td>20120628X03954</td>\n",
       "      <td>Accident</td>\n",
       "      <td>CEN12WA400</td>\n",
       "      <td>2012-02-18</td>\n",
       "      <td>Lahr, Germany</td>\n",
       "      <td>Germany</td>\n",
       "      <td>Destroyed</td>\n",
       "      <td>Helicopter</td>\n",
       "      <td>Unknown</td>\n",
       "      <td>Safari 400</td>\n",
       "      <td>...</td>\n",
       "      <td>1.0</td>\n",
       "      <td>Unknown</td>\n",
       "      <td>Personal</td>\n",
       "      <td>1.0</td>\n",
       "      <td>0.0</td>\n",
       "      <td>0.0</td>\n",
       "      <td>0.0</td>\n",
       "      <td>VMC</td>\n",
       "      <td>Unknown</td>\n",
       "      <td>Unknown</td>\n",
       "    </tr>\n",
       "  </tbody>\n",
       "</table>\n",
       "<p>1 rows × 21 columns</p>\n",
       "</div>"
      ],
      "text/plain": [
       "             Event_Id Investigation_Type Accident_Number  Event_Date  \\\n",
       "71377  20120628X03954           Accident      CEN12WA400  2012-02-18   \n",
       "\n",
       "            Location  Country Aircraft_damage Aircraft_Category     Make  \\\n",
       "71377  Lahr, Germany  Germany       Destroyed        Helicopter  Unknown   \n",
       "\n",
       "            Model  ... Number_of_Engines Engine_Type Purpose_of_flight  \\\n",
       "71377  Safari 400  ...               1.0     Unknown          Personal   \n",
       "\n",
       "      Total_Fatal_Injuries  Total_Serious_Injuries  Total_Minor_Injuries  \\\n",
       "71377                  1.0                     0.0                   0.0   \n",
       "\n",
       "       Total_Uninjured  Weather_Condition Broad_phase_of_flight Report_Status  \n",
       "71377              0.0                VMC               Unknown       Unknown  \n",
       "\n",
       "[1 rows x 21 columns]"
      ]
     },
     "execution_count": 1566,
     "metadata": {},
     "output_type": "execute_result"
    }
   ],
   "source": [
    "df[df['Make'].isin(['Unknown']) & df['Model'].isin(['Safari 400'])].head()"
   ]
  },
  {
   "cell_type": "code",
   "execution_count": 1567,
   "id": "6e3aa862-489f-455b-a7ac-71a1bc170090",
   "metadata": {},
   "outputs": [
    {
     "data": {
      "text/plain": [
       "Make\n",
       "SAFARI    1\n",
       "Name: count, dtype: int64"
      ]
     },
     "execution_count": 1567,
     "metadata": {},
     "output_type": "execute_result"
    }
   ],
   "source": [
    "df[df['Make'].str.lower().str.startswith('saf')].value_counts('Make')"
   ]
  },
  {
   "cell_type": "code",
   "execution_count": 1568,
   "id": "36c999f1-4461-4196-9d7a-3a7974cc5ff4",
   "metadata": {},
   "outputs": [
    {
     "data": {
      "text/plain": [
       "Make\n",
       "SAFARI               1\n",
       "Safari Helicopter    1\n",
       "Name: count, dtype: int64"
      ]
     },
     "execution_count": 1568,
     "metadata": {},
     "output_type": "execute_result"
    }
   ],
   "source": [
    "df.loc[(df['Model'].isin(['Safari 400'])) & (df['Make'].isin(['Unknown'])), 'Make'] = 'Safari Helicopter'\n",
    "\n",
    "df[df['Make'].str.lower().str.startswith('saf')].value_counts('Make')"
   ]
  },
  {
   "cell_type": "code",
   "execution_count": 1569,
   "id": "ba726faa-1f96-419a-bae0-19fcceed74d2",
   "metadata": {},
   "outputs": [
    {
     "data": {
      "text/plain": [
       "Aircraft_Category\n",
       "Helicopter    2\n",
       "Name: count, dtype: int64"
      ]
     },
     "execution_count": 1569,
     "metadata": {},
     "output_type": "execute_result"
    }
   ],
   "source": [
    "df.loc[df['Make'].isin(['SAFARI']),'Make'] = 'Safari Helicopter'\n",
    "\n",
    "df[df['Make'] == 'Safari Helicopter'].value_counts('Aircraft_Category', dropna=False)"
   ]
  },
  {
   "cell_type": "code",
   "execution_count": 1570,
   "id": "79b0bd13-cfa6-44af-9a94-e402c382e45a",
   "metadata": {},
   "outputs": [
    {
     "data": {
      "text/plain": [
       "Make\n",
       "Unknown                      45\n",
       "Molino Oy                     6\n",
       "Intermountain Mfg. (imco)     6\n",
       "Howard Aircraft Corp.         6\n",
       "American Blimp                6\n",
       "Scheibe Flugzeugbau           5\n",
       "General Balloon               5\n",
       "Laister                       5\n",
       "Curtiss                       5\n",
       "Porterfield                   5\n",
       "Name: count, dtype: int64"
      ]
     },
     "execution_count": 1570,
     "metadata": {},
     "output_type": "execute_result"
    }
   ],
   "source": [
    "df[df['Aircraft_Category'].isna()]['Make'].value_counts().head(10)"
   ]
  },
  {
   "cell_type": "code",
   "execution_count": 1571,
   "id": "4911c183-7754-42ba-9fe1-2a258a1c08ba",
   "metadata": {},
   "outputs": [
    {
     "data": {
      "text/plain": [
       "Model\n",
       "PIK-20       2\n",
       "PIK-20B      2\n",
       "MU2-2B-25    1\n",
       "PIK 20       1\n",
       "PIK 20E      1\n",
       "Name: count, dtype: int64"
      ]
     },
     "execution_count": 1571,
     "metadata": {},
     "output_type": "execute_result"
    }
   ],
   "source": [
    "df[df['Make'] == 'Molino Oy'].value_counts('Model', dropna=False)"
   ]
  },
  {
   "cell_type": "code",
   "execution_count": 1572,
   "id": "cdd2f1f2-7d5a-4cf8-9959-59430eed7959",
   "metadata": {},
   "outputs": [
    {
     "data": {
      "text/plain": [
       "Aircraft_Category\n",
       "Airplane    1\n",
       "Name: count, dtype: int64"
      ]
     },
     "execution_count": 1572,
     "metadata": {},
     "output_type": "execute_result"
    }
   ],
   "source": [
    "df[df['Make'].isin(['Molino Oy']) & df['Model'].isin(['MU2-2B-25'])].value_counts('Aircraft_Category')"
   ]
  },
  {
   "cell_type": "code",
   "execution_count": 1573,
   "id": "dd4ce1f6-ba0f-4d64-93a3-d28bfc24ab78",
   "metadata": {},
   "outputs": [
    {
     "data": {
      "text/plain": [
       "Make\n",
       "Mitsubishi    11\n",
       "Molino Oy      1\n",
       "Name: count, dtype: int64"
      ]
     },
     "execution_count": 1573,
     "metadata": {},
     "output_type": "execute_result"
    }
   ],
   "source": [
    "df[df['Model'].str.lower().str.startswith('mu2')].value_counts('Make')"
   ]
  },
  {
   "cell_type": "markdown",
   "id": "35f257e9-5c08-4bf0-92a3-6d4e167c5b01",
   "metadata": {},
   "source": [
    "MU2-2B-25 is a model of a Mitsubishi airplane. Molino Oy seems to make gliders exclusively. So this entry was entered incorrectly and the make should be changed to Mitsubishi."
   ]
  },
  {
   "cell_type": "code",
   "execution_count": 1574,
   "id": "89b11b06-0069-4190-ba03-0343c737c03e",
   "metadata": {},
   "outputs": [
    {
     "data": {
      "text/plain": [
       "Model\n",
       "PIK-20     2\n",
       "PIK-20B    2\n",
       "PIK 20     1\n",
       "PIK 20E    1\n",
       "Name: count, dtype: int64"
      ]
     },
     "execution_count": 1574,
     "metadata": {},
     "output_type": "execute_result"
    }
   ],
   "source": [
    "df.loc[(df['Model'].isin(['MU2-2B-25'])) & (df['Make'].isin(['Molino Oy'])), 'Make'] = 'Mitsubishi'\n",
    "\n",
    "df[df['Make'] == 'Molino Oy'].value_counts('Model', dropna=False)"
   ]
  },
  {
   "cell_type": "code",
   "execution_count": 1575,
   "id": "e784fe84-986d-4bbc-b652-e29d2dcf4e51",
   "metadata": {},
   "outputs": [],
   "source": [
    "df.loc[df['Make'].isin(['Molino Oy']),'Aircraft_Category'] = 'Glider'"
   ]
  },
  {
   "cell_type": "code",
   "execution_count": 1576,
   "id": "2b164c60-69bf-4f31-be1d-2783e485779a",
   "metadata": {},
   "outputs": [
    {
     "data": {
      "text/plain": [
       "Make\n",
       "Unknown                      45\n",
       "Howard Aircraft Corp.         6\n",
       "American Blimp                6\n",
       "Intermountain Mfg. (imco)     6\n",
       "General Balloon               5\n",
       "Curtiss                       5\n",
       "Porterfield                   5\n",
       "Scheibe Flugzeugbau           5\n",
       "Laister                       5\n",
       "Sabreliner Corp.              4\n",
       "Name: count, dtype: int64"
      ]
     },
     "execution_count": 1576,
     "metadata": {},
     "output_type": "execute_result"
    }
   ],
   "source": [
    "df[df['Aircraft_Category'].isna()]['Make'].value_counts().head(10)"
   ]
  },
  {
   "cell_type": "code",
   "execution_count": 1577,
   "id": "279fbd24-69e7-41e1-bbc4-53e5b112254a",
   "metadata": {},
   "outputs": [
    {
     "data": {
      "text/plain": [
       "Model\n",
       "DGA-15P      9\n",
       "500          1\n",
       "GFA-15P      1\n",
       "TIERRA II    1\n",
       "Name: count, dtype: int64"
      ]
     },
     "execution_count": 1577,
     "metadata": {},
     "output_type": "execute_result"
    }
   ],
   "source": [
    "df[df['Make'] == 'Howard Aircraft Corp.'].value_counts('Model', dropna=False)"
   ]
  },
  {
   "cell_type": "markdown",
   "id": "d21367ef-cb1a-46c8-be3c-0e2cee107cfd",
   "metadata": {},
   "source": [
    "The 500 model is an airplane made by Howard Aero Incorporated, not Howard Aircraft. The Tierra II airplane is made by Teratorn Aircraft."
   ]
  },
  {
   "cell_type": "code",
   "execution_count": 1578,
   "id": "cb481430-557b-4ea1-89ea-94ceb5777345",
   "metadata": {},
   "outputs": [
    {
     "data": {
      "text/plain": [
       "Make\n",
       "Howard Aero Incorporated    1\n",
       "Name: count, dtype: int64"
      ]
     },
     "execution_count": 1578,
     "metadata": {},
     "output_type": "execute_result"
    }
   ],
   "source": [
    "df.loc[(df['Model'].isin(['500'])) & (df['Make'].isin(['Howard Aircraft Corp.'])), 'Make'] = 'Howard Aero Incorporated'\n",
    "df.loc[(df['Model'].isin(['TIERRA II'])) & (df['Make'].isin(['Howard Aircraft Corp.'])), 'Make'] = 'Teratorn Aircraft'\n",
    "\n",
    "df[df['Make'].str.lower().str.startswith('howard aero')].value_counts('Make')"
   ]
  },
  {
   "cell_type": "code",
   "execution_count": 1579,
   "id": "dedc3a8c-7733-41c6-b37e-b6afb0d37784",
   "metadata": {},
   "outputs": [
    {
     "data": {
      "text/plain": [
       "Make\n",
       "Howard Aircraft Corp.       10\n",
       "HOWARD AIRCRAFT              3\n",
       "Howard                       2\n",
       "Howard Aircraft              2\n",
       "HOWARD                       1\n",
       "HOWARD M. SHEPHERD           1\n",
       "Howard Aero Incorporated     1\n",
       "Howard Steven C              1\n",
       "Howard William C             1\n",
       "Name: count, dtype: int64"
      ]
     },
     "execution_count": 1579,
     "metadata": {},
     "output_type": "execute_result"
    }
   ],
   "source": [
    "df[df['Make'].str.lower().str.startswith('howard')].value_counts('Make')"
   ]
  },
  {
   "cell_type": "code",
   "execution_count": 1580,
   "id": "b9613482-8882-48e9-bba5-14be7a2fd067",
   "metadata": {},
   "outputs": [
    {
     "data": {
      "text/plain": [
       "Make\n",
       "Howard Aircraft             15\n",
       "Howard                       2\n",
       "HOWARD                       1\n",
       "HOWARD M. SHEPHERD           1\n",
       "Howard Aero Incorporated     1\n",
       "Howard Steven C              1\n",
       "Howard William C             1\n",
       "Name: count, dtype: int64"
      ]
     },
     "execution_count": 1580,
     "metadata": {},
     "output_type": "execute_result"
    }
   ],
   "source": [
    "df.loc[df['Make'].isin(['Howard Aircraft Corp.', 'HOWARD AIRCRAFT']),'Make'] = 'Howard Aircraft'\n",
    "\n",
    "df[df['Make'].str.lower().str.startswith('howard')].value_counts('Make')"
   ]
  },
  {
   "cell_type": "code",
   "execution_count": 1581,
   "id": "56f52012-fad2-4e42-bb1e-fda92bb0a891",
   "metadata": {},
   "outputs": [
    {
     "data": {
      "text/plain": [
       "Aircraft_Category\n",
       "NaN         8\n",
       "Airplane    7\n",
       "Name: count, dtype: int64"
      ]
     },
     "execution_count": 1581,
     "metadata": {},
     "output_type": "execute_result"
    }
   ],
   "source": [
    "df[df['Make'] == 'Howard Aircraft'].value_counts('Aircraft_Category', dropna=False)"
   ]
  },
  {
   "cell_type": "code",
   "execution_count": 1582,
   "id": "0ddce43b-12da-4a66-b30f-c164e75da1d2",
   "metadata": {},
   "outputs": [
    {
     "data": {
      "text/plain": [
       "Make\n",
       "Unknown                      45\n",
       "American Blimp                6\n",
       "Intermountain Mfg. (imco)     6\n",
       "General Balloon               5\n",
       "Porterfield                   5\n",
       "Laister                       5\n",
       "Curtiss                       5\n",
       "Scheibe Flugzeugbau           5\n",
       "Colonial                      4\n",
       "Artic Aircraft Corp.          4\n",
       "Name: count, dtype: int64"
      ]
     },
     "execution_count": 1582,
     "metadata": {},
     "output_type": "execute_result"
    }
   ],
   "source": [
    "df.loc[df['Make'].isin(['Howard Aircraft']),'Aircraft_Category'] = 'Airplane'\n",
    "\n",
    "df[df['Aircraft_Category'].isna()]['Make'].value_counts().head(10)"
   ]
  },
  {
   "cell_type": "markdown",
   "id": "72ea9377-e685-41a7-b8f8-175dbf0c92e8",
   "metadata": {},
   "source": [
    "We can fix some of these empty categories through web search"
   ]
  },
  {
   "cell_type": "code",
   "execution_count": 1583,
   "id": "f0560f91-87ed-4572-8432-afb5f453825b",
   "metadata": {},
   "outputs": [
    {
     "data": {
      "text/plain": [
       "Aircraft_Category\n",
       "Airplane             73269\n",
       "Helicopter            7708\n",
       "Glider                1273\n",
       "Balloon                667\n",
       "NaN                    611\n",
       "Gyrocraft              209\n",
       "Weight-Shift           160\n",
       "Ultralight             110\n",
       "Powered Parachute       90\n",
       "Blimp                   10\n",
       "WSFT                     9\n",
       "Unknown                  5\n",
       "Powered-Lift             2\n",
       "UNK                      2\n",
       "Rocket                   1\n",
       "ULTR                     1\n",
       "Name: count, dtype: int64"
      ]
     },
     "execution_count": 1583,
     "metadata": {},
     "output_type": "execute_result"
    }
   ],
   "source": [
    "df.loc[df['Make'].isin(['American Blimp']),'Aircraft_Category'] = 'Blimp'\n",
    "df.loc[df['Make'].isin(['General Balloon']),'Aircraft_Category'] = 'Balloon'\n",
    "df.loc[df['Make'].isin(['Laister', 'Scheibe Flugzeugbau']),'Aircraft_Category'] = 'Glider'\n",
    "df.loc[df['Make'].isin(['Intermountain Mfg. (imco)', 'Porterfield', 'Colonial', 'Artic Aircraft Corp.', 'Curtiss']),'Aircraft_Category'] = 'Airplane'\n",
    "\n",
    "df['Aircraft_Category'].value_counts(dropna=False)"
   ]
  },
  {
   "cell_type": "markdown",
   "id": "35a554a7-66e8-431b-bf25-98eddf5db6dc",
   "metadata": {},
   "source": [
    "At this point, the empty values in the category column have been reduced from about 56,000 to about 600. How does the current dataset look?"
   ]
  },
  {
   "cell_type": "code",
   "execution_count": 1584,
   "id": "c4bac84b-551d-4d1d-a29c-1ed83e911dc8",
   "metadata": {},
   "outputs": [],
   "source": [
    "df.loc[df['Aircraft_Category'].isin(['UNK']), 'Aircraft_Category'] = 'Unknown'\n",
    "df.loc[df['Aircraft_Category'].isin(['ULTR']), 'Aircraft_Category'] = 'Ultralight'\n",
    "df.loc[df['Aircraft_Category'].isin(['WSFT']), 'Aircraft_Category'] = 'Weight-Shift'"
   ]
  },
  {
   "cell_type": "code",
   "execution_count": 1585,
   "id": "0927fcbc-0582-40bf-a5a7-253d00abb0ac",
   "metadata": {},
   "outputs": [],
   "source": [
    "df['Aircraft_Category'] = df['Aircraft_Category'].fillna('Unknown')"
   ]
  },
  {
   "cell_type": "code",
   "execution_count": 1586,
   "id": "341b8377-c37b-449f-99a2-27dde193041e",
   "metadata": {},
   "outputs": [
    {
     "data": {
      "text/plain": [
       "Aircraft_Category\n",
       "Airplane             73269\n",
       "Helicopter            7708\n",
       "Glider                1273\n",
       "Balloon                667\n",
       "Unknown                618\n",
       "Gyrocraft              209\n",
       "Weight-Shift           169\n",
       "Ultralight             111\n",
       "Powered Parachute       90\n",
       "Blimp                   10\n",
       "Powered-Lift             2\n",
       "Rocket                   1\n",
       "Name: count, dtype: int64"
      ]
     },
     "execution_count": 1586,
     "metadata": {},
     "output_type": "execute_result"
    }
   ],
   "source": [
    "df['Aircraft_Category'].value_counts(dropna=False)"
   ]
  },
  {
   "cell_type": "code",
   "execution_count": 1587,
   "id": "593fd43e-1dd1-4bd7-9912-288d7637edd5",
   "metadata": {},
   "outputs": [
    {
     "name": "stdout",
     "output_type": "stream",
     "text": [
      "<class 'pandas.core.frame.DataFrame'>\n",
      "Index: 84127 entries, 0 to 88888\n",
      "Data columns (total 21 columns):\n",
      " #   Column                  Non-Null Count  Dtype  \n",
      "---  ------                  --------------  -----  \n",
      " 0   Event_Id                84127 non-null  object \n",
      " 1   Investigation_Type      84127 non-null  object \n",
      " 2   Accident_Number         84127 non-null  object \n",
      " 3   Event_Date              84127 non-null  object \n",
      " 4   Location                84127 non-null  object \n",
      " 5   Country                 84127 non-null  object \n",
      " 6   Aircraft_damage         84127 non-null  object \n",
      " 7   Aircraft_Category       84127 non-null  object \n",
      " 8   Make                    84127 non-null  object \n",
      " 9   Model                   84127 non-null  object \n",
      " 10  Amateur_Built           84127 non-null  object \n",
      " 11  Number_of_Engines       84127 non-null  object \n",
      " 12  Engine_Type             84127 non-null  object \n",
      " 13  Purpose_of_flight       84127 non-null  object \n",
      " 14  Total_Fatal_Injuries    84127 non-null  float64\n",
      " 15  Total_Serious_Injuries  84127 non-null  float64\n",
      " 16  Total_Minor_Injuries    84127 non-null  float64\n",
      " 17  Total_Uninjured         84127 non-null  float64\n",
      " 18  Weather_Condition       84127 non-null  object \n",
      " 19  Broad_phase_of_flight   84127 non-null  object \n",
      " 20  Report_Status           84127 non-null  object \n",
      "dtypes: float64(4), object(17)\n",
      "memory usage: 14.1+ MB\n"
     ]
    }
   ],
   "source": [
    "df.info()"
   ]
  },
  {
   "cell_type": "markdown",
   "id": "bdb05f92-462f-4266-a43e-c54a4607dbb9",
   "metadata": {
    "panel-layout": {
     "height": 60.59375,
     "visible": true,
     "width": 100
    }
   },
   "source": [
    "# Exploratory Data Analysis"
   ]
  },
  {
   "cell_type": "code",
   "execution_count": 1588,
   "id": "e2508f9c-c3c8-43ac-bd5d-57421cf3d43b",
   "metadata": {},
   "outputs": [
    {
     "data": {
      "text/plain": [
       "Aircraft_Category\n",
       "Airplane             0.870933\n",
       "Helicopter           0.091623\n",
       "Glider               0.015132\n",
       "Balloon              0.007928\n",
       "Unknown              0.007346\n",
       "Gyrocraft            0.002484\n",
       "Weight-Shift         0.002009\n",
       "Ultralight           0.001319\n",
       "Powered Parachute    0.001070\n",
       "Blimp                0.000119\n",
       "Powered-Lift         0.000024\n",
       "Rocket               0.000012\n",
       "Name: proportion, dtype: float64"
      ]
     },
     "execution_count": 1588,
     "metadata": {},
     "output_type": "execute_result"
    }
   ],
   "source": [
    "# Percentages for Aircraft_Category\n",
    "df['Aircraft_Category'].value_counts(normalize=True)"
   ]
  },
  {
   "cell_type": "markdown",
   "id": "2b31c7c3-964e-4252-8cf7-cdd4754d492d",
   "metadata": {},
   "source": [
    "So our dataset categories are about 87% airplane, almost 10% helicopter, and the rest (including 'Unknown') cover the remaining few percent.\n",
    "Let's compare the airplanes and helicopters to the damage stats."
   ]
  },
  {
   "cell_type": "code",
   "execution_count": 1589,
   "id": "c3d3ab8b-7c27-4555-b6a2-a284aab5cf5c",
   "metadata": {},
   "outputs": [
    {
     "name": "stdout",
     "output_type": "stream",
     "text": [
      "The percentage of substantial damage in all airplane incidents is 72.8%\n",
      "The percentage of substantial damage in all helicopter incidents is 73.2%\n",
      "\n",
      "The percentage of minor damage in all airplane incidents is 3.2%\n",
      "The percentage of minor damage in all helicopter incidents is 1.6%\n",
      "\n",
      "The percentage of destroyed in all airplane incidents is 20.3%\n",
      "The percentage of destroyed in all helicopter incidents is 22.7%\n"
     ]
    }
   ],
   "source": [
    "incidents_airplane = df[df['Aircraft_Category'] == 'Airplane']\n",
    "incidents_helicopter = df[df['Aircraft_Category'] == 'Helicopter']\n",
    "\n",
    "substantial_damage_airplane = incidents_airplane[incidents_airplane['Aircraft_damage'] == 'Substantial'].shape[0]\n",
    "minor_damage_airplane = incidents_airplane[incidents_airplane['Aircraft_damage'] == 'Minor'].shape[0]\n",
    "destroyed_airplane = incidents_airplane[incidents_airplane['Aircraft_damage'] == 'Destroyed'].shape[0]\n",
    "\n",
    "substantial_damage_percent_airplane = substantial_damage_airplane / incidents_airplane.shape[0]*100\n",
    "minor_damage_percent_airplane = minor_damage_airplane / incidents_airplane.shape[0]*100\n",
    "destroyed_percent_airplane = destroyed_airplane / incidents_airplane.shape[0]*100\n",
    "\n",
    "substantial_damage_helicopter = incidents_helicopter[incidents_helicopter['Aircraft_damage'] == 'Substantial'].shape[0]\n",
    "minor_damage_helicopter = incidents_helicopter[incidents_helicopter['Aircraft_damage'] == 'Minor'].shape[0]\n",
    "destroyed_helicopter = incidents_helicopter[incidents_helicopter['Aircraft_damage'] == 'Destroyed'].shape[0]\n",
    "\n",
    "substantial_damage_percent_helicopter = substantial_damage_helicopter / incidents_helicopter.shape[0]*100\n",
    "minor_damage_percent_helicopter = minor_damage_helicopter / incidents_helicopter.shape[0]*100\n",
    "destroyed_percent_helicopter = destroyed_helicopter / incidents_helicopter.shape[0]*100\n",
    "\n",
    "print(f'The percentage of substantial damage in all airplane incidents is {substantial_damage_percent_airplane:.1f}%')\n",
    "print(f'The percentage of substantial damage in all helicopter incidents is {substantial_damage_percent_helicopter:.1f}%')\n",
    "print()\n",
    "print(f'The percentage of minor damage in all airplane incidents is {minor_damage_percent_airplane:.1f}%')\n",
    "print(f'The percentage of minor damage in all helicopter incidents is {minor_damage_percent_helicopter:.1f}%')\n",
    "print()\n",
    "print(f'The percentage of destroyed in all airplane incidents is {destroyed_percent_airplane:.1f}%')\n",
    "print(f'The percentage of destroyed in all helicopter incidents is {destroyed_percent_helicopter:.1f}%')"
   ]
  },
  {
   "cell_type": "markdown",
   "id": "fd9a2753-3365-4df9-82a8-840291e30e43",
   "metadata": {},
   "source": [
    "The damage level percentages are very similar for planes and helicopters."
   ]
  },
  {
   "cell_type": "markdown",
   "id": "268c4ed3-2465-4650-840c-74a5cd320a5e",
   "metadata": {},
   "source": [
    "For the business problem, I need to identify the best makes and models for my company to consider investing in. I've determined that my company is interested in single-engine airplanes and perhaps even helicopters for use in a short-range corporate transporation scenario.\n",
    "\n",
    "So first I need to identify the single-engine aircraft in the dataset and divide those between planes and helicopters."
   ]
  },
  {
   "cell_type": "code",
   "execution_count": 1590,
   "id": "88f77c19-ff23-4e90-882c-c1f11be9a1d4",
   "metadata": {},
   "outputs": [
    {
     "name": "stdout",
     "output_type": "stream",
     "text": [
      "Aircraft_Category\n",
      "Airplane             57806\n",
      "Helicopter            6346\n",
      "Unknown                374\n",
      "Gyrocraft              204\n",
      "Weight-Shift           161\n",
      "Glider                 148\n",
      "Ultralight             103\n",
      "Powered Parachute       86\n",
      "Balloon                 15\n",
      "Blimp                    2\n",
      "Powered-Lift             1\n",
      "Rocket                   1\n",
      "Name: count, dtype: int64\n",
      "\n",
      "Aircraft_Category\n",
      "Airplane    57806\n",
      "Name: count, dtype: int64\n",
      "\n",
      "Aircraft_Category\n",
      "Helicopter    6346\n",
      "Name: count, dtype: int64\n"
     ]
    }
   ],
   "source": [
    "single_engine_craft = df[df['Number_of_Engines'] == 1.0]\n",
    "\n",
    "single_engine_planes = single_engine_craft[single_engine_craft['Aircraft_Category'] == 'Airplane']\n",
    "single_engine_helicopters = single_engine_craft[single_engine_craft['Aircraft_Category'] == 'Helicopter']\n",
    "\n",
    "print(single_engine_craft['Aircraft_Category'].value_counts())\n",
    "print()\n",
    "print(single_engine_planes['Aircraft_Category'].value_counts())\n",
    "print()\n",
    "print(single_engine_helicopters['Aircraft_Category'].value_counts())"
   ]
  },
  {
   "cell_type": "markdown",
   "id": "7684807a-01ca-4394-b45b-21c3e8533dd8",
   "metadata": {},
   "source": [
    "So this tells me I have 57806 plane accidents (single_engine_planes subset) and 6346 helicopter accidents (single_engine_helicopters subset) to work with. But not all of these planes and helicopters would be suitable to use as corporate transportation since a lot of them are going to be small, personal aircraft, not business aircraft. So some further narrowing is called for to identify single-engine business aircraft."
   ]
  },
  {
   "cell_type": "code",
   "execution_count": 1591,
   "id": "0726fb89-2667-4ce8-9051-d1a2ebb40f93",
   "metadata": {},
   "outputs": [
    {
     "name": "stdout",
     "output_type": "stream",
     "text": [
      "Make\n",
      "Cessna           23631\n",
      "Piper            12174\n",
      "Beech             3115\n",
      "Grumman           1503\n",
      "Mooney            1339\n",
      "                 ...  \n",
      "NAGEL                1\n",
      "Cox Clyde H          1\n",
      "GIER TRAVIS H        1\n",
      "LAIRD                1\n",
      "ORLICAN S R O        1\n",
      "Name: count, Length: 3737, dtype: int64\n"
     ]
    }
   ],
   "source": [
    "# Look at the makes of the single-engine planes subset\n",
    "print(single_engine_planes['Make'].value_counts())"
   ]
  },
  {
   "cell_type": "markdown",
   "id": "528d18d3-6ab6-496f-8e25-a79def431c70",
   "metadata": {},
   "source": [
    "Cessna currently makes a business single-engine prop plane in the Caravan series, known as the 208 model"
   ]
  },
  {
   "cell_type": "code",
   "execution_count": 1592,
   "id": "2788c7e7-09eb-47b9-b187-65e2b05eca11",
   "metadata": {},
   "outputs": [
    {
     "name": "stdout",
     "output_type": "stream",
     "text": [
      "Model\n",
      "208B           136\n",
      "208             78\n",
      "208A             8\n",
      "208 Caravan      1\n",
      "Name: count, dtype: int64\n",
      "Model\n",
      "208B           187\n",
      "208            103\n",
      "208A             8\n",
      "208 Caravan      1\n",
      "Name: count, dtype: int64\n"
     ]
    }
   ],
   "source": [
    "cessna_planes = single_engine_craft[single_engine_craft['Make'] == 'Cessna']\n",
    "\n",
    "# show the models of cessna_planes that begin with 208\n",
    "print(cessna_planes[cessna_planes['Model'].str.startswith('208')]['Model'].value_counts())\n",
    "print(incidents_airplane[incidents_airplane['Model'].str.startswith('208')]['Model'].value_counts())"
   ]
  },
  {
   "cell_type": "markdown",
   "id": "f201a4c2-1c7e-4100-b100-abc98fb2d3eb",
   "metadata": {},
   "source": [
    "I see here that the Cessna 208 Models are not all categorized correctly in either the engine number column or the make column."
   ]
  },
  {
   "cell_type": "code",
   "execution_count": 1593,
   "id": "3536ebbc-e1d6-49f2-a53d-febe654e2cd6",
   "metadata": {},
   "outputs": [
    {
     "data": {
      "text/plain": [
       "Number_of_Engines\n",
       "1.0        228\n",
       "Unknown     75\n",
       "2.0          3\n",
       "Name: count, dtype: int64"
      ]
     },
     "execution_count": 1593,
     "metadata": {},
     "output_type": "execute_result"
    }
   ],
   "source": [
    "df[df['Model'].str.contains('208')].value_counts('Number_of_Engines', dropna=False)"
   ]
  },
  {
   "cell_type": "markdown",
   "id": "089e7e56-f88e-4b5f-b903-6fc15eb9deb8",
   "metadata": {},
   "source": [
    "Since we know that the 208 models are single-engine planes, I can correct this here, adding more useful planes to my Cessna subset"
   ]
  },
  {
   "cell_type": "code",
   "execution_count": 1594,
   "id": "d6f38745-8471-41fa-b74c-f278d7ad5e85",
   "metadata": {},
   "outputs": [
    {
     "data": {
      "text/plain": [
       "Model\n",
       "208B             187\n",
       "208              103\n",
       "208A               8\n",
       "C208B              2\n",
       "CE-208             2\n",
       "208 Caravan        1\n",
       "C-208 Caravan      1\n",
       "C208               1\n",
       "C208B Caravan      1\n",
       "Name: count, dtype: int64"
      ]
     },
     "execution_count": 1594,
     "metadata": {},
     "output_type": "execute_result"
    }
   ],
   "source": [
    "df[df['Model'].str.contains('208')].value_counts('Model', dropna=False)"
   ]
  },
  {
   "cell_type": "code",
   "execution_count": 1596,
   "id": "ba7d899f-d740-400a-b7d3-67cf315552ef",
   "metadata": {},
   "outputs": [
    {
     "data": {
      "text/plain": [
       "Number_of_Engines\n",
       "1.0    306\n",
       "Name: count, dtype: int64"
      ]
     },
     "execution_count": 1596,
     "metadata": {},
     "output_type": "execute_result"
    }
   ],
   "source": [
    "df.loc[df['Model'].str.contains('208'), 'Number_of_Engines'] = 1.0\n",
    "\n",
    "df[df['Model'].str.contains('208')].value_counts('Number_of_Engines', dropna=False)"
   ]
  },
  {
   "cell_type": "code",
   "execution_count": 1597,
   "id": "00c5f724-6c3d-43ed-b958-7d76423fc729",
   "metadata": {},
   "outputs": [
    {
     "data": {
      "text/plain": [
       "Make\n",
       "Cessna                  303\n",
       "TEXTRON AVIATION INC      3\n",
       "Name: count, dtype: int64"
      ]
     },
     "execution_count": 1597,
     "metadata": {},
     "output_type": "execute_result"
    }
   ],
   "source": [
    "df[df['Model'].str.contains('208')].value_counts('Make', dropna=False)"
   ]
  },
  {
   "cell_type": "code",
   "execution_count": 1599,
   "id": "b8601c08-94ae-4522-bcd7-971319aacccf",
   "metadata": {},
   "outputs": [
    {
     "name": "stdout",
     "output_type": "stream",
     "text": [
      "Model\n",
      "208B             187\n",
      "208              103\n",
      "208A               8\n",
      "CE-208             2\n",
      "C208B              2\n",
      "C-208 Caravan      1\n",
      "C208               1\n",
      "208 Caravan        1\n",
      "C208B Caravan      1\n",
      "Name: count, dtype: int64\n"
     ]
    }
   ],
   "source": [
    "df.loc[df['Make'].isin(['TEXTRON AVIATION INC']),'Make'] = 'Cessna'\n",
    "\n",
    "#refresh the single_engine and cessna subsets\n",
    "single_engine_craft = df[df['Number_of_Engines'] == 1.0]\n",
    "cessna_planes = single_engine_craft[single_engine_craft['Make'] == 'Cessna']\n",
    "\n",
    "# show the models of cessna_planes that contain 208\n",
    "print(cessna_planes[cessna_planes['Model'].str.contains('208')]['Model'].value_counts())"
   ]
  },
  {
   "cell_type": "markdown",
   "id": "df1f5383-717d-4c41-94fc-b759abdfdfdf",
   "metadata": {},
   "source": []
  },
  {
   "cell_type": "code",
   "execution_count": null,
   "id": "05a00cf7-a3ef-4df0-97ce-6c4de75c80e2",
   "metadata": {},
   "outputs": [],
   "source": []
  },
  {
   "cell_type": "markdown",
   "id": "5c3cb26f-3f96-4e7f-a63b-ed373a233537",
   "metadata": {},
   "source": [
    "Piper currently makes a business single-engine plane in the M series (M350, M500, M700), also known as PA-46 in our dataset."
   ]
  },
  {
   "cell_type": "code",
   "execution_count": 1601,
   "id": "abaaee68-46c4-4d91-966e-2153443767ee",
   "metadata": {},
   "outputs": [
    {
     "name": "stdout",
     "output_type": "stream",
     "text": [
      "Model\n",
      "PA-46-310P       79\n",
      "PA-46-350P       65\n",
      "PA-46-500TP      18\n",
      "PA-46            15\n",
      "PA-46-310         2\n",
      "PA-46-350         2\n",
      "PA-46T            2\n",
      "PA-46-600TP       2\n",
      "PA-46-310-P       1\n",
      "PA-46P-350        1\n",
      "PA-46-301P        1\n",
      "PA-46/Jetprop     1\n",
      "PA-46T-350P       1\n",
      "PA-46-31P         1\n",
      "Name: count, dtype: int64\n"
     ]
    }
   ],
   "source": [
    "piper_planes = single_engine_craft[single_engine_craft['Make'] == 'Piper']\n",
    "\n",
    "print(piper_planes[piper_planes['Model'].str.contains('PA-46')]['Model'].value_counts())"
   ]
  },
  {
   "cell_type": "code",
   "execution_count": 1603,
   "id": "e98bf9ba-2b75-4f33-81fb-3dfa79d42ea3",
   "metadata": {},
   "outputs": [
    {
     "name": "stdout",
     "output_type": "stream",
     "text": [
      "Model\n",
      "PA-46-310P       84\n",
      "PA-46-350P       75\n",
      "PA-46-500TP      23\n",
      "PA-46            19\n",
      "PA-46-350         4\n",
      "PA-46T            3\n",
      "PA-46-310         2\n",
      "PA-46-600TP       2\n",
      "PA-46-310-P       1\n",
      "PA-46P-350        1\n",
      "PA-46-301P        1\n",
      "PA-46/Jetprop     1\n",
      "PA-46T-350P       1\n",
      "PA-46-500T        1\n",
      "PA-46-31P         1\n",
      "Name: count, dtype: int64\n"
     ]
    }
   ],
   "source": [
    "# Let's make sure we have all the Piper PA-46 models in the piper subset\n",
    "print(df[df['Model'].str.contains('PA-46')]['Model'].value_counts())"
   ]
  },
  {
   "cell_type": "code",
   "execution_count": 1604,
   "id": "7dfc75c0-6c2c-4bab-a8d2-56f4204a72b9",
   "metadata": {},
   "outputs": [
    {
     "data": {
      "text/plain": [
       "Number_of_Engines\n",
       "1.0        196\n",
       "Unknown     22\n",
       "0.0          1\n",
       "Name: count, dtype: int64"
      ]
     },
     "execution_count": 1604,
     "metadata": {},
     "output_type": "execute_result"
    }
   ],
   "source": [
    "# Is it the engine number that was entered incorrectly?\n",
    "df[df['Model'].str.startswith('PA-46')].value_counts('Number_of_Engines', dropna=False)"
   ]
  },
  {
   "cell_type": "code",
   "execution_count": 1605,
   "id": "8bdcd1f4-ee44-47cc-b99e-d9daa4835f83",
   "metadata": {},
   "outputs": [
    {
     "data": {
      "text/plain": [
       "Make\n",
       "Piper                       214\n",
       "NEW PIPER AIRCRAFT INC        3\n",
       "New Piper                     1\n",
       "New Piper Aircraft, Inc.      1\n",
       "Name: count, dtype: int64"
      ]
     },
     "execution_count": 1605,
     "metadata": {},
     "output_type": "execute_result"
    }
   ],
   "source": [
    "# or perhaps the make for the PA-46 is wrong\n",
    "df[df['Model'].str.startswith('PA-46')].value_counts('Make', dropna=False)"
   ]
  },
  {
   "cell_type": "code",
   "execution_count": 1606,
   "id": "a4de8a1c-b5db-4864-8c17-d3cac1c28a45",
   "metadata": {},
   "outputs": [
    {
     "name": "stdout",
     "output_type": "stream",
     "text": [
      "Model\n",
      "PA-46-310P       84\n",
      "PA-46-350P       75\n",
      "PA-46-500TP      23\n",
      "PA-46            19\n",
      "PA-46-350         4\n",
      "PA-46T            3\n",
      "PA-46-310         2\n",
      "PA-46-600TP       2\n",
      "PA-46-310-P       1\n",
      "PA-46P-350        1\n",
      "PA-46-301P        1\n",
      "PA-46/Jetprop     1\n",
      "PA-46T-350P       1\n",
      "PA-46-500T        1\n",
      "PA-46-31P         1\n",
      "Name: count, dtype: int64\n"
     ]
    }
   ],
   "source": [
    "# Correct the engine numbers for PA-46 models and combine the piper makes into 'Piper'\n",
    "df.loc[df['Model'].str.startswith('PA-46'), 'Number_of_Engines'] = 1.0\n",
    "df.loc[df['Make'].isin(['NEW PIPER AIRCRAFT INC', 'New Piper', 'New Piper Aircraft, Inc.']),'Make'] = 'Piper'\n",
    "\n",
    "#refresh the single_engine and piper subsets\n",
    "single_engine_craft = df[df['Number_of_Engines'] == 1.0]\n",
    "piper_planes = single_engine_craft[single_engine_craft['Make'] == 'Piper']\n",
    "\n",
    "print(piper_planes[piper_planes['Model'].str.startswith('PA-46')]['Model'].value_counts())"
   ]
  },
  {
   "cell_type": "code",
   "execution_count": 1064,
   "id": "6b784a48-15ff-4680-a1c5-a547a95fe1db",
   "metadata": {},
   "outputs": [
    {
     "name": "stdout",
     "output_type": "stream",
     "text": [
      "Model\n",
      "A36             399\n",
      "C23             191\n",
      "V35B            154\n",
      "35              134\n",
      "F33A            109\n",
      "               ... \n",
      "E 33              1\n",
      "BE19              1\n",
      "P-35 BONANZA      1\n",
      "BE-35M            1\n",
      "Sierra            1\n",
      "Name: count, Length: 256, dtype: int64\n"
     ]
    }
   ],
   "source": [
    "beech_planes = single_engine_craft[single_engine_craft['Make'] == 'Beech']\n",
    "\n",
    "print(beech_planes['Model'].value_counts())"
   ]
  },
  {
   "cell_type": "markdown",
   "id": "6f398c81-b0fa-49b8-ba1b-8a5aacfb9d8c",
   "metadata": {
    "panel-layout": {
     "height": 60.59375,
     "visible": true,
     "width": 100
    }
   },
   "source": [
    "# Conclusions"
   ]
  },
  {
   "cell_type": "markdown",
   "id": "5bd4a73d-9c08-443c-8162-e98029d1ebe6",
   "metadata": {
    "panel-layout": {
     "height": 10,
     "visible": true,
     "width": 100
    }
   },
   "source": []
  },
  {
   "cell_type": "markdown",
   "id": "b2e7e33f-c9ab-4b3d-a53f-91633d800480",
   "metadata": {
    "panel-layout": {
     "height": 50.796875,
     "visible": true,
     "width": 100
    }
   },
   "source": [
    "## Limitations"
   ]
  },
  {
   "cell_type": "markdown",
   "id": "c403951d-f4f1-4fac-989e-4175bfe4d8cf",
   "metadata": {
    "panel-layout": {
     "height": 10,
     "visible": true,
     "width": 100
    }
   },
   "source": []
  },
  {
   "cell_type": "markdown",
   "id": "0299e5c9-92e6-4d10-8a4b-644e6e999b83",
   "metadata": {
    "panel-layout": {
     "height": 50.796875,
     "visible": true,
     "width": 100
    }
   },
   "source": [
    "## Recommendations"
   ]
  },
  {
   "cell_type": "markdown",
   "id": "0e7e0756-37be-4435-aa79-e928859520c3",
   "metadata": {
    "panel-layout": {
     "height": 10,
     "visible": true,
     "width": 100
    }
   },
   "source": []
  },
  {
   "cell_type": "markdown",
   "id": "47d7193a-00d4-48a5-abbf-11b260205ec7",
   "metadata": {
    "panel-layout": {
     "height": 50.796875,
     "visible": true,
     "width": 100
    }
   },
   "source": [
    "## Next Steps"
   ]
  },
  {
   "cell_type": "code",
   "execution_count": null,
   "id": "baa17dbc-6135-403d-95cd-1532714ac0be",
   "metadata": {},
   "outputs": [],
   "source": []
  }
 ],
 "metadata": {
  "kernelspec": {
   "display_name": "Python 3 (ipykernel)",
   "language": "python",
   "name": "python3"
  },
  "language_info": {
   "codemirror_mode": {
    "name": "ipython",
    "version": 3
   },
   "file_extension": ".py",
   "mimetype": "text/x-python",
   "name": "python",
   "nbconvert_exporter": "python",
   "pygments_lexer": "ipython3",
   "version": "3.12.7"
  },
  "panel-cell-order": [
   "544715bc-29bf-4a98-979a-fdf04e4ffd7a",
   "4d6ae9b7-2f5a-4e4e-9300-1bc438a94f98",
   "552a1089-504e-45a3-924e-53a4795fbc6d",
   "322e262d-8ebf-43f5-9f19-9d620595506e",
   "5d21adb1-10c9-4e72-921b-f8328205eb6b",
   "819fca67-cd0c-4042-9008-c9bcaa0a1969",
   "bdb05f92-462f-4266-a43e-c54a4607dbb9",
   "1a5470ee-8947-4850-9eaa-a998e616d37c",
   "6f398c81-b0fa-49b8-ba1b-8a5aacfb9d8c",
   "5bd4a73d-9c08-443c-8162-e98029d1ebe6",
   "b2e7e33f-c9ab-4b3d-a53f-91633d800480",
   "c403951d-f4f1-4fac-989e-4175bfe4d8cf",
   "0299e5c9-92e6-4d10-8a4b-644e6e999b83",
   "0e7e0756-37be-4435-aa79-e928859520c3",
   "47d7193a-00d4-48a5-abbf-11b260205ec7"
  ]
 },
 "nbformat": 4,
 "nbformat_minor": 5
}
